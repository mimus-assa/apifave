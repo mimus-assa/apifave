{
 "cells": [
  {
   "cell_type": "code",
   "execution_count": 1,
   "metadata": {},
   "outputs": [
    {
     "name": "stderr",
     "output_type": "stream",
     "text": [
      "Copying files: 44199 files [00:04, 9089.92 files/s]\n"
     ]
    }
   ],
   "source": [
    "import splitfolders\n",
    "\n",
    "samples_o = \"/home/mimus/apiais/data/images/ANPR/training/letters_gray/\"\n",
    "\n",
    "fit_o = \"/home/mimus/apiais/data/images/ANPR/training/letters_fitall/\"\n",
    "\n",
    "splitfolders.ratio(samples_o, output=fit_o, seed=1337, ratio=(.65, .15, .2))"
   ]
  },
  {
   "cell_type": "code",
   "execution_count": 3,
   "metadata": {},
   "outputs": [
    {
     "name": "stderr",
     "output_type": "stream",
     "text": [
      "/home/mimus/anaconda3/envs/tf2/lib/python3.6/site-packages/ipykernel_launcher.py:58: UserWarning: /home/mimus/apiais/data/images/ANPR/training/letters_fitall/train/Q/augmented_image_658.jpg is a low contrast image\n",
      "/home/mimus/anaconda3/envs/tf2/lib/python3.6/site-packages/ipykernel_launcher.py:58: UserWarning: /home/mimus/apiais/data/images/ANPR/training/letters_fitall/train/Q/augmented_image_1024.jpg is a low contrast image\n",
      "/home/mimus/anaconda3/envs/tf2/lib/python3.6/site-packages/ipykernel_launcher.py:58: UserWarning: /home/mimus/apiais/data/images/ANPR/training/letters_fitall/train/Q/augmented_image_1158.jpg is a low contrast image\n",
      "/home/mimus/anaconda3/envs/tf2/lib/python3.6/site-packages/ipykernel_launcher.py:58: UserWarning: /home/mimus/apiais/data/images/ANPR/training/letters_fitall/train/Q/augmented_image_1195.jpg is a low contrast image\n",
      "/home/mimus/anaconda3/envs/tf2/lib/python3.6/site-packages/ipykernel_launcher.py:58: UserWarning: /home/mimus/apiais/data/images/ANPR/training/letters_fitall/train/Q/augmented_image_1394.jpg is a low contrast image\n",
      "/home/mimus/anaconda3/envs/tf2/lib/python3.6/site-packages/ipykernel_launcher.py:58: UserWarning: /home/mimus/apiais/data/images/ANPR/training/letters_fitall/train/Q/augmented_image_1412.jpg is a low contrast image\n",
      "/home/mimus/anaconda3/envs/tf2/lib/python3.6/site-packages/ipykernel_launcher.py:58: UserWarning: /home/mimus/apiais/data/images/ANPR/training/letters_fitall/train/Q/augmented_image_1550.jpg is a low contrast image\n",
      "/home/mimus/anaconda3/envs/tf2/lib/python3.6/site-packages/ipykernel_launcher.py:58: UserWarning: /home/mimus/apiais/data/images/ANPR/training/letters_fitall/train/Q/augmented_image_1614.jpg is a low contrast image\n",
      "/home/mimus/anaconda3/envs/tf2/lib/python3.6/site-packages/ipykernel_launcher.py:58: UserWarning: /home/mimus/apiais/data/images/ANPR/training/letters_fitall/train/Q/augmented_image_2173.jpg is a low contrast image\n",
      "/home/mimus/anaconda3/envs/tf2/lib/python3.6/site-packages/ipykernel_launcher.py:58: UserWarning: /home/mimus/apiais/data/images/ANPR/training/letters_fitall/train/Q/augmented_image_2313.jpg is a low contrast image\n",
      "/home/mimus/anaconda3/envs/tf2/lib/python3.6/site-packages/ipykernel_launcher.py:58: UserWarning: /home/mimus/apiais/data/images/ANPR/training/letters_fitall/train/Q/augmented_image_2315.jpg is a low contrast image\n",
      "/home/mimus/anaconda3/envs/tf2/lib/python3.6/site-packages/ipykernel_launcher.py:58: UserWarning: /home/mimus/apiais/data/images/ANPR/training/letters_fitall/train/Q/augmented_image_2383.jpg is a low contrast image\n",
      "/home/mimus/anaconda3/envs/tf2/lib/python3.6/site-packages/ipykernel_launcher.py:58: UserWarning: /home/mimus/apiais/data/images/ANPR/training/letters_fitall/train/Q/augmented_image_2511.jpg is a low contrast image\n",
      "/home/mimus/anaconda3/envs/tf2/lib/python3.6/site-packages/ipykernel_launcher.py:58: UserWarning: /home/mimus/apiais/data/images/ANPR/training/letters_fitall/train/Q/augmented_image_2550.jpg is a low contrast image\n",
      "/home/mimus/anaconda3/envs/tf2/lib/python3.6/site-packages/ipykernel_launcher.py:58: UserWarning: /home/mimus/apiais/data/images/ANPR/training/letters_fitall/train/Q/augmented_image_2582.jpg is a low contrast image\n",
      "/home/mimus/anaconda3/envs/tf2/lib/python3.6/site-packages/ipykernel_launcher.py:58: UserWarning: /home/mimus/apiais/data/images/ANPR/training/letters_fitall/train/Q/augmented_image_2820.jpg is a low contrast image\n"
     ]
    }
   ],
   "source": [
    "import os\n",
    "import random\n",
    "from scipy import ndarray\n",
    "from os import listdir\n",
    "from os.path import isfile, join\n",
    "# image processing library\n",
    "import skimage as sk\n",
    "from skimage import transform\n",
    "from skimage import util\n",
    "from skimage import io\n",
    "from IPython.display import clear_output\n",
    "from skimage import img_as_ubyte\n",
    "\n",
    "\n",
    "def random_rotation(image_array: ndarray):\n",
    "    # pick a random degree of rotation between 25% on the left and 25% on the right\n",
    "    random_degree = random.uniform(-5, 5)\n",
    "    return sk.transform.rotate(image_array, random_degree)\n",
    "\n",
    "\n",
    "# dictionary of the transformations we defined earlier\n",
    "available_transformations = {\n",
    "    'rotate': random_rotation\n",
    "}\n",
    "\n",
    "folder_path = \"/home/mimus/apiais/data/images/ANPR/training/letters_fitall/train/\"\n",
    "names = [l for l in listdir(folder_path) if os.path.isdir(join(folder_path,l)) ]\n",
    "num_files_desired = 3000\n",
    "\n",
    "\n",
    "\n",
    "for name in names:\n",
    "  \n",
    "    \n",
    "    # find all files paths from the folder\n",
    "    images = [os.path.join(folder_path+name, f) for f in os.listdir(folder_path+name) if os.path.isfile(os.path.join(folder_path+name, f))]\n",
    "    num_generated_files = len(images)\n",
    "    \n",
    "    while num_generated_files <= num_files_desired:\n",
    "        \n",
    "        \n",
    "        # random image from the folder\n",
    "        image_path = random.choice(images)\n",
    "        # read image as an two dimensional array of pixels\n",
    "        image_to_transform = sk.io.imread(image_path)\n",
    "        # random num of transformation to apply\n",
    "        num_transformations_to_apply = random.randint(1, len(available_transformations))\n",
    "\n",
    "        num_transformations = 0\n",
    "        transformed_image = None\n",
    "        while num_transformations <= num_transformations_to_apply:\n",
    "            # random transformation to apply for a single image\n",
    "            key = random.choice(list(available_transformations))\n",
    "            transformed_image = available_transformations[key](image_to_transform)\n",
    "            num_transformations += 1\n",
    "        new_file_path = '%s/augmented_image_%s.jpg' % (folder_path+name, num_generated_files)       \n",
    "        # write image to the disk\n",
    "        io.imsave(new_file_path, img_as_ubyte(transformed_image))\n",
    "        num_generated_files += 1"
   ]
  },
  {
   "cell_type": "code",
   "execution_count": null,
   "metadata": {},
   "outputs": [],
   "source": []
  }
 ],
 "metadata": {
  "kernelspec": {
   "display_name": "Python 3",
   "language": "python",
   "name": "python3"
  },
  "language_info": {
   "codemirror_mode": {
    "name": "ipython",
    "version": 3
   },
   "file_extension": ".py",
   "mimetype": "text/x-python",
   "name": "python",
   "nbconvert_exporter": "python",
   "pygments_lexer": "ipython3",
   "version": "3.6.12"
  }
 },
 "nbformat": 4,
 "nbformat_minor": 4
}
