{
 "cells": [
  {
   "cell_type": "code",
   "execution_count": 1,
   "metadata": {},
   "outputs": [],
   "source": [
    "import numpy as np \n",
    "import os\n",
    "import pandas as pd\n",
    "from scipy import ndarray\n",
    "import skimage as sk\n",
    "from skimage import io\n",
    "import random\n",
    "from skimage import transform\n",
    "from skimage import img_as_ubyte\n",
    "import shutil"
   ]
  },
  {
   "cell_type": "code",
   "execution_count": 2,
   "metadata": {},
   "outputs": [
    {
     "name": "stdout",
     "output_type": "stream",
     "text": [
      "Number of samples: 15788\n",
      "/home/mimus/apiais/data/images/ANPR/training/original_plate_loc/original_0.jpg | /home/mimus/apiais/data/images/ANPR/training/masks_plate_loc/masks_0.jpg\n",
      "/home/mimus/apiais/data/images/ANPR/training/original_plate_loc/original_0_0.jpg | /home/mimus/apiais/data/images/ANPR/training/masks_plate_loc/masks_0_0.jpg\n",
      "/home/mimus/apiais/data/images/ANPR/training/original_plate_loc/original_0_0_augmented_image_9516.jpg | /home/mimus/apiais/data/images/ANPR/training/masks_plate_loc/masks_0_0_augmented_image_9516.jpg\n",
      "/home/mimus/apiais/data/images/ANPR/training/original_plate_loc/original_0_10.jpg | /home/mimus/apiais/data/images/ANPR/training/masks_plate_loc/masks_0_10.jpg\n",
      "/home/mimus/apiais/data/images/ANPR/training/original_plate_loc/original_0_10_augmented_image_14992.jpg | /home/mimus/apiais/data/images/ANPR/training/masks_plate_loc/masks_0_10_augmented_image_14992.jpg\n",
      "/home/mimus/apiais/data/images/ANPR/training/original_plate_loc/original_0_11.jpg | /home/mimus/apiais/data/images/ANPR/training/masks_plate_loc/masks_0_11.jpg\n",
      "/home/mimus/apiais/data/images/ANPR/training/original_plate_loc/original_0_11_augmented_image_10458.jpg | /home/mimus/apiais/data/images/ANPR/training/masks_plate_loc/masks_0_11_augmented_image_10458.jpg\n",
      "/home/mimus/apiais/data/images/ANPR/training/original_plate_loc/original_0_12.jpg | /home/mimus/apiais/data/images/ANPR/training/masks_plate_loc/masks_0_12.jpg\n",
      "/home/mimus/apiais/data/images/ANPR/training/original_plate_loc/original_0_12_augmented_image_13638.jpg | /home/mimus/apiais/data/images/ANPR/training/masks_plate_loc/masks_0_12_augmented_image_13638.jpg\n",
      "/home/mimus/apiais/data/images/ANPR/training/original_plate_loc/original_0_13.jpg | /home/mimus/apiais/data/images/ANPR/training/masks_plate_loc/masks_0_13.jpg\n"
     ]
    }
   ],
   "source": [
    "input_dir = \"/home/mimus/apiais/data/images/ANPR/training/original_plate_loc\"\n",
    "target_dir = \"/home/mimus/apiais/data/images/ANPR/training/masks_plate_loc\"\n",
    "\n",
    "\n",
    "input_img_paths = sorted(\n",
    "    [\n",
    "        os.path.join(input_dir, fname)\n",
    "        for fname in os.listdir(input_dir)\n",
    "        if fname.endswith(\".jpg\")\n",
    "    ]\n",
    ")\n",
    "target_img_paths = sorted(\n",
    "    [\n",
    "        os.path.join(target_dir, fname)\n",
    "        for fname in os.listdir(target_dir)\n",
    "        if fname.endswith(\".jpg\") and not fname.startswith(\".\")\n",
    "    ]\n",
    ")\n",
    "\n",
    "print(\"Number of samples:\", len(input_img_paths))\n",
    "\n",
    "for input_path, target_path in zip(input_img_paths[:10], target_img_paths[:10]):\n",
    "    print(input_path, \"|\", target_path)\n"
   ]
  },
  {
   "cell_type": "code",
   "execution_count": 3,
   "metadata": {},
   "outputs": [],
   "source": [
    "def split_train_test(data,test_ratio):\n",
    "    shuffled_indices=np.random.permutation(len(data))\n",
    "    test_set_size=int(len(data)*test_ratio)\n",
    "    test_indices=shuffled_indices[:test_set_size]\n",
    "    train_indices=shuffled_indices[test_set_size:]\n",
    "    return data.iloc[train_indices], data.iloc[test_indices]"
   ]
  },
  {
   "cell_type": "code",
   "execution_count": 4,
   "metadata": {},
   "outputs": [
    {
     "name": "stdout",
     "output_type": "stream",
     "text": [
      "15788 train + 0 test\n"
     ]
    }
   ],
   "source": [
    "df = pd.DataFrame(input_img_paths) \n",
    "train_set,test_set=split_train_test(df,0)\n",
    "print(len(train_set),\"train +\",len(test_set),\"test\")"
   ]
  },
  {
   "cell_type": "code",
   "execution_count": 5,
   "metadata": {},
   "outputs": [],
   "source": [
    "#here we need to copy the test files to another folder for later use\n",
    "\n",
    "test_files = test_set.values.tolist()\n",
    "test_file_names = []\n",
    "test_file_names2 = []\n",
    "for i in test_files:\n",
    "    test_file_names.append(i[0])\n",
    "    test_file_names2.append(i[0].replace('/original_', '/masks_'))\n",
    "#print(test_file_names[0:10])\n",
    "#print(test_file_names2[0:10])\n",
    "for name in test_file_names2:\n",
    "    shutil.move(name, name.replace('/training/', '/test/'))\n",
    "for name in test_file_names:\n",
    "    shutil.move(name, name.replace('/training/', '/test/'))"
   ]
  },
  {
   "cell_type": "code",
   "execution_count": 6,
   "metadata": {},
   "outputs": [],
   "source": [
    "train_files = train_set.values.tolist()\n",
    "train_file_names = []\n",
    "train_file_names2 = []\n",
    "for i in train_files:\n",
    "    train_file_names.append(i[0])\n",
    "    train_file_names2.append(i[0].replace('/original_', '/masks_'))"
   ]
  },
  {
   "cell_type": "code",
   "execution_count": 10,
   "metadata": {},
   "outputs": [
    {
     "data": {
      "text/plain": [
       "['/home/mimus/apiais/data/images/ANPR/training/original_plate_loc/original_83_28.jpg',\n",
       " '/home/mimus/apiais/data/images/ANPR/training/original_plate_loc/original_328_29.jpg',\n",
       " '/home/mimus/apiais/data/images/ANPR/training/original_plate_loc/original_0_10.jpg',\n",
       " '/home/mimus/apiais/data/images/ANPR/training/original_plate_loc/original_846_32.jpg',\n",
       " '/home/mimus/apiais/data/images/ANPR/training/original_plate_loc/original_465_0.jpg',\n",
       " '/home/mimus/apiais/data/images/ANPR/training/original_plate_loc/original_81_33_augmented_image_8926.jpg',\n",
       " '/home/mimus/apiais/data/images/ANPR/training/original_plate_loc/original_522_32_augmented_image_10071.jpg',\n",
       " '/home/mimus/apiais/data/images/ANPR/training/original_plate_loc/original_89_40.jpg',\n",
       " '/home/mimus/apiais/data/images/ANPR/training/original_plate_loc/original_60_36_augmented_image_14102.jpg',\n",
       " '/home/mimus/apiais/data/images/ANPR/training/original_plate_loc/original_51_41.jpg',\n",
       " '/home/mimus/apiais/data/images/ANPR/training/original_plate_loc/original_18_16_augmented_image_8004.jpg',\n",
       " '/home/mimus/apiais/data/images/ANPR/training/original_plate_loc/original_286_22_augmented_image_8667.jpg',\n",
       " '/home/mimus/apiais/data/images/ANPR/training/original_plate_loc/original_13_36.jpg',\n",
       " '/home/mimus/apiais/data/images/ANPR/training/original_plate_loc/original_37_23_augmented_image_9865.jpg',\n",
       " '/home/mimus/apiais/data/images/ANPR/training/original_plate_loc/original_79_31_augmented_image_10512.jpg',\n",
       " '/home/mimus/apiais/data/images/ANPR/training/original_plate_loc/original_220_28.jpg',\n",
       " '/home/mimus/apiais/data/images/ANPR/training/original_plate_loc/original_18_29.jpg',\n",
       " '/home/mimus/apiais/data/images/ANPR/training/original_plate_loc/original_37_36.jpg',\n",
       " '/home/mimus/apiais/data/images/ANPR/training/original_plate_loc/original_178_38_augmented_image_8195.jpg',\n",
       " '/home/mimus/apiais/data/images/ANPR/training/original_plate_loc/original_55_0_augmented_image_11726.jpg',\n",
       " '/home/mimus/apiais/data/images/ANPR/training/original_plate_loc/original_146_30_1_augmented_image_13303.jpg',\n",
       " '/home/mimus/apiais/data/images/ANPR/training/original_plate_loc/original_98_33.jpg',\n",
       " '/home/mimus/apiais/data/images/ANPR/training/original_plate_loc/original_167_30_1_augmented_image_7945.jpg',\n",
       " '/home/mimus/apiais/data/images/ANPR/training/original_plate_loc/original_99_9_augmented_image_8598.jpg',\n",
       " '/home/mimus/apiais/data/images/ANPR/training/original_plate_loc/original_542_34_augmented_image_13324.jpg',\n",
       " '/home/mimus/apiais/data/images/ANPR/training/original_plate_loc/original_249_36.jpg',\n",
       " '/home/mimus/apiais/data/images/ANPR/training/original_plate_loc/original_154_36_augmented_image_14697.jpg',\n",
       " '/home/mimus/apiais/data/images/ANPR/training/original_plate_loc/original_185_29_augmented_image_12972.jpg',\n",
       " '/home/mimus/apiais/data/images/ANPR/training/original_plate_loc/original_403_39.jpg',\n",
       " '/home/mimus/apiais/data/images/ANPR/training/original_plate_loc/original_341_34_augmented_image_9825.jpg',\n",
       " '/home/mimus/apiais/data/images/ANPR/training/original_plate_loc/original_53_29_augmented_image_14161.jpg',\n",
       " '/home/mimus/apiais/data/images/ANPR/training/original_plate_loc/original_568_32_augmented_image_11762.jpg',\n",
       " '/home/mimus/apiais/data/images/ANPR/training/original_plate_loc/original_108_27.jpg',\n",
       " '/home/mimus/apiais/data/images/ANPR/training/original_plate_loc/original_375_29_augmented_image_14936.jpg',\n",
       " '/home/mimus/apiais/data/images/ANPR/training/original_plate_loc/original_235_0_augmented_image_15339.jpg',\n",
       " '/home/mimus/apiais/data/images/ANPR/training/original_plate_loc/original_197_24_augmented_image_13420.jpg',\n",
       " '/home/mimus/apiais/data/images/ANPR/training/original_plate_loc/original_841_32_augmented_image_14632.jpg',\n",
       " '/home/mimus/apiais/data/images/ANPR/training/original_plate_loc/original_274_42_augmented_image_12822.jpg',\n",
       " '/home/mimus/apiais/data/images/ANPR/training/original_plate_loc/original_28_1_3.jpg',\n",
       " '/home/mimus/apiais/data/images/ANPR/training/original_plate_loc/original_189_36_augmented_image_9094.jpg',\n",
       " '/home/mimus/apiais/data/images/ANPR/training/original_plate_loc/original_12_42_augmented_image_10679.jpg',\n",
       " '/home/mimus/apiais/data/images/ANPR/training/original_plate_loc/original_194_36.jpg',\n",
       " '/home/mimus/apiais/data/images/ANPR/training/original_plate_loc/original_564_34_augmented_image_8302.jpg',\n",
       " '/home/mimus/apiais/data/images/ANPR/training/original_plate_loc/original_135_27.jpg',\n",
       " '/home/mimus/apiais/data/images/ANPR/training/original_plate_loc/original_65_34_augmented_image_15542.jpg',\n",
       " '/home/mimus/apiais/data/images/ANPR/training/original_plate_loc/original_671_32.jpg',\n",
       " '/home/mimus/apiais/data/images/ANPR/training/original_plate_loc/original_369_36_augmented_image_10373.jpg',\n",
       " '/home/mimus/apiais/data/images/ANPR/training/original_plate_loc/original_684_32_augmented_image_11669.jpg',\n",
       " '/home/mimus/apiais/data/images/ANPR/training/original_plate_loc/original_424_29_augmented_image_12132.jpg',\n",
       " '/home/mimus/apiais/data/images/ANPR/training/original_plate_loc/original_204_39.jpg',\n",
       " '/home/mimus/apiais/data/images/ANPR/training/original_plate_loc/original_387_32_augmented_image_14889.jpg',\n",
       " '/home/mimus/apiais/data/images/ANPR/training/original_plate_loc/original_519_18_augmented_image_12409.jpg',\n",
       " '/home/mimus/apiais/data/images/ANPR/training/original_plate_loc/original_110_39.jpg',\n",
       " '/home/mimus/apiais/data/images/ANPR/training/original_plate_loc/original_429_32_augmented_image_9016.jpg',\n",
       " '/home/mimus/apiais/data/images/ANPR/training/original_plate_loc/original_260_36.jpg',\n",
       " '/home/mimus/apiais/data/images/ANPR/training/original_plate_loc/original_163_24.jpg',\n",
       " '/home/mimus/apiais/data/images/ANPR/training/original_plate_loc/original_6_33.jpg',\n",
       " '/home/mimus/apiais/data/images/ANPR/training/original_plate_loc/original_217_43.jpg',\n",
       " '/home/mimus/apiais/data/images/ANPR/training/original_plate_loc/original_220_28_augmented_image_13439.jpg',\n",
       " '/home/mimus/apiais/data/images/ANPR/training/original_plate_loc/original_40_30_1.jpg',\n",
       " '/home/mimus/apiais/data/images/ANPR/training/original_plate_loc/original_646_32_augmented_image_15261.jpg',\n",
       " '/home/mimus/apiais/data/images/ANPR/training/original_plate_loc/original_90_40_augmented_image_15528.jpg',\n",
       " '/home/mimus/apiais/data/images/ANPR/training/original_plate_loc/original_66_22_augmented_image_15068.jpg',\n",
       " '/home/mimus/apiais/data/images/ANPR/training/original_plate_loc/original_12_1_3.jpg',\n",
       " '/home/mimus/apiais/data/images/ANPR/training/original_plate_loc/original_63_30_1_augmented_image_10682.jpg',\n",
       " '/home/mimus/apiais/data/images/ANPR/training/original_plate_loc/original_20_30_1.jpg',\n",
       " '/home/mimus/apiais/data/images/ANPR/training/original_plate_loc/original_196_16.jpg',\n",
       " '/home/mimus/apiais/data/images/ANPR/training/original_plate_loc/original_178_27.jpg',\n",
       " '/home/mimus/apiais/data/images/ANPR/training/original_plate_loc/original_162_0_augmented_image_14058.jpg',\n",
       " '/home/mimus/apiais/data/images/ANPR/training/original_plate_loc/original_243_40.jpg',\n",
       " '/home/mimus/apiais/data/images/ANPR/training/original_plate_loc/original_84_33_augmented_image_14244.jpg',\n",
       " '/home/mimus/apiais/data/images/ANPR/training/original_plate_loc/original_141_33_augmented_image_15681.jpg',\n",
       " '/home/mimus/apiais/data/images/ANPR/training/original_plate_loc/original_99_27.jpg',\n",
       " '/home/mimus/apiais/data/images/ANPR/training/original_plate_loc/original_49_28.jpg',\n",
       " '/home/mimus/apiais/data/images/ANPR/training/original_plate_loc/original_354_18.jpg',\n",
       " '/home/mimus/apiais/data/images/ANPR/training/original_plate_loc/original_131_1_3.jpg',\n",
       " '/home/mimus/apiais/data/images/ANPR/training/original_plate_loc/original_255_36_augmented_image_10343.jpg',\n",
       " '/home/mimus/apiais/data/images/ANPR/training/original_plate_loc/original_5_16_augmented_image_13361.jpg',\n",
       " '/home/mimus/apiais/data/images/ANPR/training/original_plate_loc/original_78_33.jpg',\n",
       " '/home/mimus/apiais/data/images/ANPR/training/original_plate_loc/original_78_24.jpg',\n",
       " '/home/mimus/apiais/data/images/ANPR/training/original_plate_loc/original_8_19.jpg',\n",
       " '/home/mimus/apiais/data/images/ANPR/training/original_plate_loc/original_199_33_augmented_image_12060.jpg',\n",
       " '/home/mimus/apiais/data/images/ANPR/training/original_plate_loc/original_300_39.jpg',\n",
       " '/home/mimus/apiais/data/images/ANPR/training/original_plate_loc/original_114_0.jpg',\n",
       " '/home/mimus/apiais/data/images/ANPR/training/original_plate_loc/original_124_39_augmented_image_8281.jpg',\n",
       " '/home/mimus/apiais/data/images/ANPR/training/original_plate_loc/original_277_20_augmented_image_8635.jpg',\n",
       " '/home/mimus/apiais/data/images/ANPR/training/original_plate_loc/original_33_8_augmented_image_10966.jpg',\n",
       " '/home/mimus/apiais/data/images/ANPR/training/original_plate_loc/original_258_0_augmented_image_12977.jpg',\n",
       " '/home/mimus/apiais/data/images/ANPR/training/original_plate_loc/original_93_32_augmented_image_11383.jpg',\n",
       " '/home/mimus/apiais/data/images/ANPR/training/original_plate_loc/original_278_22_augmented_image_13115.jpg',\n",
       " '/home/mimus/apiais/data/images/ANPR/training/original_plate_loc/original_107_22_augmented_image_9363.jpg',\n",
       " '/home/mimus/apiais/data/images/ANPR/training/original_plate_loc/original_839_32.jpg',\n",
       " '/home/mimus/apiais/data/images/ANPR/training/original_plate_loc/original_81_25.jpg',\n",
       " '/home/mimus/apiais/data/images/ANPR/training/original_plate_loc/original_156_4_augmented_image_14660.jpg',\n",
       " '/home/mimus/apiais/data/images/ANPR/training/original_plate_loc/original_120_40_augmented_image_9837.jpg',\n",
       " '/home/mimus/apiais/data/images/ANPR/training/original_plate_loc/original_29_33_augmented_image_11489.jpg',\n",
       " '/home/mimus/apiais/data/images/ANPR/training/original_plate_loc/original_112_20.jpg',\n",
       " '/home/mimus/apiais/data/images/ANPR/training/original_plate_loc/original_113_1_3.jpg',\n",
       " '/home/mimus/apiais/data/images/ANPR/training/original_plate_loc/original_17_15_augmented_image_13381.jpg',\n",
       " '/home/mimus/apiais/data/images/ANPR/training/original_plate_loc/original_466_32_augmented_image_10424.jpg',\n",
       " '/home/mimus/apiais/data/images/ANPR/training/original_plate_loc/original_372_0_augmented_image_8590.jpg',\n",
       " '/home/mimus/apiais/data/images/ANPR/training/original_plate_loc/original_72_25_augmented_image_11747.jpg',\n",
       " '/home/mimus/apiais/data/images/ANPR/training/original_plate_loc/original_109_23_augmented_image_15299.jpg',\n",
       " '/home/mimus/apiais/data/images/ANPR/training/original_plate_loc/original_229_20_augmented_image_11746.jpg',\n",
       " '/home/mimus/apiais/data/images/ANPR/training/original_plate_loc/original_200_25_augmented_image_8225.jpg',\n",
       " '/home/mimus/apiais/data/images/ANPR/training/original_plate_loc/original_188_32.jpg',\n",
       " '/home/mimus/apiais/data/images/ANPR/training/original_plate_loc/original_36_34_augmented_image_9739.jpg',\n",
       " '/home/mimus/apiais/data/images/ANPR/training/original_plate_loc/original_147_25.jpg',\n",
       " '/home/mimus/apiais/data/images/ANPR/training/original_plate_loc/original_126_38.jpg',\n",
       " '/home/mimus/apiais/data/images/ANPR/training/original_plate_loc/original_27_39_augmented_image_15729.jpg',\n",
       " '/home/mimus/apiais/data/images/ANPR/training/original_plate_loc/original_7_19.jpg',\n",
       " '/home/mimus/apiais/data/images/ANPR/training/original_plate_loc/original_553_18_augmented_image_15600.jpg',\n",
       " '/home/mimus/apiais/data/images/ANPR/training/original_plate_loc/original_17_29_augmented_image_9387.jpg',\n",
       " '/home/mimus/apiais/data/images/ANPR/training/original_plate_loc/original_7_12.jpg',\n",
       " '/home/mimus/apiais/data/images/ANPR/training/original_plate_loc/original_187_30_1_augmented_image_13274.jpg',\n",
       " '/home/mimus/apiais/data/images/ANPR/training/original_plate_loc/original_73_4.jpg',\n",
       " '/home/mimus/apiais/data/images/ANPR/training/original_plate_loc/original_217_33.jpg',\n",
       " '/home/mimus/apiais/data/images/ANPR/training/original_plate_loc/original_778_32_augmented_image_12489.jpg',\n",
       " '/home/mimus/apiais/data/images/ANPR/training/original_plate_loc/original_85_24_augmented_image_10161.jpg',\n",
       " '/home/mimus/apiais/data/images/ANPR/training/original_plate_loc/original_44_39.jpg',\n",
       " '/home/mimus/apiais/data/images/ANPR/training/original_plate_loc/original_74_9_augmented_image_10641.jpg',\n",
       " '/home/mimus/apiais/data/images/ANPR/training/original_plate_loc/original_54_42.jpg',\n",
       " '/home/mimus/apiais/data/images/ANPR/training/original_plate_loc/original_213_38_augmented_image_12648.jpg',\n",
       " '/home/mimus/apiais/data/images/ANPR/training/original_plate_loc/original_62_43.jpg',\n",
       " '/home/mimus/apiais/data/images/ANPR/training/original_plate_loc/original_328_28_augmented_image_13611.jpg',\n",
       " '/home/mimus/apiais/data/images/ANPR/training/original_plate_loc/original_239_22.jpg',\n",
       " '/home/mimus/apiais/data/images/ANPR/training/original_plate_loc/original_309_38_augmented_image_13255.jpg',\n",
       " '/home/mimus/apiais/data/images/ANPR/training/original_plate_loc/original_200_43_augmented_image_15195.jpg',\n",
       " '/home/mimus/apiais/data/images/ANPR/training/original_plate_loc/original_115_38.jpg',\n",
       " '/home/mimus/apiais/data/images/ANPR/training/original_plate_loc/original_250_0.jpg',\n",
       " '/home/mimus/apiais/data/images/ANPR/training/original_plate_loc/original_158_32.jpg',\n",
       " '/home/mimus/apiais/data/images/ANPR/training/original_plate_loc/original_37_16_augmented_image_13775.jpg',\n",
       " '/home/mimus/apiais/data/images/ANPR/training/original_plate_loc/original_324_33_augmented_image_10015.jpg',\n",
       " '/home/mimus/apiais/data/images/ANPR/training/original_plate_loc/original_166_0.jpg',\n",
       " '/home/mimus/apiais/data/images/ANPR/training/original_plate_loc/original_241_36_augmented_image_14817.jpg',\n",
       " '/home/mimus/apiais/data/images/ANPR/training/original_plate_loc/original_108_24.jpg',\n",
       " '/home/mimus/apiais/data/images/ANPR/training/original_plate_loc/original_186_33.jpg',\n",
       " '/home/mimus/apiais/data/images/ANPR/training/original_plate_loc/original_20_1_3_augmented_image_12056.jpg',\n",
       " '/home/mimus/apiais/data/images/ANPR/training/original_plate_loc/original_266_32_augmented_image_13455.jpg',\n",
       " '/home/mimus/apiais/data/images/ANPR/training/original_plate_loc/original_110_33_augmented_image_13597.jpg',\n",
       " '/home/mimus/apiais/data/images/ANPR/training/original_plate_loc/original_406_29.jpg',\n",
       " '/home/mimus/apiais/data/images/ANPR/training/original_plate_loc/original_57_39.jpg',\n",
       " '/home/mimus/apiais/data/images/ANPR/training/original_plate_loc/original_17_42_augmented_image_7929.jpg',\n",
       " '/home/mimus/apiais/data/images/ANPR/training/original_plate_loc/original_585_18_augmented_image_12253.jpg',\n",
       " '/home/mimus/apiais/data/images/ANPR/training/original_plate_loc/original_49_5.jpg',\n",
       " '/home/mimus/apiais/data/images/ANPR/training/original_plate_loc/original_236_39.jpg',\n",
       " '/home/mimus/apiais/data/images/ANPR/training/original_plate_loc/original_290_34_augmented_image_14070.jpg',\n",
       " '/home/mimus/apiais/data/images/ANPR/training/original_plate_loc/original_81_4.jpg',\n",
       " '/home/mimus/apiais/data/images/ANPR/training/original_plate_loc/original_103_25_augmented_image_14432.jpg',\n",
       " '/home/mimus/apiais/data/images/ANPR/training/original_plate_loc/original_28_32_augmented_image_13114.jpg',\n",
       " '/home/mimus/apiais/data/images/ANPR/training/original_plate_loc/original_182_38.jpg',\n",
       " '/home/mimus/apiais/data/images/ANPR/training/original_plate_loc/original_316_38_augmented_image_9634.jpg',\n",
       " '/home/mimus/apiais/data/images/ANPR/training/original_plate_loc/original_18_26.jpg',\n",
       " '/home/mimus/apiais/data/images/ANPR/training/original_plate_loc/original_50_39.jpg',\n",
       " '/home/mimus/apiais/data/images/ANPR/training/original_plate_loc/original_19_0.jpg',\n",
       " '/home/mimus/apiais/data/images/ANPR/training/original_plate_loc/original_438_29.jpg',\n",
       " '/home/mimus/apiais/data/images/ANPR/training/original_plate_loc/original_276_28.jpg',\n",
       " '/home/mimus/apiais/data/images/ANPR/training/original_plate_loc/original_812_32.jpg',\n",
       " '/home/mimus/apiais/data/images/ANPR/training/original_plate_loc/original_36_25_augmented_image_12127.jpg',\n",
       " '/home/mimus/apiais/data/images/ANPR/training/original_plate_loc/original_133_30_1_augmented_image_11999.jpg',\n",
       " '/home/mimus/apiais/data/images/ANPR/training/original_plate_loc/original_337_34.jpg',\n",
       " '/home/mimus/apiais/data/images/ANPR/training/original_plate_loc/original_186_25.jpg',\n",
       " '/home/mimus/apiais/data/images/ANPR/training/original_plate_loc/original_267_39_augmented_image_10393.jpg',\n",
       " '/home/mimus/apiais/data/images/ANPR/training/original_plate_loc/original_271_29_augmented_image_15784.jpg',\n",
       " '/home/mimus/apiais/data/images/ANPR/training/original_plate_loc/original_427_39.jpg',\n",
       " '/home/mimus/apiais/data/images/ANPR/training/original_plate_loc/original_96_24_augmented_image_9751.jpg',\n",
       " '/home/mimus/apiais/data/images/ANPR/training/original_plate_loc/original_23_11_augmented_image_13501.jpg',\n",
       " '/home/mimus/apiais/data/images/ANPR/training/original_plate_loc/original_176_42.jpg',\n",
       " '/home/mimus/apiais/data/images/ANPR/training/original_plate_loc/original_228_33_augmented_image_10980.jpg',\n",
       " '/home/mimus/apiais/data/images/ANPR/training/original_plate_loc/original_104_9.jpg',\n",
       " '/home/mimus/apiais/data/images/ANPR/training/original_plate_loc/original_577_18.jpg',\n",
       " '/home/mimus/apiais/data/images/ANPR/training/original_plate_loc/original_156_25.jpg',\n",
       " '/home/mimus/apiais/data/images/ANPR/training/original_plate_loc/original_88_21.jpg',\n",
       " '/home/mimus/apiais/data/images/ANPR/training/original_plate_loc/original_120_32_augmented_image_10970.jpg',\n",
       " '/home/mimus/apiais/data/images/ANPR/training/original_plate_loc/original_404_0.jpg',\n",
       " '/home/mimus/apiais/data/images/ANPR/training/original_plate_loc/original_3_42.jpg',\n",
       " '/home/mimus/apiais/data/images/ANPR/training/original_plate_loc/original_8_26_augmented_image_9564.jpg',\n",
       " '/home/mimus/apiais/data/images/ANPR/training/original_plate_loc/original_15_29.jpg',\n",
       " '/home/mimus/apiais/data/images/ANPR/training/original_plate_loc/original_64_32_augmented_image_9770.jpg',\n",
       " '/home/mimus/apiais/data/images/ANPR/training/original_plate_loc/original_97_4_augmented_image_11295.jpg',\n",
       " '/home/mimus/apiais/data/images/ANPR/training/original_plate_loc/original_134_1_3_augmented_image_13095.jpg',\n",
       " '/home/mimus/apiais/data/images/ANPR/training/original_plate_loc/original_289_36.jpg',\n",
       " '/home/mimus/apiais/data/images/ANPR/training/original_plate_loc/original_376_36.jpg',\n",
       " '/home/mimus/apiais/data/images/ANPR/training/original_plate_loc/original_71_38.jpg',\n",
       " '/home/mimus/apiais/data/images/ANPR/training/original_plate_loc/original_179_28_augmented_image_12377.jpg',\n",
       " '/home/mimus/apiais/data/images/ANPR/training/original_plate_loc/original_139_24.jpg',\n",
       " '/home/mimus/apiais/data/images/ANPR/training/original_plate_loc/original_143_24.jpg',\n",
       " '/home/mimus/apiais/data/images/ANPR/training/original_plate_loc/original_77_5.jpg',\n",
       " '/home/mimus/apiais/data/images/ANPR/training/original_plate_loc/original_528_0_augmented_image_8523.jpg',\n",
       " '/home/mimus/apiais/data/images/ANPR/training/original_plate_loc/original_245_22_augmented_image_15563.jpg',\n",
       " '/home/mimus/apiais/data/images/ANPR/training/original_plate_loc/original_373_0_augmented_image_15214.jpg',\n",
       " '/home/mimus/apiais/data/images/ANPR/training/original_plate_loc/original_279_28.jpg',\n",
       " '/home/mimus/apiais/data/images/ANPR/training/original_plate_loc/original_844_32.jpg',\n",
       " '/home/mimus/apiais/data/images/ANPR/training/original_plate_loc/original_253_22_augmented_image_14232.jpg',\n",
       " '/home/mimus/apiais/data/images/ANPR/training/original_plate_loc/original_143_18.jpg',\n",
       " '/home/mimus/apiais/data/images/ANPR/training/original_plate_loc/original_143_42_augmented_image_11609.jpg',\n",
       " '/home/mimus/apiais/data/images/ANPR/training/original_plate_loc/original_189_43.jpg',\n",
       " '/home/mimus/apiais/data/images/ANPR/training/original_plate_loc/original_230_39.jpg',\n",
       " '/home/mimus/apiais/data/images/ANPR/training/original_plate_loc/original_376_22_augmented_image_12522.jpg',\n",
       " '/home/mimus/apiais/data/images/ANPR/training/original_plate_loc/original_582_18_augmented_image_11499.jpg',\n",
       " '/home/mimus/apiais/data/images/ANPR/training/original_plate_loc/original_69_30_1.jpg',\n",
       " '/home/mimus/apiais/data/images/ANPR/training/original_plate_loc/original_5_7_augmented_image_10600.jpg',\n",
       " '/home/mimus/apiais/data/images/ANPR/training/original_plate_loc/original_68_25.jpg',\n",
       " '/home/mimus/apiais/data/images/ANPR/training/original_plate_loc/original_54_27_augmented_image_14980.jpg',\n",
       " '/home/mimus/apiais/data/images/ANPR/training/original_plate_loc/original_756_32.jpg',\n",
       " '/home/mimus/apiais/data/images/ANPR/training/original_plate_loc/original_99_41.jpg',\n",
       " '/home/mimus/apiais/data/images/ANPR/training/original_plate_loc/original_318_40.jpg',\n",
       " '/home/mimus/apiais/data/images/ANPR/training/original_plate_loc/original_205_32.jpg',\n",
       " '/home/mimus/apiais/data/images/ANPR/training/original_plate_loc/original_21_13.jpg',\n",
       " '/home/mimus/apiais/data/images/ANPR/training/original_plate_loc/original_196_39.jpg',\n",
       " '/home/mimus/apiais/data/images/ANPR/training/original_plate_loc/original_9_14_augmented_image_14295.jpg',\n",
       " '/home/mimus/apiais/data/images/ANPR/training/original_plate_loc/original_669_32_augmented_image_11175.jpg',\n",
       " '/home/mimus/apiais/data/images/ANPR/training/original_plate_loc/original_112_33_augmented_image_11029.jpg',\n",
       " '/home/mimus/apiais/data/images/ANPR/training/original_plate_loc/original_49_31.jpg',\n",
       " '/home/mimus/apiais/data/images/ANPR/training/original_plate_loc/original_458_32_augmented_image_9798.jpg',\n",
       " '/home/mimus/apiais/data/images/ANPR/training/original_plate_loc/original_94_4_augmented_image_9458.jpg',\n",
       " '/home/mimus/apiais/data/images/ANPR/training/original_plate_loc/original_19_6_augmented_image_8633.jpg',\n",
       " '/home/mimus/apiais/data/images/ANPR/training/original_plate_loc/original_307_38_augmented_image_12650.jpg',\n",
       " '/home/mimus/apiais/data/images/ANPR/training/original_plate_loc/original_35_27_augmented_image_8642.jpg',\n",
       " '/home/mimus/apiais/data/images/ANPR/training/original_plate_loc/original_170_39_augmented_image_11367.jpg',\n",
       " '/home/mimus/apiais/data/images/ANPR/training/original_plate_loc/original_32_19_augmented_image_13956.jpg',\n",
       " '/home/mimus/apiais/data/images/ANPR/training/original_plate_loc/original_545_34.jpg',\n",
       " '/home/mimus/apiais/data/images/ANPR/training/original_plate_loc/original_169_43.jpg',\n",
       " '/home/mimus/apiais/data/images/ANPR/training/original_plate_loc/original_60_43_augmented_image_8450.jpg',\n",
       " '/home/mimus/apiais/data/images/ANPR/training/original_plate_loc/original_12_15.jpg',\n",
       " '/home/mimus/apiais/data/images/ANPR/training/original_plate_loc/original_100_30_1_augmented_image_15770.jpg',\n",
       " '/home/mimus/apiais/data/images/ANPR/training/original_plate_loc/original_85_29_augmented_image_15342.jpg',\n",
       " '/home/mimus/apiais/data/images/ANPR/training/original_plate_loc/original_257_22_augmented_image_11907.jpg',\n",
       " '/home/mimus/apiais/data/images/ANPR/training/original_plate_loc/original_145_32.jpg',\n",
       " '/home/mimus/apiais/data/images/ANPR/training/original_plate_loc/original_93_29_augmented_image_12506.jpg',\n",
       " '/home/mimus/apiais/data/images/ANPR/training/original_plate_loc/original_722_32_augmented_image_13107.jpg',\n",
       " '/home/mimus/apiais/data/images/ANPR/training/original_plate_loc/original_594_34_augmented_image_10813.jpg',\n",
       " '/home/mimus/apiais/data/images/ANPR/training/original_plate_loc/original_198_24.jpg',\n",
       " '/home/mimus/apiais/data/images/ANPR/training/original_plate_loc/original_236_24_augmented_image_14252.jpg',\n",
       " '/home/mimus/apiais/data/images/ANPR/training/original_plate_loc/original_96_23_augmented_image_13758.jpg',\n",
       " '/home/mimus/apiais/data/images/ANPR/training/original_plate_loc/original_173_36.jpg',\n",
       " '/home/mimus/apiais/data/images/ANPR/training/original_plate_loc/original_6_28_augmented_image_9902.jpg',\n",
       " '/home/mimus/apiais/data/images/ANPR/training/original_plate_loc/original_86_33_augmented_image_14682.jpg',\n",
       " '/home/mimus/apiais/data/images/ANPR/training/original_plate_loc/original_238_40.jpg',\n",
       " '/home/mimus/apiais/data/images/ANPR/training/original_plate_loc/original_358_22.jpg',\n",
       " '/home/mimus/apiais/data/images/ANPR/training/original_plate_loc/original_172_27.jpg',\n",
       " '/home/mimus/apiais/data/images/ANPR/training/original_plate_loc/original_529_29_augmented_image_14839.jpg',\n",
       " '/home/mimus/apiais/data/images/ANPR/training/original_plate_loc/original_134_18.jpg',\n",
       " '/home/mimus/apiais/data/images/ANPR/training/original_plate_loc/original_600_34.jpg',\n",
       " '/home/mimus/apiais/data/images/ANPR/training/original_plate_loc/original_4_6_augmented_image_12908.jpg',\n",
       " '/home/mimus/apiais/data/images/ANPR/training/original_plate_loc/original_641_32_augmented_image_10840.jpg',\n",
       " '/home/mimus/apiais/data/images/ANPR/training/original_plate_loc/original_54_18_augmented_image_15187.jpg',\n",
       " '/home/mimus/apiais/data/images/ANPR/training/original_plate_loc/original_344_36.jpg',\n",
       " '/home/mimus/apiais/data/images/ANPR/training/original_plate_loc/original_248_20_augmented_image_12392.jpg',\n",
       " '/home/mimus/apiais/data/images/ANPR/training/original_plate_loc/original_534_32.jpg',\n",
       " '/home/mimus/apiais/data/images/ANPR/training/original_plate_loc/original_557_34.jpg',\n",
       " '/home/mimus/apiais/data/images/ANPR/training/original_plate_loc/original_351_22.jpg',\n",
       " '/home/mimus/apiais/data/images/ANPR/training/original_plate_loc/original_82_4.jpg',\n",
       " '/home/mimus/apiais/data/images/ANPR/training/original_plate_loc/original_4_17_augmented_image_12350.jpg',\n",
       " '/home/mimus/apiais/data/images/ANPR/training/original_plate_loc/original_3_38.jpg',\n",
       " '/home/mimus/apiais/data/images/ANPR/training/original_plate_loc/original_86_33.jpg',\n",
       " '/home/mimus/apiais/data/images/ANPR/training/original_plate_loc/original_88_16_augmented_image_11589.jpg',\n",
       " '/home/mimus/apiais/data/images/ANPR/training/original_plate_loc/original_312_28_augmented_image_14245.jpg',\n",
       " '/home/mimus/apiais/data/images/ANPR/training/original_plate_loc/original_68_9_augmented_image_12829.jpg',\n",
       " '/home/mimus/apiais/data/images/ANPR/training/original_plate_loc/original_23_38.jpg',\n",
       " '/home/mimus/apiais/data/images/ANPR/training/original_plate_loc/original_411_39.jpg',\n",
       " '/home/mimus/apiais/data/images/ANPR/training/original_plate_loc/original_19_28_augmented_image_9708.jpg',\n",
       " '/home/mimus/apiais/data/images/ANPR/training/original_plate_loc/original_75_39_augmented_image_13674.jpg',\n",
       " '/home/mimus/apiais/data/images/ANPR/training/original_plate_loc/original_261_32_augmented_image_13952.jpg',\n",
       " '/home/mimus/apiais/data/images/ANPR/training/original_plate_loc/original_20_25.jpg',\n",
       " '/home/mimus/apiais/data/images/ANPR/training/original_plate_loc/original_112_27.jpg',\n",
       " '/home/mimus/apiais/data/images/ANPR/training/original_plate_loc/original_146_36_augmented_image_12354.jpg',\n",
       " '/home/mimus/apiais/data/images/ANPR/training/original_plate_loc/original_140_38_augmented_image_8421.jpg',\n",
       " '/home/mimus/apiais/data/images/ANPR/training/original_plate_loc/original_461_18.jpg',\n",
       " '/home/mimus/apiais/data/images/ANPR/training/original_plate_loc/original_167_38.jpg',\n",
       " '/home/mimus/apiais/data/images/ANPR/training/original_plate_loc/original_7_16_augmented_image_8430.jpg',\n",
       " '/home/mimus/apiais/data/images/ANPR/training/original_plate_loc/original_377_29_augmented_image_14583.jpg',\n",
       " '/home/mimus/apiais/data/images/ANPR/training/original_plate_loc/original_214_24.jpg',\n",
       " '/home/mimus/apiais/data/images/ANPR/training/original_plate_loc/original_278_42_augmented_image_9850.jpg',\n",
       " '/home/mimus/apiais/data/images/ANPR/training/original_plate_loc/original_21_12.jpg',\n",
       " '/home/mimus/apiais/data/images/ANPR/training/original_plate_loc/original_74_23.jpg',\n",
       " '/home/mimus/apiais/data/images/ANPR/training/original_plate_loc/original_143_0_augmented_image_8605.jpg',\n",
       " '/home/mimus/apiais/data/images/ANPR/training/original_plate_loc/original_54_43_augmented_image_15014.jpg',\n",
       " '/home/mimus/apiais/data/images/ANPR/training/original_plate_loc/original_275_39_augmented_image_8746.jpg',\n",
       " '/home/mimus/apiais/data/images/ANPR/training/original_plate_loc/original_119_41_augmented_image_14013.jpg',\n",
       " '/home/mimus/apiais/data/images/ANPR/training/original_plate_loc/original_203_29_augmented_image_9984.jpg',\n",
       " '/home/mimus/apiais/data/images/ANPR/training/original_plate_loc/original_310_33_augmented_image_11532.jpg',\n",
       " '/home/mimus/apiais/data/images/ANPR/training/original_plate_loc/original_290_36_augmented_image_15097.jpg',\n",
       " '/home/mimus/apiais/data/images/ANPR/training/original_plate_loc/original_521_29_augmented_image_14510.jpg',\n",
       " '/home/mimus/apiais/data/images/ANPR/training/original_plate_loc/original_319_28_augmented_image_11081.jpg',\n",
       " '/home/mimus/apiais/data/images/ANPR/training/original_plate_loc/original_21_19_augmented_image_10751.jpg',\n",
       " '/home/mimus/apiais/data/images/ANPR/training/original_plate_loc/original_62_27_augmented_image_14179.jpg',\n",
       " '/home/mimus/apiais/data/images/ANPR/training/original_plate_loc/original_14_33.jpg',\n",
       " '/home/mimus/apiais/data/images/ANPR/training/original_plate_loc/original_30_32.jpg',\n",
       " '/home/mimus/apiais/data/images/ANPR/training/original_plate_loc/original_163_20_augmented_image_8723.jpg',\n",
       " '/home/mimus/apiais/data/images/ANPR/training/original_plate_loc/original_438_39.jpg',\n",
       " '/home/mimus/apiais/data/images/ANPR/training/original_plate_loc/original_39_38_augmented_image_13310.jpg',\n",
       " '/home/mimus/apiais/data/images/ANPR/training/original_plate_loc/original_526_29.jpg',\n",
       " '/home/mimus/apiais/data/images/ANPR/training/original_plate_loc/original_88_9_augmented_image_9862.jpg',\n",
       " '/home/mimus/apiais/data/images/ANPR/training/original_plate_loc/original_29_6_augmented_image_10664.jpg',\n",
       " '/home/mimus/apiais/data/images/ANPR/training/original_plate_loc/original_1_13_augmented_image_13740.jpg',\n",
       " '/home/mimus/apiais/data/images/ANPR/training/original_plate_loc/original_330_39.jpg',\n",
       " '/home/mimus/apiais/data/images/ANPR/training/original_plate_loc/original_78_21.jpg',\n",
       " '/home/mimus/apiais/data/images/ANPR/training/original_plate_loc/original_320_22_augmented_image_12659.jpg',\n",
       " '/home/mimus/apiais/data/images/ANPR/training/original_plate_loc/original_11_15_augmented_image_9326.jpg',\n",
       " '/home/mimus/apiais/data/images/ANPR/training/original_plate_loc/original_200_32.jpg',\n",
       " '/home/mimus/apiais/data/images/ANPR/training/original_plate_loc/original_420_39.jpg',\n",
       " '/home/mimus/apiais/data/images/ANPR/training/original_plate_loc/original_268_42.jpg',\n",
       " '/home/mimus/apiais/data/images/ANPR/training/original_plate_loc/original_132_4_augmented_image_14440.jpg',\n",
       " '/home/mimus/apiais/data/images/ANPR/training/original_plate_loc/original_497_29.jpg',\n",
       " '/home/mimus/apiais/data/images/ANPR/training/original_plate_loc/original_143_41.jpg',\n",
       " '/home/mimus/apiais/data/images/ANPR/training/original_plate_loc/original_291_32_augmented_image_8682.jpg',\n",
       " '/home/mimus/apiais/data/images/ANPR/training/original_plate_loc/original_475_18.jpg',\n",
       " '/home/mimus/apiais/data/images/ANPR/training/original_plate_loc/original_467_39.jpg',\n",
       " '/home/mimus/apiais/data/images/ANPR/training/original_plate_loc/original_229_28_augmented_image_10742.jpg',\n",
       " '/home/mimus/apiais/data/images/ANPR/training/original_plate_loc/original_21_7.jpg',\n",
       " '/home/mimus/apiais/data/images/ANPR/training/original_plate_loc/original_78_43.jpg',\n",
       " '/home/mimus/apiais/data/images/ANPR/training/original_plate_loc/original_478_18_augmented_image_13388.jpg',\n",
       " '/home/mimus/apiais/data/images/ANPR/training/original_plate_loc/original_115_38_augmented_image_9957.jpg',\n",
       " '/home/mimus/apiais/data/images/ANPR/training/original_plate_loc/original_27_9_augmented_image_8910.jpg',\n",
       " '/home/mimus/apiais/data/images/ANPR/training/original_plate_loc/original_130_20.jpg',\n",
       " '/home/mimus/apiais/data/images/ANPR/training/original_plate_loc/original_161_36_augmented_image_13204.jpg',\n",
       " '/home/mimus/apiais/data/images/ANPR/training/original_plate_loc/original_49_9.jpg',\n",
       " '/home/mimus/apiais/data/images/ANPR/training/original_plate_loc/original_92_29.jpg',\n",
       " '/home/mimus/apiais/data/images/ANPR/training/original_plate_loc/original_74_20.jpg',\n",
       " '/home/mimus/apiais/data/images/ANPR/training/original_plate_loc/original_4_augmented_image_9310.jpg',\n",
       " '/home/mimus/apiais/data/images/ANPR/training/original_plate_loc/original_54_21.jpg',\n",
       " '/home/mimus/apiais/data/images/ANPR/training/original_plate_loc/original_76_18.jpg',\n",
       " '/home/mimus/apiais/data/images/ANPR/training/original_plate_loc/original_148_28_augmented_image_11618.jpg',\n",
       " '/home/mimus/apiais/data/images/ANPR/training/original_plate_loc/original_7_26_augmented_image_13245.jpg',\n",
       " '/home/mimus/apiais/data/images/ANPR/training/original_plate_loc/original_15_32_augmented_image_12966.jpg',\n",
       " '/home/mimus/apiais/data/images/ANPR/training/original_plate_loc/original_344_0.jpg',\n",
       " '/home/mimus/apiais/data/images/ANPR/training/original_plate_loc/original_302_22.jpg',\n",
       " '/home/mimus/apiais/data/images/ANPR/training/original_plate_loc/original_456_18.jpg',\n",
       " '/home/mimus/apiais/data/images/ANPR/training/original_plate_loc/original_32_9.jpg',\n",
       " '/home/mimus/apiais/data/images/ANPR/training/original_plate_loc/original_129_1_3_augmented_image_11995.jpg',\n",
       " '/home/mimus/apiais/data/images/ANPR/training/original_plate_loc/original_158_40.jpg',\n",
       " '/home/mimus/apiais/data/images/ANPR/training/original_plate_loc/original_156_20_augmented_image_15754.jpg',\n",
       " '/home/mimus/apiais/data/images/ANPR/training/original_plate_loc/original_98_23_augmented_image_13991.jpg',\n",
       " '/home/mimus/apiais/data/images/ANPR/training/original_plate_loc/original_106_25_augmented_image_13341.jpg',\n",
       " '/home/mimus/apiais/data/images/ANPR/training/original_plate_loc/original_151_42.jpg',\n",
       " '/home/mimus/apiais/data/images/ANPR/training/original_plate_loc/original_146_36.jpg',\n",
       " '/home/mimus/apiais/data/images/ANPR/training/original_plate_loc/original_518_18.jpg',\n",
       " '/home/mimus/apiais/data/images/ANPR/training/original_plate_loc/original_277_39_augmented_image_12192.jpg',\n",
       " '/home/mimus/apiais/data/images/ANPR/training/original_plate_loc/original_266_29.jpg',\n",
       " '/home/mimus/apiais/data/images/ANPR/training/original_plate_loc/original_209_24_augmented_image_15279.jpg',\n",
       " '/home/mimus/apiais/data/images/ANPR/training/original_plate_loc/original_13_16.jpg',\n",
       " '/home/mimus/apiais/data/images/ANPR/training/original_plate_loc/original_65_22_augmented_image_9117.jpg',\n",
       " '/home/mimus/apiais/data/images/ANPR/training/original_plate_loc/original_321_18.jpg',\n",
       " '/home/mimus/apiais/data/images/ANPR/training/original_plate_loc/original_23_5_augmented_image_13949.jpg',\n",
       " '/home/mimus/apiais/data/images/ANPR/training/original_plate_loc/original_143_36_augmented_image_14203.jpg',\n",
       " '/home/mimus/apiais/data/images/ANPR/training/original_plate_loc/original_584_32.jpg',\n",
       " '/home/mimus/apiais/data/images/ANPR/training/original_plate_loc/original_194_24.jpg',\n",
       " '/home/mimus/apiais/data/images/ANPR/training/original_plate_loc/original_253_29.jpg',\n",
       " '/home/mimus/apiais/data/images/ANPR/training/original_plate_loc/original_130_25.jpg',\n",
       " '/home/mimus/apiais/data/images/ANPR/training/original_plate_loc/original_395_29_augmented_image_10194.jpg',\n",
       " '/home/mimus/apiais/data/images/ANPR/training/original_plate_loc/original_7_4_augmented_image_14515.jpg',\n",
       " '/home/mimus/apiais/data/images/ANPR/training/original_plate_loc/original_131_25.jpg',\n",
       " '/home/mimus/apiais/data/images/ANPR/training/original_plate_loc/original_132_27_augmented_image_15747.jpg',\n",
       " '/home/mimus/apiais/data/images/ANPR/training/original_plate_loc/original_336_38_augmented_image_11869.jpg',\n",
       " '/home/mimus/apiais/data/images/ANPR/training/original_plate_loc/original_156_39_augmented_image_9319.jpg',\n",
       " '/home/mimus/apiais/data/images/ANPR/training/original_plate_loc/original_48_23.jpg',\n",
       " '/home/mimus/apiais/data/images/ANPR/training/original_plate_loc/original_459_18.jpg',\n",
       " '/home/mimus/apiais/data/images/ANPR/training/original_plate_loc/original_24_16.jpg',\n",
       " '/home/mimus/apiais/data/images/ANPR/training/original_plate_loc/original_49_24_augmented_image_10719.jpg',\n",
       " '/home/mimus/apiais/data/images/ANPR/training/original_plate_loc/original_260_0.jpg',\n",
       " '/home/mimus/apiais/data/images/ANPR/training/original_plate_loc/original_177_30_1.jpg',\n",
       " '/home/mimus/apiais/data/images/ANPR/training/original_plate_loc/original_141_0_augmented_image_11101.jpg',\n",
       " '/home/mimus/apiais/data/images/ANPR/training/original_plate_loc/original_150_30_1.jpg',\n",
       " '/home/mimus/apiais/data/images/ANPR/training/original_plate_loc/original_100_43_augmented_image_14664.jpg',\n",
       " '/home/mimus/apiais/data/images/ANPR/training/original_plate_loc/original_348_0.jpg',\n",
       " '/home/mimus/apiais/data/images/ANPR/training/original_plate_loc/original_410_0_augmented_image_10024.jpg',\n",
       " '/home/mimus/apiais/data/images/ANPR/training/original_plate_loc/original_16_12.jpg',\n",
       " '/home/mimus/apiais/data/images/ANPR/training/original_plate_loc/original_209_0_augmented_image_8427.jpg',\n",
       " '/home/mimus/apiais/data/images/ANPR/training/original_plate_loc/original_16_24_augmented_image_13401.jpg',\n",
       " '/home/mimus/apiais/data/images/ANPR/training/original_plate_loc/original_114_1_3_augmented_image_11663.jpg',\n",
       " '/home/mimus/apiais/data/images/ANPR/training/original_plate_loc/original_14_15.jpg',\n",
       " '/home/mimus/apiais/data/images/ANPR/training/original_plate_loc/original_46_29.jpg',\n",
       " '/home/mimus/apiais/data/images/ANPR/training/original_plate_loc/original_340_34_augmented_image_14552.jpg',\n",
       " '/home/mimus/apiais/data/images/ANPR/training/original_plate_loc/original_276_36.jpg',\n",
       " '/home/mimus/apiais/data/images/ANPR/training/original_plate_loc/original_154_20_augmented_image_8269.jpg',\n",
       " '/home/mimus/apiais/data/images/ANPR/training/original_plate_loc/original_523_0_augmented_image_13652.jpg',\n",
       " '/home/mimus/apiais/data/images/ANPR/training/original_plate_loc/original_236_36_augmented_image_14584.jpg',\n",
       " '/home/mimus/apiais/data/images/ANPR/training/original_plate_loc/original_113_33_augmented_image_12961.jpg',\n",
       " '/home/mimus/apiais/data/images/ANPR/training/original_plate_loc/original_303_33_augmented_image_11418.jpg',\n",
       " '/home/mimus/apiais/data/images/ANPR/training/original_plate_loc/original_223_28_augmented_image_12546.jpg',\n",
       " '/home/mimus/apiais/data/images/ANPR/training/original_plate_loc/original_53_36.jpg',\n",
       " '/home/mimus/apiais/data/images/ANPR/training/original_plate_loc/original_89_22.jpg',\n",
       " '/home/mimus/apiais/data/images/ANPR/training/original_plate_loc/original_365_18.jpg',\n",
       " '/home/mimus/apiais/data/images/ANPR/training/original_plate_loc/original_67_38.jpg',\n",
       " '/home/mimus/apiais/data/images/ANPR/training/original_plate_loc/original_0_39.jpg',\n",
       " '/home/mimus/apiais/data/images/ANPR/training/original_plate_loc/original_389_32_augmented_image_10674.jpg',\n",
       " '/home/mimus/apiais/data/images/ANPR/training/original_plate_loc/original_276_29.jpg',\n",
       " '/home/mimus/apiais/data/images/ANPR/training/original_plate_loc/original_38_5_augmented_image_8014.jpg',\n",
       " '/home/mimus/apiais/data/images/ANPR/training/original_plate_loc/original_73_28_augmented_image_13514.jpg',\n",
       " '/home/mimus/apiais/data/images/ANPR/training/original_plate_loc/original_74_23_augmented_image_14713.jpg',\n",
       " '/home/mimus/apiais/data/images/ANPR/training/original_plate_loc/original_57_42_augmented_image_12827.jpg',\n",
       " '/home/mimus/apiais/data/images/ANPR/training/original_plate_loc/original_460_32_augmented_image_8252.jpg',\n",
       " '/home/mimus/apiais/data/images/ANPR/training/original_plate_loc/original_38_23_augmented_image_10108.jpg',\n",
       " '/home/mimus/apiais/data/images/ANPR/training/original_plate_loc/original_68_23.jpg',\n",
       " '/home/mimus/apiais/data/images/ANPR/training/original_plate_loc/original_94_38_augmented_image_8826.jpg',\n",
       " '/home/mimus/apiais/data/images/ANPR/training/original_plate_loc/original_84_42_augmented_image_8653.jpg',\n",
       " '/home/mimus/apiais/data/images/ANPR/training/original_plate_loc/original_160_32_augmented_image_14843.jpg',\n",
       " '/home/mimus/apiais/data/images/ANPR/training/original_plate_loc/original_61_32_augmented_image_11991.jpg',\n",
       " '/home/mimus/apiais/data/images/ANPR/training/original_plate_loc/original_112_32.jpg',\n",
       " '/home/mimus/apiais/data/images/ANPR/training/original_plate_loc/original_68_43_augmented_image_13976.jpg',\n",
       " '/home/mimus/apiais/data/images/ANPR/training/original_plate_loc/original_587_32_augmented_image_9331.jpg',\n",
       " '/home/mimus/apiais/data/images/ANPR/training/original_plate_loc/original_191_43_augmented_image_13198.jpg',\n",
       " '/home/mimus/apiais/data/images/ANPR/training/original_plate_loc/original_79_41_augmented_image_15230.jpg',\n",
       " '/home/mimus/apiais/data/images/ANPR/training/original_plate_loc/original_19_10.jpg',\n",
       " '/home/mimus/apiais/data/images/ANPR/training/original_plate_loc/original_79_29_augmented_image_12114.jpg',\n",
       " '/home/mimus/apiais/data/images/ANPR/training/original_plate_loc/original_133_43_augmented_image_14225.jpg',\n",
       " '/home/mimus/apiais/data/images/ANPR/training/original_plate_loc/original_181_40.jpg',\n",
       " '/home/mimus/apiais/data/images/ANPR/training/original_plate_loc/original_61_38_augmented_image_10677.jpg',\n",
       " '/home/mimus/apiais/data/images/ANPR/training/original_plate_loc/original_49_43.jpg',\n",
       " '/home/mimus/apiais/data/images/ANPR/training/original_plate_loc/original_183_25_augmented_image_11378.jpg',\n",
       " '/home/mimus/apiais/data/images/ANPR/training/original_plate_loc/original_48_22.jpg',\n",
       " '/home/mimus/apiais/data/images/ANPR/training/original_plate_loc/original_33_20_augmented_image_11363.jpg',\n",
       " '/home/mimus/apiais/data/images/ANPR/training/original_plate_loc/original_13_0_augmented_image_10545.jpg',\n",
       " '/home/mimus/apiais/data/images/ANPR/training/original_plate_loc/original_81_43_augmented_image_9202.jpg',\n",
       " '/home/mimus/apiais/data/images/ANPR/training/original_plate_loc/original_271_0_augmented_image_14757.jpg',\n",
       " '/home/mimus/apiais/data/images/ANPR/training/original_plate_loc/original_149_38_augmented_image_8165.jpg',\n",
       " '/home/mimus/apiais/data/images/ANPR/training/original_plate_loc/original_17_24_augmented_image_11550.jpg',\n",
       " '/home/mimus/apiais/data/images/ANPR/training/original_plate_loc/original_280_39.jpg',\n",
       " '/home/mimus/apiais/data/images/ANPR/training/original_plate_loc/original_66_40.jpg',\n",
       " '/home/mimus/apiais/data/images/ANPR/training/original_plate_loc/original_587_34_augmented_image_13121.jpg',\n",
       " '/home/mimus/apiais/data/images/ANPR/training/original_plate_loc/original_566_18_augmented_image_13079.jpg',\n",
       " '/home/mimus/apiais/data/images/ANPR/training/original_plate_loc/original_446_39_augmented_image_15226.jpg',\n",
       " '/home/mimus/apiais/data/images/ANPR/training/original_plate_loc/original_82_16.jpg',\n",
       " '/home/mimus/apiais/data/images/ANPR/training/original_plate_loc/original_263_22.jpg',\n",
       " '/home/mimus/apiais/data/images/ANPR/training/original_plate_loc/original_383_36_augmented_image_9614.jpg',\n",
       " '/home/mimus/apiais/data/images/ANPR/training/original_plate_loc/original_107_23.jpg',\n",
       " '/home/mimus/apiais/data/images/ANPR/training/original_plate_loc/original_165_18_augmented_image_13258.jpg',\n",
       " '/home/mimus/apiais/data/images/ANPR/training/original_plate_loc/original_142_42.jpg',\n",
       " '/home/mimus/apiais/data/images/ANPR/training/original_plate_loc/original_104_18.jpg',\n",
       " '/home/mimus/apiais/data/images/ANPR/training/original_plate_loc/original_159_25.jpg',\n",
       " '/home/mimus/apiais/data/images/ANPR/training/original_plate_loc/original_38_4.jpg',\n",
       " '/home/mimus/apiais/data/images/ANPR/training/original_plate_loc/original_460_18.jpg',\n",
       " '/home/mimus/apiais/data/images/ANPR/training/original_plate_loc/original_274_29.jpg',\n",
       " '/home/mimus/apiais/data/images/ANPR/training/original_plate_loc/original_113_23.jpg',\n",
       " '/home/mimus/apiais/data/images/ANPR/training/original_plate_loc/original_138_32_augmented_image_13014.jpg',\n",
       " '/home/mimus/apiais/data/images/ANPR/training/original_plate_loc/original_14_36_augmented_image_12558.jpg',\n",
       " '/home/mimus/apiais/data/images/ANPR/training/original_plate_loc/original_391_32_augmented_image_12408.jpg',\n",
       " '/home/mimus/apiais/data/images/ANPR/training/original_plate_loc/original_148_18_augmented_image_10804.jpg',\n",
       " '/home/mimus/apiais/data/images/ANPR/training/original_plate_loc/original_353_36_augmented_image_12819.jpg',\n",
       " '/home/mimus/apiais/data/images/ANPR/training/original_plate_loc/original_20_4_augmented_image_13413.jpg',\n",
       " '/home/mimus/apiais/data/images/ANPR/training/original_plate_loc/original_174_33.jpg',\n",
       " '/home/mimus/apiais/data/images/ANPR/training/original_plate_loc/original_36_0.jpg',\n",
       " '/home/mimus/apiais/data/images/ANPR/training/original_plate_loc/original_137_27.jpg',\n",
       " '/home/mimus/apiais/data/images/ANPR/training/original_plate_loc/original_90_1_3.jpg',\n",
       " '/home/mimus/apiais/data/images/ANPR/training/original_plate_loc/original_223_0_augmented_image_12571.jpg',\n",
       " '/home/mimus/apiais/data/images/ANPR/training/original_plate_loc/original_72_36_augmented_image_11382.jpg',\n",
       " '/home/mimus/apiais/data/images/ANPR/training/original_plate_loc/original_175_27_augmented_image_14690.jpg',\n",
       " '/home/mimus/apiais/data/images/ANPR/training/original_plate_loc/original_32_39.jpg',\n",
       " '/home/mimus/apiais/data/images/ANPR/training/original_plate_loc/original_462_32.jpg',\n",
       " '/home/mimus/apiais/data/images/ANPR/training/original_plate_loc/original_4_38_augmented_image_8519.jpg',\n",
       " '/home/mimus/apiais/data/images/ANPR/training/original_plate_loc/original_29_16_augmented_image_15553.jpg',\n",
       " '/home/mimus/apiais/data/images/ANPR/training/original_plate_loc/original_311_29_augmented_image_12033.jpg',\n",
       " '/home/mimus/apiais/data/images/ANPR/training/original_plate_loc/original_223_40_augmented_image_12902.jpg',\n",
       " '/home/mimus/apiais/data/images/ANPR/training/original_plate_loc/original_17_36_augmented_image_10436.jpg',\n",
       " '/home/mimus/apiais/data/images/ANPR/training/original_plate_loc/original_289_22.jpg',\n",
       " '/home/mimus/apiais/data/images/ANPR/training/original_plate_loc/original_250_32.jpg',\n",
       " '/home/mimus/apiais/data/images/ANPR/training/original_plate_loc/original_72_16_augmented_image_14881.jpg',\n",
       " '/home/mimus/apiais/data/images/ANPR/training/original_plate_loc/original_136_29_augmented_image_12521.jpg',\n",
       " '/home/mimus/apiais/data/images/ANPR/training/original_plate_loc/original_309_22_augmented_image_9452.jpg',\n",
       " '/home/mimus/apiais/data/images/ANPR/training/original_plate_loc/original_27_12.jpg',\n",
       " '/home/mimus/apiais/data/images/ANPR/training/original_plate_loc/original_213_28_augmented_image_8291.jpg',\n",
       " '/home/mimus/apiais/data/images/ANPR/training/original_plate_loc/original_243_42.jpg',\n",
       " '/home/mimus/apiais/data/images/ANPR/training/original_plate_loc/original_450_39_augmented_image_8096.jpg',\n",
       " '/home/mimus/apiais/data/images/ANPR/training/original_plate_loc/original_309_40_augmented_image_11636.jpg',\n",
       " '/home/mimus/apiais/data/images/ANPR/training/original_plate_loc/original_165_25.jpg',\n",
       " '/home/mimus/apiais/data/images/ANPR/training/original_plate_loc/original_389_36_augmented_image_13894.jpg',\n",
       " '/home/mimus/apiais/data/images/ANPR/training/original_plate_loc/original_100_25.jpg',\n",
       " '/home/mimus/apiais/data/images/ANPR/training/original_plate_loc/original_124_30_1.jpg',\n",
       " '/home/mimus/apiais/data/images/ANPR/training/original_plate_loc/original_545_34_augmented_image_12756.jpg',\n",
       " '/home/mimus/apiais/data/images/ANPR/training/original_plate_loc/original_238_24_augmented_image_15666.jpg',\n",
       " '/home/mimus/apiais/data/images/ANPR/training/original_plate_loc/original_86_18.jpg',\n",
       " '/home/mimus/apiais/data/images/ANPR/training/original_plate_loc/original_65_36_augmented_image_12639.jpg',\n",
       " '/home/mimus/apiais/data/images/ANPR/training/original_plate_loc/original_332_29.jpg',\n",
       " '/home/mimus/apiais/data/images/ANPR/training/original_plate_loc/original_247_39_augmented_image_13314.jpg',\n",
       " '/home/mimus/apiais/data/images/ANPR/training/original_plate_loc/original_125_32.jpg',\n",
       " '/home/mimus/apiais/data/images/ANPR/training/original_plate_loc/original_127_32.jpg',\n",
       " '/home/mimus/apiais/data/images/ANPR/training/original_plate_loc/original_69_25_augmented_image_8702.jpg',\n",
       " '/home/mimus/apiais/data/images/ANPR/training/original_plate_loc/original_1_17_augmented_image_9962.jpg',\n",
       " '/home/mimus/apiais/data/images/ANPR/training/original_plate_loc/original_145_39.jpg',\n",
       " '/home/mimus/apiais/data/images/ANPR/training/original_plate_loc/original_146_43.jpg',\n",
       " '/home/mimus/apiais/data/images/ANPR/training/original_plate_loc/original_138_39_augmented_image_12062.jpg',\n",
       " '/home/mimus/apiais/data/images/ANPR/training/original_plate_loc/original_236_22.jpg',\n",
       " '/home/mimus/apiais/data/images/ANPR/training/original_plate_loc/original_15_21.jpg',\n",
       " '/home/mimus/apiais/data/images/ANPR/training/original_plate_loc/original_0_34.jpg',\n",
       " '/home/mimus/apiais/data/images/ANPR/training/original_plate_loc/original_108_22.jpg',\n",
       " '/home/mimus/apiais/data/images/ANPR/training/original_plate_loc/original_181_33.jpg',\n",
       " '/home/mimus/apiais/data/images/ANPR/training/original_plate_loc/original_265_32.jpg',\n",
       " '/home/mimus/apiais/data/images/ANPR/training/original_plate_loc/original_92_41_augmented_image_13467.jpg',\n",
       " '/home/mimus/apiais/data/images/ANPR/training/original_plate_loc/original_601_34.jpg',\n",
       " '/home/mimus/apiais/data/images/ANPR/training/original_plate_loc/original_136_38_augmented_image_14121.jpg',\n",
       " '/home/mimus/apiais/data/images/ANPR/training/original_plate_loc/original_251_38_augmented_image_9483.jpg',\n",
       " '/home/mimus/apiais/data/images/ANPR/training/original_plate_loc/original_89_31_augmented_image_8433.jpg',\n",
       " '/home/mimus/apiais/data/images/ANPR/training/original_plate_loc/original_197_33.jpg',\n",
       " '/home/mimus/apiais/data/images/ANPR/training/original_plate_loc/original_29_15.jpg',\n",
       " '/home/mimus/apiais/data/images/ANPR/training/original_plate_loc/original_210_24.jpg',\n",
       " '/home/mimus/apiais/data/images/ANPR/training/original_plate_loc/original_23_21_augmented_image_15378.jpg',\n",
       " '/home/mimus/apiais/data/images/ANPR/training/original_plate_loc/original_65_20_augmented_image_11106.jpg',\n",
       " '/home/mimus/apiais/data/images/ANPR/training/original_plate_loc/original_61_31_augmented_image_11864.jpg',\n",
       " '/home/mimus/apiais/data/images/ANPR/training/original_plate_loc/original_36_39.jpg',\n",
       " '/home/mimus/apiais/data/images/ANPR/training/original_plate_loc/original_23_43_augmented_image_11634.jpg',\n",
       " '/home/mimus/apiais/data/images/ANPR/training/original_plate_loc/original_109_9_augmented_image_10972.jpg',\n",
       " '/home/mimus/apiais/data/images/ANPR/training/original_plate_loc/original_322_32.jpg',\n",
       " '/home/mimus/apiais/data/images/ANPR/training/original_plate_loc/original_10_1_3_augmented_image_8474.jpg',\n",
       " '/home/mimus/apiais/data/images/ANPR/training/original_plate_loc/original_96_41.jpg',\n",
       " '/home/mimus/apiais/data/images/ANPR/training/original_plate_loc/original_88_20.jpg',\n",
       " '/home/mimus/apiais/data/images/ANPR/training/original_plate_loc/original_149_1_3.jpg',\n",
       " '/home/mimus/apiais/data/images/ANPR/training/original_plate_loc/original_315_34.jpg',\n",
       " '/home/mimus/apiais/data/images/ANPR/training/original_plate_loc/original_90_38_augmented_image_14668.jpg',\n",
       " '/home/mimus/apiais/data/images/ANPR/training/original_plate_loc/original_17_7.jpg',\n",
       " '/home/mimus/apiais/data/images/ANPR/training/original_plate_loc/original_167_28_augmented_image_13616.jpg',\n",
       " '/home/mimus/apiais/data/images/ANPR/training/original_plate_loc/original_284_28.jpg',\n",
       " '/home/mimus/apiais/data/images/ANPR/training/original_plate_loc/original_92_27_augmented_image_14212.jpg',\n",
       " '/home/mimus/apiais/data/images/ANPR/training/original_plate_loc/original_286_32_augmented_image_11076.jpg',\n",
       " '/home/mimus/apiais/data/images/ANPR/training/original_plate_loc/original_117_20.jpg',\n",
       " '/home/mimus/apiais/data/images/ANPR/training/original_plate_loc/original_96_32_augmented_image_15119.jpg',\n",
       " '/home/mimus/apiais/data/images/ANPR/training/original_plate_loc/original_152_39.jpg',\n",
       " '/home/mimus/apiais/data/images/ANPR/training/original_plate_loc/original_607_32.jpg',\n",
       " '/home/mimus/apiais/data/images/ANPR/training/original_plate_loc/original_18_35_augmented_image_9268.jpg',\n",
       " '/home/mimus/apiais/data/images/ANPR/training/original_plate_loc/original_181_43.jpg',\n",
       " '/home/mimus/apiais/data/images/ANPR/training/original_plate_loc/original_137_41_augmented_image_8278.jpg',\n",
       " '/home/mimus/apiais/data/images/ANPR/training/original_plate_loc/original_185_0.jpg',\n",
       " '/home/mimus/apiais/data/images/ANPR/training/original_plate_loc/original_345_22.jpg',\n",
       " '/home/mimus/apiais/data/images/ANPR/training/original_plate_loc/original_278_39.jpg',\n",
       " '/home/mimus/apiais/data/images/ANPR/training/original_plate_loc/original_156_43_augmented_image_8438.jpg',\n",
       " '/home/mimus/apiais/data/images/ANPR/training/original_plate_loc/original_10_7.jpg',\n",
       " '/home/mimus/apiais/data/images/ANPR/training/original_plate_loc/original_737_32_augmented_image_13819.jpg',\n",
       " '/home/mimus/apiais/data/images/ANPR/training/original_plate_loc/original_16_6.jpg',\n",
       " '/home/mimus/apiais/data/images/ANPR/training/original_plate_loc/original_94_24_augmented_image_10079.jpg',\n",
       " '/home/mimus/apiais/data/images/ANPR/training/original_plate_loc/original_10_4_augmented_image_14860.jpg',\n",
       " '/home/mimus/apiais/data/images/ANPR/training/original_plate_loc/original_320_32.jpg',\n",
       " '/home/mimus/apiais/data/images/ANPR/training/original_plate_loc/original_280_32_augmented_image_8005.jpg',\n",
       " '/home/mimus/apiais/data/images/ANPR/training/original_plate_loc/original_164_24.jpg',\n",
       " '/home/mimus/apiais/data/images/ANPR/training/original_plate_loc/original_122_20_augmented_image_15351.jpg',\n",
       " '/home/mimus/apiais/data/images/ANPR/training/original_plate_loc/original_436_32.jpg',\n",
       " '/home/mimus/apiais/data/images/ANPR/training/original_plate_loc/original_571_18_augmented_image_12764.jpg',\n",
       " '/home/mimus/apiais/data/images/ANPR/training/original_plate_loc/original_188_36_augmented_image_8733.jpg',\n",
       " '/home/mimus/apiais/data/images/ANPR/training/original_plate_loc/original_115_25_augmented_image_11693.jpg',\n",
       " '/home/mimus/apiais/data/images/ANPR/training/original_plate_loc/original_112_23.jpg',\n",
       " '/home/mimus/apiais/data/images/ANPR/training/original_plate_loc/original_36_27_augmented_image_11275.jpg',\n",
       " '/home/mimus/apiais/data/images/ANPR/training/original_plate_loc/original_63_34.jpg',\n",
       " '/home/mimus/apiais/data/images/ANPR/training/original_plate_loc/original_118_33.jpg',\n",
       " '/home/mimus/apiais/data/images/ANPR/training/original_plate_loc/original_161_39.jpg',\n",
       " '/home/mimus/apiais/data/images/ANPR/training/original_plate_loc/original_4_26.jpg',\n",
       " '/home/mimus/apiais/data/images/ANPR/training/original_plate_loc/original_315_38.jpg',\n",
       " '/home/mimus/apiais/data/images/ANPR/training/original_plate_loc/original_3_41_augmented_image_12577.jpg',\n",
       " '/home/mimus/apiais/data/images/ANPR/training/original_plate_loc/original_165_42.jpg',\n",
       " '/home/mimus/apiais/data/images/ANPR/training/original_plate_loc/original_133_27.jpg',\n",
       " '/home/mimus/apiais/data/images/ANPR/training/original_plate_loc/original_266_42.jpg',\n",
       " '/home/mimus/apiais/data/images/ANPR/training/original_plate_loc/original_84_20.jpg',\n",
       " '/home/mimus/apiais/data/images/ANPR/training/original_plate_loc/original_13_33_augmented_image_9354.jpg',\n",
       " '/home/mimus/apiais/data/images/ANPR/training/original_plate_loc/original_552_18.jpg',\n",
       " '/home/mimus/apiais/data/images/ANPR/training/original_plate_loc/original_25_39_augmented_image_9934.jpg',\n",
       " '/home/mimus/apiais/data/images/ANPR/training/original_plate_loc/original_210_38_augmented_image_11527.jpg',\n",
       " '/home/mimus/apiais/data/images/ANPR/training/original_plate_loc/original_149_29.jpg',\n",
       " '/home/mimus/apiais/data/images/ANPR/training/original_plate_loc/original_28_22.jpg',\n",
       " '/home/mimus/apiais/data/images/ANPR/training/original_plate_loc/original_22_6.jpg',\n",
       " '/home/mimus/apiais/data/images/ANPR/training/original_plate_loc/original_163_18_augmented_image_14887.jpg',\n",
       " '/home/mimus/apiais/data/images/ANPR/training/original_plate_loc/original_239_40_augmented_image_14924.jpg',\n",
       " '/home/mimus/apiais/data/images/ANPR/training/original_plate_loc/original_184_32.jpg',\n",
       " '/home/mimus/apiais/data/images/ANPR/training/original_plate_loc/original_230_38_augmented_image_9352.jpg',\n",
       " '/home/mimus/apiais/data/images/ANPR/training/original_plate_loc/original_155_30_1.jpg',\n",
       " '/home/mimus/apiais/data/images/ANPR/training/original_plate_loc/original_120_18.jpg',\n",
       " '/home/mimus/apiais/data/images/ANPR/training/original_plate_loc/original_157_18_augmented_image_7942.jpg',\n",
       " '/home/mimus/apiais/data/images/ANPR/training/original_plate_loc/original_331_0.jpg',\n",
       " '/home/mimus/apiais/data/images/ANPR/training/original_plate_loc/original_13_32_augmented_image_11356.jpg',\n",
       " '/home/mimus/apiais/data/images/ANPR/training/original_plate_loc/original_119_38_augmented_image_11142.jpg',\n",
       " '/home/mimus/apiais/data/images/ANPR/training/original_plate_loc/original_76_16.jpg',\n",
       " '/home/mimus/apiais/data/images/ANPR/training/original_plate_loc/original_180_27.jpg',\n",
       " '/home/mimus/apiais/data/images/ANPR/training/original_plate_loc/original_333_32.jpg',\n",
       " '/home/mimus/apiais/data/images/ANPR/training/original_plate_loc/original_2_27_augmented_image_14725.jpg',\n",
       " '/home/mimus/apiais/data/images/ANPR/training/original_plate_loc/original_294_22_augmented_image_9827.jpg',\n",
       " '/home/mimus/apiais/data/images/ANPR/training/original_plate_loc/original_203_39_augmented_image_13607.jpg',\n",
       " '/home/mimus/apiais/data/images/ANPR/training/original_plate_loc/original_121_18_augmented_image_13167.jpg',\n",
       " '/home/mimus/apiais/data/images/ANPR/training/original_plate_loc/original_77_23_augmented_image_11210.jpg',\n",
       " '/home/mimus/apiais/data/images/ANPR/training/original_plate_loc/original_849_32.jpg',\n",
       " '/home/mimus/apiais/data/images/ANPR/training/original_plate_loc/original_263_36_augmented_image_11716.jpg',\n",
       " '/home/mimus/apiais/data/images/ANPR/training/original_plate_loc/original_259_22.jpg',\n",
       " '/home/mimus/apiais/data/images/ANPR/training/original_plate_loc/original_27_35.jpg',\n",
       " '/home/mimus/apiais/data/images/ANPR/training/original_plate_loc/original_2_31_augmented_image_14348.jpg',\n",
       " '/home/mimus/apiais/data/images/ANPR/training/original_plate_loc/original_322_22.jpg',\n",
       " '/home/mimus/apiais/data/images/ANPR/training/original_plate_loc/original_192_32_augmented_image_11832.jpg',\n",
       " '/home/mimus/apiais/data/images/ANPR/training/original_plate_loc/original_126_42.jpg',\n",
       " '/home/mimus/apiais/data/images/ANPR/training/original_plate_loc/original_163_27.jpg',\n",
       " '/home/mimus/apiais/data/images/ANPR/training/original_plate_loc/original_89_42_augmented_image_9189.jpg',\n",
       " '/home/mimus/apiais/data/images/ANPR/training/original_plate_loc/original_92_42.jpg',\n",
       " '/home/mimus/apiais/data/images/ANPR/training/original_plate_loc/original_27_12_augmented_image_9196.jpg',\n",
       " '/home/mimus/apiais/data/images/ANPR/training/original_plate_loc/original_129_30_1_augmented_image_11294.jpg',\n",
       " '/home/mimus/apiais/data/images/ANPR/training/original_plate_loc/original_60_24_augmented_image_9433.jpg',\n",
       " '/home/mimus/apiais/data/images/ANPR/training/original_plate_loc/original_20_augmented_image_10706.jpg',\n",
       " '/home/mimus/apiais/data/images/ANPR/training/original_plate_loc/original_518_29.jpg',\n",
       " '/home/mimus/apiais/data/images/ANPR/training/original_plate_loc/original_267_38.jpg',\n",
       " '/home/mimus/apiais/data/images/ANPR/training/original_plate_loc/original_386_29.jpg',\n",
       " '/home/mimus/apiais/data/images/ANPR/training/original_plate_loc/original_309_38.jpg',\n",
       " '/home/mimus/apiais/data/images/ANPR/training/original_plate_loc/original_294_22.jpg',\n",
       " '/home/mimus/apiais/data/images/ANPR/training/original_plate_loc/original_58_40.jpg',\n",
       " '/home/mimus/apiais/data/images/ANPR/training/original_plate_loc/original_61_5.jpg',\n",
       " '/home/mimus/apiais/data/images/ANPR/training/original_plate_loc/original_46_34_augmented_image_15052.jpg',\n",
       " '/home/mimus/apiais/data/images/ANPR/training/original_plate_loc/original_216_29.jpg',\n",
       " '/home/mimus/apiais/data/images/ANPR/training/original_plate_loc/original_134_0_augmented_image_8265.jpg',\n",
       " '/home/mimus/apiais/data/images/ANPR/training/original_plate_loc/original_343_0_augmented_image_11307.jpg',\n",
       " '/home/mimus/apiais/data/images/ANPR/training/original_plate_loc/original_56_28.jpg',\n",
       " '/home/mimus/apiais/data/images/ANPR/training/original_plate_loc/original_3_41.jpg',\n",
       " '/home/mimus/apiais/data/images/ANPR/training/original_plate_loc/original_50_29_augmented_image_8588.jpg',\n",
       " '/home/mimus/apiais/data/images/ANPR/training/original_plate_loc/original_383_36.jpg',\n",
       " '/home/mimus/apiais/data/images/ANPR/training/original_plate_loc/original_369_22_augmented_image_11694.jpg',\n",
       " '/home/mimus/apiais/data/images/ANPR/training/original_plate_loc/original_72_22_augmented_image_9123.jpg',\n",
       " '/home/mimus/apiais/data/images/ANPR/training/original_plate_loc/original_50_38_augmented_image_12655.jpg',\n",
       " '/home/mimus/apiais/data/images/ANPR/training/original_plate_loc/original_346_34_augmented_image_8355.jpg',\n",
       " '/home/mimus/apiais/data/images/ANPR/training/original_plate_loc/original_206_39.jpg',\n",
       " '/home/mimus/apiais/data/images/ANPR/training/original_plate_loc/original_349_39.jpg',\n",
       " '/home/mimus/apiais/data/images/ANPR/training/original_plate_loc/original_4_43_augmented_image_13612.jpg',\n",
       " '/home/mimus/apiais/data/images/ANPR/training/original_plate_loc/original_62_16_augmented_image_14929.jpg',\n",
       " '/home/mimus/apiais/data/images/ANPR/training/original_plate_loc/original_97_34_augmented_image_11405.jpg',\n",
       " '/home/mimus/apiais/data/images/ANPR/training/original_plate_loc/original_13_15.jpg',\n",
       " '/home/mimus/apiais/data/images/ANPR/training/original_plate_loc/original_140_43.jpg',\n",
       " '/home/mimus/apiais/data/images/ANPR/training/original_plate_loc/original_236_40_augmented_image_10026.jpg',\n",
       " '/home/mimus/apiais/data/images/ANPR/training/original_plate_loc/original_153_38.jpg',\n",
       " '/home/mimus/apiais/data/images/ANPR/training/original_plate_loc/original_277_38_augmented_image_10844.jpg',\n",
       " '/home/mimus/apiais/data/images/ANPR/training/original_plate_loc/original_35_9.jpg',\n",
       " '/home/mimus/apiais/data/images/ANPR/training/original_plate_loc/original_279_39.jpg',\n",
       " '/home/mimus/apiais/data/images/ANPR/training/original_plate_loc/original_45_29_augmented_image_14185.jpg',\n",
       " '/home/mimus/apiais/data/images/ANPR/training/original_plate_loc/original_78_25_augmented_image_15425.jpg',\n",
       " '/home/mimus/apiais/data/images/ANPR/training/original_plate_loc/original_877_32.jpg',\n",
       " '/home/mimus/apiais/data/images/ANPR/training/original_plate_loc/original_390_36_augmented_image_14310.jpg',\n",
       " '/home/mimus/apiais/data/images/ANPR/training/original_plate_loc/original_124_43.jpg',\n",
       " '/home/mimus/apiais/data/images/ANPR/training/original_plate_loc/original_422_29_augmented_image_14173.jpg',\n",
       " '/home/mimus/apiais/data/images/ANPR/training/original_plate_loc/original_208_40_augmented_image_14190.jpg',\n",
       " '/home/mimus/apiais/data/images/ANPR/training/original_plate_loc/original_6.jpg',\n",
       " '/home/mimus/apiais/data/images/ANPR/training/original_plate_loc/original_12_14.jpg',\n",
       " '/home/mimus/apiais/data/images/ANPR/training/original_plate_loc/original_82_22_augmented_image_8258.jpg',\n",
       " '/home/mimus/apiais/data/images/ANPR/training/original_plate_loc/original_135_38.jpg',\n",
       " '/home/mimus/apiais/data/images/ANPR/training/original_plate_loc/original_84_4_augmented_image_8697.jpg',\n",
       " '/home/mimus/apiais/data/images/ANPR/training/original_plate_loc/original_18_30_1_augmented_image_8372.jpg',\n",
       " '/home/mimus/apiais/data/images/ANPR/training/original_plate_loc/original_205_28.jpg',\n",
       " '/home/mimus/apiais/data/images/ANPR/training/original_plate_loc/original_342_32_augmented_image_9866.jpg',\n",
       " '/home/mimus/apiais/data/images/ANPR/training/original_plate_loc/original_33_25_augmented_image_10149.jpg',\n",
       " '/home/mimus/apiais/data/images/ANPR/training/original_plate_loc/original_57_5.jpg',\n",
       " '/home/mimus/apiais/data/images/ANPR/training/original_plate_loc/original_404_39_augmented_image_14633.jpg',\n",
       " '/home/mimus/apiais/data/images/ANPR/training/original_plate_loc/original_7_41_augmented_image_9218.jpg',\n",
       " '/home/mimus/apiais/data/images/ANPR/training/original_plate_loc/original_40_4_augmented_image_14957.jpg',\n",
       " '/home/mimus/apiais/data/images/ANPR/training/original_plate_loc/original_227_24_augmented_image_14072.jpg',\n",
       " '/home/mimus/apiais/data/images/ANPR/training/original_plate_loc/original_172_0.jpg',\n",
       " '/home/mimus/apiais/data/images/ANPR/training/original_plate_loc/original_240_39.jpg',\n",
       " '/home/mimus/apiais/data/images/ANPR/training/original_plate_loc/original_196_40.jpg',\n",
       " '/home/mimus/apiais/data/images/ANPR/training/original_plate_loc/original_108_38.jpg',\n",
       " '/home/mimus/apiais/data/images/ANPR/training/original_plate_loc/original_344_22.jpg',\n",
       " '/home/mimus/apiais/data/images/ANPR/training/original_plate_loc/original_368_39_augmented_image_8402.jpg',\n",
       " '/home/mimus/apiais/data/images/ANPR/training/original_plate_loc/original_131_29.jpg',\n",
       " '/home/mimus/apiais/data/images/ANPR/training/original_plate_loc/original_201_28_augmented_image_10160.jpg',\n",
       " '/home/mimus/apiais/data/images/ANPR/training/original_plate_loc/original_104_24_augmented_image_13158.jpg',\n",
       " '/home/mimus/apiais/data/images/ANPR/training/original_plate_loc/original_97_22_augmented_image_12372.jpg',\n",
       " '/home/mimus/apiais/data/images/ANPR/training/original_plate_loc/original_224_24.jpg',\n",
       " '/home/mimus/apiais/data/images/ANPR/training/original_plate_loc/original_109_29_augmented_image_12979.jpg',\n",
       " '/home/mimus/apiais/data/images/ANPR/training/original_plate_loc/original_38_23.jpg',\n",
       " '/home/mimus/apiais/data/images/ANPR/training/original_plate_loc/original_813_32_augmented_image_13565.jpg',\n",
       " '/home/mimus/apiais/data/images/ANPR/training/original_plate_loc/original_33_33.jpg',\n",
       " '/home/mimus/apiais/data/images/ANPR/training/original_plate_loc/original_70_5.jpg',\n",
       " '/home/mimus/apiais/data/images/ANPR/training/original_plate_loc/original_447_29.jpg',\n",
       " '/home/mimus/apiais/data/images/ANPR/training/original_plate_loc/original_143_43_augmented_image_8202.jpg',\n",
       " '/home/mimus/apiais/data/images/ANPR/training/original_plate_loc/original_370_29.jpg',\n",
       " '/home/mimus/apiais/data/images/ANPR/training/original_plate_loc/original_19_38.jpg',\n",
       " '/home/mimus/apiais/data/images/ANPR/training/original_plate_loc/original_307_40_augmented_image_14469.jpg',\n",
       " '/home/mimus/apiais/data/images/ANPR/training/original_plate_loc/original_39_35_augmented_image_8085.jpg',\n",
       " '/home/mimus/apiais/data/images/ANPR/training/original_plate_loc/original_56_23_augmented_image_12665.jpg',\n",
       " '/home/mimus/apiais/data/images/ANPR/training/original_plate_loc/original_2_12_augmented_image_13890.jpg',\n",
       " '/home/mimus/apiais/data/images/ANPR/training/original_plate_loc/original_196_24_augmented_image_13701.jpg',\n",
       " '/home/mimus/apiais/data/images/ANPR/training/original_plate_loc/original_17_20.jpg',\n",
       " '/home/mimus/apiais/data/images/ANPR/training/original_plate_loc/original_52_31.jpg',\n",
       " '/home/mimus/apiais/data/images/ANPR/training/original_plate_loc/original_197_32_augmented_image_9077.jpg',\n",
       " '/home/mimus/apiais/data/images/ANPR/training/original_plate_loc/original_329_0.jpg',\n",
       " '/home/mimus/apiais/data/images/ANPR/training/original_plate_loc/original_24_23.jpg',\n",
       " '/home/mimus/apiais/data/images/ANPR/training/original_plate_loc/original_364_22.jpg',\n",
       " '/home/mimus/apiais/data/images/ANPR/training/original_plate_loc/original_101_9.jpg',\n",
       " '/home/mimus/apiais/data/images/ANPR/training/original_plate_loc/original_172_30_1_augmented_image_14100.jpg',\n",
       " '/home/mimus/apiais/data/images/ANPR/training/original_plate_loc/original_149_32_augmented_image_10236.jpg',\n",
       " '/home/mimus/apiais/data/images/ANPR/training/original_plate_loc/original_293_18_augmented_image_10573.jpg',\n",
       " '/home/mimus/apiais/data/images/ANPR/training/original_plate_loc/original_181_24.jpg',\n",
       " '/home/mimus/apiais/data/images/ANPR/training/original_plate_loc/original_91_28.jpg',\n",
       " '/home/mimus/apiais/data/images/ANPR/training/original_plate_loc/original_567_18.jpg',\n",
       " '/home/mimus/apiais/data/images/ANPR/training/original_plate_loc/original_223_28.jpg',\n",
       " '/home/mimus/apiais/data/images/ANPR/training/original_plate_loc/original_143_33.jpg',\n",
       " '/home/mimus/apiais/data/images/ANPR/training/original_plate_loc/original_110_9_augmented_image_8626.jpg',\n",
       " '/home/mimus/apiais/data/images/ANPR/training/original_plate_loc/original_512_29.jpg',\n",
       " '/home/mimus/apiais/data/images/ANPR/training/original_plate_loc/original_398_29.jpg',\n",
       " '/home/mimus/apiais/data/images/ANPR/training/original_plate_loc/original_106_42.jpg',\n",
       " '/home/mimus/apiais/data/images/ANPR/training/original_plate_loc/original_2_9.jpg',\n",
       " '/home/mimus/apiais/data/images/ANPR/training/original_plate_loc/original_315_28_augmented_image_12542.jpg',\n",
       " '/home/mimus/apiais/data/images/ANPR/training/original_plate_loc/original_21_1_3_augmented_image_11844.jpg',\n",
       " '/home/mimus/apiais/data/images/ANPR/training/original_plate_loc/original_149_40_augmented_image_12258.jpg',\n",
       " '/home/mimus/apiais/data/images/ANPR/training/original_plate_loc/original_93_4.jpg',\n",
       " '/home/mimus/apiais/data/images/ANPR/training/original_plate_loc/original_316_18.jpg',\n",
       " '/home/mimus/apiais/data/images/ANPR/training/original_plate_loc/original_98_38.jpg',\n",
       " '/home/mimus/apiais/data/images/ANPR/training/original_plate_loc/original_148_39_augmented_image_14832.jpg',\n",
       " '/home/mimus/apiais/data/images/ANPR/training/original_plate_loc/original_805_32_augmented_image_12807.jpg',\n",
       " '/home/mimus/apiais/data/images/ANPR/training/original_plate_loc/original_211_36_augmented_image_12416.jpg',\n",
       " '/home/mimus/apiais/data/images/ANPR/training/original_plate_loc/original_320_36_augmented_image_15479.jpg',\n",
       " '/home/mimus/apiais/data/images/ANPR/training/original_plate_loc/original_58_24_augmented_image_9582.jpg',\n",
       " '/home/mimus/apiais/data/images/ANPR/training/original_plate_loc/original_174_39_augmented_image_12404.jpg',\n",
       " '/home/mimus/apiais/data/images/ANPR/training/original_plate_loc/original_110_23.jpg',\n",
       " '/home/mimus/apiais/data/images/ANPR/training/original_plate_loc/original_303_28.jpg',\n",
       " '/home/mimus/apiais/data/images/ANPR/training/original_plate_loc/original_42_33_augmented_image_13723.jpg',\n",
       " '/home/mimus/apiais/data/images/ANPR/training/original_plate_loc/original_113_23_augmented_image_15236.jpg',\n",
       " '/home/mimus/apiais/data/images/ANPR/training/original_plate_loc/original_58_27.jpg',\n",
       " '/home/mimus/apiais/data/images/ANPR/training/original_plate_loc/original_142_24_augmented_image_10951.jpg',\n",
       " '/home/mimus/apiais/data/images/ANPR/training/original_plate_loc/original_286_29_augmented_image_11459.jpg',\n",
       " '/home/mimus/apiais/data/images/ANPR/training/original_plate_loc/original_3_27.jpg',\n",
       " '/home/mimus/apiais/data/images/ANPR/training/original_plate_loc/original_131_1_3_augmented_image_8084.jpg',\n",
       " '/home/mimus/apiais/data/images/ANPR/training/original_plate_loc/original_28_39.jpg',\n",
       " '/home/mimus/apiais/data/images/ANPR/training/original_plate_loc/original_201_38.jpg',\n",
       " '/home/mimus/apiais/data/images/ANPR/training/original_plate_loc/original_64_24.jpg',\n",
       " '/home/mimus/apiais/data/images/ANPR/training/original_plate_loc/original_166_28.jpg',\n",
       " '/home/mimus/apiais/data/images/ANPR/training/original_plate_loc/original_48_25.jpg',\n",
       " '/home/mimus/apiais/data/images/ANPR/training/original_plate_loc/original_21_15.jpg',\n",
       " '/home/mimus/apiais/data/images/ANPR/training/original_plate_loc/original_68_22_augmented_image_9824.jpg',\n",
       " '/home/mimus/apiais/data/images/ANPR/training/original_plate_loc/original_54_38.jpg',\n",
       " '/home/mimus/apiais/data/images/ANPR/training/original_plate_loc/original_217_38.jpg',\n",
       " '/home/mimus/apiais/data/images/ANPR/training/original_plate_loc/original_82_34_augmented_image_13940.jpg',\n",
       " '/home/mimus/apiais/data/images/ANPR/training/original_plate_loc/original_174_38.jpg',\n",
       " '/home/mimus/apiais/data/images/ANPR/training/original_plate_loc/original_20_23_augmented_image_9875.jpg',\n",
       " '/home/mimus/apiais/data/images/ANPR/training/original_plate_loc/original_221_0_augmented_image_14144.jpg',\n",
       " '/home/mimus/apiais/data/images/ANPR/training/original_plate_loc/original_38_19.jpg',\n",
       " '/home/mimus/apiais/data/images/ANPR/training/original_plate_loc/original_106_29.jpg',\n",
       " '/home/mimus/apiais/data/images/ANPR/training/original_plate_loc/original_123_36.jpg',\n",
       " '/home/mimus/apiais/data/images/ANPR/training/original_plate_loc/original_617_32_augmented_image_9261.jpg',\n",
       " '/home/mimus/apiais/data/images/ANPR/training/original_plate_loc/original_728_32_augmented_image_13731.jpg',\n",
       " '/home/mimus/apiais/data/images/ANPR/training/original_plate_loc/original_19_15.jpg',\n",
       " '/home/mimus/apiais/data/images/ANPR/training/original_plate_loc/original_287_34.jpg',\n",
       " '/home/mimus/apiais/data/images/ANPR/training/original_plate_loc/original_19_41_augmented_image_14141.jpg',\n",
       " '/home/mimus/apiais/data/images/ANPR/training/original_plate_loc/original_162_18.jpg',\n",
       " '/home/mimus/apiais/data/images/ANPR/training/original_plate_loc/original_6_29.jpg',\n",
       " '/home/mimus/apiais/data/images/ANPR/training/original_plate_loc/original_37_27.jpg',\n",
       " '/home/mimus/apiais/data/images/ANPR/training/original_plate_loc/original_116_38_augmented_image_8046.jpg',\n",
       " '/home/mimus/apiais/data/images/ANPR/training/original_plate_loc/original_160_30_1_augmented_image_14715.jpg',\n",
       " '/home/mimus/apiais/data/images/ANPR/training/original_plate_loc/original_211_38.jpg',\n",
       " '/home/mimus/apiais/data/images/ANPR/training/original_plate_loc/original_618_32.jpg',\n",
       " '/home/mimus/apiais/data/images/ANPR/training/original_plate_loc/original_208_39_augmented_image_14193.jpg',\n",
       " '/home/mimus/apiais/data/images/ANPR/training/original_plate_loc/original_57_28_augmented_image_14838.jpg',\n",
       " '/home/mimus/apiais/data/images/ANPR/training/original_plate_loc/original_114_39.jpg',\n",
       " '/home/mimus/apiais/data/images/ANPR/training/original_plate_loc/original_407_32_augmented_image_9847.jpg',\n",
       " '/home/mimus/apiais/data/images/ANPR/training/original_plate_loc/original_115_23.jpg',\n",
       " '/home/mimus/apiais/data/images/ANPR/training/original_plate_loc/original_29_40.jpg',\n",
       " '/home/mimus/apiais/data/images/ANPR/training/original_plate_loc/original_55_29_augmented_image_13834.jpg',\n",
       " '/home/mimus/apiais/data/images/ANPR/training/original_plate_loc/original_108_41.jpg',\n",
       " '/home/mimus/apiais/data/images/ANPR/training/original_plate_loc/original_159_30_1_augmented_image_7973.jpg',\n",
       " '/home/mimus/apiais/data/images/ANPR/training/original_plate_loc/original_309_32.jpg',\n",
       " '/home/mimus/apiais/data/images/ANPR/training/original_plate_loc/original_229_39.jpg',\n",
       " '/home/mimus/apiais/data/images/ANPR/training/original_plate_loc/original_337_32_augmented_image_10264.jpg',\n",
       " '/home/mimus/apiais/data/images/ANPR/training/original_plate_loc/original_180_0.jpg',\n",
       " '/home/mimus/apiais/data/images/ANPR/training/original_plate_loc/original_18_0.jpg',\n",
       " '/home/mimus/apiais/data/images/ANPR/training/original_plate_loc/original_338_32_augmented_image_12388.jpg',\n",
       " '/home/mimus/apiais/data/images/ANPR/training/original_plate_loc/original_315_33.jpg',\n",
       " '/home/mimus/apiais/data/images/ANPR/training/original_plate_loc/original_39_22_augmented_image_9129.jpg',\n",
       " '/home/mimus/apiais/data/images/ANPR/training/original_plate_loc/original_12_38.jpg',\n",
       " '/home/mimus/apiais/data/images/ANPR/training/original_plate_loc/original_90_22.jpg',\n",
       " '/home/mimus/apiais/data/images/ANPR/training/original_plate_loc/original_139_38_augmented_image_10279.jpg',\n",
       " '/home/mimus/apiais/data/images/ANPR/training/original_plate_loc/original_132_40.jpg',\n",
       " '/home/mimus/apiais/data/images/ANPR/training/original_plate_loc/original_192_39.jpg',\n",
       " '/home/mimus/apiais/data/images/ANPR/training/original_plate_loc/original_393_29_augmented_image_10955.jpg',\n",
       " '/home/mimus/apiais/data/images/ANPR/training/original_plate_loc/original_72_16.jpg',\n",
       " '/home/mimus/apiais/data/images/ANPR/training/original_plate_loc/original_16_4.jpg',\n",
       " '/home/mimus/apiais/data/images/ANPR/training/original_plate_loc/original_59_1_3.jpg',\n",
       " '/home/mimus/apiais/data/images/ANPR/training/original_plate_loc/original_381_36_augmented_image_12054.jpg',\n",
       " '/home/mimus/apiais/data/images/ANPR/training/original_plate_loc/original_215_28.jpg',\n",
       " '/home/mimus/apiais/data/images/ANPR/training/original_plate_loc/original_880_32_augmented_image_10753.jpg',\n",
       " '/home/mimus/apiais/data/images/ANPR/training/original_plate_loc/original_83_42.jpg',\n",
       " '/home/mimus/apiais/data/images/ANPR/training/original_plate_loc/original_680_32.jpg',\n",
       " '/home/mimus/apiais/data/images/ANPR/training/original_plate_loc/original_40_18.jpg',\n",
       " '/home/mimus/apiais/data/images/ANPR/training/original_plate_loc/original_138_25.jpg',\n",
       " '/home/mimus/apiais/data/images/ANPR/training/original_plate_loc/original_25_27_augmented_image_9178.jpg',\n",
       " '/home/mimus/apiais/data/images/ANPR/training/original_plate_loc/original_5_42_augmented_image_13784.jpg',\n",
       " '/home/mimus/apiais/data/images/ANPR/training/original_plate_loc/original_259_28_augmented_image_11619.jpg',\n",
       " '/home/mimus/apiais/data/images/ANPR/training/original_plate_loc/original_106_4_augmented_image_11179.jpg',\n",
       " '/home/mimus/apiais/data/images/ANPR/training/original_plate_loc/original_43_augmented_image_10910.jpg',\n",
       " '/home/mimus/apiais/data/images/ANPR/training/original_plate_loc/original_20_0.jpg',\n",
       " '/home/mimus/apiais/data/images/ANPR/training/original_plate_loc/original_235_39_augmented_image_11437.jpg',\n",
       " '/home/mimus/apiais/data/images/ANPR/training/original_plate_loc/original_19_1_3_augmented_image_15701.jpg',\n",
       " '/home/mimus/apiais/data/images/ANPR/training/original_plate_loc/original_377_39_augmented_image_12538.jpg',\n",
       " '/home/mimus/apiais/data/images/ANPR/training/original_plate_loc/original_69_40.jpg',\n",
       " '/home/mimus/apiais/data/images/ANPR/training/original_plate_loc/original_79_42.jpg',\n",
       " '/home/mimus/apiais/data/images/ANPR/training/original_plate_loc/original_118_27_augmented_image_14649.jpg',\n",
       " '/home/mimus/apiais/data/images/ANPR/training/original_plate_loc/original_5_31.jpg',\n",
       " '/home/mimus/apiais/data/images/ANPR/training/original_plate_loc/original_491_32.jpg',\n",
       " '/home/mimus/apiais/data/images/ANPR/training/original_plate_loc/original_274_36.jpg',\n",
       " '/home/mimus/apiais/data/images/ANPR/training/original_plate_loc/original_51_4_augmented_image_14454.jpg',\n",
       " '/home/mimus/apiais/data/images/ANPR/training/original_plate_loc/original_424_32.jpg',\n",
       " '/home/mimus/apiais/data/images/ANPR/training/original_plate_loc/original_58_1_3_augmented_image_9706.jpg',\n",
       " '/home/mimus/apiais/data/images/ANPR/training/original_plate_loc/original_232_40.jpg',\n",
       " '/home/mimus/apiais/data/images/ANPR/training/original_plate_loc/original_308_28.jpg',\n",
       " '/home/mimus/apiais/data/images/ANPR/training/original_plate_loc/original_490_32_augmented_image_8268.jpg',\n",
       " '/home/mimus/apiais/data/images/ANPR/training/original_plate_loc/original_199_36_augmented_image_8008.jpg',\n",
       " '/home/mimus/apiais/data/images/ANPR/training/original_plate_loc/original_38_34_augmented_image_11152.jpg',\n",
       " '/home/mimus/apiais/data/images/ANPR/training/original_plate_loc/original_155_28.jpg',\n",
       " '/home/mimus/apiais/data/images/ANPR/training/original_plate_loc/original_239_28_augmented_image_12120.jpg',\n",
       " '/home/mimus/apiais/data/images/ANPR/training/original_plate_loc/original_118_25.jpg',\n",
       " '/home/mimus/apiais/data/images/ANPR/training/original_plate_loc/original_333_36_augmented_image_12227.jpg',\n",
       " '/home/mimus/apiais/data/images/ANPR/training/original_plate_loc/original_397_0_augmented_image_8314.jpg',\n",
       " '/home/mimus/apiais/data/images/ANPR/training/original_plate_loc/original_429_29.jpg',\n",
       " '/home/mimus/apiais/data/images/ANPR/training/original_plate_loc/original_218_38_augmented_image_12670.jpg',\n",
       " '/home/mimus/apiais/data/images/ANPR/training/original_plate_loc/original_362_32.jpg',\n",
       " '/home/mimus/apiais/data/images/ANPR/training/original_plate_loc/original_68_21.jpg',\n",
       " '/home/mimus/apiais/data/images/ANPR/training/original_plate_loc/original_76_30_1_augmented_image_14358.jpg',\n",
       " '/home/mimus/apiais/data/images/ANPR/training/original_plate_loc/original_171_40.jpg',\n",
       " '/home/mimus/apiais/data/images/ANPR/training/original_plate_loc/original_80_24.jpg',\n",
       " '/home/mimus/apiais/data/images/ANPR/training/original_plate_loc/original_112_38_augmented_image_12306.jpg',\n",
       " '/home/mimus/apiais/data/images/ANPR/training/original_plate_loc/original_9_43_augmented_image_14330.jpg',\n",
       " '/home/mimus/apiais/data/images/ANPR/training/original_plate_loc/original_68_1_3_augmented_image_8507.jpg',\n",
       " '/home/mimus/apiais/data/images/ANPR/training/original_plate_loc/original_195_36_augmented_image_10374.jpg',\n",
       " '/home/mimus/apiais/data/images/ANPR/training/original_plate_loc/original_516_18_augmented_image_15786.jpg',\n",
       " '/home/mimus/apiais/data/images/ANPR/training/original_plate_loc/original_217_38_augmented_image_10506.jpg',\n",
       " '/home/mimus/apiais/data/images/ANPR/training/original_plate_loc/original_103_29_augmented_image_15175.jpg',\n",
       " '/home/mimus/apiais/data/images/ANPR/training/original_plate_loc/original_5_16.jpg',\n",
       " '/home/mimus/apiais/data/images/ANPR/training/original_plate_loc/original_179_38_augmented_image_14866.jpg',\n",
       " '/home/mimus/apiais/data/images/ANPR/training/original_plate_loc/original_11_20.jpg',\n",
       " '/home/mimus/apiais/data/images/ANPR/training/original_plate_loc/original_473_32_augmented_image_15720.jpg',\n",
       " '/home/mimus/apiais/data/images/ANPR/training/original_plate_loc/original_521_32_augmented_image_13755.jpg',\n",
       " '/home/mimus/apiais/data/images/ANPR/training/original_plate_loc/original_143_27.jpg',\n",
       " '/home/mimus/apiais/data/images/ANPR/training/original_plate_loc/original_879_32_augmented_image_13295.jpg',\n",
       " '/home/mimus/apiais/data/images/ANPR/training/original_plate_loc/original_96_29.jpg',\n",
       " '/home/mimus/apiais/data/images/ANPR/training/original_plate_loc/original_250_22_augmented_image_14572.jpg',\n",
       " '/home/mimus/apiais/data/images/ANPR/training/original_plate_loc/original_61_25.jpg',\n",
       " '/home/mimus/apiais/data/images/ANPR/training/original_plate_loc/original_11_28_augmented_image_11104.jpg',\n",
       " '/home/mimus/apiais/data/images/ANPR/training/original_plate_loc/original_224_39.jpg',\n",
       " '/home/mimus/apiais/data/images/ANPR/training/original_plate_loc/original_368_0.jpg',\n",
       " '/home/mimus/apiais/data/images/ANPR/training/original_plate_loc/original_105_30_1_augmented_image_10327.jpg',\n",
       " '/home/mimus/apiais/data/images/ANPR/training/original_plate_loc/original_17_33_augmented_image_10232.jpg',\n",
       " '/home/mimus/apiais/data/images/ANPR/training/original_plate_loc/original_134_4_augmented_image_14246.jpg',\n",
       " '/home/mimus/apiais/data/images/ANPR/training/original_plate_loc/original_111_0_augmented_image_9707.jpg',\n",
       " '/home/mimus/apiais/data/images/ANPR/training/original_plate_loc/original_43_42_augmented_image_13786.jpg',\n",
       " '/home/mimus/apiais/data/images/ANPR/training/original_plate_loc/original_87_38_augmented_image_14448.jpg',\n",
       " '/home/mimus/apiais/data/images/ANPR/training/original_plate_loc/original_10_42_augmented_image_10881.jpg',\n",
       " '/home/mimus/apiais/data/images/ANPR/training/original_plate_loc/original_283_28_augmented_image_8848.jpg',\n",
       " '/home/mimus/apiais/data/images/ANPR/training/original_plate_loc/original_252_0_augmented_image_8013.jpg',\n",
       " '/home/mimus/apiais/data/images/ANPR/training/original_plate_loc/original_106_36_augmented_image_8435.jpg',\n",
       " '/home/mimus/apiais/data/images/ANPR/training/original_plate_loc/original_350_34.jpg',\n",
       " '/home/mimus/apiais/data/images/ANPR/training/original_plate_loc/original_100_25_augmented_image_13047.jpg',\n",
       " '/home/mimus/apiais/data/images/ANPR/training/original_plate_loc/original_377_36.jpg',\n",
       " '/home/mimus/apiais/data/images/ANPR/training/original_plate_loc/original_248_24.jpg',\n",
       " '/home/mimus/apiais/data/images/ANPR/training/original_plate_loc/original_151_40_augmented_image_13673.jpg',\n",
       " '/home/mimus/apiais/data/images/ANPR/training/original_plate_loc/original_150_1_3_augmented_image_9375.jpg',\n",
       " '/home/mimus/apiais/data/images/ANPR/training/original_plate_loc/original_21_6_augmented_image_13023.jpg',\n",
       " '/home/mimus/apiais/data/images/ANPR/training/original_plate_loc/original_35_25_augmented_image_8979.jpg',\n",
       " '/home/mimus/apiais/data/images/ANPR/training/original_plate_loc/original_560_32_augmented_image_12351.jpg',\n",
       " '/home/mimus/apiais/data/images/ANPR/training/original_plate_loc/original_41_20.jpg',\n",
       " '/home/mimus/apiais/data/images/ANPR/training/original_plate_loc/original_38_29.jpg',\n",
       " '/home/mimus/apiais/data/images/ANPR/training/original_plate_loc/original_198_16.jpg',\n",
       " '/home/mimus/apiais/data/images/ANPR/training/original_plate_loc/original_97_0.jpg',\n",
       " '/home/mimus/apiais/data/images/ANPR/training/original_plate_loc/original_343_22.jpg',\n",
       " '/home/mimus/apiais/data/images/ANPR/training/original_plate_loc/original_3_16_augmented_image_9692.jpg',\n",
       " '/home/mimus/apiais/data/images/ANPR/training/original_plate_loc/original_75_4.jpg',\n",
       " '/home/mimus/apiais/data/images/ANPR/training/original_plate_loc/original_100_33_augmented_image_13756.jpg',\n",
       " '/home/mimus/apiais/data/images/ANPR/training/original_plate_loc/original_279_42_augmented_image_14698.jpg',\n",
       " '/home/mimus/apiais/data/images/ANPR/training/original_plate_loc/original_431_39_augmented_image_8945.jpg',\n",
       " '/home/mimus/apiais/data/images/ANPR/training/original_plate_loc/original_385_29_augmented_image_15712.jpg',\n",
       " '/home/mimus/apiais/data/images/ANPR/training/original_plate_loc/original_36_9.jpg',\n",
       " '/home/mimus/apiais/data/images/ANPR/training/original_plate_loc/original_8_25.jpg',\n",
       " '/home/mimus/apiais/data/images/ANPR/training/original_plate_loc/original_184_38_augmented_image_13521.jpg',\n",
       " '/home/mimus/apiais/data/images/ANPR/training/original_plate_loc/original_75_20_augmented_image_14028.jpg',\n",
       " '/home/mimus/apiais/data/images/ANPR/training/original_plate_loc/original_150_18.jpg',\n",
       " '/home/mimus/apiais/data/images/ANPR/training/original_plate_loc/original_39_39.jpg',\n",
       " '/home/mimus/apiais/data/images/ANPR/training/original_plate_loc/original_228_0.jpg',\n",
       " '/home/mimus/apiais/data/images/ANPR/training/original_plate_loc/original_514_18_augmented_image_13885.jpg',\n",
       " '/home/mimus/apiais/data/images/ANPR/training/original_plate_loc/original_52_32_augmented_image_12702.jpg',\n",
       " '/home/mimus/apiais/data/images/ANPR/training/original_plate_loc/original_303_39_augmented_image_12703.jpg',\n",
       " '/home/mimus/apiais/data/images/ANPR/training/original_plate_loc/original_182_27_augmented_image_9766.jpg',\n",
       " '/home/mimus/apiais/data/images/ANPR/training/original_plate_loc/original_427_32.jpg',\n",
       " '/home/mimus/apiais/data/images/ANPR/training/original_plate_loc/original_771_32.jpg',\n",
       " '/home/mimus/apiais/data/images/ANPR/training/original_plate_loc/original_164_25_augmented_image_9217.jpg',\n",
       " '/home/mimus/apiais/data/images/ANPR/training/original_plate_loc/original_68_21_augmented_image_9180.jpg',\n",
       " '/home/mimus/apiais/data/images/ANPR/training/original_plate_loc/original_363_0_augmented_image_14557.jpg',\n",
       " '/home/mimus/apiais/data/images/ANPR/training/original_plate_loc/original_513_29.jpg',\n",
       " '/home/mimus/apiais/data/images/ANPR/training/original_plate_loc/original_67_18.jpg',\n",
       " '/home/mimus/apiais/data/images/ANPR/training/original_plate_loc/original_170_28.jpg',\n",
       " '/home/mimus/apiais/data/images/ANPR/training/original_plate_loc/original_304_22.jpg',\n",
       " '/home/mimus/apiais/data/images/ANPR/training/original_plate_loc/original_235_24_augmented_image_14562.jpg',\n",
       " '/home/mimus/apiais/data/images/ANPR/training/original_plate_loc/original_690_32.jpg',\n",
       " '/home/mimus/apiais/data/images/ANPR/training/original_plate_loc/original_307_40.jpg',\n",
       " '/home/mimus/apiais/data/images/ANPR/training/original_plate_loc/original_29_6.jpg',\n",
       " '/home/mimus/apiais/data/images/ANPR/training/original_plate_loc/original_82_39_augmented_image_13500.jpg',\n",
       " '/home/mimus/apiais/data/images/ANPR/training/original_plate_loc/original_88_42.jpg',\n",
       " '/home/mimus/apiais/data/images/ANPR/training/original_plate_loc/original_363_29_augmented_image_10947.jpg',\n",
       " '/home/mimus/apiais/data/images/ANPR/training/original_plate_loc/original_47_25_augmented_image_11449.jpg',\n",
       " '/home/mimus/apiais/data/images/ANPR/training/original_plate_loc/original_101_20.jpg',\n",
       " '/home/mimus/apiais/data/images/ANPR/training/original_plate_loc/original_24_27.jpg',\n",
       " '/home/mimus/apiais/data/images/ANPR/training/original_plate_loc/original_5_7.jpg',\n",
       " '/home/mimus/apiais/data/images/ANPR/training/original_plate_loc/original_107_31.jpg',\n",
       " '/home/mimus/apiais/data/images/ANPR/training/original_plate_loc/original_277_18_augmented_image_14306.jpg',\n",
       " '/home/mimus/apiais/data/images/ANPR/training/original_plate_loc/original_360_32_augmented_image_10189.jpg',\n",
       " '/home/mimus/apiais/data/images/ANPR/training/original_plate_loc/original_289_39_augmented_image_9398.jpg',\n",
       " '/home/mimus/apiais/data/images/ANPR/training/original_plate_loc/original_47_39_augmented_image_8288.jpg',\n",
       " '/home/mimus/apiais/data/images/ANPR/training/original_plate_loc/original_128_31.jpg',\n",
       " '/home/mimus/apiais/data/images/ANPR/training/original_plate_loc/original_14_35.jpg',\n",
       " '/home/mimus/apiais/data/images/ANPR/training/original_plate_loc/original_26_43.jpg',\n",
       " '/home/mimus/apiais/data/images/ANPR/training/original_plate_loc/original_15_12_augmented_image_14080.jpg',\n",
       " '/home/mimus/apiais/data/images/ANPR/training/original_plate_loc/original_87_31.jpg',\n",
       " '/home/mimus/apiais/data/images/ANPR/training/original_plate_loc/original_374_32_augmented_image_8506.jpg',\n",
       " '/home/mimus/apiais/data/images/ANPR/training/original_plate_loc/original_70_36_augmented_image_14082.jpg',\n",
       " '/home/mimus/apiais/data/images/ANPR/training/original_plate_loc/original_190_16_augmented_image_10326.jpg',\n",
       " '/home/mimus/apiais/data/images/ANPR/training/original_plate_loc/original_239_36_augmented_image_10004.jpg',\n",
       " '/home/mimus/apiais/data/images/ANPR/training/original_plate_loc/original_95_29_augmented_image_13202.jpg',\n",
       " '/home/mimus/apiais/data/images/ANPR/training/original_plate_loc/original_255_29.jpg',\n",
       " '/home/mimus/apiais/data/images/ANPR/training/original_plate_loc/original_87_24.jpg',\n",
       " '/home/mimus/apiais/data/images/ANPR/training/original_plate_loc/original_399_32.jpg',\n",
       " '/home/mimus/apiais/data/images/ANPR/training/original_plate_loc/original_88_28.jpg',\n",
       " '/home/mimus/apiais/data/images/ANPR/training/original_plate_loc/original_109_28_augmented_image_9725.jpg',\n",
       " '/home/mimus/apiais/data/images/ANPR/training/original_plate_loc/original_40_16_augmented_image_10640.jpg',\n",
       " '/home/mimus/apiais/data/images/ANPR/training/original_plate_loc/original_253_38_augmented_image_9791.jpg',\n",
       " '/home/mimus/apiais/data/images/ANPR/training/original_plate_loc/original_265_20_augmented_image_13989.jpg',\n",
       " '/home/mimus/apiais/data/images/ANPR/training/original_plate_loc/original_187_28_augmented_image_15409.jpg',\n",
       " '/home/mimus/apiais/data/images/ANPR/training/original_plate_loc/original_307_29.jpg',\n",
       " '/home/mimus/apiais/data/images/ANPR/training/original_plate_loc/original_675_32.jpg',\n",
       " '/home/mimus/apiais/data/images/ANPR/training/original_plate_loc/original_539_0.jpg',\n",
       " '/home/mimus/apiais/data/images/ANPR/training/original_plate_loc/original_144_4.jpg',\n",
       " '/home/mimus/apiais/data/images/ANPR/training/original_plate_loc/original_218_42.jpg',\n",
       " '/home/mimus/apiais/data/images/ANPR/training/original_plate_loc/original_0_27_augmented_image_8946.jpg',\n",
       " '/home/mimus/apiais/data/images/ANPR/training/original_plate_loc/original_33_21.jpg',\n",
       " '/home/mimus/apiais/data/images/ANPR/training/original_plate_loc/original_862_32_augmented_image_9925.jpg',\n",
       " '/home/mimus/apiais/data/images/ANPR/training/original_plate_loc/original_280_18_augmented_image_11533.jpg',\n",
       " '/home/mimus/apiais/data/images/ANPR/training/original_plate_loc/original_72_4.jpg',\n",
       " '/home/mimus/apiais/data/images/ANPR/training/original_plate_loc/original_79_28_augmented_image_9430.jpg',\n",
       " '/home/mimus/apiais/data/images/ANPR/training/original_plate_loc/original_296_0_augmented_image_14683.jpg',\n",
       " '/home/mimus/apiais/data/images/ANPR/training/original_plate_loc/original_76_25_augmented_image_14916.jpg',\n",
       " '/home/mimus/apiais/data/images/ANPR/training/original_plate_loc/original_30_0.jpg',\n",
       " '/home/mimus/apiais/data/images/ANPR/training/original_plate_loc/original_2_28.jpg',\n",
       " '/home/mimus/apiais/data/images/ANPR/training/original_plate_loc/original_513_18_augmented_image_12460.jpg',\n",
       " '/home/mimus/apiais/data/images/ANPR/training/original_plate_loc/original_118_1_3_augmented_image_10154.jpg',\n",
       " '/home/mimus/apiais/data/images/ANPR/training/original_plate_loc/original_501_32.jpg',\n",
       " '/home/mimus/apiais/data/images/ANPR/training/original_plate_loc/original_14_41_augmented_image_9345.jpg',\n",
       " '/home/mimus/apiais/data/images/ANPR/training/original_plate_loc/original_624_32.jpg',\n",
       " '/home/mimus/apiais/data/images/ANPR/training/original_plate_loc/original_161_32.jpg',\n",
       " '/home/mimus/apiais/data/images/ANPR/training/original_plate_loc/original_138_27.jpg',\n",
       " '/home/mimus/apiais/data/images/ANPR/training/original_plate_loc/original_256_29_augmented_image_10626.jpg',\n",
       " '/home/mimus/apiais/data/images/ANPR/training/original_plate_loc/original_425_29_augmented_image_11430.jpg',\n",
       " '/home/mimus/apiais/data/images/ANPR/training/original_plate_loc/original_191_25_augmented_image_14760.jpg',\n",
       " '/home/mimus/apiais/data/images/ANPR/training/original_plate_loc/original_334_29.jpg',\n",
       " '/home/mimus/apiais/data/images/ANPR/training/original_plate_loc/original_81_33.jpg',\n",
       " '/home/mimus/apiais/data/images/ANPR/training/original_plate_loc/original_8_10_augmented_image_11163.jpg',\n",
       " '/home/mimus/apiais/data/images/ANPR/training/original_plate_loc/original_290_34.jpg',\n",
       " '/home/mimus/apiais/data/images/ANPR/training/original_plate_loc/original_39_40.jpg',\n",
       " '/home/mimus/apiais/data/images/ANPR/training/original_plate_loc/original_296_39_augmented_image_8811.jpg',\n",
       " '/home/mimus/apiais/data/images/ANPR/training/original_plate_loc/original_164_30_1_augmented_image_14799.jpg',\n",
       " '/home/mimus/apiais/data/images/ANPR/training/original_plate_loc/original_394_36.jpg',\n",
       " '/home/mimus/apiais/data/images/ANPR/training/original_plate_loc/original_567_32.jpg',\n",
       " '/home/mimus/apiais/data/images/ANPR/training/original_plate_loc/original_29_8_augmented_image_13414.jpg',\n",
       " '/home/mimus/apiais/data/images/ANPR/training/original_plate_loc/original_100_39_augmented_image_10233.jpg',\n",
       " '/home/mimus/apiais/data/images/ANPR/training/original_plate_loc/original_92_4_augmented_image_13741.jpg',\n",
       " '/home/mimus/apiais/data/images/ANPR/training/original_plate_loc/original_28_5.jpg',\n",
       " '/home/mimus/apiais/data/images/ANPR/training/original_plate_loc/original_116_25_augmented_image_10691.jpg',\n",
       " '/home/mimus/apiais/data/images/ANPR/training/original_plate_loc/original_149_27.jpg',\n",
       " '/home/mimus/apiais/data/images/ANPR/training/original_plate_loc/original_138_24.jpg',\n",
       " '/home/mimus/apiais/data/images/ANPR/training/original_plate_loc/original_265_42.jpg',\n",
       " '/home/mimus/apiais/data/images/ANPR/training/original_plate_loc/original_78_43_augmented_image_9539.jpg',\n",
       " '/home/mimus/apiais/data/images/ANPR/training/original_plate_loc/original_22_13_augmented_image_8149.jpg',\n",
       " '/home/mimus/apiais/data/images/ANPR/training/original_plate_loc/original_165_42_augmented_image_9836.jpg',\n",
       " '/home/mimus/apiais/data/images/ANPR/training/original_plate_loc/original_23_11.jpg',\n",
       " '/home/mimus/apiais/data/images/ANPR/training/original_plate_loc/original_699_32.jpg',\n",
       " '/home/mimus/apiais/data/images/ANPR/training/original_plate_loc/original_554_18.jpg',\n",
       " '/home/mimus/apiais/data/images/ANPR/training/original_plate_loc/original_106_27_augmented_image_8100.jpg',\n",
       " '/home/mimus/apiais/data/images/ANPR/training/original_plate_loc/original_334_39.jpg',\n",
       " '/home/mimus/apiais/data/images/ANPR/training/original_plate_loc/original_19_33.jpg',\n",
       " '/home/mimus/apiais/data/images/ANPR/training/original_plate_loc/original_110_28.jpg',\n",
       " '/home/mimus/apiais/data/images/ANPR/training/original_plate_loc/original_5_38.jpg',\n",
       " '/home/mimus/apiais/data/images/ANPR/training/original_plate_loc/original_123_43.jpg',\n",
       " '/home/mimus/apiais/data/images/ANPR/training/original_plate_loc/original_4_16.jpg',\n",
       " '/home/mimus/apiais/data/images/ANPR/training/original_plate_loc/original_6_19.jpg',\n",
       " '/home/mimus/apiais/data/images/ANPR/training/original_plate_loc/original_697_32.jpg',\n",
       " '/home/mimus/apiais/data/images/ANPR/training/original_plate_loc/original_112_36.jpg',\n",
       " '/home/mimus/apiais/data/images/ANPR/training/original_plate_loc/original_174_42_augmented_image_13679.jpg',\n",
       " '/home/mimus/apiais/data/images/ANPR/training/original_plate_loc/original_558_0_augmented_image_8729.jpg',\n",
       " '/home/mimus/apiais/data/images/ANPR/training/original_plate_loc/original_33_33_augmented_image_10204.jpg',\n",
       " '/home/mimus/apiais/data/images/ANPR/training/original_plate_loc/original_294_39.jpg',\n",
       " '/home/mimus/apiais/data/images/ANPR/training/original_plate_loc/original_7_6_augmented_image_8501.jpg',\n",
       " '/home/mimus/apiais/data/images/ANPR/training/original_plate_loc/original_106_22.jpg',\n",
       " '/home/mimus/apiais/data/images/ANPR/training/original_plate_loc/original_390_22_augmented_image_14466.jpg',\n",
       " '/home/mimus/apiais/data/images/ANPR/training/original_plate_loc/original_337_38.jpg',\n",
       " '/home/mimus/apiais/data/images/ANPR/training/original_plate_loc/original_298_29.jpg',\n",
       " '/home/mimus/apiais/data/images/ANPR/training/original_plate_loc/original_592_34_augmented_image_15317.jpg',\n",
       " '/home/mimus/apiais/data/images/ANPR/training/original_plate_loc/original_155_43.jpg',\n",
       " '/home/mimus/apiais/data/images/ANPR/training/original_plate_loc/original_178_0_augmented_image_10542.jpg',\n",
       " '/home/mimus/apiais/data/images/ANPR/training/original_plate_loc/original_100_36_augmented_image_12252.jpg',\n",
       " '/home/mimus/apiais/data/images/ANPR/training/original_plate_loc/original_30_4_augmented_image_13826.jpg',\n",
       " '/home/mimus/apiais/data/images/ANPR/training/original_plate_loc/original_56_33.jpg',\n",
       " '/home/mimus/apiais/data/images/ANPR/training/original_plate_loc/original_516_32.jpg',\n",
       " '/home/mimus/apiais/data/images/ANPR/training/original_plate_loc/original_586_18.jpg',\n",
       " '/home/mimus/apiais/data/images/ANPR/training/original_plate_loc/original_144_29_augmented_image_11953.jpg',\n",
       " '/home/mimus/apiais/data/images/ANPR/training/original_plate_loc/original_71_38_augmented_image_8073.jpg',\n",
       " '/home/mimus/apiais/data/images/ANPR/training/original_plate_loc/original_26_41.jpg',\n",
       " '/home/mimus/apiais/data/images/ANPR/training/original_plate_loc/original_517_18_augmented_image_8358.jpg',\n",
       " '/home/mimus/apiais/data/images/ANPR/training/original_plate_loc/original_108_27_augmented_image_8678.jpg',\n",
       " '/home/mimus/apiais/data/images/ANPR/training/original_plate_loc/original_123_32.jpg',\n",
       " '/home/mimus/apiais/data/images/ANPR/training/original_plate_loc/original_467_18.jpg',\n",
       " '/home/mimus/apiais/data/images/ANPR/training/original_plate_loc/original_335_0.jpg',\n",
       " '/home/mimus/apiais/data/images/ANPR/training/original_plate_loc/original_106_30_1.jpg',\n",
       " '/home/mimus/apiais/data/images/ANPR/training/original_plate_loc/original_36_38.jpg',\n",
       " '/home/mimus/apiais/data/images/ANPR/training/original_plate_loc/original_407_0_augmented_image_10203.jpg',\n",
       " '/home/mimus/apiais/data/images/ANPR/training/original_plate_loc/original_124_29_augmented_image_15402.jpg',\n",
       " '/home/mimus/apiais/data/images/ANPR/training/original_plate_loc/original_273_36_augmented_image_12338.jpg',\n",
       " '/home/mimus/apiais/data/images/ANPR/training/original_plate_loc/original_464_0_augmented_image_8617.jpg',\n",
       " '/home/mimus/apiais/data/images/ANPR/training/original_plate_loc/original_59_16.jpg',\n",
       " '/home/mimus/apiais/data/images/ANPR/training/original_plate_loc/original_465_29.jpg',\n",
       " ...]"
      ]
     },
     "execution_count": 10,
     "metadata": {},
     "output_type": "execute_result"
    }
   ],
   "source": [
    "train_file_names"
   ]
  },
  {
   "cell_type": "code",
   "execution_count": 8,
   "metadata": {},
   "outputs": [
    {
     "name": "stdout",
     "output_type": "stream",
     "text": [
      "1 15789\n",
      "2 15790\n",
      "3 15791\n"
     ]
    },
    {
     "name": "stderr",
     "output_type": "stream",
     "text": [
      "/home/mimus/anaconda3/envs/tf2/lib/python3.6/site-packages/ipykernel_launcher.py:51: UserWarning: /home/mimus/apiais/data/images/ANPR/training/masks_plate_loc/masks_328_29_augmented_image_15789.jpg is a low contrast image\n",
      "/home/mimus/anaconda3/envs/tf2/lib/python3.6/site-packages/ipykernel_launcher.py:51: UserWarning: /home/mimus/apiais/data/images/ANPR/training/masks_plate_loc/masks_846_32_augmented_image_15791.jpg is a low contrast image\n"
     ]
    },
    {
     "name": "stdout",
     "output_type": "stream",
     "text": [
      "4 15792\n",
      "5 15793\n"
     ]
    },
    {
     "name": "stderr",
     "output_type": "stream",
     "text": [
      "/home/mimus/anaconda3/envs/tf2/lib/python3.6/site-packages/ipykernel_launcher.py:51: UserWarning: /home/mimus/apiais/data/images/ANPR/training/masks_plate_loc/masks_465_0_augmented_image_15792.jpg is a low contrast image\n"
     ]
    },
    {
     "name": "stdout",
     "output_type": "stream",
     "text": [
      "6 15794\n",
      "7 15795\n",
      "8 15796\n"
     ]
    },
    {
     "name": "stderr",
     "output_type": "stream",
     "text": [
      "/home/mimus/anaconda3/envs/tf2/lib/python3.6/site-packages/ipykernel_launcher.py:51: UserWarning: /home/mimus/apiais/data/images/ANPR/training/masks_plate_loc/masks_89_40_augmented_image_15795.jpg is a low contrast image\n"
     ]
    },
    {
     "name": "stdout",
     "output_type": "stream",
     "text": [
      "9 15797\n",
      "10 15798\n",
      "11 15799\n",
      "12 15800\n",
      "13 15801\n",
      "14 15802\n",
      "15 15803\n",
      "16 15804\n",
      "17 15805\n"
     ]
    },
    {
     "name": "stderr",
     "output_type": "stream",
     "text": [
      "/home/mimus/anaconda3/envs/tf2/lib/python3.6/site-packages/ipykernel_launcher.py:51: UserWarning: /home/mimus/apiais/data/images/ANPR/training/masks_plate_loc/masks_220_28_augmented_image_15803.jpg is a low contrast image\n"
     ]
    },
    {
     "name": "stdout",
     "output_type": "stream",
     "text": [
      "18 15806\n",
      "19 15807\n"
     ]
    },
    {
     "name": "stderr",
     "output_type": "stream",
     "text": [
      "/home/mimus/anaconda3/envs/tf2/lib/python3.6/site-packages/ipykernel_launcher.py:51: UserWarning: /home/mimus/apiais/data/images/ANPR/training/masks_plate_loc/masks_55_0_augmented_image_11726_augmented_image_15807.jpg is a low contrast image\n"
     ]
    },
    {
     "name": "stdout",
     "output_type": "stream",
     "text": [
      "20 15808\n",
      "21 15809\n",
      "22 15810\n",
      "23 15811\n",
      "24 15812\n",
      "25 15813\n",
      "26 15814\n",
      "27 15815\n",
      "28 15816\n"
     ]
    },
    {
     "name": "stderr",
     "output_type": "stream",
     "text": [
      "/home/mimus/anaconda3/envs/tf2/lib/python3.6/site-packages/ipykernel_launcher.py:51: UserWarning: /home/mimus/apiais/data/images/ANPR/training/masks_plate_loc/masks_185_29_augmented_image_12972_augmented_image_15815.jpg is a low contrast image\n",
      "/home/mimus/anaconda3/envs/tf2/lib/python3.6/site-packages/ipykernel_launcher.py:51: UserWarning: /home/mimus/apiais/data/images/ANPR/training/masks_plate_loc/masks_403_39_augmented_image_15816.jpg is a low contrast image\n"
     ]
    },
    {
     "name": "stdout",
     "output_type": "stream",
     "text": [
      "29 15817\n",
      "30 15818\n"
     ]
    },
    {
     "name": "stderr",
     "output_type": "stream",
     "text": [
      "/home/mimus/anaconda3/envs/tf2/lib/python3.6/site-packages/ipykernel_launcher.py:51: UserWarning: /home/mimus/apiais/data/images/ANPR/training/masks_plate_loc/masks_53_29_augmented_image_14161_augmented_image_15818.jpg is a low contrast image\n"
     ]
    },
    {
     "name": "stdout",
     "output_type": "stream",
     "text": [
      "31 15819\n",
      "32 15820\n"
     ]
    },
    {
     "name": "stderr",
     "output_type": "stream",
     "text": [
      "/home/mimus/anaconda3/envs/tf2/lib/python3.6/site-packages/ipykernel_launcher.py:51: UserWarning: /home/mimus/apiais/data/images/ANPR/training/masks_plate_loc/masks_108_27_augmented_image_15820.jpg is a low contrast image\n"
     ]
    },
    {
     "name": "stdout",
     "output_type": "stream",
     "text": [
      "33 15821\n",
      "34 15822\n",
      "35 15823\n",
      "36 15824\n",
      "37 15825\n"
     ]
    },
    {
     "name": "stderr",
     "output_type": "stream",
     "text": [
      "/home/mimus/anaconda3/envs/tf2/lib/python3.6/site-packages/ipykernel_launcher.py:51: UserWarning: /home/mimus/apiais/data/images/ANPR/training/masks_plate_loc/masks_841_32_augmented_image_14632_augmented_image_15824.jpg is a low contrast image\n"
     ]
    },
    {
     "name": "stdout",
     "output_type": "stream",
     "text": [
      "38 15826\n",
      "39 15827\n",
      "40 15828\n",
      "41 15829\n",
      "42 15830\n",
      "43 15831\n"
     ]
    },
    {
     "name": "stderr",
     "output_type": "stream",
     "text": [
      "/home/mimus/anaconda3/envs/tf2/lib/python3.6/site-packages/ipykernel_launcher.py:51: UserWarning: /home/mimus/apiais/data/images/ANPR/training/masks_plate_loc/masks_564_34_augmented_image_8302_augmented_image_15830.jpg is a low contrast image\n"
     ]
    },
    {
     "name": "stdout",
     "output_type": "stream",
     "text": [
      "44 15832\n",
      "45 15833\n"
     ]
    },
    {
     "name": "stderr",
     "output_type": "stream",
     "text": [
      "/home/mimus/anaconda3/envs/tf2/lib/python3.6/site-packages/ipykernel_launcher.py:51: UserWarning: /home/mimus/apiais/data/images/ANPR/training/masks_plate_loc/masks_65_34_augmented_image_15542_augmented_image_15832.jpg is a low contrast image\n",
      "/home/mimus/anaconda3/envs/tf2/lib/python3.6/site-packages/ipykernel_launcher.py:51: UserWarning: /home/mimus/apiais/data/images/ANPR/training/masks_plate_loc/masks_671_32_augmented_image_15833.jpg is a low contrast image\n"
     ]
    },
    {
     "name": "stdout",
     "output_type": "stream",
     "text": [
      "46 15834\n",
      "47 15835\n",
      "48 15836\n",
      "49 15837\n"
     ]
    },
    {
     "name": "stderr",
     "output_type": "stream",
     "text": [
      "/home/mimus/anaconda3/envs/tf2/lib/python3.6/site-packages/ipykernel_launcher.py:51: UserWarning: /home/mimus/apiais/data/images/ANPR/training/masks_plate_loc/masks_204_39_augmented_image_15837.jpg is a low contrast image\n"
     ]
    },
    {
     "name": "stdout",
     "output_type": "stream",
     "text": [
      "50 15838\n",
      "51 15839\n",
      "52 15840\n",
      "53 15841\n"
     ]
    },
    {
     "name": "stderr",
     "output_type": "stream",
     "text": [
      "/home/mimus/anaconda3/envs/tf2/lib/python3.6/site-packages/ipykernel_launcher.py:51: UserWarning: /home/mimus/apiais/data/images/ANPR/training/masks_plate_loc/masks_110_39_augmented_image_15840.jpg is a low contrast image\n"
     ]
    },
    {
     "name": "stdout",
     "output_type": "stream",
     "text": [
      "54 15842\n",
      "55 15843\n",
      "56 15844\n"
     ]
    },
    {
     "name": "stderr",
     "output_type": "stream",
     "text": [
      "/home/mimus/anaconda3/envs/tf2/lib/python3.6/site-packages/ipykernel_launcher.py:51: UserWarning: /home/mimus/apiais/data/images/ANPR/training/masks_plate_loc/masks_260_36_augmented_image_15842.jpg is a low contrast image\n",
      "/home/mimus/anaconda3/envs/tf2/lib/python3.6/site-packages/ipykernel_launcher.py:51: UserWarning: /home/mimus/apiais/data/images/ANPR/training/masks_plate_loc/masks_6_33_augmented_image_15844.jpg is a low contrast image\n"
     ]
    },
    {
     "name": "stdout",
     "output_type": "stream",
     "text": [
      "57 15845\n",
      "58 15846\n",
      "59 15847\n",
      "60 15848\n"
     ]
    },
    {
     "name": "stderr",
     "output_type": "stream",
     "text": [
      "/home/mimus/anaconda3/envs/tf2/lib/python3.6/site-packages/ipykernel_launcher.py:51: UserWarning: /home/mimus/apiais/data/images/ANPR/training/masks_plate_loc/masks_40_30_1_augmented_image_15847.jpg is a low contrast image\n",
      "/home/mimus/anaconda3/envs/tf2/lib/python3.6/site-packages/ipykernel_launcher.py:51: UserWarning: /home/mimus/apiais/data/images/ANPR/training/masks_plate_loc/masks_646_32_augmented_image_15261_augmented_image_15848.jpg is a low contrast image\n"
     ]
    },
    {
     "name": "stdout",
     "output_type": "stream",
     "text": [
      "61 15849\n",
      "62 15850\n",
      "63 15851\n"
     ]
    },
    {
     "name": "stderr",
     "output_type": "stream",
     "text": [
      "/home/mimus/anaconda3/envs/tf2/lib/python3.6/site-packages/ipykernel_launcher.py:51: UserWarning: /home/mimus/apiais/data/images/ANPR/training/masks_plate_loc/masks_12_1_3_augmented_image_15851.jpg is a low contrast image\n"
     ]
    },
    {
     "name": "stdout",
     "output_type": "stream",
     "text": [
      "64 15852\n",
      "65 15853\n"
     ]
    },
    {
     "name": "stderr",
     "output_type": "stream",
     "text": [
      "/home/mimus/anaconda3/envs/tf2/lib/python3.6/site-packages/ipykernel_launcher.py:51: UserWarning: /home/mimus/apiais/data/images/ANPR/training/masks_plate_loc/masks_20_30_1_augmented_image_15853.jpg is a low contrast image\n"
     ]
    },
    {
     "name": "stdout",
     "output_type": "stream",
     "text": [
      "66 15854\n",
      "67 15855\n",
      "68 15856\n",
      "69 15857\n",
      "70 15858\n",
      "71 15859\n",
      "72 15860\n",
      "73 15861\n",
      "74 15862\n"
     ]
    },
    {
     "name": "stderr",
     "output_type": "stream",
     "text": [
      "/home/mimus/anaconda3/envs/tf2/lib/python3.6/site-packages/ipykernel_launcher.py:51: UserWarning: /home/mimus/apiais/data/images/ANPR/training/masks_plate_loc/masks_354_18_augmented_image_15862.jpg is a low contrast image\n",
      "/home/mimus/anaconda3/envs/tf2/lib/python3.6/site-packages/ipykernel_launcher.py:51: UserWarning: /home/mimus/apiais/data/images/ANPR/training/masks_plate_loc/masks_131_1_3_augmented_image_15863.jpg is a low contrast image\n"
     ]
    },
    {
     "name": "stdout",
     "output_type": "stream",
     "text": [
      "75 15863\n",
      "76 15864\n",
      "77 15865\n"
     ]
    },
    {
     "name": "stderr",
     "output_type": "stream",
     "text": [
      "/home/mimus/anaconda3/envs/tf2/lib/python3.6/site-packages/ipykernel_launcher.py:51: UserWarning: /home/mimus/apiais/data/images/ANPR/training/masks_plate_loc/masks_5_16_augmented_image_13361_augmented_image_15865.jpg is a low contrast image\n"
     ]
    },
    {
     "name": "stdout",
     "output_type": "stream",
     "text": [
      "78 15866\n",
      "79 15867\n",
      "80 15868\n",
      "81 15869\n",
      "82 15870\n",
      "83 15871\n",
      "84 15872\n",
      "85 15873\n"
     ]
    },
    {
     "name": "stderr",
     "output_type": "stream",
     "text": [
      "/home/mimus/anaconda3/envs/tf2/lib/python3.6/site-packages/ipykernel_launcher.py:51: UserWarning: /home/mimus/apiais/data/images/ANPR/training/masks_plate_loc/masks_124_39_augmented_image_8281_augmented_image_15872.jpg is a low contrast image\n"
     ]
    },
    {
     "name": "stdout",
     "output_type": "stream",
     "text": [
      "86 15874\n",
      "87 15875\n",
      "88 15876\n",
      "89 15877\n",
      "90 15878\n",
      "91 15879\n",
      "92 15880\n",
      "93 15881\n",
      "94 15882\n",
      "95 15883\n",
      "96 15884\n",
      "97 15885\n",
      "98 15886\n"
     ]
    },
    {
     "name": "stderr",
     "output_type": "stream",
     "text": [
      "/home/mimus/anaconda3/envs/tf2/lib/python3.6/site-packages/ipykernel_launcher.py:51: UserWarning: /home/mimus/apiais/data/images/ANPR/training/masks_plate_loc/masks_17_15_augmented_image_13381_augmented_image_15886.jpg is a low contrast image\n",
      "/home/mimus/anaconda3/envs/tf2/lib/python3.6/site-packages/ipykernel_launcher.py:51: UserWarning: /home/mimus/apiais/data/images/ANPR/training/masks_plate_loc/masks_466_32_augmented_image_10424_augmented_image_15887.jpg is a low contrast image\n"
     ]
    },
    {
     "name": "stdout",
     "output_type": "stream",
     "text": [
      "99 15887\n",
      "100 15888\n",
      "101 15889\n",
      "102 15890\n",
      "103 15891\n",
      "104 15892\n",
      "105 15893\n",
      "106 15894\n",
      "107 15895\n",
      "108 15896\n",
      "109 15897\n",
      "110 15898\n"
     ]
    },
    {
     "name": "stderr",
     "output_type": "stream",
     "text": [
      "/home/mimus/anaconda3/envs/tf2/lib/python3.6/site-packages/ipykernel_launcher.py:51: UserWarning: /home/mimus/apiais/data/images/ANPR/training/masks_plate_loc/masks_27_39_augmented_image_15729_augmented_image_15897.jpg is a low contrast image\n",
      "/home/mimus/anaconda3/envs/tf2/lib/python3.6/site-packages/ipykernel_launcher.py:51: UserWarning: /home/mimus/apiais/data/images/ANPR/training/masks_plate_loc/masks_7_19_augmented_image_15898.jpg is a low contrast image\n"
     ]
    },
    {
     "name": "stdout",
     "output_type": "stream",
     "text": [
      "111 15899\n",
      "112 15900\n",
      "113 15901\n",
      "114 15902\n"
     ]
    },
    {
     "name": "stderr",
     "output_type": "stream",
     "text": [
      "/home/mimus/anaconda3/envs/tf2/lib/python3.6/site-packages/ipykernel_launcher.py:51: UserWarning: /home/mimus/apiais/data/images/ANPR/training/masks_plate_loc/masks_7_12_augmented_image_15901.jpg is a low contrast image\n"
     ]
    },
    {
     "name": "stdout",
     "output_type": "stream",
     "text": [
      "115 15903\n",
      "116 15904\n",
      "117 15905\n"
     ]
    },
    {
     "name": "stderr",
     "output_type": "stream",
     "text": [
      "/home/mimus/anaconda3/envs/tf2/lib/python3.6/site-packages/ipykernel_launcher.py:51: UserWarning: /home/mimus/apiais/data/images/ANPR/training/masks_plate_loc/masks_217_33_augmented_image_15904.jpg is a low contrast image\n"
     ]
    },
    {
     "name": "stdout",
     "output_type": "stream",
     "text": [
      "118 15906\n",
      "119 15907\n",
      "120 15908\n",
      "121 15909\n",
      "122 15910\n"
     ]
    },
    {
     "name": "stderr",
     "output_type": "stream",
     "text": [
      "/home/mimus/anaconda3/envs/tf2/lib/python3.6/site-packages/ipykernel_launcher.py:51: UserWarning: /home/mimus/apiais/data/images/ANPR/training/masks_plate_loc/masks_54_42_augmented_image_15909.jpg is a low contrast image\n",
      "/home/mimus/anaconda3/envs/tf2/lib/python3.6/site-packages/ipykernel_launcher.py:51: UserWarning: /home/mimus/apiais/data/images/ANPR/training/masks_plate_loc/masks_62_43_augmented_image_15911.jpg is a low contrast image\n"
     ]
    },
    {
     "name": "stdout",
     "output_type": "stream",
     "text": [
      "123 15911\n",
      "124 15912\n",
      "125 15913\n",
      "126 15914\n",
      "127 15915\n",
      "128 15916\n",
      "129 15917\n",
      "130 15918\n",
      "131 15919\n",
      "132 15920\n",
      "133 15921\n",
      "134 15922\n",
      "135 15923\n",
      "136 15924\n",
      "137 15925\n"
     ]
    },
    {
     "name": "stderr",
     "output_type": "stream",
     "text": [
      "/home/mimus/anaconda3/envs/tf2/lib/python3.6/site-packages/ipykernel_launcher.py:51: UserWarning: /home/mimus/apiais/data/images/ANPR/training/masks_plate_loc/masks_20_1_3_augmented_image_12056_augmented_image_15925.jpg is a low contrast image\n"
     ]
    },
    {
     "name": "stdout",
     "output_type": "stream",
     "text": [
      "138 15926\n",
      "139 15927\n"
     ]
    },
    {
     "name": "stderr",
     "output_type": "stream",
     "text": [
      "/home/mimus/anaconda3/envs/tf2/lib/python3.6/site-packages/ipykernel_launcher.py:51: UserWarning: /home/mimus/apiais/data/images/ANPR/training/masks_plate_loc/masks_110_33_augmented_image_13597_augmented_image_15927.jpg is a low contrast image\n"
     ]
    },
    {
     "name": "stdout",
     "output_type": "stream",
     "text": [
      "140 15928\n",
      "141 15929\n"
     ]
    },
    {
     "name": "stderr",
     "output_type": "stream",
     "text": [
      "/home/mimus/anaconda3/envs/tf2/lib/python3.6/site-packages/ipykernel_launcher.py:51: UserWarning: /home/mimus/apiais/data/images/ANPR/training/masks_plate_loc/masks_57_39_augmented_image_15929.jpg is a low contrast image\n",
      "/home/mimus/anaconda3/envs/tf2/lib/python3.6/site-packages/ipykernel_launcher.py:51: UserWarning: /home/mimus/apiais/data/images/ANPR/training/masks_plate_loc/masks_17_42_augmented_image_7929_augmented_image_15930.jpg is a low contrast image\n"
     ]
    },
    {
     "name": "stdout",
     "output_type": "stream",
     "text": [
      "142 15930\n",
      "143 15931\n",
      "144 15932\n",
      "145 15933\n"
     ]
    },
    {
     "name": "stderr",
     "output_type": "stream",
     "text": [
      "/home/mimus/anaconda3/envs/tf2/lib/python3.6/site-packages/ipykernel_launcher.py:51: UserWarning: /home/mimus/apiais/data/images/ANPR/training/masks_plate_loc/masks_49_5_augmented_image_15932.jpg is a low contrast image\n",
      "/home/mimus/anaconda3/envs/tf2/lib/python3.6/site-packages/ipykernel_launcher.py:51: UserWarning: /home/mimus/apiais/data/images/ANPR/training/masks_plate_loc/masks_236_39_augmented_image_15933.jpg is a low contrast image\n"
     ]
    },
    {
     "name": "stdout",
     "output_type": "stream",
     "text": [
      "146 15934\n",
      "147 15935\n"
     ]
    },
    {
     "name": "stderr",
     "output_type": "stream",
     "text": [
      "/home/mimus/anaconda3/envs/tf2/lib/python3.6/site-packages/ipykernel_launcher.py:51: UserWarning: /home/mimus/apiais/data/images/ANPR/training/masks_plate_loc/masks_81_4_augmented_image_15935.jpg is a low contrast image\n"
     ]
    },
    {
     "name": "stdout",
     "output_type": "stream",
     "text": [
      "148 15936\n",
      "149 15937\n",
      "150 15938\n",
      "151 15939\n",
      "152 15940\n",
      "153 15941\n",
      "154 15942\n",
      "155 15943\n"
     ]
    },
    {
     "name": "stderr",
     "output_type": "stream",
     "text": [
      "/home/mimus/anaconda3/envs/tf2/lib/python3.6/site-packages/ipykernel_launcher.py:51: UserWarning: /home/mimus/apiais/data/images/ANPR/training/masks_plate_loc/masks_50_39_augmented_image_15941.jpg is a low contrast image\n",
      "/home/mimus/anaconda3/envs/tf2/lib/python3.6/site-packages/ipykernel_launcher.py:51: UserWarning: /home/mimus/apiais/data/images/ANPR/training/masks_plate_loc/masks_19_0_augmented_image_15942.jpg is a low contrast image\n",
      "/home/mimus/anaconda3/envs/tf2/lib/python3.6/site-packages/ipykernel_launcher.py:51: UserWarning: /home/mimus/apiais/data/images/ANPR/training/masks_plate_loc/masks_438_29_augmented_image_15943.jpg is a low contrast image\n",
      "/home/mimus/anaconda3/envs/tf2/lib/python3.6/site-packages/ipykernel_launcher.py:51: UserWarning: /home/mimus/apiais/data/images/ANPR/training/masks_plate_loc/masks_276_28_augmented_image_15944.jpg is a low contrast image\n"
     ]
    },
    {
     "name": "stdout",
     "output_type": "stream",
     "text": [
      "156 15944\n",
      "157 15945\n"
     ]
    },
    {
     "name": "stderr",
     "output_type": "stream",
     "text": [
      "/home/mimus/anaconda3/envs/tf2/lib/python3.6/site-packages/ipykernel_launcher.py:51: UserWarning: /home/mimus/apiais/data/images/ANPR/training/masks_plate_loc/masks_812_32_augmented_image_15945.jpg is a low contrast image\n"
     ]
    },
    {
     "name": "stdout",
     "output_type": "stream",
     "text": [
      "158 15946\n",
      "159 15947\n",
      "160 15948\n",
      "161 15949\n",
      "162 15950\n",
      "163 15951\n",
      "164 15952\n",
      "165 15953\n"
     ]
    },
    {
     "name": "stderr",
     "output_type": "stream",
     "text": [
      "/home/mimus/anaconda3/envs/tf2/lib/python3.6/site-packages/ipykernel_launcher.py:51: UserWarning: /home/mimus/apiais/data/images/ANPR/training/masks_plate_loc/masks_427_39_augmented_image_15952.jpg is a low contrast image\n",
      "/home/mimus/anaconda3/envs/tf2/lib/python3.6/site-packages/ipykernel_launcher.py:51: UserWarning: /home/mimus/apiais/data/images/ANPR/training/masks_plate_loc/masks_96_24_augmented_image_9751_augmented_image_15953.jpg is a low contrast image\n"
     ]
    },
    {
     "name": "stdout",
     "output_type": "stream",
     "text": [
      "166 15954\n",
      "167 15955\n",
      "168 15956\n",
      "169 15957\n",
      "170 15958\n",
      "171 15959\n",
      "172 15960\n",
      "173 15961\n",
      "174 15962\n",
      "175 15963\n",
      "176 15964\n",
      "177 15965\n"
     ]
    },
    {
     "name": "stderr",
     "output_type": "stream",
     "text": [
      "/home/mimus/anaconda3/envs/tf2/lib/python3.6/site-packages/ipykernel_launcher.py:51: UserWarning: /home/mimus/apiais/data/images/ANPR/training/masks_plate_loc/masks_8_26_augmented_image_9564_augmented_image_15964.jpg is a low contrast image\n"
     ]
    },
    {
     "name": "stdout",
     "output_type": "stream",
     "text": [
      "178 15966\n",
      "179 15967\n"
     ]
    },
    {
     "name": "stderr",
     "output_type": "stream",
     "text": [
      "/home/mimus/anaconda3/envs/tf2/lib/python3.6/site-packages/ipykernel_launcher.py:51: UserWarning: /home/mimus/apiais/data/images/ANPR/training/masks_plate_loc/masks_64_32_augmented_image_9770_augmented_image_15966.jpg is a low contrast image\n"
     ]
    },
    {
     "name": "stdout",
     "output_type": "stream",
     "text": [
      "180 15968\n",
      "181 15969\n"
     ]
    },
    {
     "name": "stderr",
     "output_type": "stream",
     "text": [
      "/home/mimus/anaconda3/envs/tf2/lib/python3.6/site-packages/ipykernel_launcher.py:51: UserWarning: /home/mimus/apiais/data/images/ANPR/training/masks_plate_loc/masks_134_1_3_augmented_image_13095_augmented_image_15968.jpg is a low contrast image\n"
     ]
    },
    {
     "name": "stdout",
     "output_type": "stream",
     "text": [
      "182 15970\n",
      "183 15971\n",
      "184 15972\n",
      "185 15973\n",
      "186 15974\n",
      "187 15975\n",
      "188 15976\n"
     ]
    },
    {
     "name": "stderr",
     "output_type": "stream",
     "text": [
      "/home/mimus/anaconda3/envs/tf2/lib/python3.6/site-packages/ipykernel_launcher.py:51: UserWarning: /home/mimus/apiais/data/images/ANPR/training/masks_plate_loc/masks_77_5_augmented_image_15975.jpg is a low contrast image\n",
      "/home/mimus/anaconda3/envs/tf2/lib/python3.6/site-packages/ipykernel_launcher.py:51: UserWarning: /home/mimus/apiais/data/images/ANPR/training/masks_plate_loc/masks_528_0_augmented_image_8523_augmented_image_15976.jpg is a low contrast image\n"
     ]
    },
    {
     "name": "stdout",
     "output_type": "stream",
     "text": [
      "189 15977\n",
      "190 15978\n",
      "191 15979\n",
      "192 15980\n",
      "193 15981\n",
      "194 15982\n",
      "195 15983\n",
      "196 15984\n",
      "197 15985\n"
     ]
    },
    {
     "name": "stderr",
     "output_type": "stream",
     "text": [
      "/home/mimus/anaconda3/envs/tf2/lib/python3.6/site-packages/ipykernel_launcher.py:51: UserWarning: /home/mimus/apiais/data/images/ANPR/training/masks_plate_loc/masks_189_43_augmented_image_15984.jpg is a low contrast image\n",
      "/home/mimus/anaconda3/envs/tf2/lib/python3.6/site-packages/ipykernel_launcher.py:51: UserWarning: /home/mimus/apiais/data/images/ANPR/training/masks_plate_loc/masks_230_39_augmented_image_15985.jpg is a low contrast image\n"
     ]
    },
    {
     "name": "stdout",
     "output_type": "stream",
     "text": [
      "198 15986\n",
      "199 15987\n",
      "200 15988\n",
      "201 15989\n"
     ]
    },
    {
     "name": "stderr",
     "output_type": "stream",
     "text": [
      "/home/mimus/anaconda3/envs/tf2/lib/python3.6/site-packages/ipykernel_launcher.py:51: UserWarning: /home/mimus/apiais/data/images/ANPR/training/masks_plate_loc/masks_69_30_1_augmented_image_15988.jpg is a low contrast image\n"
     ]
    },
    {
     "name": "stdout",
     "output_type": "stream",
     "text": [
      "202 15990\n",
      "203 15991\n",
      "204 15992\n",
      "205 15993\n"
     ]
    },
    {
     "name": "stderr",
     "output_type": "stream",
     "text": [
      "/home/mimus/anaconda3/envs/tf2/lib/python3.6/site-packages/ipykernel_launcher.py:51: UserWarning: /home/mimus/apiais/data/images/ANPR/training/masks_plate_loc/masks_756_32_augmented_image_15992.jpg is a low contrast image\n"
     ]
    },
    {
     "name": "stdout",
     "output_type": "stream",
     "text": [
      "206 15994\n",
      "207 15995\n"
     ]
    },
    {
     "name": "stderr",
     "output_type": "stream",
     "text": [
      "/home/mimus/anaconda3/envs/tf2/lib/python3.6/site-packages/ipykernel_launcher.py:51: UserWarning: /home/mimus/apiais/data/images/ANPR/training/masks_plate_loc/masks_205_32_augmented_image_15995.jpg is a low contrast image\n"
     ]
    },
    {
     "name": "stdout",
     "output_type": "stream",
     "text": [
      "208 15996\n",
      "209 15997\n"
     ]
    },
    {
     "name": "stderr",
     "output_type": "stream",
     "text": [
      "/home/mimus/anaconda3/envs/tf2/lib/python3.6/site-packages/ipykernel_launcher.py:51: UserWarning: /home/mimus/apiais/data/images/ANPR/training/masks_plate_loc/masks_196_39_augmented_image_15997.jpg is a low contrast image\n",
      "/home/mimus/anaconda3/envs/tf2/lib/python3.6/site-packages/ipykernel_launcher.py:51: UserWarning: /home/mimus/apiais/data/images/ANPR/training/masks_plate_loc/masks_9_14_augmented_image_14295_augmented_image_15998.jpg is a low contrast image\n"
     ]
    },
    {
     "name": "stdout",
     "output_type": "stream",
     "text": [
      "210 15998\n",
      "211 15999\n",
      "212 16000\n",
      "213 16001\n",
      "214 16002\n"
     ]
    },
    {
     "name": "stderr",
     "output_type": "stream",
     "text": [
      "/home/mimus/anaconda3/envs/tf2/lib/python3.6/site-packages/ipykernel_launcher.py:51: UserWarning: /home/mimus/apiais/data/images/ANPR/training/masks_plate_loc/masks_49_31_augmented_image_16001.jpg is a low contrast image\n",
      "/home/mimus/anaconda3/envs/tf2/lib/python3.6/site-packages/ipykernel_launcher.py:51: UserWarning: /home/mimus/apiais/data/images/ANPR/training/masks_plate_loc/masks_458_32_augmented_image_9798_augmented_image_16002.jpg is a low contrast image\n",
      "/home/mimus/anaconda3/envs/tf2/lib/python3.6/site-packages/ipykernel_launcher.py:51: UserWarning: /home/mimus/apiais/data/images/ANPR/training/masks_plate_loc/masks_94_4_augmented_image_9458_augmented_image_16003.jpg is a low contrast image\n"
     ]
    },
    {
     "name": "stdout",
     "output_type": "stream",
     "text": [
      "215 16003\n",
      "216 16004\n",
      "217 16005\n",
      "218 16006\n",
      "219 16007\n",
      "220 16008\n",
      "221 16009\n",
      "222 16010\n"
     ]
    },
    {
     "name": "stderr",
     "output_type": "stream",
     "text": [
      "/home/mimus/anaconda3/envs/tf2/lib/python3.6/site-packages/ipykernel_launcher.py:51: UserWarning: /home/mimus/apiais/data/images/ANPR/training/masks_plate_loc/masks_545_34_augmented_image_16009.jpg is a low contrast image\n"
     ]
    },
    {
     "name": "stdout",
     "output_type": "stream",
     "text": [
      "223 16011\n",
      "224 16012\n",
      "225 16013\n",
      "226 16014\n"
     ]
    },
    {
     "name": "stderr",
     "output_type": "stream",
     "text": [
      "/home/mimus/anaconda3/envs/tf2/lib/python3.6/site-packages/ipykernel_launcher.py:51: UserWarning: /home/mimus/apiais/data/images/ANPR/training/masks_plate_loc/masks_100_30_1_augmented_image_15770_augmented_image_16013.jpg is a low contrast image\n"
     ]
    },
    {
     "name": "stdout",
     "output_type": "stream",
     "text": [
      "227 16015\n",
      "228 16016\n",
      "229 16017\n",
      "230 16018\n",
      "231 16019\n",
      "232 16020\n",
      "233 16021\n",
      "234 16022\n",
      "235 16023\n",
      "236 16024\n",
      "237 16025\n",
      "238 16026\n",
      "239 16027\n",
      "240 16028\n",
      "241 16029\n",
      "242 16030\n",
      "243 16031\n",
      "244 16032\n",
      "245 16033\n",
      "246 16034\n",
      "247 16035\n",
      "248 16036\n",
      "249 16037\n"
     ]
    },
    {
     "name": "stderr",
     "output_type": "stream",
     "text": [
      "/home/mimus/anaconda3/envs/tf2/lib/python3.6/site-packages/ipykernel_launcher.py:51: UserWarning: /home/mimus/apiais/data/images/ANPR/training/masks_plate_loc/masks_248_20_augmented_image_12392_augmented_image_16036.jpg is a low contrast image\n",
      "/home/mimus/anaconda3/envs/tf2/lib/python3.6/site-packages/ipykernel_launcher.py:51: UserWarning: /home/mimus/apiais/data/images/ANPR/training/masks_plate_loc/masks_534_32_augmented_image_16037.jpg is a low contrast image\n",
      "/home/mimus/anaconda3/envs/tf2/lib/python3.6/site-packages/ipykernel_launcher.py:51: UserWarning: /home/mimus/apiais/data/images/ANPR/training/masks_plate_loc/masks_557_34_augmented_image_16038.jpg is a low contrast image\n"
     ]
    },
    {
     "name": "stdout",
     "output_type": "stream",
     "text": [
      "250 16038\n",
      "251 16039\n",
      "252 16040\n"
     ]
    },
    {
     "name": "stderr",
     "output_type": "stream",
     "text": [
      "/home/mimus/anaconda3/envs/tf2/lib/python3.6/site-packages/ipykernel_launcher.py:51: UserWarning: /home/mimus/apiais/data/images/ANPR/training/masks_plate_loc/masks_82_4_augmented_image_16040.jpg is a low contrast image\n",
      "/home/mimus/anaconda3/envs/tf2/lib/python3.6/site-packages/ipykernel_launcher.py:51: UserWarning: /home/mimus/apiais/data/images/ANPR/training/masks_plate_loc/masks_4_17_augmented_image_12350_augmented_image_16041.jpg is a low contrast image\n",
      "/home/mimus/anaconda3/envs/tf2/lib/python3.6/site-packages/ipykernel_launcher.py:51: UserWarning: /home/mimus/apiais/data/images/ANPR/training/masks_plate_loc/masks_3_38_augmented_image_16042.jpg is a low contrast image\n"
     ]
    },
    {
     "name": "stdout",
     "output_type": "stream",
     "text": [
      "253 16041\n",
      "254 16042\n",
      "255 16043\n",
      "256 16044\n",
      "257 16045\n",
      "258 16046\n"
     ]
    },
    {
     "name": "stderr",
     "output_type": "stream",
     "text": [
      "/home/mimus/anaconda3/envs/tf2/lib/python3.6/site-packages/ipykernel_launcher.py:51: UserWarning: /home/mimus/apiais/data/images/ANPR/training/masks_plate_loc/masks_312_28_augmented_image_14245_augmented_image_16045.jpg is a low contrast image\n",
      "/home/mimus/anaconda3/envs/tf2/lib/python3.6/site-packages/ipykernel_launcher.py:51: UserWarning: /home/mimus/apiais/data/images/ANPR/training/masks_plate_loc/masks_68_9_augmented_image_12829_augmented_image_16046.jpg is a low contrast image\n"
     ]
    },
    {
     "name": "stdout",
     "output_type": "stream",
     "text": [
      "259 16047\n",
      "260 16048\n"
     ]
    },
    {
     "name": "stderr",
     "output_type": "stream",
     "text": [
      "/home/mimus/anaconda3/envs/tf2/lib/python3.6/site-packages/ipykernel_launcher.py:51: UserWarning: /home/mimus/apiais/data/images/ANPR/training/masks_plate_loc/masks_23_38_augmented_image_16047.jpg is a low contrast image\n"
     ]
    },
    {
     "name": "stdout",
     "output_type": "stream",
     "text": [
      "261 16049\n",
      "262 16050\n",
      "263 16051\n",
      "264 16052\n"
     ]
    },
    {
     "name": "stderr",
     "output_type": "stream",
     "text": [
      "/home/mimus/anaconda3/envs/tf2/lib/python3.6/site-packages/ipykernel_launcher.py:51: UserWarning: /home/mimus/apiais/data/images/ANPR/training/masks_plate_loc/masks_261_32_augmented_image_13952_augmented_image_16051.jpg is a low contrast image\n"
     ]
    },
    {
     "name": "stdout",
     "output_type": "stream",
     "text": [
      "265 16053\n",
      "266 16054\n",
      "267 16055\n",
      "268 16056\n",
      "269 16057\n",
      "270 16058\n",
      "271 16059\n",
      "272 16060\n",
      "273 16061\n",
      "274 16062\n"
     ]
    },
    {
     "name": "stderr",
     "output_type": "stream",
     "text": [
      "/home/mimus/anaconda3/envs/tf2/lib/python3.6/site-packages/ipykernel_launcher.py:51: UserWarning: /home/mimus/apiais/data/images/ANPR/training/masks_plate_loc/masks_214_24_augmented_image_16060.jpg is a low contrast image\n",
      "/home/mimus/anaconda3/envs/tf2/lib/python3.6/site-packages/ipykernel_launcher.py:51: UserWarning: /home/mimus/apiais/data/images/ANPR/training/masks_plate_loc/masks_21_12_augmented_image_16062.jpg is a low contrast image\n"
     ]
    },
    {
     "name": "stdout",
     "output_type": "stream",
     "text": [
      "275 16063\n",
      "276 16064\n"
     ]
    },
    {
     "name": "stderr",
     "output_type": "stream",
     "text": [
      "/home/mimus/anaconda3/envs/tf2/lib/python3.6/site-packages/ipykernel_launcher.py:51: UserWarning: /home/mimus/apiais/data/images/ANPR/training/masks_plate_loc/masks_74_23_augmented_image_16063.jpg is a low contrast image\n"
     ]
    },
    {
     "name": "stdout",
     "output_type": "stream",
     "text": [
      "277 16065\n",
      "278 16066\n"
     ]
    },
    {
     "name": "stderr",
     "output_type": "stream",
     "text": [
      "/home/mimus/anaconda3/envs/tf2/lib/python3.6/site-packages/ipykernel_launcher.py:51: UserWarning: /home/mimus/apiais/data/images/ANPR/training/masks_plate_loc/masks_275_39_augmented_image_8746_augmented_image_16066.jpg is a low contrast image\n",
      "/home/mimus/anaconda3/envs/tf2/lib/python3.6/site-packages/ipykernel_launcher.py:51: UserWarning: /home/mimus/apiais/data/images/ANPR/training/masks_plate_loc/masks_119_41_augmented_image_14013_augmented_image_16067.jpg is a low contrast image\n"
     ]
    },
    {
     "name": "stdout",
     "output_type": "stream",
     "text": [
      "279 16067\n",
      "280 16068\n"
     ]
    },
    {
     "name": "stderr",
     "output_type": "stream",
     "text": [
      "/home/mimus/anaconda3/envs/tf2/lib/python3.6/site-packages/ipykernel_launcher.py:51: UserWarning: /home/mimus/apiais/data/images/ANPR/training/masks_plate_loc/masks_203_29_augmented_image_9984_augmented_image_16068.jpg is a low contrast image\n"
     ]
    },
    {
     "name": "stdout",
     "output_type": "stream",
     "text": [
      "281 16069\n",
      "282 16070\n",
      "283 16071\n",
      "284 16072\n"
     ]
    },
    {
     "name": "stderr",
     "output_type": "stream",
     "text": [
      "/home/mimus/anaconda3/envs/tf2/lib/python3.6/site-packages/ipykernel_launcher.py:51: UserWarning: /home/mimus/apiais/data/images/ANPR/training/masks_plate_loc/masks_521_29_augmented_image_14510_augmented_image_16071.jpg is a low contrast image\n"
     ]
    },
    {
     "name": "stdout",
     "output_type": "stream",
     "text": [
      "285 16073\n",
      "286 16074\n"
     ]
    },
    {
     "name": "stderr",
     "output_type": "stream",
     "text": [
      "/home/mimus/anaconda3/envs/tf2/lib/python3.6/site-packages/ipykernel_launcher.py:51: UserWarning: /home/mimus/apiais/data/images/ANPR/training/masks_plate_loc/masks_21_19_augmented_image_10751_augmented_image_16073.jpg is a low contrast image\n",
      "/home/mimus/anaconda3/envs/tf2/lib/python3.6/site-packages/ipykernel_launcher.py:51: UserWarning: /home/mimus/apiais/data/images/ANPR/training/masks_plate_loc/masks_14_33_augmented_image_16075.jpg is a low contrast image\n"
     ]
    },
    {
     "name": "stdout",
     "output_type": "stream",
     "text": [
      "287 16075\n",
      "288 16076\n",
      "289 16077\n",
      "290 16078\n",
      "291 16079\n",
      "292 16080\n"
     ]
    },
    {
     "name": "stderr",
     "output_type": "stream",
     "text": [
      "/home/mimus/anaconda3/envs/tf2/lib/python3.6/site-packages/ipykernel_launcher.py:51: UserWarning: /home/mimus/apiais/data/images/ANPR/training/masks_plate_loc/masks_438_39_augmented_image_16078.jpg is a low contrast image\n",
      "/home/mimus/anaconda3/envs/tf2/lib/python3.6/site-packages/ipykernel_launcher.py:51: UserWarning: /home/mimus/apiais/data/images/ANPR/training/masks_plate_loc/masks_526_29_augmented_image_16080.jpg is a low contrast image\n",
      "/home/mimus/anaconda3/envs/tf2/lib/python3.6/site-packages/ipykernel_launcher.py:51: UserWarning: /home/mimus/apiais/data/images/ANPR/training/masks_plate_loc/masks_88_9_augmented_image_9862_augmented_image_16081.jpg is a low contrast image\n"
     ]
    },
    {
     "name": "stdout",
     "output_type": "stream",
     "text": [
      "293 16081\n",
      "294 16082\n",
      "295 16083\n",
      "296 16084\n",
      "297 16085\n"
     ]
    },
    {
     "name": "stderr",
     "output_type": "stream",
     "text": [
      "/home/mimus/anaconda3/envs/tf2/lib/python3.6/site-packages/ipykernel_launcher.py:51: UserWarning: /home/mimus/apiais/data/images/ANPR/training/masks_plate_loc/masks_330_39_augmented_image_16084.jpg is a low contrast image\n",
      "/home/mimus/anaconda3/envs/tf2/lib/python3.6/site-packages/ipykernel_launcher.py:51: UserWarning: /home/mimus/apiais/data/images/ANPR/training/masks_plate_loc/masks_78_21_augmented_image_16085.jpg is a low contrast image\n"
     ]
    },
    {
     "name": "stdout",
     "output_type": "stream",
     "text": [
      "298 16086\n",
      "299 16087\n",
      "300 16088\n"
     ]
    },
    {
     "name": "stderr",
     "output_type": "stream",
     "text": [
      "/home/mimus/anaconda3/envs/tf2/lib/python3.6/site-packages/ipykernel_launcher.py:51: UserWarning: /home/mimus/apiais/data/images/ANPR/training/masks_plate_loc/masks_200_32_augmented_image_16088.jpg is a low contrast image\n",
      "/home/mimus/anaconda3/envs/tf2/lib/python3.6/site-packages/ipykernel_launcher.py:51: UserWarning: /home/mimus/apiais/data/images/ANPR/training/masks_plate_loc/masks_420_39_augmented_image_16089.jpg is a low contrast image\n"
     ]
    },
    {
     "name": "stdout",
     "output_type": "stream",
     "text": [
      "301 16089\n",
      "302 16090\n",
      "303 16091\n"
     ]
    },
    {
     "name": "stderr",
     "output_type": "stream",
     "text": [
      "/home/mimus/anaconda3/envs/tf2/lib/python3.6/site-packages/ipykernel_launcher.py:51: UserWarning: /home/mimus/apiais/data/images/ANPR/training/masks_plate_loc/masks_132_4_augmented_image_14440_augmented_image_16091.jpg is a low contrast image\n",
      "/home/mimus/anaconda3/envs/tf2/lib/python3.6/site-packages/ipykernel_launcher.py:51: UserWarning: /home/mimus/apiais/data/images/ANPR/training/masks_plate_loc/masks_497_29_augmented_image_16092.jpg is a low contrast image\n"
     ]
    },
    {
     "name": "stdout",
     "output_type": "stream",
     "text": [
      "304 16092\n",
      "305 16093\n"
     ]
    },
    {
     "name": "stderr",
     "output_type": "stream",
     "text": [
      "/home/mimus/anaconda3/envs/tf2/lib/python3.6/site-packages/ipykernel_launcher.py:51: UserWarning: /home/mimus/apiais/data/images/ANPR/training/masks_plate_loc/masks_143_41_augmented_image_16093.jpg is a low contrast image\n",
      "/home/mimus/anaconda3/envs/tf2/lib/python3.6/site-packages/ipykernel_launcher.py:51: UserWarning: /home/mimus/apiais/data/images/ANPR/training/masks_plate_loc/masks_291_32_augmented_image_8682_augmented_image_16094.jpg is a low contrast image\n"
     ]
    },
    {
     "name": "stdout",
     "output_type": "stream",
     "text": [
      "306 16094\n",
      "307 16095\n",
      "308 16096\n",
      "309 16097\n",
      "310 16098\n"
     ]
    },
    {
     "name": "stderr",
     "output_type": "stream",
     "text": [
      "/home/mimus/anaconda3/envs/tf2/lib/python3.6/site-packages/ipykernel_launcher.py:51: UserWarning: /home/mimus/apiais/data/images/ANPR/training/masks_plate_loc/masks_21_7_augmented_image_16098.jpg is a low contrast image\n",
      "/home/mimus/anaconda3/envs/tf2/lib/python3.6/site-packages/ipykernel_launcher.py:51: UserWarning: /home/mimus/apiais/data/images/ANPR/training/masks_plate_loc/masks_78_43_augmented_image_16099.jpg is a low contrast image\n"
     ]
    },
    {
     "name": "stdout",
     "output_type": "stream",
     "text": [
      "311 16099\n",
      "312 16100\n",
      "313 16101\n",
      "314 16102\n",
      "315 16103\n",
      "316 16104\n",
      "317 16105\n",
      "318 16106\n"
     ]
    },
    {
     "name": "stderr",
     "output_type": "stream",
     "text": [
      "/home/mimus/anaconda3/envs/tf2/lib/python3.6/site-packages/ipykernel_launcher.py:51: UserWarning: /home/mimus/apiais/data/images/ANPR/training/masks_plate_loc/masks_49_9_augmented_image_16105.jpg is a low contrast image\n",
      "/home/mimus/anaconda3/envs/tf2/lib/python3.6/site-packages/ipykernel_launcher.py:51: UserWarning: /home/mimus/apiais/data/images/ANPR/training/masks_plate_loc/masks_92_29_augmented_image_16106.jpg is a low contrast image\n"
     ]
    },
    {
     "name": "stdout",
     "output_type": "stream",
     "text": [
      "319 16107\n",
      "320 16108\n",
      "321 16109\n"
     ]
    },
    {
     "name": "stderr",
     "output_type": "stream",
     "text": [
      "/home/mimus/anaconda3/envs/tf2/lib/python3.6/site-packages/ipykernel_launcher.py:51: UserWarning: /home/mimus/apiais/data/images/ANPR/training/masks_plate_loc/masks_74_20_augmented_image_16107.jpg is a low contrast image\n",
      "/home/mimus/anaconda3/envs/tf2/lib/python3.6/site-packages/ipykernel_launcher.py:51: UserWarning: /home/mimus/apiais/data/images/ANPR/training/masks_plate_loc/masks_54_21_augmented_image_16109.jpg is a low contrast image\n",
      "/home/mimus/anaconda3/envs/tf2/lib/python3.6/site-packages/ipykernel_launcher.py:51: UserWarning: /home/mimus/apiais/data/images/ANPR/training/masks_plate_loc/masks_76_18_augmented_image_16110.jpg is a low contrast image\n"
     ]
    },
    {
     "name": "stdout",
     "output_type": "stream",
     "text": [
      "322 16110\n",
      "323 16111\n",
      "324 16112\n",
      "325 16113\n",
      "326 16114\n",
      "327 16115\n",
      "328 16116\n",
      "329 16117\n"
     ]
    },
    {
     "name": "stderr",
     "output_type": "stream",
     "text": [
      "/home/mimus/anaconda3/envs/tf2/lib/python3.6/site-packages/ipykernel_launcher.py:51: UserWarning: /home/mimus/apiais/data/images/ANPR/training/masks_plate_loc/masks_456_18_augmented_image_16116.jpg is a low contrast image\n",
      "/home/mimus/anaconda3/envs/tf2/lib/python3.6/site-packages/ipykernel_launcher.py:51: UserWarning: /home/mimus/apiais/data/images/ANPR/training/masks_plate_loc/masks_32_9_augmented_image_16117.jpg is a low contrast image\n"
     ]
    },
    {
     "name": "stdout",
     "output_type": "stream",
     "text": [
      "330 16118\n",
      "331 16119\n",
      "332 16120\n",
      "333 16121\n",
      "334 16122\n",
      "335 16123\n",
      "336 16124\n",
      "337 16125\n",
      "338 16126\n"
     ]
    },
    {
     "name": "stderr",
     "output_type": "stream",
     "text": [
      "/home/mimus/anaconda3/envs/tf2/lib/python3.6/site-packages/ipykernel_launcher.py:51: UserWarning: /home/mimus/apiais/data/images/ANPR/training/masks_plate_loc/masks_518_18_augmented_image_16125.jpg is a low contrast image\n"
     ]
    },
    {
     "name": "stdout",
     "output_type": "stream",
     "text": [
      "339 16127\n",
      "340 16128\n",
      "341 16129\n",
      "342 16130\n",
      "343 16131\n"
     ]
    },
    {
     "name": "stderr",
     "output_type": "stream",
     "text": [
      "/home/mimus/anaconda3/envs/tf2/lib/python3.6/site-packages/ipykernel_launcher.py:51: UserWarning: /home/mimus/apiais/data/images/ANPR/training/masks_plate_loc/masks_321_18_augmented_image_16131.jpg is a low contrast image\n"
     ]
    },
    {
     "name": "stdout",
     "output_type": "stream",
     "text": [
      "344 16132\n",
      "345 16133\n",
      "346 16134\n"
     ]
    },
    {
     "name": "stderr",
     "output_type": "stream",
     "text": [
      "/home/mimus/anaconda3/envs/tf2/lib/python3.6/site-packages/ipykernel_launcher.py:51: UserWarning: /home/mimus/apiais/data/images/ANPR/training/masks_plate_loc/masks_584_32_augmented_image_16134.jpg is a low contrast image\n"
     ]
    },
    {
     "name": "stdout",
     "output_type": "stream",
     "text": [
      "347 16135\n",
      "348 16136\n",
      "349 16137\n",
      "350 16138\n",
      "351 16139\n",
      "352 16140\n",
      "353 16141\n",
      "354 16142\n",
      "355 16143\n",
      "356 16144\n",
      "357 16145\n"
     ]
    },
    {
     "name": "stderr",
     "output_type": "stream",
     "text": [
      "/home/mimus/anaconda3/envs/tf2/lib/python3.6/site-packages/ipykernel_launcher.py:51: UserWarning: /home/mimus/apiais/data/images/ANPR/training/masks_plate_loc/masks_156_39_augmented_image_9319_augmented_image_16143.jpg is a low contrast image\n",
      "/home/mimus/anaconda3/envs/tf2/lib/python3.6/site-packages/ipykernel_launcher.py:51: UserWarning: /home/mimus/apiais/data/images/ANPR/training/masks_plate_loc/masks_459_18_augmented_image_16145.jpg is a low contrast image\n",
      "/home/mimus/anaconda3/envs/tf2/lib/python3.6/site-packages/ipykernel_launcher.py:51: UserWarning: /home/mimus/apiais/data/images/ANPR/training/masks_plate_loc/masks_24_16_augmented_image_16146.jpg is a low contrast image\n"
     ]
    },
    {
     "name": "stdout",
     "output_type": "stream",
     "text": [
      "358 16146\n",
      "359 16147\n",
      "360 16148\n",
      "361 16149\n"
     ]
    },
    {
     "name": "stderr",
     "output_type": "stream",
     "text": [
      "/home/mimus/anaconda3/envs/tf2/lib/python3.6/site-packages/ipykernel_launcher.py:51: UserWarning: /home/mimus/apiais/data/images/ANPR/training/masks_plate_loc/masks_260_0_augmented_image_16148.jpg is a low contrast image\n",
      "/home/mimus/anaconda3/envs/tf2/lib/python3.6/site-packages/ipykernel_launcher.py:51: UserWarning: /home/mimus/apiais/data/images/ANPR/training/masks_plate_loc/masks_177_30_1_augmented_image_16149.jpg is a low contrast image\n"
     ]
    },
    {
     "name": "stdout",
     "output_type": "stream",
     "text": [
      "362 16150\n",
      "363 16151\n"
     ]
    },
    {
     "name": "stderr",
     "output_type": "stream",
     "text": [
      "/home/mimus/anaconda3/envs/tf2/lib/python3.6/site-packages/ipykernel_launcher.py:51: UserWarning: /home/mimus/apiais/data/images/ANPR/training/masks_plate_loc/masks_150_30_1_augmented_image_16151.jpg is a low contrast image\n",
      "/home/mimus/anaconda3/envs/tf2/lib/python3.6/site-packages/ipykernel_launcher.py:51: UserWarning: /home/mimus/apiais/data/images/ANPR/training/masks_plate_loc/masks_100_43_augmented_image_14664_augmented_image_16152.jpg is a low contrast image\n"
     ]
    },
    {
     "name": "stdout",
     "output_type": "stream",
     "text": [
      "364 16152\n",
      "365 16153\n",
      "366 16154\n",
      "367 16155\n"
     ]
    },
    {
     "name": "stderr",
     "output_type": "stream",
     "text": [
      "/home/mimus/anaconda3/envs/tf2/lib/python3.6/site-packages/ipykernel_launcher.py:51: UserWarning: /home/mimus/apiais/data/images/ANPR/training/masks_plate_loc/masks_410_0_augmented_image_10024_augmented_image_16154.jpg is a low contrast image\n"
     ]
    },
    {
     "name": "stdout",
     "output_type": "stream",
     "text": [
      "368 16156\n",
      "369 16157\n",
      "370 16158\n",
      "371 16159\n"
     ]
    },
    {
     "name": "stderr",
     "output_type": "stream",
     "text": [
      "/home/mimus/anaconda3/envs/tf2/lib/python3.6/site-packages/ipykernel_launcher.py:51: UserWarning: /home/mimus/apiais/data/images/ANPR/training/masks_plate_loc/masks_114_1_3_augmented_image_11663_augmented_image_16158.jpg is a low contrast image\n",
      "/home/mimus/anaconda3/envs/tf2/lib/python3.6/site-packages/ipykernel_launcher.py:51: UserWarning: /home/mimus/apiais/data/images/ANPR/training/masks_plate_loc/masks_14_15_augmented_image_16159.jpg is a low contrast image\n"
     ]
    },
    {
     "name": "stdout",
     "output_type": "stream",
     "text": [
      "372 16160\n",
      "373 16161\n"
     ]
    },
    {
     "name": "stderr",
     "output_type": "stream",
     "text": [
      "/home/mimus/anaconda3/envs/tf2/lib/python3.6/site-packages/ipykernel_launcher.py:51: UserWarning: /home/mimus/apiais/data/images/ANPR/training/masks_plate_loc/masks_46_29_augmented_image_16160.jpg is a low contrast image\n",
      "/home/mimus/anaconda3/envs/tf2/lib/python3.6/site-packages/ipykernel_launcher.py:51: UserWarning: /home/mimus/apiais/data/images/ANPR/training/masks_plate_loc/masks_340_34_augmented_image_14552_augmented_image_16161.jpg is a low contrast image\n"
     ]
    },
    {
     "name": "stdout",
     "output_type": "stream",
     "text": [
      "374 16162\n",
      "375 16163\n",
      "376 16164\n"
     ]
    },
    {
     "name": "stderr",
     "output_type": "stream",
     "text": [
      "/home/mimus/anaconda3/envs/tf2/lib/python3.6/site-packages/ipykernel_launcher.py:51: UserWarning: /home/mimus/apiais/data/images/ANPR/training/masks_plate_loc/masks_154_20_augmented_image_8269_augmented_image_16163.jpg is a low contrast image\n"
     ]
    },
    {
     "name": "stdout",
     "output_type": "stream",
     "text": [
      "377 16165\n",
      "378 16166\n"
     ]
    },
    {
     "name": "stderr",
     "output_type": "stream",
     "text": [
      "/home/mimus/anaconda3/envs/tf2/lib/python3.6/site-packages/ipykernel_launcher.py:51: UserWarning: /home/mimus/apiais/data/images/ANPR/training/masks_plate_loc/masks_113_33_augmented_image_12961_augmented_image_16166.jpg is a low contrast image\n",
      "/home/mimus/anaconda3/envs/tf2/lib/python3.6/site-packages/ipykernel_launcher.py:51: UserWarning: /home/mimus/apiais/data/images/ANPR/training/masks_plate_loc/masks_303_33_augmented_image_11418_augmented_image_16167.jpg is a low contrast image\n"
     ]
    },
    {
     "name": "stdout",
     "output_type": "stream",
     "text": [
      "379 16167\n",
      "380 16168\n",
      "381 16169\n",
      "382 16170\n",
      "383 16171\n",
      "384 16172\n"
     ]
    },
    {
     "name": "stderr",
     "output_type": "stream",
     "text": [
      "/home/mimus/anaconda3/envs/tf2/lib/python3.6/site-packages/ipykernel_launcher.py:51: UserWarning: /home/mimus/apiais/data/images/ANPR/training/masks_plate_loc/masks_365_18_augmented_image_16171.jpg is a low contrast image\n"
     ]
    },
    {
     "name": "stdout",
     "output_type": "stream",
     "text": [
      "385 16173\n",
      "386 16174\n"
     ]
    },
    {
     "name": "stderr",
     "output_type": "stream",
     "text": [
      "/home/mimus/anaconda3/envs/tf2/lib/python3.6/site-packages/ipykernel_launcher.py:51: UserWarning: /home/mimus/apiais/data/images/ANPR/training/masks_plate_loc/masks_0_39_augmented_image_16173.jpg is a low contrast image\n"
     ]
    },
    {
     "name": "stdout",
     "output_type": "stream",
     "text": [
      "387 16175\n",
      "388 16176\n"
     ]
    },
    {
     "name": "stderr",
     "output_type": "stream",
     "text": [
      "/home/mimus/anaconda3/envs/tf2/lib/python3.6/site-packages/ipykernel_launcher.py:51: UserWarning: /home/mimus/apiais/data/images/ANPR/training/masks_plate_loc/masks_276_29_augmented_image_16175.jpg is a low contrast image\n"
     ]
    },
    {
     "name": "stdout",
     "output_type": "stream",
     "text": [
      "389 16177\n",
      "390 16178\n",
      "391 16179\n"
     ]
    },
    {
     "name": "stderr",
     "output_type": "stream",
     "text": [
      "/home/mimus/anaconda3/envs/tf2/lib/python3.6/site-packages/ipykernel_launcher.py:51: UserWarning: /home/mimus/apiais/data/images/ANPR/training/masks_plate_loc/masks_57_42_augmented_image_12827_augmented_image_16179.jpg is a low contrast image\n"
     ]
    },
    {
     "name": "stdout",
     "output_type": "stream",
     "text": [
      "392 16180\n",
      "393 16181\n",
      "394 16182\n",
      "395 16183\n",
      "396 16184\n",
      "397 16185\n"
     ]
    },
    {
     "name": "stderr",
     "output_type": "stream",
     "text": [
      "/home/mimus/anaconda3/envs/tf2/lib/python3.6/site-packages/ipykernel_launcher.py:51: UserWarning: /home/mimus/apiais/data/images/ANPR/training/masks_plate_loc/masks_84_42_augmented_image_8653_augmented_image_16184.jpg is a low contrast image\n"
     ]
    },
    {
     "name": "stdout",
     "output_type": "stream",
     "text": [
      "398 16186\n",
      "399 16187\n",
      "400 16188\n"
     ]
    },
    {
     "name": "stderr",
     "output_type": "stream",
     "text": [
      "/home/mimus/anaconda3/envs/tf2/lib/python3.6/site-packages/ipykernel_launcher.py:51: UserWarning: /home/mimus/apiais/data/images/ANPR/training/masks_plate_loc/masks_112_32_augmented_image_16187.jpg is a low contrast image\n",
      "/home/mimus/anaconda3/envs/tf2/lib/python3.6/site-packages/ipykernel_launcher.py:51: UserWarning: /home/mimus/apiais/data/images/ANPR/training/masks_plate_loc/masks_68_43_augmented_image_13976_augmented_image_16188.jpg is a low contrast image\n"
     ]
    },
    {
     "name": "stdout",
     "output_type": "stream",
     "text": [
      "401 16189\n",
      "402 16190\n"
     ]
    },
    {
     "name": "stderr",
     "output_type": "stream",
     "text": [
      "/home/mimus/anaconda3/envs/tf2/lib/python3.6/site-packages/ipykernel_launcher.py:51: UserWarning: /home/mimus/apiais/data/images/ANPR/training/masks_plate_loc/masks_191_43_augmented_image_13198_augmented_image_16190.jpg is a low contrast image\n",
      "/home/mimus/anaconda3/envs/tf2/lib/python3.6/site-packages/ipykernel_launcher.py:51: UserWarning: /home/mimus/apiais/data/images/ANPR/training/masks_plate_loc/masks_19_10_augmented_image_16192.jpg is a low contrast image\n"
     ]
    },
    {
     "name": "stdout",
     "output_type": "stream",
     "text": [
      "403 16191\n",
      "404 16192\n",
      "405 16193\n"
     ]
    },
    {
     "name": "stderr",
     "output_type": "stream",
     "text": [
      "/home/mimus/anaconda3/envs/tf2/lib/python3.6/site-packages/ipykernel_launcher.py:51: UserWarning: /home/mimus/apiais/data/images/ANPR/training/masks_plate_loc/masks_79_29_augmented_image_12114_augmented_image_16193.jpg is a low contrast image\n"
     ]
    },
    {
     "name": "stdout",
     "output_type": "stream",
     "text": [
      "406 16194\n",
      "407 16195\n",
      "408 16196\n",
      "409 16197\n",
      "410 16198\n",
      "411 16199\n",
      "412 16200\n"
     ]
    },
    {
     "name": "stderr",
     "output_type": "stream",
     "text": [
      "/home/mimus/anaconda3/envs/tf2/lib/python3.6/site-packages/ipykernel_launcher.py:51: UserWarning: /home/mimus/apiais/data/images/ANPR/training/masks_plate_loc/masks_183_25_augmented_image_11378_augmented_image_16198.jpg is a low contrast image\n",
      "/home/mimus/anaconda3/envs/tf2/lib/python3.6/site-packages/ipykernel_launcher.py:51: UserWarning: /home/mimus/apiais/data/images/ANPR/training/masks_plate_loc/masks_33_20_augmented_image_11363_augmented_image_16200.jpg is a low contrast image\n"
     ]
    },
    {
     "name": "stdout",
     "output_type": "stream",
     "text": [
      "413 16201\n",
      "414 16202\n",
      "415 16203\n",
      "416 16204\n",
      "417 16205\n",
      "418 16206\n",
      "419 16207\n",
      "420 16208\n",
      "421 16209\n",
      "422 16210\n",
      "423 16211\n"
     ]
    },
    {
     "name": "stderr",
     "output_type": "stream",
     "text": [
      "/home/mimus/anaconda3/envs/tf2/lib/python3.6/site-packages/ipykernel_launcher.py:51: UserWarning: /home/mimus/apiais/data/images/ANPR/training/masks_plate_loc/masks_82_16_augmented_image_16211.jpg is a low contrast image\n"
     ]
    },
    {
     "name": "stdout",
     "output_type": "stream",
     "text": [
      "424 16212\n",
      "425 16213\n",
      "426 16214\n",
      "427 16215\n",
      "428 16216\n",
      "429 16217\n"
     ]
    },
    {
     "name": "stderr",
     "output_type": "stream",
     "text": [
      "/home/mimus/anaconda3/envs/tf2/lib/python3.6/site-packages/ipykernel_launcher.py:51: UserWarning: /home/mimus/apiais/data/images/ANPR/training/masks_plate_loc/masks_142_42_augmented_image_16216.jpg is a low contrast image\n",
      "/home/mimus/anaconda3/envs/tf2/lib/python3.6/site-packages/ipykernel_launcher.py:51: UserWarning: /home/mimus/apiais/data/images/ANPR/training/masks_plate_loc/masks_104_18_augmented_image_16217.jpg is a low contrast image\n"
     ]
    },
    {
     "name": "stdout",
     "output_type": "stream",
     "text": [
      "430 16218\n",
      "431 16219\n",
      "432 16220\n",
      "433 16221\n",
      "434 16222\n",
      "435 16223\n",
      "436 16224\n",
      "437 16225\n",
      "438 16226\n",
      "439 16227\n",
      "440 16228\n",
      "441 16229\n",
      "442 16230\n",
      "443 16231\n",
      "444 16232\n",
      "445 16233\n"
     ]
    },
    {
     "name": "stderr",
     "output_type": "stream",
     "text": [
      "/home/mimus/anaconda3/envs/tf2/lib/python3.6/site-packages/ipykernel_launcher.py:51: UserWarning: /home/mimus/apiais/data/images/ANPR/training/masks_plate_loc/masks_137_27_augmented_image_16231.jpg is a low contrast image\n",
      "/home/mimus/anaconda3/envs/tf2/lib/python3.6/site-packages/ipykernel_launcher.py:51: UserWarning: /home/mimus/apiais/data/images/ANPR/training/masks_plate_loc/masks_90_1_3_augmented_image_16232.jpg is a low contrast image\n"
     ]
    },
    {
     "name": "stdout",
     "output_type": "stream",
     "text": [
      "446 16234\n",
      "447 16235\n"
     ]
    },
    {
     "name": "stderr",
     "output_type": "stream",
     "text": [
      "/home/mimus/anaconda3/envs/tf2/lib/python3.6/site-packages/ipykernel_launcher.py:51: UserWarning: /home/mimus/apiais/data/images/ANPR/training/masks_plate_loc/masks_175_27_augmented_image_14690_augmented_image_16235.jpg is a low contrast image\n",
      "/home/mimus/anaconda3/envs/tf2/lib/python3.6/site-packages/ipykernel_launcher.py:51: UserWarning: /home/mimus/apiais/data/images/ANPR/training/masks_plate_loc/masks_32_39_augmented_image_16236.jpg is a low contrast image\n"
     ]
    },
    {
     "name": "stdout",
     "output_type": "stream",
     "text": [
      "448 16236\n",
      "449 16237\n"
     ]
    },
    {
     "name": "stderr",
     "output_type": "stream",
     "text": [
      "/home/mimus/anaconda3/envs/tf2/lib/python3.6/site-packages/ipykernel_launcher.py:51: UserWarning: /home/mimus/apiais/data/images/ANPR/training/masks_plate_loc/masks_462_32_augmented_image_16237.jpg is a low contrast image\n"
     ]
    },
    {
     "name": "stdout",
     "output_type": "stream",
     "text": [
      "450 16238\n",
      "451 16239\n"
     ]
    },
    {
     "name": "stderr",
     "output_type": "stream",
     "text": [
      "/home/mimus/anaconda3/envs/tf2/lib/python3.6/site-packages/ipykernel_launcher.py:51: UserWarning: /home/mimus/apiais/data/images/ANPR/training/masks_plate_loc/masks_29_16_augmented_image_15553_augmented_image_16239.jpg is a low contrast image\n"
     ]
    },
    {
     "name": "stdout",
     "output_type": "stream",
     "text": [
      "452 16240\n",
      "453 16241\n",
      "454 16242\n",
      "455 16243\n",
      "456 16244\n",
      "457 16245\n"
     ]
    },
    {
     "name": "stderr",
     "output_type": "stream",
     "text": [
      "/home/mimus/anaconda3/envs/tf2/lib/python3.6/site-packages/ipykernel_launcher.py:51: UserWarning: /home/mimus/apiais/data/images/ANPR/training/masks_plate_loc/masks_72_16_augmented_image_14881_augmented_image_16245.jpg is a low contrast image\n"
     ]
    },
    {
     "name": "stdout",
     "output_type": "stream",
     "text": [
      "458 16246\n",
      "459 16247\n",
      "460 16248\n",
      "461 16249\n",
      "462 16250\n"
     ]
    },
    {
     "name": "stderr",
     "output_type": "stream",
     "text": [
      "/home/mimus/anaconda3/envs/tf2/lib/python3.6/site-packages/ipykernel_launcher.py:51: UserWarning: /home/mimus/apiais/data/images/ANPR/training/masks_plate_loc/masks_27_12_augmented_image_16248.jpg is a low contrast image\n",
      "/home/mimus/anaconda3/envs/tf2/lib/python3.6/site-packages/ipykernel_launcher.py:51: UserWarning: /home/mimus/apiais/data/images/ANPR/training/masks_plate_loc/masks_213_28_augmented_image_8291_augmented_image_16249.jpg is a low contrast image\n",
      "/home/mimus/anaconda3/envs/tf2/lib/python3.6/site-packages/ipykernel_launcher.py:51: UserWarning: /home/mimus/apiais/data/images/ANPR/training/masks_plate_loc/masks_243_42_augmented_image_16250.jpg is a low contrast image\n"
     ]
    },
    {
     "name": "stdout",
     "output_type": "stream",
     "text": [
      "463 16251\n",
      "464 16252\n",
      "465 16253\n",
      "466 16254\n"
     ]
    },
    {
     "name": "stderr",
     "output_type": "stream",
     "text": [
      "/home/mimus/anaconda3/envs/tf2/lib/python3.6/site-packages/ipykernel_launcher.py:51: UserWarning: /home/mimus/apiais/data/images/ANPR/training/masks_plate_loc/masks_165_25_augmented_image_16253.jpg is a low contrast image\n"
     ]
    },
    {
     "name": "stdout",
     "output_type": "stream",
     "text": [
      "467 16255\n",
      "468 16256\n",
      "469 16257\n"
     ]
    },
    {
     "name": "stderr",
     "output_type": "stream",
     "text": [
      "/home/mimus/anaconda3/envs/tf2/lib/python3.6/site-packages/ipykernel_launcher.py:51: UserWarning: /home/mimus/apiais/data/images/ANPR/training/masks_plate_loc/masks_124_30_1_augmented_image_16256.jpg is a low contrast image\n"
     ]
    },
    {
     "name": "stdout",
     "output_type": "stream",
     "text": [
      "470 16258\n",
      "471 16259\n"
     ]
    },
    {
     "name": "stderr",
     "output_type": "stream",
     "text": [
      "/home/mimus/anaconda3/envs/tf2/lib/python3.6/site-packages/ipykernel_launcher.py:51: UserWarning: /home/mimus/apiais/data/images/ANPR/training/masks_plate_loc/masks_238_24_augmented_image_15666_augmented_image_16258.jpg is a low contrast image\n",
      "/home/mimus/anaconda3/envs/tf2/lib/python3.6/site-packages/ipykernel_launcher.py:51: UserWarning: /home/mimus/apiais/data/images/ANPR/training/masks_plate_loc/masks_86_18_augmented_image_16259.jpg is a low contrast image\n"
     ]
    },
    {
     "name": "stdout",
     "output_type": "stream",
     "text": [
      "472 16260\n",
      "473 16261\n",
      "474 16262\n",
      "475 16263\n"
     ]
    },
    {
     "name": "stderr",
     "output_type": "stream",
     "text": [
      "/home/mimus/anaconda3/envs/tf2/lib/python3.6/site-packages/ipykernel_launcher.py:51: UserWarning: /home/mimus/apiais/data/images/ANPR/training/masks_plate_loc/masks_247_39_augmented_image_13314_augmented_image_16262.jpg is a low contrast image\n",
      "/home/mimus/anaconda3/envs/tf2/lib/python3.6/site-packages/ipykernel_launcher.py:51: UserWarning: /home/mimus/apiais/data/images/ANPR/training/masks_plate_loc/masks_125_32_augmented_image_16263.jpg is a low contrast image\n"
     ]
    },
    {
     "name": "stdout",
     "output_type": "stream",
     "text": [
      "476 16264\n",
      "477 16265\n"
     ]
    },
    {
     "name": "stderr",
     "output_type": "stream",
     "text": [
      "/home/mimus/anaconda3/envs/tf2/lib/python3.6/site-packages/ipykernel_launcher.py:51: UserWarning: /home/mimus/apiais/data/images/ANPR/training/masks_plate_loc/masks_127_32_augmented_image_16264.jpg is a low contrast image\n"
     ]
    },
    {
     "name": "stdout",
     "output_type": "stream",
     "text": [
      "478 16266\n",
      "479 16267\n"
     ]
    },
    {
     "name": "stderr",
     "output_type": "stream",
     "text": [
      "/home/mimus/anaconda3/envs/tf2/lib/python3.6/site-packages/ipykernel_launcher.py:51: UserWarning: /home/mimus/apiais/data/images/ANPR/training/masks_plate_loc/masks_145_39_augmented_image_16267.jpg is a low contrast image\n",
      "/home/mimus/anaconda3/envs/tf2/lib/python3.6/site-packages/ipykernel_launcher.py:51: UserWarning: /home/mimus/apiais/data/images/ANPR/training/masks_plate_loc/masks_146_43_augmented_image_16268.jpg is a low contrast image\n"
     ]
    },
    {
     "name": "stdout",
     "output_type": "stream",
     "text": [
      "480 16268\n",
      "481 16269\n",
      "482 16270\n",
      "483 16271\n",
      "484 16272\n"
     ]
    },
    {
     "name": "stderr",
     "output_type": "stream",
     "text": [
      "/home/mimus/anaconda3/envs/tf2/lib/python3.6/site-packages/ipykernel_launcher.py:51: UserWarning: /home/mimus/apiais/data/images/ANPR/training/masks_plate_loc/masks_0_34_augmented_image_16272.jpg is a low contrast image\n"
     ]
    },
    {
     "name": "stdout",
     "output_type": "stream",
     "text": [
      "485 16273\n",
      "486 16274\n",
      "487 16275\n",
      "488 16276\n",
      "489 16277\n",
      "490 16278\n"
     ]
    },
    {
     "name": "stderr",
     "output_type": "stream",
     "text": [
      "/home/mimus/anaconda3/envs/tf2/lib/python3.6/site-packages/ipykernel_launcher.py:51: UserWarning: /home/mimus/apiais/data/images/ANPR/training/masks_plate_loc/masks_601_34_augmented_image_16277.jpg is a low contrast image\n"
     ]
    },
    {
     "name": "stdout",
     "output_type": "stream",
     "text": [
      "491 16279\n",
      "492 16280\n",
      "493 16281\n",
      "494 16282\n"
     ]
    },
    {
     "name": "stderr",
     "output_type": "stream",
     "text": [
      "/home/mimus/anaconda3/envs/tf2/lib/python3.6/site-packages/ipykernel_launcher.py:51: UserWarning: /home/mimus/apiais/data/images/ANPR/training/masks_plate_loc/masks_197_33_augmented_image_16281.jpg is a low contrast image\n"
     ]
    },
    {
     "name": "stdout",
     "output_type": "stream",
     "text": [
      "495 16283\n",
      "496 16284\n"
     ]
    },
    {
     "name": "stderr",
     "output_type": "stream",
     "text": [
      "/home/mimus/anaconda3/envs/tf2/lib/python3.6/site-packages/ipykernel_launcher.py:51: UserWarning: /home/mimus/apiais/data/images/ANPR/training/masks_plate_loc/masks_210_24_augmented_image_16283.jpg is a low contrast image\n",
      "/home/mimus/anaconda3/envs/tf2/lib/python3.6/site-packages/ipykernel_launcher.py:51: UserWarning: /home/mimus/apiais/data/images/ANPR/training/masks_plate_loc/masks_23_21_augmented_image_15378_augmented_image_16284.jpg is a low contrast image\n"
     ]
    },
    {
     "name": "stdout",
     "output_type": "stream",
     "text": [
      "497 16285\n",
      "498 16286\n",
      "499 16287\n",
      "500 16288\n"
     ]
    },
    {
     "name": "stderr",
     "output_type": "stream",
     "text": [
      "/home/mimus/anaconda3/envs/tf2/lib/python3.6/site-packages/ipykernel_launcher.py:51: UserWarning: /home/mimus/apiais/data/images/ANPR/training/masks_plate_loc/masks_36_39_augmented_image_16287.jpg is a low contrast image\n"
     ]
    },
    {
     "name": "stdout",
     "output_type": "stream",
     "text": [
      "501 16289\n",
      "502 16290\n",
      "503 16291\n",
      "504 16292\n",
      "505 16293\n"
     ]
    },
    {
     "name": "stderr",
     "output_type": "stream",
     "text": [
      "/home/mimus/anaconda3/envs/tf2/lib/python3.6/site-packages/ipykernel_launcher.py:51: UserWarning: /home/mimus/apiais/data/images/ANPR/training/masks_plate_loc/masks_96_41_augmented_image_16292.jpg is a low contrast image\n",
      "/home/mimus/anaconda3/envs/tf2/lib/python3.6/site-packages/ipykernel_launcher.py:51: UserWarning: /home/mimus/apiais/data/images/ANPR/training/masks_plate_loc/masks_88_20_augmented_image_16293.jpg is a low contrast image\n"
     ]
    },
    {
     "name": "stdout",
     "output_type": "stream",
     "text": [
      "506 16294\n",
      "507 16295\n",
      "508 16296\n"
     ]
    },
    {
     "name": "stderr",
     "output_type": "stream",
     "text": [
      "/home/mimus/anaconda3/envs/tf2/lib/python3.6/site-packages/ipykernel_launcher.py:51: UserWarning: /home/mimus/apiais/data/images/ANPR/training/masks_plate_loc/masks_149_1_3_augmented_image_16294.jpg is a low contrast image\n"
     ]
    },
    {
     "name": "stdout",
     "output_type": "stream",
     "text": [
      "509 16297\n",
      "510 16298\n",
      "511 16299\n",
      "512 16300\n"
     ]
    },
    {
     "name": "stderr",
     "output_type": "stream",
     "text": [
      "/home/mimus/anaconda3/envs/tf2/lib/python3.6/site-packages/ipykernel_launcher.py:51: UserWarning: /home/mimus/apiais/data/images/ANPR/training/masks_plate_loc/masks_284_28_augmented_image_16299.jpg is a low contrast image\n"
     ]
    },
    {
     "name": "stdout",
     "output_type": "stream",
     "text": [
      "513 16301\n",
      "514 16302\n",
      "515 16303\n",
      "516 16304\n",
      "517 16305\n"
     ]
    },
    {
     "name": "stderr",
     "output_type": "stream",
     "text": [
      "/home/mimus/anaconda3/envs/tf2/lib/python3.6/site-packages/ipykernel_launcher.py:51: UserWarning: /home/mimus/apiais/data/images/ANPR/training/masks_plate_loc/masks_96_32_augmented_image_15119_augmented_image_16303.jpg is a low contrast image\n"
     ]
    },
    {
     "name": "stdout",
     "output_type": "stream",
     "text": [
      "518 16306\n",
      "519 16307\n",
      "520 16308\n"
     ]
    },
    {
     "name": "stderr",
     "output_type": "stream",
     "text": [
      "/home/mimus/anaconda3/envs/tf2/lib/python3.6/site-packages/ipykernel_launcher.py:51: UserWarning: /home/mimus/apiais/data/images/ANPR/training/masks_plate_loc/masks_18_35_augmented_image_9268_augmented_image_16306.jpg is a low contrast image\n"
     ]
    },
    {
     "name": "stdout",
     "output_type": "stream",
     "text": [
      "521 16309\n",
      "522 16310\n",
      "523 16311\n"
     ]
    },
    {
     "name": "stderr",
     "output_type": "stream",
     "text": [
      "/home/mimus/anaconda3/envs/tf2/lib/python3.6/site-packages/ipykernel_launcher.py:51: UserWarning: /home/mimus/apiais/data/images/ANPR/training/masks_plate_loc/masks_185_0_augmented_image_16309.jpg is a low contrast image\n",
      "/home/mimus/anaconda3/envs/tf2/lib/python3.6/site-packages/ipykernel_launcher.py:51: UserWarning: /home/mimus/apiais/data/images/ANPR/training/masks_plate_loc/masks_278_39_augmented_image_16311.jpg is a low contrast image\n"
     ]
    },
    {
     "name": "stdout",
     "output_type": "stream",
     "text": [
      "524 16312\n",
      "525 16313\n"
     ]
    },
    {
     "name": "stderr",
     "output_type": "stream",
     "text": [
      "/home/mimus/anaconda3/envs/tf2/lib/python3.6/site-packages/ipykernel_launcher.py:51: UserWarning: /home/mimus/apiais/data/images/ANPR/training/masks_plate_loc/masks_10_7_augmented_image_16313.jpg is a low contrast image\n",
      "/home/mimus/anaconda3/envs/tf2/lib/python3.6/site-packages/ipykernel_launcher.py:51: UserWarning: /home/mimus/apiais/data/images/ANPR/training/masks_plate_loc/masks_737_32_augmented_image_13819_augmented_image_16314.jpg is a low contrast image\n"
     ]
    },
    {
     "name": "stdout",
     "output_type": "stream",
     "text": [
      "526 16314\n",
      "527 16315\n",
      "528 16316\n"
     ]
    },
    {
     "name": "stderr",
     "output_type": "stream",
     "text": [
      "/home/mimus/anaconda3/envs/tf2/lib/python3.6/site-packages/ipykernel_launcher.py:51: UserWarning: /home/mimus/apiais/data/images/ANPR/training/masks_plate_loc/masks_94_24_augmented_image_10079_augmented_image_16316.jpg is a low contrast image\n"
     ]
    },
    {
     "name": "stdout",
     "output_type": "stream",
     "text": [
      "529 16317\n",
      "530 16318\n",
      "531 16319\n",
      "532 16320\n",
      "533 16321\n",
      "534 16322\n"
     ]
    },
    {
     "name": "stderr",
     "output_type": "stream",
     "text": [
      "/home/mimus/anaconda3/envs/tf2/lib/python3.6/site-packages/ipykernel_launcher.py:51: UserWarning: /home/mimus/apiais/data/images/ANPR/training/masks_plate_loc/masks_122_20_augmented_image_15351_augmented_image_16321.jpg is a low contrast image\n",
      "/home/mimus/anaconda3/envs/tf2/lib/python3.6/site-packages/ipykernel_launcher.py:51: UserWarning: /home/mimus/apiais/data/images/ANPR/training/masks_plate_loc/masks_436_32_augmented_image_16322.jpg is a low contrast image\n"
     ]
    },
    {
     "name": "stdout",
     "output_type": "stream",
     "text": [
      "535 16323\n",
      "536 16324\n",
      "537 16325\n",
      "538 16326\n"
     ]
    },
    {
     "name": "stderr",
     "output_type": "stream",
     "text": [
      "/home/mimus/anaconda3/envs/tf2/lib/python3.6/site-packages/ipykernel_launcher.py:51: UserWarning: /home/mimus/apiais/data/images/ANPR/training/masks_plate_loc/masks_112_23_augmented_image_16326.jpg is a low contrast image\n"
     ]
    },
    {
     "name": "stdout",
     "output_type": "stream",
     "text": [
      "539 16327\n",
      "540 16328\n",
      "541 16329\n",
      "542 16330\n"
     ]
    },
    {
     "name": "stderr",
     "output_type": "stream",
     "text": [
      "/home/mimus/anaconda3/envs/tf2/lib/python3.6/site-packages/ipykernel_launcher.py:51: UserWarning: /home/mimus/apiais/data/images/ANPR/training/masks_plate_loc/masks_118_33_augmented_image_16329.jpg is a low contrast image\n",
      "/home/mimus/anaconda3/envs/tf2/lib/python3.6/site-packages/ipykernel_launcher.py:51: UserWarning: /home/mimus/apiais/data/images/ANPR/training/masks_plate_loc/masks_161_39_augmented_image_16330.jpg is a low contrast image\n"
     ]
    },
    {
     "name": "stdout",
     "output_type": "stream",
     "text": [
      "543 16331\n",
      "544 16332\n"
     ]
    },
    {
     "name": "stderr",
     "output_type": "stream",
     "text": [
      "/home/mimus/anaconda3/envs/tf2/lib/python3.6/site-packages/ipykernel_launcher.py:51: UserWarning: /home/mimus/apiais/data/images/ANPR/training/masks_plate_loc/masks_4_26_augmented_image_16331.jpg is a low contrast image\n"
     ]
    },
    {
     "name": "stdout",
     "output_type": "stream",
     "text": [
      "545 16333\n",
      "546 16334\n"
     ]
    },
    {
     "name": "stderr",
     "output_type": "stream",
     "text": [
      "/home/mimus/anaconda3/envs/tf2/lib/python3.6/site-packages/ipykernel_launcher.py:51: UserWarning: /home/mimus/apiais/data/images/ANPR/training/masks_plate_loc/masks_165_42_augmented_image_16334.jpg is a low contrast image\n",
      "/home/mimus/anaconda3/envs/tf2/lib/python3.6/site-packages/ipykernel_launcher.py:51: UserWarning: /home/mimus/apiais/data/images/ANPR/training/masks_plate_loc/masks_133_27_augmented_image_16335.jpg is a low contrast image\n"
     ]
    },
    {
     "name": "stdout",
     "output_type": "stream",
     "text": [
      "547 16335\n",
      "548 16336\n"
     ]
    },
    {
     "name": "stderr",
     "output_type": "stream",
     "text": [
      "/home/mimus/anaconda3/envs/tf2/lib/python3.6/site-packages/ipykernel_launcher.py:51: UserWarning: /home/mimus/apiais/data/images/ANPR/training/masks_plate_loc/masks_266_42_augmented_image_16336.jpg is a low contrast image\n",
      "/home/mimus/anaconda3/envs/tf2/lib/python3.6/site-packages/ipykernel_launcher.py:51: UserWarning: /home/mimus/apiais/data/images/ANPR/training/masks_plate_loc/masks_84_20_augmented_image_16337.jpg is a low contrast image\n"
     ]
    },
    {
     "name": "stdout",
     "output_type": "stream",
     "text": [
      "549 16337\n",
      "550 16338\n",
      "551 16339\n",
      "552 16340\n"
     ]
    },
    {
     "name": "stderr",
     "output_type": "stream",
     "text": [
      "/home/mimus/anaconda3/envs/tf2/lib/python3.6/site-packages/ipykernel_launcher.py:51: UserWarning: /home/mimus/apiais/data/images/ANPR/training/masks_plate_loc/masks_552_18_augmented_image_16339.jpg is a low contrast image\n"
     ]
    },
    {
     "name": "stdout",
     "output_type": "stream",
     "text": [
      "553 16341\n",
      "554 16342\n",
      "555 16343\n",
      "556 16344\n",
      "557 16345\n"
     ]
    },
    {
     "name": "stderr",
     "output_type": "stream",
     "text": [
      "/home/mimus/anaconda3/envs/tf2/lib/python3.6/site-packages/ipykernel_launcher.py:51: UserWarning: /home/mimus/apiais/data/images/ANPR/training/masks_plate_loc/masks_22_6_augmented_image_16344.jpg is a low contrast image\n"
     ]
    },
    {
     "name": "stdout",
     "output_type": "stream",
     "text": [
      "558 16346\n",
      "559 16347\n",
      "560 16348\n",
      "561 16349\n"
     ]
    },
    {
     "name": "stderr",
     "output_type": "stream",
     "text": [
      "/home/mimus/anaconda3/envs/tf2/lib/python3.6/site-packages/ipykernel_launcher.py:51: UserWarning: /home/mimus/apiais/data/images/ANPR/training/masks_plate_loc/masks_155_30_1_augmented_image_16349.jpg is a low contrast image\n"
     ]
    },
    {
     "name": "stdout",
     "output_type": "stream",
     "text": [
      "562 16350\n",
      "563 16351\n"
     ]
    },
    {
     "name": "stderr",
     "output_type": "stream",
     "text": [
      "/home/mimus/anaconda3/envs/tf2/lib/python3.6/site-packages/ipykernel_launcher.py:51: UserWarning: /home/mimus/apiais/data/images/ANPR/training/masks_plate_loc/masks_157_18_augmented_image_7942_augmented_image_16351.jpg is a low contrast image\n"
     ]
    },
    {
     "name": "stdout",
     "output_type": "stream",
     "text": [
      "564 16352\n",
      "565 16353\n",
      "566 16354\n",
      "567 16355\n",
      "568 16356\n",
      "569 16357\n"
     ]
    },
    {
     "name": "stderr",
     "output_type": "stream",
     "text": [
      "/home/mimus/anaconda3/envs/tf2/lib/python3.6/site-packages/ipykernel_launcher.py:51: UserWarning: /home/mimus/apiais/data/images/ANPR/training/masks_plate_loc/masks_180_27_augmented_image_16356.jpg is a low contrast image\n",
      "/home/mimus/anaconda3/envs/tf2/lib/python3.6/site-packages/ipykernel_launcher.py:51: UserWarning: /home/mimus/apiais/data/images/ANPR/training/masks_plate_loc/masks_333_32_augmented_image_16357.jpg is a low contrast image\n"
     ]
    },
    {
     "name": "stdout",
     "output_type": "stream",
     "text": [
      "570 16358\n",
      "571 16359\n",
      "572 16360\n",
      "573 16361\n",
      "574 16362\n"
     ]
    },
    {
     "name": "stderr",
     "output_type": "stream",
     "text": [
      "/home/mimus/anaconda3/envs/tf2/lib/python3.6/site-packages/ipykernel_launcher.py:51: UserWarning: /home/mimus/apiais/data/images/ANPR/training/masks_plate_loc/masks_121_18_augmented_image_13167_augmented_image_16361.jpg is a low contrast image\n",
      "/home/mimus/anaconda3/envs/tf2/lib/python3.6/site-packages/ipykernel_launcher.py:51: UserWarning: /home/mimus/apiais/data/images/ANPR/training/masks_plate_loc/masks_77_23_augmented_image_11210_augmented_image_16362.jpg is a low contrast image\n"
     ]
    },
    {
     "name": "stdout",
     "output_type": "stream",
     "text": [
      "575 16363\n",
      "576 16364\n",
      "577 16365\n"
     ]
    },
    {
     "name": "stderr",
     "output_type": "stream",
     "text": [
      "/home/mimus/anaconda3/envs/tf2/lib/python3.6/site-packages/ipykernel_launcher.py:51: UserWarning: /home/mimus/apiais/data/images/ANPR/training/masks_plate_loc/masks_849_32_augmented_image_16363.jpg is a low contrast image\n"
     ]
    },
    {
     "name": "stdout",
     "output_type": "stream",
     "text": [
      "578 16366\n",
      "579 16367\n"
     ]
    },
    {
     "name": "stderr",
     "output_type": "stream",
     "text": [
      "/home/mimus/anaconda3/envs/tf2/lib/python3.6/site-packages/ipykernel_launcher.py:51: UserWarning: /home/mimus/apiais/data/images/ANPR/training/masks_plate_loc/masks_27_35_augmented_image_16366.jpg is a low contrast image\n"
     ]
    },
    {
     "name": "stdout",
     "output_type": "stream",
     "text": [
      "580 16368\n",
      "581 16369\n",
      "582 16370\n",
      "583 16371\n"
     ]
    },
    {
     "name": "stderr",
     "output_type": "stream",
     "text": [
      "/home/mimus/anaconda3/envs/tf2/lib/python3.6/site-packages/ipykernel_launcher.py:51: UserWarning: /home/mimus/apiais/data/images/ANPR/training/masks_plate_loc/masks_126_42_augmented_image_16370.jpg is a low contrast image\n",
      "/home/mimus/anaconda3/envs/tf2/lib/python3.6/site-packages/ipykernel_launcher.py:51: UserWarning: /home/mimus/apiais/data/images/ANPR/training/masks_plate_loc/masks_163_27_augmented_image_16371.jpg is a low contrast image\n"
     ]
    },
    {
     "name": "stdout",
     "output_type": "stream",
     "text": [
      "584 16372\n",
      "585 16373\n",
      "586 16374\n",
      "587 16375\n"
     ]
    },
    {
     "name": "stderr",
     "output_type": "stream",
     "text": [
      "/home/mimus/anaconda3/envs/tf2/lib/python3.6/site-packages/ipykernel_launcher.py:51: UserWarning: /home/mimus/apiais/data/images/ANPR/training/masks_plate_loc/masks_27_12_augmented_image_9196_augmented_image_16374.jpg is a low contrast image\n",
      "/home/mimus/anaconda3/envs/tf2/lib/python3.6/site-packages/ipykernel_launcher.py:51: UserWarning: /home/mimus/apiais/data/images/ANPR/training/masks_plate_loc/masks_129_30_1_augmented_image_11294_augmented_image_16375.jpg is a low contrast image\n"
     ]
    },
    {
     "name": "stdout",
     "output_type": "stream",
     "text": [
      "588 16376\n",
      "589 16377\n"
     ]
    },
    {
     "name": "stderr",
     "output_type": "stream",
     "text": [
      "/home/mimus/anaconda3/envs/tf2/lib/python3.6/site-packages/ipykernel_launcher.py:51: UserWarning: /home/mimus/apiais/data/images/ANPR/training/masks_plate_loc/masks_60_24_augmented_image_9433_augmented_image_16376.jpg is a low contrast image\n"
     ]
    },
    {
     "name": "stdout",
     "output_type": "stream",
     "text": [
      "590 16378\n",
      "591 16379\n",
      "592 16380\n"
     ]
    },
    {
     "name": "stderr",
     "output_type": "stream",
     "text": [
      "/home/mimus/anaconda3/envs/tf2/lib/python3.6/site-packages/ipykernel_launcher.py:51: UserWarning: /home/mimus/apiais/data/images/ANPR/training/masks_plate_loc/masks_386_29_augmented_image_16380.jpg is a low contrast image\n"
     ]
    },
    {
     "name": "stdout",
     "output_type": "stream",
     "text": [
      "593 16381\n",
      "594 16382\n",
      "595 16383\n",
      "596 16384\n"
     ]
    },
    {
     "name": "stderr",
     "output_type": "stream",
     "text": [
      "/home/mimus/anaconda3/envs/tf2/lib/python3.6/site-packages/ipykernel_launcher.py:51: UserWarning: /home/mimus/apiais/data/images/ANPR/training/masks_plate_loc/masks_58_40_augmented_image_16383.jpg is a low contrast image\n"
     ]
    },
    {
     "name": "stdout",
     "output_type": "stream",
     "text": [
      "597 16385\n",
      "598 16386\n"
     ]
    },
    {
     "name": "stderr",
     "output_type": "stream",
     "text": [
      "/home/mimus/anaconda3/envs/tf2/lib/python3.6/site-packages/ipykernel_launcher.py:51: UserWarning: /home/mimus/apiais/data/images/ANPR/training/masks_plate_loc/masks_46_34_augmented_image_15052_augmented_image_16385.jpg is a low contrast image\n",
      "/home/mimus/anaconda3/envs/tf2/lib/python3.6/site-packages/ipykernel_launcher.py:51: UserWarning: /home/mimus/apiais/data/images/ANPR/training/masks_plate_loc/masks_216_29_augmented_image_16386.jpg is a low contrast image\n"
     ]
    },
    {
     "name": "stdout",
     "output_type": "stream",
     "text": [
      "599 16387\n",
      "600 16388\n"
     ]
    },
    {
     "name": "stderr",
     "output_type": "stream",
     "text": [
      "/home/mimus/anaconda3/envs/tf2/lib/python3.6/site-packages/ipykernel_launcher.py:51: UserWarning: /home/mimus/apiais/data/images/ANPR/training/masks_plate_loc/masks_134_0_augmented_image_8265_augmented_image_16387.jpg is a low contrast image\n"
     ]
    },
    {
     "name": "stdout",
     "output_type": "stream",
     "text": [
      "601 16389\n",
      "602 16390\n"
     ]
    },
    {
     "name": "stderr",
     "output_type": "stream",
     "text": [
      "/home/mimus/anaconda3/envs/tf2/lib/python3.6/site-packages/ipykernel_launcher.py:51: UserWarning: /home/mimus/apiais/data/images/ANPR/training/masks_plate_loc/masks_3_41_augmented_image_16390.jpg is a low contrast image\n",
      "/home/mimus/anaconda3/envs/tf2/lib/python3.6/site-packages/ipykernel_launcher.py:51: UserWarning: /home/mimus/apiais/data/images/ANPR/training/masks_plate_loc/masks_50_29_augmented_image_8588_augmented_image_16391.jpg is a low contrast image\n"
     ]
    },
    {
     "name": "stdout",
     "output_type": "stream",
     "text": [
      "603 16391\n",
      "604 16392\n",
      "605 16393\n",
      "606 16394\n",
      "607 16395\n",
      "608 16396\n",
      "609 16397\n",
      "610 16398\n",
      "611 16399\n"
     ]
    },
    {
     "name": "stderr",
     "output_type": "stream",
     "text": [
      "/home/mimus/anaconda3/envs/tf2/lib/python3.6/site-packages/ipykernel_launcher.py:51: UserWarning: /home/mimus/apiais/data/images/ANPR/training/masks_plate_loc/masks_349_39_augmented_image_16398.jpg is a low contrast image\n",
      "/home/mimus/anaconda3/envs/tf2/lib/python3.6/site-packages/ipykernel_launcher.py:51: UserWarning: /home/mimus/apiais/data/images/ANPR/training/masks_plate_loc/masks_4_43_augmented_image_13612_augmented_image_16399.jpg is a low contrast image\n"
     ]
    },
    {
     "name": "stdout",
     "output_type": "stream",
     "text": [
      "612 16400\n",
      "613 16401\n"
     ]
    },
    {
     "name": "stderr",
     "output_type": "stream",
     "text": [
      "/home/mimus/anaconda3/envs/tf2/lib/python3.6/site-packages/ipykernel_launcher.py:51: UserWarning: /home/mimus/apiais/data/images/ANPR/training/masks_plate_loc/masks_62_16_augmented_image_14929_augmented_image_16400.jpg is a low contrast image\n"
     ]
    },
    {
     "name": "stdout",
     "output_type": "stream",
     "text": [
      "614 16402\n",
      "615 16403\n"
     ]
    },
    {
     "name": "stderr",
     "output_type": "stream",
     "text": [
      "/home/mimus/anaconda3/envs/tf2/lib/python3.6/site-packages/ipykernel_launcher.py:51: UserWarning: /home/mimus/apiais/data/images/ANPR/training/masks_plate_loc/masks_140_43_augmented_image_16403.jpg is a low contrast image\n"
     ]
    },
    {
     "name": "stdout",
     "output_type": "stream",
     "text": [
      "616 16404\n",
      "617 16405\n",
      "618 16406\n",
      "619 16407\n",
      "620 16408\n",
      "621 16409\n",
      "622 16410\n",
      "623 16411\n"
     ]
    },
    {
     "name": "stderr",
     "output_type": "stream",
     "text": [
      "/home/mimus/anaconda3/envs/tf2/lib/python3.6/site-packages/ipykernel_launcher.py:51: UserWarning: /home/mimus/apiais/data/images/ANPR/training/masks_plate_loc/masks_877_32_augmented_image_16411.jpg is a low contrast image\n"
     ]
    },
    {
     "name": "stdout",
     "output_type": "stream",
     "text": [
      "624 16412\n",
      "625 16413\n"
     ]
    },
    {
     "name": "stderr",
     "output_type": "stream",
     "text": [
      "/home/mimus/anaconda3/envs/tf2/lib/python3.6/site-packages/ipykernel_launcher.py:51: UserWarning: /home/mimus/apiais/data/images/ANPR/training/masks_plate_loc/masks_124_43_augmented_image_16413.jpg is a low contrast image\n",
      "/home/mimus/anaconda3/envs/tf2/lib/python3.6/site-packages/ipykernel_launcher.py:51: UserWarning: /home/mimus/apiais/data/images/ANPR/training/masks_plate_loc/masks_422_29_augmented_image_14173_augmented_image_16414.jpg is a low contrast image\n"
     ]
    },
    {
     "name": "stdout",
     "output_type": "stream",
     "text": [
      "626 16414\n",
      "627 16415\n",
      "628 16416\n",
      "629 16417\n",
      "630 16418\n",
      "631 16419\n",
      "632 16420\n",
      "633 16421\n"
     ]
    },
    {
     "name": "stderr",
     "output_type": "stream",
     "text": [
      "/home/mimus/anaconda3/envs/tf2/lib/python3.6/site-packages/ipykernel_launcher.py:51: UserWarning: /home/mimus/apiais/data/images/ANPR/training/masks_plate_loc/masks_18_30_1_augmented_image_8372_augmented_image_16421.jpg is a low contrast image\n"
     ]
    },
    {
     "name": "stdout",
     "output_type": "stream",
     "text": [
      "634 16422\n",
      "635 16423\n"
     ]
    },
    {
     "name": "stderr",
     "output_type": "stream",
     "text": [
      "/home/mimus/anaconda3/envs/tf2/lib/python3.6/site-packages/ipykernel_launcher.py:51: UserWarning: /home/mimus/apiais/data/images/ANPR/training/masks_plate_loc/masks_342_32_augmented_image_9866_augmented_image_16423.jpg is a low contrast image\n",
      "/home/mimus/anaconda3/envs/tf2/lib/python3.6/site-packages/ipykernel_launcher.py:51: UserWarning: /home/mimus/apiais/data/images/ANPR/training/masks_plate_loc/masks_57_5_augmented_image_16425.jpg is a low contrast image\n"
     ]
    },
    {
     "name": "stdout",
     "output_type": "stream",
     "text": [
      "636 16424\n",
      "637 16425\n",
      "638 16426\n",
      "639 16427\n",
      "640 16428\n",
      "641 16429\n",
      "642 16430\n"
     ]
    },
    {
     "name": "stderr",
     "output_type": "stream",
     "text": [
      "/home/mimus/anaconda3/envs/tf2/lib/python3.6/site-packages/ipykernel_launcher.py:51: UserWarning: /home/mimus/apiais/data/images/ANPR/training/masks_plate_loc/masks_172_0_augmented_image_16430.jpg is a low contrast image\n"
     ]
    },
    {
     "name": "stdout",
     "output_type": "stream",
     "text": [
      "643 16431\n",
      "644 16432\n",
      "645 16433\n",
      "646 16434\n",
      "647 16435\n",
      "648 16436\n",
      "649 16437\n",
      "650 16438\n",
      "651 16439\n",
      "652 16440\n",
      "653 16441\n",
      "654 16442\n"
     ]
    },
    {
     "name": "stderr",
     "output_type": "stream",
     "text": [
      "/home/mimus/anaconda3/envs/tf2/lib/python3.6/site-packages/ipykernel_launcher.py:51: UserWarning: /home/mimus/apiais/data/images/ANPR/training/masks_plate_loc/masks_38_23_augmented_image_16442.jpg is a low contrast image\n"
     ]
    },
    {
     "name": "stdout",
     "output_type": "stream",
     "text": [
      "655 16443\n",
      "656 16444\n",
      "657 16445\n",
      "658 16446\n"
     ]
    },
    {
     "name": "stderr",
     "output_type": "stream",
     "text": [
      "/home/mimus/anaconda3/envs/tf2/lib/python3.6/site-packages/ipykernel_launcher.py:51: UserWarning: /home/mimus/apiais/data/images/ANPR/training/masks_plate_loc/masks_70_5_augmented_image_16445.jpg is a low contrast image\n",
      "/home/mimus/anaconda3/envs/tf2/lib/python3.6/site-packages/ipykernel_launcher.py:51: UserWarning: /home/mimus/apiais/data/images/ANPR/training/masks_plate_loc/masks_447_29_augmented_image_16446.jpg is a low contrast image\n"
     ]
    },
    {
     "name": "stdout",
     "output_type": "stream",
     "text": [
      "659 16447\n",
      "660 16448\n",
      "661 16449\n",
      "662 16450\n",
      "663 16451\n",
      "664 16452\n",
      "665 16453\n",
      "666 16454\n"
     ]
    },
    {
     "name": "stderr",
     "output_type": "stream",
     "text": [
      "/home/mimus/anaconda3/envs/tf2/lib/python3.6/site-packages/ipykernel_launcher.py:51: UserWarning: /home/mimus/apiais/data/images/ANPR/training/masks_plate_loc/masks_56_23_augmented_image_12665_augmented_image_16452.jpg is a low contrast image\n"
     ]
    },
    {
     "name": "stdout",
     "output_type": "stream",
     "text": [
      "667 16455\n",
      "668 16456\n"
     ]
    },
    {
     "name": "stderr",
     "output_type": "stream",
     "text": [
      "/home/mimus/anaconda3/envs/tf2/lib/python3.6/site-packages/ipykernel_launcher.py:51: UserWarning: /home/mimus/apiais/data/images/ANPR/training/masks_plate_loc/masks_17_20_augmented_image_16455.jpg is a low contrast image\n"
     ]
    },
    {
     "name": "stdout",
     "output_type": "stream",
     "text": [
      "669 16457\n",
      "670 16458\n"
     ]
    },
    {
     "name": "stderr",
     "output_type": "stream",
     "text": [
      "/home/mimus/anaconda3/envs/tf2/lib/python3.6/site-packages/ipykernel_launcher.py:51: UserWarning: /home/mimus/apiais/data/images/ANPR/training/masks_plate_loc/masks_197_32_augmented_image_9077_augmented_image_16457.jpg is a low contrast image\n"
     ]
    },
    {
     "name": "stdout",
     "output_type": "stream",
     "text": [
      "671 16459\n",
      "672 16460\n"
     ]
    },
    {
     "name": "stderr",
     "output_type": "stream",
     "text": [
      "/home/mimus/anaconda3/envs/tf2/lib/python3.6/site-packages/ipykernel_launcher.py:51: UserWarning: /home/mimus/apiais/data/images/ANPR/training/masks_plate_loc/masks_24_23_augmented_image_16459.jpg is a low contrast image\n"
     ]
    },
    {
     "name": "stdout",
     "output_type": "stream",
     "text": [
      "673 16461\n",
      "674 16462\n"
     ]
    },
    {
     "name": "stderr",
     "output_type": "stream",
     "text": [
      "/home/mimus/anaconda3/envs/tf2/lib/python3.6/site-packages/ipykernel_launcher.py:51: UserWarning: /home/mimus/apiais/data/images/ANPR/training/masks_plate_loc/masks_101_9_augmented_image_16461.jpg is a low contrast image\n",
      "/home/mimus/anaconda3/envs/tf2/lib/python3.6/site-packages/ipykernel_launcher.py:51: UserWarning: /home/mimus/apiais/data/images/ANPR/training/masks_plate_loc/masks_172_30_1_augmented_image_14100_augmented_image_16462.jpg is a low contrast image\n"
     ]
    },
    {
     "name": "stdout",
     "output_type": "stream",
     "text": [
      "675 16463\n",
      "676 16464\n",
      "677 16465\n",
      "678 16466\n",
      "679 16467\n",
      "680 16468\n"
     ]
    },
    {
     "name": "stderr",
     "output_type": "stream",
     "text": [
      "/home/mimus/anaconda3/envs/tf2/lib/python3.6/site-packages/ipykernel_launcher.py:51: UserWarning: /home/mimus/apiais/data/images/ANPR/training/masks_plate_loc/masks_567_18_augmented_image_16467.jpg is a low contrast image\n"
     ]
    },
    {
     "name": "stdout",
     "output_type": "stream",
     "text": [
      "681 16469\n",
      "682 16470\n"
     ]
    },
    {
     "name": "stderr",
     "output_type": "stream",
     "text": [
      "/home/mimus/anaconda3/envs/tf2/lib/python3.6/site-packages/ipykernel_launcher.py:51: UserWarning: /home/mimus/apiais/data/images/ANPR/training/masks_plate_loc/masks_110_9_augmented_image_8626_augmented_image_16470.jpg is a low contrast image\n",
      "/home/mimus/anaconda3/envs/tf2/lib/python3.6/site-packages/ipykernel_launcher.py:51: UserWarning: /home/mimus/apiais/data/images/ANPR/training/masks_plate_loc/masks_398_29_augmented_image_16472.jpg is a low contrast image\n"
     ]
    },
    {
     "name": "stdout",
     "output_type": "stream",
     "text": [
      "683 16471\n",
      "684 16472\n",
      "685 16473\n",
      "686 16474\n",
      "687 16475\n"
     ]
    },
    {
     "name": "stderr",
     "output_type": "stream",
     "text": [
      "/home/mimus/anaconda3/envs/tf2/lib/python3.6/site-packages/ipykernel_launcher.py:51: UserWarning: /home/mimus/apiais/data/images/ANPR/training/masks_plate_loc/masks_2_9_augmented_image_16474.jpg is a low contrast image\n"
     ]
    },
    {
     "name": "stdout",
     "output_type": "stream",
     "text": [
      "688 16476\n",
      "689 16477\n",
      "690 16478\n",
      "691 16479\n",
      "692 16480\n",
      "693 16481\n",
      "694 16482\n",
      "695 16483\n",
      "696 16484\n",
      "697 16485\n",
      "698 16486\n",
      "699 16487\n"
     ]
    },
    {
     "name": "stderr",
     "output_type": "stream",
     "text": [
      "/home/mimus/anaconda3/envs/tf2/lib/python3.6/site-packages/ipykernel_launcher.py:51: UserWarning: /home/mimus/apiais/data/images/ANPR/training/masks_plate_loc/masks_110_23_augmented_image_16487.jpg is a low contrast image\n",
      "/home/mimus/anaconda3/envs/tf2/lib/python3.6/site-packages/ipykernel_launcher.py:51: UserWarning: /home/mimus/apiais/data/images/ANPR/training/masks_plate_loc/masks_303_28_augmented_image_16488.jpg is a low contrast image\n"
     ]
    },
    {
     "name": "stdout",
     "output_type": "stream",
     "text": [
      "700 16488\n",
      "701 16489\n",
      "702 16490\n",
      "703 16491\n",
      "704 16492\n",
      "705 16493\n",
      "706 16494\n",
      "707 16495\n",
      "708 16496\n"
     ]
    },
    {
     "name": "stderr",
     "output_type": "stream",
     "text": [
      "/home/mimus/anaconda3/envs/tf2/lib/python3.6/site-packages/ipykernel_launcher.py:51: UserWarning: /home/mimus/apiais/data/images/ANPR/training/masks_plate_loc/masks_131_1_3_augmented_image_8084_augmented_image_16495.jpg is a low contrast image\n",
      "/home/mimus/anaconda3/envs/tf2/lib/python3.6/site-packages/ipykernel_launcher.py:51: UserWarning: /home/mimus/apiais/data/images/ANPR/training/masks_plate_loc/masks_28_39_augmented_image_16496.jpg is a low contrast image\n"
     ]
    },
    {
     "name": "stdout",
     "output_type": "stream",
     "text": [
      "709 16497\n",
      "710 16498\n",
      "711 16499\n",
      "712 16500\n",
      "713 16501\n"
     ]
    },
    {
     "name": "stderr",
     "output_type": "stream",
     "text": [
      "/home/mimus/anaconda3/envs/tf2/lib/python3.6/site-packages/ipykernel_launcher.py:51: UserWarning: /home/mimus/apiais/data/images/ANPR/training/masks_plate_loc/masks_166_28_augmented_image_16499.jpg is a low contrast image\n"
     ]
    },
    {
     "name": "stdout",
     "output_type": "stream",
     "text": [
      "714 16502\n",
      "715 16503\n",
      "716 16504\n",
      "717 16505\n",
      "718 16506\n",
      "719 16507\n"
     ]
    },
    {
     "name": "stderr",
     "output_type": "stream",
     "text": [
      "/home/mimus/anaconda3/envs/tf2/lib/python3.6/site-packages/ipykernel_launcher.py:51: UserWarning: /home/mimus/apiais/data/images/ANPR/training/masks_plate_loc/masks_20_23_augmented_image_9875_augmented_image_16507.jpg is a low contrast image\n"
     ]
    },
    {
     "name": "stdout",
     "output_type": "stream",
     "text": [
      "720 16508\n",
      "721 16509\n"
     ]
    },
    {
     "name": "stderr",
     "output_type": "stream",
     "text": [
      "/home/mimus/anaconda3/envs/tf2/lib/python3.6/site-packages/ipykernel_launcher.py:51: UserWarning: /home/mimus/apiais/data/images/ANPR/training/masks_plate_loc/masks_38_19_augmented_image_16509.jpg is a low contrast image\n",
      "/home/mimus/anaconda3/envs/tf2/lib/python3.6/site-packages/ipykernel_launcher.py:51: UserWarning: /home/mimus/apiais/data/images/ANPR/training/masks_plate_loc/masks_106_29_augmented_image_16510.jpg is a low contrast image\n"
     ]
    },
    {
     "name": "stdout",
     "output_type": "stream",
     "text": [
      "722 16510\n",
      "723 16511\n",
      "724 16512\n",
      "725 16513\n",
      "726 16514\n",
      "727 16515\n"
     ]
    },
    {
     "name": "stderr",
     "output_type": "stream",
     "text": [
      "/home/mimus/anaconda3/envs/tf2/lib/python3.6/site-packages/ipykernel_launcher.py:51: UserWarning: /home/mimus/apiais/data/images/ANPR/training/masks_plate_loc/masks_287_34_augmented_image_16515.jpg is a low contrast image\n",
      "/home/mimus/anaconda3/envs/tf2/lib/python3.6/site-packages/ipykernel_launcher.py:51: UserWarning: /home/mimus/apiais/data/images/ANPR/training/masks_plate_loc/masks_19_41_augmented_image_14141_augmented_image_16516.jpg is a low contrast image\n"
     ]
    },
    {
     "name": "stdout",
     "output_type": "stream",
     "text": [
      "728 16516\n",
      "729 16517\n"
     ]
    },
    {
     "name": "stderr",
     "output_type": "stream",
     "text": [
      "/home/mimus/anaconda3/envs/tf2/lib/python3.6/site-packages/ipykernel_launcher.py:51: UserWarning: /home/mimus/apiais/data/images/ANPR/training/masks_plate_loc/masks_162_18_augmented_image_16517.jpg is a low contrast image\n",
      "/home/mimus/anaconda3/envs/tf2/lib/python3.6/site-packages/ipykernel_launcher.py:51: UserWarning: /home/mimus/apiais/data/images/ANPR/training/masks_plate_loc/masks_6_29_augmented_image_16518.jpg is a low contrast image\n"
     ]
    },
    {
     "name": "stdout",
     "output_type": "stream",
     "text": [
      "730 16518\n",
      "731 16519\n",
      "732 16520\n",
      "733 16521\n"
     ]
    },
    {
     "name": "stderr",
     "output_type": "stream",
     "text": [
      "/home/mimus/anaconda3/envs/tf2/lib/python3.6/site-packages/ipykernel_launcher.py:51: UserWarning: /home/mimus/apiais/data/images/ANPR/training/masks_plate_loc/masks_160_30_1_augmented_image_14715_augmented_image_16521.jpg is a low contrast image\n"
     ]
    },
    {
     "name": "stdout",
     "output_type": "stream",
     "text": [
      "734 16522\n",
      "735 16523\n"
     ]
    },
    {
     "name": "stderr",
     "output_type": "stream",
     "text": [
      "/home/mimus/anaconda3/envs/tf2/lib/python3.6/site-packages/ipykernel_launcher.py:51: UserWarning: /home/mimus/apiais/data/images/ANPR/training/masks_plate_loc/masks_618_32_augmented_image_16523.jpg is a low contrast image\n"
     ]
    },
    {
     "name": "stdout",
     "output_type": "stream",
     "text": [
      "736 16524\n",
      "737 16525\n"
     ]
    },
    {
     "name": "stderr",
     "output_type": "stream",
     "text": [
      "/home/mimus/anaconda3/envs/tf2/lib/python3.6/site-packages/ipykernel_launcher.py:51: UserWarning: /home/mimus/apiais/data/images/ANPR/training/masks_plate_loc/masks_57_28_augmented_image_14838_augmented_image_16525.jpg is a low contrast image\n"
     ]
    },
    {
     "name": "stdout",
     "output_type": "stream",
     "text": [
      "738 16526\n",
      "739 16527\n",
      "740 16528\n",
      "741 16529\n",
      "742 16530\n"
     ]
    },
    {
     "name": "stderr",
     "output_type": "stream",
     "text": [
      "/home/mimus/anaconda3/envs/tf2/lib/python3.6/site-packages/ipykernel_launcher.py:51: UserWarning: /home/mimus/apiais/data/images/ANPR/training/masks_plate_loc/masks_115_23_augmented_image_16528.jpg is a low contrast image\n"
     ]
    },
    {
     "name": "stdout",
     "output_type": "stream",
     "text": [
      "743 16531\n",
      "744 16532\n",
      "745 16533\n"
     ]
    },
    {
     "name": "stderr",
     "output_type": "stream",
     "text": [
      "/home/mimus/anaconda3/envs/tf2/lib/python3.6/site-packages/ipykernel_launcher.py:51: UserWarning: /home/mimus/apiais/data/images/ANPR/training/masks_plate_loc/masks_108_41_augmented_image_16531.jpg is a low contrast image\n",
      "/home/mimus/anaconda3/envs/tf2/lib/python3.6/site-packages/ipykernel_launcher.py:51: UserWarning: /home/mimus/apiais/data/images/ANPR/training/masks_plate_loc/masks_309_32_augmented_image_16533.jpg is a low contrast image\n",
      "/home/mimus/anaconda3/envs/tf2/lib/python3.6/site-packages/ipykernel_launcher.py:51: UserWarning: /home/mimus/apiais/data/images/ANPR/training/masks_plate_loc/masks_229_39_augmented_image_16534.jpg is a low contrast image\n"
     ]
    },
    {
     "name": "stdout",
     "output_type": "stream",
     "text": [
      "746 16534\n",
      "747 16535\n",
      "748 16536\n",
      "749 16537\n",
      "750 16538\n",
      "751 16539\n",
      "752 16540\n"
     ]
    },
    {
     "name": "stderr",
     "output_type": "stream",
     "text": [
      "/home/mimus/anaconda3/envs/tf2/lib/python3.6/site-packages/ipykernel_launcher.py:51: UserWarning: /home/mimus/apiais/data/images/ANPR/training/masks_plate_loc/masks_338_32_augmented_image_12388_augmented_image_16538.jpg is a low contrast image\n",
      "/home/mimus/anaconda3/envs/tf2/lib/python3.6/site-packages/ipykernel_launcher.py:51: UserWarning: /home/mimus/apiais/data/images/ANPR/training/masks_plate_loc/masks_315_33_augmented_image_16539.jpg is a low contrast image\n"
     ]
    },
    {
     "name": "stdout",
     "output_type": "stream",
     "text": [
      "753 16541\n",
      "754 16542\n",
      "755 16543\n",
      "756 16544\n",
      "757 16545\n",
      "758 16546\n"
     ]
    },
    {
     "name": "stderr",
     "output_type": "stream",
     "text": [
      "/home/mimus/anaconda3/envs/tf2/lib/python3.6/site-packages/ipykernel_launcher.py:51: UserWarning: /home/mimus/apiais/data/images/ANPR/training/masks_plate_loc/masks_192_39_augmented_image_16545.jpg is a low contrast image\n"
     ]
    },
    {
     "name": "stdout",
     "output_type": "stream",
     "text": [
      "759 16547\n",
      "760 16548\n"
     ]
    },
    {
     "name": "stderr",
     "output_type": "stream",
     "text": [
      "/home/mimus/anaconda3/envs/tf2/lib/python3.6/site-packages/ipykernel_launcher.py:51: UserWarning: /home/mimus/apiais/data/images/ANPR/training/masks_plate_loc/masks_72_16_augmented_image_16547.jpg is a low contrast image\n"
     ]
    },
    {
     "name": "stdout",
     "output_type": "stream",
     "text": [
      "761 16549\n",
      "762 16550\n"
     ]
    },
    {
     "name": "stderr",
     "output_type": "stream",
     "text": [
      "/home/mimus/anaconda3/envs/tf2/lib/python3.6/site-packages/ipykernel_launcher.py:51: UserWarning: /home/mimus/apiais/data/images/ANPR/training/masks_plate_loc/masks_59_1_3_augmented_image_16549.jpg is a low contrast image\n"
     ]
    },
    {
     "name": "stdout",
     "output_type": "stream",
     "text": [
      "763 16551\n",
      "764 16552\n",
      "765 16553\n",
      "766 16554\n"
     ]
    },
    {
     "name": "stderr",
     "output_type": "stream",
     "text": [
      "/home/mimus/anaconda3/envs/tf2/lib/python3.6/site-packages/ipykernel_launcher.py:51: UserWarning: /home/mimus/apiais/data/images/ANPR/training/masks_plate_loc/masks_83_42_augmented_image_16553.jpg is a low contrast image\n",
      "/home/mimus/anaconda3/envs/tf2/lib/python3.6/site-packages/ipykernel_launcher.py:51: UserWarning: /home/mimus/apiais/data/images/ANPR/training/masks_plate_loc/masks_680_32_augmented_image_16554.jpg is a low contrast image\n"
     ]
    },
    {
     "name": "stdout",
     "output_type": "stream",
     "text": [
      "767 16555\n",
      "768 16556\n",
      "769 16557\n"
     ]
    },
    {
     "name": "stderr",
     "output_type": "stream",
     "text": [
      "/home/mimus/anaconda3/envs/tf2/lib/python3.6/site-packages/ipykernel_launcher.py:51: UserWarning: /home/mimus/apiais/data/images/ANPR/training/masks_plate_loc/masks_40_18_augmented_image_16555.jpg is a low contrast image\n"
     ]
    },
    {
     "name": "stdout",
     "output_type": "stream",
     "text": [
      "770 16558\n",
      "771 16559\n",
      "772 16560\n",
      "773 16561\n"
     ]
    },
    {
     "name": "stderr",
     "output_type": "stream",
     "text": [
      "/home/mimus/anaconda3/envs/tf2/lib/python3.6/site-packages/ipykernel_launcher.py:51: UserWarning: /home/mimus/apiais/data/images/ANPR/training/masks_plate_loc/masks_106_4_augmented_image_11179_augmented_image_16560.jpg is a low contrast image\n"
     ]
    },
    {
     "name": "stdout",
     "output_type": "stream",
     "text": [
      "774 16562\n",
      "775 16563\n"
     ]
    },
    {
     "name": "stderr",
     "output_type": "stream",
     "text": [
      "/home/mimus/anaconda3/envs/tf2/lib/python3.6/site-packages/ipykernel_launcher.py:51: UserWarning: /home/mimus/apiais/data/images/ANPR/training/masks_plate_loc/masks_20_0_augmented_image_16562.jpg is a low contrast image\n"
     ]
    },
    {
     "name": "stdout",
     "output_type": "stream",
     "text": [
      "776 16564\n",
      "777 16565\n",
      "778 16566\n",
      "779 16567\n"
     ]
    },
    {
     "name": "stderr",
     "output_type": "stream",
     "text": [
      "/home/mimus/anaconda3/envs/tf2/lib/python3.6/site-packages/ipykernel_launcher.py:51: UserWarning: /home/mimus/apiais/data/images/ANPR/training/masks_plate_loc/masks_79_42_augmented_image_16567.jpg is a low contrast image\n"
     ]
    },
    {
     "name": "stdout",
     "output_type": "stream",
     "text": [
      "780 16568\n",
      "781 16569\n"
     ]
    },
    {
     "name": "stderr",
     "output_type": "stream",
     "text": [
      "/home/mimus/anaconda3/envs/tf2/lib/python3.6/site-packages/ipykernel_launcher.py:51: UserWarning: /home/mimus/apiais/data/images/ANPR/training/masks_plate_loc/masks_5_31_augmented_image_16569.jpg is a low contrast image\n",
      "/home/mimus/anaconda3/envs/tf2/lib/python3.6/site-packages/ipykernel_launcher.py:51: UserWarning: /home/mimus/apiais/data/images/ANPR/training/masks_plate_loc/masks_491_32_augmented_image_16570.jpg is a low contrast image\n"
     ]
    },
    {
     "name": "stdout",
     "output_type": "stream",
     "text": [
      "782 16570\n",
      "783 16571\n",
      "784 16572\n"
     ]
    },
    {
     "name": "stderr",
     "output_type": "stream",
     "text": [
      "/home/mimus/anaconda3/envs/tf2/lib/python3.6/site-packages/ipykernel_launcher.py:51: UserWarning: /home/mimus/apiais/data/images/ANPR/training/masks_plate_loc/masks_51_4_augmented_image_14454_augmented_image_16572.jpg is a low contrast image\n",
      "/home/mimus/anaconda3/envs/tf2/lib/python3.6/site-packages/ipykernel_launcher.py:51: UserWarning: /home/mimus/apiais/data/images/ANPR/training/masks_plate_loc/masks_58_1_3_augmented_image_9706_augmented_image_16574.jpg is a low contrast image\n"
     ]
    },
    {
     "name": "stdout",
     "output_type": "stream",
     "text": [
      "785 16573\n",
      "786 16574\n",
      "787 16575\n"
     ]
    },
    {
     "name": "stderr",
     "output_type": "stream",
     "text": [
      "/home/mimus/anaconda3/envs/tf2/lib/python3.6/site-packages/ipykernel_launcher.py:51: UserWarning: /home/mimus/apiais/data/images/ANPR/training/masks_plate_loc/masks_232_40_augmented_image_16575.jpg is a low contrast image\n",
      "/home/mimus/anaconda3/envs/tf2/lib/python3.6/site-packages/ipykernel_launcher.py:51: UserWarning: /home/mimus/apiais/data/images/ANPR/training/masks_plate_loc/masks_308_28_augmented_image_16576.jpg is a low contrast image\n"
     ]
    },
    {
     "name": "stdout",
     "output_type": "stream",
     "text": [
      "788 16576\n",
      "789 16577\n",
      "790 16578\n",
      "791 16579\n",
      "792 16580\n"
     ]
    },
    {
     "name": "stderr",
     "output_type": "stream",
     "text": [
      "/home/mimus/anaconda3/envs/tf2/lib/python3.6/site-packages/ipykernel_launcher.py:51: UserWarning: /home/mimus/apiais/data/images/ANPR/training/masks_plate_loc/masks_38_34_augmented_image_11152_augmented_image_16579.jpg is a low contrast image\n",
      "/home/mimus/anaconda3/envs/tf2/lib/python3.6/site-packages/ipykernel_launcher.py:51: UserWarning: /home/mimus/apiais/data/images/ANPR/training/masks_plate_loc/masks_155_28_augmented_image_16580.jpg is a low contrast image\n"
     ]
    },
    {
     "name": "stdout",
     "output_type": "stream",
     "text": [
      "793 16581\n",
      "794 16582\n",
      "795 16583\n",
      "796 16584\n",
      "797 16585\n",
      "798 16586\n",
      "799 16587\n"
     ]
    },
    {
     "name": "stderr",
     "output_type": "stream",
     "text": [
      "/home/mimus/anaconda3/envs/tf2/lib/python3.6/site-packages/ipykernel_launcher.py:51: UserWarning: /home/mimus/apiais/data/images/ANPR/training/masks_plate_loc/masks_362_32_augmented_image_16587.jpg is a low contrast image\n"
     ]
    },
    {
     "name": "stdout",
     "output_type": "stream",
     "text": [
      "800 16588\n",
      "801 16589\n",
      "802 16590\n",
      "803 16591\n",
      "804 16592\n",
      "805 16593\n",
      "806 16594\n",
      "807 16595\n",
      "808 16596\n",
      "809 16597\n",
      "810 16598\n",
      "811 16599\n",
      "812 16600\n"
     ]
    },
    {
     "name": "stderr",
     "output_type": "stream",
     "text": [
      "/home/mimus/anaconda3/envs/tf2/lib/python3.6/site-packages/ipykernel_launcher.py:51: UserWarning: /home/mimus/apiais/data/images/ANPR/training/masks_plate_loc/masks_103_29_augmented_image_15175_augmented_image_16598.jpg is a low contrast image\n",
      "/home/mimus/anaconda3/envs/tf2/lib/python3.6/site-packages/ipykernel_launcher.py:51: UserWarning: /home/mimus/apiais/data/images/ANPR/training/masks_plate_loc/masks_5_16_augmented_image_16599.jpg is a low contrast image\n"
     ]
    },
    {
     "name": "stdout",
     "output_type": "stream",
     "text": [
      "813 16601\n",
      "814 16602\n",
      "815 16603\n",
      "816 16604\n",
      "817 16605\n",
      "818 16606\n",
      "819 16607\n"
     ]
    },
    {
     "name": "stderr",
     "output_type": "stream",
     "text": [
      "/home/mimus/anaconda3/envs/tf2/lib/python3.6/site-packages/ipykernel_launcher.py:51: UserWarning: /home/mimus/apiais/data/images/ANPR/training/masks_plate_loc/masks_96_29_augmented_image_16606.jpg is a low contrast image\n"
     ]
    },
    {
     "name": "stdout",
     "output_type": "stream",
     "text": [
      "820 16608\n",
      "821 16609\n",
      "822 16610\n",
      "823 16611\n"
     ]
    },
    {
     "name": "stderr",
     "output_type": "stream",
     "text": [
      "/home/mimus/anaconda3/envs/tf2/lib/python3.6/site-packages/ipykernel_launcher.py:51: UserWarning: /home/mimus/apiais/data/images/ANPR/training/masks_plate_loc/masks_224_39_augmented_image_16610.jpg is a low contrast image\n",
      "/home/mimus/anaconda3/envs/tf2/lib/python3.6/site-packages/ipykernel_launcher.py:51: UserWarning: /home/mimus/apiais/data/images/ANPR/training/masks_plate_loc/masks_368_0_augmented_image_16611.jpg is a low contrast image\n"
     ]
    },
    {
     "name": "stdout",
     "output_type": "stream",
     "text": [
      "824 16612\n",
      "825 16613\n",
      "826 16614\n"
     ]
    },
    {
     "name": "stderr",
     "output_type": "stream",
     "text": [
      "/home/mimus/anaconda3/envs/tf2/lib/python3.6/site-packages/ipykernel_launcher.py:51: UserWarning: /home/mimus/apiais/data/images/ANPR/training/masks_plate_loc/masks_105_30_1_augmented_image_10327_augmented_image_16612.jpg is a low contrast image\n",
      "/home/mimus/anaconda3/envs/tf2/lib/python3.6/site-packages/ipykernel_launcher.py:51: UserWarning: /home/mimus/apiais/data/images/ANPR/training/masks_plate_loc/masks_17_33_augmented_image_10232_augmented_image_16613.jpg is a low contrast image\n"
     ]
    },
    {
     "name": "stdout",
     "output_type": "stream",
     "text": [
      "827 16615\n",
      "828 16616\n",
      "829 16617\n",
      "830 16618\n"
     ]
    },
    {
     "name": "stderr",
     "output_type": "stream",
     "text": [
      "/home/mimus/anaconda3/envs/tf2/lib/python3.6/site-packages/ipykernel_launcher.py:51: UserWarning: /home/mimus/apiais/data/images/ANPR/training/masks_plate_loc/masks_10_42_augmented_image_10881_augmented_image_16618.jpg is a low contrast image\n"
     ]
    },
    {
     "name": "stdout",
     "output_type": "stream",
     "text": [
      "831 16619\n",
      "832 16620\n",
      "833 16621\n",
      "834 16622\n",
      "835 16623\n",
      "836 16624\n"
     ]
    },
    {
     "name": "stderr",
     "output_type": "stream",
     "text": [
      "/home/mimus/anaconda3/envs/tf2/lib/python3.6/site-packages/ipykernel_launcher.py:51: UserWarning: /home/mimus/apiais/data/images/ANPR/training/masks_plate_loc/masks_377_36_augmented_image_16624.jpg is a low contrast image\n",
      "/home/mimus/anaconda3/envs/tf2/lib/python3.6/site-packages/ipykernel_launcher.py:51: UserWarning: /home/mimus/apiais/data/images/ANPR/training/masks_plate_loc/masks_248_24_augmented_image_16625.jpg is a low contrast image\n"
     ]
    },
    {
     "name": "stdout",
     "output_type": "stream",
     "text": [
      "837 16625\n",
      "838 16626\n",
      "839 16627\n",
      "840 16628\n"
     ]
    },
    {
     "name": "stderr",
     "output_type": "stream",
     "text": [
      "/home/mimus/anaconda3/envs/tf2/lib/python3.6/site-packages/ipykernel_launcher.py:51: UserWarning: /home/mimus/apiais/data/images/ANPR/training/masks_plate_loc/masks_21_6_augmented_image_13023_augmented_image_16628.jpg is a low contrast image\n"
     ]
    },
    {
     "name": "stdout",
     "output_type": "stream",
     "text": [
      "841 16629\n",
      "842 16630\n",
      "843 16631\n",
      "844 16632\n"
     ]
    },
    {
     "name": "stderr",
     "output_type": "stream",
     "text": [
      "/home/mimus/anaconda3/envs/tf2/lib/python3.6/site-packages/ipykernel_launcher.py:51: UserWarning: /home/mimus/apiais/data/images/ANPR/training/masks_plate_loc/masks_41_20_augmented_image_16631.jpg is a low contrast image\n"
     ]
    },
    {
     "name": "stdout",
     "output_type": "stream",
     "text": [
      "845 16633\n",
      "846 16634\n",
      "847 16635\n",
      "848 16636\n",
      "849 16637\n",
      "850 16638\n"
     ]
    },
    {
     "name": "stderr",
     "output_type": "stream",
     "text": [
      "/home/mimus/anaconda3/envs/tf2/lib/python3.6/site-packages/ipykernel_launcher.py:51: UserWarning: /home/mimus/apiais/data/images/ANPR/training/masks_plate_loc/masks_75_4_augmented_image_16637.jpg is a low contrast image\n"
     ]
    },
    {
     "name": "stdout",
     "output_type": "stream",
     "text": [
      "851 16639\n",
      "852 16640\n",
      "853 16641\n",
      "854 16642\n",
      "855 16643\n",
      "856 16644\n",
      "857 16645\n",
      "858 16646\n",
      "859 16647\n"
     ]
    },
    {
     "name": "stderr",
     "output_type": "stream",
     "text": [
      "/home/mimus/anaconda3/envs/tf2/lib/python3.6/site-packages/ipykernel_launcher.py:51: UserWarning: /home/mimus/apiais/data/images/ANPR/training/masks_plate_loc/masks_150_18_augmented_image_16646.jpg is a low contrast image\n",
      "/home/mimus/anaconda3/envs/tf2/lib/python3.6/site-packages/ipykernel_launcher.py:51: UserWarning: /home/mimus/apiais/data/images/ANPR/training/masks_plate_loc/masks_228_0_augmented_image_16648.jpg is a low contrast image\n"
     ]
    },
    {
     "name": "stdout",
     "output_type": "stream",
     "text": [
      "860 16648\n",
      "861 16649\n",
      "862 16650\n"
     ]
    },
    {
     "name": "stderr",
     "output_type": "stream",
     "text": [
      "/home/mimus/anaconda3/envs/tf2/lib/python3.6/site-packages/ipykernel_launcher.py:51: UserWarning: /home/mimus/apiais/data/images/ANPR/training/masks_plate_loc/masks_514_18_augmented_image_13885_augmented_image_16649.jpg is a low contrast image\n"
     ]
    },
    {
     "name": "stdout",
     "output_type": "stream",
     "text": [
      "863 16651\n",
      "864 16652\n",
      "865 16653\n"
     ]
    },
    {
     "name": "stderr",
     "output_type": "stream",
     "text": [
      "/home/mimus/anaconda3/envs/tf2/lib/python3.6/site-packages/ipykernel_launcher.py:51: UserWarning: /home/mimus/apiais/data/images/ANPR/training/masks_plate_loc/masks_427_32_augmented_image_16653.jpg is a low contrast image\n",
      "/home/mimus/anaconda3/envs/tf2/lib/python3.6/site-packages/ipykernel_launcher.py:51: UserWarning: /home/mimus/apiais/data/images/ANPR/training/masks_plate_loc/masks_771_32_augmented_image_16654.jpg is a low contrast image\n"
     ]
    },
    {
     "name": "stdout",
     "output_type": "stream",
     "text": [
      "866 16654\n",
      "867 16655\n",
      "868 16656\n",
      "869 16657\n",
      "870 16658\n"
     ]
    },
    {
     "name": "stderr",
     "output_type": "stream",
     "text": [
      "/home/mimus/anaconda3/envs/tf2/lib/python3.6/site-packages/ipykernel_launcher.py:51: UserWarning: /home/mimus/apiais/data/images/ANPR/training/masks_plate_loc/masks_513_29_augmented_image_16658.jpg is a low contrast image\n"
     ]
    },
    {
     "name": "stdout",
     "output_type": "stream",
     "text": [
      "871 16659\n",
      "872 16660\n"
     ]
    },
    {
     "name": "stderr",
     "output_type": "stream",
     "text": [
      "/home/mimus/anaconda3/envs/tf2/lib/python3.6/site-packages/ipykernel_launcher.py:51: UserWarning: /home/mimus/apiais/data/images/ANPR/training/masks_plate_loc/masks_170_28_augmented_image_16660.jpg is a low contrast image\n"
     ]
    },
    {
     "name": "stdout",
     "output_type": "stream",
     "text": [
      "873 16661\n",
      "874 16662\n"
     ]
    },
    {
     "name": "stderr",
     "output_type": "stream",
     "text": [
      "/home/mimus/anaconda3/envs/tf2/lib/python3.6/site-packages/ipykernel_launcher.py:51: UserWarning: /home/mimus/apiais/data/images/ANPR/training/masks_plate_loc/masks_235_24_augmented_image_14562_augmented_image_16662.jpg is a low contrast image\n"
     ]
    },
    {
     "name": "stdout",
     "output_type": "stream",
     "text": [
      "875 16663\n",
      "876 16664\n"
     ]
    },
    {
     "name": "stderr",
     "output_type": "stream",
     "text": [
      "/home/mimus/anaconda3/envs/tf2/lib/python3.6/site-packages/ipykernel_launcher.py:51: UserWarning: /home/mimus/apiais/data/images/ANPR/training/masks_plate_loc/masks_307_40_augmented_image_16664.jpg is a low contrast image\n"
     ]
    },
    {
     "name": "stdout",
     "output_type": "stream",
     "text": [
      "877 16665\n",
      "878 16666\n"
     ]
    },
    {
     "name": "stderr",
     "output_type": "stream",
     "text": [
      "/home/mimus/anaconda3/envs/tf2/lib/python3.6/site-packages/ipykernel_launcher.py:51: UserWarning: /home/mimus/apiais/data/images/ANPR/training/masks_plate_loc/masks_82_39_augmented_image_13500_augmented_image_16666.jpg is a low contrast image\n",
      "/home/mimus/anaconda3/envs/tf2/lib/python3.6/site-packages/ipykernel_launcher.py:51: UserWarning: /home/mimus/apiais/data/images/ANPR/training/masks_plate_loc/masks_88_42_augmented_image_16667.jpg is a low contrast image\n"
     ]
    },
    {
     "name": "stdout",
     "output_type": "stream",
     "text": [
      "879 16667\n",
      "880 16668\n",
      "881 16669\n",
      "882 16670\n",
      "883 16671\n",
      "884 16672\n",
      "885 16673\n",
      "886 16674\n"
     ]
    },
    {
     "name": "stderr",
     "output_type": "stream",
     "text": [
      "/home/mimus/anaconda3/envs/tf2/lib/python3.6/site-packages/ipykernel_launcher.py:51: UserWarning: /home/mimus/apiais/data/images/ANPR/training/masks_plate_loc/masks_107_31_augmented_image_16673.jpg is a low contrast image\n",
      "/home/mimus/anaconda3/envs/tf2/lib/python3.6/site-packages/ipykernel_launcher.py:51: UserWarning: /home/mimus/apiais/data/images/ANPR/training/masks_plate_loc/masks_277_18_augmented_image_14306_augmented_image_16674.jpg is a low contrast image\n"
     ]
    },
    {
     "name": "stdout",
     "output_type": "stream",
     "text": [
      "887 16675\n",
      "888 16676\n"
     ]
    },
    {
     "name": "stderr",
     "output_type": "stream",
     "text": [
      "/home/mimus/anaconda3/envs/tf2/lib/python3.6/site-packages/ipykernel_launcher.py:51: UserWarning: /home/mimus/apiais/data/images/ANPR/training/masks_plate_loc/masks_360_32_augmented_image_10189_augmented_image_16675.jpg is a low contrast image\n"
     ]
    },
    {
     "name": "stdout",
     "output_type": "stream",
     "text": [
      "889 16677\n",
      "890 16678\n",
      "891 16679\n"
     ]
    },
    {
     "name": "stderr",
     "output_type": "stream",
     "text": [
      "/home/mimus/anaconda3/envs/tf2/lib/python3.6/site-packages/ipykernel_launcher.py:51: UserWarning: /home/mimus/apiais/data/images/ANPR/training/masks_plate_loc/masks_14_35_augmented_image_16679.jpg is a low contrast image\n"
     ]
    },
    {
     "name": "stdout",
     "output_type": "stream",
     "text": [
      "892 16680\n",
      "893 16681\n"
     ]
    },
    {
     "name": "stderr",
     "output_type": "stream",
     "text": [
      "/home/mimus/anaconda3/envs/tf2/lib/python3.6/site-packages/ipykernel_launcher.py:51: UserWarning: /home/mimus/apiais/data/images/ANPR/training/masks_plate_loc/masks_15_12_augmented_image_14080_augmented_image_16681.jpg is a low contrast image\n"
     ]
    },
    {
     "name": "stdout",
     "output_type": "stream",
     "text": [
      "894 16682\n",
      "895 16683\n",
      "896 16684\n",
      "897 16685\n",
      "898 16686\n",
      "899 16687\n",
      "900 16688\n",
      "901 16689\n",
      "902 16690\n"
     ]
    },
    {
     "name": "stderr",
     "output_type": "stream",
     "text": [
      "/home/mimus/anaconda3/envs/tf2/lib/python3.6/site-packages/ipykernel_launcher.py:51: UserWarning: /home/mimus/apiais/data/images/ANPR/training/masks_plate_loc/masks_255_29_augmented_image_16688.jpg is a low contrast image\n",
      "/home/mimus/anaconda3/envs/tf2/lib/python3.6/site-packages/ipykernel_launcher.py:51: UserWarning: /home/mimus/apiais/data/images/ANPR/training/masks_plate_loc/masks_87_24_augmented_image_16689.jpg is a low contrast image\n"
     ]
    },
    {
     "name": "stdout",
     "output_type": "stream",
     "text": [
      "903 16691\n",
      "904 16692\n"
     ]
    },
    {
     "name": "stderr",
     "output_type": "stream",
     "text": [
      "/home/mimus/anaconda3/envs/tf2/lib/python3.6/site-packages/ipykernel_launcher.py:51: UserWarning: /home/mimus/apiais/data/images/ANPR/training/masks_plate_loc/masks_109_28_augmented_image_9725_augmented_image_16692.jpg is a low contrast image\n"
     ]
    },
    {
     "name": "stdout",
     "output_type": "stream",
     "text": [
      "905 16693\n",
      "906 16694\n",
      "907 16695\n",
      "908 16696\n",
      "909 16697\n",
      "910 16698\n"
     ]
    },
    {
     "name": "stderr",
     "output_type": "stream",
     "text": [
      "/home/mimus/anaconda3/envs/tf2/lib/python3.6/site-packages/ipykernel_launcher.py:51: UserWarning: /home/mimus/apiais/data/images/ANPR/training/masks_plate_loc/masks_675_32_augmented_image_16698.jpg is a low contrast image\n"
     ]
    },
    {
     "name": "stdout",
     "output_type": "stream",
     "text": [
      "911 16699\n",
      "912 16700\n",
      "913 16701\n",
      "914 16702\n"
     ]
    },
    {
     "name": "stderr",
     "output_type": "stream",
     "text": [
      "/home/mimus/anaconda3/envs/tf2/lib/python3.6/site-packages/ipykernel_launcher.py:51: UserWarning: /home/mimus/apiais/data/images/ANPR/training/masks_plate_loc/masks_218_42_augmented_image_16701.jpg is a low contrast image\n",
      "/home/mimus/anaconda3/envs/tf2/lib/python3.6/site-packages/ipykernel_launcher.py:51: UserWarning: /home/mimus/apiais/data/images/ANPR/training/masks_plate_loc/masks_0_27_augmented_image_8946_augmented_image_16702.jpg is a low contrast image\n"
     ]
    },
    {
     "name": "stdout",
     "output_type": "stream",
     "text": [
      "915 16703\n",
      "916 16704\n"
     ]
    },
    {
     "name": "stderr",
     "output_type": "stream",
     "text": [
      "/home/mimus/anaconda3/envs/tf2/lib/python3.6/site-packages/ipykernel_launcher.py:51: UserWarning: /home/mimus/apiais/data/images/ANPR/training/masks_plate_loc/masks_33_21_augmented_image_16703.jpg is a low contrast image\n"
     ]
    },
    {
     "name": "stdout",
     "output_type": "stream",
     "text": [
      "917 16705\n",
      "918 16706\n",
      "919 16707\n"
     ]
    },
    {
     "name": "stderr",
     "output_type": "stream",
     "text": [
      "/home/mimus/anaconda3/envs/tf2/lib/python3.6/site-packages/ipykernel_launcher.py:51: UserWarning: /home/mimus/apiais/data/images/ANPR/training/masks_plate_loc/masks_72_4_augmented_image_16706.jpg is a low contrast image\n",
      "/home/mimus/anaconda3/envs/tf2/lib/python3.6/site-packages/ipykernel_launcher.py:51: UserWarning: /home/mimus/apiais/data/images/ANPR/training/masks_plate_loc/masks_79_28_augmented_image_9430_augmented_image_16707.jpg is a low contrast image\n"
     ]
    },
    {
     "name": "stdout",
     "output_type": "stream",
     "text": [
      "920 16708\n",
      "921 16709\n"
     ]
    },
    {
     "name": "stderr",
     "output_type": "stream",
     "text": [
      "/home/mimus/anaconda3/envs/tf2/lib/python3.6/site-packages/ipykernel_launcher.py:51: UserWarning: /home/mimus/apiais/data/images/ANPR/training/masks_plate_loc/masks_296_0_augmented_image_14683_augmented_image_16708.jpg is a low contrast image\n"
     ]
    },
    {
     "name": "stdout",
     "output_type": "stream",
     "text": [
      "922 16710\n",
      "923 16711\n",
      "924 16712\n",
      "925 16713\n"
     ]
    },
    {
     "name": "stderr",
     "output_type": "stream",
     "text": [
      "/home/mimus/anaconda3/envs/tf2/lib/python3.6/site-packages/ipykernel_launcher.py:51: UserWarning: /home/mimus/apiais/data/images/ANPR/training/masks_plate_loc/masks_513_18_augmented_image_12460_augmented_image_16712.jpg is a low contrast image\n"
     ]
    },
    {
     "name": "stdout",
     "output_type": "stream",
     "text": [
      "926 16714\n",
      "927 16715\n"
     ]
    },
    {
     "name": "stderr",
     "output_type": "stream",
     "text": [
      "/home/mimus/anaconda3/envs/tf2/lib/python3.6/site-packages/ipykernel_launcher.py:51: UserWarning: /home/mimus/apiais/data/images/ANPR/training/masks_plate_loc/masks_501_32_augmented_image_16714.jpg is a low contrast image\n"
     ]
    },
    {
     "name": "stdout",
     "output_type": "stream",
     "text": [
      "928 16716\n",
      "929 16717\n",
      "930 16718\n"
     ]
    },
    {
     "name": "stderr",
     "output_type": "stream",
     "text": [
      "/home/mimus/anaconda3/envs/tf2/lib/python3.6/site-packages/ipykernel_launcher.py:51: UserWarning: /home/mimus/apiais/data/images/ANPR/training/masks_plate_loc/masks_624_32_augmented_image_16716.jpg is a low contrast image\n"
     ]
    },
    {
     "name": "stdout",
     "output_type": "stream",
     "text": [
      "931 16719\n",
      "932 16720\n",
      "933 16721\n",
      "934 16722\n",
      "935 16723\n",
      "936 16724\n",
      "937 16725\n"
     ]
    },
    {
     "name": "stderr",
     "output_type": "stream",
     "text": [
      "/home/mimus/anaconda3/envs/tf2/lib/python3.6/site-packages/ipykernel_launcher.py:51: UserWarning: /home/mimus/apiais/data/images/ANPR/training/masks_plate_loc/masks_8_10_augmented_image_11163_augmented_image_16724.jpg is a low contrast image\n",
      "/home/mimus/anaconda3/envs/tf2/lib/python3.6/site-packages/ipykernel_launcher.py:51: UserWarning: /home/mimus/apiais/data/images/ANPR/training/masks_plate_loc/masks_290_34_augmented_image_16725.jpg is a low contrast image\n"
     ]
    },
    {
     "name": "stdout",
     "output_type": "stream",
     "text": [
      "938 16726\n",
      "939 16727\n"
     ]
    },
    {
     "name": "stderr",
     "output_type": "stream",
     "text": [
      "/home/mimus/anaconda3/envs/tf2/lib/python3.6/site-packages/ipykernel_launcher.py:51: UserWarning: /home/mimus/apiais/data/images/ANPR/training/masks_plate_loc/masks_296_39_augmented_image_8811_augmented_image_16727.jpg is a low contrast image\n",
      "/home/mimus/anaconda3/envs/tf2/lib/python3.6/site-packages/ipykernel_launcher.py:51: UserWarning: /home/mimus/apiais/data/images/ANPR/training/masks_plate_loc/masks_164_30_1_augmented_image_14799_augmented_image_16728.jpg is a low contrast image\n"
     ]
    },
    {
     "name": "stdout",
     "output_type": "stream",
     "text": [
      "940 16728\n",
      "941 16729\n",
      "942 16730\n",
      "943 16731\n"
     ]
    },
    {
     "name": "stderr",
     "output_type": "stream",
     "text": [
      "/home/mimus/anaconda3/envs/tf2/lib/python3.6/site-packages/ipykernel_launcher.py:51: UserWarning: /home/mimus/apiais/data/images/ANPR/training/masks_plate_loc/masks_567_32_augmented_image_16730.jpg is a low contrast image\n",
      "/home/mimus/anaconda3/envs/tf2/lib/python3.6/site-packages/ipykernel_launcher.py:51: UserWarning: /home/mimus/apiais/data/images/ANPR/training/masks_plate_loc/masks_29_8_augmented_image_13414_augmented_image_16731.jpg is a low contrast image\n"
     ]
    },
    {
     "name": "stdout",
     "output_type": "stream",
     "text": [
      "944 16732\n",
      "945 16733\n"
     ]
    },
    {
     "name": "stderr",
     "output_type": "stream",
     "text": [
      "/home/mimus/anaconda3/envs/tf2/lib/python3.6/site-packages/ipykernel_launcher.py:51: UserWarning: /home/mimus/apiais/data/images/ANPR/training/masks_plate_loc/masks_100_39_augmented_image_10233_augmented_image_16732.jpg is a low contrast image\n",
      "/home/mimus/anaconda3/envs/tf2/lib/python3.6/site-packages/ipykernel_launcher.py:51: UserWarning: /home/mimus/apiais/data/images/ANPR/training/masks_plate_loc/masks_92_4_augmented_image_13741_augmented_image_16733.jpg is a low contrast image\n",
      "/home/mimus/anaconda3/envs/tf2/lib/python3.6/site-packages/ipykernel_launcher.py:51: UserWarning: /home/mimus/apiais/data/images/ANPR/training/masks_plate_loc/masks_28_5_augmented_image_16734.jpg is a low contrast image\n"
     ]
    },
    {
     "name": "stdout",
     "output_type": "stream",
     "text": [
      "946 16734\n",
      "947 16735\n",
      "948 16736\n",
      "949 16737\n"
     ]
    },
    {
     "name": "stderr",
     "output_type": "stream",
     "text": [
      "/home/mimus/anaconda3/envs/tf2/lib/python3.6/site-packages/ipykernel_launcher.py:51: UserWarning: /home/mimus/apiais/data/images/ANPR/training/masks_plate_loc/masks_149_27_augmented_image_16736.jpg is a low contrast image\n"
     ]
    },
    {
     "name": "stdout",
     "output_type": "stream",
     "text": [
      "950 16738\n",
      "951 16739\n"
     ]
    },
    {
     "name": "stderr",
     "output_type": "stream",
     "text": [
      "/home/mimus/anaconda3/envs/tf2/lib/python3.6/site-packages/ipykernel_launcher.py:51: UserWarning: /home/mimus/apiais/data/images/ANPR/training/masks_plate_loc/masks_78_43_augmented_image_9539_augmented_image_16739.jpg is a low contrast image\n",
      "/home/mimus/anaconda3/envs/tf2/lib/python3.6/site-packages/ipykernel_launcher.py:51: UserWarning: /home/mimus/apiais/data/images/ANPR/training/masks_plate_loc/masks_22_13_augmented_image_8149_augmented_image_16740.jpg is a low contrast image\n"
     ]
    },
    {
     "name": "stdout",
     "output_type": "stream",
     "text": [
      "952 16740\n",
      "953 16741\n",
      "954 16742\n",
      "955 16743\n"
     ]
    },
    {
     "name": "stderr",
     "output_type": "stream",
     "text": [
      "/home/mimus/anaconda3/envs/tf2/lib/python3.6/site-packages/ipykernel_launcher.py:51: UserWarning: /home/mimus/apiais/data/images/ANPR/training/masks_plate_loc/masks_23_11_augmented_image_16742.jpg is a low contrast image\n"
     ]
    },
    {
     "name": "stdout",
     "output_type": "stream",
     "text": [
      "956 16744\n",
      "957 16745\n",
      "958 16746\n",
      "959 16747\n",
      "960 16748\n"
     ]
    },
    {
     "name": "stderr",
     "output_type": "stream",
     "text": [
      "/home/mimus/anaconda3/envs/tf2/lib/python3.6/site-packages/ipykernel_launcher.py:51: UserWarning: /home/mimus/apiais/data/images/ANPR/training/masks_plate_loc/masks_334_39_augmented_image_16746.jpg is a low contrast image\n",
      "/home/mimus/anaconda3/envs/tf2/lib/python3.6/site-packages/ipykernel_launcher.py:51: UserWarning: /home/mimus/apiais/data/images/ANPR/training/masks_plate_loc/masks_19_33_augmented_image_16747.jpg is a low contrast image\n"
     ]
    },
    {
     "name": "stdout",
     "output_type": "stream",
     "text": [
      "961 16749\n",
      "962 16750\n",
      "963 16751\n"
     ]
    },
    {
     "name": "stderr",
     "output_type": "stream",
     "text": [
      "/home/mimus/anaconda3/envs/tf2/lib/python3.6/site-packages/ipykernel_launcher.py:51: UserWarning: /home/mimus/apiais/data/images/ANPR/training/masks_plate_loc/masks_123_43_augmented_image_16750.jpg is a low contrast image\n",
      "/home/mimus/anaconda3/envs/tf2/lib/python3.6/site-packages/ipykernel_launcher.py:51: UserWarning: /home/mimus/apiais/data/images/ANPR/training/masks_plate_loc/masks_4_16_augmented_image_16751.jpg is a low contrast image\n"
     ]
    },
    {
     "name": "stdout",
     "output_type": "stream",
     "text": [
      "964 16752\n",
      "965 16753\n"
     ]
    },
    {
     "name": "stderr",
     "output_type": "stream",
     "text": [
      "/home/mimus/anaconda3/envs/tf2/lib/python3.6/site-packages/ipykernel_launcher.py:51: UserWarning: /home/mimus/apiais/data/images/ANPR/training/masks_plate_loc/masks_697_32_augmented_image_16753.jpg is a low contrast image\n"
     ]
    },
    {
     "name": "stdout",
     "output_type": "stream",
     "text": [
      "966 16754\n",
      "967 16755\n",
      "968 16756\n",
      "969 16757\n"
     ]
    },
    {
     "name": "stderr",
     "output_type": "stream",
     "text": [
      "/home/mimus/anaconda3/envs/tf2/lib/python3.6/site-packages/ipykernel_launcher.py:51: UserWarning: /home/mimus/apiais/data/images/ANPR/training/masks_plate_loc/masks_33_33_augmented_image_10204_augmented_image_16757.jpg is a low contrast image\n",
      "/home/mimus/anaconda3/envs/tf2/lib/python3.6/site-packages/ipykernel_launcher.py:51: UserWarning: /home/mimus/apiais/data/images/ANPR/training/masks_plate_loc/masks_294_39_augmented_image_16758.jpg is a low contrast image\n",
      "/home/mimus/anaconda3/envs/tf2/lib/python3.6/site-packages/ipykernel_launcher.py:51: UserWarning: /home/mimus/apiais/data/images/ANPR/training/masks_plate_loc/masks_7_6_augmented_image_8501_augmented_image_16759.jpg is a low contrast image\n"
     ]
    },
    {
     "name": "stdout",
     "output_type": "stream",
     "text": [
      "970 16758\n",
      "971 16759\n",
      "972 16760\n",
      "973 16761\n",
      "974 16762\n",
      "975 16763\n",
      "976 16764\n"
     ]
    },
    {
     "name": "stderr",
     "output_type": "stream",
     "text": [
      "/home/mimus/anaconda3/envs/tf2/lib/python3.6/site-packages/ipykernel_launcher.py:51: UserWarning: /home/mimus/apiais/data/images/ANPR/training/masks_plate_loc/masks_592_34_augmented_image_15317_augmented_image_16764.jpg is a low contrast image\n",
      "/home/mimus/anaconda3/envs/tf2/lib/python3.6/site-packages/ipykernel_launcher.py:51: UserWarning: /home/mimus/apiais/data/images/ANPR/training/masks_plate_loc/masks_155_43_augmented_image_16765.jpg is a low contrast image\n"
     ]
    },
    {
     "name": "stdout",
     "output_type": "stream",
     "text": [
      "977 16765\n",
      "978 16766\n",
      "979 16767\n",
      "980 16768\n",
      "981 16769\n",
      "982 16770\n",
      "983 16771\n"
     ]
    },
    {
     "name": "stderr",
     "output_type": "stream",
     "text": [
      "/home/mimus/anaconda3/envs/tf2/lib/python3.6/site-packages/ipykernel_launcher.py:51: UserWarning: /home/mimus/apiais/data/images/ANPR/training/masks_plate_loc/masks_516_32_augmented_image_16770.jpg is a low contrast image\n"
     ]
    },
    {
     "name": "stdout",
     "output_type": "stream",
     "text": [
      "984 16772\n",
      "985 16773\n",
      "986 16774\n",
      "987 16775\n"
     ]
    },
    {
     "name": "stderr",
     "output_type": "stream",
     "text": [
      "/home/mimus/anaconda3/envs/tf2/lib/python3.6/site-packages/ipykernel_launcher.py:51: UserWarning: /home/mimus/apiais/data/images/ANPR/training/masks_plate_loc/masks_26_41_augmented_image_16774.jpg is a low contrast image\n"
     ]
    },
    {
     "name": "stdout",
     "output_type": "stream",
     "text": [
      "988 16776\n",
      "989 16777\n",
      "990 16778\n"
     ]
    },
    {
     "name": "stderr",
     "output_type": "stream",
     "text": [
      "/home/mimus/anaconda3/envs/tf2/lib/python3.6/site-packages/ipykernel_launcher.py:51: UserWarning: /home/mimus/apiais/data/images/ANPR/training/masks_plate_loc/masks_123_32_augmented_image_16777.jpg is a low contrast image\n",
      "/home/mimus/anaconda3/envs/tf2/lib/python3.6/site-packages/ipykernel_launcher.py:51: UserWarning: /home/mimus/apiais/data/images/ANPR/training/masks_plate_loc/masks_467_18_augmented_image_16778.jpg is a low contrast image\n"
     ]
    },
    {
     "name": "stdout",
     "output_type": "stream",
     "text": [
      "991 16779\n",
      "992 16780\n"
     ]
    },
    {
     "name": "stderr",
     "output_type": "stream",
     "text": [
      "/home/mimus/anaconda3/envs/tf2/lib/python3.6/site-packages/ipykernel_launcher.py:51: UserWarning: /home/mimus/apiais/data/images/ANPR/training/masks_plate_loc/masks_335_0_augmented_image_16779.jpg is a low contrast image\n",
      "/home/mimus/anaconda3/envs/tf2/lib/python3.6/site-packages/ipykernel_launcher.py:51: UserWarning: /home/mimus/apiais/data/images/ANPR/training/masks_plate_loc/masks_106_30_1_augmented_image_16780.jpg is a low contrast image\n"
     ]
    },
    {
     "name": "stdout",
     "output_type": "stream",
     "text": [
      "993 16781\n",
      "994 16782\n",
      "995 16783\n"
     ]
    },
    {
     "name": "stderr",
     "output_type": "stream",
     "text": [
      "/home/mimus/anaconda3/envs/tf2/lib/python3.6/site-packages/ipykernel_launcher.py:51: UserWarning: /home/mimus/apiais/data/images/ANPR/training/masks_plate_loc/masks_36_38_augmented_image_16781.jpg is a low contrast image\n"
     ]
    },
    {
     "name": "stdout",
     "output_type": "stream",
     "text": [
      "996 16784\n",
      "997 16785\n",
      "998 16786\n"
     ]
    },
    {
     "name": "stderr",
     "output_type": "stream",
     "text": [
      "/home/mimus/anaconda3/envs/tf2/lib/python3.6/site-packages/ipykernel_launcher.py:51: UserWarning: /home/mimus/apiais/data/images/ANPR/training/masks_plate_loc/masks_464_0_augmented_image_8617_augmented_image_16785.jpg is a low contrast image\n"
     ]
    },
    {
     "name": "stdout",
     "output_type": "stream",
     "text": [
      "999 16787\n",
      "1000 16788\n",
      "1001 16789\n",
      "1002 16790\n",
      "1003 16791\n"
     ]
    },
    {
     "name": "stderr",
     "output_type": "stream",
     "text": [
      "/home/mimus/anaconda3/envs/tf2/lib/python3.6/site-packages/ipykernel_launcher.py:51: UserWarning: /home/mimus/apiais/data/images/ANPR/training/masks_plate_loc/masks_23_augmented_image_16790.jpg is a low contrast image\n",
      "/home/mimus/anaconda3/envs/tf2/lib/python3.6/site-packages/ipykernel_launcher.py:51: UserWarning: /home/mimus/apiais/data/images/ANPR/training/masks_plate_loc/masks_111_18_augmented_image_16791.jpg is a low contrast image\n"
     ]
    },
    {
     "name": "stdout",
     "output_type": "stream",
     "text": [
      "1004 16792\n",
      "1005 16793\n"
     ]
    },
    {
     "name": "stderr",
     "output_type": "stream",
     "text": [
      "/home/mimus/anaconda3/envs/tf2/lib/python3.6/site-packages/ipykernel_launcher.py:51: UserWarning: /home/mimus/apiais/data/images/ANPR/training/masks_plate_loc/masks_91_32_augmented_image_11819_augmented_image_16792.jpg is a low contrast image\n"
     ]
    },
    {
     "name": "stdout",
     "output_type": "stream",
     "text": [
      "1006 16794\n",
      "1007 16795\n",
      "1008 16796\n",
      "1009 16797\n",
      "1010 16798\n",
      "1011 16799\n",
      "1012 16800\n",
      "1013 16801\n",
      "1014 16802\n",
      "1015 16803\n",
      "1016 16804\n"
     ]
    },
    {
     "name": "stderr",
     "output_type": "stream",
     "text": [
      "/home/mimus/anaconda3/envs/tf2/lib/python3.6/site-packages/ipykernel_launcher.py:51: UserWarning: /home/mimus/apiais/data/images/ANPR/training/masks_plate_loc/masks_10_26_augmented_image_16803.jpg is a low contrast image\n"
     ]
    },
    {
     "name": "stdout",
     "output_type": "stream",
     "text": [
      "1017 16805\n",
      "1018 16806\n"
     ]
    },
    {
     "name": "stderr",
     "output_type": "stream",
     "text": [
      "/home/mimus/anaconda3/envs/tf2/lib/python3.6/site-packages/ipykernel_launcher.py:51: UserWarning: /home/mimus/apiais/data/images/ANPR/training/masks_plate_loc/masks_108_42_augmented_image_16806.jpg is a low contrast image\n"
     ]
    },
    {
     "name": "stdout",
     "output_type": "stream",
     "text": [
      "1019 16807\n",
      "1020 16808\n"
     ]
    },
    {
     "name": "stderr",
     "output_type": "stream",
     "text": [
      "/home/mimus/anaconda3/envs/tf2/lib/python3.6/site-packages/ipykernel_launcher.py:51: UserWarning: /home/mimus/apiais/data/images/ANPR/training/masks_plate_loc/masks_337_32_augmented_image_16808.jpg is a low contrast image\n"
     ]
    },
    {
     "name": "stdout",
     "output_type": "stream",
     "text": [
      "1021 16809\n",
      "1022 16810\n",
      "1023 16811\n",
      "1024 16812\n"
     ]
    },
    {
     "name": "stderr",
     "output_type": "stream",
     "text": [
      "/home/mimus/anaconda3/envs/tf2/lib/python3.6/site-packages/ipykernel_launcher.py:51: UserWarning: /home/mimus/apiais/data/images/ANPR/training/masks_plate_loc/masks_3_7_augmented_image_16811.jpg is a low contrast image\n"
     ]
    },
    {
     "name": "stdout",
     "output_type": "stream",
     "text": [
      "1025 16813\n",
      "1026 16814\n",
      "1027 16815\n"
     ]
    },
    {
     "name": "stderr",
     "output_type": "stream",
     "text": [
      "/home/mimus/anaconda3/envs/tf2/lib/python3.6/site-packages/ipykernel_launcher.py:51: UserWarning: /home/mimus/apiais/data/images/ANPR/training/masks_plate_loc/masks_1_21_augmented_image_16813.jpg is a low contrast image\n",
      "/home/mimus/anaconda3/envs/tf2/lib/python3.6/site-packages/ipykernel_launcher.py:51: UserWarning: /home/mimus/apiais/data/images/ANPR/training/masks_plate_loc/masks_49_4_augmented_image_16815.jpg is a low contrast image\n",
      "/home/mimus/anaconda3/envs/tf2/lib/python3.6/site-packages/ipykernel_launcher.py:51: UserWarning: /home/mimus/apiais/data/images/ANPR/training/masks_plate_loc/masks_23_26_augmented_image_14686_augmented_image_16817.jpg is a low contrast image\n"
     ]
    },
    {
     "name": "stdout",
     "output_type": "stream",
     "text": [
      "1028 16816\n",
      "1029 16817\n",
      "1030 16818\n"
     ]
    },
    {
     "name": "stderr",
     "output_type": "stream",
     "text": [
      "/home/mimus/anaconda3/envs/tf2/lib/python3.6/site-packages/ipykernel_launcher.py:51: UserWarning: /home/mimus/apiais/data/images/ANPR/training/masks_plate_loc/masks_88_20_augmented_image_12290_augmented_image_16818.jpg is a low contrast image\n",
      "/home/mimus/anaconda3/envs/tf2/lib/python3.6/site-packages/ipykernel_launcher.py:51: UserWarning: /home/mimus/apiais/data/images/ANPR/training/masks_plate_loc/masks_58_30_1_augmented_image_16819.jpg is a low contrast image\n"
     ]
    },
    {
     "name": "stdout",
     "output_type": "stream",
     "text": [
      "1031 16819\n",
      "1032 16820\n"
     ]
    },
    {
     "name": "stderr",
     "output_type": "stream",
     "text": [
      "/home/mimus/anaconda3/envs/tf2/lib/python3.6/site-packages/ipykernel_launcher.py:51: UserWarning: /home/mimus/apiais/data/images/ANPR/training/masks_plate_loc/masks_31_8_augmented_image_16820.jpg is a low contrast image\n",
      "/home/mimus/anaconda3/envs/tf2/lib/python3.6/site-packages/ipykernel_launcher.py:51: UserWarning: /home/mimus/apiais/data/images/ANPR/training/masks_plate_loc/masks_88_18_augmented_image_9488_augmented_image_16821.jpg is a low contrast image\n"
     ]
    },
    {
     "name": "stdout",
     "output_type": "stream",
     "text": [
      "1033 16821\n",
      "1034 16822\n",
      "1035 16823\n",
      "1036 16824\n"
     ]
    },
    {
     "name": "stderr",
     "output_type": "stream",
     "text": [
      "/home/mimus/anaconda3/envs/tf2/lib/python3.6/site-packages/ipykernel_launcher.py:51: UserWarning: /home/mimus/apiais/data/images/ANPR/training/masks_plate_loc/masks_34_23_augmented_image_16824.jpg is a low contrast image\n"
     ]
    },
    {
     "name": "stdout",
     "output_type": "stream",
     "text": [
      "1037 16825\n",
      "1038 16826\n"
     ]
    },
    {
     "name": "stderr",
     "output_type": "stream",
     "text": [
      "/home/mimus/anaconda3/envs/tf2/lib/python3.6/site-packages/ipykernel_launcher.py:51: UserWarning: /home/mimus/apiais/data/images/ANPR/training/masks_plate_loc/masks_31_7_augmented_image_12307_augmented_image_16826.jpg is a low contrast image\n"
     ]
    },
    {
     "name": "stdout",
     "output_type": "stream",
     "text": [
      "1039 16827\n",
      "1040 16828\n",
      "1041 16829\n",
      "1042 16830\n",
      "1043 16831\n",
      "1044 16832\n",
      "1045 16833\n",
      "1046 16834\n"
     ]
    },
    {
     "name": "stderr",
     "output_type": "stream",
     "text": [
      "/home/mimus/anaconda3/envs/tf2/lib/python3.6/site-packages/ipykernel_launcher.py:51: UserWarning: /home/mimus/apiais/data/images/ANPR/training/masks_plate_loc/masks_207_33_augmented_image_16834.jpg is a low contrast image\n"
     ]
    },
    {
     "name": "stdout",
     "output_type": "stream",
     "text": [
      "1047 16835\n",
      "1048 16836\n",
      "1049 16837\n",
      "1050 16838\n",
      "1051 16839\n",
      "1052 16840\n",
      "1053 16841\n",
      "1054 16842\n"
     ]
    },
    {
     "name": "stderr",
     "output_type": "stream",
     "text": [
      "/home/mimus/anaconda3/envs/tf2/lib/python3.6/site-packages/ipykernel_launcher.py:51: UserWarning: /home/mimus/apiais/data/images/ANPR/training/masks_plate_loc/masks_79_28_augmented_image_16842.jpg is a low contrast image\n"
     ]
    },
    {
     "name": "stdout",
     "output_type": "stream",
     "text": [
      "1055 16843\n",
      "1056 16844\n",
      "1057 16845\n",
      "1058 16846\n",
      "1059 16847\n"
     ]
    },
    {
     "name": "stderr",
     "output_type": "stream",
     "text": [
      "/home/mimus/anaconda3/envs/tf2/lib/python3.6/site-packages/ipykernel_launcher.py:51: UserWarning: /home/mimus/apiais/data/images/ANPR/training/masks_plate_loc/masks_410_39_augmented_image_16847.jpg is a low contrast image\n"
     ]
    },
    {
     "name": "stdout",
     "output_type": "stream",
     "text": [
      "1060 16848\n",
      "1061 16849\n"
     ]
    },
    {
     "name": "stderr",
     "output_type": "stream",
     "text": [
      "/home/mimus/anaconda3/envs/tf2/lib/python3.6/site-packages/ipykernel_launcher.py:51: UserWarning: /home/mimus/apiais/data/images/ANPR/training/masks_plate_loc/masks_31_28_augmented_image_16849.jpg is a low contrast image\n",
      "/home/mimus/anaconda3/envs/tf2/lib/python3.6/site-packages/ipykernel_launcher.py:51: UserWarning: /home/mimus/apiais/data/images/ANPR/training/masks_plate_loc/masks_232_33_augmented_image_16850.jpg is a low contrast image\n"
     ]
    },
    {
     "name": "stdout",
     "output_type": "stream",
     "text": [
      "1062 16850\n",
      "1063 16851\n"
     ]
    },
    {
     "name": "stderr",
     "output_type": "stream",
     "text": [
      "/home/mimus/anaconda3/envs/tf2/lib/python3.6/site-packages/ipykernel_launcher.py:51: UserWarning: /home/mimus/apiais/data/images/ANPR/training/masks_plate_loc/masks_100_42_augmented_image_16851.jpg is a low contrast image\n",
      "/home/mimus/anaconda3/envs/tf2/lib/python3.6/site-packages/ipykernel_launcher.py:51: UserWarning: /home/mimus/apiais/data/images/ANPR/training/masks_plate_loc/masks_15_37_augmented_image_12310_augmented_image_16852.jpg is a low contrast image\n"
     ]
    },
    {
     "name": "stdout",
     "output_type": "stream",
     "text": [
      "1064 16852\n",
      "1065 16853\n",
      "1066 16854\n",
      "1067 16855\n",
      "1068 16856\n"
     ]
    },
    {
     "name": "stderr",
     "output_type": "stream",
     "text": [
      "/home/mimus/anaconda3/envs/tf2/lib/python3.6/site-packages/ipykernel_launcher.py:51: UserWarning: /home/mimus/apiais/data/images/ANPR/training/masks_plate_loc/masks_57_29_augmented_image_16854.jpg is a low contrast image\n",
      "/home/mimus/anaconda3/envs/tf2/lib/python3.6/site-packages/ipykernel_launcher.py:51: UserWarning: /home/mimus/apiais/data/images/ANPR/training/masks_plate_loc/masks_148_27_augmented_image_16856.jpg is a low contrast image\n"
     ]
    },
    {
     "name": "stdout",
     "output_type": "stream",
     "text": [
      "1069 16857\n",
      "1070 16858\n",
      "1071 16859\n",
      "1072 16860\n"
     ]
    },
    {
     "name": "stderr",
     "output_type": "stream",
     "text": [
      "/home/mimus/anaconda3/envs/tf2/lib/python3.6/site-packages/ipykernel_launcher.py:51: UserWarning: /home/mimus/apiais/data/images/ANPR/training/masks_plate_loc/masks_27_0_augmented_image_16859.jpg is a low contrast image\n"
     ]
    },
    {
     "name": "stdout",
     "output_type": "stream",
     "text": [
      "1073 16861\n",
      "1074 16862\n"
     ]
    },
    {
     "name": "stderr",
     "output_type": "stream",
     "text": [
      "/home/mimus/anaconda3/envs/tf2/lib/python3.6/site-packages/ipykernel_launcher.py:51: UserWarning: /home/mimus/apiais/data/images/ANPR/training/masks_plate_loc/masks_42_28_augmented_image_16862.jpg is a low contrast image\n"
     ]
    },
    {
     "name": "stdout",
     "output_type": "stream",
     "text": [
      "1075 16863\n",
      "1076 16864\n"
     ]
    },
    {
     "name": "stderr",
     "output_type": "stream",
     "text": [
      "/home/mimus/anaconda3/envs/tf2/lib/python3.6/site-packages/ipykernel_launcher.py:51: UserWarning: /home/mimus/apiais/data/images/ANPR/training/masks_plate_loc/masks_20_35_augmented_image_16864.jpg is a low contrast image\n",
      "/home/mimus/anaconda3/envs/tf2/lib/python3.6/site-packages/ipykernel_launcher.py:51: UserWarning: /home/mimus/apiais/data/images/ANPR/training/masks_plate_loc/masks_122_20_augmented_image_16865.jpg is a low contrast image\n"
     ]
    },
    {
     "name": "stdout",
     "output_type": "stream",
     "text": [
      "1077 16865\n",
      "1078 16866\n"
     ]
    },
    {
     "name": "stderr",
     "output_type": "stream",
     "text": [
      "/home/mimus/anaconda3/envs/tf2/lib/python3.6/site-packages/ipykernel_launcher.py:51: UserWarning: /home/mimus/apiais/data/images/ANPR/training/masks_plate_loc/masks_12_augmented_image_16866.jpg is a low contrast image\n"
     ]
    },
    {
     "name": "stdout",
     "output_type": "stream",
     "text": [
      "1079 16867\n",
      "1080 16868\n",
      "1081 16869\n"
     ]
    },
    {
     "name": "stderr",
     "output_type": "stream",
     "text": [
      "/home/mimus/anaconda3/envs/tf2/lib/python3.6/site-packages/ipykernel_launcher.py:51: UserWarning: /home/mimus/apiais/data/images/ANPR/training/masks_plate_loc/masks_79_33_augmented_image_16869.jpg is a low contrast image\n"
     ]
    },
    {
     "name": "stdout",
     "output_type": "stream",
     "text": [
      "1082 16870\n",
      "1083 16871\n",
      "1084 16872\n",
      "1085 16873\n",
      "1086 16874\n"
     ]
    },
    {
     "name": "stderr",
     "output_type": "stream",
     "text": [
      "/home/mimus/anaconda3/envs/tf2/lib/python3.6/site-packages/ipykernel_launcher.py:51: UserWarning: /home/mimus/apiais/data/images/ANPR/training/masks_plate_loc/masks_820_32_augmented_image_16872.jpg is a low contrast image\n",
      "/home/mimus/anaconda3/envs/tf2/lib/python3.6/site-packages/ipykernel_launcher.py:51: UserWarning: /home/mimus/apiais/data/images/ANPR/training/masks_plate_loc/masks_236_32_augmented_image_16874.jpg is a low contrast image\n"
     ]
    },
    {
     "name": "stdout",
     "output_type": "stream",
     "text": [
      "1087 16875\n",
      "1088 16876\n"
     ]
    },
    {
     "name": "stderr",
     "output_type": "stream",
     "text": [
      "/home/mimus/anaconda3/envs/tf2/lib/python3.6/site-packages/ipykernel_launcher.py:51: UserWarning: /home/mimus/apiais/data/images/ANPR/training/masks_plate_loc/masks_307_28_augmented_image_16876.jpg is a low contrast image\n",
      "/home/mimus/anaconda3/envs/tf2/lib/python3.6/site-packages/ipykernel_launcher.py:51: UserWarning: /home/mimus/apiais/data/images/ANPR/training/masks_plate_loc/masks_14_39_augmented_image_16877.jpg is a low contrast image\n"
     ]
    },
    {
     "name": "stdout",
     "output_type": "stream",
     "text": [
      "1089 16877\n",
      "1090 16878\n",
      "1091 16879\n",
      "1092 16880\n",
      "1093 16881\n",
      "1094 16882\n"
     ]
    },
    {
     "name": "stderr",
     "output_type": "stream",
     "text": [
      "/home/mimus/anaconda3/envs/tf2/lib/python3.6/site-packages/ipykernel_launcher.py:51: UserWarning: /home/mimus/apiais/data/images/ANPR/training/masks_plate_loc/masks_322_40_augmented_image_16881.jpg is a low contrast image\n"
     ]
    },
    {
     "name": "stdout",
     "output_type": "stream",
     "text": [
      "1095 16883\n",
      "1096 16884\n",
      "1097 16885\n",
      "1098 16886\n"
     ]
    },
    {
     "name": "stderr",
     "output_type": "stream",
     "text": [
      "/home/mimus/anaconda3/envs/tf2/lib/python3.6/site-packages/ipykernel_launcher.py:51: UserWarning: /home/mimus/apiais/data/images/ANPR/training/masks_plate_loc/masks_732_32_augmented_image_15546_augmented_image_16885.jpg is a low contrast image\n",
      "/home/mimus/anaconda3/envs/tf2/lib/python3.6/site-packages/ipykernel_launcher.py:51: UserWarning: /home/mimus/apiais/data/images/ANPR/training/masks_plate_loc/masks_218_0_augmented_image_16886.jpg is a low contrast image\n"
     ]
    },
    {
     "name": "stdout",
     "output_type": "stream",
     "text": [
      "1099 16887\n",
      "1100 16888\n",
      "1101 16889\n",
      "1102 16890\n"
     ]
    },
    {
     "name": "stderr",
     "output_type": "stream",
     "text": [
      "/home/mimus/anaconda3/envs/tf2/lib/python3.6/site-packages/ipykernel_launcher.py:51: UserWarning: /home/mimus/apiais/data/images/ANPR/training/masks_plate_loc/masks_27_32_augmented_image_16889.jpg is a low contrast image\n"
     ]
    },
    {
     "name": "stdout",
     "output_type": "stream",
     "text": [
      "1103 16891\n",
      "1104 16892\n"
     ]
    },
    {
     "name": "stderr",
     "output_type": "stream",
     "text": [
      "/home/mimus/anaconda3/envs/tf2/lib/python3.6/site-packages/ipykernel_launcher.py:51: UserWarning: /home/mimus/apiais/data/images/ANPR/training/masks_plate_loc/masks_330_34_augmented_image_11020_augmented_image_16891.jpg is a low contrast image\n"
     ]
    },
    {
     "name": "stdout",
     "output_type": "stream",
     "text": [
      "1105 16893\n",
      "1106 16894\n",
      "1107 16895\n",
      "1108 16896\n"
     ]
    },
    {
     "name": "stderr",
     "output_type": "stream",
     "text": [
      "/home/mimus/anaconda3/envs/tf2/lib/python3.6/site-packages/ipykernel_launcher.py:51: UserWarning: /home/mimus/apiais/data/images/ANPR/training/masks_plate_loc/masks_463_32_augmented_image_16895.jpg is a low contrast image\n",
      "/home/mimus/anaconda3/envs/tf2/lib/python3.6/site-packages/ipykernel_launcher.py:51: UserWarning: /home/mimus/apiais/data/images/ANPR/training/masks_plate_loc/masks_141_43_augmented_image_16896.jpg is a low contrast image\n",
      "/home/mimus/anaconda3/envs/tf2/lib/python3.6/site-packages/ipykernel_launcher.py:51: UserWarning: /home/mimus/apiais/data/images/ANPR/training/masks_plate_loc/masks_11_29_augmented_image_16897.jpg is a low contrast image\n"
     ]
    },
    {
     "name": "stdout",
     "output_type": "stream",
     "text": [
      "1109 16897\n",
      "1110 16898\n"
     ]
    },
    {
     "name": "stderr",
     "output_type": "stream",
     "text": [
      "/home/mimus/anaconda3/envs/tf2/lib/python3.6/site-packages/ipykernel_launcher.py:51: UserWarning: /home/mimus/apiais/data/images/ANPR/training/masks_plate_loc/masks_38_21_augmented_image_12174_augmented_image_16898.jpg is a low contrast image\n"
     ]
    },
    {
     "name": "stdout",
     "output_type": "stream",
     "text": [
      "1111 16899\n",
      "1112 16900\n",
      "1113 16901\n",
      "1114 16902\n",
      "1115 16903\n",
      "1116 16904\n",
      "1117 16905\n"
     ]
    },
    {
     "name": "stderr",
     "output_type": "stream",
     "text": [
      "/home/mimus/anaconda3/envs/tf2/lib/python3.6/site-packages/ipykernel_launcher.py:51: UserWarning: /home/mimus/apiais/data/images/ANPR/training/masks_plate_loc/masks_241_24_augmented_image_16904.jpg is a low contrast image\n"
     ]
    },
    {
     "name": "stdout",
     "output_type": "stream",
     "text": [
      "1118 16906\n",
      "1119 16907\n",
      "1120 16908\n",
      "1121 16909\n"
     ]
    },
    {
     "name": "stderr",
     "output_type": "stream",
     "text": [
      "/home/mimus/anaconda3/envs/tf2/lib/python3.6/site-packages/ipykernel_launcher.py:51: UserWarning: /home/mimus/apiais/data/images/ANPR/training/masks_plate_loc/masks_275_20_augmented_image_16908.jpg is a low contrast image\n",
      "/home/mimus/anaconda3/envs/tf2/lib/python3.6/site-packages/ipykernel_launcher.py:51: UserWarning: /home/mimus/apiais/data/images/ANPR/training/masks_plate_loc/masks_299_28_augmented_image_16909.jpg is a low contrast image\n"
     ]
    },
    {
     "name": "stdout",
     "output_type": "stream",
     "text": [
      "1122 16910\n",
      "1123 16911\n",
      "1124 16912\n",
      "1125 16913\n"
     ]
    },
    {
     "name": "stderr",
     "output_type": "stream",
     "text": [
      "/home/mimus/anaconda3/envs/tf2/lib/python3.6/site-packages/ipykernel_launcher.py:51: UserWarning: /home/mimus/apiais/data/images/ANPR/training/masks_plate_loc/masks_14_23_augmented_image_16913.jpg is a low contrast image\n",
      "/home/mimus/anaconda3/envs/tf2/lib/python3.6/site-packages/ipykernel_launcher.py:51: UserWarning: /home/mimus/apiais/data/images/ANPR/training/masks_plate_loc/masks_265_0_augmented_image_16914.jpg is a low contrast image\n"
     ]
    },
    {
     "name": "stdout",
     "output_type": "stream",
     "text": [
      "1126 16914\n",
      "1127 16915\n",
      "1128 16916\n",
      "1129 16917\n",
      "1130 16918\n",
      "1131 16919\n",
      "1132 16920\n"
     ]
    },
    {
     "name": "stderr",
     "output_type": "stream",
     "text": [
      "/home/mimus/anaconda3/envs/tf2/lib/python3.6/site-packages/ipykernel_launcher.py:51: UserWarning: /home/mimus/apiais/data/images/ANPR/training/masks_plate_loc/masks_353_0_augmented_image_16920.jpg is a low contrast image\n",
      "/home/mimus/anaconda3/envs/tf2/lib/python3.6/site-packages/ipykernel_launcher.py:51: UserWarning: /home/mimus/apiais/data/images/ANPR/training/masks_plate_loc/masks_202_24_augmented_image_14646_augmented_image_16921.jpg is a low contrast image\n"
     ]
    },
    {
     "name": "stdout",
     "output_type": "stream",
     "text": [
      "1133 16921\n",
      "1134 16922\n"
     ]
    },
    {
     "name": "stderr",
     "output_type": "stream",
     "text": [
      "/home/mimus/anaconda3/envs/tf2/lib/python3.6/site-packages/ipykernel_launcher.py:51: UserWarning: /home/mimus/apiais/data/images/ANPR/training/masks_plate_loc/masks_15_32_augmented_image_16922.jpg is a low contrast image\n",
      "/home/mimus/anaconda3/envs/tf2/lib/python3.6/site-packages/ipykernel_launcher.py:51: UserWarning: /home/mimus/apiais/data/images/ANPR/training/masks_plate_loc/masks_18_38_augmented_image_16923.jpg is a low contrast image\n"
     ]
    },
    {
     "name": "stdout",
     "output_type": "stream",
     "text": [
      "1135 16923\n",
      "1136 16924\n"
     ]
    },
    {
     "name": "stderr",
     "output_type": "stream",
     "text": [
      "/home/mimus/anaconda3/envs/tf2/lib/python3.6/site-packages/ipykernel_launcher.py:51: UserWarning: /home/mimus/apiais/data/images/ANPR/training/masks_plate_loc/masks_123_42_augmented_image_16924.jpg is a low contrast image\n",
      "/home/mimus/anaconda3/envs/tf2/lib/python3.6/site-packages/ipykernel_launcher.py:51: UserWarning: /home/mimus/apiais/data/images/ANPR/training/masks_plate_loc/masks_572_18_augmented_image_12326_augmented_image_16925.jpg is a low contrast image\n",
      "/home/mimus/anaconda3/envs/tf2/lib/python3.6/site-packages/ipykernel_launcher.py:51: UserWarning: /home/mimus/apiais/data/images/ANPR/training/masks_plate_loc/masks_152_33_augmented_image_8784_augmented_image_16926.jpg is a low contrast image\n"
     ]
    },
    {
     "name": "stdout",
     "output_type": "stream",
     "text": [
      "1137 16925\n",
      "1138 16926\n",
      "1139 16927\n"
     ]
    },
    {
     "name": "stderr",
     "output_type": "stream",
     "text": [
      "/home/mimus/anaconda3/envs/tf2/lib/python3.6/site-packages/ipykernel_launcher.py:51: UserWarning: /home/mimus/apiais/data/images/ANPR/training/masks_plate_loc/masks_59_23_augmented_image_16927.jpg is a low contrast image\n"
     ]
    },
    {
     "name": "stdout",
     "output_type": "stream",
     "text": [
      "1140 16928\n",
      "1141 16929\n"
     ]
    },
    {
     "name": "stderr",
     "output_type": "stream",
     "text": [
      "/home/mimus/anaconda3/envs/tf2/lib/python3.6/site-packages/ipykernel_launcher.py:51: UserWarning: /home/mimus/apiais/data/images/ANPR/training/masks_plate_loc/masks_318_34_augmented_image_16929.jpg is a low contrast image\n"
     ]
    },
    {
     "name": "stdout",
     "output_type": "stream",
     "text": [
      "1142 16930\n",
      "1143 16931\n"
     ]
    },
    {
     "name": "stderr",
     "output_type": "stream",
     "text": [
      "/home/mimus/anaconda3/envs/tf2/lib/python3.6/site-packages/ipykernel_launcher.py:51: UserWarning: /home/mimus/apiais/data/images/ANPR/training/masks_plate_loc/masks_232_24_augmented_image_16931.jpg is a low contrast image\n",
      "/home/mimus/anaconda3/envs/tf2/lib/python3.6/site-packages/ipykernel_launcher.py:51: UserWarning: /home/mimus/apiais/data/images/ANPR/training/masks_plate_loc/masks_235_28_augmented_image_16932.jpg is a low contrast image\n"
     ]
    },
    {
     "name": "stdout",
     "output_type": "stream",
     "text": [
      "1144 16932\n",
      "1145 16933\n"
     ]
    },
    {
     "name": "stderr",
     "output_type": "stream",
     "text": [
      "/home/mimus/anaconda3/envs/tf2/lib/python3.6/site-packages/ipykernel_launcher.py:51: UserWarning: /home/mimus/apiais/data/images/ANPR/training/masks_plate_loc/masks_455_18_augmented_image_16933.jpg is a low contrast image\n",
      "/home/mimus/anaconda3/envs/tf2/lib/python3.6/site-packages/ipykernel_launcher.py:51: UserWarning: /home/mimus/apiais/data/images/ANPR/training/masks_plate_loc/masks_306_28_augmented_image_16934.jpg is a low contrast image\n"
     ]
    },
    {
     "name": "stdout",
     "output_type": "stream",
     "text": [
      "1146 16934\n",
      "1147 16935\n"
     ]
    },
    {
     "name": "stderr",
     "output_type": "stream",
     "text": [
      "/home/mimus/anaconda3/envs/tf2/lib/python3.6/site-packages/ipykernel_launcher.py:51: UserWarning: /home/mimus/apiais/data/images/ANPR/training/masks_plate_loc/masks_53_34_augmented_image_11893_augmented_image_16935.jpg is a low contrast image\n"
     ]
    },
    {
     "name": "stdout",
     "output_type": "stream",
     "text": [
      "1148 16936\n",
      "1149 16937\n",
      "1150 16938\n",
      "1151 16939\n"
     ]
    },
    {
     "name": "stderr",
     "output_type": "stream",
     "text": [
      "/home/mimus/anaconda3/envs/tf2/lib/python3.6/site-packages/ipykernel_launcher.py:51: UserWarning: /home/mimus/apiais/data/images/ANPR/training/masks_plate_loc/masks_87_40_augmented_image_16938.jpg is a low contrast image\n"
     ]
    },
    {
     "name": "stdout",
     "output_type": "stream",
     "text": [
      "1152 16940\n",
      "1153 16941\n",
      "1154 16942\n",
      "1155 16943\n",
      "1156 16944\n"
     ]
    },
    {
     "name": "stderr",
     "output_type": "stream",
     "text": [
      "/home/mimus/anaconda3/envs/tf2/lib/python3.6/site-packages/ipykernel_launcher.py:51: UserWarning: /home/mimus/apiais/data/images/ANPR/training/masks_plate_loc/masks_31_34_augmented_image_16943.jpg is a low contrast image\n"
     ]
    },
    {
     "name": "stdout",
     "output_type": "stream",
     "text": [
      "1157 16945\n",
      "1158 16946\n",
      "1159 16947\n",
      "1160 16948\n",
      "1161 16949\n",
      "1162 16950\n"
     ]
    },
    {
     "name": "stderr",
     "output_type": "stream",
     "text": [
      "/home/mimus/anaconda3/envs/tf2/lib/python3.6/site-packages/ipykernel_launcher.py:51: UserWarning: /home/mimus/apiais/data/images/ANPR/training/masks_plate_loc/masks_164_42_augmented_image_16949.jpg is a low contrast image\n",
      "/home/mimus/anaconda3/envs/tf2/lib/python3.6/site-packages/ipykernel_launcher.py:51: UserWarning: /home/mimus/apiais/data/images/ANPR/training/masks_plate_loc/masks_347_29_augmented_image_16950.jpg is a low contrast image\n"
     ]
    },
    {
     "name": "stdout",
     "output_type": "stream",
     "text": [
      "1163 16951\n",
      "1164 16952\n"
     ]
    },
    {
     "name": "stderr",
     "output_type": "stream",
     "text": [
      "/home/mimus/anaconda3/envs/tf2/lib/python3.6/site-packages/ipykernel_launcher.py:51: UserWarning: /home/mimus/apiais/data/images/ANPR/training/masks_plate_loc/masks_59_21_augmented_image_16952.jpg is a low contrast image\n"
     ]
    },
    {
     "name": "stdout",
     "output_type": "stream",
     "text": [
      "1165 16953\n",
      "1166 16954\n"
     ]
    },
    {
     "name": "stderr",
     "output_type": "stream",
     "text": [
      "/home/mimus/anaconda3/envs/tf2/lib/python3.6/site-packages/ipykernel_launcher.py:51: UserWarning: /home/mimus/apiais/data/images/ANPR/training/masks_plate_loc/masks_470_32_augmented_image_8954_augmented_image_16954.jpg is a low contrast image\n",
      "/home/mimus/anaconda3/envs/tf2/lib/python3.6/site-packages/ipykernel_launcher.py:51: UserWarning: /home/mimus/apiais/data/images/ANPR/training/masks_plate_loc/masks_148_33_augmented_image_14620_augmented_image_16955.jpg is a low contrast image\n"
     ]
    },
    {
     "name": "stdout",
     "output_type": "stream",
     "text": [
      "1167 16955\n",
      "1168 16956\n"
     ]
    },
    {
     "name": "stderr",
     "output_type": "stream",
     "text": [
      "/home/mimus/anaconda3/envs/tf2/lib/python3.6/site-packages/ipykernel_launcher.py:51: UserWarning: /home/mimus/apiais/data/images/ANPR/training/masks_plate_loc/masks_176_43_augmented_image_13004_augmented_image_16956.jpg is a low contrast image\n"
     ]
    },
    {
     "name": "stdout",
     "output_type": "stream",
     "text": [
      "1169 16957\n",
      "1170 16958\n",
      "1171 16959\n",
      "1172 16960\n",
      "1173 16961\n"
     ]
    },
    {
     "name": "stderr",
     "output_type": "stream",
     "text": [
      "/home/mimus/anaconda3/envs/tf2/lib/python3.6/site-packages/ipykernel_launcher.py:51: UserWarning: /home/mimus/apiais/data/images/ANPR/training/masks_plate_loc/masks_154_29_augmented_image_16961.jpg is a low contrast image\n"
     ]
    },
    {
     "name": "stdout",
     "output_type": "stream",
     "text": [
      "1174 16962\n",
      "1175 16963\n",
      "1176 16964\n",
      "1177 16965\n"
     ]
    },
    {
     "name": "stderr",
     "output_type": "stream",
     "text": [
      "/home/mimus/anaconda3/envs/tf2/lib/python3.6/site-packages/ipykernel_launcher.py:51: UserWarning: /home/mimus/apiais/data/images/ANPR/training/masks_plate_loc/masks_84_34_augmented_image_16964.jpg is a low contrast image\n",
      "/home/mimus/anaconda3/envs/tf2/lib/python3.6/site-packages/ipykernel_launcher.py:51: UserWarning: /home/mimus/apiais/data/images/ANPR/training/masks_plate_loc/masks_365_39_augmented_image_16965.jpg is a low contrast image\n"
     ]
    },
    {
     "name": "stdout",
     "output_type": "stream",
     "text": [
      "1178 16966\n",
      "1179 16967\n"
     ]
    },
    {
     "name": "stderr",
     "output_type": "stream",
     "text": [
      "/home/mimus/anaconda3/envs/tf2/lib/python3.6/site-packages/ipykernel_launcher.py:51: UserWarning: /home/mimus/apiais/data/images/ANPR/training/masks_plate_loc/masks_190_32_augmented_image_9337_augmented_image_16966.jpg is a low contrast image\n"
     ]
    },
    {
     "name": "stdout",
     "output_type": "stream",
     "text": [
      "1180 16968\n",
      "1181 16969\n",
      "1182 16970\n",
      "1183 16971\n",
      "1184 16972\n"
     ]
    },
    {
     "name": "stderr",
     "output_type": "stream",
     "text": [
      "/home/mimus/anaconda3/envs/tf2/lib/python3.6/site-packages/ipykernel_launcher.py:51: UserWarning: /home/mimus/apiais/data/images/ANPR/training/masks_plate_loc/masks_272_20_augmented_image_16972.jpg is a low contrast image\n",
      "/home/mimus/anaconda3/envs/tf2/lib/python3.6/site-packages/ipykernel_launcher.py:51: UserWarning: /home/mimus/apiais/data/images/ANPR/training/masks_plate_loc/masks_124_32_augmented_image_14647_augmented_image_16973.jpg is a low contrast image\n"
     ]
    },
    {
     "name": "stdout",
     "output_type": "stream",
     "text": [
      "1185 16973\n",
      "1186 16974\n",
      "1187 16975\n",
      "1188 16976\n"
     ]
    },
    {
     "name": "stderr",
     "output_type": "stream",
     "text": [
      "/home/mimus/anaconda3/envs/tf2/lib/python3.6/site-packages/ipykernel_launcher.py:51: UserWarning: /home/mimus/apiais/data/images/ANPR/training/masks_plate_loc/masks_494_18_augmented_image_10423_augmented_image_16975.jpg is a low contrast image\n",
      "/home/mimus/anaconda3/envs/tf2/lib/python3.6/site-packages/ipykernel_launcher.py:51: UserWarning: /home/mimus/apiais/data/images/ANPR/training/masks_plate_loc/masks_284_42_augmented_image_16976.jpg is a low contrast image\n"
     ]
    },
    {
     "name": "stdout",
     "output_type": "stream",
     "text": [
      "1189 16977\n",
      "1190 16978\n",
      "1191 16979\n",
      "1192 16980\n",
      "1193 16981\n",
      "1194 16982\n"
     ]
    },
    {
     "name": "stderr",
     "output_type": "stream",
     "text": [
      "/home/mimus/anaconda3/envs/tf2/lib/python3.6/site-packages/ipykernel_launcher.py:51: UserWarning: /home/mimus/apiais/data/images/ANPR/training/masks_plate_loc/masks_247_24_augmented_image_16982.jpg is a low contrast image\n"
     ]
    },
    {
     "name": "stdout",
     "output_type": "stream",
     "text": [
      "1195 16983\n",
      "1196 16984\n"
     ]
    },
    {
     "name": "stderr",
     "output_type": "stream",
     "text": [
      "/home/mimus/anaconda3/envs/tf2/lib/python3.6/site-packages/ipykernel_launcher.py:51: UserWarning: /home/mimus/apiais/data/images/ANPR/training/masks_plate_loc/masks_109_28_augmented_image_16984.jpg is a low contrast image\n"
     ]
    },
    {
     "name": "stdout",
     "output_type": "stream",
     "text": [
      "1197 16985\n",
      "1198 16986\n",
      "1199 16987\n",
      "1200 16988\n"
     ]
    },
    {
     "name": "stderr",
     "output_type": "stream",
     "text": [
      "/home/mimus/anaconda3/envs/tf2/lib/python3.6/site-packages/ipykernel_launcher.py:51: UserWarning: /home/mimus/apiais/data/images/ANPR/training/masks_plate_loc/masks_335_28_augmented_image_16987.jpg is a low contrast image\n"
     ]
    },
    {
     "name": "stdout",
     "output_type": "stream",
     "text": [
      "1201 16989\n",
      "1202 16990\n",
      "1203 16991\n"
     ]
    },
    {
     "name": "stderr",
     "output_type": "stream",
     "text": [
      "/home/mimus/anaconda3/envs/tf2/lib/python3.6/site-packages/ipykernel_launcher.py:51: UserWarning: /home/mimus/apiais/data/images/ANPR/training/masks_plate_loc/masks_318_33_augmented_image_10475_augmented_image_16990.jpg is a low contrast image\n",
      "/home/mimus/anaconda3/envs/tf2/lib/python3.6/site-packages/ipykernel_launcher.py:51: UserWarning: /home/mimus/apiais/data/images/ANPR/training/masks_plate_loc/masks_360_29_augmented_image_16991.jpg is a low contrast image\n"
     ]
    },
    {
     "name": "stdout",
     "output_type": "stream",
     "text": [
      "1204 16992\n",
      "1205 16993\n"
     ]
    },
    {
     "name": "stderr",
     "output_type": "stream",
     "text": [
      "/home/mimus/anaconda3/envs/tf2/lib/python3.6/site-packages/ipykernel_launcher.py:51: UserWarning: /home/mimus/apiais/data/images/ANPR/training/masks_plate_loc/masks_341_32_augmented_image_16992.jpg is a low contrast image\n"
     ]
    },
    {
     "name": "stdout",
     "output_type": "stream",
     "text": [
      "1206 16994\n",
      "1207 16995\n"
     ]
    },
    {
     "name": "stderr",
     "output_type": "stream",
     "text": [
      "/home/mimus/anaconda3/envs/tf2/lib/python3.6/site-packages/ipykernel_launcher.py:51: UserWarning: /home/mimus/apiais/data/images/ANPR/training/masks_plate_loc/masks_429_29_augmented_image_8798_augmented_image_16994.jpg is a low contrast image\n"
     ]
    },
    {
     "name": "stdout",
     "output_type": "stream",
     "text": [
      "1208 16996\n",
      "1209 16997\n",
      "1210 16998\n",
      "1211 16999\n",
      "1212 17000\n"
     ]
    },
    {
     "name": "stderr",
     "output_type": "stream",
     "text": [
      "/home/mimus/anaconda3/envs/tf2/lib/python3.6/site-packages/ipykernel_launcher.py:51: UserWarning: /home/mimus/apiais/data/images/ANPR/training/masks_plate_loc/masks_447_32_augmented_image_16999.jpg is a low contrast image\n"
     ]
    },
    {
     "name": "stdout",
     "output_type": "stream",
     "text": [
      "1213 17001\n",
      "1214 17002\n"
     ]
    },
    {
     "name": "stderr",
     "output_type": "stream",
     "text": [
      "/home/mimus/anaconda3/envs/tf2/lib/python3.6/site-packages/ipykernel_launcher.py:51: UserWarning: /home/mimus/apiais/data/images/ANPR/training/masks_plate_loc/masks_16_37_augmented_image_17001.jpg is a low contrast image\n"
     ]
    },
    {
     "name": "stdout",
     "output_type": "stream",
     "text": [
      "1215 17003\n",
      "1216 17004\n",
      "1217 17005\n",
      "1218 17006\n"
     ]
    },
    {
     "name": "stderr",
     "output_type": "stream",
     "text": [
      "/home/mimus/anaconda3/envs/tf2/lib/python3.6/site-packages/ipykernel_launcher.py:51: UserWarning: /home/mimus/apiais/data/images/ANPR/training/masks_plate_loc/masks_16_1_3_augmented_image_10882_augmented_image_17006.jpg is a low contrast image\n",
      "/home/mimus/anaconda3/envs/tf2/lib/python3.6/site-packages/ipykernel_launcher.py:51: UserWarning: /home/mimus/apiais/data/images/ANPR/training/masks_plate_loc/masks_662_32_augmented_image_17007.jpg is a low contrast image\n"
     ]
    },
    {
     "name": "stdout",
     "output_type": "stream",
     "text": [
      "1219 17007\n",
      "1220 17008\n"
     ]
    },
    {
     "name": "stderr",
     "output_type": "stream",
     "text": [
      "/home/mimus/anaconda3/envs/tf2/lib/python3.6/site-packages/ipykernel_launcher.py:51: UserWarning: /home/mimus/apiais/data/images/ANPR/training/masks_plate_loc/masks_50_34_augmented_image_8550_augmented_image_17008.jpg is a low contrast image\n",
      "/home/mimus/anaconda3/envs/tf2/lib/python3.6/site-packages/ipykernel_launcher.py:51: UserWarning: /home/mimus/apiais/data/images/ANPR/training/masks_plate_loc/masks_13_20_augmented_image_17009.jpg is a low contrast image\n"
     ]
    },
    {
     "name": "stdout",
     "output_type": "stream",
     "text": [
      "1221 17009\n",
      "1222 17010\n",
      "1223 17011\n",
      "1224 17012\n",
      "1225 17013\n",
      "1226 17014\n"
     ]
    },
    {
     "name": "stderr",
     "output_type": "stream",
     "text": [
      "/home/mimus/anaconda3/envs/tf2/lib/python3.6/site-packages/ipykernel_launcher.py:51: UserWarning: /home/mimus/apiais/data/images/ANPR/training/masks_plate_loc/masks_66_5_augmented_image_8529_augmented_image_17014.jpg is a low contrast image\n",
      "/home/mimus/anaconda3/envs/tf2/lib/python3.6/site-packages/ipykernel_launcher.py:51: UserWarning: /home/mimus/apiais/data/images/ANPR/training/masks_plate_loc/masks_76_5_augmented_image_17016.jpg is a low contrast image\n"
     ]
    },
    {
     "name": "stdout",
     "output_type": "stream",
     "text": [
      "1227 17015\n",
      "1228 17016\n",
      "1229 17017\n"
     ]
    },
    {
     "name": "stderr",
     "output_type": "stream",
     "text": [
      "/home/mimus/anaconda3/envs/tf2/lib/python3.6/site-packages/ipykernel_launcher.py:51: UserWarning: /home/mimus/apiais/data/images/ANPR/training/masks_plate_loc/masks_65_24_augmented_image_17017.jpg is a low contrast image\n"
     ]
    },
    {
     "name": "stdout",
     "output_type": "stream",
     "text": [
      "1230 17018\n",
      "1231 17019\n",
      "1232 17020\n",
      "1233 17021\n"
     ]
    },
    {
     "name": "stderr",
     "output_type": "stream",
     "text": [
      "/home/mimus/anaconda3/envs/tf2/lib/python3.6/site-packages/ipykernel_launcher.py:51: UserWarning: /home/mimus/apiais/data/images/ANPR/training/masks_plate_loc/masks_119_4_augmented_image_17021.jpg is a low contrast image\n"
     ]
    },
    {
     "name": "stdout",
     "output_type": "stream",
     "text": [
      "1234 17022\n",
      "1235 17023\n",
      "1236 17024\n",
      "1237 17025\n",
      "1238 17026\n",
      "1239 17027\n",
      "1240 17028\n"
     ]
    },
    {
     "name": "stderr",
     "output_type": "stream",
     "text": [
      "/home/mimus/anaconda3/envs/tf2/lib/python3.6/site-packages/ipykernel_launcher.py:51: UserWarning: /home/mimus/apiais/data/images/ANPR/training/masks_plate_loc/masks_12_34_augmented_image_9688_augmented_image_17027.jpg is a low contrast image\n"
     ]
    },
    {
     "name": "stdout",
     "output_type": "stream",
     "text": [
      "1241 17029\n",
      "1242 17030\n"
     ]
    },
    {
     "name": "stderr",
     "output_type": "stream",
     "text": [
      "/home/mimus/anaconda3/envs/tf2/lib/python3.6/site-packages/ipykernel_launcher.py:51: UserWarning: /home/mimus/apiais/data/images/ANPR/training/masks_plate_loc/masks_33_38_augmented_image_17029.jpg is a low contrast image\n"
     ]
    },
    {
     "name": "stdout",
     "output_type": "stream",
     "text": [
      "1243 17031\n",
      "1244 17032\n",
      "1245 17033\n"
     ]
    },
    {
     "name": "stderr",
     "output_type": "stream",
     "text": [
      "/home/mimus/anaconda3/envs/tf2/lib/python3.6/site-packages/ipykernel_launcher.py:51: UserWarning: /home/mimus/apiais/data/images/ANPR/training/masks_plate_loc/masks_14_21_augmented_image_13811_augmented_image_17031.jpg is a low contrast image\n"
     ]
    },
    {
     "name": "stdout",
     "output_type": "stream",
     "text": [
      "1246 17034\n",
      "1247 17035\n"
     ]
    },
    {
     "name": "stderr",
     "output_type": "stream",
     "text": [
      "/home/mimus/anaconda3/envs/tf2/lib/python3.6/site-packages/ipykernel_launcher.py:51: UserWarning: /home/mimus/apiais/data/images/ANPR/training/masks_plate_loc/masks_543_34_augmented_image_11096_augmented_image_17035.jpg is a low contrast image\n"
     ]
    },
    {
     "name": "stdout",
     "output_type": "stream",
     "text": [
      "1248 17036\n",
      "1249 17037\n"
     ]
    },
    {
     "name": "stderr",
     "output_type": "stream",
     "text": [
      "/home/mimus/anaconda3/envs/tf2/lib/python3.6/site-packages/ipykernel_launcher.py:51: UserWarning: /home/mimus/apiais/data/images/ANPR/training/masks_plate_loc/masks_83_16_augmented_image_9139_augmented_image_17037.jpg is a low contrast image\n",
      "/home/mimus/anaconda3/envs/tf2/lib/python3.6/site-packages/ipykernel_launcher.py:51: UserWarning: /home/mimus/apiais/data/images/ANPR/training/masks_plate_loc/masks_61_21_augmented_image_17038.jpg is a low contrast image\n"
     ]
    },
    {
     "name": "stdout",
     "output_type": "stream",
     "text": [
      "1250 17038\n",
      "1251 17039\n",
      "1252 17040\n",
      "1253 17041\n",
      "1254 17042\n"
     ]
    },
    {
     "name": "stderr",
     "output_type": "stream",
     "text": [
      "/home/mimus/anaconda3/envs/tf2/lib/python3.6/site-packages/ipykernel_launcher.py:51: UserWarning: /home/mimus/apiais/data/images/ANPR/training/masks_plate_loc/masks_179_27_augmented_image_17042.jpg is a low contrast image\n"
     ]
    },
    {
     "name": "stdout",
     "output_type": "stream",
     "text": [
      "1255 17043\n",
      "1256 17044\n",
      "1257 17045\n",
      "1258 17046\n"
     ]
    },
    {
     "name": "stderr",
     "output_type": "stream",
     "text": [
      "/home/mimus/anaconda3/envs/tf2/lib/python3.6/site-packages/ipykernel_launcher.py:51: UserWarning: /home/mimus/apiais/data/images/ANPR/training/masks_plate_loc/masks_500_18_augmented_image_17045.jpg is a low contrast image\n",
      "/home/mimus/anaconda3/envs/tf2/lib/python3.6/site-packages/ipykernel_launcher.py:51: UserWarning: /home/mimus/apiais/data/images/ANPR/training/masks_plate_loc/masks_17_13_augmented_image_17046.jpg is a low contrast image\n"
     ]
    },
    {
     "name": "stdout",
     "output_type": "stream",
     "text": [
      "1259 17047\n",
      "1260 17048\n"
     ]
    },
    {
     "name": "stderr",
     "output_type": "stream",
     "text": [
      "/home/mimus/anaconda3/envs/tf2/lib/python3.6/site-packages/ipykernel_launcher.py:51: UserWarning: /home/mimus/apiais/data/images/ANPR/training/masks_plate_loc/masks_169_18_augmented_image_17047.jpg is a low contrast image\n",
      "/home/mimus/anaconda3/envs/tf2/lib/python3.6/site-packages/ipykernel_launcher.py:51: UserWarning: /home/mimus/apiais/data/images/ANPR/training/masks_plate_loc/masks_133_20_augmented_image_10338_augmented_image_17048.jpg is a low contrast image\n"
     ]
    },
    {
     "name": "stdout",
     "output_type": "stream",
     "text": [
      "1261 17049\n",
      "1262 17050\n",
      "1263 17051\n",
      "1264 17052\n",
      "1265 17053\n"
     ]
    },
    {
     "name": "stderr",
     "output_type": "stream",
     "text": [
      "/home/mimus/anaconda3/envs/tf2/lib/python3.6/site-packages/ipykernel_launcher.py:51: UserWarning: /home/mimus/apiais/data/images/ANPR/training/masks_plate_loc/masks_125_20_augmented_image_17051.jpg is a low contrast image\n",
      "/home/mimus/anaconda3/envs/tf2/lib/python3.6/site-packages/ipykernel_launcher.py:51: UserWarning: /home/mimus/apiais/data/images/ANPR/training/masks_plate_loc/masks_258_28_augmented_image_17052.jpg is a low contrast image\n"
     ]
    },
    {
     "name": "stdout",
     "output_type": "stream",
     "text": [
      "1266 17054\n",
      "1267 17055\n"
     ]
    },
    {
     "name": "stderr",
     "output_type": "stream",
     "text": [
      "/home/mimus/anaconda3/envs/tf2/lib/python3.6/site-packages/ipykernel_launcher.py:51: UserWarning: /home/mimus/apiais/data/images/ANPR/training/masks_plate_loc/masks_27_8_augmented_image_17054.jpg is a low contrast image\n"
     ]
    },
    {
     "name": "stdout",
     "output_type": "stream",
     "text": [
      "1268 17056\n",
      "1269 17057\n",
      "1270 17058\n"
     ]
    },
    {
     "name": "stderr",
     "output_type": "stream",
     "text": [
      "/home/mimus/anaconda3/envs/tf2/lib/python3.6/site-packages/ipykernel_launcher.py:51: UserWarning: /home/mimus/apiais/data/images/ANPR/training/masks_plate_loc/masks_342_39_augmented_image_17056.jpg is a low contrast image\n",
      "/home/mimus/anaconda3/envs/tf2/lib/python3.6/site-packages/ipykernel_launcher.py:51: UserWarning: /home/mimus/apiais/data/images/ANPR/training/masks_plate_loc/masks_289_39_augmented_image_17058.jpg is a low contrast image\n"
     ]
    },
    {
     "name": "stdout",
     "output_type": "stream",
     "text": [
      "1271 17059\n",
      "1272 17060\n"
     ]
    },
    {
     "name": "stderr",
     "output_type": "stream",
     "text": [
      "/home/mimus/anaconda3/envs/tf2/lib/python3.6/site-packages/ipykernel_launcher.py:51: UserWarning: /home/mimus/apiais/data/images/ANPR/training/masks_plate_loc/masks_308_18_augmented_image_17060.jpg is a low contrast image\n",
      "/home/mimus/anaconda3/envs/tf2/lib/python3.6/site-packages/ipykernel_launcher.py:51: UserWarning: /home/mimus/apiais/data/images/ANPR/training/masks_plate_loc/masks_412_32_augmented_image_17061.jpg is a low contrast image\n"
     ]
    },
    {
     "name": "stdout",
     "output_type": "stream",
     "text": [
      "1273 17061\n",
      "1274 17062\n",
      "1275 17063\n",
      "1276 17064\n",
      "1277 17065\n",
      "1278 17066\n",
      "1279 17067\n",
      "1280 17068\n"
     ]
    },
    {
     "name": "stderr",
     "output_type": "stream",
     "text": [
      "/home/mimus/anaconda3/envs/tf2/lib/python3.6/site-packages/ipykernel_launcher.py:51: UserWarning: /home/mimus/apiais/data/images/ANPR/training/masks_plate_loc/masks_45_28_augmented_image_17067.jpg is a low contrast image\n"
     ]
    },
    {
     "name": "stdout",
     "output_type": "stream",
     "text": [
      "1281 17069\n",
      "1282 17070\n",
      "1283 17071\n",
      "1284 17072\n"
     ]
    },
    {
     "name": "stderr",
     "output_type": "stream",
     "text": [
      "/home/mimus/anaconda3/envs/tf2/lib/python3.6/site-packages/ipykernel_launcher.py:51: UserWarning: /home/mimus/apiais/data/images/ANPR/training/masks_plate_loc/masks_30_34_augmented_image_17071.jpg is a low contrast image\n"
     ]
    },
    {
     "name": "stdout",
     "output_type": "stream",
     "text": [
      "1285 17073\n",
      "1286 17074\n",
      "1287 17075\n"
     ]
    },
    {
     "name": "stderr",
     "output_type": "stream",
     "text": [
      "/home/mimus/anaconda3/envs/tf2/lib/python3.6/site-packages/ipykernel_launcher.py:51: UserWarning: /home/mimus/apiais/data/images/ANPR/training/masks_plate_loc/masks_178_30_1_augmented_image_13485_augmented_image_17073.jpg is a low contrast image\n"
     ]
    },
    {
     "name": "stdout",
     "output_type": "stream",
     "text": [
      "1288 17076\n",
      "1289 17077\n"
     ]
    },
    {
     "name": "stderr",
     "output_type": "stream",
     "text": [
      "/home/mimus/anaconda3/envs/tf2/lib/python3.6/site-packages/ipykernel_launcher.py:51: UserWarning: /home/mimus/apiais/data/images/ANPR/training/masks_plate_loc/masks_164_39_augmented_image_14590_augmented_image_17076.jpg is a low contrast image\n"
     ]
    },
    {
     "name": "stdout",
     "output_type": "stream",
     "text": [
      "1290 17078\n",
      "1291 17079\n"
     ]
    },
    {
     "name": "stderr",
     "output_type": "stream",
     "text": [
      "/home/mimus/anaconda3/envs/tf2/lib/python3.6/site-packages/ipykernel_launcher.py:51: UserWarning: /home/mimus/apiais/data/images/ANPR/training/masks_plate_loc/masks_119_40_augmented_image_17078.jpg is a low contrast image\n",
      "/home/mimus/anaconda3/envs/tf2/lib/python3.6/site-packages/ipykernel_launcher.py:51: UserWarning: /home/mimus/apiais/data/images/ANPR/training/masks_plate_loc/masks_289_42_augmented_image_15760_augmented_image_17079.jpg is a low contrast image\n"
     ]
    },
    {
     "name": "stdout",
     "output_type": "stream",
     "text": [
      "1292 17080\n",
      "1293 17081\n",
      "1294 17082\n",
      "1295 17083\n"
     ]
    },
    {
     "name": "stderr",
     "output_type": "stream",
     "text": [
      "/home/mimus/anaconda3/envs/tf2/lib/python3.6/site-packages/ipykernel_launcher.py:51: UserWarning: /home/mimus/apiais/data/images/ANPR/training/masks_plate_loc/masks_308_40_augmented_image_17082.jpg is a low contrast image\n",
      "/home/mimus/anaconda3/envs/tf2/lib/python3.6/site-packages/ipykernel_launcher.py:51: UserWarning: /home/mimus/apiais/data/images/ANPR/training/masks_plate_loc/masks_41_0_augmented_image_17083.jpg is a low contrast image\n"
     ]
    },
    {
     "name": "stdout",
     "output_type": "stream",
     "text": [
      "1296 17084\n",
      "1297 17085\n"
     ]
    },
    {
     "name": "stderr",
     "output_type": "stream",
     "text": [
      "/home/mimus/anaconda3/envs/tf2/lib/python3.6/site-packages/ipykernel_launcher.py:51: UserWarning: /home/mimus/apiais/data/images/ANPR/training/masks_plate_loc/masks_247_39_augmented_image_17084.jpg is a low contrast image\n"
     ]
    },
    {
     "name": "stdout",
     "output_type": "stream",
     "text": [
      "1298 17086\n",
      "1299 17087\n"
     ]
    },
    {
     "name": "stderr",
     "output_type": "stream",
     "text": [
      "/home/mimus/anaconda3/envs/tf2/lib/python3.6/site-packages/ipykernel_launcher.py:51: UserWarning: /home/mimus/apiais/data/images/ANPR/training/masks_plate_loc/masks_430_32_augmented_image_8293_augmented_image_17086.jpg is a low contrast image\n"
     ]
    },
    {
     "name": "stdout",
     "output_type": "stream",
     "text": [
      "1300 17088\n",
      "1301 17089\n",
      "1302 17090\n",
      "1303 17091\n",
      "1304 17092\n",
      "1305 17093\n"
     ]
    },
    {
     "name": "stderr",
     "output_type": "stream",
     "text": [
      "/home/mimus/anaconda3/envs/tf2/lib/python3.6/site-packages/ipykernel_launcher.py:51: UserWarning: /home/mimus/apiais/data/images/ANPR/training/masks_plate_loc/masks_17_5_augmented_image_13493_augmented_image_17093.jpg is a low contrast image\n"
     ]
    },
    {
     "name": "stdout",
     "output_type": "stream",
     "text": [
      "1306 17094\n",
      "1307 17095\n"
     ]
    },
    {
     "name": "stderr",
     "output_type": "stream",
     "text": [
      "/home/mimus/anaconda3/envs/tf2/lib/python3.6/site-packages/ipykernel_launcher.py:51: UserWarning: /home/mimus/apiais/data/images/ANPR/training/masks_plate_loc/masks_316_33_augmented_image_17095.jpg is a low contrast image\n",
      "/home/mimus/anaconda3/envs/tf2/lib/python3.6/site-packages/ipykernel_launcher.py:51: UserWarning: /home/mimus/apiais/data/images/ANPR/training/masks_plate_loc/masks_244_39_augmented_image_12207_augmented_image_17096.jpg is a low contrast image\n"
     ]
    },
    {
     "name": "stdout",
     "output_type": "stream",
     "text": [
      "1308 17096\n",
      "1309 17097\n"
     ]
    },
    {
     "name": "stderr",
     "output_type": "stream",
     "text": [
      "/home/mimus/anaconda3/envs/tf2/lib/python3.6/site-packages/ipykernel_launcher.py:51: UserWarning: /home/mimus/apiais/data/images/ANPR/training/masks_plate_loc/masks_37_21_augmented_image_17097.jpg is a low contrast image\n"
     ]
    },
    {
     "name": "stdout",
     "output_type": "stream",
     "text": [
      "1310 17098\n",
      "1311 17099\n",
      "1312 17100\n",
      "1313 17101\n",
      "1314 17102\n",
      "1315 17103\n"
     ]
    },
    {
     "name": "stderr",
     "output_type": "stream",
     "text": [
      "/home/mimus/anaconda3/envs/tf2/lib/python3.6/site-packages/ipykernel_launcher.py:51: UserWarning: /home/mimus/apiais/data/images/ANPR/training/masks_plate_loc/masks_679_32_augmented_image_17102.jpg is a low contrast image\n"
     ]
    },
    {
     "name": "stdout",
     "output_type": "stream",
     "text": [
      "1316 17104\n",
      "1317 17105\n"
     ]
    },
    {
     "name": "stderr",
     "output_type": "stream",
     "text": [
      "/home/mimus/anaconda3/envs/tf2/lib/python3.6/site-packages/ipykernel_launcher.py:51: UserWarning: /home/mimus/apiais/data/images/ANPR/training/masks_plate_loc/masks_318_32_augmented_image_17105.jpg is a low contrast image\n",
      "/home/mimus/anaconda3/envs/tf2/lib/python3.6/site-packages/ipykernel_launcher.py:51: UserWarning: /home/mimus/apiais/data/images/ANPR/training/masks_plate_loc/masks_337_18_augmented_image_12261_augmented_image_17106.jpg is a low contrast image\n"
     ]
    },
    {
     "name": "stdout",
     "output_type": "stream",
     "text": [
      "1318 17106\n",
      "1319 17107\n",
      "1320 17108\n",
      "1321 17109\n"
     ]
    },
    {
     "name": "stderr",
     "output_type": "stream",
     "text": [
      "/home/mimus/anaconda3/envs/tf2/lib/python3.6/site-packages/ipykernel_launcher.py:51: UserWarning: /home/mimus/apiais/data/images/ANPR/training/masks_plate_loc/masks_3_29_augmented_image_13411_augmented_image_17108.jpg is a low contrast image\n"
     ]
    },
    {
     "name": "stdout",
     "output_type": "stream",
     "text": [
      "1322 17110\n",
      "1323 17111\n",
      "1324 17112\n",
      "1325 17113\n",
      "1326 17114\n"
     ]
    },
    {
     "name": "stderr",
     "output_type": "stream",
     "text": [
      "/home/mimus/anaconda3/envs/tf2/lib/python3.6/site-packages/ipykernel_launcher.py:51: UserWarning: /home/mimus/apiais/data/images/ANPR/training/masks_plate_loc/masks_854_32_augmented_image_17114.jpg is a low contrast image\n",
      "/home/mimus/anaconda3/envs/tf2/lib/python3.6/site-packages/ipykernel_launcher.py:51: UserWarning: /home/mimus/apiais/data/images/ANPR/training/masks_plate_loc/masks_19_35_augmented_image_17115.jpg is a low contrast image\n"
     ]
    },
    {
     "name": "stdout",
     "output_type": "stream",
     "text": [
      "1327 17115\n",
      "1328 17116\n",
      "1329 17117\n",
      "1330 17118\n",
      "1331 17119\n",
      "1332 17120\n",
      "1333 17121\n",
      "1334 17122\n",
      "1335 17123\n"
     ]
    },
    {
     "name": "stderr",
     "output_type": "stream",
     "text": [
      "/home/mimus/anaconda3/envs/tf2/lib/python3.6/site-packages/ipykernel_launcher.py:51: UserWarning: /home/mimus/apiais/data/images/ANPR/training/masks_plate_loc/masks_2_18_augmented_image_17123.jpg is a low contrast image\n"
     ]
    },
    {
     "name": "stdout",
     "output_type": "stream",
     "text": [
      "1336 17124\n",
      "1337 17125\n",
      "1338 17126\n",
      "1339 17127\n",
      "1340 17128\n",
      "1341 17129\n"
     ]
    },
    {
     "name": "stderr",
     "output_type": "stream",
     "text": [
      "/home/mimus/anaconda3/envs/tf2/lib/python3.6/site-packages/ipykernel_launcher.py:51: UserWarning: /home/mimus/apiais/data/images/ANPR/training/masks_plate_loc/masks_4_13_augmented_image_17128.jpg is a low contrast image\n",
      "/home/mimus/anaconda3/envs/tf2/lib/python3.6/site-packages/ipykernel_launcher.py:51: UserWarning: /home/mimus/apiais/data/images/ANPR/training/masks_plate_loc/masks_46_31_augmented_image_15651_augmented_image_17129.jpg is a low contrast image\n"
     ]
    },
    {
     "name": "stdout",
     "output_type": "stream",
     "text": [
      "1342 17130\n",
      "1343 17131\n",
      "1344 17132\n",
      "1345 17133\n",
      "1346 17134\n",
      "1347 17135\n"
     ]
    },
    {
     "name": "stderr",
     "output_type": "stream",
     "text": [
      "/home/mimus/anaconda3/envs/tf2/lib/python3.6/site-packages/ipykernel_launcher.py:51: UserWarning: /home/mimus/apiais/data/images/ANPR/training/masks_plate_loc/masks_11_12_augmented_image_17134.jpg is a low contrast image\n",
      "/home/mimus/anaconda3/envs/tf2/lib/python3.6/site-packages/ipykernel_launcher.py:51: UserWarning: /home/mimus/apiais/data/images/ANPR/training/masks_plate_loc/masks_21_23_augmented_image_8112_augmented_image_17135.jpg is a low contrast image\n"
     ]
    },
    {
     "name": "stdout",
     "output_type": "stream",
     "text": [
      "1348 17136\n",
      "1349 17137\n",
      "1350 17138\n",
      "1351 17139\n",
      "1352 17140\n"
     ]
    },
    {
     "name": "stderr",
     "output_type": "stream",
     "text": [
      "/home/mimus/anaconda3/envs/tf2/lib/python3.6/site-packages/ipykernel_launcher.py:51: UserWarning: /home/mimus/apiais/data/images/ANPR/training/masks_plate_loc/masks_196_29_augmented_image_8146_augmented_image_17138.jpg is a low contrast image\n"
     ]
    },
    {
     "name": "stdout",
     "output_type": "stream",
     "text": [
      "1353 17141\n",
      "1354 17142\n",
      "1355 17143\n",
      "1356 17144\n",
      "1357 17145\n",
      "1358 17146\n"
     ]
    },
    {
     "name": "stderr",
     "output_type": "stream",
     "text": [
      "/home/mimus/anaconda3/envs/tf2/lib/python3.6/site-packages/ipykernel_launcher.py:51: UserWarning: /home/mimus/apiais/data/images/ANPR/training/masks_plate_loc/masks_195_32_augmented_image_15633_augmented_image_17146.jpg is a low contrast image\n",
      "/home/mimus/anaconda3/envs/tf2/lib/python3.6/site-packages/ipykernel_launcher.py:51: UserWarning: /home/mimus/apiais/data/images/ANPR/training/masks_plate_loc/masks_555_18_augmented_image_15576_augmented_image_17147.jpg is a low contrast image\n"
     ]
    },
    {
     "name": "stdout",
     "output_type": "stream",
     "text": [
      "1359 17147\n",
      "1360 17148\n",
      "1361 17149\n",
      "1362 17150\n"
     ]
    },
    {
     "name": "stderr",
     "output_type": "stream",
     "text": [
      "/home/mimus/anaconda3/envs/tf2/lib/python3.6/site-packages/ipykernel_launcher.py:51: UserWarning: /home/mimus/apiais/data/images/ANPR/training/masks_plate_loc/masks_558_18_augmented_image_10206_augmented_image_17149.jpg is a low contrast image\n"
     ]
    },
    {
     "name": "stdout",
     "output_type": "stream",
     "text": [
      "1363 17151\n",
      "1364 17152\n"
     ]
    },
    {
     "name": "stderr",
     "output_type": "stream",
     "text": [
      "/home/mimus/anaconda3/envs/tf2/lib/python3.6/site-packages/ipykernel_launcher.py:51: UserWarning: /home/mimus/apiais/data/images/ANPR/training/masks_plate_loc/masks_102_29_augmented_image_17151.jpg is a low contrast image\n"
     ]
    },
    {
     "name": "stdout",
     "output_type": "stream",
     "text": [
      "1365 17153\n",
      "1366 17154\n",
      "1367 17155\n",
      "1368 17156\n",
      "1369 17157\n"
     ]
    },
    {
     "name": "stderr",
     "output_type": "stream",
     "text": [
      "/home/mimus/anaconda3/envs/tf2/lib/python3.6/site-packages/ipykernel_launcher.py:51: UserWarning: /home/mimus/apiais/data/images/ANPR/training/masks_plate_loc/masks_93_9_augmented_image_17157.jpg is a low contrast image\n"
     ]
    },
    {
     "name": "stdout",
     "output_type": "stream",
     "text": [
      "1370 17158\n",
      "1371 17159\n",
      "1372 17160\n",
      "1373 17161\n",
      "1374 17162\n"
     ]
    },
    {
     "name": "stderr",
     "output_type": "stream",
     "text": [
      "/home/mimus/anaconda3/envs/tf2/lib/python3.6/site-packages/ipykernel_launcher.py:51: UserWarning: /home/mimus/apiais/data/images/ANPR/training/masks_plate_loc/masks_85_18_augmented_image_17162.jpg is a low contrast image\n"
     ]
    },
    {
     "name": "stdout",
     "output_type": "stream",
     "text": [
      "1375 17163\n",
      "1376 17164\n"
     ]
    },
    {
     "name": "stderr",
     "output_type": "stream",
     "text": [
      "/home/mimus/anaconda3/envs/tf2/lib/python3.6/site-packages/ipykernel_launcher.py:51: UserWarning: /home/mimus/apiais/data/images/ANPR/training/masks_plate_loc/masks_701_32_augmented_image_11993_augmented_image_17164.jpg is a low contrast image\n"
     ]
    },
    {
     "name": "stdout",
     "output_type": "stream",
     "text": [
      "1377 17165\n",
      "1378 17166\n"
     ]
    },
    {
     "name": "stderr",
     "output_type": "stream",
     "text": [
      "/home/mimus/anaconda3/envs/tf2/lib/python3.6/site-packages/ipykernel_launcher.py:51: UserWarning: /home/mimus/apiais/data/images/ANPR/training/masks_plate_loc/masks_109_1_3_augmented_image_17166.jpg is a low contrast image\n",
      "/home/mimus/anaconda3/envs/tf2/lib/python3.6/site-packages/ipykernel_launcher.py:51: UserWarning: /home/mimus/apiais/data/images/ANPR/training/masks_plate_loc/masks_163_39_augmented_image_17167.jpg is a low contrast image\n"
     ]
    },
    {
     "name": "stdout",
     "output_type": "stream",
     "text": [
      "1379 17167\n",
      "1380 17168\n"
     ]
    },
    {
     "name": "stderr",
     "output_type": "stream",
     "text": [
      "/home/mimus/anaconda3/envs/tf2/lib/python3.6/site-packages/ipykernel_launcher.py:51: UserWarning: /home/mimus/apiais/data/images/ANPR/training/masks_plate_loc/masks_15_7_augmented_image_10124_augmented_image_17168.jpg is a low contrast image\n"
     ]
    },
    {
     "name": "stdout",
     "output_type": "stream",
     "text": [
      "1381 17169\n",
      "1382 17170\n",
      "1383 17171\n",
      "1384 17172\n",
      "1385 17173\n"
     ]
    },
    {
     "name": "stderr",
     "output_type": "stream",
     "text": [
      "/home/mimus/anaconda3/envs/tf2/lib/python3.6/site-packages/ipykernel_launcher.py:51: UserWarning: /home/mimus/apiais/data/images/ANPR/training/masks_plate_loc/masks_202_32_augmented_image_13460_augmented_image_17171.jpg is a low contrast image\n",
      "/home/mimus/anaconda3/envs/tf2/lib/python3.6/site-packages/ipykernel_launcher.py:51: UserWarning: /home/mimus/apiais/data/images/ANPR/training/masks_plate_loc/masks_288_18_augmented_image_17173.jpg is a low contrast image\n"
     ]
    },
    {
     "name": "stdout",
     "output_type": "stream",
     "text": [
      "1386 17174\n",
      "1387 17175\n",
      "1388 17176\n",
      "1389 17177\n",
      "1390 17178\n",
      "1391 17179\n"
     ]
    },
    {
     "name": "stderr",
     "output_type": "stream",
     "text": [
      "/home/mimus/anaconda3/envs/tf2/lib/python3.6/site-packages/ipykernel_launcher.py:51: UserWarning: /home/mimus/apiais/data/images/ANPR/training/masks_plate_loc/masks_23_7_augmented_image_14734_augmented_image_17179.jpg is a low contrast image\n"
     ]
    },
    {
     "name": "stdout",
     "output_type": "stream",
     "text": [
      "1392 17180\n",
      "1393 17181\n",
      "1394 17182\n",
      "1395 17183\n",
      "1396 17184\n"
     ]
    },
    {
     "name": "stderr",
     "output_type": "stream",
     "text": [
      "/home/mimus/anaconda3/envs/tf2/lib/python3.6/site-packages/ipykernel_launcher.py:51: UserWarning: /home/mimus/apiais/data/images/ANPR/training/masks_plate_loc/masks_435_39_augmented_image_15725_augmented_image_17183.jpg is a low contrast image\n",
      "/home/mimus/anaconda3/envs/tf2/lib/python3.6/site-packages/ipykernel_launcher.py:51: UserWarning: /home/mimus/apiais/data/images/ANPR/training/masks_plate_loc/masks_878_32_augmented_image_17184.jpg is a low contrast image\n"
     ]
    },
    {
     "name": "stdout",
     "output_type": "stream",
     "text": [
      "1397 17185\n",
      "1398 17186\n"
     ]
    },
    {
     "name": "stderr",
     "output_type": "stream",
     "text": [
      "/home/mimus/anaconda3/envs/tf2/lib/python3.6/site-packages/ipykernel_launcher.py:51: UserWarning: /home/mimus/apiais/data/images/ANPR/training/masks_plate_loc/masks_2_16_augmented_image_17186.jpg is a low contrast image\n"
     ]
    },
    {
     "name": "stdout",
     "output_type": "stream",
     "text": [
      "1399 17187\n",
      "1400 17188\n",
      "1401 17189\n",
      "1402 17190\n",
      "1403 17191\n",
      "1404 17192\n",
      "1405 17193\n",
      "1406 17194\n"
     ]
    },
    {
     "name": "stderr",
     "output_type": "stream",
     "text": [
      "/home/mimus/anaconda3/envs/tf2/lib/python3.6/site-packages/ipykernel_launcher.py:51: UserWarning: /home/mimus/apiais/data/images/ANPR/training/masks_plate_loc/masks_192_24_augmented_image_17194.jpg is a low contrast image\n"
     ]
    },
    {
     "name": "stdout",
     "output_type": "stream",
     "text": [
      "1407 17195\n",
      "1408 17196\n",
      "1409 17197\n",
      "1410 17198\n",
      "1411 17199\n",
      "1412 17200\n"
     ]
    },
    {
     "name": "stderr",
     "output_type": "stream",
     "text": [
      "/home/mimus/anaconda3/envs/tf2/lib/python3.6/site-packages/ipykernel_launcher.py:51: UserWarning: /home/mimus/apiais/data/images/ANPR/training/masks_plate_loc/masks_15_6_augmented_image_17200.jpg is a low contrast image\n"
     ]
    },
    {
     "name": "stdout",
     "output_type": "stream",
     "text": [
      "1413 17201\n",
      "1414 17202\n",
      "1415 17203\n",
      "1416 17204\n",
      "1417 17205\n",
      "1418 17206\n",
      "1419 17207\n",
      "1420 17208\n"
     ]
    },
    {
     "name": "stderr",
     "output_type": "stream",
     "text": [
      "/home/mimus/anaconda3/envs/tf2/lib/python3.6/site-packages/ipykernel_launcher.py:51: UserWarning: /home/mimus/apiais/data/images/ANPR/training/masks_plate_loc/masks_411_0_augmented_image_11704_augmented_image_17206.jpg is a low contrast image\n",
      "/home/mimus/anaconda3/envs/tf2/lib/python3.6/site-packages/ipykernel_launcher.py:51: UserWarning: /home/mimus/apiais/data/images/ANPR/training/masks_plate_loc/masks_381_0_augmented_image_17207.jpg is a low contrast image\n"
     ]
    },
    {
     "name": "stdout",
     "output_type": "stream",
     "text": [
      "1421 17209\n",
      "1422 17210\n"
     ]
    },
    {
     "name": "stderr",
     "output_type": "stream",
     "text": [
      "/home/mimus/anaconda3/envs/tf2/lib/python3.6/site-packages/ipykernel_launcher.py:51: UserWarning: /home/mimus/apiais/data/images/ANPR/training/masks_plate_loc/masks_147_28_augmented_image_17209.jpg is a low contrast image\n"
     ]
    },
    {
     "name": "stdout",
     "output_type": "stream",
     "text": [
      "1423 17211\n",
      "1424 17212\n",
      "1425 17213\n"
     ]
    },
    {
     "name": "stderr",
     "output_type": "stream",
     "text": [
      "/home/mimus/anaconda3/envs/tf2/lib/python3.6/site-packages/ipykernel_launcher.py:51: UserWarning: /home/mimus/apiais/data/images/ANPR/training/masks_plate_loc/masks_184_38_augmented_image_17211.jpg is a low contrast image\n"
     ]
    },
    {
     "name": "stdout",
     "output_type": "stream",
     "text": [
      "1426 17214\n",
      "1427 17215\n",
      "1428 17216\n",
      "1429 17217\n",
      "1430 17218\n"
     ]
    },
    {
     "name": "stderr",
     "output_type": "stream",
     "text": [
      "/home/mimus/anaconda3/envs/tf2/lib/python3.6/site-packages/ipykernel_launcher.py:51: UserWarning: /home/mimus/apiais/data/images/ANPR/training/masks_plate_loc/masks_75_23_augmented_image_17218.jpg is a low contrast image\n",
      "/home/mimus/anaconda3/envs/tf2/lib/python3.6/site-packages/ipykernel_launcher.py:51: UserWarning: /home/mimus/apiais/data/images/ANPR/training/masks_plate_loc/masks_206_43_augmented_image_15136_augmented_image_17219.jpg is a low contrast image\n",
      "/home/mimus/anaconda3/envs/tf2/lib/python3.6/site-packages/ipykernel_launcher.py:51: UserWarning: /home/mimus/apiais/data/images/ANPR/training/masks_plate_loc/masks_579_18_augmented_image_17220.jpg is a low contrast image\n"
     ]
    },
    {
     "name": "stdout",
     "output_type": "stream",
     "text": [
      "1431 17219\n",
      "1432 17220\n",
      "1433 17221\n",
      "1434 17222\n",
      "1435 17223\n",
      "1436 17224\n"
     ]
    },
    {
     "name": "stderr",
     "output_type": "stream",
     "text": [
      "/home/mimus/anaconda3/envs/tf2/lib/python3.6/site-packages/ipykernel_launcher.py:51: UserWarning: /home/mimus/apiais/data/images/ANPR/training/masks_plate_loc/masks_253_36_augmented_image_17224.jpg is a low contrast image\n"
     ]
    },
    {
     "name": "stdout",
     "output_type": "stream",
     "text": [
      "1437 17225\n",
      "1438 17226\n",
      "1439 17227\n",
      "1440 17228\n",
      "1441 17229\n",
      "1442 17230\n",
      "1443 17231\n",
      "1444 17232\n"
     ]
    },
    {
     "name": "stderr",
     "output_type": "stream",
     "text": [
      "/home/mimus/anaconda3/envs/tf2/lib/python3.6/site-packages/ipykernel_launcher.py:51: UserWarning: /home/mimus/apiais/data/images/ANPR/training/masks_plate_loc/masks_199_43_augmented_image_17231.jpg is a low contrast image\n",
      "/home/mimus/anaconda3/envs/tf2/lib/python3.6/site-packages/ipykernel_launcher.py:51: UserWarning: /home/mimus/apiais/data/images/ANPR/training/masks_plate_loc/masks_62_31_augmented_image_17232.jpg is a low contrast image\n"
     ]
    },
    {
     "name": "stdout",
     "output_type": "stream",
     "text": [
      "1445 17233\n",
      "1446 17234\n",
      "1447 17235\n",
      "1448 17236\n"
     ]
    },
    {
     "name": "stderr",
     "output_type": "stream",
     "text": [
      "/home/mimus/anaconda3/envs/tf2/lib/python3.6/site-packages/ipykernel_launcher.py:51: UserWarning: /home/mimus/apiais/data/images/ANPR/training/masks_plate_loc/masks_470_29_augmented_image_17235.jpg is a low contrast image\n"
     ]
    },
    {
     "name": "stdout",
     "output_type": "stream",
     "text": [
      "1449 17237\n",
      "1450 17238\n",
      "1451 17239\n",
      "1452 17240\n",
      "1453 17241\n",
      "1454 17242\n"
     ]
    },
    {
     "name": "stderr",
     "output_type": "stream",
     "text": [
      "/home/mimus/anaconda3/envs/tf2/lib/python3.6/site-packages/ipykernel_launcher.py:51: UserWarning: /home/mimus/apiais/data/images/ANPR/training/masks_plate_loc/masks_52_32_augmented_image_17241.jpg is a low contrast image\n"
     ]
    },
    {
     "name": "stdout",
     "output_type": "stream",
     "text": [
      "1455 17243\n",
      "1456 17244\n",
      "1457 17245\n",
      "1458 17246\n"
     ]
    },
    {
     "name": "stderr",
     "output_type": "stream",
     "text": [
      "/home/mimus/anaconda3/envs/tf2/lib/python3.6/site-packages/ipykernel_launcher.py:51: UserWarning: /home/mimus/apiais/data/images/ANPR/training/masks_plate_loc/masks_161_0_augmented_image_10555_augmented_image_17246.jpg is a low contrast image\n"
     ]
    },
    {
     "name": "stdout",
     "output_type": "stream",
     "text": [
      "1459 17247\n",
      "1460 17248\n",
      "1461 17249\n",
      "1462 17250\n"
     ]
    },
    {
     "name": "stderr",
     "output_type": "stream",
     "text": [
      "/home/mimus/anaconda3/envs/tf2/lib/python3.6/site-packages/ipykernel_launcher.py:51: UserWarning: /home/mimus/apiais/data/images/ANPR/training/masks_plate_loc/masks_391_36_augmented_image_17249.jpg is a low contrast image\n",
      "/home/mimus/anaconda3/envs/tf2/lib/python3.6/site-packages/ipykernel_launcher.py:51: UserWarning: /home/mimus/apiais/data/images/ANPR/training/masks_plate_loc/masks_124_42_augmented_image_14211_augmented_image_17250.jpg is a low contrast image\n"
     ]
    },
    {
     "name": "stdout",
     "output_type": "stream",
     "text": [
      "1463 17251\n",
      "1464 17252\n",
      "1465 17253\n",
      "1466 17254\n",
      "1467 17255\n"
     ]
    },
    {
     "name": "stderr",
     "output_type": "stream",
     "text": [
      "/home/mimus/anaconda3/envs/tf2/lib/python3.6/site-packages/ipykernel_launcher.py:51: UserWarning: /home/mimus/apiais/data/images/ANPR/training/masks_plate_loc/masks_395_29_augmented_image_17253.jpg is a low contrast image\n"
     ]
    },
    {
     "name": "stdout",
     "output_type": "stream",
     "text": [
      "1468 17256\n",
      "1469 17257\n"
     ]
    },
    {
     "name": "stderr",
     "output_type": "stream",
     "text": [
      "/home/mimus/anaconda3/envs/tf2/lib/python3.6/site-packages/ipykernel_launcher.py:51: UserWarning: /home/mimus/apiais/data/images/ANPR/training/masks_plate_loc/masks_363_32_augmented_image_15027_augmented_image_17256.jpg is a low contrast image\n"
     ]
    },
    {
     "name": "stdout",
     "output_type": "stream",
     "text": [
      "1470 17258\n",
      "1471 17259\n"
     ]
    },
    {
     "name": "stderr",
     "output_type": "stream",
     "text": [
      "/home/mimus/anaconda3/envs/tf2/lib/python3.6/site-packages/ipykernel_launcher.py:51: UserWarning: /home/mimus/apiais/data/images/ANPR/training/masks_plate_loc/masks_86_39_augmented_image_17258.jpg is a low contrast image\n"
     ]
    },
    {
     "name": "stdout",
     "output_type": "stream",
     "text": [
      "1472 17260\n",
      "1473 17261\n"
     ]
    },
    {
     "name": "stderr",
     "output_type": "stream",
     "text": [
      "/home/mimus/anaconda3/envs/tf2/lib/python3.6/site-packages/ipykernel_launcher.py:51: UserWarning: /home/mimus/apiais/data/images/ANPR/training/masks_plate_loc/masks_392_36_augmented_image_17261.jpg is a low contrast image\n",
      "/home/mimus/anaconda3/envs/tf2/lib/python3.6/site-packages/ipykernel_launcher.py:51: UserWarning: /home/mimus/apiais/data/images/ANPR/training/masks_plate_loc/masks_205_25_augmented_image_17262.jpg is a low contrast image\n"
     ]
    },
    {
     "name": "stdout",
     "output_type": "stream",
     "text": [
      "1474 17262\n",
      "1475 17263\n",
      "1476 17264\n",
      "1477 17265\n"
     ]
    },
    {
     "name": "stderr",
     "output_type": "stream",
     "text": [
      "/home/mimus/anaconda3/envs/tf2/lib/python3.6/site-packages/ipykernel_launcher.py:51: UserWarning: /home/mimus/apiais/data/images/ANPR/training/masks_plate_loc/masks_444_39_augmented_image_14831_augmented_image_17265.jpg is a low contrast image\n"
     ]
    },
    {
     "name": "stdout",
     "output_type": "stream",
     "text": [
      "1478 17266\n",
      "1479 17267\n",
      "1480 17268\n",
      "1481 17269\n",
      "1482 17270\n",
      "1483 17271\n",
      "1484 17272\n"
     ]
    },
    {
     "name": "stderr",
     "output_type": "stream",
     "text": [
      "/home/mimus/anaconda3/envs/tf2/lib/python3.6/site-packages/ipykernel_launcher.py:51: UserWarning: /home/mimus/apiais/data/images/ANPR/training/masks_plate_loc/masks_517_29_augmented_image_17271.jpg is a low contrast image\n",
      "/home/mimus/anaconda3/envs/tf2/lib/python3.6/site-packages/ipykernel_launcher.py:51: UserWarning: /home/mimus/apiais/data/images/ANPR/training/masks_plate_loc/masks_295_34_augmented_image_17272.jpg is a low contrast image\n",
      "/home/mimus/anaconda3/envs/tf2/lib/python3.6/site-packages/ipykernel_launcher.py:51: UserWarning: /home/mimus/apiais/data/images/ANPR/training/masks_plate_loc/masks_63_31_augmented_image_17273.jpg is a low contrast image\n"
     ]
    },
    {
     "name": "stdout",
     "output_type": "stream",
     "text": [
      "1485 17273\n",
      "1486 17274\n"
     ]
    },
    {
     "name": "stderr",
     "output_type": "stream",
     "text": [
      "/home/mimus/anaconda3/envs/tf2/lib/python3.6/site-packages/ipykernel_launcher.py:51: UserWarning: /home/mimus/apiais/data/images/ANPR/training/masks_plate_loc/masks_115_18_augmented_image_17274.jpg is a low contrast image\n"
     ]
    },
    {
     "name": "stdout",
     "output_type": "stream",
     "text": [
      "1487 17275\n",
      "1488 17276\n",
      "1489 17277\n",
      "1490 17278\n",
      "1491 17279\n",
      "1492 17280\n",
      "1493 17281\n"
     ]
    },
    {
     "name": "stderr",
     "output_type": "stream",
     "text": [
      "/home/mimus/anaconda3/envs/tf2/lib/python3.6/site-packages/ipykernel_launcher.py:51: UserWarning: /home/mimus/apiais/data/images/ANPR/training/masks_plate_loc/masks_59_20_augmented_image_9893_augmented_image_17280.jpg is a low contrast image\n"
     ]
    },
    {
     "name": "stdout",
     "output_type": "stream",
     "text": [
      "1494 17282\n",
      "1495 17283\n",
      "1496 17284\n",
      "1497 17285\n"
     ]
    },
    {
     "name": "stderr",
     "output_type": "stream",
     "text": [
      "/home/mimus/anaconda3/envs/tf2/lib/python3.6/site-packages/ipykernel_launcher.py:51: UserWarning: /home/mimus/apiais/data/images/ANPR/training/masks_plate_loc/masks_309_28_augmented_image_17284.jpg is a low contrast image\n",
      "/home/mimus/anaconda3/envs/tf2/lib/python3.6/site-packages/ipykernel_launcher.py:51: UserWarning: /home/mimus/apiais/data/images/ANPR/training/masks_plate_loc/masks_51_29_augmented_image_10325_augmented_image_17285.jpg is a low contrast image\n"
     ]
    },
    {
     "name": "stdout",
     "output_type": "stream",
     "text": [
      "1498 17286\n",
      "1499 17287\n"
     ]
    },
    {
     "name": "stderr",
     "output_type": "stream",
     "text": [
      "/home/mimus/anaconda3/envs/tf2/lib/python3.6/site-packages/ipykernel_launcher.py:51: UserWarning: /home/mimus/apiais/data/images/ANPR/training/masks_plate_loc/masks_18_37_augmented_image_14375_augmented_image_17287.jpg is a low contrast image\n",
      "/home/mimus/anaconda3/envs/tf2/lib/python3.6/site-packages/ipykernel_launcher.py:51: UserWarning: /home/mimus/apiais/data/images/ANPR/training/masks_plate_loc/masks_78_39_augmented_image_17288.jpg is a low contrast image\n"
     ]
    },
    {
     "name": "stdout",
     "output_type": "stream",
     "text": [
      "1500 17288\n",
      "1501 17289\n",
      "1502 17290\n",
      "1503 17291\n",
      "1504 17292\n",
      "1505 17293\n",
      "1506 17294\n",
      "1507 17295\n",
      "1508 17296\n"
     ]
    },
    {
     "name": "stderr",
     "output_type": "stream",
     "text": [
      "/home/mimus/anaconda3/envs/tf2/lib/python3.6/site-packages/ipykernel_launcher.py:51: UserWarning: /home/mimus/apiais/data/images/ANPR/training/masks_plate_loc/masks_52_30_1_augmented_image_17294.jpg is a low contrast image\n",
      "/home/mimus/anaconda3/envs/tf2/lib/python3.6/site-packages/ipykernel_launcher.py:51: UserWarning: /home/mimus/apiais/data/images/ANPR/training/masks_plate_loc/masks_288_29_augmented_image_17295.jpg is a low contrast image\n"
     ]
    },
    {
     "name": "stdout",
     "output_type": "stream",
     "text": [
      "1509 17297\n",
      "1510 17298\n"
     ]
    },
    {
     "name": "stderr",
     "output_type": "stream",
     "text": [
      "/home/mimus/anaconda3/envs/tf2/lib/python3.6/site-packages/ipykernel_launcher.py:51: UserWarning: /home/mimus/apiais/data/images/ANPR/training/masks_plate_loc/masks_305_29_augmented_image_17298.jpg is a low contrast image\n"
     ]
    },
    {
     "name": "stdout",
     "output_type": "stream",
     "text": [
      "1511 17299\n",
      "1512 17300\n",
      "1513 17301\n",
      "1514 17302\n",
      "1515 17303\n"
     ]
    },
    {
     "name": "stderr",
     "output_type": "stream",
     "text": [
      "/home/mimus/anaconda3/envs/tf2/lib/python3.6/site-packages/ipykernel_launcher.py:51: UserWarning: /home/mimus/apiais/data/images/ANPR/training/masks_plate_loc/masks_50_31_augmented_image_17302.jpg is a low contrast image\n",
      "/home/mimus/anaconda3/envs/tf2/lib/python3.6/site-packages/ipykernel_launcher.py:51: UserWarning: /home/mimus/apiais/data/images/ANPR/training/masks_plate_loc/masks_532_0_augmented_image_10687_augmented_image_17303.jpg is a low contrast image\n"
     ]
    },
    {
     "name": "stdout",
     "output_type": "stream",
     "text": [
      "1516 17304\n",
      "1517 17305\n",
      "1518 17306\n"
     ]
    },
    {
     "name": "stderr",
     "output_type": "stream",
     "text": [
      "/home/mimus/anaconda3/envs/tf2/lib/python3.6/site-packages/ipykernel_launcher.py:51: UserWarning: /home/mimus/apiais/data/images/ANPR/training/masks_plate_loc/masks_745_32_augmented_image_14077_augmented_image_17304.jpg is a low contrast image\n"
     ]
    },
    {
     "name": "stdout",
     "output_type": "stream",
     "text": [
      "1519 17307\n",
      "1520 17308\n"
     ]
    },
    {
     "name": "stderr",
     "output_type": "stream",
     "text": [
      "/home/mimus/anaconda3/envs/tf2/lib/python3.6/site-packages/ipykernel_launcher.py:51: UserWarning: /home/mimus/apiais/data/images/ANPR/training/masks_plate_loc/masks_804_32_augmented_image_17307.jpg is a low contrast image\n"
     ]
    },
    {
     "name": "stdout",
     "output_type": "stream",
     "text": [
      "1521 17309\n",
      "1522 17310\n"
     ]
    },
    {
     "name": "stderr",
     "output_type": "stream",
     "text": [
      "/home/mimus/anaconda3/envs/tf2/lib/python3.6/site-packages/ipykernel_launcher.py:51: UserWarning: /home/mimus/apiais/data/images/ANPR/training/masks_plate_loc/masks_477_18_augmented_image_17310.jpg is a low contrast image\n"
     ]
    },
    {
     "name": "stdout",
     "output_type": "stream",
     "text": [
      "1523 17311\n",
      "1524 17312\n",
      "1525 17313\n",
      "1526 17314\n",
      "1527 17315\n",
      "1528 17316\n",
      "1529 17317\n"
     ]
    },
    {
     "name": "stderr",
     "output_type": "stream",
     "text": [
      "/home/mimus/anaconda3/envs/tf2/lib/python3.6/site-packages/ipykernel_launcher.py:51: UserWarning: /home/mimus/apiais/data/images/ANPR/training/masks_plate_loc/masks_160_32_augmented_image_17316.jpg is a low contrast image\n"
     ]
    },
    {
     "name": "stdout",
     "output_type": "stream",
     "text": [
      "1530 17318\n",
      "1531 17319\n",
      "1532 17320\n",
      "1533 17321\n"
     ]
    },
    {
     "name": "stderr",
     "output_type": "stream",
     "text": [
      "/home/mimus/anaconda3/envs/tf2/lib/python3.6/site-packages/ipykernel_launcher.py:51: UserWarning: /home/mimus/apiais/data/images/ANPR/training/masks_plate_loc/masks_4_32_augmented_image_10129_augmented_image_17320.jpg is a low contrast image\n"
     ]
    },
    {
     "name": "stdout",
     "output_type": "stream",
     "text": [
      "1534 17322\n",
      "1535 17323\n",
      "1536 17324\n",
      "1537 17325\n",
      "1538 17326\n",
      "1539 17327\n"
     ]
    },
    {
     "name": "stderr",
     "output_type": "stream",
     "text": [
      "/home/mimus/anaconda3/envs/tf2/lib/python3.6/site-packages/ipykernel_launcher.py:51: UserWarning: /home/mimus/apiais/data/images/ANPR/training/masks_plate_loc/masks_1_18_augmented_image_17326.jpg is a low contrast image\n"
     ]
    },
    {
     "name": "stdout",
     "output_type": "stream",
     "text": [
      "1540 17328\n",
      "1541 17329\n",
      "1542 17330\n",
      "1543 17331\n",
      "1544 17332\n",
      "1545 17333\n"
     ]
    },
    {
     "name": "stderr",
     "output_type": "stream",
     "text": [
      "/home/mimus/anaconda3/envs/tf2/lib/python3.6/site-packages/ipykernel_launcher.py:51: UserWarning: /home/mimus/apiais/data/images/ANPR/training/masks_plate_loc/masks_419_39_augmented_image_12779_augmented_image_17332.jpg is a low contrast image\n"
     ]
    },
    {
     "name": "stdout",
     "output_type": "stream",
     "text": [
      "1546 17334\n",
      "1547 17335\n"
     ]
    },
    {
     "name": "stderr",
     "output_type": "stream",
     "text": [
      "/home/mimus/anaconda3/envs/tf2/lib/python3.6/site-packages/ipykernel_launcher.py:51: UserWarning: /home/mimus/apiais/data/images/ANPR/training/masks_plate_loc/masks_407_39_augmented_image_17335.jpg is a low contrast image\n"
     ]
    },
    {
     "name": "stdout",
     "output_type": "stream",
     "text": [
      "1548 17336\n",
      "1549 17337\n"
     ]
    },
    {
     "name": "stderr",
     "output_type": "stream",
     "text": [
      "/home/mimus/anaconda3/envs/tf2/lib/python3.6/site-packages/ipykernel_launcher.py:51: UserWarning: /home/mimus/apiais/data/images/ANPR/training/masks_plate_loc/masks_33_7_augmented_image_17337.jpg is a low contrast image\n"
     ]
    },
    {
     "name": "stdout",
     "output_type": "stream",
     "text": [
      "1550 17338\n",
      "1551 17339\n",
      "1552 17340\n",
      "1553 17341\n"
     ]
    },
    {
     "name": "stderr",
     "output_type": "stream",
     "text": [
      "/home/mimus/anaconda3/envs/tf2/lib/python3.6/site-packages/ipykernel_launcher.py:51: UserWarning: /home/mimus/apiais/data/images/ANPR/training/masks_plate_loc/masks_55_9_augmented_image_17340.jpg is a low contrast image\n"
     ]
    },
    {
     "name": "stdout",
     "output_type": "stream",
     "text": [
      "1554 17342\n",
      "1555 17343\n",
      "1556 17344\n",
      "1557 17345\n"
     ]
    },
    {
     "name": "stderr",
     "output_type": "stream",
     "text": [
      "/home/mimus/anaconda3/envs/tf2/lib/python3.6/site-packages/ipykernel_launcher.py:51: UserWarning: /home/mimus/apiais/data/images/ANPR/training/masks_plate_loc/masks_14_12_augmented_image_17344.jpg is a low contrast image\n",
      "/home/mimus/anaconda3/envs/tf2/lib/python3.6/site-packages/ipykernel_launcher.py:51: UserWarning: /home/mimus/apiais/data/images/ANPR/training/masks_plate_loc/masks_137_39_augmented_image_17345.jpg is a low contrast image\n"
     ]
    },
    {
     "name": "stdout",
     "output_type": "stream",
     "text": [
      "1558 17346\n",
      "1559 17347\n",
      "1560 17348\n",
      "1561 17349\n",
      "1562 17350\n",
      "1563 17351\n"
     ]
    },
    {
     "name": "stderr",
     "output_type": "stream",
     "text": [
      "/home/mimus/anaconda3/envs/tf2/lib/python3.6/site-packages/ipykernel_launcher.py:51: UserWarning: /home/mimus/apiais/data/images/ANPR/training/masks_plate_loc/masks_450_18_augmented_image_11506_augmented_image_17351.jpg is a low contrast image\n",
      "/home/mimus/anaconda3/envs/tf2/lib/python3.6/site-packages/ipykernel_launcher.py:51: UserWarning: /home/mimus/apiais/data/images/ANPR/training/masks_plate_loc/masks_32_11_augmented_image_17352.jpg is a low contrast image\n"
     ]
    },
    {
     "name": "stdout",
     "output_type": "stream",
     "text": [
      "1564 17352\n",
      "1565 17353\n"
     ]
    },
    {
     "name": "stderr",
     "output_type": "stream",
     "text": [
      "/home/mimus/anaconda3/envs/tf2/lib/python3.6/site-packages/ipykernel_launcher.py:51: UserWarning: /home/mimus/apiais/data/images/ANPR/training/masks_plate_loc/masks_357_29_augmented_image_17353.jpg is a low contrast image\n",
      "/home/mimus/anaconda3/envs/tf2/lib/python3.6/site-packages/ipykernel_launcher.py:51: UserWarning: /home/mimus/apiais/data/images/ANPR/training/masks_plate_loc/masks_559_34_augmented_image_17355.jpg is a low contrast image\n"
     ]
    },
    {
     "name": "stdout",
     "output_type": "stream",
     "text": [
      "1566 17354\n",
      "1567 17355\n",
      "1568 17356\n",
      "1569 17357\n",
      "1570 17358\n",
      "1571 17359\n",
      "1572 17360\n"
     ]
    },
    {
     "name": "stderr",
     "output_type": "stream",
     "text": [
      "/home/mimus/anaconda3/envs/tf2/lib/python3.6/site-packages/ipykernel_launcher.py:51: UserWarning: /home/mimus/apiais/data/images/ANPR/training/masks_plate_loc/masks_82_1_3_augmented_image_11223_augmented_image_17359.jpg is a low contrast image\n",
      "/home/mimus/anaconda3/envs/tf2/lib/python3.6/site-packages/ipykernel_launcher.py:51: UserWarning: /home/mimus/apiais/data/images/ANPR/training/masks_plate_loc/masks_44_augmented_image_17361.jpg is a low contrast image\n"
     ]
    },
    {
     "name": "stdout",
     "output_type": "stream",
     "text": [
      "1573 17361\n",
      "1574 17362\n",
      "1575 17363\n",
      "1576 17364\n",
      "1577 17365\n",
      "1578 17366\n"
     ]
    },
    {
     "name": "stderr",
     "output_type": "stream",
     "text": [
      "/home/mimus/anaconda3/envs/tf2/lib/python3.6/site-packages/ipykernel_launcher.py:51: UserWarning: /home/mimus/apiais/data/images/ANPR/training/masks_plate_loc/masks_140_20_augmented_image_9167_augmented_image_17366.jpg is a low contrast image\n"
     ]
    },
    {
     "name": "stdout",
     "output_type": "stream",
     "text": [
      "1579 17367\n",
      "1580 17368\n"
     ]
    },
    {
     "name": "stderr",
     "output_type": "stream",
     "text": [
      "/home/mimus/anaconda3/envs/tf2/lib/python3.6/site-packages/ipykernel_launcher.py:51: UserWarning: /home/mimus/apiais/data/images/ANPR/training/masks_plate_loc/masks_324_0_augmented_image_17368.jpg is a low contrast image\n"
     ]
    },
    {
     "name": "stdout",
     "output_type": "stream",
     "text": [
      "1581 17369\n",
      "1582 17370\n",
      "1583 17371\n",
      "1584 17372\n",
      "1585 17373\n"
     ]
    },
    {
     "name": "stderr",
     "output_type": "stream",
     "text": [
      "/home/mimus/anaconda3/envs/tf2/lib/python3.6/site-packages/ipykernel_launcher.py:51: UserWarning: /home/mimus/apiais/data/images/ANPR/training/masks_plate_loc/masks_217_32_augmented_image_9680_augmented_image_17371.jpg is a low contrast image\n"
     ]
    },
    {
     "name": "stdout",
     "output_type": "stream",
     "text": [
      "1586 17374\n",
      "1587 17375\n"
     ]
    },
    {
     "name": "stderr",
     "output_type": "stream",
     "text": [
      "/home/mimus/anaconda3/envs/tf2/lib/python3.6/site-packages/ipykernel_launcher.py:51: UserWarning: /home/mimus/apiais/data/images/ANPR/training/masks_plate_loc/masks_181_24_augmented_image_10549_augmented_image_17374.jpg is a low contrast image\n"
     ]
    },
    {
     "name": "stdout",
     "output_type": "stream",
     "text": [
      "1588 17376\n",
      "1589 17377\n",
      "1590 17378\n",
      "1591 17379\n",
      "1592 17380\n"
     ]
    },
    {
     "name": "stderr",
     "output_type": "stream",
     "text": [
      "/home/mimus/anaconda3/envs/tf2/lib/python3.6/site-packages/ipykernel_launcher.py:51: UserWarning: /home/mimus/apiais/data/images/ANPR/training/masks_plate_loc/masks_16_39_augmented_image_14545_augmented_image_17379.jpg is a low contrast image\n",
      "/home/mimus/anaconda3/envs/tf2/lib/python3.6/site-packages/ipykernel_launcher.py:51: UserWarning: /home/mimus/apiais/data/images/ANPR/training/masks_plate_loc/masks_236_42_augmented_image_12043_augmented_image_17380.jpg is a low contrast image\n"
     ]
    },
    {
     "name": "stdout",
     "output_type": "stream",
     "text": [
      "1593 17381\n",
      "1594 17382\n",
      "1595 17383\n",
      "1596 17384\n"
     ]
    },
    {
     "name": "stderr",
     "output_type": "stream",
     "text": [
      "/home/mimus/anaconda3/envs/tf2/lib/python3.6/site-packages/ipykernel_launcher.py:51: UserWarning: /home/mimus/apiais/data/images/ANPR/training/masks_plate_loc/masks_53_4_augmented_image_17383.jpg is a low contrast image\n"
     ]
    },
    {
     "name": "stdout",
     "output_type": "stream",
     "text": [
      "1597 17385\n",
      "1598 17386\n",
      "1599 17387\n",
      "1600 17388\n"
     ]
    },
    {
     "name": "stderr",
     "output_type": "stream",
     "text": [
      "/home/mimus/anaconda3/envs/tf2/lib/python3.6/site-packages/ipykernel_launcher.py:51: UserWarning: /home/mimus/apiais/data/images/ANPR/training/masks_plate_loc/masks_428_39_augmented_image_17387.jpg is a low contrast image\n"
     ]
    },
    {
     "name": "stdout",
     "output_type": "stream",
     "text": [
      "1601 17389\n",
      "1602 17390\n",
      "1603 17391\n"
     ]
    },
    {
     "name": "stderr",
     "output_type": "stream",
     "text": [
      "/home/mimus/anaconda3/envs/tf2/lib/python3.6/site-packages/ipykernel_launcher.py:51: UserWarning: /home/mimus/apiais/data/images/ANPR/training/masks_plate_loc/masks_313_32_augmented_image_13149_augmented_image_17390.jpg is a low contrast image\n"
     ]
    },
    {
     "name": "stdout",
     "output_type": "stream",
     "text": [
      "1604 17392\n",
      "1605 17393\n",
      "1606 17394\n"
     ]
    },
    {
     "name": "stderr",
     "output_type": "stream",
     "text": [
      "/home/mimus/anaconda3/envs/tf2/lib/python3.6/site-packages/ipykernel_launcher.py:51: UserWarning: /home/mimus/apiais/data/images/ANPR/training/masks_plate_loc/masks_8_36_augmented_image_17393.jpg is a low contrast image\n",
      "/home/mimus/anaconda3/envs/tf2/lib/python3.6/site-packages/ipykernel_launcher.py:51: UserWarning: /home/mimus/apiais/data/images/ANPR/training/masks_plate_loc/masks_79_24_augmented_image_17394.jpg is a low contrast image\n"
     ]
    },
    {
     "name": "stdout",
     "output_type": "stream",
     "text": [
      "1607 17395\n",
      "1608 17396\n"
     ]
    },
    {
     "name": "stderr",
     "output_type": "stream",
     "text": [
      "/home/mimus/anaconda3/envs/tf2/lib/python3.6/site-packages/ipykernel_launcher.py:51: UserWarning: /home/mimus/apiais/data/images/ANPR/training/masks_plate_loc/masks_68_39_augmented_image_17395.jpg is a low contrast image\n"
     ]
    },
    {
     "name": "stdout",
     "output_type": "stream",
     "text": [
      "1609 17397\n",
      "1610 17398\n"
     ]
    },
    {
     "name": "stderr",
     "output_type": "stream",
     "text": [
      "/home/mimus/anaconda3/envs/tf2/lib/python3.6/site-packages/ipykernel_launcher.py:51: UserWarning: /home/mimus/apiais/data/images/ANPR/training/masks_plate_loc/masks_263_33_augmented_image_17398.jpg is a low contrast image\n",
      "/home/mimus/anaconda3/envs/tf2/lib/python3.6/site-packages/ipykernel_launcher.py:51: UserWarning: /home/mimus/apiais/data/images/ANPR/training/masks_plate_loc/masks_45_34_augmented_image_17399.jpg is a low contrast image\n"
     ]
    },
    {
     "name": "stdout",
     "output_type": "stream",
     "text": [
      "1611 17399\n",
      "1612 17400\n",
      "1613 17401\n",
      "1614 17402\n"
     ]
    },
    {
     "name": "stderr",
     "output_type": "stream",
     "text": [
      "/home/mimus/anaconda3/envs/tf2/lib/python3.6/site-packages/ipykernel_launcher.py:51: UserWarning: /home/mimus/apiais/data/images/ANPR/training/masks_plate_loc/masks_106_28_augmented_image_17401.jpg is a low contrast image\n"
     ]
    },
    {
     "name": "stdout",
     "output_type": "stream",
     "text": [
      "1615 17403\n",
      "1616 17404\n"
     ]
    },
    {
     "name": "stderr",
     "output_type": "stream",
     "text": [
      "/home/mimus/anaconda3/envs/tf2/lib/python3.6/site-packages/ipykernel_launcher.py:51: UserWarning: /home/mimus/apiais/data/images/ANPR/training/masks_plate_loc/masks_181_27_augmented_image_15673_augmented_image_17403.jpg is a low contrast image\n",
      "/home/mimus/anaconda3/envs/tf2/lib/python3.6/site-packages/ipykernel_launcher.py:51: UserWarning: /home/mimus/apiais/data/images/ANPR/training/masks_plate_loc/masks_138_29_augmented_image_17404.jpg is a low contrast image\n"
     ]
    },
    {
     "name": "stdout",
     "output_type": "stream",
     "text": [
      "1617 17405\n",
      "1618 17406\n",
      "1619 17407\n",
      "1620 17408\n"
     ]
    },
    {
     "name": "stderr",
     "output_type": "stream",
     "text": [
      "/home/mimus/anaconda3/envs/tf2/lib/python3.6/site-packages/ipykernel_launcher.py:51: UserWarning: /home/mimus/apiais/data/images/ANPR/training/masks_plate_loc/masks_13_18_augmented_image_17407.jpg is a low contrast image\n",
      "/home/mimus/anaconda3/envs/tf2/lib/python3.6/site-packages/ipykernel_launcher.py:51: UserWarning: /home/mimus/apiais/data/images/ANPR/training/masks_plate_loc/masks_7_39_augmented_image_17409.jpg is a low contrast image\n"
     ]
    },
    {
     "name": "stdout",
     "output_type": "stream",
     "text": [
      "1621 17409\n",
      "1622 17410\n",
      "1623 17411\n",
      "1624 17412\n",
      "1625 17413\n",
      "1626 17414\n"
     ]
    },
    {
     "name": "stderr",
     "output_type": "stream",
     "text": [
      "/home/mimus/anaconda3/envs/tf2/lib/python3.6/site-packages/ipykernel_launcher.py:51: UserWarning: /home/mimus/apiais/data/images/ANPR/training/masks_plate_loc/masks_487_18_augmented_image_17414.jpg is a low contrast image\n"
     ]
    },
    {
     "name": "stdout",
     "output_type": "stream",
     "text": [
      "1627 17415\n",
      "1628 17416\n",
      "1629 17417\n",
      "1630 17418\n",
      "1631 17419\n"
     ]
    },
    {
     "name": "stderr",
     "output_type": "stream",
     "text": [
      "/home/mimus/anaconda3/envs/tf2/lib/python3.6/site-packages/ipykernel_launcher.py:51: UserWarning: /home/mimus/apiais/data/images/ANPR/training/masks_plate_loc/masks_317_29_augmented_image_17419.jpg is a low contrast image\n",
      "/home/mimus/anaconda3/envs/tf2/lib/python3.6/site-packages/ipykernel_launcher.py:51: UserWarning: /home/mimus/apiais/data/images/ANPR/training/masks_plate_loc/masks_185_43_augmented_image_17420.jpg is a low contrast image\n",
      "/home/mimus/anaconda3/envs/tf2/lib/python3.6/site-packages/ipykernel_launcher.py:51: UserWarning: /home/mimus/apiais/data/images/ANPR/training/masks_plate_loc/masks_351_0_augmented_image_17421.jpg is a low contrast image\n"
     ]
    },
    {
     "name": "stdout",
     "output_type": "stream",
     "text": [
      "1632 17420\n",
      "1633 17421\n",
      "1634 17422\n",
      "1635 17423\n",
      "1636 17424\n",
      "1637 17425\n",
      "1638 17426\n",
      "1639 17427\n",
      "1640 17428\n",
      "1641 17429\n",
      "1642 17430\n",
      "1643 17431\n",
      "1644 17432\n",
      "1645 17433\n",
      "1646 17434\n",
      "1647 17435\n"
     ]
    },
    {
     "name": "stderr",
     "output_type": "stream",
     "text": [
      "/home/mimus/anaconda3/envs/tf2/lib/python3.6/site-packages/ipykernel_launcher.py:51: UserWarning: /home/mimus/apiais/data/images/ANPR/training/masks_plate_loc/masks_78_23_augmented_image_17434.jpg is a low contrast image\n"
     ]
    },
    {
     "name": "stdout",
     "output_type": "stream",
     "text": [
      "1648 17436\n",
      "1649 17437\n",
      "1650 17438\n",
      "1651 17439\n"
     ]
    },
    {
     "name": "stderr",
     "output_type": "stream",
     "text": [
      "/home/mimus/anaconda3/envs/tf2/lib/python3.6/site-packages/ipykernel_launcher.py:51: UserWarning: /home/mimus/apiais/data/images/ANPR/training/masks_plate_loc/masks_13_8_augmented_image_8925_augmented_image_17438.jpg is a low contrast image\n",
      "/home/mimus/anaconda3/envs/tf2/lib/python3.6/site-packages/ipykernel_launcher.py:51: UserWarning: /home/mimus/apiais/data/images/ANPR/training/masks_plate_loc/masks_423_32_augmented_image_17439.jpg is a low contrast image\n"
     ]
    },
    {
     "name": "stdout",
     "output_type": "stream",
     "text": [
      "1652 17440\n",
      "1653 17441\n"
     ]
    },
    {
     "name": "stderr",
     "output_type": "stream",
     "text": [
      "/home/mimus/anaconda3/envs/tf2/lib/python3.6/site-packages/ipykernel_launcher.py:51: UserWarning: /home/mimus/apiais/data/images/ANPR/training/masks_plate_loc/masks_274_32_augmented_image_17440.jpg is a low contrast image\n",
      "/home/mimus/anaconda3/envs/tf2/lib/python3.6/site-packages/ipykernel_launcher.py:51: UserWarning: /home/mimus/apiais/data/images/ANPR/training/masks_plate_loc/masks_47_5_augmented_image_17441.jpg is a low contrast image\n"
     ]
    },
    {
     "name": "stdout",
     "output_type": "stream",
     "text": [
      "1654 17442\n",
      "1655 17443\n",
      "1656 17444\n"
     ]
    },
    {
     "name": "stderr",
     "output_type": "stream",
     "text": [
      "/home/mimus/anaconda3/envs/tf2/lib/python3.6/site-packages/ipykernel_launcher.py:51: UserWarning: /home/mimus/apiais/data/images/ANPR/training/masks_plate_loc/masks_51_9_augmented_image_17443.jpg is a low contrast image\n"
     ]
    },
    {
     "name": "stdout",
     "output_type": "stream",
     "text": [
      "1657 17445\n",
      "1658 17446\n"
     ]
    },
    {
     "name": "stderr",
     "output_type": "stream",
     "text": [
      "/home/mimus/anaconda3/envs/tf2/lib/python3.6/site-packages/ipykernel_launcher.py:51: UserWarning: /home/mimus/apiais/data/images/ANPR/training/masks_plate_loc/masks_280_39_augmented_image_10302_augmented_image_17446.jpg is a low contrast image\n"
     ]
    },
    {
     "name": "stdout",
     "output_type": "stream",
     "text": [
      "1659 17447\n",
      "1660 17448\n",
      "1661 17449\n",
      "1662 17450\n",
      "1663 17451\n",
      "1664 17452\n"
     ]
    },
    {
     "name": "stderr",
     "output_type": "stream",
     "text": [
      "/home/mimus/anaconda3/envs/tf2/lib/python3.6/site-packages/ipykernel_launcher.py:51: UserWarning: /home/mimus/apiais/data/images/ANPR/training/masks_plate_loc/masks_130_43_augmented_image_17451.jpg is a low contrast image\n"
     ]
    },
    {
     "name": "stdout",
     "output_type": "stream",
     "text": [
      "1665 17453\n",
      "1666 17454\n",
      "1667 17455\n",
      "1668 17456\n"
     ]
    },
    {
     "name": "stderr",
     "output_type": "stream",
     "text": [
      "/home/mimus/anaconda3/envs/tf2/lib/python3.6/site-packages/ipykernel_launcher.py:51: UserWarning: /home/mimus/apiais/data/images/ANPR/training/masks_plate_loc/masks_114_23_augmented_image_17456.jpg is a low contrast image\n"
     ]
    },
    {
     "name": "stdout",
     "output_type": "stream",
     "text": [
      "1669 17457\n",
      "1670 17458\n"
     ]
    },
    {
     "name": "stderr",
     "output_type": "stream",
     "text": [
      "/home/mimus/anaconda3/envs/tf2/lib/python3.6/site-packages/ipykernel_launcher.py:51: UserWarning: /home/mimus/apiais/data/images/ANPR/training/masks_plate_loc/masks_354_39_augmented_image_14234_augmented_image_17458.jpg is a low contrast image\n"
     ]
    },
    {
     "name": "stdout",
     "output_type": "stream",
     "text": [
      "1671 17459\n",
      "1672 17460\n",
      "1673 17461\n"
     ]
    },
    {
     "name": "stderr",
     "output_type": "stream",
     "text": [
      "/home/mimus/anaconda3/envs/tf2/lib/python3.6/site-packages/ipykernel_launcher.py:51: UserWarning: /home/mimus/apiais/data/images/ANPR/training/masks_plate_loc/masks_193_29_augmented_image_14972_augmented_image_17460.jpg is a low contrast image\n"
     ]
    },
    {
     "name": "stdout",
     "output_type": "stream",
     "text": [
      "1674 17462\n",
      "1675 17463\n"
     ]
    },
    {
     "name": "stderr",
     "output_type": "stream",
     "text": [
      "/home/mimus/anaconda3/envs/tf2/lib/python3.6/site-packages/ipykernel_launcher.py:51: UserWarning: /home/mimus/apiais/data/images/ANPR/training/masks_plate_loc/masks_530_32_augmented_image_17463.jpg is a low contrast image\n",
      "/home/mimus/anaconda3/envs/tf2/lib/python3.6/site-packages/ipykernel_launcher.py:51: UserWarning: /home/mimus/apiais/data/images/ANPR/training/masks_plate_loc/masks_13_43_augmented_image_17464.jpg is a low contrast image\n"
     ]
    },
    {
     "name": "stdout",
     "output_type": "stream",
     "text": [
      "1676 17464\n",
      "1677 17465\n",
      "1678 17466\n",
      "1679 17467\n"
     ]
    },
    {
     "name": "stderr",
     "output_type": "stream",
     "text": [
      "/home/mimus/anaconda3/envs/tf2/lib/python3.6/site-packages/ipykernel_launcher.py:51: UserWarning: /home/mimus/apiais/data/images/ANPR/training/masks_plate_loc/masks_16_13_augmented_image_8564_augmented_image_17466.jpg is a low contrast image\n",
      "/home/mimus/anaconda3/envs/tf2/lib/python3.6/site-packages/ipykernel_launcher.py:51: UserWarning: /home/mimus/apiais/data/images/ANPR/training/masks_plate_loc/masks_174_28_augmented_image_17467.jpg is a low contrast image\n"
     ]
    },
    {
     "name": "stdout",
     "output_type": "stream",
     "text": [
      "1680 17468\n",
      "1681 17469\n"
     ]
    },
    {
     "name": "stderr",
     "output_type": "stream",
     "text": [
      "/home/mimus/anaconda3/envs/tf2/lib/python3.6/site-packages/ipykernel_launcher.py:51: UserWarning: /home/mimus/apiais/data/images/ANPR/training/masks_plate_loc/masks_253_39_augmented_image_17468.jpg is a low contrast image\n"
     ]
    },
    {
     "name": "stdout",
     "output_type": "stream",
     "text": [
      "1682 17470\n",
      "1683 17471\n"
     ]
    },
    {
     "name": "stderr",
     "output_type": "stream",
     "text": [
      "/home/mimus/anaconda3/envs/tf2/lib/python3.6/site-packages/ipykernel_launcher.py:51: UserWarning: /home/mimus/apiais/data/images/ANPR/training/masks_plate_loc/masks_7_23_augmented_image_13009_augmented_image_17470.jpg is a low contrast image\n"
     ]
    },
    {
     "name": "stdout",
     "output_type": "stream",
     "text": [
      "1684 17472\n",
      "1685 17473\n",
      "1686 17474\n"
     ]
    },
    {
     "name": "stderr",
     "output_type": "stream",
     "text": [
      "/home/mimus/anaconda3/envs/tf2/lib/python3.6/site-packages/ipykernel_launcher.py:51: UserWarning: /home/mimus/apiais/data/images/ANPR/training/masks_plate_loc/masks_146_42_augmented_image_17472.jpg is a low contrast image\n"
     ]
    },
    {
     "name": "stdout",
     "output_type": "stream",
     "text": [
      "1687 17475\n",
      "1688 17476\n"
     ]
    },
    {
     "name": "stderr",
     "output_type": "stream",
     "text": [
      "/home/mimus/anaconda3/envs/tf2/lib/python3.6/site-packages/ipykernel_launcher.py:51: UserWarning: /home/mimus/apiais/data/images/ANPR/training/masks_plate_loc/masks_212_42_augmented_image_17475.jpg is a low contrast image\n"
     ]
    },
    {
     "name": "stdout",
     "output_type": "stream",
     "text": [
      "1689 17477\n",
      "1690 17478\n",
      "1691 17479\n",
      "1692 17480\n",
      "1693 17481\n",
      "1694 17482\n"
     ]
    },
    {
     "name": "stderr",
     "output_type": "stream",
     "text": [
      "/home/mimus/anaconda3/envs/tf2/lib/python3.6/site-packages/ipykernel_launcher.py:51: UserWarning: /home/mimus/apiais/data/images/ANPR/training/masks_plate_loc/masks_10_16_augmented_image_11547_augmented_image_17481.jpg is a low contrast image\n",
      "/home/mimus/anaconda3/envs/tf2/lib/python3.6/site-packages/ipykernel_launcher.py:51: UserWarning: /home/mimus/apiais/data/images/ANPR/training/masks_plate_loc/masks_16_37_augmented_image_12753_augmented_image_17482.jpg is a low contrast image\n"
     ]
    },
    {
     "name": "stdout",
     "output_type": "stream",
     "text": [
      "1695 17483\n",
      "1696 17484\n",
      "1697 17485\n",
      "1698 17486\n",
      "1699 17487\n",
      "1700 17488\n",
      "1701 17489\n",
      "1702 17490\n",
      "1703 17491\n",
      "1704 17492\n",
      "1705 17493\n",
      "1706 17494\n"
     ]
    },
    {
     "name": "stderr",
     "output_type": "stream",
     "text": [
      "/home/mimus/anaconda3/envs/tf2/lib/python3.6/site-packages/ipykernel_launcher.py:51: UserWarning: /home/mimus/apiais/data/images/ANPR/training/masks_plate_loc/masks_340_32_augmented_image_17493.jpg is a low contrast image\n"
     ]
    },
    {
     "name": "stdout",
     "output_type": "stream",
     "text": [
      "1707 17495\n",
      "1708 17496\n",
      "1709 17497\n",
      "1710 17498\n",
      "1711 17499\n"
     ]
    },
    {
     "name": "stderr",
     "output_type": "stream",
     "text": [
      "/home/mimus/anaconda3/envs/tf2/lib/python3.6/site-packages/ipykernel_launcher.py:51: UserWarning: /home/mimus/apiais/data/images/ANPR/training/masks_plate_loc/masks_23_21_augmented_image_17498.jpg is a low contrast image\n"
     ]
    },
    {
     "name": "stdout",
     "output_type": "stream",
     "text": [
      "1712 17500\n",
      "1713 17501\n",
      "1714 17502\n",
      "1715 17503\n"
     ]
    },
    {
     "name": "stderr",
     "output_type": "stream",
     "text": [
      "/home/mimus/anaconda3/envs/tf2/lib/python3.6/site-packages/ipykernel_launcher.py:51: UserWarning: /home/mimus/apiais/data/images/ANPR/training/masks_plate_loc/masks_19_26_augmented_image_15654_augmented_image_17502.jpg is a low contrast image\n",
      "/home/mimus/anaconda3/envs/tf2/lib/python3.6/site-packages/ipykernel_launcher.py:51: UserWarning: /home/mimus/apiais/data/images/ANPR/training/masks_plate_loc/masks_50_42_augmented_image_11649_augmented_image_17503.jpg is a low contrast image\n"
     ]
    },
    {
     "name": "stdout",
     "output_type": "stream",
     "text": [
      "1716 17504\n",
      "1717 17505\n",
      "1718 17506\n",
      "1719 17507\n",
      "1720 17508\n",
      "1721 17509\n"
     ]
    },
    {
     "name": "stderr",
     "output_type": "stream",
     "text": [
      "/home/mimus/anaconda3/envs/tf2/lib/python3.6/site-packages/ipykernel_launcher.py:51: UserWarning: /home/mimus/apiais/data/images/ANPR/training/masks_plate_loc/masks_179_33_augmented_image_17507.jpg is a low contrast image\n",
      "/home/mimus/anaconda3/envs/tf2/lib/python3.6/site-packages/ipykernel_launcher.py:51: UserWarning: /home/mimus/apiais/data/images/ANPR/training/masks_plate_loc/masks_470_39_augmented_image_8977_augmented_image_17508.jpg is a low contrast image\n",
      "/home/mimus/anaconda3/envs/tf2/lib/python3.6/site-packages/ipykernel_launcher.py:51: UserWarning: /home/mimus/apiais/data/images/ANPR/training/masks_plate_loc/masks_67_31_augmented_image_8404_augmented_image_17509.jpg is a low contrast image\n"
     ]
    },
    {
     "name": "stdout",
     "output_type": "stream",
     "text": [
      "1722 17510\n",
      "1723 17511\n"
     ]
    },
    {
     "name": "stderr",
     "output_type": "stream",
     "text": [
      "/home/mimus/anaconda3/envs/tf2/lib/python3.6/site-packages/ipykernel_launcher.py:51: UserWarning: /home/mimus/apiais/data/images/ANPR/training/masks_plate_loc/masks_174_24_augmented_image_8815_augmented_image_17511.jpg is a low contrast image\n"
     ]
    },
    {
     "name": "stdout",
     "output_type": "stream",
     "text": [
      "1724 17512\n",
      "1725 17513\n",
      "1726 17514\n",
      "1727 17515\n",
      "1728 17516\n",
      "1729 17517\n"
     ]
    },
    {
     "name": "stderr",
     "output_type": "stream",
     "text": [
      "/home/mimus/anaconda3/envs/tf2/lib/python3.6/site-packages/ipykernel_launcher.py:51: UserWarning: /home/mimus/apiais/data/images/ANPR/training/masks_plate_loc/masks_95_29_augmented_image_17517.jpg is a low contrast image\n"
     ]
    },
    {
     "name": "stdout",
     "output_type": "stream",
     "text": [
      "1730 17518\n",
      "1731 17519\n",
      "1732 17520\n",
      "1733 17521\n"
     ]
    },
    {
     "name": "stderr",
     "output_type": "stream",
     "text": [
      "/home/mimus/anaconda3/envs/tf2/lib/python3.6/site-packages/ipykernel_launcher.py:51: UserWarning: /home/mimus/apiais/data/images/ANPR/training/masks_plate_loc/masks_40_8_augmented_image_17520.jpg is a low contrast image\n",
      "/home/mimus/anaconda3/envs/tf2/lib/python3.6/site-packages/ipykernel_launcher.py:51: UserWarning: /home/mimus/apiais/data/images/ANPR/training/masks_plate_loc/masks_58_1_3_augmented_image_17521.jpg is a low contrast image\n"
     ]
    },
    {
     "name": "stdout",
     "output_type": "stream",
     "text": [
      "1734 17522\n",
      "1735 17523\n",
      "1736 17524\n",
      "1737 17525\n",
      "1738 17526\n"
     ]
    },
    {
     "name": "stderr",
     "output_type": "stream",
     "text": [
      "/home/mimus/anaconda3/envs/tf2/lib/python3.6/site-packages/ipykernel_launcher.py:51: UserWarning: /home/mimus/apiais/data/images/ANPR/training/masks_plate_loc/masks_313_18_augmented_image_17526.jpg is a low contrast image\n"
     ]
    },
    {
     "name": "stdout",
     "output_type": "stream",
     "text": [
      "1739 17527\n",
      "1740 17528\n",
      "1741 17529\n",
      "1742 17530\n",
      "1743 17531\n",
      "1744 17532\n"
     ]
    },
    {
     "name": "stderr",
     "output_type": "stream",
     "text": [
      "/home/mimus/anaconda3/envs/tf2/lib/python3.6/site-packages/ipykernel_launcher.py:51: UserWarning: /home/mimus/apiais/data/images/ANPR/training/masks_plate_loc/masks_196_25_augmented_image_17532.jpg is a low contrast image\n"
     ]
    },
    {
     "name": "stdout",
     "output_type": "stream",
     "text": [
      "1745 17533\n",
      "1746 17534\n"
     ]
    },
    {
     "name": "stderr",
     "output_type": "stream",
     "text": [
      "/home/mimus/anaconda3/envs/tf2/lib/python3.6/site-packages/ipykernel_launcher.py:51: UserWarning: /home/mimus/apiais/data/images/ANPR/training/masks_plate_loc/masks_87_18_augmented_image_17534.jpg is a low contrast image\n"
     ]
    },
    {
     "name": "stdout",
     "output_type": "stream",
     "text": [
      "1747 17535\n",
      "1748 17536\n",
      "1749 17537\n",
      "1750 17538\n",
      "1751 17539\n",
      "1752 17540\n",
      "1753 17541\n",
      "1754 17542\n"
     ]
    },
    {
     "name": "stderr",
     "output_type": "stream",
     "text": [
      "/home/mimus/anaconda3/envs/tf2/lib/python3.6/site-packages/ipykernel_launcher.py:51: UserWarning: /home/mimus/apiais/data/images/ANPR/training/masks_plate_loc/masks_688_32_augmented_image_13505_augmented_image_17541.jpg is a low contrast image\n"
     ]
    },
    {
     "name": "stdout",
     "output_type": "stream",
     "text": [
      "1755 17543\n",
      "1756 17544\n",
      "1757 17545\n",
      "1758 17546\n",
      "1759 17547\n"
     ]
    },
    {
     "name": "stderr",
     "output_type": "stream",
     "text": [
      "/home/mimus/anaconda3/envs/tf2/lib/python3.6/site-packages/ipykernel_launcher.py:51: UserWarning: /home/mimus/apiais/data/images/ANPR/training/masks_plate_loc/masks_98_1_3_augmented_image_17546.jpg is a low contrast image\n"
     ]
    },
    {
     "name": "stdout",
     "output_type": "stream",
     "text": [
      "1760 17548\n",
      "1761 17549\n",
      "1762 17550\n",
      "1763 17551\n",
      "1764 17552\n",
      "1765 17553\n"
     ]
    },
    {
     "name": "stderr",
     "output_type": "stream",
     "text": [
      "/home/mimus/anaconda3/envs/tf2/lib/python3.6/site-packages/ipykernel_launcher.py:51: UserWarning: /home/mimus/apiais/data/images/ANPR/training/masks_plate_loc/masks_38_18_augmented_image_17552.jpg is a low contrast image\n"
     ]
    },
    {
     "name": "stdout",
     "output_type": "stream",
     "text": [
      "1766 17554\n",
      "1767 17555\n",
      "1768 17556\n"
     ]
    },
    {
     "name": "stderr",
     "output_type": "stream",
     "text": [
      "/home/mimus/anaconda3/envs/tf2/lib/python3.6/site-packages/ipykernel_launcher.py:51: UserWarning: /home/mimus/apiais/data/images/ANPR/training/masks_plate_loc/masks_380_29_augmented_image_17554.jpg is a low contrast image\n"
     ]
    },
    {
     "name": "stdout",
     "output_type": "stream",
     "text": [
      "1769 17557\n",
      "1770 17558\n"
     ]
    },
    {
     "name": "stderr",
     "output_type": "stream",
     "text": [
      "/home/mimus/anaconda3/envs/tf2/lib/python3.6/site-packages/ipykernel_launcher.py:51: UserWarning: /home/mimus/apiais/data/images/ANPR/training/masks_plate_loc/masks_339_18_augmented_image_17558.jpg is a low contrast image\n",
      "/home/mimus/anaconda3/envs/tf2/lib/python3.6/site-packages/ipykernel_launcher.py:51: UserWarning: /home/mimus/apiais/data/images/ANPR/training/masks_plate_loc/masks_0_32_augmented_image_17559.jpg is a low contrast image\n"
     ]
    },
    {
     "name": "stdout",
     "output_type": "stream",
     "text": [
      "1771 17559\n",
      "1772 17560\n",
      "1773 17561\n"
     ]
    },
    {
     "name": "stderr",
     "output_type": "stream",
     "text": [
      "/home/mimus/anaconda3/envs/tf2/lib/python3.6/site-packages/ipykernel_launcher.py:51: UserWarning: /home/mimus/apiais/data/images/ANPR/training/masks_plate_loc/masks_330_32_augmented_image_17561.jpg is a low contrast image\n",
      "/home/mimus/anaconda3/envs/tf2/lib/python3.6/site-packages/ipykernel_launcher.py:51: UserWarning: /home/mimus/apiais/data/images/ANPR/training/masks_plate_loc/masks_433_39_augmented_image_17562.jpg is a low contrast image\n"
     ]
    },
    {
     "name": "stdout",
     "output_type": "stream",
     "text": [
      "1774 17562\n",
      "1775 17563\n",
      "1776 17564\n",
      "1777 17565\n",
      "1778 17566\n"
     ]
    },
    {
     "name": "stderr",
     "output_type": "stream",
     "text": [
      "/home/mimus/anaconda3/envs/tf2/lib/python3.6/site-packages/ipykernel_launcher.py:51: UserWarning: /home/mimus/apiais/data/images/ANPR/training/masks_plate_loc/masks_17_12_augmented_image_17566.jpg is a low contrast image\n"
     ]
    },
    {
     "name": "stdout",
     "output_type": "stream",
     "text": [
      "1779 17567\n",
      "1780 17568\n",
      "1781 17569\n"
     ]
    },
    {
     "name": "stderr",
     "output_type": "stream",
     "text": [
      "/home/mimus/anaconda3/envs/tf2/lib/python3.6/site-packages/ipykernel_launcher.py:51: UserWarning: /home/mimus/apiais/data/images/ANPR/training/masks_plate_loc/masks_139_33_augmented_image_15458_augmented_image_17569.jpg is a low contrast image\n",
      "/home/mimus/anaconda3/envs/tf2/lib/python3.6/site-packages/ipykernel_launcher.py:51: UserWarning: /home/mimus/apiais/data/images/ANPR/training/masks_plate_loc/masks_496_18_augmented_image_10863_augmented_image_17570.jpg is a low contrast image\n"
     ]
    },
    {
     "name": "stdout",
     "output_type": "stream",
     "text": [
      "1782 17570\n",
      "1783 17571\n",
      "1784 17572\n",
      "1785 17573\n"
     ]
    },
    {
     "name": "stderr",
     "output_type": "stream",
     "text": [
      "/home/mimus/anaconda3/envs/tf2/lib/python3.6/site-packages/ipykernel_launcher.py:51: UserWarning: /home/mimus/apiais/data/images/ANPR/training/masks_plate_loc/masks_351_29_augmented_image_17572.jpg is a low contrast image\n",
      "/home/mimus/anaconda3/envs/tf2/lib/python3.6/site-packages/ipykernel_launcher.py:51: UserWarning: /home/mimus/apiais/data/images/ANPR/training/masks_plate_loc/masks_2_augmented_image_17573.jpg is a low contrast image\n"
     ]
    },
    {
     "name": "stdout",
     "output_type": "stream",
     "text": [
      "1786 17574\n",
      "1787 17575\n"
     ]
    },
    {
     "name": "stderr",
     "output_type": "stream",
     "text": [
      "/home/mimus/anaconda3/envs/tf2/lib/python3.6/site-packages/ipykernel_launcher.py:51: UserWarning: /home/mimus/apiais/data/images/ANPR/training/masks_plate_loc/masks_88_29_augmented_image_12406_augmented_image_17575.jpg is a low contrast image\n"
     ]
    },
    {
     "name": "stdout",
     "output_type": "stream",
     "text": [
      "1788 17576\n",
      "1789 17577\n"
     ]
    },
    {
     "name": "stderr",
     "output_type": "stream",
     "text": [
      "/home/mimus/anaconda3/envs/tf2/lib/python3.6/site-packages/ipykernel_launcher.py:51: UserWarning: /home/mimus/apiais/data/images/ANPR/training/masks_plate_loc/masks_74_42_augmented_image_17577.jpg is a low contrast image\n"
     ]
    },
    {
     "name": "stdout",
     "output_type": "stream",
     "text": [
      "1790 17578\n",
      "1791 17579\n"
     ]
    },
    {
     "name": "stderr",
     "output_type": "stream",
     "text": [
      "/home/mimus/anaconda3/envs/tf2/lib/python3.6/site-packages/ipykernel_launcher.py:51: UserWarning: /home/mimus/apiais/data/images/ANPR/training/masks_plate_loc/masks_400_39_augmented_image_15112_augmented_image_17579.jpg is a low contrast image\n",
      "/home/mimus/anaconda3/envs/tf2/lib/python3.6/site-packages/ipykernel_launcher.py:51: UserWarning: /home/mimus/apiais/data/images/ANPR/training/masks_plate_loc/masks_576_18_augmented_image_10308_augmented_image_17580.jpg is a low contrast image\n"
     ]
    },
    {
     "name": "stdout",
     "output_type": "stream",
     "text": [
      "1792 17580\n",
      "1793 17581\n",
      "1794 17582\n",
      "1795 17583\n"
     ]
    },
    {
     "name": "stderr",
     "output_type": "stream",
     "text": [
      "/home/mimus/anaconda3/envs/tf2/lib/python3.6/site-packages/ipykernel_launcher.py:51: UserWarning: /home/mimus/apiais/data/images/ANPR/training/masks_plate_loc/masks_149_42_augmented_image_17583.jpg is a low contrast image\n"
     ]
    },
    {
     "name": "stdout",
     "output_type": "stream",
     "text": [
      "1796 17584\n",
      "1797 17585\n",
      "1798 17586\n",
      "1799 17587\n"
     ]
    },
    {
     "name": "stderr",
     "output_type": "stream",
     "text": [
      "/home/mimus/anaconda3/envs/tf2/lib/python3.6/site-packages/ipykernel_launcher.py:51: UserWarning: /home/mimus/apiais/data/images/ANPR/training/masks_plate_loc/masks_92_34_augmented_image_17586.jpg is a low contrast image\n"
     ]
    },
    {
     "name": "stdout",
     "output_type": "stream",
     "text": [
      "1800 17588\n",
      "1801 17589\n",
      "1802 17590\n",
      "1803 17591\n"
     ]
    },
    {
     "name": "stderr",
     "output_type": "stream",
     "text": [
      "/home/mimus/anaconda3/envs/tf2/lib/python3.6/site-packages/ipykernel_launcher.py:51: UserWarning: /home/mimus/apiais/data/images/ANPR/training/masks_plate_loc/masks_231_24_augmented_image_17590.jpg is a low contrast image\n",
      "/home/mimus/anaconda3/envs/tf2/lib/python3.6/site-packages/ipykernel_launcher.py:51: UserWarning: /home/mimus/apiais/data/images/ANPR/training/masks_plate_loc/masks_113_28_augmented_image_8122_augmented_image_17591.jpg is a low contrast image\n"
     ]
    },
    {
     "name": "stdout",
     "output_type": "stream",
     "text": [
      "1804 17592\n",
      "1805 17593\n"
     ]
    },
    {
     "name": "stderr",
     "output_type": "stream",
     "text": [
      "/home/mimus/anaconda3/envs/tf2/lib/python3.6/site-packages/ipykernel_launcher.py:51: UserWarning: /home/mimus/apiais/data/images/ANPR/training/masks_plate_loc/masks_175_29_augmented_image_13917_augmented_image_17593.jpg is a low contrast image\n"
     ]
    },
    {
     "name": "stdout",
     "output_type": "stream",
     "text": [
      "1806 17594\n",
      "1807 17595\n",
      "1808 17596\n",
      "1809 17597\n",
      "1810 17598\n",
      "1811 17599\n",
      "1812 17600\n"
     ]
    },
    {
     "name": "stderr",
     "output_type": "stream",
     "text": [
      "/home/mimus/anaconda3/envs/tf2/lib/python3.6/site-packages/ipykernel_launcher.py:51: UserWarning: /home/mimus/apiais/data/images/ANPR/training/masks_plate_loc/masks_282_28_augmented_image_8166_augmented_image_17599.jpg is a low contrast image\n"
     ]
    },
    {
     "name": "stdout",
     "output_type": "stream",
     "text": [
      "1813 17601\n",
      "1814 17602\n",
      "1815 17603\n",
      "1816 17604\n"
     ]
    },
    {
     "name": "stderr",
     "output_type": "stream",
     "text": [
      "/home/mimus/anaconda3/envs/tf2/lib/python3.6/site-packages/ipykernel_launcher.py:51: UserWarning: /home/mimus/apiais/data/images/ANPR/training/masks_plate_loc/masks_313_42_augmented_image_17603.jpg is a low contrast image\n"
     ]
    },
    {
     "name": "stdout",
     "output_type": "stream",
     "text": [
      "1817 17605\n",
      "1818 17606\n"
     ]
    },
    {
     "name": "stderr",
     "output_type": "stream",
     "text": [
      "/home/mimus/anaconda3/envs/tf2/lib/python3.6/site-packages/ipykernel_launcher.py:51: UserWarning: /home/mimus/apiais/data/images/ANPR/training/masks_plate_loc/masks_359_0_augmented_image_17606.jpg is a low contrast image\n",
      "/home/mimus/anaconda3/envs/tf2/lib/python3.6/site-packages/ipykernel_launcher.py:51: UserWarning: /home/mimus/apiais/data/images/ANPR/training/masks_plate_loc/masks_535_18_augmented_image_11253_augmented_image_17607.jpg is a low contrast image\n"
     ]
    },
    {
     "name": "stdout",
     "output_type": "stream",
     "text": [
      "1819 17607\n",
      "1820 17608\n",
      "1821 17609\n",
      "1822 17610\n",
      "1823 17611\n",
      "1824 17612\n"
     ]
    },
    {
     "name": "stderr",
     "output_type": "stream",
     "text": [
      "/home/mimus/anaconda3/envs/tf2/lib/python3.6/site-packages/ipykernel_launcher.py:51: UserWarning: /home/mimus/apiais/data/images/ANPR/training/masks_plate_loc/masks_449_29_augmented_image_17612.jpg is a low contrast image\n"
     ]
    },
    {
     "name": "stdout",
     "output_type": "stream",
     "text": [
      "1825 17613\n",
      "1826 17614\n"
     ]
    },
    {
     "name": "stderr",
     "output_type": "stream",
     "text": [
      "/home/mimus/anaconda3/envs/tf2/lib/python3.6/site-packages/ipykernel_launcher.py:51: UserWarning: /home/mimus/apiais/data/images/ANPR/training/masks_plate_loc/masks_290_32_augmented_image_12970_augmented_image_17614.jpg is a low contrast image\n"
     ]
    },
    {
     "name": "stdout",
     "output_type": "stream",
     "text": [
      "1827 17615\n",
      "1828 17616\n",
      "1829 17617\n",
      "1830 17618\n",
      "1831 17619\n",
      "1832 17620\n",
      "1833 17621\n",
      "1834 17622\n"
     ]
    },
    {
     "name": "stderr",
     "output_type": "stream",
     "text": [
      "/home/mimus/anaconda3/envs/tf2/lib/python3.6/site-packages/ipykernel_launcher.py:51: UserWarning: /home/mimus/apiais/data/images/ANPR/training/masks_plate_loc/masks_7_33_augmented_image_8644_augmented_image_17622.jpg is a low contrast image\n",
      "/home/mimus/anaconda3/envs/tf2/lib/python3.6/site-packages/ipykernel_launcher.py:51: UserWarning: /home/mimus/apiais/data/images/ANPR/training/masks_plate_loc/masks_65_1_3_augmented_image_17623.jpg is a low contrast image\n"
     ]
    },
    {
     "name": "stdout",
     "output_type": "stream",
     "text": [
      "1835 17623\n",
      "1836 17624\n",
      "1837 17625\n",
      "1838 17626\n",
      "1839 17627\n",
      "1840 17628\n",
      "1841 17629\n",
      "1842 17630\n",
      "1843 17631\n"
     ]
    },
    {
     "name": "stderr",
     "output_type": "stream",
     "text": [
      "/home/mimus/anaconda3/envs/tf2/lib/python3.6/site-packages/ipykernel_launcher.py:51: UserWarning: /home/mimus/apiais/data/images/ANPR/training/masks_plate_loc/masks_183_27_augmented_image_17629.jpg is a low contrast image\n",
      "/home/mimus/anaconda3/envs/tf2/lib/python3.6/site-packages/ipykernel_launcher.py:51: UserWarning: /home/mimus/apiais/data/images/ANPR/training/masks_plate_loc/masks_127_31_augmented_image_17630.jpg is a low contrast image\n",
      "/home/mimus/anaconda3/envs/tf2/lib/python3.6/site-packages/ipykernel_launcher.py:51: UserWarning: /home/mimus/apiais/data/images/ANPR/training/masks_plate_loc/masks_55_43_augmented_image_17631.jpg is a low contrast image\n"
     ]
    },
    {
     "name": "stdout",
     "output_type": "stream",
     "text": [
      "1844 17632\n",
      "1845 17633\n",
      "1846 17634\n",
      "1847 17635\n"
     ]
    },
    {
     "name": "stderr",
     "output_type": "stream",
     "text": [
      "/home/mimus/anaconda3/envs/tf2/lib/python3.6/site-packages/ipykernel_launcher.py:51: UserWarning: /home/mimus/apiais/data/images/ANPR/training/masks_plate_loc/masks_346_34_augmented_image_17634.jpg is a low contrast image\n",
      "/home/mimus/anaconda3/envs/tf2/lib/python3.6/site-packages/ipykernel_launcher.py:51: UserWarning: /home/mimus/apiais/data/images/ANPR/training/masks_plate_loc/masks_241_42_augmented_image_17635.jpg is a low contrast image\n"
     ]
    },
    {
     "name": "stdout",
     "output_type": "stream",
     "text": [
      "1848 17636\n",
      "1849 17637\n",
      "1850 17638\n"
     ]
    },
    {
     "name": "stderr",
     "output_type": "stream",
     "text": [
      "/home/mimus/anaconda3/envs/tf2/lib/python3.6/site-packages/ipykernel_launcher.py:51: UserWarning: /home/mimus/apiais/data/images/ANPR/training/masks_plate_loc/masks_175_30_1_augmented_image_8255_augmented_image_17638.jpg is a low contrast image\n"
     ]
    },
    {
     "name": "stdout",
     "output_type": "stream",
     "text": [
      "1851 17639\n",
      "1852 17640\n"
     ]
    },
    {
     "name": "stderr",
     "output_type": "stream",
     "text": [
      "/home/mimus/anaconda3/envs/tf2/lib/python3.6/site-packages/ipykernel_launcher.py:51: UserWarning: /home/mimus/apiais/data/images/ANPR/training/masks_plate_loc/masks_361_29_augmented_image_15416_augmented_image_17640.jpg is a low contrast image\n"
     ]
    },
    {
     "name": "stdout",
     "output_type": "stream",
     "text": [
      "1853 17641\n",
      "1854 17642\n",
      "1855 17643\n",
      "1856 17644\n",
      "1857 17645\n",
      "1858 17646\n",
      "1859 17647\n"
     ]
    },
    {
     "name": "stderr",
     "output_type": "stream",
     "text": [
      "/home/mimus/anaconda3/envs/tf2/lib/python3.6/site-packages/ipykernel_launcher.py:51: UserWarning: /home/mimus/apiais/data/images/ANPR/training/masks_plate_loc/masks_87_9_augmented_image_17645.jpg is a low contrast image\n"
     ]
    },
    {
     "name": "stdout",
     "output_type": "stream",
     "text": [
      "1860 17648\n",
      "1861 17649\n"
     ]
    },
    {
     "name": "stderr",
     "output_type": "stream",
     "text": [
      "/home/mimus/anaconda3/envs/tf2/lib/python3.6/site-packages/ipykernel_launcher.py:51: UserWarning: /home/mimus/apiais/data/images/ANPR/training/masks_plate_loc/masks_128_43_augmented_image_17648.jpg is a low contrast image\n",
      "/home/mimus/anaconda3/envs/tf2/lib/python3.6/site-packages/ipykernel_launcher.py:51: UserWarning: /home/mimus/apiais/data/images/ANPR/training/masks_plate_loc/masks_88_33_augmented_image_17649.jpg is a low contrast image\n"
     ]
    },
    {
     "name": "stdout",
     "output_type": "stream",
     "text": [
      "1862 17650\n",
      "1863 17651\n"
     ]
    },
    {
     "name": "stderr",
     "output_type": "stream",
     "text": [
      "/home/mimus/anaconda3/envs/tf2/lib/python3.6/site-packages/ipykernel_launcher.py:51: UserWarning: /home/mimus/apiais/data/images/ANPR/training/masks_plate_loc/masks_33_20_augmented_image_17650.jpg is a low contrast image\n"
     ]
    },
    {
     "name": "stdout",
     "output_type": "stream",
     "text": [
      "1864 17652\n",
      "1865 17653\n",
      "1866 17654\n"
     ]
    },
    {
     "name": "stderr",
     "output_type": "stream",
     "text": [
      "/home/mimus/anaconda3/envs/tf2/lib/python3.6/site-packages/ipykernel_launcher.py:51: UserWarning: /home/mimus/apiais/data/images/ANPR/training/masks_plate_loc/masks_301_18_augmented_image_9922_augmented_image_17652.jpg is a low contrast image\n"
     ]
    },
    {
     "name": "stdout",
     "output_type": "stream",
     "text": [
      "1867 17655\n",
      "1868 17656\n",
      "1869 17657\n",
      "1870 17658\n",
      "1871 17659\n",
      "1872 17660\n",
      "1873 17661\n"
     ]
    },
    {
     "name": "stderr",
     "output_type": "stream",
     "text": [
      "/home/mimus/anaconda3/envs/tf2/lib/python3.6/site-packages/ipykernel_launcher.py:51: UserWarning: /home/mimus/apiais/data/images/ANPR/training/masks_plate_loc/masks_75_4_augmented_image_10055_augmented_image_17661.jpg is a low contrast image\n"
     ]
    },
    {
     "name": "stdout",
     "output_type": "stream",
     "text": [
      "1874 17662\n",
      "1875 17663\n",
      "1876 17664\n",
      "1877 17665\n"
     ]
    },
    {
     "name": "stderr",
     "output_type": "stream",
     "text": [
      "/home/mimus/anaconda3/envs/tf2/lib/python3.6/site-packages/ipykernel_launcher.py:51: UserWarning: /home/mimus/apiais/data/images/ANPR/training/masks_plate_loc/masks_641_32_augmented_image_17664.jpg is a low contrast image\n"
     ]
    },
    {
     "name": "stdout",
     "output_type": "stream",
     "text": [
      "1878 17666\n",
      "1879 17667\n",
      "1880 17668\n",
      "1881 17669\n",
      "1882 17670\n"
     ]
    },
    {
     "name": "stderr",
     "output_type": "stream",
     "text": [
      "/home/mimus/anaconda3/envs/tf2/lib/python3.6/site-packages/ipykernel_launcher.py:51: UserWarning: /home/mimus/apiais/data/images/ANPR/training/masks_plate_loc/masks_288_39_augmented_image_17670.jpg is a low contrast image\n",
      "/home/mimus/anaconda3/envs/tf2/lib/python3.6/site-packages/ipykernel_launcher.py:51: UserWarning: /home/mimus/apiais/data/images/ANPR/training/masks_plate_loc/masks_363_36_augmented_image_17671.jpg is a low contrast image\n"
     ]
    },
    {
     "name": "stdout",
     "output_type": "stream",
     "text": [
      "1883 17671\n",
      "1884 17672\n"
     ]
    },
    {
     "name": "stderr",
     "output_type": "stream",
     "text": [
      "/home/mimus/anaconda3/envs/tf2/lib/python3.6/site-packages/ipykernel_launcher.py:51: UserWarning: /home/mimus/apiais/data/images/ANPR/training/masks_plate_loc/masks_39_23_augmented_image_11231_augmented_image_17672.jpg is a low contrast image\n"
     ]
    },
    {
     "name": "stdout",
     "output_type": "stream",
     "text": [
      "1885 17673\n",
      "1886 17674\n",
      "1887 17675\n",
      "1888 17676\n"
     ]
    },
    {
     "name": "stderr",
     "output_type": "stream",
     "text": [
      "/home/mimus/anaconda3/envs/tf2/lib/python3.6/site-packages/ipykernel_launcher.py:51: UserWarning: /home/mimus/apiais/data/images/ANPR/training/masks_plate_loc/masks_62_21_augmented_image_17675.jpg is a low contrast image\n"
     ]
    },
    {
     "name": "stdout",
     "output_type": "stream",
     "text": [
      "1889 17677\n",
      "1890 17678\n"
     ]
    },
    {
     "name": "stderr",
     "output_type": "stream",
     "text": [
      "/home/mimus/anaconda3/envs/tf2/lib/python3.6/site-packages/ipykernel_launcher.py:51: UserWarning: /home/mimus/apiais/data/images/ANPR/training/masks_plate_loc/masks_276_42_augmented_image_10072_augmented_image_17677.jpg is a low contrast image\n"
     ]
    },
    {
     "name": "stdout",
     "output_type": "stream",
     "text": [
      "1891 17679\n",
      "1892 17680\n",
      "1893 17681\n",
      "1894 17682\n",
      "1895 17683\n",
      "1896 17684\n"
     ]
    },
    {
     "name": "stderr",
     "output_type": "stream",
     "text": [
      "/home/mimus/anaconda3/envs/tf2/lib/python3.6/site-packages/ipykernel_launcher.py:51: UserWarning: /home/mimus/apiais/data/images/ANPR/training/masks_plate_loc/masks_64_28_augmented_image_13552_augmented_image_17684.jpg is a low contrast image\n"
     ]
    },
    {
     "name": "stdout",
     "output_type": "stream",
     "text": [
      "1897 17685\n",
      "1898 17686\n",
      "1899 17687\n",
      "1900 17688\n",
      "1901 17689\n"
     ]
    },
    {
     "name": "stderr",
     "output_type": "stream",
     "text": [
      "/home/mimus/anaconda3/envs/tf2/lib/python3.6/site-packages/ipykernel_launcher.py:51: UserWarning: /home/mimus/apiais/data/images/ANPR/training/masks_plate_loc/masks_621_32_augmented_image_17687.jpg is a low contrast image\n",
      "/home/mimus/anaconda3/envs/tf2/lib/python3.6/site-packages/ipykernel_launcher.py:51: UserWarning: /home/mimus/apiais/data/images/ANPR/training/masks_plate_loc/masks_129_24_augmented_image_17688.jpg is a low contrast image\n",
      "/home/mimus/anaconda3/envs/tf2/lib/python3.6/site-packages/ipykernel_launcher.py:51: UserWarning: /home/mimus/apiais/data/images/ANPR/training/masks_plate_loc/masks_40_39_augmented_image_15224_augmented_image_17689.jpg is a low contrast image\n",
      "/home/mimus/anaconda3/envs/tf2/lib/python3.6/site-packages/ipykernel_launcher.py:51: UserWarning: /home/mimus/apiais/data/images/ANPR/training/masks_plate_loc/masks_127_0_augmented_image_17690.jpg is a low contrast image\n"
     ]
    },
    {
     "name": "stdout",
     "output_type": "stream",
     "text": [
      "1902 17690\n",
      "1903 17691\n",
      "1904 17692\n",
      "1905 17693\n"
     ]
    },
    {
     "name": "stderr",
     "output_type": "stream",
     "text": [
      "/home/mimus/anaconda3/envs/tf2/lib/python3.6/site-packages/ipykernel_launcher.py:51: UserWarning: /home/mimus/apiais/data/images/ANPR/training/masks_plate_loc/masks_17_11_augmented_image_8867_augmented_image_17693.jpg is a low contrast image\n"
     ]
    },
    {
     "name": "stdout",
     "output_type": "stream",
     "text": [
      "1906 17694\n",
      "1907 17695\n",
      "1908 17696\n",
      "1909 17697\n"
     ]
    },
    {
     "name": "stderr",
     "output_type": "stream",
     "text": [
      "/home/mimus/anaconda3/envs/tf2/lib/python3.6/site-packages/ipykernel_launcher.py:51: UserWarning: /home/mimus/apiais/data/images/ANPR/training/masks_plate_loc/masks_219_20_augmented_image_17696.jpg is a low contrast image\n",
      "/home/mimus/anaconda3/envs/tf2/lib/python3.6/site-packages/ipykernel_launcher.py:51: UserWarning: /home/mimus/apiais/data/images/ANPR/training/masks_plate_loc/masks_379_36_augmented_image_17697.jpg is a low contrast image\n"
     ]
    },
    {
     "name": "stdout",
     "output_type": "stream",
     "text": [
      "1910 17698\n",
      "1911 17699\n"
     ]
    },
    {
     "name": "stderr",
     "output_type": "stream",
     "text": [
      "/home/mimus/anaconda3/envs/tf2/lib/python3.6/site-packages/ipykernel_launcher.py:51: UserWarning: /home/mimus/apiais/data/images/ANPR/training/masks_plate_loc/masks_344_32_augmented_image_17698.jpg is a low contrast image\n",
      "/home/mimus/anaconda3/envs/tf2/lib/python3.6/site-packages/ipykernel_launcher.py:51: UserWarning: /home/mimus/apiais/data/images/ANPR/training/masks_plate_loc/masks_278_39_augmented_image_10368_augmented_image_17699.jpg is a low contrast image\n"
     ]
    },
    {
     "name": "stdout",
     "output_type": "stream",
     "text": [
      "1912 17700\n",
      "1913 17701\n",
      "1914 17702\n",
      "1915 17703\n",
      "1916 17704\n",
      "1917 17705\n"
     ]
    },
    {
     "name": "stderr",
     "output_type": "stream",
     "text": [
      "/home/mimus/anaconda3/envs/tf2/lib/python3.6/site-packages/ipykernel_launcher.py:51: UserWarning: /home/mimus/apiais/data/images/ANPR/training/masks_plate_loc/masks_284_18_augmented_image_15019_augmented_image_17704.jpg is a low contrast image\n",
      "/home/mimus/anaconda3/envs/tf2/lib/python3.6/site-packages/ipykernel_launcher.py:51: UserWarning: /home/mimus/apiais/data/images/ANPR/training/masks_plate_loc/masks_11_19_augmented_image_13398_augmented_image_17705.jpg is a low contrast image\n"
     ]
    },
    {
     "name": "stdout",
     "output_type": "stream",
     "text": [
      "1918 17706\n",
      "1919 17707\n"
     ]
    },
    {
     "name": "stderr",
     "output_type": "stream",
     "text": [
      "/home/mimus/anaconda3/envs/tf2/lib/python3.6/site-packages/ipykernel_launcher.py:51: UserWarning: /home/mimus/apiais/data/images/ANPR/training/masks_plate_loc/masks_37_5_augmented_image_13357_augmented_image_17706.jpg is a low contrast image\n"
     ]
    },
    {
     "name": "stdout",
     "output_type": "stream",
     "text": [
      "1920 17708\n",
      "1921 17709\n",
      "1922 17710\n"
     ]
    },
    {
     "name": "stderr",
     "output_type": "stream",
     "text": [
      "/home/mimus/anaconda3/envs/tf2/lib/python3.6/site-packages/ipykernel_launcher.py:51: UserWarning: /home/mimus/apiais/data/images/ANPR/training/masks_plate_loc/masks_765_32_augmented_image_8698_augmented_image_17709.jpg is a low contrast image\n",
      "/home/mimus/anaconda3/envs/tf2/lib/python3.6/site-packages/ipykernel_launcher.py:51: UserWarning: /home/mimus/apiais/data/images/ANPR/training/masks_plate_loc/masks_343_29_augmented_image_17710.jpg is a low contrast image\n"
     ]
    },
    {
     "name": "stdout",
     "output_type": "stream",
     "text": [
      "1923 17711\n",
      "1924 17712\n",
      "1925 17713\n",
      "1926 17714\n",
      "1927 17715\n",
      "1928 17716\n",
      "1929 17717\n"
     ]
    },
    {
     "name": "stderr",
     "output_type": "stream",
     "text": [
      "/home/mimus/anaconda3/envs/tf2/lib/python3.6/site-packages/ipykernel_launcher.py:51: UserWarning: /home/mimus/apiais/data/images/ANPR/training/masks_plate_loc/masks_145_42_augmented_image_17717.jpg is a low contrast image\n"
     ]
    },
    {
     "name": "stdout",
     "output_type": "stream",
     "text": [
      "1930 17718\n",
      "1931 17719\n",
      "1932 17720\n",
      "1933 17721\n"
     ]
    },
    {
     "name": "stderr",
     "output_type": "stream",
     "text": [
      "/home/mimus/anaconda3/envs/tf2/lib/python3.6/site-packages/ipykernel_launcher.py:51: UserWarning: /home/mimus/apiais/data/images/ANPR/training/masks_plate_loc/masks_198_29_augmented_image_17720.jpg is a low contrast image\n"
     ]
    },
    {
     "name": "stdout",
     "output_type": "stream",
     "text": [
      "1934 17722\n",
      "1935 17723\n",
      "1936 17724\n",
      "1937 17725\n",
      "1938 17726\n"
     ]
    },
    {
     "name": "stderr",
     "output_type": "stream",
     "text": [
      "/home/mimus/anaconda3/envs/tf2/lib/python3.6/site-packages/ipykernel_launcher.py:51: UserWarning: /home/mimus/apiais/data/images/ANPR/training/masks_plate_loc/masks_26_12_augmented_image_17725.jpg is a low contrast image\n"
     ]
    },
    {
     "name": "stdout",
     "output_type": "stream",
     "text": [
      "1939 17727\n",
      "1940 17728\n",
      "1941 17729\n",
      "1942 17730\n"
     ]
    },
    {
     "name": "stderr",
     "output_type": "stream",
     "text": [
      "/home/mimus/anaconda3/envs/tf2/lib/python3.6/site-packages/ipykernel_launcher.py:51: UserWarning: /home/mimus/apiais/data/images/ANPR/training/masks_plate_loc/masks_21_14_augmented_image_17729.jpg is a low contrast image\n",
      "/home/mimus/anaconda3/envs/tf2/lib/python3.6/site-packages/ipykernel_launcher.py:51: UserWarning: /home/mimus/apiais/data/images/ANPR/training/masks_plate_loc/masks_89_31_augmented_image_17730.jpg is a low contrast image\n"
     ]
    },
    {
     "name": "stdout",
     "output_type": "stream",
     "text": [
      "1943 17731\n",
      "1944 17732\n",
      "1945 17733\n",
      "1946 17734\n",
      "1947 17735\n",
      "1948 17736\n",
      "1949 17737\n",
      "1950 17738\n",
      "1951 17739\n"
     ]
    },
    {
     "name": "stderr",
     "output_type": "stream",
     "text": [
      "/home/mimus/anaconda3/envs/tf2/lib/python3.6/site-packages/ipykernel_launcher.py:51: UserWarning: /home/mimus/apiais/data/images/ANPR/training/masks_plate_loc/masks_314_28_augmented_image_17738.jpg is a low contrast image\n"
     ]
    },
    {
     "name": "stdout",
     "output_type": "stream",
     "text": [
      "1952 17740\n",
      "1953 17741\n"
     ]
    },
    {
     "name": "stderr",
     "output_type": "stream",
     "text": [
      "/home/mimus/anaconda3/envs/tf2/lib/python3.6/site-packages/ipykernel_launcher.py:51: UserWarning: /home/mimus/apiais/data/images/ANPR/training/masks_plate_loc/masks_38_34_augmented_image_17741.jpg is a low contrast image\n",
      "/home/mimus/anaconda3/envs/tf2/lib/python3.6/site-packages/ipykernel_launcher.py:51: UserWarning: /home/mimus/apiais/data/images/ANPR/training/masks_plate_loc/masks_141_32_augmented_image_17742.jpg is a low contrast image\n"
     ]
    },
    {
     "name": "stdout",
     "output_type": "stream",
     "text": [
      "1954 17742\n",
      "1955 17743\n",
      "1956 17744\n",
      "1957 17745\n",
      "1958 17746\n",
      "1959 17747\n"
     ]
    },
    {
     "name": "stderr",
     "output_type": "stream",
     "text": [
      "/home/mimus/anaconda3/envs/tf2/lib/python3.6/site-packages/ipykernel_launcher.py:51: UserWarning: /home/mimus/apiais/data/images/ANPR/training/masks_plate_loc/masks_294_34_augmented_image_17746.jpg is a low contrast image\n"
     ]
    },
    {
     "name": "stdout",
     "output_type": "stream",
     "text": [
      "1960 17748\n",
      "1961 17749\n"
     ]
    },
    {
     "name": "stderr",
     "output_type": "stream",
     "text": [
      "/home/mimus/anaconda3/envs/tf2/lib/python3.6/site-packages/ipykernel_launcher.py:51: UserWarning: /home/mimus/apiais/data/images/ANPR/training/masks_plate_loc/masks_83_28_augmented_image_13126_augmented_image_17749.jpg is a low contrast image\n",
      "/home/mimus/anaconda3/envs/tf2/lib/python3.6/site-packages/ipykernel_launcher.py:51: UserWarning: /home/mimus/apiais/data/images/ANPR/training/masks_plate_loc/masks_297_40_augmented_image_15624_augmented_image_17750.jpg is a low contrast image\n"
     ]
    },
    {
     "name": "stdout",
     "output_type": "stream",
     "text": [
      "1962 17750\n",
      "1963 17751\n"
     ]
    },
    {
     "name": "stderr",
     "output_type": "stream",
     "text": [
      "/home/mimus/anaconda3/envs/tf2/lib/python3.6/site-packages/ipykernel_launcher.py:51: UserWarning: /home/mimus/apiais/data/images/ANPR/training/masks_plate_loc/masks_156_32_augmented_image_11119_augmented_image_17751.jpg is a low contrast image\n",
      "/home/mimus/anaconda3/envs/tf2/lib/python3.6/site-packages/ipykernel_launcher.py:51: UserWarning: /home/mimus/apiais/data/images/ANPR/training/masks_plate_loc/masks_84_42_augmented_image_17752.jpg is a low contrast image\n"
     ]
    },
    {
     "name": "stdout",
     "output_type": "stream",
     "text": [
      "1964 17752\n",
      "1965 17753\n",
      "1966 17754\n",
      "1967 17755\n",
      "1968 17756\n",
      "1969 17757\n"
     ]
    },
    {
     "name": "stderr",
     "output_type": "stream",
     "text": [
      "/home/mimus/anaconda3/envs/tf2/lib/python3.6/site-packages/ipykernel_launcher.py:51: UserWarning: /home/mimus/apiais/data/images/ANPR/training/masks_plate_loc/masks_61_18_augmented_image_17755.jpg is a low contrast image\n",
      "/home/mimus/anaconda3/envs/tf2/lib/python3.6/site-packages/ipykernel_launcher.py:51: UserWarning: /home/mimus/apiais/data/images/ANPR/training/masks_plate_loc/masks_313_33_augmented_image_17757.jpg is a low contrast image\n",
      "/home/mimus/anaconda3/envs/tf2/lib/python3.6/site-packages/ipykernel_launcher.py:51: UserWarning: /home/mimus/apiais/data/images/ANPR/training/masks_plate_loc/masks_356_39_augmented_image_17758.jpg is a low contrast image\n"
     ]
    },
    {
     "name": "stdout",
     "output_type": "stream",
     "text": [
      "1970 17758\n",
      "1971 17759\n",
      "1972 17760\n",
      "1973 17761\n"
     ]
    },
    {
     "name": "stderr",
     "output_type": "stream",
     "text": [
      "/home/mimus/anaconda3/envs/tf2/lib/python3.6/site-packages/ipykernel_launcher.py:51: UserWarning: /home/mimus/apiais/data/images/ANPR/training/masks_plate_loc/masks_37_31_augmented_image_17761.jpg is a low contrast image\n"
     ]
    },
    {
     "name": "stdout",
     "output_type": "stream",
     "text": [
      "1974 17762\n",
      "1975 17763\n"
     ]
    },
    {
     "name": "stderr",
     "output_type": "stream",
     "text": [
      "/home/mimus/anaconda3/envs/tf2/lib/python3.6/site-packages/ipykernel_launcher.py:51: UserWarning: /home/mimus/apiais/data/images/ANPR/training/masks_plate_loc/masks_123_31_augmented_image_17763.jpg is a low contrast image\n"
     ]
    },
    {
     "name": "stdout",
     "output_type": "stream",
     "text": [
      "1976 17764\n",
      "1977 17765\n",
      "1978 17766\n",
      "1979 17767\n",
      "1980 17768\n"
     ]
    },
    {
     "name": "stderr",
     "output_type": "stream",
     "text": [
      "/home/mimus/anaconda3/envs/tf2/lib/python3.6/site-packages/ipykernel_launcher.py:51: UserWarning: /home/mimus/apiais/data/images/ANPR/training/masks_plate_loc/masks_402_32_augmented_image_13588_augmented_image_17766.jpg is a low contrast image\n",
      "/home/mimus/anaconda3/envs/tf2/lib/python3.6/site-packages/ipykernel_launcher.py:51: UserWarning: /home/mimus/apiais/data/images/ANPR/training/masks_plate_loc/masks_86_4_augmented_image_17767.jpg is a low contrast image\n"
     ]
    },
    {
     "name": "stdout",
     "output_type": "stream",
     "text": [
      "1981 17769\n",
      "1982 17770\n",
      "1983 17771\n",
      "1984 17772\n"
     ]
    },
    {
     "name": "stderr",
     "output_type": "stream",
     "text": [
      "/home/mimus/anaconda3/envs/tf2/lib/python3.6/site-packages/ipykernel_launcher.py:51: UserWarning: /home/mimus/apiais/data/images/ANPR/training/masks_plate_loc/masks_83_24_augmented_image_17771.jpg is a low contrast image\n"
     ]
    },
    {
     "name": "stdout",
     "output_type": "stream",
     "text": [
      "1985 17773\n",
      "1986 17774\n",
      "1987 17775\n",
      "1988 17776\n"
     ]
    },
    {
     "name": "stderr",
     "output_type": "stream",
     "text": [
      "/home/mimus/anaconda3/envs/tf2/lib/python3.6/site-packages/ipykernel_launcher.py:51: UserWarning: /home/mimus/apiais/data/images/ANPR/training/masks_plate_loc/masks_397_36_augmented_image_17776.jpg is a low contrast image\n"
     ]
    },
    {
     "name": "stdout",
     "output_type": "stream",
     "text": [
      "1989 17777\n",
      "1990 17778\n",
      "1991 17779\n",
      "1992 17780\n"
     ]
    },
    {
     "name": "stderr",
     "output_type": "stream",
     "text": [
      "/home/mimus/anaconda3/envs/tf2/lib/python3.6/site-packages/ipykernel_launcher.py:51: UserWarning: /home/mimus/apiais/data/images/ANPR/training/masks_plate_loc/masks_16_29_augmented_image_17779.jpg is a low contrast image\n",
      "/home/mimus/anaconda3/envs/tf2/lib/python3.6/site-packages/ipykernel_launcher.py:51: UserWarning: /home/mimus/apiais/data/images/ANPR/training/masks_plate_loc/masks_48_24_augmented_image_17780.jpg is a low contrast image\n"
     ]
    },
    {
     "name": "stdout",
     "output_type": "stream",
     "text": [
      "1993 17781\n",
      "1994 17782\n",
      "1995 17783\n",
      "1996 17784\n",
      "1997 17785\n"
     ]
    },
    {
     "name": "stderr",
     "output_type": "stream",
     "text": [
      "/home/mimus/anaconda3/envs/tf2/lib/python3.6/site-packages/ipykernel_launcher.py:51: UserWarning: /home/mimus/apiais/data/images/ANPR/training/masks_plate_loc/masks_14_42_augmented_image_17785.jpg is a low contrast image\n",
      "/home/mimus/anaconda3/envs/tf2/lib/python3.6/site-packages/ipykernel_launcher.py:51: UserWarning: /home/mimus/apiais/data/images/ANPR/training/masks_plate_loc/masks_35_33_augmented_image_11981_augmented_image_17786.jpg is a low contrast image\n"
     ]
    },
    {
     "name": "stdout",
     "output_type": "stream",
     "text": [
      "1998 17786\n",
      "1999 17787\n",
      "2000 17788\n",
      "2001 17789\n",
      "2002 17790\n",
      "2003 17791\n",
      "2004 17792\n"
     ]
    },
    {
     "name": "stderr",
     "output_type": "stream",
     "text": [
      "/home/mimus/anaconda3/envs/tf2/lib/python3.6/site-packages/ipykernel_launcher.py:51: UserWarning: /home/mimus/apiais/data/images/ANPR/training/masks_plate_loc/masks_66_42_augmented_image_13984_augmented_image_17790.jpg is a low contrast image\n"
     ]
    },
    {
     "name": "stdout",
     "output_type": "stream",
     "text": [
      "2005 17793\n",
      "2006 17794\n"
     ]
    },
    {
     "name": "stderr",
     "output_type": "stream",
     "text": [
      "/home/mimus/anaconda3/envs/tf2/lib/python3.6/site-packages/ipykernel_launcher.py:51: UserWarning: /home/mimus/apiais/data/images/ANPR/training/masks_plate_loc/masks_73_23_augmented_image_8126_augmented_image_17793.jpg is a low contrast image\n",
      "/home/mimus/anaconda3/envs/tf2/lib/python3.6/site-packages/ipykernel_launcher.py:51: UserWarning: /home/mimus/apiais/data/images/ANPR/training/masks_plate_loc/masks_65_39_augmented_image_17795.jpg is a low contrast image\n"
     ]
    },
    {
     "name": "stdout",
     "output_type": "stream",
     "text": [
      "2007 17795\n",
      "2008 17796\n",
      "2009 17797\n",
      "2010 17798\n",
      "2011 17799\n"
     ]
    },
    {
     "name": "stderr",
     "output_type": "stream",
     "text": [
      "/home/mimus/anaconda3/envs/tf2/lib/python3.6/site-packages/ipykernel_launcher.py:51: UserWarning: /home/mimus/apiais/data/images/ANPR/training/masks_plate_loc/masks_629_32_augmented_image_9228_augmented_image_17798.jpg is a low contrast image\n",
      "/home/mimus/anaconda3/envs/tf2/lib/python3.6/site-packages/ipykernel_launcher.py:51: UserWarning: /home/mimus/apiais/data/images/ANPR/training/masks_plate_loc/masks_542_34_augmented_image_17799.jpg is a low contrast image\n"
     ]
    },
    {
     "name": "stdout",
     "output_type": "stream",
     "text": [
      "2012 17800\n",
      "2013 17801\n",
      "2014 17802\n"
     ]
    },
    {
     "name": "stderr",
     "output_type": "stream",
     "text": [
      "/home/mimus/anaconda3/envs/tf2/lib/python3.6/site-packages/ipykernel_launcher.py:51: UserWarning: /home/mimus/apiais/data/images/ANPR/training/masks_plate_loc/masks_123_23_augmented_image_17801.jpg is a low contrast image\n"
     ]
    },
    {
     "name": "stdout",
     "output_type": "stream",
     "text": [
      "2015 17803\n",
      "2016 17804\n",
      "2017 17805\n",
      "2018 17806\n"
     ]
    },
    {
     "name": "stderr",
     "output_type": "stream",
     "text": [
      "/home/mimus/anaconda3/envs/tf2/lib/python3.6/site-packages/ipykernel_launcher.py:51: UserWarning: /home/mimus/apiais/data/images/ANPR/training/masks_plate_loc/masks_139_4_augmented_image_17805.jpg is a low contrast image\n"
     ]
    },
    {
     "name": "stdout",
     "output_type": "stream",
     "text": [
      "2019 17807\n",
      "2020 17808\n",
      "2021 17809\n",
      "2022 17810\n"
     ]
    },
    {
     "name": "stderr",
     "output_type": "stream",
     "text": [
      "/home/mimus/anaconda3/envs/tf2/lib/python3.6/site-packages/ipykernel_launcher.py:51: UserWarning: /home/mimus/apiais/data/images/ANPR/training/masks_plate_loc/masks_288_34_augmented_image_15766_augmented_image_17809.jpg is a low contrast image\n"
     ]
    },
    {
     "name": "stdout",
     "output_type": "stream",
     "text": [
      "2023 17811\n",
      "2024 17812\n",
      "2025 17813\n",
      "2026 17814\n"
     ]
    },
    {
     "name": "stderr",
     "output_type": "stream",
     "text": [
      "/home/mimus/anaconda3/envs/tf2/lib/python3.6/site-packages/ipykernel_launcher.py:51: UserWarning: /home/mimus/apiais/data/images/ANPR/training/masks_plate_loc/masks_57_1_3_augmented_image_9756_augmented_image_17813.jpg is a low contrast image\n",
      "/home/mimus/anaconda3/envs/tf2/lib/python3.6/site-packages/ipykernel_launcher.py:51: UserWarning: /home/mimus/apiais/data/images/ANPR/training/masks_plate_loc/masks_230_0_augmented_image_17814.jpg is a low contrast image\n"
     ]
    },
    {
     "name": "stdout",
     "output_type": "stream",
     "text": [
      "2027 17815\n",
      "2028 17816\n"
     ]
    },
    {
     "name": "stderr",
     "output_type": "stream",
     "text": [
      "/home/mimus/anaconda3/envs/tf2/lib/python3.6/site-packages/ipykernel_launcher.py:51: UserWarning: /home/mimus/apiais/data/images/ANPR/training/masks_plate_loc/masks_23_13_augmented_image_11360_augmented_image_17815.jpg is a low contrast image\n",
      "/home/mimus/anaconda3/envs/tf2/lib/python3.6/site-packages/ipykernel_launcher.py:51: UserWarning: /home/mimus/apiais/data/images/ANPR/training/masks_plate_loc/masks_147_4_augmented_image_17816.jpg is a low contrast image\n"
     ]
    },
    {
     "name": "stdout",
     "output_type": "stream",
     "text": [
      "2029 17817\n",
      "2030 17818\n",
      "2031 17819\n",
      "2032 17820\n"
     ]
    },
    {
     "name": "stderr",
     "output_type": "stream",
     "text": [
      "/home/mimus/anaconda3/envs/tf2/lib/python3.6/site-packages/ipykernel_launcher.py:51: UserWarning: /home/mimus/apiais/data/images/ANPR/training/masks_plate_loc/masks_150_32_augmented_image_17820.jpg is a low contrast image\n"
     ]
    },
    {
     "name": "stdout",
     "output_type": "stream",
     "text": [
      "2033 17821\n",
      "2034 17822\n"
     ]
    },
    {
     "name": "stderr",
     "output_type": "stream",
     "text": [
      "/home/mimus/anaconda3/envs/tf2/lib/python3.6/site-packages/ipykernel_launcher.py:51: UserWarning: /home/mimus/apiais/data/images/ANPR/training/masks_plate_loc/masks_728_32_augmented_image_17822.jpg is a low contrast image\n"
     ]
    },
    {
     "name": "stdout",
     "output_type": "stream",
     "text": [
      "2035 17823\n",
      "2036 17824\n",
      "2037 17825\n",
      "2038 17826\n",
      "2039 17827\n",
      "2040 17828\n",
      "2041 17829\n",
      "2042 17830\n",
      "2043 17831\n"
     ]
    },
    {
     "name": "stderr",
     "output_type": "stream",
     "text": [
      "/home/mimus/anaconda3/envs/tf2/lib/python3.6/site-packages/ipykernel_launcher.py:51: UserWarning: /home/mimus/apiais/data/images/ANPR/training/masks_plate_loc/masks_97_40_augmented_image_17830.jpg is a low contrast image\n"
     ]
    },
    {
     "name": "stdout",
     "output_type": "stream",
     "text": [
      "2044 17832\n",
      "2045 17833\n"
     ]
    },
    {
     "name": "stderr",
     "output_type": "stream",
     "text": [
      "/home/mimus/anaconda3/envs/tf2/lib/python3.6/site-packages/ipykernel_launcher.py:51: UserWarning: /home/mimus/apiais/data/images/ANPR/training/masks_plate_loc/masks_21_33_augmented_image_17833.jpg is a low contrast image\n",
      "/home/mimus/anaconda3/envs/tf2/lib/python3.6/site-packages/ipykernel_launcher.py:51: UserWarning: /home/mimus/apiais/data/images/ANPR/training/masks_plate_loc/masks_598_34_augmented_image_17834.jpg is a low contrast image\n"
     ]
    },
    {
     "name": "stdout",
     "output_type": "stream",
     "text": [
      "2046 17834\n",
      "2047 17835\n",
      "2048 17836\n",
      "2049 17837\n"
     ]
    },
    {
     "name": "stderr",
     "output_type": "stream",
     "text": [
      "/home/mimus/anaconda3/envs/tf2/lib/python3.6/site-packages/ipykernel_launcher.py:51: UserWarning: /home/mimus/apiais/data/images/ANPR/training/masks_plate_loc/masks_613_32_augmented_image_17837.jpg is a low contrast image\n"
     ]
    },
    {
     "name": "stdout",
     "output_type": "stream",
     "text": [
      "2050 17838\n",
      "2051 17839\n"
     ]
    },
    {
     "name": "stderr",
     "output_type": "stream",
     "text": [
      "/home/mimus/anaconda3/envs/tf2/lib/python3.6/site-packages/ipykernel_launcher.py:51: UserWarning: /home/mimus/apiais/data/images/ANPR/training/masks_plate_loc/masks_109_32_augmented_image_17839.jpg is a low contrast image\n",
      "/home/mimus/anaconda3/envs/tf2/lib/python3.6/site-packages/ipykernel_launcher.py:51: UserWarning: /home/mimus/apiais/data/images/ANPR/training/masks_plate_loc/masks_94_32_augmented_image_14701_augmented_image_17840.jpg is a low contrast image\n"
     ]
    },
    {
     "name": "stdout",
     "output_type": "stream",
     "text": [
      "2052 17840\n",
      "2053 17841\n",
      "2054 17842\n",
      "2055 17843\n"
     ]
    },
    {
     "name": "stderr",
     "output_type": "stream",
     "text": [
      "/home/mimus/anaconda3/envs/tf2/lib/python3.6/site-packages/ipykernel_launcher.py:51: UserWarning: /home/mimus/apiais/data/images/ANPR/training/masks_plate_loc/masks_298_32_augmented_image_17842.jpg is a low contrast image\n",
      "/home/mimus/anaconda3/envs/tf2/lib/python3.6/site-packages/ipykernel_launcher.py:51: UserWarning: /home/mimus/apiais/data/images/ANPR/training/masks_plate_loc/masks_107_30_1_augmented_image_17843.jpg is a low contrast image\n"
     ]
    },
    {
     "name": "stdout",
     "output_type": "stream",
     "text": [
      "2056 17844\n",
      "2057 17845\n",
      "2058 17846\n",
      "2059 17847\n"
     ]
    },
    {
     "name": "stderr",
     "output_type": "stream",
     "text": [
      "/home/mimus/anaconda3/envs/tf2/lib/python3.6/site-packages/ipykernel_launcher.py:51: UserWarning: /home/mimus/apiais/data/images/ANPR/training/masks_plate_loc/masks_81_28_augmented_image_15335_augmented_image_17846.jpg is a low contrast image\n",
      "/home/mimus/anaconda3/envs/tf2/lib/python3.6/site-packages/ipykernel_launcher.py:51: UserWarning: /home/mimus/apiais/data/images/ANPR/training/masks_plate_loc/masks_11_35_augmented_image_8574_augmented_image_17847.jpg is a low contrast image\n"
     ]
    },
    {
     "name": "stdout",
     "output_type": "stream",
     "text": [
      "2060 17848\n",
      "2061 17849\n",
      "2062 17850\n"
     ]
    },
    {
     "name": "stderr",
     "output_type": "stream",
     "text": [
      "/home/mimus/anaconda3/envs/tf2/lib/python3.6/site-packages/ipykernel_launcher.py:51: UserWarning: /home/mimus/apiais/data/images/ANPR/training/masks_plate_loc/masks_69_20_augmented_image_17849.jpg is a low contrast image\n"
     ]
    },
    {
     "name": "stdout",
     "output_type": "stream",
     "text": [
      "2063 17851\n",
      "2064 17852\n"
     ]
    },
    {
     "name": "stderr",
     "output_type": "stream",
     "text": [
      "/home/mimus/anaconda3/envs/tf2/lib/python3.6/site-packages/ipykernel_launcher.py:51: UserWarning: /home/mimus/apiais/data/images/ANPR/training/masks_plate_loc/masks_770_32_augmented_image_17852.jpg is a low contrast image\n",
      "/home/mimus/anaconda3/envs/tf2/lib/python3.6/site-packages/ipykernel_launcher.py:51: UserWarning: /home/mimus/apiais/data/images/ANPR/training/masks_plate_loc/masks_166_40_augmented_image_17853.jpg is a low contrast image\n"
     ]
    },
    {
     "name": "stdout",
     "output_type": "stream",
     "text": [
      "2065 17853\n",
      "2066 17854\n"
     ]
    },
    {
     "name": "stderr",
     "output_type": "stream",
     "text": [
      "/home/mimus/anaconda3/envs/tf2/lib/python3.6/site-packages/ipykernel_launcher.py:51: UserWarning: /home/mimus/apiais/data/images/ANPR/training/masks_plate_loc/masks_57_41_augmented_image_17854.jpg is a low contrast image\n",
      "/home/mimus/anaconda3/envs/tf2/lib/python3.6/site-packages/ipykernel_launcher.py:51: UserWarning: /home/mimus/apiais/data/images/ANPR/training/masks_plate_loc/masks_167_16_augmented_image_10028_augmented_image_17855.jpg is a low contrast image\n"
     ]
    },
    {
     "name": "stdout",
     "output_type": "stream",
     "text": [
      "2067 17855\n",
      "2068 17856\n",
      "2069 17857\n",
      "2070 17858\n",
      "2071 17859\n",
      "2072 17860\n",
      "2073 17861\n"
     ]
    },
    {
     "name": "stderr",
     "output_type": "stream",
     "text": [
      "/home/mimus/anaconda3/envs/tf2/lib/python3.6/site-packages/ipykernel_launcher.py:51: UserWarning: /home/mimus/apiais/data/images/ANPR/training/masks_plate_loc/masks_36_34_augmented_image_17860.jpg is a low contrast image\n"
     ]
    },
    {
     "name": "stdout",
     "output_type": "stream",
     "text": [
      "2074 17862\n",
      "2075 17863\n",
      "2076 17864\n",
      "2077 17865\n",
      "2078 17866\n"
     ]
    },
    {
     "name": "stderr",
     "output_type": "stream",
     "text": [
      "/home/mimus/anaconda3/envs/tf2/lib/python3.6/site-packages/ipykernel_launcher.py:51: UserWarning: /home/mimus/apiais/data/images/ANPR/training/masks_plate_loc/masks_297_32_augmented_image_17865.jpg is a low contrast image\n",
      "/home/mimus/anaconda3/envs/tf2/lib/python3.6/site-packages/ipykernel_launcher.py:51: UserWarning: /home/mimus/apiais/data/images/ANPR/training/masks_plate_loc/masks_537_32_augmented_image_10033_augmented_image_17866.jpg is a low contrast image\n"
     ]
    },
    {
     "name": "stdout",
     "output_type": "stream",
     "text": [
      "2079 17867\n",
      "2080 17868\n",
      "2081 17869\n"
     ]
    },
    {
     "name": "stderr",
     "output_type": "stream",
     "text": [
      "/home/mimus/anaconda3/envs/tf2/lib/python3.6/site-packages/ipykernel_launcher.py:51: UserWarning: /home/mimus/apiais/data/images/ANPR/training/masks_plate_loc/masks_126_27_augmented_image_13308_augmented_image_17868.jpg is a low contrast image\n"
     ]
    },
    {
     "name": "stdout",
     "output_type": "stream",
     "text": [
      "2082 17870\n",
      "2083 17871\n",
      "2084 17872\n",
      "2085 17873\n"
     ]
    },
    {
     "name": "stderr",
     "output_type": "stream",
     "text": [
      "/home/mimus/anaconda3/envs/tf2/lib/python3.6/site-packages/ipykernel_launcher.py:51: UserWarning: /home/mimus/apiais/data/images/ANPR/training/masks_plate_loc/masks_102_33_augmented_image_17873.jpg is a low contrast image\n",
      "/home/mimus/anaconda3/envs/tf2/lib/python3.6/site-packages/ipykernel_launcher.py:51: UserWarning: /home/mimus/apiais/data/images/ANPR/training/masks_plate_loc/masks_107_4_augmented_image_13516_augmented_image_17874.jpg is a low contrast image\n"
     ]
    },
    {
     "name": "stdout",
     "output_type": "stream",
     "text": [
      "2086 17874\n",
      "2087 17875\n"
     ]
    },
    {
     "name": "stderr",
     "output_type": "stream",
     "text": [
      "/home/mimus/anaconda3/envs/tf2/lib/python3.6/site-packages/ipykernel_launcher.py:51: UserWarning: /home/mimus/apiais/data/images/ANPR/training/masks_plate_loc/masks_202_29_augmented_image_9233_augmented_image_17875.jpg is a low contrast image\n",
      "/home/mimus/anaconda3/envs/tf2/lib/python3.6/site-packages/ipykernel_launcher.py:51: UserWarning: /home/mimus/apiais/data/images/ANPR/training/masks_plate_loc/masks_575_18_augmented_image_17876.jpg is a low contrast image\n"
     ]
    },
    {
     "name": "stdout",
     "output_type": "stream",
     "text": [
      "2088 17876\n",
      "2089 17877\n",
      "2090 17878\n",
      "2091 17879\n"
     ]
    },
    {
     "name": "stderr",
     "output_type": "stream",
     "text": [
      "/home/mimus/anaconda3/envs/tf2/lib/python3.6/site-packages/ipykernel_launcher.py:51: UserWarning: /home/mimus/apiais/data/images/ANPR/training/masks_plate_loc/masks_92_33_augmented_image_17879.jpg is a low contrast image\n",
      "/home/mimus/anaconda3/envs/tf2/lib/python3.6/site-packages/ipykernel_launcher.py:51: UserWarning: /home/mimus/apiais/data/images/ANPR/training/masks_plate_loc/masks_8_16_augmented_image_17880.jpg is a low contrast image\n"
     ]
    },
    {
     "name": "stdout",
     "output_type": "stream",
     "text": [
      "2092 17880\n",
      "2093 17881\n",
      "2094 17882\n",
      "2095 17883\n"
     ]
    },
    {
     "name": "stderr",
     "output_type": "stream",
     "text": [
      "/home/mimus/anaconda3/envs/tf2/lib/python3.6/site-packages/ipykernel_launcher.py:51: UserWarning: /home/mimus/apiais/data/images/ANPR/training/masks_plate_loc/masks_179_29_augmented_image_9431_augmented_image_17882.jpg is a low contrast image\n"
     ]
    },
    {
     "name": "stdout",
     "output_type": "stream",
     "text": [
      "2096 17884\n",
      "2097 17885\n",
      "2098 17886\n",
      "2099 17887\n"
     ]
    },
    {
     "name": "stderr",
     "output_type": "stream",
     "text": [
      "/home/mimus/anaconda3/envs/tf2/lib/python3.6/site-packages/ipykernel_launcher.py:51: UserWarning: /home/mimus/apiais/data/images/ANPR/training/masks_plate_loc/masks_58_39_augmented_image_17886.jpg is a low contrast image\n"
     ]
    },
    {
     "name": "stdout",
     "output_type": "stream",
     "text": [
      "2100 17888\n",
      "2101 17889\n",
      "2102 17890\n",
      "2103 17891\n",
      "2104 17892\n",
      "2105 17893\n",
      "2106 17894\n",
      "2107 17895\n",
      "2108 17896\n"
     ]
    },
    {
     "name": "stderr",
     "output_type": "stream",
     "text": [
      "/home/mimus/anaconda3/envs/tf2/lib/python3.6/site-packages/ipykernel_launcher.py:51: UserWarning: /home/mimus/apiais/data/images/ANPR/training/masks_plate_loc/masks_3_36_augmented_image_8806_augmented_image_17896.jpg is a low contrast image\n"
     ]
    },
    {
     "name": "stdout",
     "output_type": "stream",
     "text": [
      "2109 17897\n",
      "2110 17898\n",
      "2111 17899\n"
     ]
    },
    {
     "name": "stderr",
     "output_type": "stream",
     "text": [
      "/home/mimus/anaconda3/envs/tf2/lib/python3.6/site-packages/ipykernel_launcher.py:51: UserWarning: /home/mimus/apiais/data/images/ANPR/training/masks_plate_loc/masks_11_43_augmented_image_13273_augmented_image_17899.jpg is a low contrast image\n"
     ]
    },
    {
     "name": "stdout",
     "output_type": "stream",
     "text": [
      "2112 17900\n",
      "2113 17901\n",
      "2114 17902\n",
      "2115 17903\n",
      "2116 17904\n",
      "2117 17905\n",
      "2118 17906\n",
      "2119 17907\n"
     ]
    },
    {
     "name": "stderr",
     "output_type": "stream",
     "text": [
      "/home/mimus/anaconda3/envs/tf2/lib/python3.6/site-packages/ipykernel_launcher.py:51: UserWarning: /home/mimus/apiais/data/images/ANPR/training/masks_plate_loc/masks_92_33_augmented_image_8959_augmented_image_17907.jpg is a low contrast image\n"
     ]
    },
    {
     "name": "stdout",
     "output_type": "stream",
     "text": [
      "2120 17908\n",
      "2121 17909\n"
     ]
    },
    {
     "name": "stderr",
     "output_type": "stream",
     "text": [
      "/home/mimus/anaconda3/envs/tf2/lib/python3.6/site-packages/ipykernel_launcher.py:51: UserWarning: /home/mimus/apiais/data/images/ANPR/training/masks_plate_loc/masks_344_29_augmented_image_17909.jpg is a low contrast image\n"
     ]
    },
    {
     "name": "stdout",
     "output_type": "stream",
     "text": [
      "2122 17910\n",
      "2123 17911\n",
      "2124 17912\n",
      "2125 17913\n",
      "2126 17914\n"
     ]
    },
    {
     "name": "stderr",
     "output_type": "stream",
     "text": [
      "/home/mimus/anaconda3/envs/tf2/lib/python3.6/site-packages/ipykernel_launcher.py:51: UserWarning: /home/mimus/apiais/data/images/ANPR/training/masks_plate_loc/masks_532_29_augmented_image_9642_augmented_image_17914.jpg is a low contrast image\n",
      "/home/mimus/anaconda3/envs/tf2/lib/python3.6/site-packages/ipykernel_launcher.py:51: UserWarning: /home/mimus/apiais/data/images/ANPR/training/masks_plate_loc/masks_336_29_augmented_image_17916.jpg is a low contrast image\n"
     ]
    },
    {
     "name": "stdout",
     "output_type": "stream",
     "text": [
      "2127 17915\n",
      "2128 17916\n",
      "2129 17917\n",
      "2130 17918\n",
      "2131 17919\n"
     ]
    },
    {
     "name": "stderr",
     "output_type": "stream",
     "text": [
      "/home/mimus/anaconda3/envs/tf2/lib/python3.6/site-packages/ipykernel_launcher.py:51: UserWarning: /home/mimus/apiais/data/images/ANPR/training/masks_plate_loc/masks_586_34_augmented_image_17919.jpg is a low contrast image\n",
      "/home/mimus/anaconda3/envs/tf2/lib/python3.6/site-packages/ipykernel_launcher.py:51: UserWarning: /home/mimus/apiais/data/images/ANPR/training/masks_plate_loc/masks_534_18_augmented_image_17920.jpg is a low contrast image\n"
     ]
    },
    {
     "name": "stdout",
     "output_type": "stream",
     "text": [
      "2132 17920\n",
      "2133 17921\n",
      "2134 17922\n"
     ]
    },
    {
     "name": "stderr",
     "output_type": "stream",
     "text": [
      "/home/mimus/anaconda3/envs/tf2/lib/python3.6/site-packages/ipykernel_launcher.py:51: UserWarning: /home/mimus/apiais/data/images/ANPR/training/masks_plate_loc/masks_241_39_augmented_image_17922.jpg is a low contrast image\n"
     ]
    },
    {
     "name": "stdout",
     "output_type": "stream",
     "text": [
      "2135 17923\n",
      "2136 17924\n",
      "2137 17925\n",
      "2138 17926\n",
      "2139 17927\n",
      "2140 17928\n",
      "2141 17929\n",
      "2142 17930\n",
      "2143 17931\n",
      "2144 17932\n"
     ]
    },
    {
     "name": "stderr",
     "output_type": "stream",
     "text": [
      "/home/mimus/anaconda3/envs/tf2/lib/python3.6/site-packages/ipykernel_launcher.py:51: UserWarning: /home/mimus/apiais/data/images/ANPR/training/masks_plate_loc/masks_35_7_augmented_image_12171_augmented_image_17931.jpg is a low contrast image\n"
     ]
    },
    {
     "name": "stdout",
     "output_type": "stream",
     "text": [
      "2145 17933\n",
      "2146 17934\n"
     ]
    },
    {
     "name": "stderr",
     "output_type": "stream",
     "text": [
      "/home/mimus/anaconda3/envs/tf2/lib/python3.6/site-packages/ipykernel_launcher.py:51: UserWarning: /home/mimus/apiais/data/images/ANPR/training/masks_plate_loc/masks_22_0_augmented_image_17933.jpg is a low contrast image\n"
     ]
    },
    {
     "name": "stdout",
     "output_type": "stream",
     "text": [
      "2147 17935\n",
      "2148 17936\n"
     ]
    },
    {
     "name": "stderr",
     "output_type": "stream",
     "text": [
      "/home/mimus/anaconda3/envs/tf2/lib/python3.6/site-packages/ipykernel_launcher.py:51: UserWarning: /home/mimus/apiais/data/images/ANPR/training/masks_plate_loc/masks_132_18_augmented_image_17935.jpg is a low contrast image\n"
     ]
    },
    {
     "name": "stdout",
     "output_type": "stream",
     "text": [
      "2149 17937\n",
      "2150 17938\n"
     ]
    },
    {
     "name": "stderr",
     "output_type": "stream",
     "text": [
      "/home/mimus/anaconda3/envs/tf2/lib/python3.6/site-packages/ipykernel_launcher.py:51: UserWarning: /home/mimus/apiais/data/images/ANPR/training/masks_plate_loc/masks_111_42_augmented_image_17938.jpg is a low contrast image\n",
      "/home/mimus/anaconda3/envs/tf2/lib/python3.6/site-packages/ipykernel_launcher.py:51: UserWarning: /home/mimus/apiais/data/images/ANPR/training/masks_plate_loc/masks_459_0_augmented_image_17939.jpg is a low contrast image\n"
     ]
    },
    {
     "name": "stdout",
     "output_type": "stream",
     "text": [
      "2151 17939\n",
      "2152 17940\n",
      "2153 17941\n",
      "2154 17942\n"
     ]
    },
    {
     "name": "stderr",
     "output_type": "stream",
     "text": [
      "/home/mimus/anaconda3/envs/tf2/lib/python3.6/site-packages/ipykernel_launcher.py:51: UserWarning: /home/mimus/apiais/data/images/ANPR/training/masks_plate_loc/masks_114_9_augmented_image_17941.jpg is a low contrast image\n",
      "/home/mimus/anaconda3/envs/tf2/lib/python3.6/site-packages/ipykernel_launcher.py:51: UserWarning: /home/mimus/apiais/data/images/ANPR/training/masks_plate_loc/masks_27_37_augmented_image_17943.jpg is a low contrast image\n"
     ]
    },
    {
     "name": "stdout",
     "output_type": "stream",
     "text": [
      "2155 17943\n",
      "2156 17944\n"
     ]
    },
    {
     "name": "stderr",
     "output_type": "stream",
     "text": [
      "/home/mimus/anaconda3/envs/tf2/lib/python3.6/site-packages/ipykernel_launcher.py:51: UserWarning: /home/mimus/apiais/data/images/ANPR/training/masks_plate_loc/masks_136_41_augmented_image_17944.jpg is a low contrast image\n",
      "/home/mimus/anaconda3/envs/tf2/lib/python3.6/site-packages/ipykernel_launcher.py:51: UserWarning: /home/mimus/apiais/data/images/ANPR/training/masks_plate_loc/masks_163_0_augmented_image_17945.jpg is a low contrast image\n"
     ]
    },
    {
     "name": "stdout",
     "output_type": "stream",
     "text": [
      "2157 17945\n",
      "2158 17946\n",
      "2159 17947\n",
      "2160 17948\n",
      "2161 17949\n",
      "2162 17950\n",
      "2163 17951\n"
     ]
    },
    {
     "name": "stderr",
     "output_type": "stream",
     "text": [
      "/home/mimus/anaconda3/envs/tf2/lib/python3.6/site-packages/ipykernel_launcher.py:51: UserWarning: /home/mimus/apiais/data/images/ANPR/training/masks_plate_loc/masks_248_32_augmented_image_12128_augmented_image_17949.jpg is a low contrast image\n",
      "/home/mimus/anaconda3/envs/tf2/lib/python3.6/site-packages/ipykernel_launcher.py:51: UserWarning: /home/mimus/apiais/data/images/ANPR/training/masks_plate_loc/masks_178_18_augmented_image_17950.jpg is a low contrast image\n",
      "/home/mimus/anaconda3/envs/tf2/lib/python3.6/site-packages/ipykernel_launcher.py:51: UserWarning: /home/mimus/apiais/data/images/ANPR/training/masks_plate_loc/masks_168_33_augmented_image_8271_augmented_image_17951.jpg is a low contrast image\n"
     ]
    },
    {
     "name": "stdout",
     "output_type": "stream",
     "text": [
      "2164 17952\n",
      "2165 17953\n",
      "2166 17954\n",
      "2167 17955\n",
      "2168 17956\n",
      "2169 17957\n",
      "2170 17958\n"
     ]
    },
    {
     "name": "stderr",
     "output_type": "stream",
     "text": [
      "/home/mimus/anaconda3/envs/tf2/lib/python3.6/site-packages/ipykernel_launcher.py:51: UserWarning: /home/mimus/apiais/data/images/ANPR/training/masks_plate_loc/masks_45_9_augmented_image_17957.jpg is a low contrast image\n",
      "/home/mimus/anaconda3/envs/tf2/lib/python3.6/site-packages/ipykernel_launcher.py:51: UserWarning: /home/mimus/apiais/data/images/ANPR/training/masks_plate_loc/masks_367_32_augmented_image_17958.jpg is a low contrast image\n"
     ]
    },
    {
     "name": "stdout",
     "output_type": "stream",
     "text": [
      "2171 17959\n",
      "2172 17960\n",
      "2173 17961\n"
     ]
    },
    {
     "name": "stderr",
     "output_type": "stream",
     "text": [
      "/home/mimus/anaconda3/envs/tf2/lib/python3.6/site-packages/ipykernel_launcher.py:51: UserWarning: /home/mimus/apiais/data/images/ANPR/training/masks_plate_loc/masks_364_18_augmented_image_17959.jpg is a low contrast image\n",
      "/home/mimus/anaconda3/envs/tf2/lib/python3.6/site-packages/ipykernel_launcher.py:51: UserWarning: /home/mimus/apiais/data/images/ANPR/training/masks_plate_loc/masks_187_40_augmented_image_10891_augmented_image_17960.jpg is a low contrast image\n"
     ]
    },
    {
     "name": "stdout",
     "output_type": "stream",
     "text": [
      "2174 17962\n",
      "2175 17963\n"
     ]
    },
    {
     "name": "stderr",
     "output_type": "stream",
     "text": [
      "/home/mimus/anaconda3/envs/tf2/lib/python3.6/site-packages/ipykernel_launcher.py:51: UserWarning: /home/mimus/apiais/data/images/ANPR/training/masks_plate_loc/masks_60_16_augmented_image_10940_augmented_image_17962.jpg is a low contrast image\n",
      "/home/mimus/anaconda3/envs/tf2/lib/python3.6/site-packages/ipykernel_launcher.py:51: UserWarning: /home/mimus/apiais/data/images/ANPR/training/masks_plate_loc/masks_160_33_augmented_image_17963.jpg is a low contrast image\n"
     ]
    },
    {
     "name": "stdout",
     "output_type": "stream",
     "text": [
      "2176 17964\n",
      "2177 17965\n"
     ]
    },
    {
     "name": "stderr",
     "output_type": "stream",
     "text": [
      "/home/mimus/anaconda3/envs/tf2/lib/python3.6/site-packages/ipykernel_launcher.py:51: UserWarning: /home/mimus/apiais/data/images/ANPR/training/masks_plate_loc/masks_204_0_augmented_image_17965.jpg is a low contrast image\n"
     ]
    },
    {
     "name": "stdout",
     "output_type": "stream",
     "text": [
      "2178 17966\n",
      "2179 17967\n"
     ]
    },
    {
     "name": "stderr",
     "output_type": "stream",
     "text": [
      "/home/mimus/anaconda3/envs/tf2/lib/python3.6/site-packages/ipykernel_launcher.py:51: UserWarning: /home/mimus/apiais/data/images/ANPR/training/masks_plate_loc/masks_298_39_augmented_image_17967.jpg is a low contrast image\n"
     ]
    },
    {
     "name": "stdout",
     "output_type": "stream",
     "text": [
      "2180 17968\n",
      "2181 17969\n",
      "2182 17970\n",
      "2183 17971\n"
     ]
    },
    {
     "name": "stderr",
     "output_type": "stream",
     "text": [
      "/home/mimus/anaconda3/envs/tf2/lib/python3.6/site-packages/ipykernel_launcher.py:51: UserWarning: /home/mimus/apiais/data/images/ANPR/training/masks_plate_loc/masks_2_41_augmented_image_17970.jpg is a low contrast image\n"
     ]
    },
    {
     "name": "stdout",
     "output_type": "stream",
     "text": [
      "2184 17972\n",
      "2185 17973\n"
     ]
    },
    {
     "name": "stderr",
     "output_type": "stream",
     "text": [
      "/home/mimus/anaconda3/envs/tf2/lib/python3.6/site-packages/ipykernel_launcher.py:51: UserWarning: /home/mimus/apiais/data/images/ANPR/training/masks_plate_loc/masks_389_39_augmented_image_17973.jpg is a low contrast image\n"
     ]
    },
    {
     "name": "stdout",
     "output_type": "stream",
     "text": [
      "2186 17974\n",
      "2187 17975\n",
      "2188 17976\n",
      "2189 17977\n",
      "2190 17978\n"
     ]
    },
    {
     "name": "stderr",
     "output_type": "stream",
     "text": [
      "/home/mimus/anaconda3/envs/tf2/lib/python3.6/site-packages/ipykernel_launcher.py:51: UserWarning: /home/mimus/apiais/data/images/ANPR/training/masks_plate_loc/masks_651_32_augmented_image_17978.jpg is a low contrast image\n",
      "/home/mimus/anaconda3/envs/tf2/lib/python3.6/site-packages/ipykernel_launcher.py:51: UserWarning: /home/mimus/apiais/data/images/ANPR/training/masks_plate_loc/masks_26_20_augmented_image_17979.jpg is a low contrast image\n"
     ]
    },
    {
     "name": "stdout",
     "output_type": "stream",
     "text": [
      "2191 17979\n",
      "2192 17980\n",
      "2193 17981\n",
      "2194 17982\n",
      "2195 17983\n"
     ]
    },
    {
     "name": "stderr",
     "output_type": "stream",
     "text": [
      "/home/mimus/anaconda3/envs/tf2/lib/python3.6/site-packages/ipykernel_launcher.py:51: UserWarning: /home/mimus/apiais/data/images/ANPR/training/masks_plate_loc/masks_316_34_augmented_image_17981.jpg is a low contrast image\n"
     ]
    },
    {
     "name": "stdout",
     "output_type": "stream",
     "text": [
      "2196 17984\n",
      "2197 17985\n",
      "2198 17986\n",
      "2199 17987\n"
     ]
    },
    {
     "name": "stderr",
     "output_type": "stream",
     "text": [
      "/home/mimus/anaconda3/envs/tf2/lib/python3.6/site-packages/ipykernel_launcher.py:51: UserWarning: /home/mimus/apiais/data/images/ANPR/training/masks_plate_loc/masks_515_32_augmented_image_17986.jpg is a low contrast image\n",
      "/home/mimus/anaconda3/envs/tf2/lib/python3.6/site-packages/ipykernel_launcher.py:51: UserWarning: /home/mimus/apiais/data/images/ANPR/training/masks_plate_loc/masks_197_24_augmented_image_17987.jpg is a low contrast image\n"
     ]
    },
    {
     "name": "stdout",
     "output_type": "stream",
     "text": [
      "2200 17988\n",
      "2201 17989\n",
      "2202 17990\n",
      "2203 17991\n",
      "2204 17992\n"
     ]
    },
    {
     "name": "stderr",
     "output_type": "stream",
     "text": [
      "/home/mimus/anaconda3/envs/tf2/lib/python3.6/site-packages/ipykernel_launcher.py:51: UserWarning: /home/mimus/apiais/data/images/ANPR/training/masks_plate_loc/masks_2_14_augmented_image_17990.jpg is a low contrast image\n",
      "/home/mimus/anaconda3/envs/tf2/lib/python3.6/site-packages/ipykernel_launcher.py:51: UserWarning: /home/mimus/apiais/data/images/ANPR/training/masks_plate_loc/masks_81_16_augmented_image_14338_augmented_image_17991.jpg is a low contrast image\n"
     ]
    },
    {
     "name": "stdout",
     "output_type": "stream",
     "text": [
      "2205 17993\n",
      "2206 17994\n",
      "2207 17995\n",
      "2208 17996\n",
      "2209 17997\n",
      "2210 17998\n",
      "2211 17999\n"
     ]
    },
    {
     "name": "stderr",
     "output_type": "stream",
     "text": [
      "/home/mimus/anaconda3/envs/tf2/lib/python3.6/site-packages/ipykernel_launcher.py:51: UserWarning: /home/mimus/apiais/data/images/ANPR/training/masks_plate_loc/masks_555_32_augmented_image_17998.jpg is a low contrast image\n",
      "/home/mimus/anaconda3/envs/tf2/lib/python3.6/site-packages/ipykernel_launcher.py:51: UserWarning: /home/mimus/apiais/data/images/ANPR/training/masks_plate_loc/masks_192_29_augmented_image_12605_augmented_image_17999.jpg is a low contrast image\n"
     ]
    },
    {
     "name": "stdout",
     "output_type": "stream",
     "text": [
      "2212 18000\n",
      "2213 18001\n"
     ]
    },
    {
     "name": "stderr",
     "output_type": "stream",
     "text": [
      "/home/mimus/anaconda3/envs/tf2/lib/python3.6/site-packages/ipykernel_launcher.py:51: UserWarning: /home/mimus/apiais/data/images/ANPR/training/masks_plate_loc/masks_645_32_augmented_image_18000.jpg is a low contrast image\n"
     ]
    },
    {
     "name": "stdout",
     "output_type": "stream",
     "text": [
      "2214 18002\n",
      "2215 18003\n"
     ]
    },
    {
     "name": "stderr",
     "output_type": "stream",
     "text": [
      "/home/mimus/anaconda3/envs/tf2/lib/python3.6/site-packages/ipykernel_launcher.py:51: UserWarning: /home/mimus/apiais/data/images/ANPR/training/masks_plate_loc/masks_339_39_augmented_image_18002.jpg is a low contrast image\n",
      "/home/mimus/anaconda3/envs/tf2/lib/python3.6/site-packages/ipykernel_launcher.py:51: UserWarning: /home/mimus/apiais/data/images/ANPR/training/masks_plate_loc/masks_372_29_augmented_image_8129_augmented_image_18003.jpg is a low contrast image\n"
     ]
    },
    {
     "name": "stdout",
     "output_type": "stream",
     "text": [
      "2216 18004\n",
      "2217 18005\n",
      "2218 18006\n",
      "2219 18007\n",
      "2220 18008\n"
     ]
    },
    {
     "name": "stderr",
     "output_type": "stream",
     "text": [
      "/home/mimus/anaconda3/envs/tf2/lib/python3.6/site-packages/ipykernel_launcher.py:51: UserWarning: /home/mimus/apiais/data/images/ANPR/training/masks_plate_loc/masks_30_16_augmented_image_18006.jpg is a low contrast image\n",
      "/home/mimus/anaconda3/envs/tf2/lib/python3.6/site-packages/ipykernel_launcher.py:51: UserWarning: /home/mimus/apiais/data/images/ANPR/training/masks_plate_loc/masks_391_29_augmented_image_18008.jpg is a low contrast image\n"
     ]
    },
    {
     "name": "stdout",
     "output_type": "stream",
     "text": [
      "2221 18009\n",
      "2222 18010\n",
      "2223 18011\n"
     ]
    },
    {
     "name": "stderr",
     "output_type": "stream",
     "text": [
      "/home/mimus/anaconda3/envs/tf2/lib/python3.6/site-packages/ipykernel_launcher.py:51: UserWarning: /home/mimus/apiais/data/images/ANPR/training/masks_plate_loc/masks_585_18_augmented_image_18009.jpg is a low contrast image\n"
     ]
    },
    {
     "name": "stdout",
     "output_type": "stream",
     "text": [
      "2224 18012\n",
      "2225 18013\n",
      "2226 18014\n"
     ]
    },
    {
     "name": "stderr",
     "output_type": "stream",
     "text": [
      "/home/mimus/anaconda3/envs/tf2/lib/python3.6/site-packages/ipykernel_launcher.py:51: UserWarning: /home/mimus/apiais/data/images/ANPR/training/masks_plate_loc/masks_115_0_augmented_image_18012.jpg is a low contrast image\n",
      "/home/mimus/anaconda3/envs/tf2/lib/python3.6/site-packages/ipykernel_launcher.py:51: UserWarning: /home/mimus/apiais/data/images/ANPR/training/masks_plate_loc/masks_153_27_augmented_image_18013.jpg is a low contrast image\n"
     ]
    },
    {
     "name": "stdout",
     "output_type": "stream",
     "text": [
      "2227 18015\n",
      "2228 18016\n"
     ]
    },
    {
     "name": "stderr",
     "output_type": "stream",
     "text": [
      "/home/mimus/anaconda3/envs/tf2/lib/python3.6/site-packages/ipykernel_launcher.py:51: UserWarning: /home/mimus/apiais/data/images/ANPR/training/masks_plate_loc/masks_300_0_augmented_image_18015.jpg is a low contrast image\n"
     ]
    },
    {
     "name": "stdout",
     "output_type": "stream",
     "text": [
      "2229 18017\n",
      "2230 18018\n"
     ]
    },
    {
     "name": "stderr",
     "output_type": "stream",
     "text": [
      "/home/mimus/anaconda3/envs/tf2/lib/python3.6/site-packages/ipykernel_launcher.py:51: UserWarning: /home/mimus/apiais/data/images/ANPR/training/masks_plate_loc/masks_151_39_augmented_image_18017.jpg is a low contrast image\n"
     ]
    },
    {
     "name": "stdout",
     "output_type": "stream",
     "text": [
      "2231 18019\n",
      "2232 18020\n",
      "2233 18021\n",
      "2234 18022\n"
     ]
    },
    {
     "name": "stderr",
     "output_type": "stream",
     "text": [
      "/home/mimus/anaconda3/envs/tf2/lib/python3.6/site-packages/ipykernel_launcher.py:51: UserWarning: /home/mimus/apiais/data/images/ANPR/training/masks_plate_loc/masks_78_39_augmented_image_11567_augmented_image_18021.jpg is a low contrast image\n"
     ]
    },
    {
     "name": "stdout",
     "output_type": "stream",
     "text": [
      "2235 18023\n",
      "2236 18024\n"
     ]
    },
    {
     "name": "stderr",
     "output_type": "stream",
     "text": [
      "/home/mimus/anaconda3/envs/tf2/lib/python3.6/site-packages/ipykernel_launcher.py:51: UserWarning: /home/mimus/apiais/data/images/ANPR/training/masks_plate_loc/masks_373_0_augmented_image_18023.jpg is a low contrast image\n",
      "/home/mimus/anaconda3/envs/tf2/lib/python3.6/site-packages/ipykernel_launcher.py:51: UserWarning: /home/mimus/apiais/data/images/ANPR/training/masks_plate_loc/masks_346_29_augmented_image_18024.jpg is a low contrast image\n"
     ]
    },
    {
     "name": "stdout",
     "output_type": "stream",
     "text": [
      "2237 18025\n",
      "2238 18026\n",
      "2239 18027\n",
      "2240 18028\n",
      "2241 18029\n",
      "2242 18030\n",
      "2243 18031\n"
     ]
    },
    {
     "name": "stderr",
     "output_type": "stream",
     "text": [
      "/home/mimus/anaconda3/envs/tf2/lib/python3.6/site-packages/ipykernel_launcher.py:51: UserWarning: /home/mimus/apiais/data/images/ANPR/training/masks_plate_loc/masks_16_11_augmented_image_10330_augmented_image_18030.jpg is a low contrast image\n"
     ]
    },
    {
     "name": "stdout",
     "output_type": "stream",
     "text": [
      "2244 18032\n",
      "2245 18033\n",
      "2246 18034\n",
      "2247 18035\n",
      "2248 18036\n"
     ]
    },
    {
     "name": "stderr",
     "output_type": "stream",
     "text": [
      "/home/mimus/anaconda3/envs/tf2/lib/python3.6/site-packages/ipykernel_launcher.py:51: UserWarning: /home/mimus/apiais/data/images/ANPR/training/masks_plate_loc/masks_92_4_augmented_image_18036.jpg is a low contrast image\n"
     ]
    },
    {
     "name": "stdout",
     "output_type": "stream",
     "text": [
      "2249 18037\n",
      "2250 18038\n",
      "2251 18039\n",
      "2252 18040\n"
     ]
    },
    {
     "name": "stderr",
     "output_type": "stream",
     "text": [
      "/home/mimus/anaconda3/envs/tf2/lib/python3.6/site-packages/ipykernel_launcher.py:51: UserWarning: /home/mimus/apiais/data/images/ANPR/training/masks_plate_loc/masks_343_18_augmented_image_15265_augmented_image_18040.jpg is a low contrast image\n",
      "/home/mimus/anaconda3/envs/tf2/lib/python3.6/site-packages/ipykernel_launcher.py:51: UserWarning: /home/mimus/apiais/data/images/ANPR/training/masks_plate_loc/masks_50_42_augmented_image_18041.jpg is a low contrast image\n"
     ]
    },
    {
     "name": "stdout",
     "output_type": "stream",
     "text": [
      "2253 18041\n",
      "2254 18042\n"
     ]
    },
    {
     "name": "stderr",
     "output_type": "stream",
     "text": [
      "/home/mimus/anaconda3/envs/tf2/lib/python3.6/site-packages/ipykernel_launcher.py:51: UserWarning: /home/mimus/apiais/data/images/ANPR/training/masks_plate_loc/masks_241_24_augmented_image_9047_augmented_image_18042.jpg is a low contrast image\n",
      "/home/mimus/anaconda3/envs/tf2/lib/python3.6/site-packages/ipykernel_launcher.py:51: UserWarning: /home/mimus/apiais/data/images/ANPR/training/masks_plate_loc/masks_237_20_augmented_image_18043.jpg is a low contrast image\n",
      "/home/mimus/anaconda3/envs/tf2/lib/python3.6/site-packages/ipykernel_launcher.py:51: UserWarning: /home/mimus/apiais/data/images/ANPR/training/masks_plate_loc/masks_517_32_augmented_image_18044.jpg is a low contrast image\n"
     ]
    },
    {
     "name": "stdout",
     "output_type": "stream",
     "text": [
      "2255 18043\n",
      "2256 18044\n",
      "2257 18045\n"
     ]
    },
    {
     "name": "stderr",
     "output_type": "stream",
     "text": [
      "/home/mimus/anaconda3/envs/tf2/lib/python3.6/site-packages/ipykernel_launcher.py:51: UserWarning: /home/mimus/apiais/data/images/ANPR/training/masks_plate_loc/masks_131_31_augmented_image_15286_augmented_image_18045.jpg is a low contrast image\n"
     ]
    },
    {
     "name": "stdout",
     "output_type": "stream",
     "text": [
      "2258 18046\n",
      "2259 18047\n",
      "2260 18048\n",
      "2261 18049\n"
     ]
    },
    {
     "name": "stderr",
     "output_type": "stream",
     "text": [
      "/home/mimus/anaconda3/envs/tf2/lib/python3.6/site-packages/ipykernel_launcher.py:51: UserWarning: /home/mimus/apiais/data/images/ANPR/training/masks_plate_loc/masks_15_augmented_image_9639_augmented_image_18048.jpg is a low contrast image\n"
     ]
    },
    {
     "name": "stdout",
     "output_type": "stream",
     "text": [
      "2262 18050\n",
      "2263 18051\n"
     ]
    },
    {
     "name": "stderr",
     "output_type": "stream",
     "text": [
      "/home/mimus/anaconda3/envs/tf2/lib/python3.6/site-packages/ipykernel_launcher.py:51: UserWarning: /home/mimus/apiais/data/images/ANPR/training/masks_plate_loc/masks_246_32_augmented_image_18050.jpg is a low contrast image\n"
     ]
    },
    {
     "name": "stdout",
     "output_type": "stream",
     "text": [
      "2264 18052\n",
      "2265 18053\n",
      "2266 18054\n",
      "2267 18055\n",
      "2268 18056\n",
      "2269 18057\n",
      "2270 18058\n"
     ]
    },
    {
     "name": "stderr",
     "output_type": "stream",
     "text": [
      "/home/mimus/anaconda3/envs/tf2/lib/python3.6/site-packages/ipykernel_launcher.py:51: UserWarning: /home/mimus/apiais/data/images/ANPR/training/masks_plate_loc/masks_210_25_augmented_image_12135_augmented_image_18057.jpg is a low contrast image\n"
     ]
    },
    {
     "name": "stdout",
     "output_type": "stream",
     "text": [
      "2271 18059\n",
      "2272 18060\n",
      "2273 18061\n",
      "2274 18062\n",
      "2275 18063\n"
     ]
    },
    {
     "name": "stderr",
     "output_type": "stream",
     "text": [
      "/home/mimus/anaconda3/envs/tf2/lib/python3.6/site-packages/ipykernel_launcher.py:51: UserWarning: /home/mimus/apiais/data/images/ANPR/training/masks_plate_loc/masks_102_28_augmented_image_13905_augmented_image_18061.jpg is a low contrast image\n",
      "/home/mimus/anaconda3/envs/tf2/lib/python3.6/site-packages/ipykernel_launcher.py:51: UserWarning: /home/mimus/apiais/data/images/ANPR/training/masks_plate_loc/masks_149_4_augmented_image_18063.jpg is a low contrast image\n",
      "/home/mimus/anaconda3/envs/tf2/lib/python3.6/site-packages/ipykernel_launcher.py:51: UserWarning: /home/mimus/apiais/data/images/ANPR/training/masks_plate_loc/masks_126_39_augmented_image_18064.jpg is a low contrast image\n"
     ]
    },
    {
     "name": "stdout",
     "output_type": "stream",
     "text": [
      "2276 18064\n",
      "2277 18065\n",
      "2278 18066\n",
      "2279 18067\n"
     ]
    },
    {
     "name": "stderr",
     "output_type": "stream",
     "text": [
      "/home/mimus/anaconda3/envs/tf2/lib/python3.6/site-packages/ipykernel_launcher.py:51: UserWarning: /home/mimus/apiais/data/images/ANPR/training/masks_plate_loc/masks_314_42_augmented_image_10962_augmented_image_18066.jpg is a low contrast image\n",
      "/home/mimus/anaconda3/envs/tf2/lib/python3.6/site-packages/ipykernel_launcher.py:51: UserWarning: /home/mimus/apiais/data/images/ANPR/training/masks_plate_loc/masks_156_43_augmented_image_18068.jpg is a low contrast image\n"
     ]
    },
    {
     "name": "stdout",
     "output_type": "stream",
     "text": [
      "2280 18068\n",
      "2281 18069\n"
     ]
    },
    {
     "name": "stderr",
     "output_type": "stream",
     "text": [
      "/home/mimus/anaconda3/envs/tf2/lib/python3.6/site-packages/ipykernel_launcher.py:51: UserWarning: /home/mimus/apiais/data/images/ANPR/training/masks_plate_loc/masks_451_18_augmented_image_18069.jpg is a low contrast image\n",
      "/home/mimus/anaconda3/envs/tf2/lib/python3.6/site-packages/ipykernel_launcher.py:51: UserWarning: /home/mimus/apiais/data/images/ANPR/training/masks_plate_loc/masks_274_20_augmented_image_13618_augmented_image_18070.jpg is a low contrast image\n"
     ]
    },
    {
     "name": "stdout",
     "output_type": "stream",
     "text": [
      "2282 18070\n",
      "2283 18071\n"
     ]
    },
    {
     "name": "stderr",
     "output_type": "stream",
     "text": [
      "/home/mimus/anaconda3/envs/tf2/lib/python3.6/site-packages/ipykernel_launcher.py:51: UserWarning: /home/mimus/apiais/data/images/ANPR/training/masks_plate_loc/masks_63_29_augmented_image_18071.jpg is a low contrast image\n"
     ]
    },
    {
     "name": "stdout",
     "output_type": "stream",
     "text": [
      "2284 18072\n",
      "2285 18073\n",
      "2286 18074\n",
      "2287 18075\n",
      "2288 18076\n"
     ]
    },
    {
     "name": "stderr",
     "output_type": "stream",
     "text": [
      "/home/mimus/anaconda3/envs/tf2/lib/python3.6/site-packages/ipykernel_launcher.py:51: UserWarning: /home/mimus/apiais/data/images/ANPR/training/masks_plate_loc/masks_157_18_augmented_image_18076.jpg is a low contrast image\n"
     ]
    },
    {
     "name": "stdout",
     "output_type": "stream",
     "text": [
      "2289 18077\n",
      "2290 18078\n"
     ]
    },
    {
     "name": "stderr",
     "output_type": "stream",
     "text": [
      "/home/mimus/anaconda3/envs/tf2/lib/python3.6/site-packages/ipykernel_launcher.py:51: UserWarning: /home/mimus/apiais/data/images/ANPR/training/masks_plate_loc/masks_5_43_augmented_image_18078.jpg is a low contrast image\n",
      "/home/mimus/anaconda3/envs/tf2/lib/python3.6/site-packages/ipykernel_launcher.py:51: UserWarning: /home/mimus/apiais/data/images/ANPR/training/masks_plate_loc/masks_517_18_augmented_image_18079.jpg is a low contrast image\n"
     ]
    },
    {
     "name": "stdout",
     "output_type": "stream",
     "text": [
      "2291 18079\n",
      "2292 18080\n",
      "2293 18081\n",
      "2294 18082\n"
     ]
    },
    {
     "name": "stderr",
     "output_type": "stream",
     "text": [
      "/home/mimus/anaconda3/envs/tf2/lib/python3.6/site-packages/ipykernel_launcher.py:51: UserWarning: /home/mimus/apiais/data/images/ANPR/training/masks_plate_loc/masks_8_9_augmented_image_14422_augmented_image_18081.jpg is a low contrast image\n",
      "/home/mimus/anaconda3/envs/tf2/lib/python3.6/site-packages/ipykernel_launcher.py:51: UserWarning: /home/mimus/apiais/data/images/ANPR/training/masks_plate_loc/masks_99_29_augmented_image_18082.jpg is a low contrast image\n"
     ]
    },
    {
     "name": "stdout",
     "output_type": "stream",
     "text": [
      "2295 18083\n",
      "2296 18084\n"
     ]
    },
    {
     "name": "stderr",
     "output_type": "stream",
     "text": [
      "/home/mimus/anaconda3/envs/tf2/lib/python3.6/site-packages/ipykernel_launcher.py:51: UserWarning: /home/mimus/apiais/data/images/ANPR/training/masks_plate_loc/masks_334_18_augmented_image_14147_augmented_image_18083.jpg is a low contrast image\n"
     ]
    },
    {
     "name": "stdout",
     "output_type": "stream",
     "text": [
      "2297 18085\n",
      "2298 18086\n"
     ]
    },
    {
     "name": "stderr",
     "output_type": "stream",
     "text": [
      "/home/mimus/anaconda3/envs/tf2/lib/python3.6/site-packages/ipykernel_launcher.py:51: UserWarning: /home/mimus/apiais/data/images/ANPR/training/masks_plate_loc/masks_716_32_augmented_image_14568_augmented_image_18085.jpg is a low contrast image\n",
      "/home/mimus/anaconda3/envs/tf2/lib/python3.6/site-packages/ipykernel_launcher.py:51: UserWarning: /home/mimus/apiais/data/images/ANPR/training/masks_plate_loc/masks_27_39_augmented_image_18086.jpg is a low contrast image\n"
     ]
    },
    {
     "name": "stdout",
     "output_type": "stream",
     "text": [
      "2299 18087\n",
      "2300 18088\n"
     ]
    },
    {
     "name": "stderr",
     "output_type": "stream",
     "text": [
      "/home/mimus/anaconda3/envs/tf2/lib/python3.6/site-packages/ipykernel_launcher.py:51: UserWarning: /home/mimus/apiais/data/images/ANPR/training/masks_plate_loc/masks_27_15_augmented_image_14337_augmented_image_18087.jpg is a low contrast image\n"
     ]
    },
    {
     "name": "stdout",
     "output_type": "stream",
     "text": [
      "2301 18089\n",
      "2302 18090\n"
     ]
    },
    {
     "name": "stderr",
     "output_type": "stream",
     "text": [
      "/home/mimus/anaconda3/envs/tf2/lib/python3.6/site-packages/ipykernel_launcher.py:51: UserWarning: /home/mimus/apiais/data/images/ANPR/training/masks_plate_loc/masks_725_32_augmented_image_11983_augmented_image_18089.jpg is a low contrast image\n"
     ]
    },
    {
     "name": "stdout",
     "output_type": "stream",
     "text": [
      "2303 18091\n",
      "2304 18092\n",
      "2305 18093\n"
     ]
    },
    {
     "name": "stderr",
     "output_type": "stream",
     "text": [
      "/home/mimus/anaconda3/envs/tf2/lib/python3.6/site-packages/ipykernel_launcher.py:51: UserWarning: /home/mimus/apiais/data/images/ANPR/training/masks_plate_loc/masks_21_30_1_augmented_image_12065_augmented_image_18092.jpg is a low contrast image\n",
      "/home/mimus/anaconda3/envs/tf2/lib/python3.6/site-packages/ipykernel_launcher.py:51: UserWarning: /home/mimus/apiais/data/images/ANPR/training/masks_plate_loc/masks_454_18_augmented_image_18093.jpg is a low contrast image\n"
     ]
    },
    {
     "name": "stdout",
     "output_type": "stream",
     "text": [
      "2306 18094\n",
      "2307 18095\n"
     ]
    },
    {
     "name": "stderr",
     "output_type": "stream",
     "text": [
      "/home/mimus/anaconda3/envs/tf2/lib/python3.6/site-packages/ipykernel_launcher.py:51: UserWarning: /home/mimus/apiais/data/images/ANPR/training/masks_plate_loc/masks_263_39_augmented_image_18095.jpg is a low contrast image\n"
     ]
    },
    {
     "name": "stdout",
     "output_type": "stream",
     "text": [
      "2308 18096\n",
      "2309 18097\n",
      "2310 18098\n",
      "2311 18099\n",
      "2312 18100\n"
     ]
    },
    {
     "name": "stderr",
     "output_type": "stream",
     "text": [
      "/home/mimus/anaconda3/envs/tf2/lib/python3.6/site-packages/ipykernel_launcher.py:51: UserWarning: /home/mimus/apiais/data/images/ANPR/training/masks_plate_loc/masks_438_39_augmented_image_10150_augmented_image_18100.jpg is a low contrast image\n"
     ]
    },
    {
     "name": "stdout",
     "output_type": "stream",
     "text": [
      "2313 18101\n",
      "2314 18102\n",
      "2315 18103\n",
      "2316 18104\n",
      "2317 18105\n",
      "2318 18106\n",
      "2319 18107\n",
      "2320 18108\n",
      "2321 18109\n"
     ]
    },
    {
     "name": "stderr",
     "output_type": "stream",
     "text": [
      "/home/mimus/anaconda3/envs/tf2/lib/python3.6/site-packages/ipykernel_launcher.py:51: UserWarning: /home/mimus/apiais/data/images/ANPR/training/masks_plate_loc/masks_302_34_augmented_image_18108.jpg is a low contrast image\n"
     ]
    },
    {
     "name": "stdout",
     "output_type": "stream",
     "text": [
      "2322 18110\n",
      "2323 18111\n"
     ]
    },
    {
     "name": "stderr",
     "output_type": "stream",
     "text": [
      "/home/mimus/anaconda3/envs/tf2/lib/python3.6/site-packages/ipykernel_launcher.py:51: UserWarning: /home/mimus/apiais/data/images/ANPR/training/masks_plate_loc/masks_5_21_augmented_image_18111.jpg is a low contrast image\n",
      "/home/mimus/anaconda3/envs/tf2/lib/python3.6/site-packages/ipykernel_launcher.py:51: UserWarning: /home/mimus/apiais/data/images/ANPR/training/masks_plate_loc/masks_184_43_augmented_image_18113.jpg is a low contrast image\n"
     ]
    },
    {
     "name": "stdout",
     "output_type": "stream",
     "text": [
      "2324 18112\n",
      "2325 18113\n",
      "2326 18114\n"
     ]
    },
    {
     "name": "stderr",
     "output_type": "stream",
     "text": [
      "/home/mimus/anaconda3/envs/tf2/lib/python3.6/site-packages/ipykernel_launcher.py:51: UserWarning: /home/mimus/apiais/data/images/ANPR/training/masks_plate_loc/masks_157_43_augmented_image_12216_augmented_image_18114.jpg is a low contrast image\n"
     ]
    },
    {
     "name": "stdout",
     "output_type": "stream",
     "text": [
      "2327 18115\n",
      "2328 18116\n",
      "2329 18117\n",
      "2330 18118\n"
     ]
    },
    {
     "name": "stderr",
     "output_type": "stream",
     "text": [
      "/home/mimus/anaconda3/envs/tf2/lib/python3.6/site-packages/ipykernel_launcher.py:51: UserWarning: /home/mimus/apiais/data/images/ANPR/training/masks_plate_loc/masks_1_19_augmented_image_18117.jpg is a low contrast image\n",
      "/home/mimus/anaconda3/envs/tf2/lib/python3.6/site-packages/ipykernel_launcher.py:51: UserWarning: /home/mimus/apiais/data/images/ANPR/training/masks_plate_loc/masks_312_34_augmented_image_8817_augmented_image_18118.jpg is a low contrast image\n",
      "/home/mimus/anaconda3/envs/tf2/lib/python3.6/site-packages/ipykernel_launcher.py:51: UserWarning: /home/mimus/apiais/data/images/ANPR/training/masks_plate_loc/masks_306_0_augmented_image_18119.jpg is a low contrast image\n"
     ]
    },
    {
     "name": "stdout",
     "output_type": "stream",
     "text": [
      "2331 18119\n",
      "2332 18120\n",
      "2333 18121\n"
     ]
    },
    {
     "name": "stderr",
     "output_type": "stream",
     "text": [
      "/home/mimus/anaconda3/envs/tf2/lib/python3.6/site-packages/ipykernel_launcher.py:51: UserWarning: /home/mimus/apiais/data/images/ANPR/training/masks_plate_loc/masks_740_32_augmented_image_18120.jpg is a low contrast image\n",
      "/home/mimus/anaconda3/envs/tf2/lib/python3.6/site-packages/ipykernel_launcher.py:51: UserWarning: /home/mimus/apiais/data/images/ANPR/training/masks_plate_loc/masks_177_27_augmented_image_18122.jpg is a low contrast image\n"
     ]
    },
    {
     "name": "stdout",
     "output_type": "stream",
     "text": [
      "2334 18122\n",
      "2335 18123\n",
      "2336 18124\n",
      "2337 18125\n",
      "2338 18126\n",
      "2339 18127\n",
      "2340 18128\n",
      "2341 18129\n",
      "2342 18130\n",
      "2343 18131\n"
     ]
    },
    {
     "name": "stderr",
     "output_type": "stream",
     "text": [
      "/home/mimus/anaconda3/envs/tf2/lib/python3.6/site-packages/ipykernel_launcher.py:51: UserWarning: /home/mimus/apiais/data/images/ANPR/training/masks_plate_loc/masks_117_39_augmented_image_8099_augmented_image_18130.jpg is a low contrast image\n"
     ]
    },
    {
     "name": "stdout",
     "output_type": "stream",
     "text": [
      "2344 18132\n",
      "2345 18133\n",
      "2346 18134\n",
      "2347 18135\n",
      "2348 18136\n",
      "2349 18137\n"
     ]
    },
    {
     "name": "stderr",
     "output_type": "stream",
     "text": [
      "/home/mimus/anaconda3/envs/tf2/lib/python3.6/site-packages/ipykernel_launcher.py:51: UserWarning: /home/mimus/apiais/data/images/ANPR/training/masks_plate_loc/masks_208_43_augmented_image_10952_augmented_image_18136.jpg is a low contrast image\n",
      "/home/mimus/anaconda3/envs/tf2/lib/python3.6/site-packages/ipykernel_launcher.py:51: UserWarning: /home/mimus/apiais/data/images/ANPR/training/masks_plate_loc/masks_44_35_augmented_image_18137.jpg is a low contrast image\n"
     ]
    },
    {
     "name": "stdout",
     "output_type": "stream",
     "text": [
      "2350 18138\n",
      "2351 18139\n",
      "2352 18140\n",
      "2353 18141\n",
      "2354 18142\n",
      "2355 18143\n"
     ]
    },
    {
     "name": "stderr",
     "output_type": "stream",
     "text": [
      "/home/mimus/anaconda3/envs/tf2/lib/python3.6/site-packages/ipykernel_launcher.py:51: UserWarning: /home/mimus/apiais/data/images/ANPR/training/masks_plate_loc/masks_240_0_augmented_image_10999_augmented_image_18143.jpg is a low contrast image\n"
     ]
    },
    {
     "name": "stdout",
     "output_type": "stream",
     "text": [
      "2356 18144\n",
      "2357 18145\n",
      "2358 18146\n",
      "2359 18147\n",
      "2360 18148\n"
     ]
    },
    {
     "name": "stderr",
     "output_type": "stream",
     "text": [
      "/home/mimus/anaconda3/envs/tf2/lib/python3.6/site-packages/ipykernel_launcher.py:51: UserWarning: /home/mimus/apiais/data/images/ANPR/training/masks_plate_loc/masks_659_32_augmented_image_15025_augmented_image_18148.jpg is a low contrast image\n",
      "/home/mimus/anaconda3/envs/tf2/lib/python3.6/site-packages/ipykernel_launcher.py:51: UserWarning: /home/mimus/apiais/data/images/ANPR/training/masks_plate_loc/masks_192_25_augmented_image_18149.jpg is a low contrast image\n"
     ]
    },
    {
     "name": "stdout",
     "output_type": "stream",
     "text": [
      "2361 18149\n",
      "2362 18150\n"
     ]
    },
    {
     "name": "stderr",
     "output_type": "stream",
     "text": [
      "/home/mimus/anaconda3/envs/tf2/lib/python3.6/site-packages/ipykernel_launcher.py:51: UserWarning: /home/mimus/apiais/data/images/ANPR/training/masks_plate_loc/masks_53_20_augmented_image_18150.jpg is a low contrast image\n",
      "/home/mimus/anaconda3/envs/tf2/lib/python3.6/site-packages/ipykernel_launcher.py:51: UserWarning: /home/mimus/apiais/data/images/ANPR/training/masks_plate_loc/masks_238_28_augmented_image_18151.jpg is a low contrast image\n",
      "/home/mimus/anaconda3/envs/tf2/lib/python3.6/site-packages/ipykernel_launcher.py:51: UserWarning: /home/mimus/apiais/data/images/ANPR/training/masks_plate_loc/masks_249_32_augmented_image_18152.jpg is a low contrast image\n"
     ]
    },
    {
     "name": "stdout",
     "output_type": "stream",
     "text": [
      "2363 18151\n",
      "2364 18152\n",
      "2365 18153\n",
      "2366 18154\n",
      "2367 18155\n"
     ]
    },
    {
     "name": "stderr",
     "output_type": "stream",
     "text": [
      "/home/mimus/anaconda3/envs/tf2/lib/python3.6/site-packages/ipykernel_launcher.py:51: UserWarning: /home/mimus/apiais/data/images/ANPR/training/masks_plate_loc/masks_169_24_augmented_image_10570_augmented_image_18155.jpg is a low contrast image\n"
     ]
    },
    {
     "name": "stdout",
     "output_type": "stream",
     "text": [
      "2368 18156\n",
      "2369 18157\n",
      "2370 18158\n",
      "2371 18159\n",
      "2372 18160\n",
      "2373 18161\n"
     ]
    },
    {
     "name": "stderr",
     "output_type": "stream",
     "text": [
      "/home/mimus/anaconda3/envs/tf2/lib/python3.6/site-packages/ipykernel_launcher.py:51: UserWarning: /home/mimus/apiais/data/images/ANPR/training/masks_plate_loc/masks_503_29_augmented_image_18161.jpg is a low contrast image\n",
      "/home/mimus/anaconda3/envs/tf2/lib/python3.6/site-packages/ipykernel_launcher.py:51: UserWarning: /home/mimus/apiais/data/images/ANPR/training/masks_plate_loc/masks_77_33_augmented_image_18162.jpg is a low contrast image\n"
     ]
    },
    {
     "name": "stdout",
     "output_type": "stream",
     "text": [
      "2374 18162\n",
      "2375 18163\n"
     ]
    },
    {
     "name": "stderr",
     "output_type": "stream",
     "text": [
      "/home/mimus/anaconda3/envs/tf2/lib/python3.6/site-packages/ipykernel_launcher.py:51: UserWarning: /home/mimus/apiais/data/images/ANPR/training/masks_plate_loc/masks_297_28_augmented_image_18163.jpg is a low contrast image\n",
      "/home/mimus/anaconda3/envs/tf2/lib/python3.6/site-packages/ipykernel_launcher.py:51: UserWarning: /home/mimus/apiais/data/images/ANPR/training/masks_plate_loc/masks_73_34_augmented_image_10068_augmented_image_18164.jpg is a low contrast image\n"
     ]
    },
    {
     "name": "stdout",
     "output_type": "stream",
     "text": [
      "2376 18164\n",
      "2377 18165\n"
     ]
    },
    {
     "name": "stderr",
     "output_type": "stream",
     "text": [
      "/home/mimus/anaconda3/envs/tf2/lib/python3.6/site-packages/ipykernel_launcher.py:51: UserWarning: /home/mimus/apiais/data/images/ANPR/training/masks_plate_loc/masks_307_34_augmented_image_18165.jpg is a low contrast image\n",
      "/home/mimus/anaconda3/envs/tf2/lib/python3.6/site-packages/ipykernel_launcher.py:51: UserWarning: /home/mimus/apiais/data/images/ANPR/training/masks_plate_loc/masks_293_28_augmented_image_14892_augmented_image_18166.jpg is a low contrast image\n"
     ]
    },
    {
     "name": "stdout",
     "output_type": "stream",
     "text": [
      "2378 18166\n",
      "2379 18167\n"
     ]
    },
    {
     "name": "stderr",
     "output_type": "stream",
     "text": [
      "/home/mimus/anaconda3/envs/tf2/lib/python3.6/site-packages/ipykernel_launcher.py:51: UserWarning: /home/mimus/apiais/data/images/ANPR/training/masks_plate_loc/masks_215_33_augmented_image_18167.jpg is a low contrast image\n"
     ]
    },
    {
     "name": "stdout",
     "output_type": "stream",
     "text": [
      "2380 18168\n",
      "2381 18169\n"
     ]
    },
    {
     "name": "stderr",
     "output_type": "stream",
     "text": [
      "/home/mimus/anaconda3/envs/tf2/lib/python3.6/site-packages/ipykernel_launcher.py:51: UserWarning: /home/mimus/apiais/data/images/ANPR/training/masks_plate_loc/masks_28_29_augmented_image_18169.jpg is a low contrast image\n"
     ]
    },
    {
     "name": "stdout",
     "output_type": "stream",
     "text": [
      "2382 18170\n",
      "2383 18171\n",
      "2384 18172\n",
      "2385 18173\n",
      "2386 18174\n",
      "2387 18175\n",
      "2388 18176\n",
      "2389 18177\n"
     ]
    },
    {
     "name": "stderr",
     "output_type": "stream",
     "text": [
      "/home/mimus/anaconda3/envs/tf2/lib/python3.6/site-packages/ipykernel_launcher.py:51: UserWarning: /home/mimus/apiais/data/images/ANPR/training/masks_plate_loc/masks_103_39_augmented_image_18176.jpg is a low contrast image\n"
     ]
    },
    {
     "name": "stdout",
     "output_type": "stream",
     "text": [
      "2390 18178\n",
      "2391 18179\n"
     ]
    },
    {
     "name": "stderr",
     "output_type": "stream",
     "text": [
      "/home/mimus/anaconda3/envs/tf2/lib/python3.6/site-packages/ipykernel_launcher.py:51: UserWarning: /home/mimus/apiais/data/images/ANPR/training/masks_plate_loc/masks_39_29_augmented_image_9018_augmented_image_18178.jpg is a low contrast image\n"
     ]
    },
    {
     "name": "stdout",
     "output_type": "stream",
     "text": [
      "2392 18180\n",
      "2393 18181\n",
      "2394 18182\n",
      "2395 18183\n",
      "2396 18184\n",
      "2397 18185\n",
      "2398 18186\n"
     ]
    },
    {
     "name": "stderr",
     "output_type": "stream",
     "text": [
      "/home/mimus/anaconda3/envs/tf2/lib/python3.6/site-packages/ipykernel_launcher.py:51: UserWarning: /home/mimus/apiais/data/images/ANPR/training/masks_plate_loc/masks_536_29_augmented_image_18186.jpg is a low contrast image\n",
      "/home/mimus/anaconda3/envs/tf2/lib/python3.6/site-packages/ipykernel_launcher.py:51: UserWarning: /home/mimus/apiais/data/images/ANPR/training/masks_plate_loc/masks_84_21_augmented_image_18187.jpg is a low contrast image\n"
     ]
    },
    {
     "name": "stdout",
     "output_type": "stream",
     "text": [
      "2399 18187\n",
      "2400 18188\n",
      "2401 18189\n",
      "2402 18190\n",
      "2403 18191\n"
     ]
    },
    {
     "name": "stderr",
     "output_type": "stream",
     "text": [
      "/home/mimus/anaconda3/envs/tf2/lib/python3.6/site-packages/ipykernel_launcher.py:51: UserWarning: /home/mimus/apiais/data/images/ANPR/training/masks_plate_loc/masks_135_43_augmented_image_18190.jpg is a low contrast image\n",
      "/home/mimus/anaconda3/envs/tf2/lib/python3.6/site-packages/ipykernel_launcher.py:51: UserWarning: /home/mimus/apiais/data/images/ANPR/training/masks_plate_loc/masks_356_18_augmented_image_18191.jpg is a low contrast image\n"
     ]
    },
    {
     "name": "stdout",
     "output_type": "stream",
     "text": [
      "2404 18192\n",
      "2405 18193\n"
     ]
    },
    {
     "name": "stderr",
     "output_type": "stream",
     "text": [
      "/home/mimus/anaconda3/envs/tf2/lib/python3.6/site-packages/ipykernel_launcher.py:51: UserWarning: /home/mimus/apiais/data/images/ANPR/training/masks_plate_loc/masks_326_29_augmented_image_18193.jpg is a low contrast image\n"
     ]
    },
    {
     "name": "stdout",
     "output_type": "stream",
     "text": [
      "2406 18194\n",
      "2407 18195\n",
      "2408 18196\n",
      "2409 18197\n"
     ]
    },
    {
     "name": "stderr",
     "output_type": "stream",
     "text": [
      "/home/mimus/anaconda3/envs/tf2/lib/python3.6/site-packages/ipykernel_launcher.py:51: UserWarning: /home/mimus/apiais/data/images/ANPR/training/masks_plate_loc/masks_313_42_augmented_image_15150_augmented_image_18197.jpg is a low contrast image\n"
     ]
    },
    {
     "name": "stdout",
     "output_type": "stream",
     "text": [
      "2410 18198\n",
      "2411 18199\n",
      "2412 18200\n",
      "2413 18201\n",
      "2414 18202\n",
      "2415 18203\n"
     ]
    },
    {
     "name": "stderr",
     "output_type": "stream",
     "text": [
      "/home/mimus/anaconda3/envs/tf2/lib/python3.6/site-packages/ipykernel_launcher.py:51: UserWarning: /home/mimus/apiais/data/images/ANPR/training/masks_plate_loc/masks_528_32_augmented_image_8823_augmented_image_18202.jpg is a low contrast image\n"
     ]
    },
    {
     "name": "stdout",
     "output_type": "stream",
     "text": [
      "2416 18204\n",
      "2417 18205\n"
     ]
    },
    {
     "name": "stderr",
     "output_type": "stream",
     "text": [
      "/home/mimus/anaconda3/envs/tf2/lib/python3.6/site-packages/ipykernel_launcher.py:51: UserWarning: /home/mimus/apiais/data/images/ANPR/training/masks_plate_loc/masks_325_18_augmented_image_10578_augmented_image_18205.jpg is a low contrast image\n",
      "/home/mimus/anaconda3/envs/tf2/lib/python3.6/site-packages/ipykernel_launcher.py:51: UserWarning: /home/mimus/apiais/data/images/ANPR/training/masks_plate_loc/masks_572_32_augmented_image_18206.jpg is a low contrast image\n"
     ]
    },
    {
     "name": "stdout",
     "output_type": "stream",
     "text": [
      "2418 18206\n",
      "2419 18207\n",
      "2420 18208\n",
      "2421 18209\n",
      "2422 18210\n"
     ]
    },
    {
     "name": "stderr",
     "output_type": "stream",
     "text": [
      "/home/mimus/anaconda3/envs/tf2/lib/python3.6/site-packages/ipykernel_launcher.py:51: UserWarning: /home/mimus/apiais/data/images/ANPR/training/masks_plate_loc/masks_180_28_augmented_image_18208.jpg is a low contrast image\n",
      "/home/mimus/anaconda3/envs/tf2/lib/python3.6/site-packages/ipykernel_launcher.py:51: UserWarning: /home/mimus/apiais/data/images/ANPR/training/masks_plate_loc/masks_133_25_augmented_image_12607_augmented_image_18210.jpg is a low contrast image\n"
     ]
    },
    {
     "name": "stdout",
     "output_type": "stream",
     "text": [
      "2423 18211\n",
      "2424 18212\n",
      "2425 18213\n",
      "2426 18214\n"
     ]
    },
    {
     "name": "stderr",
     "output_type": "stream",
     "text": [
      "/home/mimus/anaconda3/envs/tf2/lib/python3.6/site-packages/ipykernel_launcher.py:51: UserWarning: /home/mimus/apiais/data/images/ANPR/training/masks_plate_loc/masks_150_43_augmented_image_18213.jpg is a low contrast image\n"
     ]
    },
    {
     "name": "stdout",
     "output_type": "stream",
     "text": [
      "2427 18215\n",
      "2428 18216\n"
     ]
    },
    {
     "name": "stderr",
     "output_type": "stream",
     "text": [
      "/home/mimus/anaconda3/envs/tf2/lib/python3.6/site-packages/ipykernel_launcher.py:51: UserWarning: /home/mimus/apiais/data/images/ANPR/training/masks_plate_loc/masks_26_1_3_augmented_image_18215.jpg is a low contrast image\n",
      "/home/mimus/anaconda3/envs/tf2/lib/python3.6/site-packages/ipykernel_launcher.py:51: UserWarning: /home/mimus/apiais/data/images/ANPR/training/masks_plate_loc/masks_61_33_augmented_image_18216.jpg is a low contrast image\n"
     ]
    },
    {
     "name": "stdout",
     "output_type": "stream",
     "text": [
      "2429 18217\n",
      "2430 18218\n",
      "2431 18219\n",
      "2432 18220\n"
     ]
    },
    {
     "name": "stderr",
     "output_type": "stream",
     "text": [
      "/home/mimus/anaconda3/envs/tf2/lib/python3.6/site-packages/ipykernel_launcher.py:51: UserWarning: /home/mimus/apiais/data/images/ANPR/training/masks_plate_loc/masks_620_32_augmented_image_10655_augmented_image_18220.jpg is a low contrast image\n"
     ]
    },
    {
     "name": "stdout",
     "output_type": "stream",
     "text": [
      "2433 18221\n",
      "2434 18222\n",
      "2435 18223\n",
      "2436 18224\n",
      "2437 18225\n",
      "2438 18226\n"
     ]
    },
    {
     "name": "stderr",
     "output_type": "stream",
     "text": [
      "/home/mimus/anaconda3/envs/tf2/lib/python3.6/site-packages/ipykernel_launcher.py:51: UserWarning: /home/mimus/apiais/data/images/ANPR/training/masks_plate_loc/masks_27_33_augmented_image_13925_augmented_image_18225.jpg is a low contrast image\n"
     ]
    },
    {
     "name": "stdout",
     "output_type": "stream",
     "text": [
      "2439 18227\n",
      "2440 18228\n",
      "2441 18229\n",
      "2442 18230\n"
     ]
    },
    {
     "name": "stderr",
     "output_type": "stream",
     "text": [
      "/home/mimus/anaconda3/envs/tf2/lib/python3.6/site-packages/ipykernel_launcher.py:51: UserWarning: /home/mimus/apiais/data/images/ANPR/training/masks_plate_loc/masks_319_40_augmented_image_18229.jpg is a low contrast image\n"
     ]
    },
    {
     "name": "stdout",
     "output_type": "stream",
     "text": [
      "2443 18231\n",
      "2444 18232\n",
      "2445 18233\n",
      "2446 18234\n",
      "2447 18235\n",
      "2448 18236\n"
     ]
    },
    {
     "name": "stderr",
     "output_type": "stream",
     "text": [
      "/home/mimus/anaconda3/envs/tf2/lib/python3.6/site-packages/ipykernel_launcher.py:51: UserWarning: /home/mimus/apiais/data/images/ANPR/training/masks_plate_loc/masks_78_18_augmented_image_18235.jpg is a low contrast image\n"
     ]
    },
    {
     "name": "stdout",
     "output_type": "stream",
     "text": [
      "2449 18237\n",
      "2450 18238\n",
      "2451 18239\n",
      "2452 18240\n"
     ]
    },
    {
     "name": "stderr",
     "output_type": "stream",
     "text": [
      "/home/mimus/anaconda3/envs/tf2/lib/python3.6/site-packages/ipykernel_launcher.py:51: UserWarning: /home/mimus/apiais/data/images/ANPR/training/masks_plate_loc/masks_162_40_augmented_image_18239.jpg is a low contrast image\n"
     ]
    },
    {
     "name": "stdout",
     "output_type": "stream",
     "text": [
      "2453 18241\n",
      "2454 18242\n",
      "2455 18243\n",
      "2456 18244\n"
     ]
    },
    {
     "name": "stderr",
     "output_type": "stream",
     "text": [
      "/home/mimus/anaconda3/envs/tf2/lib/python3.6/site-packages/ipykernel_launcher.py:51: UserWarning: /home/mimus/apiais/data/images/ANPR/training/masks_plate_loc/masks_12_32_augmented_image_18243.jpg is a low contrast image\n"
     ]
    },
    {
     "name": "stdout",
     "output_type": "stream",
     "text": [
      "2457 18245\n",
      "2458 18246\n",
      "2459 18247\n",
      "2460 18248\n",
      "2461 18249\n",
      "2462 18250\n"
     ]
    },
    {
     "name": "stderr",
     "output_type": "stream",
     "text": [
      "/home/mimus/anaconda3/envs/tf2/lib/python3.6/site-packages/ipykernel_launcher.py:51: UserWarning: /home/mimus/apiais/data/images/ANPR/training/masks_plate_loc/masks_273_42_augmented_image_18249.jpg is a low contrast image\n"
     ]
    },
    {
     "name": "stdout",
     "output_type": "stream",
     "text": [
      "2463 18251\n",
      "2464 18252\n"
     ]
    },
    {
     "name": "stderr",
     "output_type": "stream",
     "text": [
      "/home/mimus/anaconda3/envs/tf2/lib/python3.6/site-packages/ipykernel_launcher.py:51: UserWarning: /home/mimus/apiais/data/images/ANPR/training/masks_plate_loc/masks_215_24_augmented_image_18251.jpg is a low contrast image\n",
      "/home/mimus/anaconda3/envs/tf2/lib/python3.6/site-packages/ipykernel_launcher.py:51: UserWarning: /home/mimus/apiais/data/images/ANPR/training/masks_plate_loc/masks_114_30_1_augmented_image_18252.jpg is a low contrast image\n"
     ]
    },
    {
     "name": "stdout",
     "output_type": "stream",
     "text": [
      "2465 18253\n",
      "2466 18254\n",
      "2467 18255\n",
      "2468 18256\n",
      "2469 18257\n",
      "2470 18258\n",
      "2471 18259\n"
     ]
    },
    {
     "name": "stderr",
     "output_type": "stream",
     "text": [
      "/home/mimus/anaconda3/envs/tf2/lib/python3.6/site-packages/ipykernel_launcher.py:51: UserWarning: /home/mimus/apiais/data/images/ANPR/training/masks_plate_loc/masks_60_30_1_augmented_image_18259.jpg is a low contrast image\n"
     ]
    },
    {
     "name": "stdout",
     "output_type": "stream",
     "text": [
      "2472 18260\n",
      "2473 18261\n",
      "2474 18262\n",
      "2475 18263\n",
      "2476 18264\n",
      "2477 18265\n",
      "2478 18266\n"
     ]
    },
    {
     "name": "stderr",
     "output_type": "stream",
     "text": [
      "/home/mimus/anaconda3/envs/tf2/lib/python3.6/site-packages/ipykernel_launcher.py:51: UserWarning: /home/mimus/apiais/data/images/ANPR/training/masks_plate_loc/masks_108_28_augmented_image_18265.jpg is a low contrast image\n"
     ]
    },
    {
     "name": "stdout",
     "output_type": "stream",
     "text": [
      "2479 18267\n",
      "2480 18268\n"
     ]
    },
    {
     "name": "stderr",
     "output_type": "stream",
     "text": [
      "/home/mimus/anaconda3/envs/tf2/lib/python3.6/site-packages/ipykernel_launcher.py:51: UserWarning: /home/mimus/apiais/data/images/ANPR/training/masks_plate_loc/masks_193_16_augmented_image_15312_augmented_image_18267.jpg is a low contrast image\n",
      "/home/mimus/anaconda3/envs/tf2/lib/python3.6/site-packages/ipykernel_launcher.py:51: UserWarning: /home/mimus/apiais/data/images/ANPR/training/masks_plate_loc/masks_213_39_augmented_image_18268.jpg is a low contrast image\n"
     ]
    },
    {
     "name": "stdout",
     "output_type": "stream",
     "text": [
      "2481 18269\n",
      "2482 18270\n",
      "2483 18271\n",
      "2484 18272\n"
     ]
    },
    {
     "name": "stderr",
     "output_type": "stream",
     "text": [
      "/home/mimus/anaconda3/envs/tf2/lib/python3.6/site-packages/ipykernel_launcher.py:51: UserWarning: /home/mimus/apiais/data/images/ANPR/training/masks_plate_loc/masks_127_32_augmented_image_8366_augmented_image_18271.jpg is a low contrast image\n",
      "/home/mimus/anaconda3/envs/tf2/lib/python3.6/site-packages/ipykernel_launcher.py:51: UserWarning: /home/mimus/apiais/data/images/ANPR/training/masks_plate_loc/masks_303_34_augmented_image_18272.jpg is a low contrast image\n"
     ]
    },
    {
     "name": "stdout",
     "output_type": "stream",
     "text": [
      "2485 18273\n",
      "2486 18274\n"
     ]
    },
    {
     "name": "stderr",
     "output_type": "stream",
     "text": [
      "/home/mimus/anaconda3/envs/tf2/lib/python3.6/site-packages/ipykernel_launcher.py:51: UserWarning: /home/mimus/apiais/data/images/ANPR/training/masks_plate_loc/masks_106_32_augmented_image_18273.jpg is a low contrast image\n",
      "/home/mimus/anaconda3/envs/tf2/lib/python3.6/site-packages/ipykernel_launcher.py:51: UserWarning: /home/mimus/apiais/data/images/ANPR/training/masks_plate_loc/masks_84_23_augmented_image_18274.jpg is a low contrast image\n"
     ]
    },
    {
     "name": "stdout",
     "output_type": "stream",
     "text": [
      "2487 18275\n",
      "2488 18276\n",
      "2489 18277\n"
     ]
    },
    {
     "name": "stderr",
     "output_type": "stream",
     "text": [
      "/home/mimus/anaconda3/envs/tf2/lib/python3.6/site-packages/ipykernel_launcher.py:51: UserWarning: /home/mimus/apiais/data/images/ANPR/training/masks_plate_loc/masks_166_29_augmented_image_18275.jpg is a low contrast image\n"
     ]
    },
    {
     "name": "stdout",
     "output_type": "stream",
     "text": [
      "2490 18278\n",
      "2491 18279\n",
      "2492 18280\n"
     ]
    },
    {
     "name": "stderr",
     "output_type": "stream",
     "text": [
      "/home/mimus/anaconda3/envs/tf2/lib/python3.6/site-packages/ipykernel_launcher.py:51: UserWarning: /home/mimus/apiais/data/images/ANPR/training/masks_plate_loc/masks_23_23_augmented_image_18279.jpg is a low contrast image\n",
      "/home/mimus/anaconda3/envs/tf2/lib/python3.6/site-packages/ipykernel_launcher.py:51: UserWarning: /home/mimus/apiais/data/images/ANPR/training/masks_plate_loc/masks_135_29_augmented_image_18280.jpg is a low contrast image\n"
     ]
    },
    {
     "name": "stdout",
     "output_type": "stream",
     "text": [
      "2493 18281\n",
      "2494 18282\n",
      "2495 18283\n"
     ]
    },
    {
     "name": "stderr",
     "output_type": "stream",
     "text": [
      "/home/mimus/anaconda3/envs/tf2/lib/python3.6/site-packages/ipykernel_launcher.py:51: UserWarning: /home/mimus/apiais/data/images/ANPR/training/masks_plate_loc/masks_60_4_augmented_image_18282.jpg is a low contrast image\n",
      "/home/mimus/anaconda3/envs/tf2/lib/python3.6/site-packages/ipykernel_launcher.py:51: UserWarning: /home/mimus/apiais/data/images/ANPR/training/masks_plate_loc/masks_584_18_augmented_image_18283.jpg is a low contrast image\n"
     ]
    },
    {
     "name": "stdout",
     "output_type": "stream",
     "text": [
      "2496 18284\n",
      "2497 18285\n",
      "2498 18286\n",
      "2499 18287\n"
     ]
    },
    {
     "name": "stderr",
     "output_type": "stream",
     "text": [
      "/home/mimus/anaconda3/envs/tf2/lib/python3.6/site-packages/ipykernel_launcher.py:51: UserWarning: /home/mimus/apiais/data/images/ANPR/training/masks_plate_loc/masks_366_39_augmented_image_9982_augmented_image_18287.jpg is a low contrast image\n"
     ]
    },
    {
     "name": "stdout",
     "output_type": "stream",
     "text": [
      "2500 18288\n",
      "2501 18289\n",
      "2502 18290\n",
      "2503 18291\n"
     ]
    },
    {
     "name": "stderr",
     "output_type": "stream",
     "text": [
      "/home/mimus/anaconda3/envs/tf2/lib/python3.6/site-packages/ipykernel_launcher.py:51: UserWarning: /home/mimus/apiais/data/images/ANPR/training/masks_plate_loc/masks_282_0_augmented_image_18290.jpg is a low contrast image\n",
      "/home/mimus/anaconda3/envs/tf2/lib/python3.6/site-packages/ipykernel_launcher.py:51: UserWarning: /home/mimus/apiais/data/images/ANPR/training/masks_plate_loc/masks_356_39_augmented_image_10046_augmented_image_18291.jpg is a low contrast image\n"
     ]
    },
    {
     "name": "stdout",
     "output_type": "stream",
     "text": [
      "2504 18292\n",
      "2505 18293\n"
     ]
    },
    {
     "name": "stderr",
     "output_type": "stream",
     "text": [
      "/home/mimus/anaconda3/envs/tf2/lib/python3.6/site-packages/ipykernel_launcher.py:51: UserWarning: /home/mimus/apiais/data/images/ANPR/training/masks_plate_loc/masks_418_29_augmented_image_18292.jpg is a low contrast image\n"
     ]
    },
    {
     "name": "stdout",
     "output_type": "stream",
     "text": [
      "2506 18294\n",
      "2507 18295\n",
      "2508 18296\n"
     ]
    },
    {
     "name": "stderr",
     "output_type": "stream",
     "text": [
      "/home/mimus/anaconda3/envs/tf2/lib/python3.6/site-packages/ipykernel_launcher.py:51: UserWarning: /home/mimus/apiais/data/images/ANPR/training/masks_plate_loc/masks_38_31_augmented_image_18294.jpg is a low contrast image\n",
      "/home/mimus/anaconda3/envs/tf2/lib/python3.6/site-packages/ipykernel_launcher.py:51: UserWarning: /home/mimus/apiais/data/images/ANPR/training/masks_plate_loc/masks_182_28_augmented_image_18296.jpg is a low contrast image\n"
     ]
    },
    {
     "name": "stdout",
     "output_type": "stream",
     "text": [
      "2509 18297\n",
      "2510 18298\n"
     ]
    },
    {
     "name": "stderr",
     "output_type": "stream",
     "text": [
      "/home/mimus/anaconda3/envs/tf2/lib/python3.6/site-packages/ipykernel_launcher.py:51: UserWarning: /home/mimus/apiais/data/images/ANPR/training/masks_plate_loc/masks_234_0_augmented_image_18298.jpg is a low contrast image\n"
     ]
    },
    {
     "name": "stdout",
     "output_type": "stream",
     "text": [
      "2511 18299\n",
      "2512 18300\n"
     ]
    },
    {
     "name": "stderr",
     "output_type": "stream",
     "text": [
      "/home/mimus/anaconda3/envs/tf2/lib/python3.6/site-packages/ipykernel_launcher.py:51: UserWarning: /home/mimus/apiais/data/images/ANPR/training/masks_plate_loc/masks_137_33_augmented_image_18300.jpg is a low contrast image\n",
      "/home/mimus/anaconda3/envs/tf2/lib/python3.6/site-packages/ipykernel_launcher.py:51: UserWarning: /home/mimus/apiais/data/images/ANPR/training/masks_plate_loc/masks_3_16_augmented_image_18301.jpg is a low contrast image\n"
     ]
    },
    {
     "name": "stdout",
     "output_type": "stream",
     "text": [
      "2513 18301\n",
      "2514 18302\n"
     ]
    },
    {
     "name": "stderr",
     "output_type": "stream",
     "text": [
      "/home/mimus/anaconda3/envs/tf2/lib/python3.6/site-packages/ipykernel_launcher.py:51: UserWarning: /home/mimus/apiais/data/images/ANPR/training/masks_plate_loc/masks_179_43_augmented_image_12208_augmented_image_18302.jpg is a low contrast image\n",
      "/home/mimus/anaconda3/envs/tf2/lib/python3.6/site-packages/ipykernel_launcher.py:51: UserWarning: /home/mimus/apiais/data/images/ANPR/training/masks_plate_loc/masks_0_33_augmented_image_18304.jpg is a low contrast image\n"
     ]
    },
    {
     "name": "stdout",
     "output_type": "stream",
     "text": [
      "2515 18303\n",
      "2516 18304\n",
      "2517 18305\n",
      "2518 18306\n",
      "2519 18307\n",
      "2520 18308\n",
      "2521 18309\n",
      "2522 18310\n",
      "2523 18311\n",
      "2524 18312\n"
     ]
    },
    {
     "name": "stderr",
     "output_type": "stream",
     "text": [
      "/home/mimus/anaconda3/envs/tf2/lib/python3.6/site-packages/ipykernel_launcher.py:51: UserWarning: /home/mimus/apiais/data/images/ANPR/training/masks_plate_loc/masks_256_32_augmented_image_13580_augmented_image_18311.jpg is a low contrast image\n",
      "/home/mimus/anaconda3/envs/tf2/lib/python3.6/site-packages/ipykernel_launcher.py:51: UserWarning: /home/mimus/apiais/data/images/ANPR/training/masks_plate_loc/masks_18_18_augmented_image_18313.jpg is a low contrast image\n"
     ]
    },
    {
     "name": "stdout",
     "output_type": "stream",
     "text": [
      "2525 18313\n",
      "2526 18314\n",
      "2527 18315\n"
     ]
    },
    {
     "name": "stderr",
     "output_type": "stream",
     "text": [
      "/home/mimus/anaconda3/envs/tf2/lib/python3.6/site-packages/ipykernel_launcher.py:51: UserWarning: /home/mimus/apiais/data/images/ANPR/training/masks_plate_loc/masks_135_1_3_augmented_image_18314.jpg is a low contrast image\n"
     ]
    },
    {
     "name": "stdout",
     "output_type": "stream",
     "text": [
      "2528 18316\n",
      "2529 18317\n"
     ]
    },
    {
     "name": "stderr",
     "output_type": "stream",
     "text": [
      "/home/mimus/anaconda3/envs/tf2/lib/python3.6/site-packages/ipykernel_launcher.py:51: UserWarning: /home/mimus/apiais/data/images/ANPR/training/masks_plate_loc/masks_20_32_augmented_image_18317.jpg is a low contrast image\n"
     ]
    },
    {
     "name": "stdout",
     "output_type": "stream",
     "text": [
      "2530 18318\n",
      "2531 18319\n",
      "2532 18320\n",
      "2533 18321\n"
     ]
    },
    {
     "name": "stderr",
     "output_type": "stream",
     "text": [
      "/home/mimus/anaconda3/envs/tf2/lib/python3.6/site-packages/ipykernel_launcher.py:51: UserWarning: /home/mimus/apiais/data/images/ANPR/training/masks_plate_loc/masks_487_29_augmented_image_18321.jpg is a low contrast image\n"
     ]
    },
    {
     "name": "stdout",
     "output_type": "stream",
     "text": [
      "2534 18322\n",
      "2535 18323\n",
      "2536 18324\n",
      "2537 18325\n",
      "2538 18326\n",
      "2539 18327\n"
     ]
    },
    {
     "name": "stderr",
     "output_type": "stream",
     "text": [
      "/home/mimus/anaconda3/envs/tf2/lib/python3.6/site-packages/ipykernel_launcher.py:51: UserWarning: /home/mimus/apiais/data/images/ANPR/training/masks_plate_loc/masks_69_4_augmented_image_18326.jpg is a low contrast image\n"
     ]
    },
    {
     "name": "stdout",
     "output_type": "stream",
     "text": [
      "2540 18328\n",
      "2541 18329\n"
     ]
    },
    {
     "name": "stderr",
     "output_type": "stream",
     "text": [
      "/home/mimus/anaconda3/envs/tf2/lib/python3.6/site-packages/ipykernel_launcher.py:51: UserWarning: /home/mimus/apiais/data/images/ANPR/training/masks_plate_loc/masks_75_34_augmented_image_18328.jpg is a low contrast image\n",
      "/home/mimus/anaconda3/envs/tf2/lib/python3.6/site-packages/ipykernel_launcher.py:51: UserWarning: /home/mimus/apiais/data/images/ANPR/training/masks_plate_loc/masks_203_0_augmented_image_18329.jpg is a low contrast image\n"
     ]
    },
    {
     "name": "stdout",
     "output_type": "stream",
     "text": [
      "2542 18330\n",
      "2543 18331\n",
      "2544 18332\n",
      "2545 18333\n",
      "2546 18334\n"
     ]
    },
    {
     "name": "stderr",
     "output_type": "stream",
     "text": [
      "/home/mimus/anaconda3/envs/tf2/lib/python3.6/site-packages/ipykernel_launcher.py:51: UserWarning: /home/mimus/apiais/data/images/ANPR/training/masks_plate_loc/masks_32_4_augmented_image_11665_augmented_image_18332.jpg is a low contrast image\n",
      "/home/mimus/anaconda3/envs/tf2/lib/python3.6/site-packages/ipykernel_launcher.py:51: UserWarning: /home/mimus/apiais/data/images/ANPR/training/masks_plate_loc/masks_324_38_augmented_image_18333.jpg is a low contrast image\n",
      "/home/mimus/anaconda3/envs/tf2/lib/python3.6/site-packages/ipykernel_launcher.py:51: UserWarning: /home/mimus/apiais/data/images/ANPR/training/masks_plate_loc/masks_17_14_augmented_image_12958_augmented_image_18334.jpg is a low contrast image\n"
     ]
    },
    {
     "name": "stdout",
     "output_type": "stream",
     "text": [
      "2547 18335\n",
      "2548 18336\n"
     ]
    },
    {
     "name": "stderr",
     "output_type": "stream",
     "text": [
      "/home/mimus/anaconda3/envs/tf2/lib/python3.6/site-packages/ipykernel_launcher.py:51: UserWarning: /home/mimus/apiais/data/images/ANPR/training/masks_plate_loc/masks_313_0_augmented_image_11889_augmented_image_18335.jpg is a low contrast image\n"
     ]
    },
    {
     "name": "stdout",
     "output_type": "stream",
     "text": [
      "2549 18337\n",
      "2550 18338\n",
      "2551 18339\n",
      "2552 18340\n",
      "2553 18341\n"
     ]
    },
    {
     "name": "stderr",
     "output_type": "stream",
     "text": [
      "/home/mimus/anaconda3/envs/tf2/lib/python3.6/site-packages/ipykernel_launcher.py:51: UserWarning: /home/mimus/apiais/data/images/ANPR/training/masks_plate_loc/masks_12_39_augmented_image_18341.jpg is a low contrast image\n",
      "/home/mimus/anaconda3/envs/tf2/lib/python3.6/site-packages/ipykernel_launcher.py:51: UserWarning: /home/mimus/apiais/data/images/ANPR/training/masks_plate_loc/masks_292_34_augmented_image_18342.jpg is a low contrast image\n"
     ]
    },
    {
     "name": "stdout",
     "output_type": "stream",
     "text": [
      "2554 18342\n",
      "2555 18343\n",
      "2556 18344\n",
      "2557 18345\n",
      "2558 18346\n"
     ]
    },
    {
     "name": "stderr",
     "output_type": "stream",
     "text": [
      "/home/mimus/anaconda3/envs/tf2/lib/python3.6/site-packages/ipykernel_launcher.py:51: UserWarning: /home/mimus/apiais/data/images/ANPR/training/masks_plate_loc/masks_26_32_augmented_image_18344.jpg is a low contrast image\n"
     ]
    },
    {
     "name": "stdout",
     "output_type": "stream",
     "text": [
      "2559 18347\n",
      "2560 18348\n"
     ]
    },
    {
     "name": "stderr",
     "output_type": "stream",
     "text": [
      "/home/mimus/anaconda3/envs/tf2/lib/python3.6/site-packages/ipykernel_launcher.py:51: UserWarning: /home/mimus/apiais/data/images/ANPR/training/masks_plate_loc/masks_7_42_augmented_image_18347.jpg is a low contrast image\n"
     ]
    },
    {
     "name": "stdout",
     "output_type": "stream",
     "text": [
      "2561 18349\n",
      "2562 18350\n"
     ]
    },
    {
     "name": "stderr",
     "output_type": "stream",
     "text": [
      "/home/mimus/anaconda3/envs/tf2/lib/python3.6/site-packages/ipykernel_launcher.py:51: UserWarning: /home/mimus/apiais/data/images/ANPR/training/masks_plate_loc/masks_543_34_augmented_image_18350.jpg is a low contrast image\n"
     ]
    },
    {
     "name": "stdout",
     "output_type": "stream",
     "text": [
      "2563 18351\n",
      "2564 18352\n"
     ]
    },
    {
     "name": "stderr",
     "output_type": "stream",
     "text": [
      "/home/mimus/anaconda3/envs/tf2/lib/python3.6/site-packages/ipykernel_launcher.py:51: UserWarning: /home/mimus/apiais/data/images/ANPR/training/masks_plate_loc/masks_33_43_augmented_image_15319_augmented_image_18352.jpg is a low contrast image\n",
      "/home/mimus/anaconda3/envs/tf2/lib/python3.6/site-packages/ipykernel_launcher.py:51: UserWarning: /home/mimus/apiais/data/images/ANPR/training/masks_plate_loc/masks_101_30_1_augmented_image_18354.jpg is a low contrast image\n"
     ]
    },
    {
     "name": "stdout",
     "output_type": "stream",
     "text": [
      "2565 18353\n",
      "2566 18354\n",
      "2567 18355\n",
      "2568 18356\n",
      "2569 18357\n",
      "2570 18358\n",
      "2571 18359\n",
      "2572 18360\n"
     ]
    },
    {
     "name": "stderr",
     "output_type": "stream",
     "text": [
      "/home/mimus/anaconda3/envs/tf2/lib/python3.6/site-packages/ipykernel_launcher.py:51: UserWarning: /home/mimus/apiais/data/images/ANPR/training/masks_plate_loc/masks_412_29_augmented_image_18358.jpg is a low contrast image\n",
      "/home/mimus/anaconda3/envs/tf2/lib/python3.6/site-packages/ipykernel_launcher.py:51: UserWarning: /home/mimus/apiais/data/images/ANPR/training/masks_plate_loc/masks_280_28_augmented_image_18360.jpg is a low contrast image\n"
     ]
    },
    {
     "name": "stdout",
     "output_type": "stream",
     "text": [
      "2573 18361\n",
      "2574 18362\n",
      "2575 18363\n"
     ]
    },
    {
     "name": "stderr",
     "output_type": "stream",
     "text": [
      "/home/mimus/anaconda3/envs/tf2/lib/python3.6/site-packages/ipykernel_launcher.py:51: UserWarning: /home/mimus/apiais/data/images/ANPR/training/masks_plate_loc/masks_243_20_augmented_image_18363.jpg is a low contrast image\n",
      "/home/mimus/anaconda3/envs/tf2/lib/python3.6/site-packages/ipykernel_launcher.py:51: UserWarning: /home/mimus/apiais/data/images/ANPR/training/masks_plate_loc/masks_157_28_augmented_image_18364.jpg is a low contrast image\n"
     ]
    },
    {
     "name": "stdout",
     "output_type": "stream",
     "text": [
      "2576 18364\n",
      "2577 18365\n",
      "2578 18366\n",
      "2579 18367\n"
     ]
    },
    {
     "name": "stderr",
     "output_type": "stream",
     "text": [
      "/home/mimus/anaconda3/envs/tf2/lib/python3.6/site-packages/ipykernel_launcher.py:51: UserWarning: /home/mimus/apiais/data/images/ANPR/training/masks_plate_loc/masks_70_21_augmented_image_18367.jpg is a low contrast image\n"
     ]
    },
    {
     "name": "stdout",
     "output_type": "stream",
     "text": [
      "2580 18368\n",
      "2581 18369\n"
     ]
    },
    {
     "name": "stderr",
     "output_type": "stream",
     "text": [
      "/home/mimus/anaconda3/envs/tf2/lib/python3.6/site-packages/ipykernel_launcher.py:51: UserWarning: /home/mimus/apiais/data/images/ANPR/training/masks_plate_loc/masks_81_1_3_augmented_image_9067_augmented_image_18369.jpg is a low contrast image\n"
     ]
    },
    {
     "name": "stdout",
     "output_type": "stream",
     "text": [
      "2582 18370\n",
      "2583 18371\n"
     ]
    },
    {
     "name": "stderr",
     "output_type": "stream",
     "text": [
      "/home/mimus/anaconda3/envs/tf2/lib/python3.6/site-packages/ipykernel_launcher.py:51: UserWarning: /home/mimus/apiais/data/images/ANPR/training/masks_plate_loc/masks_73_39_augmented_image_18371.jpg is a low contrast image\n"
     ]
    },
    {
     "name": "stdout",
     "output_type": "stream",
     "text": [
      "2584 18372\n",
      "2585 18373\n",
      "2586 18374\n",
      "2587 18375\n",
      "2588 18376\n",
      "2589 18377\n"
     ]
    },
    {
     "name": "stderr",
     "output_type": "stream",
     "text": [
      "/home/mimus/anaconda3/envs/tf2/lib/python3.6/site-packages/ipykernel_launcher.py:51: UserWarning: /home/mimus/apiais/data/images/ANPR/training/masks_plate_loc/masks_6_37_augmented_image_18376.jpg is a low contrast image\n"
     ]
    },
    {
     "name": "stdout",
     "output_type": "stream",
     "text": [
      "2590 18378\n",
      "2591 18379\n"
     ]
    },
    {
     "name": "stderr",
     "output_type": "stream",
     "text": [
      "/home/mimus/anaconda3/envs/tf2/lib/python3.6/site-packages/ipykernel_launcher.py:51: UserWarning: /home/mimus/apiais/data/images/ANPR/training/masks_plate_loc/masks_104_32_augmented_image_18378.jpg is a low contrast image\n"
     ]
    },
    {
     "name": "stdout",
     "output_type": "stream",
     "text": [
      "2592 18380\n",
      "2593 18381\n",
      "2594 18382\n"
     ]
    },
    {
     "name": "stderr",
     "output_type": "stream",
     "text": [
      "/home/mimus/anaconda3/envs/tf2/lib/python3.6/site-packages/ipykernel_launcher.py:51: UserWarning: /home/mimus/apiais/data/images/ANPR/training/masks_plate_loc/masks_264_39_augmented_image_18380.jpg is a low contrast image\n",
      "/home/mimus/anaconda3/envs/tf2/lib/python3.6/site-packages/ipykernel_launcher.py:51: UserWarning: /home/mimus/apiais/data/images/ANPR/training/masks_plate_loc/masks_171_32_augmented_image_10138_augmented_image_18381.jpg is a low contrast image\n",
      "/home/mimus/anaconda3/envs/tf2/lib/python3.6/site-packages/ipykernel_launcher.py:51: UserWarning: /home/mimus/apiais/data/images/ANPR/training/masks_plate_loc/masks_23_42_augmented_image_14544_augmented_image_18382.jpg is a low contrast image\n"
     ]
    },
    {
     "name": "stdout",
     "output_type": "stream",
     "text": [
      "2595 18383\n",
      "2596 18384\n",
      "2597 18385\n",
      "2598 18386\n",
      "2599 18387\n"
     ]
    },
    {
     "name": "stderr",
     "output_type": "stream",
     "text": [
      "/home/mimus/anaconda3/envs/tf2/lib/python3.6/site-packages/ipykernel_launcher.py:51: UserWarning: /home/mimus/apiais/data/images/ANPR/training/masks_plate_loc/masks_138_20_augmented_image_18386.jpg is a low contrast image\n"
     ]
    },
    {
     "name": "stdout",
     "output_type": "stream",
     "text": [
      "2600 18388\n",
      "2601 18389\n",
      "2602 18390\n",
      "2603 18391\n"
     ]
    },
    {
     "name": "stderr",
     "output_type": "stream",
     "text": [
      "/home/mimus/anaconda3/envs/tf2/lib/python3.6/site-packages/ipykernel_launcher.py:51: UserWarning: /home/mimus/apiais/data/images/ANPR/training/masks_plate_loc/masks_0_23_augmented_image_10351_augmented_image_18390.jpg is a low contrast image\n"
     ]
    },
    {
     "name": "stdout",
     "output_type": "stream",
     "text": [
      "2604 18392\n",
      "2605 18393\n",
      "2606 18394\n",
      "2607 18395\n",
      "2608 18396\n",
      "2609 18397\n",
      "2610 18398\n",
      "2611 18399\n",
      "2612 18400\n"
     ]
    },
    {
     "name": "stderr",
     "output_type": "stream",
     "text": [
      "/home/mimus/anaconda3/envs/tf2/lib/python3.6/site-packages/ipykernel_launcher.py:51: UserWarning: /home/mimus/apiais/data/images/ANPR/training/masks_plate_loc/masks_95_41_augmented_image_13474_augmented_image_18400.jpg is a low contrast image\n"
     ]
    },
    {
     "name": "stdout",
     "output_type": "stream",
     "text": [
      "2613 18401\n",
      "2614 18402\n",
      "2615 18403\n",
      "2616 18404\n",
      "2617 18405\n",
      "2618 18406\n",
      "2619 18407\n",
      "2620 18408\n"
     ]
    },
    {
     "name": "stderr",
     "output_type": "stream",
     "text": [
      "/home/mimus/anaconda3/envs/tf2/lib/python3.6/site-packages/ipykernel_launcher.py:51: UserWarning: /home/mimus/apiais/data/images/ANPR/training/masks_plate_loc/masks_47_34_augmented_image_18406.jpg is a low contrast image\n",
      "/home/mimus/anaconda3/envs/tf2/lib/python3.6/site-packages/ipykernel_launcher.py:51: UserWarning: /home/mimus/apiais/data/images/ANPR/training/masks_plate_loc/masks_20_38_augmented_image_8972_augmented_image_18407.jpg is a low contrast image\n"
     ]
    },
    {
     "name": "stdout",
     "output_type": "stream",
     "text": [
      "2621 18409\n",
      "2622 18410\n"
     ]
    },
    {
     "name": "stderr",
     "output_type": "stream",
     "text": [
      "/home/mimus/anaconda3/envs/tf2/lib/python3.6/site-packages/ipykernel_launcher.py:51: UserWarning: /home/mimus/apiais/data/images/ANPR/training/masks_plate_loc/masks_769_32_augmented_image_18409.jpg is a low contrast image\n"
     ]
    },
    {
     "name": "stdout",
     "output_type": "stream",
     "text": [
      "2623 18411\n",
      "2624 18412\n",
      "2625 18413\n",
      "2626 18414\n"
     ]
    },
    {
     "name": "stderr",
     "output_type": "stream",
     "text": [
      "/home/mimus/anaconda3/envs/tf2/lib/python3.6/site-packages/ipykernel_launcher.py:51: UserWarning: /home/mimus/apiais/data/images/ANPR/training/masks_plate_loc/masks_58_16_augmented_image_18414.jpg is a low contrast image\n"
     ]
    },
    {
     "name": "stdout",
     "output_type": "stream",
     "text": [
      "2627 18415\n",
      "2628 18416\n",
      "2629 18417\n",
      "2630 18418\n",
      "2631 18419\n"
     ]
    },
    {
     "name": "stderr",
     "output_type": "stream",
     "text": [
      "/home/mimus/anaconda3/envs/tf2/lib/python3.6/site-packages/ipykernel_launcher.py:51: UserWarning: /home/mimus/apiais/data/images/ANPR/training/masks_plate_loc/masks_301_40_augmented_image_18418.jpg is a low contrast image\n"
     ]
    },
    {
     "name": "stdout",
     "output_type": "stream",
     "text": [
      "2632 18420\n",
      "2633 18421\n"
     ]
    },
    {
     "name": "stderr",
     "output_type": "stream",
     "text": [
      "/home/mimus/anaconda3/envs/tf2/lib/python3.6/site-packages/ipykernel_launcher.py:51: UserWarning: /home/mimus/apiais/data/images/ANPR/training/masks_plate_loc/masks_30_12_augmented_image_9544_augmented_image_18421.jpg is a low contrast image\n",
      "/home/mimus/anaconda3/envs/tf2/lib/python3.6/site-packages/ipykernel_launcher.py:51: UserWarning: /home/mimus/apiais/data/images/ANPR/training/masks_plate_loc/masks_129_4_augmented_image_18422.jpg is a low contrast image\n"
     ]
    },
    {
     "name": "stdout",
     "output_type": "stream",
     "text": [
      "2634 18422\n",
      "2635 18423\n",
      "2636 18424\n",
      "2637 18425\n",
      "2638 18426\n",
      "2639 18427\n",
      "2640 18428\n",
      "2641 18429\n",
      "2642 18430\n",
      "2643 18431\n",
      "2644 18432\n"
     ]
    },
    {
     "name": "stderr",
     "output_type": "stream",
     "text": [
      "/home/mimus/anaconda3/envs/tf2/lib/python3.6/site-packages/ipykernel_launcher.py:51: UserWarning: /home/mimus/apiais/data/images/ANPR/training/masks_plate_loc/masks_65_33_augmented_image_18431.jpg is a low contrast image\n"
     ]
    },
    {
     "name": "stdout",
     "output_type": "stream",
     "text": [
      "2645 18433\n",
      "2646 18434\n"
     ]
    },
    {
     "name": "stderr",
     "output_type": "stream",
     "text": [
      "/home/mimus/anaconda3/envs/tf2/lib/python3.6/site-packages/ipykernel_launcher.py:51: UserWarning: /home/mimus/apiais/data/images/ANPR/training/masks_plate_loc/masks_15_30_1_augmented_image_18433.jpg is a low contrast image\n",
      "/home/mimus/anaconda3/envs/tf2/lib/python3.6/site-packages/ipykernel_launcher.py:51: UserWarning: /home/mimus/apiais/data/images/ANPR/training/masks_plate_loc/masks_28_15_augmented_image_18434.jpg is a low contrast image\n"
     ]
    },
    {
     "name": "stdout",
     "output_type": "stream",
     "text": [
      "2647 18435\n",
      "2648 18436\n"
     ]
    },
    {
     "name": "stderr",
     "output_type": "stream",
     "text": [
      "/home/mimus/anaconda3/envs/tf2/lib/python3.6/site-packages/ipykernel_launcher.py:51: UserWarning: /home/mimus/apiais/data/images/ANPR/training/masks_plate_loc/masks_402_39_augmented_image_18436.jpg is a low contrast image\n"
     ]
    },
    {
     "name": "stdout",
     "output_type": "stream",
     "text": [
      "2649 18437\n",
      "2650 18438\n",
      "2651 18439\n",
      "2652 18440\n",
      "2653 18441\n",
      "2654 18442\n",
      "2655 18443\n",
      "2656 18444\n",
      "2657 18445\n",
      "2658 18446\n",
      "2659 18447\n",
      "2660 18448\n"
     ]
    },
    {
     "name": "stderr",
     "output_type": "stream",
     "text": [
      "/home/mimus/anaconda3/envs/tf2/lib/python3.6/site-packages/ipykernel_launcher.py:51: UserWarning: /home/mimus/apiais/data/images/ANPR/training/masks_plate_loc/masks_26_43_augmented_image_13091_augmented_image_18447.jpg is a low contrast image\n"
     ]
    },
    {
     "name": "stdout",
     "output_type": "stream",
     "text": [
      "2661 18449\n",
      "2662 18450\n",
      "2663 18451\n",
      "2664 18452\n"
     ]
    },
    {
     "name": "stderr",
     "output_type": "stream",
     "text": [
      "/home/mimus/anaconda3/envs/tf2/lib/python3.6/site-packages/ipykernel_launcher.py:51: UserWarning: /home/mimus/apiais/data/images/ANPR/training/masks_plate_loc/masks_116_4_augmented_image_18451.jpg is a low contrast image\n",
      "/home/mimus/anaconda3/envs/tf2/lib/python3.6/site-packages/ipykernel_launcher.py:51: UserWarning: /home/mimus/apiais/data/images/ANPR/training/masks_plate_loc/masks_83_41_augmented_image_9022_augmented_image_18452.jpg is a low contrast image\n"
     ]
    },
    {
     "name": "stdout",
     "output_type": "stream",
     "text": [
      "2665 18453\n",
      "2666 18454\n",
      "2667 18455\n",
      "2668 18456\n",
      "2669 18457\n",
      "2670 18458\n",
      "2671 18459\n",
      "2672 18460\n",
      "2673 18461\n"
     ]
    },
    {
     "name": "stderr",
     "output_type": "stream",
     "text": [
      "/home/mimus/anaconda3/envs/tf2/lib/python3.6/site-packages/ipykernel_launcher.py:51: UserWarning: /home/mimus/apiais/data/images/ANPR/training/masks_plate_loc/masks_114_32_augmented_image_18460.jpg is a low contrast image\n"
     ]
    },
    {
     "name": "stdout",
     "output_type": "stream",
     "text": [
      "2674 18462\n",
      "2675 18463\n"
     ]
    },
    {
     "name": "stderr",
     "output_type": "stream",
     "text": [
      "/home/mimus/anaconda3/envs/tf2/lib/python3.6/site-packages/ipykernel_launcher.py:51: UserWarning: /home/mimus/apiais/data/images/ANPR/training/masks_plate_loc/masks_205_25_augmented_image_9323_augmented_image_18463.jpg is a low contrast image\n"
     ]
    },
    {
     "name": "stdout",
     "output_type": "stream",
     "text": [
      "2676 18464\n",
      "2677 18465\n"
     ]
    },
    {
     "name": "stderr",
     "output_type": "stream",
     "text": [
      "/home/mimus/anaconda3/envs/tf2/lib/python3.6/site-packages/ipykernel_launcher.py:51: UserWarning: /home/mimus/apiais/data/images/ANPR/training/masks_plate_loc/masks_6_41_augmented_image_18465.jpg is a low contrast image\n",
      "/home/mimus/anaconda3/envs/tf2/lib/python3.6/site-packages/ipykernel_launcher.py:51: UserWarning: /home/mimus/apiais/data/images/ANPR/training/masks_plate_loc/masks_780_32_augmented_image_14917_augmented_image_18466.jpg is a low contrast image\n"
     ]
    },
    {
     "name": "stdout",
     "output_type": "stream",
     "text": [
      "2678 18466\n",
      "2679 18467\n"
     ]
    },
    {
     "name": "stderr",
     "output_type": "stream",
     "text": [
      "/home/mimus/anaconda3/envs/tf2/lib/python3.6/site-packages/ipykernel_launcher.py:51: UserWarning: /home/mimus/apiais/data/images/ANPR/training/masks_plate_loc/masks_146_20_augmented_image_15071_augmented_image_18467.jpg is a low contrast image\n",
      "/home/mimus/anaconda3/envs/tf2/lib/python3.6/site-packages/ipykernel_launcher.py:51: UserWarning: /home/mimus/apiais/data/images/ANPR/training/masks_plate_loc/masks_68_31_augmented_image_18468.jpg is a low contrast image\n"
     ]
    },
    {
     "name": "stdout",
     "output_type": "stream",
     "text": [
      "2680 18468\n",
      "2681 18469\n",
      "2682 18470\n",
      "2683 18471\n",
      "2684 18472\n"
     ]
    },
    {
     "name": "stderr",
     "output_type": "stream",
     "text": [
      "/home/mimus/anaconda3/envs/tf2/lib/python3.6/site-packages/ipykernel_launcher.py:51: UserWarning: /home/mimus/apiais/data/images/ANPR/training/masks_plate_loc/masks_23_36_augmented_image_14691_augmented_image_18471.jpg is a low contrast image\n"
     ]
    },
    {
     "name": "stdout",
     "output_type": "stream",
     "text": [
      "2685 18473\n",
      "2686 18474\n",
      "2687 18475\n"
     ]
    },
    {
     "name": "stderr",
     "output_type": "stream",
     "text": [
      "/home/mimus/anaconda3/envs/tf2/lib/python3.6/site-packages/ipykernel_launcher.py:51: UserWarning: /home/mimus/apiais/data/images/ANPR/training/masks_plate_loc/masks_142_41_augmented_image_18474.jpg is a low contrast image\n"
     ]
    },
    {
     "name": "stdout",
     "output_type": "stream",
     "text": [
      "2688 18476\n",
      "2689 18477\n",
      "2690 18478\n",
      "2691 18479\n",
      "2692 18480\n",
      "2693 18481\n",
      "2694 18482\n",
      "2695 18483\n"
     ]
    },
    {
     "name": "stderr",
     "output_type": "stream",
     "text": [
      "/home/mimus/anaconda3/envs/tf2/lib/python3.6/site-packages/ipykernel_launcher.py:51: UserWarning: /home/mimus/apiais/data/images/ANPR/training/masks_plate_loc/masks_225_28_augmented_image_18483.jpg is a low contrast image\n",
      "/home/mimus/anaconda3/envs/tf2/lib/python3.6/site-packages/ipykernel_launcher.py:51: UserWarning: /home/mimus/apiais/data/images/ANPR/training/masks_plate_loc/masks_36_42_augmented_image_18485.jpg is a low contrast image\n"
     ]
    },
    {
     "name": "stdout",
     "output_type": "stream",
     "text": [
      "2696 18484\n",
      "2697 18485\n",
      "2698 18486\n",
      "2699 18487\n",
      "2700 18488\n",
      "2701 18489\n",
      "2702 18490\n"
     ]
    },
    {
     "name": "stderr",
     "output_type": "stream",
     "text": [
      "/home/mimus/anaconda3/envs/tf2/lib/python3.6/site-packages/ipykernel_launcher.py:51: UserWarning: /home/mimus/apiais/data/images/ANPR/training/masks_plate_loc/masks_471_18_augmented_image_18489.jpg is a low contrast image\n"
     ]
    },
    {
     "name": "stdout",
     "output_type": "stream",
     "text": [
      "2703 18491\n",
      "2704 18492\n",
      "2705 18493\n"
     ]
    },
    {
     "name": "stderr",
     "output_type": "stream",
     "text": [
      "/home/mimus/anaconda3/envs/tf2/lib/python3.6/site-packages/ipykernel_launcher.py:51: UserWarning: /home/mimus/apiais/data/images/ANPR/training/masks_plate_loc/masks_178_24_augmented_image_18491.jpg is a low contrast image\n"
     ]
    },
    {
     "name": "stdout",
     "output_type": "stream",
     "text": [
      "2706 18494\n",
      "2707 18495\n",
      "2708 18496\n",
      "2709 18497\n",
      "2710 18498\n",
      "2711 18499\n",
      "2712 18500\n",
      "2713 18501\n",
      "2714 18502\n",
      "2715 18503\n",
      "2716 18504\n"
     ]
    },
    {
     "name": "stderr",
     "output_type": "stream",
     "text": [
      "/home/mimus/anaconda3/envs/tf2/lib/python3.6/site-packages/ipykernel_launcher.py:51: UserWarning: /home/mimus/apiais/data/images/ANPR/training/masks_plate_loc/masks_226_20_augmented_image_18504.jpg is a low contrast image\n"
     ]
    },
    {
     "name": "stdout",
     "output_type": "stream",
     "text": [
      "2717 18505\n",
      "2718 18506\n",
      "2719 18507\n",
      "2720 18508\n"
     ]
    },
    {
     "name": "stderr",
     "output_type": "stream",
     "text": [
      "/home/mimus/anaconda3/envs/tf2/lib/python3.6/site-packages/ipykernel_launcher.py:51: UserWarning: /home/mimus/apiais/data/images/ANPR/training/masks_plate_loc/masks_150_28_augmented_image_18507.jpg is a low contrast image\n"
     ]
    },
    {
     "name": "stdout",
     "output_type": "stream",
     "text": [
      "2721 18509\n",
      "2722 18510\n"
     ]
    },
    {
     "name": "stderr",
     "output_type": "stream",
     "text": [
      "/home/mimus/anaconda3/envs/tf2/lib/python3.6/site-packages/ipykernel_launcher.py:51: UserWarning: /home/mimus/apiais/data/images/ANPR/training/masks_plate_loc/masks_208_28_augmented_image_18509.jpg is a low contrast image\n"
     ]
    },
    {
     "name": "stdout",
     "output_type": "stream",
     "text": [
      "2723 18511\n",
      "2724 18512\n",
      "2725 18513\n",
      "2726 18514\n"
     ]
    },
    {
     "name": "stderr",
     "output_type": "stream",
     "text": [
      "/home/mimus/anaconda3/envs/tf2/lib/python3.6/site-packages/ipykernel_launcher.py:51: UserWarning: /home/mimus/apiais/data/images/ANPR/training/masks_plate_loc/masks_58_18_augmented_image_8388_augmented_image_18513.jpg is a low contrast image\n",
      "/home/mimus/anaconda3/envs/tf2/lib/python3.6/site-packages/ipykernel_launcher.py:51: UserWarning: /home/mimus/apiais/data/images/ANPR/training/masks_plate_loc/masks_680_32_augmented_image_13333_augmented_image_18514.jpg is a low contrast image\n"
     ]
    },
    {
     "name": "stdout",
     "output_type": "stream",
     "text": [
      "2727 18515\n",
      "2728 18516\n"
     ]
    },
    {
     "name": "stderr",
     "output_type": "stream",
     "text": [
      "/home/mimus/anaconda3/envs/tf2/lib/python3.6/site-packages/ipykernel_launcher.py:51: UserWarning: /home/mimus/apiais/data/images/ANPR/training/masks_plate_loc/masks_38_augmented_image_8952_augmented_image_18516.jpg is a low contrast image\n"
     ]
    },
    {
     "name": "stdout",
     "output_type": "stream",
     "text": [
      "2729 18517\n",
      "2730 18518\n",
      "2731 18519\n",
      "2732 18520\n",
      "2733 18521\n",
      "2734 18522\n",
      "2735 18523\n",
      "2736 18524\n",
      "2737 18525\n",
      "2738 18526\n",
      "2739 18527\n",
      "2740 18528\n"
     ]
    },
    {
     "name": "stderr",
     "output_type": "stream",
     "text": [
      "/home/mimus/anaconda3/envs/tf2/lib/python3.6/site-packages/ipykernel_launcher.py:51: UserWarning: /home/mimus/apiais/data/images/ANPR/training/masks_plate_loc/masks_136_1_3_augmented_image_18528.jpg is a low contrast image\n"
     ]
    },
    {
     "name": "stdout",
     "output_type": "stream",
     "text": [
      "2741 18529\n",
      "2742 18530\n"
     ]
    },
    {
     "name": "stderr",
     "output_type": "stream",
     "text": [
      "/home/mimus/anaconda3/envs/tf2/lib/python3.6/site-packages/ipykernel_launcher.py:51: UserWarning: /home/mimus/apiais/data/images/ANPR/training/masks_plate_loc/masks_277_34_augmented_image_18530.jpg is a low contrast image\n",
      "/home/mimus/anaconda3/envs/tf2/lib/python3.6/site-packages/ipykernel_launcher.py:51: UserWarning: /home/mimus/apiais/data/images/ANPR/training/masks_plate_loc/masks_370_0_augmented_image_15714_augmented_image_18531.jpg is a low contrast image\n"
     ]
    },
    {
     "name": "stdout",
     "output_type": "stream",
     "text": [
      "2743 18531\n",
      "2744 18532\n",
      "2745 18533\n",
      "2746 18534\n",
      "2747 18535\n",
      "2748 18536\n",
      "2749 18537\n"
     ]
    },
    {
     "name": "stderr",
     "output_type": "stream",
     "text": [
      "/home/mimus/anaconda3/envs/tf2/lib/python3.6/site-packages/ipykernel_launcher.py:51: UserWarning: /home/mimus/apiais/data/images/ANPR/training/masks_plate_loc/masks_462_29_augmented_image_18535.jpg is a low contrast image\n",
      "/home/mimus/anaconda3/envs/tf2/lib/python3.6/site-packages/ipykernel_launcher.py:51: UserWarning: /home/mimus/apiais/data/images/ANPR/training/masks_plate_loc/masks_610_32_augmented_image_9640_augmented_image_18536.jpg is a low contrast image\n"
     ]
    },
    {
     "name": "stdout",
     "output_type": "stream",
     "text": [
      "2750 18538\n",
      "2751 18539\n"
     ]
    },
    {
     "name": "stderr",
     "output_type": "stream",
     "text": [
      "/home/mimus/anaconda3/envs/tf2/lib/python3.6/site-packages/ipykernel_launcher.py:51: UserWarning: /home/mimus/apiais/data/images/ANPR/training/masks_plate_loc/masks_190_32_augmented_image_18539.jpg is a low contrast image\n"
     ]
    },
    {
     "name": "stdout",
     "output_type": "stream",
     "text": [
      "2752 18540\n",
      "2753 18541\n",
      "2754 18542\n",
      "2755 18543\n"
     ]
    },
    {
     "name": "stderr",
     "output_type": "stream",
     "text": [
      "/home/mimus/anaconda3/envs/tf2/lib/python3.6/site-packages/ipykernel_launcher.py:51: UserWarning: /home/mimus/apiais/data/images/ANPR/training/masks_plate_loc/masks_228_42_augmented_image_9814_augmented_image_18542.jpg is a low contrast image\n"
     ]
    },
    {
     "name": "stdout",
     "output_type": "stream",
     "text": [
      "2756 18544\n",
      "2757 18545\n",
      "2758 18546\n",
      "2759 18547\n"
     ]
    },
    {
     "name": "stderr",
     "output_type": "stream",
     "text": [
      "/home/mimus/anaconda3/envs/tf2/lib/python3.6/site-packages/ipykernel_launcher.py:51: UserWarning: /home/mimus/apiais/data/images/ANPR/training/masks_plate_loc/masks_256_39_augmented_image_18547.jpg is a low contrast image\n"
     ]
    },
    {
     "name": "stdout",
     "output_type": "stream",
     "text": [
      "2760 18548\n",
      "2761 18549\n",
      "2762 18550\n",
      "2763 18551\n"
     ]
    },
    {
     "name": "stderr",
     "output_type": "stream",
     "text": [
      "/home/mimus/anaconda3/envs/tf2/lib/python3.6/site-packages/ipykernel_launcher.py:51: UserWarning: /home/mimus/apiais/data/images/ANPR/training/masks_plate_loc/masks_135_28_augmented_image_18551.jpg is a low contrast image\n"
     ]
    },
    {
     "name": "stdout",
     "output_type": "stream",
     "text": [
      "2764 18552\n",
      "2765 18553\n",
      "2766 18554\n",
      "2767 18555\n",
      "2768 18556\n"
     ]
    },
    {
     "name": "stderr",
     "output_type": "stream",
     "text": [
      "/home/mimus/anaconda3/envs/tf2/lib/python3.6/site-packages/ipykernel_launcher.py:51: UserWarning: /home/mimus/apiais/data/images/ANPR/training/masks_plate_loc/masks_37_9_augmented_image_18556.jpg is a low contrast image\n"
     ]
    },
    {
     "name": "stdout",
     "output_type": "stream",
     "text": [
      "2769 18557\n",
      "2770 18558\n",
      "2771 18559\n",
      "2772 18560\n",
      "2773 18561\n",
      "2774 18562\n"
     ]
    },
    {
     "name": "stderr",
     "output_type": "stream",
     "text": [
      "/home/mimus/anaconda3/envs/tf2/lib/python3.6/site-packages/ipykernel_launcher.py:51: UserWarning: /home/mimus/apiais/data/images/ANPR/training/masks_plate_loc/masks_370_39_augmented_image_18561.jpg is a low contrast image\n"
     ]
    },
    {
     "name": "stdout",
     "output_type": "stream",
     "text": [
      "2775 18563\n",
      "2776 18564\n"
     ]
    },
    {
     "name": "stderr",
     "output_type": "stream",
     "text": [
      "/home/mimus/anaconda3/envs/tf2/lib/python3.6/site-packages/ipykernel_launcher.py:51: UserWarning: /home/mimus/apiais/data/images/ANPR/training/masks_plate_loc/masks_80_32_augmented_image_18563.jpg is a low contrast image\n"
     ]
    },
    {
     "name": "stdout",
     "output_type": "stream",
     "text": [
      "2777 18565\n",
      "2778 18566\n",
      "2779 18567\n",
      "2780 18568\n",
      "2781 18569\n",
      "2782 18570\n",
      "2783 18571\n"
     ]
    },
    {
     "name": "stderr",
     "output_type": "stream",
     "text": [
      "/home/mimus/anaconda3/envs/tf2/lib/python3.6/site-packages/ipykernel_launcher.py:51: UserWarning: /home/mimus/apiais/data/images/ANPR/training/masks_plate_loc/masks_116_39_augmented_image_14674_augmented_image_18570.jpg is a low contrast image\n",
      "/home/mimus/anaconda3/envs/tf2/lib/python3.6/site-packages/ipykernel_launcher.py:51: UserWarning: /home/mimus/apiais/data/images/ANPR/training/masks_plate_loc/masks_22_26_augmented_image_18571.jpg is a low contrast image\n"
     ]
    },
    {
     "name": "stdout",
     "output_type": "stream",
     "text": [
      "2784 18572\n",
      "2785 18573\n",
      "2786 18574\n",
      "2787 18575\n",
      "2788 18576\n",
      "2789 18577\n"
     ]
    },
    {
     "name": "stderr",
     "output_type": "stream",
     "text": [
      "/home/mimus/anaconda3/envs/tf2/lib/python3.6/site-packages/ipykernel_launcher.py:51: UserWarning: /home/mimus/apiais/data/images/ANPR/training/masks_plate_loc/masks_61_4_augmented_image_10888_augmented_image_18577.jpg is a low contrast image\n"
     ]
    },
    {
     "name": "stdout",
     "output_type": "stream",
     "text": [
      "2790 18578\n",
      "2791 18579\n",
      "2792 18580\n",
      "2793 18581\n"
     ]
    },
    {
     "name": "stderr",
     "output_type": "stream",
     "text": [
      "/home/mimus/anaconda3/envs/tf2/lib/python3.6/site-packages/ipykernel_launcher.py:51: UserWarning: /home/mimus/apiais/data/images/ANPR/training/masks_plate_loc/masks_141_28_augmented_image_18581.jpg is a low contrast image\n",
      "/home/mimus/anaconda3/envs/tf2/lib/python3.6/site-packages/ipykernel_launcher.py:51: UserWarning: /home/mimus/apiais/data/images/ANPR/training/masks_plate_loc/masks_104_31_augmented_image_18582.jpg is a low contrast image\n"
     ]
    },
    {
     "name": "stdout",
     "output_type": "stream",
     "text": [
      "2794 18582\n",
      "2795 18583\n"
     ]
    },
    {
     "name": "stderr",
     "output_type": "stream",
     "text": [
      "/home/mimus/anaconda3/envs/tf2/lib/python3.6/site-packages/ipykernel_launcher.py:51: UserWarning: /home/mimus/apiais/data/images/ANPR/training/masks_plate_loc/masks_27_37_augmented_image_9283_augmented_image_18583.jpg is a low contrast image\n",
      "/home/mimus/anaconda3/envs/tf2/lib/python3.6/site-packages/ipykernel_launcher.py:51: UserWarning: /home/mimus/apiais/data/images/ANPR/training/masks_plate_loc/masks_10_31_augmented_image_9871_augmented_image_18584.jpg is a low contrast image\n"
     ]
    },
    {
     "name": "stdout",
     "output_type": "stream",
     "text": [
      "2796 18584\n",
      "2797 18585\n"
     ]
    },
    {
     "name": "stderr",
     "output_type": "stream",
     "text": [
      "/home/mimus/anaconda3/envs/tf2/lib/python3.6/site-packages/ipykernel_launcher.py:51: UserWarning: /home/mimus/apiais/data/images/ANPR/training/masks_plate_loc/masks_29_34_augmented_image_13951_augmented_image_18585.jpg is a low contrast image\n"
     ]
    },
    {
     "name": "stdout",
     "output_type": "stream",
     "text": [
      "2798 18586\n",
      "2799 18587\n",
      "2800 18588\n",
      "2801 18589\n",
      "2802 18590\n",
      "2803 18591\n",
      "2804 18592\n",
      "2805 18593\n"
     ]
    },
    {
     "name": "stderr",
     "output_type": "stream",
     "text": [
      "/home/mimus/anaconda3/envs/tf2/lib/python3.6/site-packages/ipykernel_launcher.py:51: UserWarning: /home/mimus/apiais/data/images/ANPR/training/masks_plate_loc/masks_32_43_augmented_image_18592.jpg is a low contrast image\n"
     ]
    },
    {
     "name": "stdout",
     "output_type": "stream",
     "text": [
      "2806 18594\n",
      "2807 18595\n",
      "2808 18596\n",
      "2809 18597\n",
      "2810 18598\n",
      "2811 18599\n",
      "2812 18600\n"
     ]
    },
    {
     "name": "stderr",
     "output_type": "stream",
     "text": [
      "/home/mimus/anaconda3/envs/tf2/lib/python3.6/site-packages/ipykernel_launcher.py:51: UserWarning: /home/mimus/apiais/data/images/ANPR/training/masks_plate_loc/masks_555_0_augmented_image_10459_augmented_image_18599.jpg is a low contrast image\n",
      "/home/mimus/anaconda3/envs/tf2/lib/python3.6/site-packages/ipykernel_launcher.py:51: UserWarning: /home/mimus/apiais/data/images/ANPR/training/masks_plate_loc/masks_364_29_augmented_image_9009_augmented_image_18601.jpg is a low contrast image\n"
     ]
    },
    {
     "name": "stdout",
     "output_type": "stream",
     "text": [
      "2813 18601\n",
      "2814 18602\n",
      "2815 18603\n",
      "2816 18604\n",
      "2817 18605\n",
      "2818 18606\n",
      "2819 18607\n",
      "2820 18608\n",
      "2821 18609\n"
     ]
    },
    {
     "name": "stderr",
     "output_type": "stream",
     "text": [
      "/home/mimus/anaconda3/envs/tf2/lib/python3.6/site-packages/ipykernel_launcher.py:51: UserWarning: /home/mimus/apiais/data/images/ANPR/training/masks_plate_loc/masks_108_31_augmented_image_10228_augmented_image_18608.jpg is a low contrast image\n"
     ]
    },
    {
     "name": "stdout",
     "output_type": "stream",
     "text": [
      "2822 18610\n",
      "2823 18611\n"
     ]
    },
    {
     "name": "stderr",
     "output_type": "stream",
     "text": [
      "/home/mimus/anaconda3/envs/tf2/lib/python3.6/site-packages/ipykernel_launcher.py:51: UserWarning: /home/mimus/apiais/data/images/ANPR/training/masks_plate_loc/masks_181_16_augmented_image_8339_augmented_image_18611.jpg is a low contrast image\n"
     ]
    },
    {
     "name": "stdout",
     "output_type": "stream",
     "text": [
      "2824 18612\n",
      "2825 18613\n",
      "2826 18614\n",
      "2827 18615\n",
      "2828 18616\n",
      "2829 18617\n",
      "2830 18618\n",
      "2831 18619\n",
      "2832 18620\n"
     ]
    },
    {
     "name": "stderr",
     "output_type": "stream",
     "text": [
      "/home/mimus/anaconda3/envs/tf2/lib/python3.6/site-packages/ipykernel_launcher.py:51: UserWarning: /home/mimus/apiais/data/images/ANPR/training/masks_plate_loc/masks_358_39_augmented_image_18620.jpg is a low contrast image\n"
     ]
    },
    {
     "name": "stdout",
     "output_type": "stream",
     "text": [
      "2833 18621\n",
      "2834 18622\n",
      "2835 18623\n",
      "2836 18624\n",
      "2837 18625\n"
     ]
    },
    {
     "name": "stderr",
     "output_type": "stream",
     "text": [
      "/home/mimus/anaconda3/envs/tf2/lib/python3.6/site-packages/ipykernel_launcher.py:51: UserWarning: /home/mimus/apiais/data/images/ANPR/training/masks_plate_loc/masks_11_30_1_augmented_image_18624.jpg is a low contrast image\n"
     ]
    },
    {
     "name": "stdout",
     "output_type": "stream",
     "text": [
      "2838 18626\n",
      "2839 18627\n"
     ]
    },
    {
     "name": "stderr",
     "output_type": "stream",
     "text": [
      "/home/mimus/anaconda3/envs/tf2/lib/python3.6/site-packages/ipykernel_launcher.py:51: UserWarning: /home/mimus/apiais/data/images/ANPR/training/masks_plate_loc/masks_66_1_3_augmented_image_18626.jpg is a low contrast image\n"
     ]
    },
    {
     "name": "stdout",
     "output_type": "stream",
     "text": [
      "2840 18628\n",
      "2841 18629\n",
      "2842 18630\n"
     ]
    },
    {
     "name": "stderr",
     "output_type": "stream",
     "text": [
      "/home/mimus/anaconda3/envs/tf2/lib/python3.6/site-packages/ipykernel_launcher.py:51: UserWarning: /home/mimus/apiais/data/images/ANPR/training/masks_plate_loc/masks_210_39_augmented_image_18628.jpg is a low contrast image\n",
      "/home/mimus/anaconda3/envs/tf2/lib/python3.6/site-packages/ipykernel_launcher.py:51: UserWarning: /home/mimus/apiais/data/images/ANPR/training/masks_plate_loc/masks_150_28_augmented_image_9342_augmented_image_18629.jpg is a low contrast image\n"
     ]
    },
    {
     "name": "stdout",
     "output_type": "stream",
     "text": [
      "2843 18631\n",
      "2844 18632\n"
     ]
    },
    {
     "name": "stderr",
     "output_type": "stream",
     "text": [
      "/home/mimus/anaconda3/envs/tf2/lib/python3.6/site-packages/ipykernel_launcher.py:51: UserWarning: /home/mimus/apiais/data/images/ANPR/training/masks_plate_loc/masks_37_19_augmented_image_18632.jpg is a low contrast image\n"
     ]
    },
    {
     "name": "stdout",
     "output_type": "stream",
     "text": [
      "2845 18633\n",
      "2846 18634\n",
      "2847 18635\n",
      "2848 18636\n",
      "2849 18637\n",
      "2850 18638\n",
      "2851 18639\n",
      "2852 18640\n",
      "2853 18641\n"
     ]
    },
    {
     "name": "stderr",
     "output_type": "stream",
     "text": [
      "/home/mimus/anaconda3/envs/tf2/lib/python3.6/site-packages/ipykernel_launcher.py:51: UserWarning: /home/mimus/apiais/data/images/ANPR/training/masks_plate_loc/masks_224_42_augmented_image_11434_augmented_image_18640.jpg is a low contrast image\n",
      "/home/mimus/anaconda3/envs/tf2/lib/python3.6/site-packages/ipykernel_launcher.py:51: UserWarning: /home/mimus/apiais/data/images/ANPR/training/masks_plate_loc/masks_16_10_augmented_image_18641.jpg is a low contrast image\n"
     ]
    },
    {
     "name": "stdout",
     "output_type": "stream",
     "text": [
      "2854 18642\n",
      "2855 18643\n",
      "2856 18644\n",
      "2857 18645\n",
      "2858 18646\n"
     ]
    },
    {
     "name": "stderr",
     "output_type": "stream",
     "text": [
      "/home/mimus/anaconda3/envs/tf2/lib/python3.6/site-packages/ipykernel_launcher.py:51: UserWarning: /home/mimus/apiais/data/images/ANPR/training/masks_plate_loc/masks_84_9_augmented_image_18645.jpg is a low contrast image\n",
      "/home/mimus/anaconda3/envs/tf2/lib/python3.6/site-packages/ipykernel_launcher.py:51: UserWarning: /home/mimus/apiais/data/images/ANPR/training/masks_plate_loc/masks_85_29_augmented_image_18646.jpg is a low contrast image\n"
     ]
    },
    {
     "name": "stdout",
     "output_type": "stream",
     "text": [
      "2859 18647\n",
      "2860 18648\n",
      "2861 18649\n"
     ]
    },
    {
     "name": "stderr",
     "output_type": "stream",
     "text": [
      "/home/mimus/anaconda3/envs/tf2/lib/python3.6/site-packages/ipykernel_launcher.py:51: UserWarning: /home/mimus/apiais/data/images/ANPR/training/masks_plate_loc/masks_9_39_augmented_image_18648.jpg is a low contrast image\n"
     ]
    },
    {
     "name": "stdout",
     "output_type": "stream",
     "text": [
      "2862 18650\n",
      "2863 18651\n"
     ]
    },
    {
     "name": "stderr",
     "output_type": "stream",
     "text": [
      "/home/mimus/anaconda3/envs/tf2/lib/python3.6/site-packages/ipykernel_launcher.py:51: UserWarning: /home/mimus/apiais/data/images/ANPR/training/masks_plate_loc/masks_16_33_augmented_image_10837_augmented_image_18651.jpg is a low contrast image\n",
      "/home/mimus/anaconda3/envs/tf2/lib/python3.6/site-packages/ipykernel_launcher.py:51: UserWarning: /home/mimus/apiais/data/images/ANPR/training/masks_plate_loc/masks_262_29_augmented_image_18652.jpg is a low contrast image\n"
     ]
    },
    {
     "name": "stdout",
     "output_type": "stream",
     "text": [
      "2864 18652\n",
      "2865 18653\n",
      "2866 18654\n",
      "2867 18655\n",
      "2868 18656\n",
      "2869 18657\n",
      "2870 18658\n",
      "2871 18659\n",
      "2872 18660\n"
     ]
    },
    {
     "name": "stderr",
     "output_type": "stream",
     "text": [
      "/home/mimus/anaconda3/envs/tf2/lib/python3.6/site-packages/ipykernel_launcher.py:51: UserWarning: /home/mimus/apiais/data/images/ANPR/training/masks_plate_loc/masks_60_20_augmented_image_18660.jpg is a low contrast image\n"
     ]
    },
    {
     "name": "stdout",
     "output_type": "stream",
     "text": [
      "2873 18661\n",
      "2874 18662\n",
      "2875 18663\n",
      "2876 18664\n"
     ]
    },
    {
     "name": "stderr",
     "output_type": "stream",
     "text": [
      "/home/mimus/anaconda3/envs/tf2/lib/python3.6/site-packages/ipykernel_launcher.py:51: UserWarning: /home/mimus/apiais/data/images/ANPR/training/masks_plate_loc/masks_261_33_augmented_image_12384_augmented_image_18663.jpg is a low contrast image\n",
      "/home/mimus/anaconda3/envs/tf2/lib/python3.6/site-packages/ipykernel_launcher.py:51: UserWarning: /home/mimus/apiais/data/images/ANPR/training/masks_plate_loc/masks_44_4_augmented_image_18664.jpg is a low contrast image\n"
     ]
    },
    {
     "name": "stdout",
     "output_type": "stream",
     "text": [
      "2877 18665\n",
      "2878 18666\n"
     ]
    },
    {
     "name": "stderr",
     "output_type": "stream",
     "text": [
      "/home/mimus/anaconda3/envs/tf2/lib/python3.6/site-packages/ipykernel_launcher.py:51: UserWarning: /home/mimus/apiais/data/images/ANPR/training/masks_plate_loc/masks_160_40_augmented_image_14168_augmented_image_18665.jpg is a low contrast image\n"
     ]
    },
    {
     "name": "stdout",
     "output_type": "stream",
     "text": [
      "2879 18667\n",
      "2880 18668\n"
     ]
    },
    {
     "name": "stderr",
     "output_type": "stream",
     "text": [
      "/home/mimus/anaconda3/envs/tf2/lib/python3.6/site-packages/ipykernel_launcher.py:51: UserWarning: /home/mimus/apiais/data/images/ANPR/training/masks_plate_loc/masks_303_39_augmented_image_18667.jpg is a low contrast image\n"
     ]
    },
    {
     "name": "stdout",
     "output_type": "stream",
     "text": [
      "2881 18669\n",
      "2882 18670\n",
      "2883 18671\n"
     ]
    },
    {
     "name": "stderr",
     "output_type": "stream",
     "text": [
      "/home/mimus/anaconda3/envs/tf2/lib/python3.6/site-packages/ipykernel_launcher.py:51: UserWarning: /home/mimus/apiais/data/images/ANPR/training/masks_plate_loc/masks_131_29_augmented_image_9391_augmented_image_18670.jpg is a low contrast image\n"
     ]
    },
    {
     "name": "stdout",
     "output_type": "stream",
     "text": [
      "2884 18672\n",
      "2885 18673\n"
     ]
    },
    {
     "name": "stderr",
     "output_type": "stream",
     "text": [
      "/home/mimus/anaconda3/envs/tf2/lib/python3.6/site-packages/ipykernel_launcher.py:51: UserWarning: /home/mimus/apiais/data/images/ANPR/training/masks_plate_loc/masks_282_32_augmented_image_18673.jpg is a low contrast image\n",
      "/home/mimus/anaconda3/envs/tf2/lib/python3.6/site-packages/ipykernel_launcher.py:51: UserWarning: /home/mimus/apiais/data/images/ANPR/training/masks_plate_loc/masks_263_29_augmented_image_18674.jpg is a low contrast image\n"
     ]
    },
    {
     "name": "stdout",
     "output_type": "stream",
     "text": [
      "2886 18674\n",
      "2887 18675\n",
      "2888 18676\n",
      "2889 18677\n",
      "2890 18678\n",
      "2891 18679\n",
      "2892 18680\n"
     ]
    },
    {
     "name": "stderr",
     "output_type": "stream",
     "text": [
      "/home/mimus/anaconda3/envs/tf2/lib/python3.6/site-packages/ipykernel_launcher.py:51: UserWarning: /home/mimus/apiais/data/images/ANPR/training/masks_plate_loc/masks_19_16_augmented_image_12481_augmented_image_18679.jpg is a low contrast image\n"
     ]
    },
    {
     "name": "stdout",
     "output_type": "stream",
     "text": [
      "2893 18681\n",
      "2894 18682\n"
     ]
    },
    {
     "name": "stderr",
     "output_type": "stream",
     "text": [
      "/home/mimus/anaconda3/envs/tf2/lib/python3.6/site-packages/ipykernel_launcher.py:51: UserWarning: /home/mimus/apiais/data/images/ANPR/training/masks_plate_loc/masks_356_29_augmented_image_9767_augmented_image_18681.jpg is a low contrast image\n"
     ]
    },
    {
     "name": "stdout",
     "output_type": "stream",
     "text": [
      "2895 18683\n",
      "2896 18684\n",
      "2897 18685\n",
      "2898 18686\n",
      "2899 18687\n",
      "2900 18688\n"
     ]
    },
    {
     "name": "stderr",
     "output_type": "stream",
     "text": [
      "/home/mimus/anaconda3/envs/tf2/lib/python3.6/site-packages/ipykernel_launcher.py:51: UserWarning: /home/mimus/apiais/data/images/ANPR/training/masks_plate_loc/masks_142_18_augmented_image_9555_augmented_image_18687.jpg is a low contrast image\n",
      "/home/mimus/anaconda3/envs/tf2/lib/python3.6/site-packages/ipykernel_launcher.py:51: UserWarning: /home/mimus/apiais/data/images/ANPR/training/masks_plate_loc/masks_304_18_augmented_image_18688.jpg is a low contrast image\n"
     ]
    },
    {
     "name": "stdout",
     "output_type": "stream",
     "text": [
      "2901 18689\n",
      "2902 18690\n",
      "2903 18691\n",
      "2904 18692\n"
     ]
    },
    {
     "name": "stderr",
     "output_type": "stream",
     "text": [
      "/home/mimus/anaconda3/envs/tf2/lib/python3.6/site-packages/ipykernel_launcher.py:51: UserWarning: /home/mimus/apiais/data/images/ANPR/training/masks_plate_loc/masks_65_28_augmented_image_18691.jpg is a low contrast image\n"
     ]
    },
    {
     "name": "stdout",
     "output_type": "stream",
     "text": [
      "2905 18693\n",
      "2906 18694\n"
     ]
    },
    {
     "name": "stderr",
     "output_type": "stream",
     "text": [
      "/home/mimus/anaconda3/envs/tf2/lib/python3.6/site-packages/ipykernel_launcher.py:51: UserWarning: /home/mimus/apiais/data/images/ANPR/training/masks_plate_loc/masks_481_18_augmented_image_10239_augmented_image_18694.jpg is a low contrast image\n"
     ]
    },
    {
     "name": "stdout",
     "output_type": "stream",
     "text": [
      "2907 18695\n",
      "2908 18696\n",
      "2909 18697\n",
      "2910 18698\n",
      "2911 18699\n",
      "2912 18700\n",
      "2913 18701\n",
      "2914 18702\n",
      "2915 18703\n"
     ]
    },
    {
     "name": "stderr",
     "output_type": "stream",
     "text": [
      "/home/mimus/anaconda3/envs/tf2/lib/python3.6/site-packages/ipykernel_launcher.py:51: UserWarning: /home/mimus/apiais/data/images/ANPR/training/masks_plate_loc/masks_202_33_augmented_image_18703.jpg is a low contrast image\n",
      "/home/mimus/anaconda3/envs/tf2/lib/python3.6/site-packages/ipykernel_launcher.py:51: UserWarning: /home/mimus/apiais/data/images/ANPR/training/masks_plate_loc/masks_535_0_augmented_image_18704.jpg is a low contrast image\n"
     ]
    },
    {
     "name": "stdout",
     "output_type": "stream",
     "text": [
      "2916 18704\n",
      "2917 18705\n",
      "2918 18706\n",
      "2919 18707\n",
      "2920 18708\n",
      "2921 18709\n"
     ]
    },
    {
     "name": "stderr",
     "output_type": "stream",
     "text": [
      "/home/mimus/anaconda3/envs/tf2/lib/python3.6/site-packages/ipykernel_launcher.py:51: UserWarning: /home/mimus/apiais/data/images/ANPR/training/masks_plate_loc/masks_9_18_augmented_image_18709.jpg is a low contrast image\n"
     ]
    },
    {
     "name": "stdout",
     "output_type": "stream",
     "text": [
      "2922 18710\n",
      "2923 18711\n",
      "2924 18712\n",
      "2925 18713\n"
     ]
    },
    {
     "name": "stderr",
     "output_type": "stream",
     "text": [
      "/home/mimus/anaconda3/envs/tf2/lib/python3.6/site-packages/ipykernel_launcher.py:51: UserWarning: /home/mimus/apiais/data/images/ANPR/training/masks_plate_loc/masks_50_23_augmented_image_13151_augmented_image_18713.jpg is a low contrast image\n",
      "/home/mimus/anaconda3/envs/tf2/lib/python3.6/site-packages/ipykernel_launcher.py:51: UserWarning: /home/mimus/apiais/data/images/ANPR/training/masks_plate_loc/masks_479_18_augmented_image_18714.jpg is a low contrast image\n"
     ]
    },
    {
     "name": "stdout",
     "output_type": "stream",
     "text": [
      "2926 18714\n",
      "2927 18715\n",
      "2928 18716\n",
      "2929 18717\n",
      "2930 18718\n",
      "2931 18719\n",
      "2932 18720\n",
      "2933 18721\n",
      "2934 18722\n",
      "2935 18723\n"
     ]
    },
    {
     "name": "stderr",
     "output_type": "stream",
     "text": [
      "/home/mimus/anaconda3/envs/tf2/lib/python3.6/site-packages/ipykernel_launcher.py:51: UserWarning: /home/mimus/apiais/data/images/ANPR/training/masks_plate_loc/masks_297_38_augmented_image_14696_augmented_image_18722.jpg is a low contrast image\n"
     ]
    },
    {
     "name": "stdout",
     "output_type": "stream",
     "text": [
      "2936 18724\n",
      "2937 18725\n",
      "2938 18726\n",
      "2939 18727\n",
      "2940 18728\n",
      "2941 18729\n"
     ]
    },
    {
     "name": "stderr",
     "output_type": "stream",
     "text": [
      "/home/mimus/anaconda3/envs/tf2/lib/python3.6/site-packages/ipykernel_launcher.py:51: UserWarning: /home/mimus/apiais/data/images/ANPR/training/masks_plate_loc/masks_93_34_augmented_image_18729.jpg is a low contrast image\n"
     ]
    },
    {
     "name": "stdout",
     "output_type": "stream",
     "text": [
      "2942 18730\n",
      "2943 18731\n",
      "2944 18732\n",
      "2945 18733\n"
     ]
    },
    {
     "name": "stderr",
     "output_type": "stream",
     "text": [
      "/home/mimus/anaconda3/envs/tf2/lib/python3.6/site-packages/ipykernel_launcher.py:51: UserWarning: /home/mimus/apiais/data/images/ANPR/training/masks_plate_loc/masks_331_39_augmented_image_8830_augmented_image_18733.jpg is a low contrast image\n"
     ]
    },
    {
     "name": "stdout",
     "output_type": "stream",
     "text": [
      "2946 18734\n",
      "2947 18735\n"
     ]
    },
    {
     "name": "stderr",
     "output_type": "stream",
     "text": [
      "/home/mimus/anaconda3/envs/tf2/lib/python3.6/site-packages/ipykernel_launcher.py:51: UserWarning: /home/mimus/apiais/data/images/ANPR/training/masks_plate_loc/masks_213_32_augmented_image_15719_augmented_image_18735.jpg is a low contrast image\n"
     ]
    },
    {
     "name": "stdout",
     "output_type": "stream",
     "text": [
      "2948 18736\n",
      "2949 18737\n",
      "2950 18738\n",
      "2951 18739\n"
     ]
    },
    {
     "name": "stderr",
     "output_type": "stream",
     "text": [
      "/home/mimus/anaconda3/envs/tf2/lib/python3.6/site-packages/ipykernel_launcher.py:51: UserWarning: /home/mimus/apiais/data/images/ANPR/training/masks_plate_loc/masks_146_33_augmented_image_18739.jpg is a low contrast image\n",
      "/home/mimus/anaconda3/envs/tf2/lib/python3.6/site-packages/ipykernel_launcher.py:51: UserWarning: /home/mimus/apiais/data/images/ANPR/training/masks_plate_loc/masks_94_31_augmented_image_12474_augmented_image_18740.jpg is a low contrast image\n"
     ]
    },
    {
     "name": "stdout",
     "output_type": "stream",
     "text": [
      "2952 18740\n",
      "2953 18741\n",
      "2954 18742\n",
      "2955 18743\n"
     ]
    },
    {
     "name": "stderr",
     "output_type": "stream",
     "text": [
      "/home/mimus/anaconda3/envs/tf2/lib/python3.6/site-packages/ipykernel_launcher.py:51: UserWarning: /home/mimus/apiais/data/images/ANPR/training/masks_plate_loc/masks_175_24_augmented_image_18743.jpg is a low contrast image\n"
     ]
    },
    {
     "name": "stdout",
     "output_type": "stream",
     "text": [
      "2956 18744\n",
      "2957 18745\n"
     ]
    },
    {
     "name": "stderr",
     "output_type": "stream",
     "text": [
      "/home/mimus/anaconda3/envs/tf2/lib/python3.6/site-packages/ipykernel_launcher.py:51: UserWarning: /home/mimus/apiais/data/images/ANPR/training/masks_plate_loc/masks_127_18_augmented_image_8037_augmented_image_18745.jpg is a low contrast image\n",
      "/home/mimus/anaconda3/envs/tf2/lib/python3.6/site-packages/ipykernel_launcher.py:51: UserWarning: /home/mimus/apiais/data/images/ANPR/training/masks_plate_loc/masks_125_31_augmented_image_18746.jpg is a low contrast image\n"
     ]
    },
    {
     "name": "stdout",
     "output_type": "stream",
     "text": [
      "2958 18746\n",
      "2959 18747\n",
      "2960 18748\n",
      "2961 18749\n",
      "2962 18750\n",
      "2963 18751\n",
      "2964 18752\n",
      "2965 18753\n",
      "2966 18754\n",
      "2967 18755\n"
     ]
    },
    {
     "name": "stderr",
     "output_type": "stream",
     "text": [
      "/home/mimus/anaconda3/envs/tf2/lib/python3.6/site-packages/ipykernel_launcher.py:51: UserWarning: /home/mimus/apiais/data/images/ANPR/training/masks_plate_loc/masks_282_38_augmented_image_18754.jpg is a low contrast image\n"
     ]
    },
    {
     "name": "stdout",
     "output_type": "stream",
     "text": [
      "2968 18756\n",
      "2969 18757\n",
      "2970 18758\n",
      "2971 18759\n",
      "2972 18760\n"
     ]
    },
    {
     "name": "stderr",
     "output_type": "stream",
     "text": [
      "/home/mimus/anaconda3/envs/tf2/lib/python3.6/site-packages/ipykernel_launcher.py:51: UserWarning: /home/mimus/apiais/data/images/ANPR/training/masks_plate_loc/masks_33_7_augmented_image_9669_augmented_image_18759.jpg is a low contrast image\n"
     ]
    },
    {
     "name": "stdout",
     "output_type": "stream",
     "text": [
      "2973 18761\n",
      "2974 18762\n"
     ]
    },
    {
     "name": "stderr",
     "output_type": "stream",
     "text": [
      "/home/mimus/anaconda3/envs/tf2/lib/python3.6/site-packages/ipykernel_launcher.py:51: UserWarning: /home/mimus/apiais/data/images/ANPR/training/masks_plate_loc/masks_274_18_augmented_image_18761.jpg is a low contrast image\n"
     ]
    },
    {
     "name": "stdout",
     "output_type": "stream",
     "text": [
      "2975 18763\n",
      "2976 18764\n"
     ]
    },
    {
     "name": "stderr",
     "output_type": "stream",
     "text": [
      "/home/mimus/anaconda3/envs/tf2/lib/python3.6/site-packages/ipykernel_launcher.py:51: UserWarning: /home/mimus/apiais/data/images/ANPR/training/masks_plate_loc/masks_41_32_augmented_image_18763.jpg is a low contrast image\n",
      "/home/mimus/anaconda3/envs/tf2/lib/python3.6/site-packages/ipykernel_launcher.py:51: UserWarning: /home/mimus/apiais/data/images/ANPR/training/masks_plate_loc/masks_75_18_augmented_image_18764.jpg is a low contrast image\n",
      "/home/mimus/anaconda3/envs/tf2/lib/python3.6/site-packages/ipykernel_launcher.py:51: UserWarning: /home/mimus/apiais/data/images/ANPR/training/masks_plate_loc/masks_105_32_augmented_image_18765.jpg is a low contrast image\n"
     ]
    },
    {
     "name": "stdout",
     "output_type": "stream",
     "text": [
      "2977 18765\n",
      "2978 18766\n",
      "2979 18767\n",
      "2980 18768\n",
      "2981 18769\n"
     ]
    },
    {
     "name": "stderr",
     "output_type": "stream",
     "text": [
      "/home/mimus/anaconda3/envs/tf2/lib/python3.6/site-packages/ipykernel_launcher.py:51: UserWarning: /home/mimus/apiais/data/images/ANPR/training/masks_plate_loc/masks_291_32_augmented_image_18768.jpg is a low contrast image\n"
     ]
    },
    {
     "name": "stdout",
     "output_type": "stream",
     "text": [
      "2982 18770\n",
      "2983 18771\n",
      "2984 18772\n",
      "2985 18773\n"
     ]
    },
    {
     "name": "stderr",
     "output_type": "stream",
     "text": [
      "/home/mimus/anaconda3/envs/tf2/lib/python3.6/site-packages/ipykernel_launcher.py:51: UserWarning: /home/mimus/apiais/data/images/ANPR/training/masks_plate_loc/masks_74_1_3_augmented_image_18772.jpg is a low contrast image\n"
     ]
    },
    {
     "name": "stdout",
     "output_type": "stream",
     "text": [
      "2986 18774\n",
      "2987 18775\n",
      "2988 18776\n",
      "2989 18777\n"
     ]
    },
    {
     "name": "stderr",
     "output_type": "stream",
     "text": [
      "/home/mimus/anaconda3/envs/tf2/lib/python3.6/site-packages/ipykernel_launcher.py:51: UserWarning: /home/mimus/apiais/data/images/ANPR/training/masks_plate_loc/masks_104_28_augmented_image_18776.jpg is a low contrast image\n"
     ]
    },
    {
     "name": "stdout",
     "output_type": "stream",
     "text": [
      "2990 18778\n",
      "2991 18779\n",
      "2992 18780\n",
      "2993 18781\n",
      "2994 18782\n",
      "2995 18783\n"
     ]
    },
    {
     "name": "stderr",
     "output_type": "stream",
     "text": [
      "/home/mimus/anaconda3/envs/tf2/lib/python3.6/site-packages/ipykernel_launcher.py:51: UserWarning: /home/mimus/apiais/data/images/ANPR/training/masks_plate_loc/masks_7_11_augmented_image_18783.jpg is a low contrast image\n"
     ]
    },
    {
     "name": "stdout",
     "output_type": "stream",
     "text": [
      "2996 18784\n",
      "2997 18785\n",
      "2998 18786\n",
      "2999 18787\n",
      "3000 18788\n",
      "3001 18789\n"
     ]
    },
    {
     "name": "stderr",
     "output_type": "stream",
     "text": [
      "/home/mimus/anaconda3/envs/tf2/lib/python3.6/site-packages/ipykernel_launcher.py:51: UserWarning: /home/mimus/apiais/data/images/ANPR/training/masks_plate_loc/masks_258_32_augmented_image_18787.jpg is a low contrast image\n",
      "/home/mimus/anaconda3/envs/tf2/lib/python3.6/site-packages/ipykernel_launcher.py:51: UserWarning: /home/mimus/apiais/data/images/ANPR/training/masks_plate_loc/masks_10_21_augmented_image_18788.jpg is a low contrast image\n"
     ]
    },
    {
     "name": "stdout",
     "output_type": "stream",
     "text": [
      "3002 18790\n",
      "3003 18791\n",
      "3004 18792\n",
      "3005 18793\n",
      "3006 18794\n",
      "3007 18795\n",
      "3008 18796\n"
     ]
    },
    {
     "name": "stderr",
     "output_type": "stream",
     "text": [
      "/home/mimus/anaconda3/envs/tf2/lib/python3.6/site-packages/ipykernel_launcher.py:51: UserWarning: /home/mimus/apiais/data/images/ANPR/training/masks_plate_loc/masks_254_32_augmented_image_18794.jpg is a low contrast image\n",
      "/home/mimus/anaconda3/envs/tf2/lib/python3.6/site-packages/ipykernel_launcher.py:51: UserWarning: /home/mimus/apiais/data/images/ANPR/training/masks_plate_loc/masks_8_15_augmented_image_18796.jpg is a low contrast image\n",
      "/home/mimus/anaconda3/envs/tf2/lib/python3.6/site-packages/ipykernel_launcher.py:51: UserWarning: /home/mimus/apiais/data/images/ANPR/training/masks_plate_loc/masks_167_24_augmented_image_18797.jpg is a low contrast image\n"
     ]
    },
    {
     "name": "stdout",
     "output_type": "stream",
     "text": [
      "3009 18797\n",
      "3010 18798\n"
     ]
    },
    {
     "name": "stderr",
     "output_type": "stream",
     "text": [
      "/home/mimus/anaconda3/envs/tf2/lib/python3.6/site-packages/ipykernel_launcher.py:51: UserWarning: /home/mimus/apiais/data/images/ANPR/training/masks_plate_loc/masks_130_42_augmented_image_9098_augmented_image_18798.jpg is a low contrast image\n",
      "/home/mimus/anaconda3/envs/tf2/lib/python3.6/site-packages/ipykernel_launcher.py:51: UserWarning: /home/mimus/apiais/data/images/ANPR/training/masks_plate_loc/masks_154_33_augmented_image_18799.jpg is a low contrast image\n"
     ]
    },
    {
     "name": "stdout",
     "output_type": "stream",
     "text": [
      "3011 18799\n",
      "3012 18800\n",
      "3013 18801\n",
      "3014 18802\n"
     ]
    },
    {
     "name": "stderr",
     "output_type": "stream",
     "text": [
      "/home/mimus/anaconda3/envs/tf2/lib/python3.6/site-packages/ipykernel_launcher.py:51: UserWarning: /home/mimus/apiais/data/images/ANPR/training/masks_plate_loc/masks_260_33_augmented_image_11924_augmented_image_18801.jpg is a low contrast image\n"
     ]
    },
    {
     "name": "stdout",
     "output_type": "stream",
     "text": [
      "3015 18803\n",
      "3016 18804\n",
      "3017 18805\n",
      "3018 18806\n"
     ]
    },
    {
     "name": "stderr",
     "output_type": "stream",
     "text": [
      "/home/mimus/anaconda3/envs/tf2/lib/python3.6/site-packages/ipykernel_launcher.py:51: UserWarning: /home/mimus/apiais/data/images/ANPR/training/masks_plate_loc/masks_170_28_augmented_image_14609_augmented_image_18805.jpg is a low contrast image\n",
      "/home/mimus/anaconda3/envs/tf2/lib/python3.6/site-packages/ipykernel_launcher.py:51: UserWarning: /home/mimus/apiais/data/images/ANPR/training/masks_plate_loc/masks_11_36_augmented_image_18807.jpg is a low contrast image\n"
     ]
    },
    {
     "name": "stdout",
     "output_type": "stream",
     "text": [
      "3019 18807\n",
      "3020 18808\n",
      "3021 18809\n",
      "3022 18810\n"
     ]
    },
    {
     "name": "stderr",
     "output_type": "stream",
     "text": [
      "/home/mimus/anaconda3/envs/tf2/lib/python3.6/site-packages/ipykernel_launcher.py:51: UserWarning: /home/mimus/apiais/data/images/ANPR/training/masks_plate_loc/masks_0_5_augmented_image_18809.jpg is a low contrast image\n"
     ]
    },
    {
     "name": "stdout",
     "output_type": "stream",
     "text": [
      "3023 18811\n",
      "3024 18812\n",
      "3025 18813\n",
      "3026 18814\n",
      "3027 18815\n"
     ]
    },
    {
     "name": "stderr",
     "output_type": "stream",
     "text": [
      "/home/mimus/anaconda3/envs/tf2/lib/python3.6/site-packages/ipykernel_launcher.py:51: UserWarning: /home/mimus/apiais/data/images/ANPR/training/masks_plate_loc/masks_277_28_augmented_image_18814.jpg is a low contrast image\n",
      "/home/mimus/anaconda3/envs/tf2/lib/python3.6/site-packages/ipykernel_launcher.py:51: UserWarning: /home/mimus/apiais/data/images/ANPR/training/masks_plate_loc/masks_34_30_1_augmented_image_18815.jpg is a low contrast image\n"
     ]
    },
    {
     "name": "stdout",
     "output_type": "stream",
     "text": [
      "3028 18816\n",
      "3029 18817\n",
      "3030 18818\n"
     ]
    },
    {
     "name": "stderr",
     "output_type": "stream",
     "text": [
      "/home/mimus/anaconda3/envs/tf2/lib/python3.6/site-packages/ipykernel_launcher.py:51: UserWarning: /home/mimus/apiais/data/images/ANPR/training/masks_plate_loc/masks_390_32_augmented_image_18816.jpg is a low contrast image\n",
      "/home/mimus/anaconda3/envs/tf2/lib/python3.6/site-packages/ipykernel_launcher.py:51: UserWarning: /home/mimus/apiais/data/images/ANPR/training/masks_plate_loc/masks_565_18_augmented_image_18818.jpg is a low contrast image\n"
     ]
    },
    {
     "name": "stdout",
     "output_type": "stream",
     "text": [
      "3031 18819\n",
      "3032 18820\n",
      "3033 18821\n",
      "3034 18822\n",
      "3035 18823\n",
      "3036 18824\n"
     ]
    },
    {
     "name": "stderr",
     "output_type": "stream",
     "text": [
      "/home/mimus/anaconda3/envs/tf2/lib/python3.6/site-packages/ipykernel_launcher.py:51: UserWarning: /home/mimus/apiais/data/images/ANPR/training/masks_plate_loc/masks_565_18_augmented_image_11012_augmented_image_18823.jpg is a low contrast image\n"
     ]
    },
    {
     "name": "stdout",
     "output_type": "stream",
     "text": [
      "3037 18825\n",
      "3038 18826\n"
     ]
    },
    {
     "name": "stderr",
     "output_type": "stream",
     "text": [
      "/home/mimus/anaconda3/envs/tf2/lib/python3.6/site-packages/ipykernel_launcher.py:51: UserWarning: /home/mimus/apiais/data/images/ANPR/training/masks_plate_loc/masks_151_32_augmented_image_18825.jpg is a low contrast image\n"
     ]
    },
    {
     "name": "stdout",
     "output_type": "stream",
     "text": [
      "3039 18827\n",
      "3040 18828\n"
     ]
    },
    {
     "name": "stderr",
     "output_type": "stream",
     "text": [
      "/home/mimus/anaconda3/envs/tf2/lib/python3.6/site-packages/ipykernel_launcher.py:51: UserWarning: /home/mimus/apiais/data/images/ANPR/training/masks_plate_loc/masks_53_34_augmented_image_18827.jpg is a low contrast image\n",
      "/home/mimus/anaconda3/envs/tf2/lib/python3.6/site-packages/ipykernel_launcher.py:51: UserWarning: /home/mimus/apiais/data/images/ANPR/training/masks_plate_loc/masks_15_9_augmented_image_18828.jpg is a low contrast image\n"
     ]
    },
    {
     "name": "stdout",
     "output_type": "stream",
     "text": [
      "3041 18829\n",
      "3042 18830\n",
      "3043 18831\n",
      "3044 18832\n",
      "3045 18833\n",
      "3046 18834\n"
     ]
    },
    {
     "name": "stderr",
     "output_type": "stream",
     "text": [
      "/home/mimus/anaconda3/envs/tf2/lib/python3.6/site-packages/ipykernel_launcher.py:51: UserWarning: /home/mimus/apiais/data/images/ANPR/training/masks_plate_loc/masks_1_16_augmented_image_18833.jpg is a low contrast image\n"
     ]
    },
    {
     "name": "stdout",
     "output_type": "stream",
     "text": [
      "3047 18835\n",
      "3048 18836\n",
      "3049 18837\n",
      "3050 18838\n",
      "3051 18839\n",
      "3052 18840\n"
     ]
    },
    {
     "name": "stderr",
     "output_type": "stream",
     "text": [
      "/home/mimus/anaconda3/envs/tf2/lib/python3.6/site-packages/ipykernel_launcher.py:51: UserWarning: /home/mimus/apiais/data/images/ANPR/training/masks_plate_loc/masks_3_12_augmented_image_18839.jpg is a low contrast image\n"
     ]
    },
    {
     "name": "stdout",
     "output_type": "stream",
     "text": [
      "3053 18841\n",
      "3054 18842\n"
     ]
    },
    {
     "name": "stderr",
     "output_type": "stream",
     "text": [
      "/home/mimus/anaconda3/envs/tf2/lib/python3.6/site-packages/ipykernel_launcher.py:51: UserWarning: /home/mimus/apiais/data/images/ANPR/training/masks_plate_loc/masks_35_20_augmented_image_18841.jpg is a low contrast image\n"
     ]
    },
    {
     "name": "stdout",
     "output_type": "stream",
     "text": [
      "3055 18843\n",
      "3056 18844\n"
     ]
    },
    {
     "name": "stderr",
     "output_type": "stream",
     "text": [
      "/home/mimus/anaconda3/envs/tf2/lib/python3.6/site-packages/ipykernel_launcher.py:51: UserWarning: /home/mimus/apiais/data/images/ANPR/training/masks_plate_loc/masks_112_33_augmented_image_18843.jpg is a low contrast image\n"
     ]
    },
    {
     "name": "stdout",
     "output_type": "stream",
     "text": [
      "3057 18845\n",
      "3058 18846\n",
      "3059 18847\n",
      "3060 18848\n",
      "3061 18849\n",
      "3062 18850\n"
     ]
    },
    {
     "name": "stderr",
     "output_type": "stream",
     "text": [
      "/home/mimus/anaconda3/envs/tf2/lib/python3.6/site-packages/ipykernel_launcher.py:51: UserWarning: /home/mimus/apiais/data/images/ANPR/training/masks_plate_loc/masks_4_42_augmented_image_18849.jpg is a low contrast image\n"
     ]
    },
    {
     "name": "stdout",
     "output_type": "stream",
     "text": [
      "3063 18851\n",
      "3064 18852\n",
      "3065 18853\n",
      "3066 18854\n"
     ]
    },
    {
     "name": "stderr",
     "output_type": "stream",
     "text": [
      "/home/mimus/anaconda3/envs/tf2/lib/python3.6/site-packages/ipykernel_launcher.py:51: UserWarning: /home/mimus/apiais/data/images/ANPR/training/masks_plate_loc/masks_246_33_augmented_image_18853.jpg is a low contrast image\n"
     ]
    },
    {
     "name": "stdout",
     "output_type": "stream",
     "text": [
      "3067 18855\n",
      "3068 18856\n",
      "3069 18857\n"
     ]
    },
    {
     "name": "stderr",
     "output_type": "stream",
     "text": [
      "/home/mimus/anaconda3/envs/tf2/lib/python3.6/site-packages/ipykernel_launcher.py:51: UserWarning: /home/mimus/apiais/data/images/ANPR/training/masks_plate_loc/masks_12_16_augmented_image_18855.jpg is a low contrast image\n"
     ]
    },
    {
     "name": "stdout",
     "output_type": "stream",
     "text": [
      "3070 18858\n",
      "3071 18859\n",
      "3072 18860\n",
      "3073 18861\n",
      "3074 18862\n"
     ]
    },
    {
     "name": "stderr",
     "output_type": "stream",
     "text": [
      "/home/mimus/anaconda3/envs/tf2/lib/python3.6/site-packages/ipykernel_launcher.py:51: UserWarning: /home/mimus/apiais/data/images/ANPR/training/masks_plate_loc/masks_30_augmented_image_18860.jpg is a low contrast image\n"
     ]
    },
    {
     "name": "stdout",
     "output_type": "stream",
     "text": [
      "3075 18863\n",
      "3076 18864\n"
     ]
    },
    {
     "name": "stderr",
     "output_type": "stream",
     "text": [
      "/home/mimus/anaconda3/envs/tf2/lib/python3.6/site-packages/ipykernel_launcher.py:51: UserWarning: /home/mimus/apiais/data/images/ANPR/training/masks_plate_loc/masks_82_23_augmented_image_18864.jpg is a low contrast image\n"
     ]
    },
    {
     "name": "stdout",
     "output_type": "stream",
     "text": [
      "3077 18865\n",
      "3078 18866\n"
     ]
    },
    {
     "name": "stderr",
     "output_type": "stream",
     "text": [
      "/home/mimus/anaconda3/envs/tf2/lib/python3.6/site-packages/ipykernel_launcher.py:51: UserWarning: /home/mimus/apiais/data/images/ANPR/training/masks_plate_loc/masks_33_30_1_augmented_image_15777_augmented_image_18866.jpg is a low contrast image\n",
      "/home/mimus/anaconda3/envs/tf2/lib/python3.6/site-packages/ipykernel_launcher.py:51: UserWarning: /home/mimus/apiais/data/images/ANPR/training/masks_plate_loc/masks_77_9_augmented_image_18867.jpg is a low contrast image\n"
     ]
    },
    {
     "name": "stdout",
     "output_type": "stream",
     "text": [
      "3079 18867\n",
      "3080 18868\n"
     ]
    },
    {
     "name": "stderr",
     "output_type": "stream",
     "text": [
      "/home/mimus/anaconda3/envs/tf2/lib/python3.6/site-packages/ipykernel_launcher.py:51: UserWarning: /home/mimus/apiais/data/images/ANPR/training/masks_plate_loc/masks_460_29_augmented_image_8870_augmented_image_18868.jpg is a low contrast image\n"
     ]
    },
    {
     "name": "stdout",
     "output_type": "stream",
     "text": [
      "3081 18869\n",
      "3082 18870\n"
     ]
    },
    {
     "name": "stderr",
     "output_type": "stream",
     "text": [
      "/home/mimus/anaconda3/envs/tf2/lib/python3.6/site-packages/ipykernel_launcher.py:51: UserWarning: /home/mimus/apiais/data/images/ANPR/training/masks_plate_loc/masks_704_32_augmented_image_18870.jpg is a low contrast image\n"
     ]
    },
    {
     "name": "stdout",
     "output_type": "stream",
     "text": [
      "3083 18871\n",
      "3084 18872\n",
      "3085 18873\n",
      "3086 18874\n",
      "3087 18875\n"
     ]
    },
    {
     "name": "stderr",
     "output_type": "stream",
     "text": [
      "/home/mimus/anaconda3/envs/tf2/lib/python3.6/site-packages/ipykernel_launcher.py:51: UserWarning: /home/mimus/apiais/data/images/ANPR/training/masks_plate_loc/masks_327_28_augmented_image_10799_augmented_image_18875.jpg is a low contrast image\n"
     ]
    },
    {
     "name": "stdout",
     "output_type": "stream",
     "text": [
      "3088 18876\n",
      "3089 18877\n",
      "3090 18878\n",
      "3091 18879\n"
     ]
    },
    {
     "name": "stderr",
     "output_type": "stream",
     "text": [
      "/home/mimus/anaconda3/envs/tf2/lib/python3.6/site-packages/ipykernel_launcher.py:51: UserWarning: /home/mimus/apiais/data/images/ANPR/training/masks_plate_loc/masks_54_21_augmented_image_10901_augmented_image_18878.jpg is a low contrast image\n"
     ]
    },
    {
     "name": "stdout",
     "output_type": "stream",
     "text": [
      "3092 18880\n",
      "3093 18881\n"
     ]
    },
    {
     "name": "stderr",
     "output_type": "stream",
     "text": [
      "/home/mimus/anaconda3/envs/tf2/lib/python3.6/site-packages/ipykernel_launcher.py:51: UserWarning: /home/mimus/apiais/data/images/ANPR/training/masks_plate_loc/masks_463_18_augmented_image_18880.jpg is a low contrast image\n",
      "/home/mimus/anaconda3/envs/tf2/lib/python3.6/site-packages/ipykernel_launcher.py:51: UserWarning: /home/mimus/apiais/data/images/ANPR/training/masks_plate_loc/masks_58_23_augmented_image_13193_augmented_image_18881.jpg is a low contrast image\n"
     ]
    },
    {
     "name": "stdout",
     "output_type": "stream",
     "text": [
      "3094 18882\n",
      "3095 18883\n",
      "3096 18884\n",
      "3097 18885\n"
     ]
    },
    {
     "name": "stderr",
     "output_type": "stream",
     "text": [
      "/home/mimus/anaconda3/envs/tf2/lib/python3.6/site-packages/ipykernel_launcher.py:51: UserWarning: /home/mimus/apiais/data/images/ANPR/training/masks_plate_loc/masks_323_18_augmented_image_9295_augmented_image_18884.jpg is a low contrast image\n"
     ]
    },
    {
     "name": "stdout",
     "output_type": "stream",
     "text": [
      "3098 18886\n",
      "3099 18887\n"
     ]
    },
    {
     "name": "stderr",
     "output_type": "stream",
     "text": [
      "/home/mimus/anaconda3/envs/tf2/lib/python3.6/site-packages/ipykernel_launcher.py:51: UserWarning: /home/mimus/apiais/data/images/ANPR/training/masks_plate_loc/masks_185_40_augmented_image_18886.jpg is a low contrast image\n"
     ]
    },
    {
     "name": "stdout",
     "output_type": "stream",
     "text": [
      "3100 18888\n",
      "3101 18889\n"
     ]
    },
    {
     "name": "stderr",
     "output_type": "stream",
     "text": [
      "/home/mimus/anaconda3/envs/tf2/lib/python3.6/site-packages/ipykernel_launcher.py:51: UserWarning: /home/mimus/apiais/data/images/ANPR/training/masks_plate_loc/masks_164_32_augmented_image_18888.jpg is a low contrast image\n"
     ]
    },
    {
     "name": "stdout",
     "output_type": "stream",
     "text": [
      "3102 18890\n",
      "3103 18891\n",
      "3104 18892\n",
      "3105 18893\n"
     ]
    },
    {
     "name": "stderr",
     "output_type": "stream",
     "text": [
      "/home/mimus/anaconda3/envs/tf2/lib/python3.6/site-packages/ipykernel_launcher.py:51: UserWarning: /home/mimus/apiais/data/images/ANPR/training/masks_plate_loc/masks_5_1_3_augmented_image_18893.jpg is a low contrast image\n"
     ]
    },
    {
     "name": "stdout",
     "output_type": "stream",
     "text": [
      "3106 18894\n",
      "3107 18895\n",
      "3108 18896\n",
      "3109 18897\n",
      "3110 18898\n"
     ]
    },
    {
     "name": "stderr",
     "output_type": "stream",
     "text": [
      "/home/mimus/anaconda3/envs/tf2/lib/python3.6/site-packages/ipykernel_launcher.py:51: UserWarning: /home/mimus/apiais/data/images/ANPR/training/masks_plate_loc/masks_155_28_augmented_image_8379_augmented_image_18896.jpg is a low contrast image\n"
     ]
    },
    {
     "name": "stdout",
     "output_type": "stream",
     "text": [
      "3111 18899\n",
      "3112 18900\n",
      "3113 18901\n",
      "3114 18902\n"
     ]
    },
    {
     "name": "stderr",
     "output_type": "stream",
     "text": [
      "/home/mimus/anaconda3/envs/tf2/lib/python3.6/site-packages/ipykernel_launcher.py:51: UserWarning: /home/mimus/apiais/data/images/ANPR/training/masks_plate_loc/masks_418_39_augmented_image_18902.jpg is a low contrast image\n",
      "/home/mimus/anaconda3/envs/tf2/lib/python3.6/site-packages/ipykernel_launcher.py:51: UserWarning: /home/mimus/apiais/data/images/ANPR/training/masks_plate_loc/masks_105_1_3_augmented_image_18903.jpg is a low contrast image\n"
     ]
    },
    {
     "name": "stdout",
     "output_type": "stream",
     "text": [
      "3115 18903\n",
      "3116 18904\n",
      "3117 18905\n",
      "3118 18906\n",
      "3119 18907\n"
     ]
    },
    {
     "name": "stderr",
     "output_type": "stream",
     "text": [
      "/home/mimus/anaconda3/envs/tf2/lib/python3.6/site-packages/ipykernel_launcher.py:51: UserWarning: /home/mimus/apiais/data/images/ANPR/training/masks_plate_loc/masks_254_42_augmented_image_14874_augmented_image_18905.jpg is a low contrast image\n",
      "/home/mimus/anaconda3/envs/tf2/lib/python3.6/site-packages/ipykernel_launcher.py:51: UserWarning: /home/mimus/apiais/data/images/ANPR/training/masks_plate_loc/masks_102_20_augmented_image_14736_augmented_image_18907.jpg is a low contrast image\n",
      "/home/mimus/anaconda3/envs/tf2/lib/python3.6/site-packages/ipykernel_launcher.py:51: UserWarning: /home/mimus/apiais/data/images/ANPR/training/masks_plate_loc/masks_83_43_augmented_image_18908.jpg is a low contrast image\n"
     ]
    },
    {
     "name": "stdout",
     "output_type": "stream",
     "text": [
      "3120 18908\n",
      "3121 18909\n",
      "3122 18910\n",
      "3123 18911\n",
      "3124 18912\n"
     ]
    },
    {
     "name": "stderr",
     "output_type": "stream",
     "text": [
      "/home/mimus/anaconda3/envs/tf2/lib/python3.6/site-packages/ipykernel_launcher.py:51: UserWarning: /home/mimus/apiais/data/images/ANPR/training/masks_plate_loc/masks_3_24_augmented_image_18911.jpg is a low contrast image\n"
     ]
    },
    {
     "name": "stdout",
     "output_type": "stream",
     "text": [
      "3125 18913\n",
      "3126 18914\n",
      "3127 18915\n",
      "3128 18916\n",
      "3129 18917\n"
     ]
    },
    {
     "name": "stderr",
     "output_type": "stream",
     "text": [
      "/home/mimus/anaconda3/envs/tf2/lib/python3.6/site-packages/ipykernel_launcher.py:51: UserWarning: /home/mimus/apiais/data/images/ANPR/training/masks_plate_loc/masks_340_34_augmented_image_18915.jpg is a low contrast image\n"
     ]
    },
    {
     "name": "stdout",
     "output_type": "stream",
     "text": [
      "3130 18918\n",
      "3131 18919\n",
      "3132 18920\n"
     ]
    },
    {
     "name": "stderr",
     "output_type": "stream",
     "text": [
      "/home/mimus/anaconda3/envs/tf2/lib/python3.6/site-packages/ipykernel_launcher.py:51: UserWarning: /home/mimus/apiais/data/images/ANPR/training/masks_plate_loc/masks_97_39_augmented_image_18919.jpg is a low contrast image\n",
      "/home/mimus/anaconda3/envs/tf2/lib/python3.6/site-packages/ipykernel_launcher.py:51: UserWarning: /home/mimus/apiais/data/images/ANPR/training/masks_plate_loc/masks_90_28_augmented_image_18920.jpg is a low contrast image\n"
     ]
    },
    {
     "name": "stdout",
     "output_type": "stream",
     "text": [
      "3133 18921\n",
      "3134 18922\n",
      "3135 18923\n",
      "3136 18924\n",
      "3137 18925\n",
      "3138 18926\n"
     ]
    },
    {
     "name": "stderr",
     "output_type": "stream",
     "text": [
      "/home/mimus/anaconda3/envs/tf2/lib/python3.6/site-packages/ipykernel_launcher.py:51: UserWarning: /home/mimus/apiais/data/images/ANPR/training/masks_plate_loc/masks_71_9_augmented_image_8015_augmented_image_18925.jpg is a low contrast image\n",
      "/home/mimus/anaconda3/envs/tf2/lib/python3.6/site-packages/ipykernel_launcher.py:51: UserWarning: /home/mimus/apiais/data/images/ANPR/training/masks_plate_loc/masks_154_43_augmented_image_18926.jpg is a low contrast image\n",
      "/home/mimus/anaconda3/envs/tf2/lib/python3.6/site-packages/ipykernel_launcher.py:51: UserWarning: /home/mimus/apiais/data/images/ANPR/training/masks_plate_loc/masks_106_0_augmented_image_18927.jpg is a low contrast image\n"
     ]
    },
    {
     "name": "stdout",
     "output_type": "stream",
     "text": [
      "3139 18927\n",
      "3140 18928\n",
      "3141 18929\n"
     ]
    },
    {
     "name": "stderr",
     "output_type": "stream",
     "text": [
      "/home/mimus/anaconda3/envs/tf2/lib/python3.6/site-packages/ipykernel_launcher.py:51: UserWarning: /home/mimus/apiais/data/images/ANPR/training/masks_plate_loc/masks_96_32_augmented_image_18928.jpg is a low contrast image\n"
     ]
    },
    {
     "name": "stdout",
     "output_type": "stream",
     "text": [
      "3142 18930\n",
      "3143 18931\n",
      "3144 18932\n"
     ]
    },
    {
     "name": "stderr",
     "output_type": "stream",
     "text": [
      "/home/mimus/anaconda3/envs/tf2/lib/python3.6/site-packages/ipykernel_launcher.py:51: UserWarning: /home/mimus/apiais/data/images/ANPR/training/masks_plate_loc/masks_336_32_augmented_image_18931.jpg is a low contrast image\n"
     ]
    },
    {
     "name": "stdout",
     "output_type": "stream",
     "text": [
      "3145 18933\n",
      "3146 18934\n"
     ]
    },
    {
     "name": "stderr",
     "output_type": "stream",
     "text": [
      "/home/mimus/anaconda3/envs/tf2/lib/python3.6/site-packages/ipykernel_launcher.py:51: UserWarning: /home/mimus/apiais/data/images/ANPR/training/masks_plate_loc/masks_26_29_augmented_image_14045_augmented_image_18933.jpg is a low contrast image\n"
     ]
    },
    {
     "name": "stdout",
     "output_type": "stream",
     "text": [
      "3147 18935\n",
      "3148 18936\n"
     ]
    },
    {
     "name": "stderr",
     "output_type": "stream",
     "text": [
      "/home/mimus/anaconda3/envs/tf2/lib/python3.6/site-packages/ipykernel_launcher.py:51: UserWarning: /home/mimus/apiais/data/images/ANPR/training/masks_plate_loc/masks_175_33_augmented_image_18936.jpg is a low contrast image\n",
      "/home/mimus/anaconda3/envs/tf2/lib/python3.6/site-packages/ipykernel_launcher.py:51: UserWarning: /home/mimus/apiais/data/images/ANPR/training/masks_plate_loc/masks_367_0_augmented_image_18937.jpg is a low contrast image\n",
      "/home/mimus/anaconda3/envs/tf2/lib/python3.6/site-packages/ipykernel_launcher.py:51: UserWarning: /home/mimus/apiais/data/images/ANPR/training/masks_plate_loc/masks_593_34_augmented_image_18938.jpg is a low contrast image\n"
     ]
    },
    {
     "name": "stdout",
     "output_type": "stream",
     "text": [
      "3149 18937\n",
      "3150 18938\n",
      "3151 18939\n"
     ]
    },
    {
     "name": "stderr",
     "output_type": "stream",
     "text": [
      "/home/mimus/anaconda3/envs/tf2/lib/python3.6/site-packages/ipykernel_launcher.py:51: UserWarning: /home/mimus/apiais/data/images/ANPR/training/masks_plate_loc/masks_184_24_augmented_image_18939.jpg is a low contrast image\n"
     ]
    },
    {
     "name": "stdout",
     "output_type": "stream",
     "text": [
      "3152 18940\n",
      "3153 18941\n",
      "3154 18942\n",
      "3155 18943\n"
     ]
    },
    {
     "name": "stderr",
     "output_type": "stream",
     "text": [
      "/home/mimus/anaconda3/envs/tf2/lib/python3.6/site-packages/ipykernel_launcher.py:51: UserWarning: /home/mimus/apiais/data/images/ANPR/training/masks_plate_loc/masks_222_32_augmented_image_18943.jpg is a low contrast image\n"
     ]
    },
    {
     "name": "stdout",
     "output_type": "stream",
     "text": [
      "3156 18944\n",
      "3157 18945\n",
      "3158 18946\n",
      "3159 18947\n",
      "3160 18948\n"
     ]
    },
    {
     "name": "stderr",
     "output_type": "stream",
     "text": [
      "/home/mimus/anaconda3/envs/tf2/lib/python3.6/site-packages/ipykernel_launcher.py:51: UserWarning: /home/mimus/apiais/data/images/ANPR/training/masks_plate_loc/masks_349_18_augmented_image_18948.jpg is a low contrast image\n",
      "/home/mimus/anaconda3/envs/tf2/lib/python3.6/site-packages/ipykernel_launcher.py:51: UserWarning: /home/mimus/apiais/data/images/ANPR/training/masks_plate_loc/masks_59_29_augmented_image_18949.jpg is a low contrast image\n"
     ]
    },
    {
     "name": "stdout",
     "output_type": "stream",
     "text": [
      "3161 18949\n",
      "3162 18950\n",
      "3163 18951\n",
      "3164 18952\n"
     ]
    },
    {
     "name": "stderr",
     "output_type": "stream",
     "text": [
      "/home/mimus/anaconda3/envs/tf2/lib/python3.6/site-packages/ipykernel_launcher.py:51: UserWarning: /home/mimus/apiais/data/images/ANPR/training/masks_plate_loc/masks_474_18_augmented_image_11823_augmented_image_18952.jpg is a low contrast image\n"
     ]
    },
    {
     "name": "stdout",
     "output_type": "stream",
     "text": [
      "3165 18953\n",
      "3166 18954\n"
     ]
    },
    {
     "name": "stderr",
     "output_type": "stream",
     "text": [
      "/home/mimus/anaconda3/envs/tf2/lib/python3.6/site-packages/ipykernel_launcher.py:51: UserWarning: /home/mimus/apiais/data/images/ANPR/training/masks_plate_loc/masks_304_0_augmented_image_18954.jpg is a low contrast image\n"
     ]
    },
    {
     "name": "stdout",
     "output_type": "stream",
     "text": [
      "3167 18955\n",
      "3168 18956\n",
      "3169 18957\n"
     ]
    },
    {
     "name": "stderr",
     "output_type": "stream",
     "text": [
      "/home/mimus/anaconda3/envs/tf2/lib/python3.6/site-packages/ipykernel_launcher.py:51: UserWarning: /home/mimus/apiais/data/images/ANPR/training/masks_plate_loc/masks_17_5_augmented_image_18957.jpg is a low contrast image\n"
     ]
    },
    {
     "name": "stdout",
     "output_type": "stream",
     "text": [
      "3170 18958\n",
      "3171 18959\n",
      "3172 18960\n",
      "3173 18961\n",
      "3174 18962\n",
      "3175 18963\n",
      "3176 18964\n",
      "3177 18965\n",
      "3178 18966\n",
      "3179 18967\n",
      "3180 18968\n",
      "3181 18969\n",
      "3182 18970\n",
      "3183 18971\n",
      "3184 18972\n",
      "3185 18973\n",
      "3186 18974\n",
      "3187 18975\n",
      "3188 18976\n",
      "3189 18977\n"
     ]
    },
    {
     "name": "stderr",
     "output_type": "stream",
     "text": [
      "/home/mimus/anaconda3/envs/tf2/lib/python3.6/site-packages/ipykernel_launcher.py:51: UserWarning: /home/mimus/apiais/data/images/ANPR/training/masks_plate_loc/masks_99_39_augmented_image_18976.jpg is a low contrast image\n",
      "/home/mimus/anaconda3/envs/tf2/lib/python3.6/site-packages/ipykernel_launcher.py:51: UserWarning: /home/mimus/apiais/data/images/ANPR/training/masks_plate_loc/masks_302_39_augmented_image_18977.jpg is a low contrast image\n"
     ]
    },
    {
     "name": "stdout",
     "output_type": "stream",
     "text": [
      "3190 18978\n",
      "3191 18979\n",
      "3192 18980\n"
     ]
    },
    {
     "name": "stderr",
     "output_type": "stream",
     "text": [
      "/home/mimus/anaconda3/envs/tf2/lib/python3.6/site-packages/ipykernel_launcher.py:51: UserWarning: /home/mimus/apiais/data/images/ANPR/training/masks_plate_loc/masks_7_37_augmented_image_14222_augmented_image_18978.jpg is a low contrast image\n",
      "/home/mimus/anaconda3/envs/tf2/lib/python3.6/site-packages/ipykernel_launcher.py:51: UserWarning: /home/mimus/apiais/data/images/ANPR/training/masks_plate_loc/masks_262_29_augmented_image_10795_augmented_image_18979.jpg is a low contrast image\n",
      "/home/mimus/anaconda3/envs/tf2/lib/python3.6/site-packages/ipykernel_launcher.py:51: UserWarning: /home/mimus/apiais/data/images/ANPR/training/masks_plate_loc/masks_223_33_augmented_image_14901_augmented_image_18980.jpg is a low contrast image\n"
     ]
    },
    {
     "name": "stdout",
     "output_type": "stream",
     "text": [
      "3193 18981\n",
      "3194 18982\n",
      "3195 18983\n",
      "3196 18984\n"
     ]
    },
    {
     "name": "stderr",
     "output_type": "stream",
     "text": [
      "/home/mimus/anaconda3/envs/tf2/lib/python3.6/site-packages/ipykernel_launcher.py:51: UserWarning: /home/mimus/apiais/data/images/ANPR/training/masks_plate_loc/masks_14_36_augmented_image_18983.jpg is a low contrast image\n"
     ]
    },
    {
     "name": "stdout",
     "output_type": "stream",
     "text": [
      "3197 18985\n",
      "3198 18986\n",
      "3199 18987\n"
     ]
    },
    {
     "name": "stderr",
     "output_type": "stream",
     "text": [
      "/home/mimus/anaconda3/envs/tf2/lib/python3.6/site-packages/ipykernel_launcher.py:51: UserWarning: /home/mimus/apiais/data/images/ANPR/training/masks_plate_loc/masks_18_24_augmented_image_18985.jpg is a low contrast image\n",
      "/home/mimus/anaconda3/envs/tf2/lib/python3.6/site-packages/ipykernel_launcher.py:51: UserWarning: /home/mimus/apiais/data/images/ANPR/training/masks_plate_loc/masks_267_20_augmented_image_18987.jpg is a low contrast image\n",
      "/home/mimus/anaconda3/envs/tf2/lib/python3.6/site-packages/ipykernel_launcher.py:51: UserWarning: /home/mimus/apiais/data/images/ANPR/training/masks_plate_loc/masks_654_32_augmented_image_18988.jpg is a low contrast image\n"
     ]
    },
    {
     "name": "stdout",
     "output_type": "stream",
     "text": [
      "3200 18988\n",
      "3201 18989\n"
     ]
    },
    {
     "name": "stderr",
     "output_type": "stream",
     "text": [
      "/home/mimus/anaconda3/envs/tf2/lib/python3.6/site-packages/ipykernel_launcher.py:51: UserWarning: /home/mimus/apiais/data/images/ANPR/training/masks_plate_loc/masks_182_36_augmented_image_13316_augmented_image_18989.jpg is a low contrast image\n"
     ]
    },
    {
     "name": "stdout",
     "output_type": "stream",
     "text": [
      "3202 18990\n",
      "3203 18991\n"
     ]
    },
    {
     "name": "stderr",
     "output_type": "stream",
     "text": [
      "/home/mimus/anaconda3/envs/tf2/lib/python3.6/site-packages/ipykernel_launcher.py:51: UserWarning: /home/mimus/apiais/data/images/ANPR/training/masks_plate_loc/masks_253_0_augmented_image_18991.jpg is a low contrast image\n"
     ]
    },
    {
     "name": "stdout",
     "output_type": "stream",
     "text": [
      "3204 18992\n",
      "3205 18993\n",
      "3206 18994\n",
      "3207 18995\n"
     ]
    },
    {
     "name": "stderr",
     "output_type": "stream",
     "text": [
      "/home/mimus/anaconda3/envs/tf2/lib/python3.6/site-packages/ipykernel_launcher.py:51: UserWarning: /home/mimus/apiais/data/images/ANPR/training/masks_plate_loc/masks_205_43_augmented_image_18994.jpg is a low contrast image\n"
     ]
    },
    {
     "name": "stdout",
     "output_type": "stream",
     "text": [
      "3208 18996\n",
      "3209 18997\n"
     ]
    },
    {
     "name": "stderr",
     "output_type": "stream",
     "text": [
      "/home/mimus/anaconda3/envs/tf2/lib/python3.6/site-packages/ipykernel_launcher.py:51: UserWarning: /home/mimus/apiais/data/images/ANPR/training/masks_plate_loc/masks_119_28_augmented_image_18996.jpg is a low contrast image\n"
     ]
    },
    {
     "name": "stdout",
     "output_type": "stream",
     "text": [
      "3210 18998\n",
      "3211 18999\n",
      "3212 19000\n"
     ]
    },
    {
     "name": "stderr",
     "output_type": "stream",
     "text": [
      "/home/mimus/anaconda3/envs/tf2/lib/python3.6/site-packages/ipykernel_launcher.py:51: UserWarning: /home/mimus/apiais/data/images/ANPR/training/masks_plate_loc/masks_213_29_augmented_image_18999.jpg is a low contrast image\n",
      "/home/mimus/anaconda3/envs/tf2/lib/python3.6/site-packages/ipykernel_launcher.py:51: UserWarning: /home/mimus/apiais/data/images/ANPR/training/masks_plate_loc/masks_3_43_augmented_image_19000.jpg is a low contrast image\n"
     ]
    },
    {
     "name": "stdout",
     "output_type": "stream",
     "text": [
      "3213 19001\n",
      "3214 19002\n",
      "3215 19003\n",
      "3216 19004\n",
      "3217 19005\n",
      "3218 19006\n",
      "3219 19007\n"
     ]
    },
    {
     "name": "stderr",
     "output_type": "stream",
     "text": [
      "/home/mimus/anaconda3/envs/tf2/lib/python3.6/site-packages/ipykernel_launcher.py:51: UserWarning: /home/mimus/apiais/data/images/ANPR/training/masks_plate_loc/masks_279_28_augmented_image_14597_augmented_image_19005.jpg is a low contrast image\n",
      "/home/mimus/anaconda3/envs/tf2/lib/python3.6/site-packages/ipykernel_launcher.py:51: UserWarning: /home/mimus/apiais/data/images/ANPR/training/masks_plate_loc/masks_55_9_augmented_image_13867_augmented_image_19006.jpg is a low contrast image\n"
     ]
    },
    {
     "name": "stdout",
     "output_type": "stream",
     "text": [
      "3220 19008\n",
      "3221 19009\n"
     ]
    },
    {
     "name": "stderr",
     "output_type": "stream",
     "text": [
      "/home/mimus/anaconda3/envs/tf2/lib/python3.6/site-packages/ipykernel_launcher.py:51: UserWarning: /home/mimus/apiais/data/images/ANPR/training/masks_plate_loc/masks_110_40_augmented_image_19009.jpg is a low contrast image\n"
     ]
    },
    {
     "name": "stdout",
     "output_type": "stream",
     "text": [
      "3222 19010\n",
      "3223 19011\n",
      "3224 19012\n",
      "3225 19013\n",
      "3226 19014\n",
      "3227 19015\n",
      "3228 19016\n",
      "3229 19017\n"
     ]
    },
    {
     "name": "stderr",
     "output_type": "stream",
     "text": [
      "/home/mimus/anaconda3/envs/tf2/lib/python3.6/site-packages/ipykernel_launcher.py:51: UserWarning: /home/mimus/apiais/data/images/ANPR/training/masks_plate_loc/masks_145_20_augmented_image_19016.jpg is a low contrast image\n"
     ]
    },
    {
     "name": "stdout",
     "output_type": "stream",
     "text": [
      "3230 19018\n",
      "3231 19019\n",
      "3232 19020\n",
      "3233 19021\n",
      "3234 19022\n",
      "3235 19023\n"
     ]
    },
    {
     "name": "stderr",
     "output_type": "stream",
     "text": [
      "/home/mimus/anaconda3/envs/tf2/lib/python3.6/site-packages/ipykernel_launcher.py:51: UserWarning: /home/mimus/apiais/data/images/ANPR/training/masks_plate_loc/masks_128_28_augmented_image_19022.jpg is a low contrast image\n",
      "/home/mimus/anaconda3/envs/tf2/lib/python3.6/site-packages/ipykernel_launcher.py:51: UserWarning: /home/mimus/apiais/data/images/ANPR/training/masks_plate_loc/masks_563_34_augmented_image_19023.jpg is a low contrast image\n"
     ]
    },
    {
     "name": "stdout",
     "output_type": "stream",
     "text": [
      "3236 19024\n",
      "3237 19025\n",
      "3238 19026\n"
     ]
    },
    {
     "name": "stderr",
     "output_type": "stream",
     "text": [
      "/home/mimus/anaconda3/envs/tf2/lib/python3.6/site-packages/ipykernel_launcher.py:51: UserWarning: /home/mimus/apiais/data/images/ANPR/training/masks_plate_loc/masks_338_39_augmented_image_9613_augmented_image_19026.jpg is a low contrast image\n",
      "/home/mimus/anaconda3/envs/tf2/lib/python3.6/site-packages/ipykernel_launcher.py:51: UserWarning: /home/mimus/apiais/data/images/ANPR/training/masks_plate_loc/masks_212_16_augmented_image_19027.jpg is a low contrast image\n"
     ]
    },
    {
     "name": "stdout",
     "output_type": "stream",
     "text": [
      "3239 19027\n",
      "3240 19028\n"
     ]
    },
    {
     "name": "stderr",
     "output_type": "stream",
     "text": [
      "/home/mimus/anaconda3/envs/tf2/lib/python3.6/site-packages/ipykernel_launcher.py:51: UserWarning: /home/mimus/apiais/data/images/ANPR/training/masks_plate_loc/masks_11_21_augmented_image_19028.jpg is a low contrast image\n",
      "/home/mimus/anaconda3/envs/tf2/lib/python3.6/site-packages/ipykernel_launcher.py:51: UserWarning: /home/mimus/apiais/data/images/ANPR/training/masks_plate_loc/masks_12_7_augmented_image_19029.jpg is a low contrast image\n"
     ]
    },
    {
     "name": "stdout",
     "output_type": "stream",
     "text": [
      "3241 19029\n",
      "3242 19030\n",
      "3243 19031\n",
      "3244 19032\n"
     ]
    },
    {
     "name": "stderr",
     "output_type": "stream",
     "text": [
      "/home/mimus/anaconda3/envs/tf2/lib/python3.6/site-packages/ipykernel_launcher.py:51: UserWarning: /home/mimus/apiais/data/images/ANPR/training/masks_plate_loc/masks_155_32_augmented_image_19031.jpg is a low contrast image\n"
     ]
    },
    {
     "name": "stdout",
     "output_type": "stream",
     "text": [
      "3245 19033\n",
      "3246 19034\n",
      "3247 19035\n",
      "3248 19036\n",
      "3249 19037\n"
     ]
    },
    {
     "name": "stderr",
     "output_type": "stream",
     "text": [
      "/home/mimus/anaconda3/envs/tf2/lib/python3.6/site-packages/ipykernel_launcher.py:51: UserWarning: /home/mimus/apiais/data/images/ANPR/training/masks_plate_loc/masks_55_32_augmented_image_12706_augmented_image_19035.jpg is a low contrast image\n",
      "/home/mimus/anaconda3/envs/tf2/lib/python3.6/site-packages/ipykernel_launcher.py:51: UserWarning: /home/mimus/apiais/data/images/ANPR/training/masks_plate_loc/masks_19_11_augmented_image_19036.jpg is a low contrast image\n"
     ]
    },
    {
     "name": "stdout",
     "output_type": "stream",
     "text": [
      "3250 19038\n",
      "3251 19039\n"
     ]
    },
    {
     "name": "stderr",
     "output_type": "stream",
     "text": [
      "/home/mimus/anaconda3/envs/tf2/lib/python3.6/site-packages/ipykernel_launcher.py:51: UserWarning: /home/mimus/apiais/data/images/ANPR/training/masks_plate_loc/masks_115_30_1_augmented_image_14383_augmented_image_19039.jpg is a low contrast image\n",
      "/home/mimus/anaconda3/envs/tf2/lib/python3.6/site-packages/ipykernel_launcher.py:51: UserWarning: /home/mimus/apiais/data/images/ANPR/training/masks_plate_loc/masks_504_18_augmented_image_15012_augmented_image_19040.jpg is a low contrast image\n"
     ]
    },
    {
     "name": "stdout",
     "output_type": "stream",
     "text": [
      "3252 19040\n",
      "3253 19041\n",
      "3254 19042\n",
      "3255 19043\n"
     ]
    },
    {
     "name": "stderr",
     "output_type": "stream",
     "text": [
      "/home/mimus/anaconda3/envs/tf2/lib/python3.6/site-packages/ipykernel_launcher.py:51: UserWarning: /home/mimus/apiais/data/images/ANPR/training/masks_plate_loc/masks_131_18_augmented_image_13251_augmented_image_19043.jpg is a low contrast image\n"
     ]
    },
    {
     "name": "stdout",
     "output_type": "stream",
     "text": [
      "3256 19044\n",
      "3257 19045\n"
     ]
    },
    {
     "name": "stderr",
     "output_type": "stream",
     "text": [
      "/home/mimus/anaconda3/envs/tf2/lib/python3.6/site-packages/ipykernel_launcher.py:51: UserWarning: /home/mimus/apiais/data/images/ANPR/training/masks_plate_loc/masks_91_18_augmented_image_14430_augmented_image_19045.jpg is a low contrast image\n",
      "/home/mimus/anaconda3/envs/tf2/lib/python3.6/site-packages/ipykernel_launcher.py:51: UserWarning: /home/mimus/apiais/data/images/ANPR/training/masks_plate_loc/masks_283_29_augmented_image_19047.jpg is a low contrast image\n"
     ]
    },
    {
     "name": "stdout",
     "output_type": "stream",
     "text": [
      "3258 19046\n",
      "3259 19047\n",
      "3260 19048\n",
      "3261 19049\n",
      "3262 19050\n",
      "3263 19051\n",
      "3264 19052\n",
      "3265 19053\n"
     ]
    },
    {
     "name": "stderr",
     "output_type": "stream",
     "text": [
      "/home/mimus/anaconda3/envs/tf2/lib/python3.6/site-packages/ipykernel_launcher.py:51: UserWarning: /home/mimus/apiais/data/images/ANPR/training/masks_plate_loc/masks_57_0_augmented_image_11280_augmented_image_19053.jpg is a low contrast image\n"
     ]
    },
    {
     "name": "stdout",
     "output_type": "stream",
     "text": [
      "3266 19054\n",
      "3267 19055\n",
      "3268 19056\n",
      "3269 19057\n",
      "3270 19058\n"
     ]
    },
    {
     "name": "stderr",
     "output_type": "stream",
     "text": [
      "/home/mimus/anaconda3/envs/tf2/lib/python3.6/site-packages/ipykernel_launcher.py:51: UserWarning: /home/mimus/apiais/data/images/ANPR/training/masks_plate_loc/masks_90_29_augmented_image_19057.jpg is a low contrast image\n",
      "/home/mimus/anaconda3/envs/tf2/lib/python3.6/site-packages/ipykernel_launcher.py:51: UserWarning: /home/mimus/apiais/data/images/ANPR/training/masks_plate_loc/masks_316_33_augmented_image_8125_augmented_image_19058.jpg is a low contrast image\n"
     ]
    },
    {
     "name": "stdout",
     "output_type": "stream",
     "text": [
      "3271 19059\n",
      "3272 19060\n",
      "3273 19061\n",
      "3274 19062\n",
      "3275 19063\n"
     ]
    },
    {
     "name": "stderr",
     "output_type": "stream",
     "text": [
      "/home/mimus/anaconda3/envs/tf2/lib/python3.6/site-packages/ipykernel_launcher.py:51: UserWarning: /home/mimus/apiais/data/images/ANPR/training/masks_plate_loc/masks_2_37_augmented_image_19063.jpg is a low contrast image\n"
     ]
    },
    {
     "name": "stdout",
     "output_type": "stream",
     "text": [
      "3276 19064\n",
      "3277 19065\n",
      "3278 19066\n",
      "3279 19067\n",
      "3280 19068\n",
      "3281 19069\n"
     ]
    },
    {
     "name": "stderr",
     "output_type": "stream",
     "text": [
      "/home/mimus/anaconda3/envs/tf2/lib/python3.6/site-packages/ipykernel_launcher.py:51: UserWarning: /home/mimus/apiais/data/images/ANPR/training/masks_plate_loc/masks_508_32_augmented_image_19068.jpg is a low contrast image\n"
     ]
    },
    {
     "name": "stdout",
     "output_type": "stream",
     "text": [
      "3282 19070\n",
      "3283 19071\n",
      "3284 19072\n",
      "3285 19073\n"
     ]
    },
    {
     "name": "stderr",
     "output_type": "stream",
     "text": [
      "/home/mimus/anaconda3/envs/tf2/lib/python3.6/site-packages/ipykernel_launcher.py:51: UserWarning: /home/mimus/apiais/data/images/ANPR/training/masks_plate_loc/masks_11_1_3_augmented_image_19072.jpg is a low contrast image\n",
      "/home/mimus/anaconda3/envs/tf2/lib/python3.6/site-packages/ipykernel_launcher.py:51: UserWarning: /home/mimus/apiais/data/images/ANPR/training/masks_plate_loc/masks_173_29_augmented_image_19073.jpg is a low contrast image\n"
     ]
    },
    {
     "name": "stdout",
     "output_type": "stream",
     "text": [
      "3286 19074\n",
      "3287 19075\n"
     ]
    },
    {
     "name": "stderr",
     "output_type": "stream",
     "text": [
      "/home/mimus/anaconda3/envs/tf2/lib/python3.6/site-packages/ipykernel_launcher.py:51: UserWarning: /home/mimus/apiais/data/images/ANPR/training/masks_plate_loc/masks_6_36_augmented_image_13719_augmented_image_19075.jpg is a low contrast image\n"
     ]
    },
    {
     "name": "stdout",
     "output_type": "stream",
     "text": [
      "3288 19076\n",
      "3289 19077\n",
      "3290 19078\n",
      "3291 19079\n"
     ]
    },
    {
     "name": "stderr",
     "output_type": "stream",
     "text": [
      "/home/mimus/anaconda3/envs/tf2/lib/python3.6/site-packages/ipykernel_launcher.py:51: UserWarning: /home/mimus/apiais/data/images/ANPR/training/masks_plate_loc/masks_40_5_augmented_image_9954_augmented_image_19078.jpg is a low contrast image\n"
     ]
    },
    {
     "name": "stdout",
     "output_type": "stream",
     "text": [
      "3292 19080\n",
      "3293 19081\n",
      "3294 19082\n",
      "3295 19083\n",
      "3296 19084\n"
     ]
    },
    {
     "name": "stderr",
     "output_type": "stream",
     "text": [
      "/home/mimus/anaconda3/envs/tf2/lib/python3.6/site-packages/ipykernel_launcher.py:51: UserWarning: /home/mimus/apiais/data/images/ANPR/training/masks_plate_loc/masks_286_29_augmented_image_19084.jpg is a low contrast image\n",
      "/home/mimus/anaconda3/envs/tf2/lib/python3.6/site-packages/ipykernel_launcher.py:51: UserWarning: /home/mimus/apiais/data/images/ANPR/training/masks_plate_loc/masks_385_0_augmented_image_11153_augmented_image_19085.jpg is a low contrast image\n"
     ]
    },
    {
     "name": "stdout",
     "output_type": "stream",
     "text": [
      "3297 19085\n",
      "3298 19086\n",
      "3299 19087\n",
      "3300 19088\n"
     ]
    },
    {
     "name": "stderr",
     "output_type": "stream",
     "text": [
      "/home/mimus/anaconda3/envs/tf2/lib/python3.6/site-packages/ipykernel_launcher.py:51: UserWarning: /home/mimus/apiais/data/images/ANPR/training/masks_plate_loc/masks_1_augmented_image_19087.jpg is a low contrast image\n"
     ]
    },
    {
     "name": "stdout",
     "output_type": "stream",
     "text": [
      "3301 19089\n",
      "3302 19090\n"
     ]
    },
    {
     "name": "stderr",
     "output_type": "stream",
     "text": [
      "/home/mimus/anaconda3/envs/tf2/lib/python3.6/site-packages/ipykernel_launcher.py:51: UserWarning: /home/mimus/apiais/data/images/ANPR/training/masks_plate_loc/masks_19_23_augmented_image_19089.jpg is a low contrast image\n",
      "/home/mimus/anaconda3/envs/tf2/lib/python3.6/site-packages/ipykernel_launcher.py:51: UserWarning: /home/mimus/apiais/data/images/ANPR/training/masks_plate_loc/masks_40_5_augmented_image_19090.jpg is a low contrast image\n"
     ]
    },
    {
     "name": "stdout",
     "output_type": "stream",
     "text": [
      "3303 19091\n",
      "3304 19092\n",
      "3305 19093\n",
      "3306 19094\n",
      "3307 19095\n"
     ]
    },
    {
     "name": "stderr",
     "output_type": "stream",
     "text": [
      "/home/mimus/anaconda3/envs/tf2/lib/python3.6/site-packages/ipykernel_launcher.py:51: UserWarning: /home/mimus/apiais/data/images/ANPR/training/masks_plate_loc/masks_260_39_augmented_image_10835_augmented_image_19093.jpg is a low contrast image\n",
      "/home/mimus/anaconda3/envs/tf2/lib/python3.6/site-packages/ipykernel_launcher.py:51: UserWarning: /home/mimus/apiais/data/images/ANPR/training/masks_plate_loc/masks_115_28_augmented_image_8889_augmented_image_19095.jpg is a low contrast image\n"
     ]
    },
    {
     "name": "stdout",
     "output_type": "stream",
     "text": [
      "3308 19096\n",
      "3309 19097\n",
      "3310 19098\n",
      "3311 19099\n",
      "3312 19100\n"
     ]
    },
    {
     "name": "stderr",
     "output_type": "stream",
     "text": [
      "/home/mimus/anaconda3/envs/tf2/lib/python3.6/site-packages/ipykernel_launcher.py:51: UserWarning: /home/mimus/apiais/data/images/ANPR/training/masks_plate_loc/masks_1_29_augmented_image_19099.jpg is a low contrast image\n"
     ]
    },
    {
     "name": "stdout",
     "output_type": "stream",
     "text": [
      "3313 19101\n",
      "3314 19102\n",
      "3315 19103\n"
     ]
    },
    {
     "name": "stderr",
     "output_type": "stream",
     "text": [
      "/home/mimus/anaconda3/envs/tf2/lib/python3.6/site-packages/ipykernel_launcher.py:51: UserWarning: /home/mimus/apiais/data/images/ANPR/training/masks_plate_loc/masks_123_20_augmented_image_19101.jpg is a low contrast image\n"
     ]
    },
    {
     "name": "stdout",
     "output_type": "stream",
     "text": [
      "3316 19104\n",
      "3317 19105\n",
      "3318 19106\n"
     ]
    },
    {
     "name": "stderr",
     "output_type": "stream",
     "text": [
      "/home/mimus/anaconda3/envs/tf2/lib/python3.6/site-packages/ipykernel_launcher.py:51: UserWarning: /home/mimus/apiais/data/images/ANPR/training/masks_plate_loc/masks_561_18_augmented_image_10781_augmented_image_19106.jpg is a low contrast image\n"
     ]
    },
    {
     "name": "stdout",
     "output_type": "stream",
     "text": [
      "3319 19107\n",
      "3320 19108\n"
     ]
    },
    {
     "name": "stderr",
     "output_type": "stream",
     "text": [
      "/home/mimus/anaconda3/envs/tf2/lib/python3.6/site-packages/ipykernel_launcher.py:51: UserWarning: /home/mimus/apiais/data/images/ANPR/training/masks_plate_loc/masks_87_39_augmented_image_19108.jpg is a low contrast image\n",
      "/home/mimus/anaconda3/envs/tf2/lib/python3.6/site-packages/ipykernel_launcher.py:51: UserWarning: /home/mimus/apiais/data/images/ANPR/training/masks_plate_loc/masks_160_4_augmented_image_19109.jpg is a low contrast image\n"
     ]
    },
    {
     "name": "stdout",
     "output_type": "stream",
     "text": [
      "3321 19109\n",
      "3322 19110\n",
      "3323 19111\n",
      "3324 19112\n",
      "3325 19113\n",
      "3326 19114\n"
     ]
    },
    {
     "name": "stderr",
     "output_type": "stream",
     "text": [
      "/home/mimus/anaconda3/envs/tf2/lib/python3.6/site-packages/ipykernel_launcher.py:51: UserWarning: /home/mimus/apiais/data/images/ANPR/training/masks_plate_loc/masks_837_32_augmented_image_11735_augmented_image_19114.jpg is a low contrast image\n"
     ]
    },
    {
     "name": "stdout",
     "output_type": "stream",
     "text": [
      "3327 19115\n",
      "3328 19116\n"
     ]
    },
    {
     "name": "stderr",
     "output_type": "stream",
     "text": [
      "/home/mimus/anaconda3/envs/tf2/lib/python3.6/site-packages/ipykernel_launcher.py:51: UserWarning: /home/mimus/apiais/data/images/ANPR/training/masks_plate_loc/masks_98_24_augmented_image_19116.jpg is a low contrast image\n"
     ]
    },
    {
     "name": "stdout",
     "output_type": "stream",
     "text": [
      "3329 19117\n",
      "3330 19118\n",
      "3331 19119\n",
      "3332 19120\n"
     ]
    },
    {
     "name": "stderr",
     "output_type": "stream",
     "text": [
      "/home/mimus/anaconda3/envs/tf2/lib/python3.6/site-packages/ipykernel_launcher.py:51: UserWarning: /home/mimus/apiais/data/images/ANPR/training/masks_plate_loc/masks_14_augmented_image_12337_augmented_image_19119.jpg is a low contrast image\n"
     ]
    },
    {
     "name": "stdout",
     "output_type": "stream",
     "text": [
      "3333 19121\n",
      "3334 19122\n"
     ]
    },
    {
     "name": "stderr",
     "output_type": "stream",
     "text": [
      "/home/mimus/anaconda3/envs/tf2/lib/python3.6/site-packages/ipykernel_launcher.py:51: UserWarning: /home/mimus/apiais/data/images/ANPR/training/masks_plate_loc/masks_168_43_augmented_image_19121.jpg is a low contrast image\n",
      "/home/mimus/anaconda3/envs/tf2/lib/python3.6/site-packages/ipykernel_launcher.py:51: UserWarning: /home/mimus/apiais/data/images/ANPR/training/masks_plate_loc/masks_370_32_augmented_image_19122.jpg is a low contrast image\n"
     ]
    },
    {
     "name": "stdout",
     "output_type": "stream",
     "text": [
      "3335 19123\n",
      "3336 19124\n",
      "3337 19125\n",
      "3338 19126\n",
      "3339 19127\n"
     ]
    },
    {
     "name": "stderr",
     "output_type": "stream",
     "text": [
      "/home/mimus/anaconda3/envs/tf2/lib/python3.6/site-packages/ipykernel_launcher.py:51: UserWarning: /home/mimus/apiais/data/images/ANPR/training/masks_plate_loc/masks_79_33_augmented_image_9092_augmented_image_19127.jpg is a low contrast image\n",
      "/home/mimus/anaconda3/envs/tf2/lib/python3.6/site-packages/ipykernel_launcher.py:51: UserWarning: /home/mimus/apiais/data/images/ANPR/training/masks_plate_loc/masks_340_0_augmented_image_8592_augmented_image_19128.jpg is a low contrast image\n"
     ]
    },
    {
     "name": "stdout",
     "output_type": "stream",
     "text": [
      "3340 19128\n",
      "3341 19129\n"
     ]
    },
    {
     "name": "stderr",
     "output_type": "stream",
     "text": [
      "/home/mimus/anaconda3/envs/tf2/lib/python3.6/site-packages/ipykernel_launcher.py:51: UserWarning: /home/mimus/apiais/data/images/ANPR/training/masks_plate_loc/masks_282_34_augmented_image_19129.jpg is a low contrast image\n"
     ]
    },
    {
     "name": "stdout",
     "output_type": "stream",
     "text": [
      "3342 19130\n",
      "3343 19131\n",
      "3344 19132\n",
      "3345 19133\n"
     ]
    },
    {
     "name": "stderr",
     "output_type": "stream",
     "text": [
      "/home/mimus/anaconda3/envs/tf2/lib/python3.6/site-packages/ipykernel_launcher.py:51: UserWarning: /home/mimus/apiais/data/images/ANPR/training/masks_plate_loc/masks_526_29_augmented_image_8618_augmented_image_19133.jpg is a low contrast image\n"
     ]
    },
    {
     "name": "stdout",
     "output_type": "stream",
     "text": [
      "3346 19134\n",
      "3347 19135\n",
      "3348 19136\n",
      "3349 19137\n"
     ]
    },
    {
     "name": "stderr",
     "output_type": "stream",
     "text": [
      "/home/mimus/anaconda3/envs/tf2/lib/python3.6/site-packages/ipykernel_launcher.py:51: UserWarning: /home/mimus/apiais/data/images/ANPR/training/masks_plate_loc/masks_141_18_augmented_image_19136.jpg is a low contrast image\n"
     ]
    },
    {
     "name": "stdout",
     "output_type": "stream",
     "text": [
      "3350 19138\n",
      "3351 19139\n"
     ]
    },
    {
     "name": "stderr",
     "output_type": "stream",
     "text": [
      "/home/mimus/anaconda3/envs/tf2/lib/python3.6/site-packages/ipykernel_launcher.py:51: UserWarning: /home/mimus/apiais/data/images/ANPR/training/masks_plate_loc/masks_11_24_augmented_image_19139.jpg is a low contrast image\n",
      "/home/mimus/anaconda3/envs/tf2/lib/python3.6/site-packages/ipykernel_launcher.py:51: UserWarning: /home/mimus/apiais/data/images/ANPR/training/masks_plate_loc/masks_619_32_augmented_image_19140.jpg is a low contrast image\n"
     ]
    },
    {
     "name": "stdout",
     "output_type": "stream",
     "text": [
      "3352 19140\n",
      "3353 19141\n"
     ]
    },
    {
     "name": "stderr",
     "output_type": "stream",
     "text": [
      "/home/mimus/anaconda3/envs/tf2/lib/python3.6/site-packages/ipykernel_launcher.py:51: UserWarning: /home/mimus/apiais/data/images/ANPR/training/masks_plate_loc/masks_221_24_augmented_image_19141.jpg is a low contrast image\n"
     ]
    },
    {
     "name": "stdout",
     "output_type": "stream",
     "text": [
      "3354 19142\n",
      "3355 19143\n",
      "3356 19144\n",
      "3357 19145\n"
     ]
    },
    {
     "name": "stderr",
     "output_type": "stream",
     "text": [
      "/home/mimus/anaconda3/envs/tf2/lib/python3.6/site-packages/ipykernel_launcher.py:51: UserWarning: /home/mimus/apiais/data/images/ANPR/training/masks_plate_loc/masks_201_29_augmented_image_19144.jpg is a low contrast image\n",
      "/home/mimus/anaconda3/envs/tf2/lib/python3.6/site-packages/ipykernel_launcher.py:51: UserWarning: /home/mimus/apiais/data/images/ANPR/training/masks_plate_loc/masks_3_19_augmented_image_19145.jpg is a low contrast image\n"
     ]
    },
    {
     "name": "stdout",
     "output_type": "stream",
     "text": [
      "3358 19146\n",
      "3359 19147\n",
      "3360 19148\n"
     ]
    },
    {
     "name": "stderr",
     "output_type": "stream",
     "text": [
      "/home/mimus/anaconda3/envs/tf2/lib/python3.6/site-packages/ipykernel_launcher.py:51: UserWarning: /home/mimus/apiais/data/images/ANPR/training/masks_plate_loc/masks_27_18_augmented_image_19146.jpg is a low contrast image\n",
      "/home/mimus/anaconda3/envs/tf2/lib/python3.6/site-packages/ipykernel_launcher.py:51: UserWarning: /home/mimus/apiais/data/images/ANPR/training/masks_plate_loc/masks_130_1_3_augmented_image_8547_augmented_image_19147.jpg is a low contrast image\n"
     ]
    },
    {
     "name": "stdout",
     "output_type": "stream",
     "text": [
      "3361 19149\n",
      "3362 19150\n",
      "3363 19151\n",
      "3364 19152\n",
      "3365 19153\n",
      "3366 19154\n",
      "3367 19155\n",
      "3368 19156\n",
      "3369 19157\n"
     ]
    },
    {
     "name": "stderr",
     "output_type": "stream",
     "text": [
      "/home/mimus/anaconda3/envs/tf2/lib/python3.6/site-packages/ipykernel_launcher.py:51: UserWarning: /home/mimus/apiais/data/images/ANPR/training/masks_plate_loc/masks_162_42_augmented_image_12046_augmented_image_19156.jpg is a low contrast image\n",
      "/home/mimus/anaconda3/envs/tf2/lib/python3.6/site-packages/ipykernel_launcher.py:51: UserWarning: /home/mimus/apiais/data/images/ANPR/training/masks_plate_loc/masks_52_28_augmented_image_19158.jpg is a low contrast image\n"
     ]
    },
    {
     "name": "stdout",
     "output_type": "stream",
     "text": [
      "3370 19158\n",
      "3371 19159\n",
      "3372 19160\n"
     ]
    },
    {
     "name": "stderr",
     "output_type": "stream",
     "text": [
      "/home/mimus/anaconda3/envs/tf2/lib/python3.6/site-packages/ipykernel_launcher.py:51: UserWarning: /home/mimus/apiais/data/images/ANPR/training/masks_plate_loc/masks_327_39_augmented_image_19159.jpg is a low contrast image\n"
     ]
    },
    {
     "name": "stdout",
     "output_type": "stream",
     "text": [
      "3373 19161\n",
      "3374 19162\n",
      "3375 19163\n",
      "3376 19164\n",
      "3377 19165\n",
      "3378 19166\n",
      "3379 19167\n",
      "3380 19168\n"
     ]
    },
    {
     "name": "stderr",
     "output_type": "stream",
     "text": [
      "/home/mimus/anaconda3/envs/tf2/lib/python3.6/site-packages/ipykernel_launcher.py:51: UserWarning: /home/mimus/apiais/data/images/ANPR/training/masks_plate_loc/masks_104_30_1_augmented_image_9034_augmented_image_19168.jpg is a low contrast image\n",
      "/home/mimus/anaconda3/envs/tf2/lib/python3.6/site-packages/ipykernel_launcher.py:51: UserWarning: /home/mimus/apiais/data/images/ANPR/training/masks_plate_loc/masks_175_28_augmented_image_19169.jpg is a low contrast image\n"
     ]
    },
    {
     "name": "stdout",
     "output_type": "stream",
     "text": [
      "3381 19169\n",
      "3382 19170\n",
      "3383 19171\n",
      "3384 19172\n",
      "3385 19173\n"
     ]
    },
    {
     "name": "stderr",
     "output_type": "stream",
     "text": [
      "/home/mimus/anaconda3/envs/tf2/lib/python3.6/site-packages/ipykernel_launcher.py:51: UserWarning: /home/mimus/apiais/data/images/ANPR/training/masks_plate_loc/masks_98_0_augmented_image_12775_augmented_image_19171.jpg is a low contrast image\n",
      "/home/mimus/anaconda3/envs/tf2/lib/python3.6/site-packages/ipykernel_launcher.py:51: UserWarning: /home/mimus/apiais/data/images/ANPR/training/masks_plate_loc/masks_22_23_augmented_image_15000_augmented_image_19172.jpg is a low contrast image\n",
      "/home/mimus/anaconda3/envs/tf2/lib/python3.6/site-packages/ipykernel_launcher.py:51: UserWarning: /home/mimus/apiais/data/images/ANPR/training/masks_plate_loc/masks_32_21_augmented_image_19173.jpg is a low contrast image\n"
     ]
    },
    {
     "name": "stdout",
     "output_type": "stream",
     "text": [
      "3386 19174\n",
      "3387 19175\n"
     ]
    },
    {
     "name": "stderr",
     "output_type": "stream",
     "text": [
      "/home/mimus/anaconda3/envs/tf2/lib/python3.6/site-packages/ipykernel_launcher.py:51: UserWarning: /home/mimus/apiais/data/images/ANPR/training/masks_plate_loc/masks_73_31_augmented_image_9823_augmented_image_19174.jpg is a low contrast image\n"
     ]
    },
    {
     "name": "stdout",
     "output_type": "stream",
     "text": [
      "3388 19176\n",
      "3389 19177\n"
     ]
    },
    {
     "name": "stderr",
     "output_type": "stream",
     "text": [
      "/home/mimus/anaconda3/envs/tf2/lib/python3.6/site-packages/ipykernel_launcher.py:51: UserWarning: /home/mimus/apiais/data/images/ANPR/training/masks_plate_loc/masks_606_32_augmented_image_19177.jpg is a low contrast image\n"
     ]
    },
    {
     "name": "stdout",
     "output_type": "stream",
     "text": [
      "3390 19178\n",
      "3391 19179\n"
     ]
    },
    {
     "name": "stderr",
     "output_type": "stream",
     "text": [
      "/home/mimus/anaconda3/envs/tf2/lib/python3.6/site-packages/ipykernel_launcher.py:51: UserWarning: /home/mimus/apiais/data/images/ANPR/training/masks_plate_loc/masks_172_30_1_augmented_image_19179.jpg is a low contrast image\n",
      "/home/mimus/anaconda3/envs/tf2/lib/python3.6/site-packages/ipykernel_launcher.py:51: UserWarning: /home/mimus/apiais/data/images/ANPR/training/masks_plate_loc/masks_110_1_3_augmented_image_19180.jpg is a low contrast image\n"
     ]
    },
    {
     "name": "stdout",
     "output_type": "stream",
     "text": [
      "3392 19180\n",
      "3393 19181\n",
      "3394 19182\n",
      "3395 19183\n",
      "3396 19184\n"
     ]
    },
    {
     "name": "stderr",
     "output_type": "stream",
     "text": [
      "/home/mimus/anaconda3/envs/tf2/lib/python3.6/site-packages/ipykernel_launcher.py:51: UserWarning: /home/mimus/apiais/data/images/ANPR/training/masks_plate_loc/masks_379_32_augmented_image_19183.jpg is a low contrast image\n"
     ]
    },
    {
     "name": "stdout",
     "output_type": "stream",
     "text": [
      "3397 19185\n",
      "3398 19186\n",
      "3399 19187\n",
      "3400 19188\n",
      "3401 19189\n"
     ]
    },
    {
     "name": "stderr",
     "output_type": "stream",
     "text": [
      "/home/mimus/anaconda3/envs/tf2/lib/python3.6/site-packages/ipykernel_launcher.py:51: UserWarning: /home/mimus/apiais/data/images/ANPR/training/masks_plate_loc/masks_14_29_augmented_image_8503_augmented_image_19187.jpg is a low contrast image\n"
     ]
    },
    {
     "name": "stdout",
     "output_type": "stream",
     "text": [
      "3402 19190\n",
      "3403 19191\n"
     ]
    },
    {
     "name": "stderr",
     "output_type": "stream",
     "text": [
      "/home/mimus/anaconda3/envs/tf2/lib/python3.6/site-packages/ipykernel_launcher.py:51: UserWarning: /home/mimus/apiais/data/images/ANPR/training/masks_plate_loc/masks_304_39_augmented_image_12172_augmented_image_19191.jpg is a low contrast image\n",
      "/home/mimus/anaconda3/envs/tf2/lib/python3.6/site-packages/ipykernel_launcher.py:51: UserWarning: /home/mimus/apiais/data/images/ANPR/training/masks_plate_loc/masks_143_29_augmented_image_14308_augmented_image_19192.jpg is a low contrast image\n"
     ]
    },
    {
     "name": "stdout",
     "output_type": "stream",
     "text": [
      "3404 19192\n",
      "3405 19193\n",
      "3406 19194\n",
      "3407 19195\n"
     ]
    },
    {
     "name": "stderr",
     "output_type": "stream",
     "text": [
      "/home/mimus/anaconda3/envs/tf2/lib/python3.6/site-packages/ipykernel_launcher.py:51: UserWarning: /home/mimus/apiais/data/images/ANPR/training/masks_plate_loc/masks_256_39_augmented_image_11986_augmented_image_19194.jpg is a low contrast image\n",
      "/home/mimus/anaconda3/envs/tf2/lib/python3.6/site-packages/ipykernel_launcher.py:51: UserWarning: /home/mimus/apiais/data/images/ANPR/training/masks_plate_loc/masks_37_8_augmented_image_19195.jpg is a low contrast image\n"
     ]
    },
    {
     "name": "stdout",
     "output_type": "stream",
     "text": [
      "3408 19196\n",
      "3409 19197\n"
     ]
    },
    {
     "name": "stderr",
     "output_type": "stream",
     "text": [
      "/home/mimus/anaconda3/envs/tf2/lib/python3.6/site-packages/ipykernel_launcher.py:51: UserWarning: /home/mimus/apiais/data/images/ANPR/training/masks_plate_loc/masks_562_0_augmented_image_11190_augmented_image_19197.jpg is a low contrast image\n",
      "/home/mimus/anaconda3/envs/tf2/lib/python3.6/site-packages/ipykernel_launcher.py:51: UserWarning: /home/mimus/apiais/data/images/ANPR/training/masks_plate_loc/masks_105_20_augmented_image_12087_augmented_image_19198.jpg is a low contrast image\n"
     ]
    },
    {
     "name": "stdout",
     "output_type": "stream",
     "text": [
      "3410 19198\n",
      "3411 19199\n",
      "3412 19200\n",
      "3413 19201\n",
      "3414 19202\n"
     ]
    },
    {
     "name": "stderr",
     "output_type": "stream",
     "text": [
      "/home/mimus/anaconda3/envs/tf2/lib/python3.6/site-packages/ipykernel_launcher.py:51: UserWarning: /home/mimus/apiais/data/images/ANPR/training/masks_plate_loc/masks_196_24_augmented_image_19201.jpg is a low contrast image\n"
     ]
    },
    {
     "name": "stdout",
     "output_type": "stream",
     "text": [
      "3415 19203\n",
      "3416 19204\n"
     ]
    },
    {
     "name": "stderr",
     "output_type": "stream",
     "text": [
      "/home/mimus/anaconda3/envs/tf2/lib/python3.6/site-packages/ipykernel_launcher.py:51: UserWarning: /home/mimus/apiais/data/images/ANPR/training/masks_plate_loc/masks_47_31_augmented_image_10807_augmented_image_19203.jpg is a low contrast image\n"
     ]
    },
    {
     "name": "stdout",
     "output_type": "stream",
     "text": [
      "3417 19205\n",
      "3418 19206\n",
      "3419 19207\n",
      "3420 19208\n",
      "3421 19209\n",
      "3422 19210\n",
      "3423 19211\n",
      "3424 19212\n",
      "3425 19213\n"
     ]
    },
    {
     "name": "stderr",
     "output_type": "stream",
     "text": [
      "/home/mimus/anaconda3/envs/tf2/lib/python3.6/site-packages/ipykernel_launcher.py:51: UserWarning: /home/mimus/apiais/data/images/ANPR/training/masks_plate_loc/masks_195_43_augmented_image_19213.jpg is a low contrast image\n"
     ]
    },
    {
     "name": "stdout",
     "output_type": "stream",
     "text": [
      "3426 19214\n",
      "3427 19215\n"
     ]
    },
    {
     "name": "stderr",
     "output_type": "stream",
     "text": [
      "/home/mimus/anaconda3/envs/tf2/lib/python3.6/site-packages/ipykernel_launcher.py:51: UserWarning: /home/mimus/apiais/data/images/ANPR/training/masks_plate_loc/masks_57_21_augmented_image_9166_augmented_image_19215.jpg is a low contrast image\n",
      "/home/mimus/anaconda3/envs/tf2/lib/python3.6/site-packages/ipykernel_launcher.py:51: UserWarning: /home/mimus/apiais/data/images/ANPR/training/masks_plate_loc/masks_146_28_augmented_image_10771_augmented_image_19216.jpg is a low contrast image\n"
     ]
    },
    {
     "name": "stdout",
     "output_type": "stream",
     "text": [
      "3428 19216\n",
      "3429 19217\n",
      "3430 19218\n",
      "3431 19219\n"
     ]
    },
    {
     "name": "stderr",
     "output_type": "stream",
     "text": [
      "/home/mimus/anaconda3/envs/tf2/lib/python3.6/site-packages/ipykernel_launcher.py:51: UserWarning: /home/mimus/apiais/data/images/ANPR/training/masks_plate_loc/masks_43_16_augmented_image_9397_augmented_image_19218.jpg is a low contrast image\n"
     ]
    },
    {
     "name": "stdout",
     "output_type": "stream",
     "text": [
      "3432 19220\n",
      "3433 19221\n"
     ]
    },
    {
     "name": "stderr",
     "output_type": "stream",
     "text": [
      "/home/mimus/anaconda3/envs/tf2/lib/python3.6/site-packages/ipykernel_launcher.py:51: UserWarning: /home/mimus/apiais/data/images/ANPR/training/masks_plate_loc/masks_858_32_augmented_image_19221.jpg is a low contrast image\n"
     ]
    },
    {
     "name": "stdout",
     "output_type": "stream",
     "text": [
      "3434 19222\n",
      "3435 19223\n",
      "3436 19224\n",
      "3437 19225\n",
      "3438 19226\n"
     ]
    },
    {
     "name": "stderr",
     "output_type": "stream",
     "text": [
      "/home/mimus/anaconda3/envs/tf2/lib/python3.6/site-packages/ipykernel_launcher.py:51: UserWarning: /home/mimus/apiais/data/images/ANPR/training/masks_plate_loc/masks_347_39_augmented_image_19225.jpg is a low contrast image\n",
      "/home/mimus/anaconda3/envs/tf2/lib/python3.6/site-packages/ipykernel_launcher.py:51: UserWarning: /home/mimus/apiais/data/images/ANPR/training/masks_plate_loc/masks_169_28_augmented_image_19226.jpg is a low contrast image\n"
     ]
    },
    {
     "name": "stdout",
     "output_type": "stream",
     "text": [
      "3439 19227\n",
      "3440 19228\n"
     ]
    },
    {
     "name": "stderr",
     "output_type": "stream",
     "text": [
      "/home/mimus/anaconda3/envs/tf2/lib/python3.6/site-packages/ipykernel_launcher.py:51: UserWarning: /home/mimus/apiais/data/images/ANPR/training/masks_plate_loc/masks_500_32_augmented_image_12316_augmented_image_19227.jpg is a low contrast image\n",
      "/home/mimus/anaconda3/envs/tf2/lib/python3.6/site-packages/ipykernel_launcher.py:51: UserWarning: /home/mimus/apiais/data/images/ANPR/training/masks_plate_loc/masks_118_4_augmented_image_19228.jpg is a low contrast image\n"
     ]
    },
    {
     "name": "stdout",
     "output_type": "stream",
     "text": [
      "3441 19229\n",
      "3442 19230\n"
     ]
    },
    {
     "name": "stderr",
     "output_type": "stream",
     "text": [
      "/home/mimus/anaconda3/envs/tf2/lib/python3.6/site-packages/ipykernel_launcher.py:51: UserWarning: /home/mimus/apiais/data/images/ANPR/training/masks_plate_loc/masks_403_32_augmented_image_19229.jpg is a low contrast image\n",
      "/home/mimus/anaconda3/envs/tf2/lib/python3.6/site-packages/ipykernel_launcher.py:51: UserWarning: /home/mimus/apiais/data/images/ANPR/training/masks_plate_loc/masks_227_33_augmented_image_19230.jpg is a low contrast image\n"
     ]
    },
    {
     "name": "stdout",
     "output_type": "stream",
     "text": [
      "3443 19231\n",
      "3444 19232\n",
      "3445 19233\n",
      "3446 19234\n",
      "3447 19235\n",
      "3448 19236\n",
      "3449 19237\n",
      "3450 19238\n"
     ]
    },
    {
     "name": "stderr",
     "output_type": "stream",
     "text": [
      "/home/mimus/anaconda3/envs/tf2/lib/python3.6/site-packages/ipykernel_launcher.py:51: UserWarning: /home/mimus/apiais/data/images/ANPR/training/masks_plate_loc/masks_221_20_augmented_image_11346_augmented_image_19237.jpg is a low contrast image\n"
     ]
    },
    {
     "name": "stdout",
     "output_type": "stream",
     "text": [
      "3451 19239\n",
      "3452 19240\n",
      "3453 19241\n"
     ]
    },
    {
     "name": "stderr",
     "output_type": "stream",
     "text": [
      "/home/mimus/anaconda3/envs/tf2/lib/python3.6/site-packages/ipykernel_launcher.py:51: UserWarning: /home/mimus/apiais/data/images/ANPR/training/masks_plate_loc/masks_8_23_augmented_image_19240.jpg is a low contrast image\n"
     ]
    },
    {
     "name": "stdout",
     "output_type": "stream",
     "text": [
      "3454 19242\n",
      "3455 19243\n"
     ]
    },
    {
     "name": "stderr",
     "output_type": "stream",
     "text": [
      "/home/mimus/anaconda3/envs/tf2/lib/python3.6/site-packages/ipykernel_launcher.py:51: UserWarning: /home/mimus/apiais/data/images/ANPR/training/masks_plate_loc/masks_116_1_3_augmented_image_19243.jpg is a low contrast image\n"
     ]
    },
    {
     "name": "stdout",
     "output_type": "stream",
     "text": [
      "3456 19244\n",
      "3457 19245\n"
     ]
    },
    {
     "name": "stderr",
     "output_type": "stream",
     "text": [
      "/home/mimus/anaconda3/envs/tf2/lib/python3.6/site-packages/ipykernel_launcher.py:51: UserWarning: /home/mimus/apiais/data/images/ANPR/training/masks_plate_loc/masks_516_34_augmented_image_19245.jpg is a low contrast image\n",
      "/home/mimus/anaconda3/envs/tf2/lib/python3.6/site-packages/ipykernel_launcher.py:51: UserWarning: /home/mimus/apiais/data/images/ANPR/training/masks_plate_loc/masks_147_1_3_augmented_image_15710_augmented_image_19246.jpg is a low contrast image\n"
     ]
    },
    {
     "name": "stdout",
     "output_type": "stream",
     "text": [
      "3458 19246\n",
      "3459 19247\n"
     ]
    },
    {
     "name": "stderr",
     "output_type": "stream",
     "text": [
      "/home/mimus/anaconda3/envs/tf2/lib/python3.6/site-packages/ipykernel_launcher.py:51: UserWarning: /home/mimus/apiais/data/images/ANPR/training/masks_plate_loc/masks_65_31_augmented_image_19247.jpg is a low contrast image\n"
     ]
    },
    {
     "name": "stdout",
     "output_type": "stream",
     "text": [
      "3460 19248\n",
      "3461 19249\n"
     ]
    },
    {
     "name": "stderr",
     "output_type": "stream",
     "text": [
      "/home/mimus/anaconda3/envs/tf2/lib/python3.6/site-packages/ipykernel_launcher.py:51: UserWarning: /home/mimus/apiais/data/images/ANPR/training/masks_plate_loc/masks_92_1_3_augmented_image_10085_augmented_image_19249.jpg is a low contrast image\n",
      "/home/mimus/anaconda3/envs/tf2/lib/python3.6/site-packages/ipykernel_launcher.py:51: UserWarning: /home/mimus/apiais/data/images/ANPR/training/masks_plate_loc/masks_59_0_augmented_image_8367_augmented_image_19250.jpg is a low contrast image\n"
     ]
    },
    {
     "name": "stdout",
     "output_type": "stream",
     "text": [
      "3462 19250\n",
      "3463 19251\n",
      "3464 19252\n",
      "3465 19253\n",
      "3466 19254\n"
     ]
    },
    {
     "name": "stderr",
     "output_type": "stream",
     "text": [
      "/home/mimus/anaconda3/envs/tf2/lib/python3.6/site-packages/ipykernel_launcher.py:51: UserWarning: /home/mimus/apiais/data/images/ANPR/training/masks_plate_loc/masks_220_24_augmented_image_19252.jpg is a low contrast image\n",
      "/home/mimus/anaconda3/envs/tf2/lib/python3.6/site-packages/ipykernel_launcher.py:51: UserWarning: /home/mimus/apiais/data/images/ANPR/training/masks_plate_loc/masks_121_20_augmented_image_8802_augmented_image_19253.jpg is a low contrast image\n"
     ]
    },
    {
     "name": "stdout",
     "output_type": "stream",
     "text": [
      "3467 19255\n",
      "3468 19256\n"
     ]
    },
    {
     "name": "stderr",
     "output_type": "stream",
     "text": [
      "/home/mimus/anaconda3/envs/tf2/lib/python3.6/site-packages/ipykernel_launcher.py:51: UserWarning: /home/mimus/apiais/data/images/ANPR/training/masks_plate_loc/masks_10_4_augmented_image_19255.jpg is a low contrast image\n",
      "/home/mimus/anaconda3/envs/tf2/lib/python3.6/site-packages/ipykernel_launcher.py:51: UserWarning: /home/mimus/apiais/data/images/ANPR/training/masks_plate_loc/masks_20_39_augmented_image_19256.jpg is a low contrast image\n"
     ]
    },
    {
     "name": "stdout",
     "output_type": "stream",
     "text": [
      "3469 19257\n",
      "3470 19258\n"
     ]
    },
    {
     "name": "stderr",
     "output_type": "stream",
     "text": [
      "/home/mimus/anaconda3/envs/tf2/lib/python3.6/site-packages/ipykernel_launcher.py:51: UserWarning: /home/mimus/apiais/data/images/ANPR/training/masks_plate_loc/masks_67_34_augmented_image_19258.jpg is a low contrast image\n"
     ]
    },
    {
     "name": "stdout",
     "output_type": "stream",
     "text": [
      "3471 19259\n",
      "3472 19260\n",
      "3473 19261\n",
      "3474 19262\n"
     ]
    },
    {
     "name": "stderr",
     "output_type": "stream",
     "text": [
      "/home/mimus/anaconda3/envs/tf2/lib/python3.6/site-packages/ipykernel_launcher.py:51: UserWarning: /home/mimus/apiais/data/images/ANPR/training/masks_plate_loc/masks_10_17_augmented_image_19262.jpg is a low contrast image\n",
      "/home/mimus/anaconda3/envs/tf2/lib/python3.6/site-packages/ipykernel_launcher.py:51: UserWarning: /home/mimus/apiais/data/images/ANPR/training/masks_plate_loc/masks_138_4_augmented_image_8643_augmented_image_19263.jpg is a low contrast image\n"
     ]
    },
    {
     "name": "stdout",
     "output_type": "stream",
     "text": [
      "3475 19263\n",
      "3476 19264\n",
      "3477 19265\n",
      "3478 19266\n",
      "3479 19267\n"
     ]
    },
    {
     "name": "stderr",
     "output_type": "stream",
     "text": [
      "/home/mimus/anaconda3/envs/tf2/lib/python3.6/site-packages/ipykernel_launcher.py:51: UserWarning: /home/mimus/apiais/data/images/ANPR/training/masks_plate_loc/masks_182_24_augmented_image_8589_augmented_image_19265.jpg is a low contrast image\n"
     ]
    },
    {
     "name": "stdout",
     "output_type": "stream",
     "text": [
      "3480 19268\n",
      "3481 19269\n",
      "3482 19270\n",
      "3483 19271\n"
     ]
    },
    {
     "name": "stderr",
     "output_type": "stream",
     "text": [
      "/home/mimus/anaconda3/envs/tf2/lib/python3.6/site-packages/ipykernel_launcher.py:51: UserWarning: /home/mimus/apiais/data/images/ANPR/training/masks_plate_loc/masks_335_29_augmented_image_19270.jpg is a low contrast image\n",
      "/home/mimus/anaconda3/envs/tf2/lib/python3.6/site-packages/ipykernel_launcher.py:51: UserWarning: /home/mimus/apiais/data/images/ANPR/training/masks_plate_loc/masks_77_5_augmented_image_10465_augmented_image_19271.jpg is a low contrast image\n"
     ]
    },
    {
     "name": "stdout",
     "output_type": "stream",
     "text": [
      "3484 19272\n",
      "3485 19273\n",
      "3486 19274\n",
      "3487 19275\n",
      "3488 19276\n",
      "3489 19277\n",
      "3490 19278\n"
     ]
    },
    {
     "name": "stderr",
     "output_type": "stream",
     "text": [
      "/home/mimus/anaconda3/envs/tf2/lib/python3.6/site-packages/ipykernel_launcher.py:51: UserWarning: /home/mimus/apiais/data/images/ANPR/training/masks_plate_loc/masks_11_10_augmented_image_19278.jpg is a low contrast image\n"
     ]
    },
    {
     "name": "stdout",
     "output_type": "stream",
     "text": [
      "3491 19279\n",
      "3492 19280\n"
     ]
    },
    {
     "name": "stderr",
     "output_type": "stream",
     "text": [
      "/home/mimus/anaconda3/envs/tf2/lib/python3.6/site-packages/ipykernel_launcher.py:51: UserWarning: /home/mimus/apiais/data/images/ANPR/training/masks_plate_loc/masks_111_4_augmented_image_19280.jpg is a low contrast image\n",
      "/home/mimus/anaconda3/envs/tf2/lib/python3.6/site-packages/ipykernel_launcher.py:51: UserWarning: /home/mimus/apiais/data/images/ANPR/training/masks_plate_loc/masks_48_0_augmented_image_13820_augmented_image_19281.jpg is a low contrast image\n",
      "/home/mimus/anaconda3/envs/tf2/lib/python3.6/site-packages/ipykernel_launcher.py:51: UserWarning: /home/mimus/apiais/data/images/ANPR/training/masks_plate_loc/masks_26_33_augmented_image_19282.jpg is a low contrast image\n"
     ]
    },
    {
     "name": "stdout",
     "output_type": "stream",
     "text": [
      "3493 19281\n",
      "3494 19282\n",
      "3495 19283\n",
      "3496 19284\n",
      "3497 19285\n"
     ]
    },
    {
     "name": "stderr",
     "output_type": "stream",
     "text": [
      "/home/mimus/anaconda3/envs/tf2/lib/python3.6/site-packages/ipykernel_launcher.py:51: UserWarning: /home/mimus/apiais/data/images/ANPR/training/masks_plate_loc/masks_38_29_augmented_image_14612_augmented_image_19284.jpg is a low contrast image\n",
      "/home/mimus/anaconda3/envs/tf2/lib/python3.6/site-packages/ipykernel_launcher.py:51: UserWarning: /home/mimus/apiais/data/images/ANPR/training/masks_plate_loc/masks_85_20_augmented_image_19285.jpg is a low contrast image\n"
     ]
    },
    {
     "name": "stdout",
     "output_type": "stream",
     "text": [
      "3498 19286\n",
      "3499 19287\n"
     ]
    },
    {
     "name": "stderr",
     "output_type": "stream",
     "text": [
      "/home/mimus/anaconda3/envs/tf2/lib/python3.6/site-packages/ipykernel_launcher.py:51: UserWarning: /home/mimus/apiais/data/images/ANPR/training/masks_plate_loc/masks_48_28_augmented_image_11979_augmented_image_19286.jpg is a low contrast image\n"
     ]
    },
    {
     "name": "stdout",
     "output_type": "stream",
     "text": [
      "3500 19288\n",
      "3501 19289\n",
      "3502 19290\n"
     ]
    },
    {
     "name": "stderr",
     "output_type": "stream",
     "text": [
      "/home/mimus/anaconda3/envs/tf2/lib/python3.6/site-packages/ipykernel_launcher.py:51: UserWarning: /home/mimus/apiais/data/images/ANPR/training/masks_plate_loc/masks_615_32_augmented_image_9264_augmented_image_19290.jpg is a low contrast image\n"
     ]
    },
    {
     "name": "stdout",
     "output_type": "stream",
     "text": [
      "3503 19291\n",
      "3504 19292\n",
      "3505 19293\n",
      "3506 19294\n",
      "3507 19295\n"
     ]
    },
    {
     "name": "stderr",
     "output_type": "stream",
     "text": [
      "/home/mimus/anaconda3/envs/tf2/lib/python3.6/site-packages/ipykernel_launcher.py:51: UserWarning: /home/mimus/apiais/data/images/ANPR/training/masks_plate_loc/masks_65_18_augmented_image_19293.jpg is a low contrast image\n",
      "/home/mimus/anaconda3/envs/tf2/lib/python3.6/site-packages/ipykernel_launcher.py:51: UserWarning: /home/mimus/apiais/data/images/ANPR/training/masks_plate_loc/masks_45_33_augmented_image_19294.jpg is a low contrast image\n",
      "/home/mimus/anaconda3/envs/tf2/lib/python3.6/site-packages/ipykernel_launcher.py:51: UserWarning: /home/mimus/apiais/data/images/ANPR/training/masks_plate_loc/masks_187_33_augmented_image_15156_augmented_image_19295.jpg is a low contrast image\n"
     ]
    },
    {
     "name": "stdout",
     "output_type": "stream",
     "text": [
      "3508 19296\n",
      "3509 19297\n"
     ]
    },
    {
     "name": "stderr",
     "output_type": "stream",
     "text": [
      "/home/mimus/anaconda3/envs/tf2/lib/python3.6/site-packages/ipykernel_launcher.py:51: UserWarning: /home/mimus/apiais/data/images/ANPR/training/masks_plate_loc/masks_662_32_augmented_image_12931_augmented_image_19297.jpg is a low contrast image\n"
     ]
    },
    {
     "name": "stdout",
     "output_type": "stream",
     "text": [
      "3510 19298\n",
      "3511 19299\n",
      "3512 19300\n",
      "3513 19301\n",
      "3514 19302\n",
      "3515 19303\n",
      "3516 19304\n",
      "3517 19305\n",
      "3518 19306\n"
     ]
    },
    {
     "name": "stderr",
     "output_type": "stream",
     "text": [
      "/home/mimus/anaconda3/envs/tf2/lib/python3.6/site-packages/ipykernel_launcher.py:51: UserWarning: /home/mimus/apiais/data/images/ANPR/training/masks_plate_loc/masks_32_21_augmented_image_11487_augmented_image_19305.jpg is a low contrast image\n"
     ]
    },
    {
     "name": "stdout",
     "output_type": "stream",
     "text": [
      "3519 19307\n",
      "3520 19308\n"
     ]
    },
    {
     "name": "stderr",
     "output_type": "stream",
     "text": [
      "/home/mimus/anaconda3/envs/tf2/lib/python3.6/site-packages/ipykernel_launcher.py:51: UserWarning: /home/mimus/apiais/data/images/ANPR/training/masks_plate_loc/masks_33_augmented_image_19307.jpg is a low contrast image\n",
      "/home/mimus/anaconda3/envs/tf2/lib/python3.6/site-packages/ipykernel_launcher.py:51: UserWarning: /home/mimus/apiais/data/images/ANPR/training/masks_plate_loc/masks_67_29_augmented_image_19308.jpg is a low contrast image\n"
     ]
    },
    {
     "name": "stdout",
     "output_type": "stream",
     "text": [
      "3521 19309\n",
      "3522 19310\n",
      "3523 19311\n",
      "3524 19312\n",
      "3525 19313\n",
      "3526 19314\n",
      "3527 19315\n",
      "3528 19316\n",
      "3529 19317\n",
      "3530 19318\n"
     ]
    },
    {
     "name": "stderr",
     "output_type": "stream",
     "text": [
      "/home/mimus/anaconda3/envs/tf2/lib/python3.6/site-packages/ipykernel_launcher.py:51: UserWarning: /home/mimus/apiais/data/images/ANPR/training/masks_plate_loc/masks_502_29_augmented_image_19316.jpg is a low contrast image\n"
     ]
    },
    {
     "name": "stdout",
     "output_type": "stream",
     "text": [
      "3531 19319\n",
      "3532 19320\n"
     ]
    },
    {
     "name": "stderr",
     "output_type": "stream",
     "text": [
      "/home/mimus/anaconda3/envs/tf2/lib/python3.6/site-packages/ipykernel_launcher.py:51: UserWarning: /home/mimus/apiais/data/images/ANPR/training/masks_plate_loc/masks_200_24_augmented_image_19319.jpg is a low contrast image\n"
     ]
    },
    {
     "name": "stdout",
     "output_type": "stream",
     "text": [
      "3533 19321\n",
      "3534 19322\n",
      "3535 19323\n",
      "3536 19324\n"
     ]
    },
    {
     "name": "stderr",
     "output_type": "stream",
     "text": [
      "/home/mimus/anaconda3/envs/tf2/lib/python3.6/site-packages/ipykernel_launcher.py:51: UserWarning: /home/mimus/apiais/data/images/ANPR/training/masks_plate_loc/masks_10_33_augmented_image_14301_augmented_image_19324.jpg is a low contrast image\n"
     ]
    },
    {
     "name": "stdout",
     "output_type": "stream",
     "text": [
      "3537 19325\n",
      "3538 19326\n"
     ]
    },
    {
     "name": "stderr",
     "output_type": "stream",
     "text": [
      "/home/mimus/anaconda3/envs/tf2/lib/python3.6/site-packages/ipykernel_launcher.py:51: UserWarning: /home/mimus/apiais/data/images/ANPR/training/masks_plate_loc/masks_91_39_augmented_image_19326.jpg is a low contrast image\n"
     ]
    },
    {
     "name": "stdout",
     "output_type": "stream",
     "text": [
      "3539 19327\n",
      "3540 19328\n",
      "3541 19329\n",
      "3542 19330\n",
      "3543 19331\n",
      "3544 19332\n",
      "3545 19333\n"
     ]
    },
    {
     "name": "stderr",
     "output_type": "stream",
     "text": [
      "/home/mimus/anaconda3/envs/tf2/lib/python3.6/site-packages/ipykernel_launcher.py:51: UserWarning: /home/mimus/apiais/data/images/ANPR/training/masks_plate_loc/masks_213_38_augmented_image_19332.jpg is a low contrast image\n"
     ]
    },
    {
     "name": "stdout",
     "output_type": "stream",
     "text": [
      "3546 19334\n",
      "3547 19335\n",
      "3548 19336\n",
      "3549 19337\n",
      "3550 19338\n",
      "3551 19339\n"
     ]
    },
    {
     "name": "stderr",
     "output_type": "stream",
     "text": [
      "/home/mimus/anaconda3/envs/tf2/lib/python3.6/site-packages/ipykernel_launcher.py:51: UserWarning: /home/mimus/apiais/data/images/ANPR/training/masks_plate_loc/masks_156_40_augmented_image_19338.jpg is a low contrast image\n"
     ]
    },
    {
     "name": "stdout",
     "output_type": "stream",
     "text": [
      "3552 19340\n",
      "3553 19341\n",
      "3554 19342\n",
      "3555 19343\n"
     ]
    },
    {
     "name": "stderr",
     "output_type": "stream",
     "text": [
      "/home/mimus/anaconda3/envs/tf2/lib/python3.6/site-packages/ipykernel_launcher.py:51: UserWarning: /home/mimus/apiais/data/images/ANPR/training/masks_plate_loc/masks_229_32_augmented_image_15037_augmented_image_19342.jpg is a low contrast image\n"
     ]
    },
    {
     "name": "stdout",
     "output_type": "stream",
     "text": [
      "3556 19344\n",
      "3557 19345\n",
      "3558 19346\n",
      "3559 19347\n"
     ]
    },
    {
     "name": "stderr",
     "output_type": "stream",
     "text": [
      "/home/mimus/anaconda3/envs/tf2/lib/python3.6/site-packages/ipykernel_launcher.py:51: UserWarning: /home/mimus/apiais/data/images/ANPR/training/masks_plate_loc/masks_126_33_augmented_image_19346.jpg is a low contrast image\n"
     ]
    },
    {
     "name": "stdout",
     "output_type": "stream",
     "text": [
      "3560 19348\n",
      "3561 19349\n",
      "3562 19350\n"
     ]
    },
    {
     "name": "stderr",
     "output_type": "stream",
     "text": [
      "/home/mimus/anaconda3/envs/tf2/lib/python3.6/site-packages/ipykernel_launcher.py:51: UserWarning: /home/mimus/apiais/data/images/ANPR/training/masks_plate_loc/masks_118_23_augmented_image_19349.jpg is a low contrast image\n"
     ]
    },
    {
     "name": "stdout",
     "output_type": "stream",
     "text": [
      "3563 19351\n",
      "3564 19352\n"
     ]
    },
    {
     "name": "stderr",
     "output_type": "stream",
     "text": [
      "/home/mimus/anaconda3/envs/tf2/lib/python3.6/site-packages/ipykernel_launcher.py:51: UserWarning: /home/mimus/apiais/data/images/ANPR/training/masks_plate_loc/masks_255_28_augmented_image_11221_augmented_image_19352.jpg is a low contrast image\n"
     ]
    },
    {
     "name": "stdout",
     "output_type": "stream",
     "text": [
      "3565 19353\n",
      "3566 19354\n",
      "3567 19355\n"
     ]
    },
    {
     "name": "stderr",
     "output_type": "stream",
     "text": [
      "/home/mimus/anaconda3/envs/tf2/lib/python3.6/site-packages/ipykernel_launcher.py:51: UserWarning: /home/mimus/apiais/data/images/ANPR/training/masks_plate_loc/masks_482_32_augmented_image_19355.jpg is a low contrast image\n"
     ]
    },
    {
     "name": "stdout",
     "output_type": "stream",
     "text": [
      "3568 19356\n",
      "3569 19357\n",
      "3570 19358\n",
      "3571 19359\n"
     ]
    },
    {
     "name": "stderr",
     "output_type": "stream",
     "text": [
      "/home/mimus/anaconda3/envs/tf2/lib/python3.6/site-packages/ipykernel_launcher.py:51: UserWarning: /home/mimus/apiais/data/images/ANPR/training/masks_plate_loc/masks_116_20_augmented_image_19359.jpg is a low contrast image\n",
      "/home/mimus/anaconda3/envs/tf2/lib/python3.6/site-packages/ipykernel_launcher.py:51: UserWarning: /home/mimus/apiais/data/images/ANPR/training/masks_plate_loc/masks_53_42_augmented_image_19360.jpg is a low contrast image\n"
     ]
    },
    {
     "name": "stdout",
     "output_type": "stream",
     "text": [
      "3572 19360\n",
      "3573 19361\n",
      "3574 19362\n",
      "3575 19363\n",
      "3576 19364\n",
      "3577 19365\n",
      "3578 19366\n",
      "3579 19367\n",
      "3580 19368\n"
     ]
    },
    {
     "name": "stderr",
     "output_type": "stream",
     "text": [
      "/home/mimus/anaconda3/envs/tf2/lib/python3.6/site-packages/ipykernel_launcher.py:51: UserWarning: /home/mimus/apiais/data/images/ANPR/training/masks_plate_loc/masks_816_32_augmented_image_13902_augmented_image_19367.jpg is a low contrast image\n"
     ]
    },
    {
     "name": "stdout",
     "output_type": "stream",
     "text": [
      "3581 19369\n",
      "3582 19370\n"
     ]
    },
    {
     "name": "stderr",
     "output_type": "stream",
     "text": [
      "/home/mimus/anaconda3/envs/tf2/lib/python3.6/site-packages/ipykernel_launcher.py:51: UserWarning: /home/mimus/apiais/data/images/ANPR/training/masks_plate_loc/masks_735_32_augmented_image_19369.jpg is a low contrast image\n",
      "/home/mimus/anaconda3/envs/tf2/lib/python3.6/site-packages/ipykernel_launcher.py:51: UserWarning: /home/mimus/apiais/data/images/ANPR/training/masks_plate_loc/masks_138_0_augmented_image_19370.jpg is a low contrast image\n"
     ]
    },
    {
     "name": "stdout",
     "output_type": "stream",
     "text": [
      "3583 19371\n",
      "3584 19372\n"
     ]
    },
    {
     "name": "stderr",
     "output_type": "stream",
     "text": [
      "/home/mimus/anaconda3/envs/tf2/lib/python3.6/site-packages/ipykernel_launcher.py:51: UserWarning: /home/mimus/apiais/data/images/ANPR/training/masks_plate_loc/masks_274_18_augmented_image_12183_augmented_image_19371.jpg is a low contrast image\n"
     ]
    },
    {
     "name": "stdout",
     "output_type": "stream",
     "text": [
      "3585 19373\n",
      "3586 19374\n",
      "3587 19375\n"
     ]
    },
    {
     "name": "stderr",
     "output_type": "stream",
     "text": [
      "/home/mimus/anaconda3/envs/tf2/lib/python3.6/site-packages/ipykernel_launcher.py:51: UserWarning: /home/mimus/apiais/data/images/ANPR/training/masks_plate_loc/masks_311_42_augmented_image_12361_augmented_image_19373.jpg is a low contrast image\n",
      "/home/mimus/anaconda3/envs/tf2/lib/python3.6/site-packages/ipykernel_launcher.py:51: UserWarning: /home/mimus/apiais/data/images/ANPR/training/masks_plate_loc/masks_339_0_augmented_image_19374.jpg is a low contrast image\n"
     ]
    },
    {
     "name": "stdout",
     "output_type": "stream",
     "text": [
      "3588 19376\n",
      "3589 19377\n"
     ]
    },
    {
     "name": "stderr",
     "output_type": "stream",
     "text": [
      "/home/mimus/anaconda3/envs/tf2/lib/python3.6/site-packages/ipykernel_launcher.py:51: UserWarning: /home/mimus/apiais/data/images/ANPR/training/masks_plate_loc/masks_189_40_augmented_image_19377.jpg is a low contrast image\n",
      "/home/mimus/anaconda3/envs/tf2/lib/python3.6/site-packages/ipykernel_launcher.py:51: UserWarning: /home/mimus/apiais/data/images/ANPR/training/masks_plate_loc/masks_149_1_3_augmented_image_11621_augmented_image_19378.jpg is a low contrast image\n"
     ]
    },
    {
     "name": "stdout",
     "output_type": "stream",
     "text": [
      "3590 19378\n",
      "3591 19379\n",
      "3592 19380\n"
     ]
    },
    {
     "name": "stderr",
     "output_type": "stream",
     "text": [
      "/home/mimus/anaconda3/envs/tf2/lib/python3.6/site-packages/ipykernel_launcher.py:51: UserWarning: /home/mimus/apiais/data/images/ANPR/training/masks_plate_loc/masks_33_12_augmented_image_12296_augmented_image_19380.jpg is a low contrast image\n"
     ]
    },
    {
     "name": "stdout",
     "output_type": "stream",
     "text": [
      "3593 19381\n",
      "3594 19382\n",
      "3595 19383\n",
      "3596 19384\n",
      "3597 19385\n",
      "3598 19386\n",
      "3599 19387\n",
      "3600 19388\n"
     ]
    },
    {
     "name": "stderr",
     "output_type": "stream",
     "text": [
      "/home/mimus/anaconda3/envs/tf2/lib/python3.6/site-packages/ipykernel_launcher.py:51: UserWarning: /home/mimus/apiais/data/images/ANPR/training/masks_plate_loc/masks_140_18_augmented_image_19387.jpg is a low contrast image\n"
     ]
    },
    {
     "name": "stdout",
     "output_type": "stream",
     "text": [
      "3601 19389\n",
      "3602 19390\n"
     ]
    },
    {
     "name": "stderr",
     "output_type": "stream",
     "text": [
      "/home/mimus/anaconda3/envs/tf2/lib/python3.6/site-packages/ipykernel_launcher.py:51: UserWarning: /home/mimus/apiais/data/images/ANPR/training/masks_plate_loc/masks_526_32_augmented_image_19390.jpg is a low contrast image\n"
     ]
    },
    {
     "name": "stdout",
     "output_type": "stream",
     "text": [
      "3603 19391\n",
      "3604 19392\n",
      "3605 19393\n",
      "3606 19394\n"
     ]
    },
    {
     "name": "stderr",
     "output_type": "stream",
     "text": [
      "/home/mimus/anaconda3/envs/tf2/lib/python3.6/site-packages/ipykernel_launcher.py:51: UserWarning: /home/mimus/apiais/data/images/ANPR/training/masks_plate_loc/masks_279_32_augmented_image_19393.jpg is a low contrast image\n",
      "/home/mimus/anaconda3/envs/tf2/lib/python3.6/site-packages/ipykernel_launcher.py:51: UserWarning: /home/mimus/apiais/data/images/ANPR/training/masks_plate_loc/masks_525_18_augmented_image_15358_augmented_image_19394.jpg is a low contrast image\n"
     ]
    },
    {
     "name": "stdout",
     "output_type": "stream",
     "text": [
      "3607 19395\n",
      "3608 19396\n"
     ]
    },
    {
     "name": "stderr",
     "output_type": "stream",
     "text": [
      "/home/mimus/anaconda3/envs/tf2/lib/python3.6/site-packages/ipykernel_launcher.py:51: UserWarning: /home/mimus/apiais/data/images/ANPR/training/masks_plate_loc/masks_663_32_augmented_image_19395.jpg is a low contrast image\n"
     ]
    },
    {
     "name": "stdout",
     "output_type": "stream",
     "text": [
      "3609 19397\n",
      "3610 19398\n",
      "3611 19399\n",
      "3612 19400\n"
     ]
    },
    {
     "name": "stderr",
     "output_type": "stream",
     "text": [
      "/home/mimus/anaconda3/envs/tf2/lib/python3.6/site-packages/ipykernel_launcher.py:51: UserWarning: /home/mimus/apiais/data/images/ANPR/training/masks_plate_loc/masks_120_20_augmented_image_8034_augmented_image_19400.jpg is a low contrast image\n",
      "/home/mimus/anaconda3/envs/tf2/lib/python3.6/site-packages/ipykernel_launcher.py:51: UserWarning: /home/mimus/apiais/data/images/ANPR/training/masks_plate_loc/masks_3_0_augmented_image_19401.jpg is a low contrast image\n"
     ]
    },
    {
     "name": "stdout",
     "output_type": "stream",
     "text": [
      "3613 19401\n",
      "3614 19402\n",
      "3615 19403\n",
      "3616 19404\n",
      "3617 19405\n",
      "3618 19406\n",
      "3619 19407\n",
      "3620 19408\n",
      "3621 19409\n"
     ]
    },
    {
     "name": "stderr",
     "output_type": "stream",
     "text": [
      "/home/mimus/anaconda3/envs/tf2/lib/python3.6/site-packages/ipykernel_launcher.py:51: UserWarning: /home/mimus/apiais/data/images/ANPR/training/masks_plate_loc/masks_138_20_augmented_image_13715_augmented_image_19408.jpg is a low contrast image\n"
     ]
    },
    {
     "name": "stdout",
     "output_type": "stream",
     "text": [
      "3622 19410\n",
      "3623 19411\n",
      "3624 19412\n",
      "3625 19413\n",
      "3626 19414\n",
      "3627 19415\n"
     ]
    },
    {
     "name": "stderr",
     "output_type": "stream",
     "text": [
      "/home/mimus/anaconda3/envs/tf2/lib/python3.6/site-packages/ipykernel_launcher.py:51: UserWarning: /home/mimus/apiais/data/images/ANPR/training/masks_plate_loc/masks_105_31_augmented_image_19413.jpg is a low contrast image\n",
      "/home/mimus/anaconda3/envs/tf2/lib/python3.6/site-packages/ipykernel_launcher.py:51: UserWarning: /home/mimus/apiais/data/images/ANPR/training/masks_plate_loc/masks_349_18_augmented_image_9469_augmented_image_19414.jpg is a low contrast image\n",
      "/home/mimus/anaconda3/envs/tf2/lib/python3.6/site-packages/ipykernel_launcher.py:51: UserWarning: /home/mimus/apiais/data/images/ANPR/training/masks_plate_loc/masks_396_29_augmented_image_19415.jpg is a low contrast image\n"
     ]
    },
    {
     "name": "stdout",
     "output_type": "stream",
     "text": [
      "3628 19416\n",
      "3629 19417\n",
      "3630 19418\n",
      "3631 19419\n",
      "3632 19420\n",
      "3633 19421\n",
      "3634 19422\n",
      "3635 19423\n"
     ]
    },
    {
     "name": "stderr",
     "output_type": "stream",
     "text": [
      "/home/mimus/anaconda3/envs/tf2/lib/python3.6/site-packages/ipykernel_launcher.py:51: UserWarning: /home/mimus/apiais/data/images/ANPR/training/masks_plate_loc/masks_81_29_augmented_image_19423.jpg is a low contrast image\n",
      "/home/mimus/anaconda3/envs/tf2/lib/python3.6/site-packages/ipykernel_launcher.py:51: UserWarning: /home/mimus/apiais/data/images/ANPR/training/masks_plate_loc/masks_116_9_augmented_image_8923_augmented_image_19424.jpg is a low contrast image\n"
     ]
    },
    {
     "name": "stdout",
     "output_type": "stream",
     "text": [
      "3636 19424\n",
      "3637 19425\n"
     ]
    },
    {
     "name": "stderr",
     "output_type": "stream",
     "text": [
      "/home/mimus/anaconda3/envs/tf2/lib/python3.6/site-packages/ipykernel_launcher.py:51: UserWarning: /home/mimus/apiais/data/images/ANPR/training/masks_plate_loc/masks_483_29_augmented_image_19425.jpg is a low contrast image\n"
     ]
    },
    {
     "name": "stdout",
     "output_type": "stream",
     "text": [
      "3638 19426\n",
      "3639 19427\n",
      "3640 19428\n",
      "3641 19429\n"
     ]
    },
    {
     "name": "stderr",
     "output_type": "stream",
     "text": [
      "/home/mimus/anaconda3/envs/tf2/lib/python3.6/site-packages/ipykernel_launcher.py:51: UserWarning: /home/mimus/apiais/data/images/ANPR/training/masks_plate_loc/masks_197_39_augmented_image_19429.jpg is a low contrast image\n"
     ]
    },
    {
     "name": "stdout",
     "output_type": "stream",
     "text": [
      "3642 19430\n",
      "3643 19431\n",
      "3644 19432\n",
      "3645 19433\n",
      "3646 19434\n",
      "3647 19435\n"
     ]
    },
    {
     "name": "stderr",
     "output_type": "stream",
     "text": [
      "/home/mimus/anaconda3/envs/tf2/lib/python3.6/site-packages/ipykernel_launcher.py:51: UserWarning: /home/mimus/apiais/data/images/ANPR/training/masks_plate_loc/masks_121_39_augmented_image_19434.jpg is a low contrast image\n"
     ]
    },
    {
     "name": "stdout",
     "output_type": "stream",
     "text": [
      "3648 19436\n",
      "3649 19437\n"
     ]
    },
    {
     "name": "stderr",
     "output_type": "stream",
     "text": [
      "/home/mimus/anaconda3/envs/tf2/lib/python3.6/site-packages/ipykernel_launcher.py:51: UserWarning: /home/mimus/apiais/data/images/ANPR/training/masks_plate_loc/masks_160_40_augmented_image_19437.jpg is a low contrast image\n"
     ]
    },
    {
     "name": "stdout",
     "output_type": "stream",
     "text": [
      "3650 19438\n",
      "3651 19439\n",
      "3652 19440\n",
      "3653 19441\n",
      "3654 19442\n",
      "3655 19443\n",
      "3656 19444\n",
      "3657 19445\n",
      "3658 19446\n"
     ]
    },
    {
     "name": "stderr",
     "output_type": "stream",
     "text": [
      "/home/mimus/anaconda3/envs/tf2/lib/python3.6/site-packages/ipykernel_launcher.py:51: UserWarning: /home/mimus/apiais/data/images/ANPR/training/masks_plate_loc/masks_143_0_augmented_image_19444.jpg is a low contrast image\n"
     ]
    },
    {
     "name": "stdout",
     "output_type": "stream",
     "text": [
      "3659 19447\n",
      "3660 19448\n"
     ]
    },
    {
     "name": "stderr",
     "output_type": "stream",
     "text": [
      "/home/mimus/anaconda3/envs/tf2/lib/python3.6/site-packages/ipykernel_launcher.py:51: UserWarning: /home/mimus/apiais/data/images/ANPR/training/masks_plate_loc/masks_591_32_augmented_image_19448.jpg is a low contrast image\n"
     ]
    },
    {
     "name": "stdout",
     "output_type": "stream",
     "text": [
      "3661 19449\n",
      "3662 19450\n"
     ]
    },
    {
     "name": "stderr",
     "output_type": "stream",
     "text": [
      "/home/mimus/anaconda3/envs/tf2/lib/python3.6/site-packages/ipykernel_launcher.py:51: UserWarning: /home/mimus/apiais/data/images/ANPR/training/masks_plate_loc/masks_202_43_augmented_image_19450.jpg is a low contrast image\n"
     ]
    },
    {
     "name": "stdout",
     "output_type": "stream",
     "text": [
      "3663 19451\n",
      "3664 19452\n"
     ]
    },
    {
     "name": "stderr",
     "output_type": "stream",
     "text": [
      "/home/mimus/anaconda3/envs/tf2/lib/python3.6/site-packages/ipykernel_launcher.py:51: UserWarning: /home/mimus/apiais/data/images/ANPR/training/masks_plate_loc/masks_273_39_augmented_image_11281_augmented_image_19452.jpg is a low contrast image\n"
     ]
    },
    {
     "name": "stdout",
     "output_type": "stream",
     "text": [
      "3665 19453\n",
      "3666 19454\n",
      "3667 19455\n",
      "3668 19456\n"
     ]
    },
    {
     "name": "stderr",
     "output_type": "stream",
     "text": [
      "/home/mimus/anaconda3/envs/tf2/lib/python3.6/site-packages/ipykernel_launcher.py:51: UserWarning: /home/mimus/apiais/data/images/ANPR/training/masks_plate_loc/masks_31_21_augmented_image_13458_augmented_image_19455.jpg is a low contrast image\n"
     ]
    },
    {
     "name": "stdout",
     "output_type": "stream",
     "text": [
      "3669 19457\n",
      "3670 19458\n",
      "3671 19459\n",
      "3672 19460\n",
      "3673 19461\n"
     ]
    },
    {
     "name": "stderr",
     "output_type": "stream",
     "text": [
      "/home/mimus/anaconda3/envs/tf2/lib/python3.6/site-packages/ipykernel_launcher.py:51: UserWarning: /home/mimus/apiais/data/images/ANPR/training/masks_plate_loc/masks_311_28_augmented_image_11243_augmented_image_19460.jpg is a low contrast image\n",
      "/home/mimus/anaconda3/envs/tf2/lib/python3.6/site-packages/ipykernel_launcher.py:51: UserWarning: /home/mimus/apiais/data/images/ANPR/training/masks_plate_loc/masks_61_30_1_augmented_image_19461.jpg is a low contrast image\n"
     ]
    },
    {
     "name": "stdout",
     "output_type": "stream",
     "text": [
      "3674 19462\n",
      "3675 19463\n",
      "3676 19464\n"
     ]
    },
    {
     "name": "stderr",
     "output_type": "stream",
     "text": [
      "/home/mimus/anaconda3/envs/tf2/lib/python3.6/site-packages/ipykernel_launcher.py:51: UserWarning: /home/mimus/apiais/data/images/ANPR/training/masks_plate_loc/masks_47_16_augmented_image_19462.jpg is a low contrast image\n"
     ]
    },
    {
     "name": "stdout",
     "output_type": "stream",
     "text": [
      "3677 19465\n",
      "3678 19466\n"
     ]
    },
    {
     "name": "stderr",
     "output_type": "stream",
     "text": [
      "/home/mimus/anaconda3/envs/tf2/lib/python3.6/site-packages/ipykernel_launcher.py:51: UserWarning: /home/mimus/apiais/data/images/ANPR/training/masks_plate_loc/masks_402_0_augmented_image_13912_augmented_image_19466.jpg is a low contrast image\n",
      "/home/mimus/anaconda3/envs/tf2/lib/python3.6/site-packages/ipykernel_launcher.py:51: UserWarning: /home/mimus/apiais/data/images/ANPR/training/masks_plate_loc/masks_102_30_1_augmented_image_19467.jpg is a low contrast image\n"
     ]
    },
    {
     "name": "stdout",
     "output_type": "stream",
     "text": [
      "3679 19467\n",
      "3680 19468\n",
      "3681 19469\n",
      "3682 19470\n",
      "3683 19471\n",
      "3684 19472\n"
     ]
    },
    {
     "name": "stderr",
     "output_type": "stream",
     "text": [
      "/home/mimus/anaconda3/envs/tf2/lib/python3.6/site-packages/ipykernel_launcher.py:51: UserWarning: /home/mimus/apiais/data/images/ANPR/training/masks_plate_loc/masks_491_18_augmented_image_19471.jpg is a low contrast image\n"
     ]
    },
    {
     "name": "stdout",
     "output_type": "stream",
     "text": [
      "3685 19473\n",
      "3686 19474\n"
     ]
    },
    {
     "name": "stderr",
     "output_type": "stream",
     "text": [
      "/home/mimus/anaconda3/envs/tf2/lib/python3.6/site-packages/ipykernel_launcher.py:51: UserWarning: /home/mimus/apiais/data/images/ANPR/training/masks_plate_loc/masks_41_42_augmented_image_19473.jpg is a low contrast image\n",
      "/home/mimus/anaconda3/envs/tf2/lib/python3.6/site-packages/ipykernel_launcher.py:51: UserWarning: /home/mimus/apiais/data/images/ANPR/training/masks_plate_loc/masks_198_33_augmented_image_19474.jpg is a low contrast image\n"
     ]
    },
    {
     "name": "stdout",
     "output_type": "stream",
     "text": [
      "3687 19475\n",
      "3688 19476\n",
      "3689 19477\n",
      "3690 19478\n",
      "3691 19479\n"
     ]
    },
    {
     "name": "stderr",
     "output_type": "stream",
     "text": [
      "/home/mimus/anaconda3/envs/tf2/lib/python3.6/site-packages/ipykernel_launcher.py:51: UserWarning: /home/mimus/apiais/data/images/ANPR/training/masks_plate_loc/masks_213_39_augmented_image_15291_augmented_image_19477.jpg is a low contrast image\n",
      "/home/mimus/anaconda3/envs/tf2/lib/python3.6/site-packages/ipykernel_launcher.py:51: UserWarning: /home/mimus/apiais/data/images/ANPR/training/masks_plate_loc/masks_272_18_augmented_image_19478.jpg is a low contrast image\n",
      "/home/mimus/anaconda3/envs/tf2/lib/python3.6/site-packages/ipykernel_launcher.py:51: UserWarning: /home/mimus/apiais/data/images/ANPR/training/masks_plate_loc/masks_253_32_augmented_image_19479.jpg is a low contrast image\n"
     ]
    },
    {
     "name": "stdout",
     "output_type": "stream",
     "text": [
      "3692 19480\n",
      "3693 19481\n"
     ]
    },
    {
     "name": "stderr",
     "output_type": "stream",
     "text": [
      "/home/mimus/anaconda3/envs/tf2/lib/python3.6/site-packages/ipykernel_launcher.py:51: UserWarning: /home/mimus/apiais/data/images/ANPR/training/masks_plate_loc/masks_132_41_augmented_image_13132_augmented_image_19481.jpg is a low contrast image\n"
     ]
    },
    {
     "name": "stdout",
     "output_type": "stream",
     "text": [
      "3694 19482\n",
      "3695 19483\n",
      "3696 19484\n",
      "3697 19485\n",
      "3698 19486\n",
      "3699 19487\n"
     ]
    },
    {
     "name": "stderr",
     "output_type": "stream",
     "text": [
      "/home/mimus/anaconda3/envs/tf2/lib/python3.6/site-packages/ipykernel_launcher.py:51: UserWarning: /home/mimus/apiais/data/images/ANPR/training/masks_plate_loc/masks_306_39_augmented_image_8101_augmented_image_19486.jpg is a low contrast image\n"
     ]
    },
    {
     "name": "stdout",
     "output_type": "stream",
     "text": [
      "3700 19488\n",
      "3701 19489\n"
     ]
    },
    {
     "name": "stderr",
     "output_type": "stream",
     "text": [
      "/home/mimus/anaconda3/envs/tf2/lib/python3.6/site-packages/ipykernel_launcher.py:51: UserWarning: /home/mimus/apiais/data/images/ANPR/training/masks_plate_loc/masks_55_23_augmented_image_19489.jpg is a low contrast image\n",
      "/home/mimus/anaconda3/envs/tf2/lib/python3.6/site-packages/ipykernel_launcher.py:51: UserWarning: /home/mimus/apiais/data/images/ANPR/training/masks_plate_loc/masks_180_29_augmented_image_9307_augmented_image_19490.jpg is a low contrast image\n"
     ]
    },
    {
     "name": "stdout",
     "output_type": "stream",
     "text": [
      "3702 19490\n",
      "3703 19491\n"
     ]
    },
    {
     "name": "stderr",
     "output_type": "stream",
     "text": [
      "/home/mimus/anaconda3/envs/tf2/lib/python3.6/site-packages/ipykernel_launcher.py:51: UserWarning: /home/mimus/apiais/data/images/ANPR/training/masks_plate_loc/masks_16_1_3_augmented_image_19491.jpg is a low contrast image\n",
      "/home/mimus/anaconda3/envs/tf2/lib/python3.6/site-packages/ipykernel_launcher.py:51: UserWarning: /home/mimus/apiais/data/images/ANPR/training/masks_plate_loc/masks_176_24_augmented_image_19492.jpg is a low contrast image\n"
     ]
    },
    {
     "name": "stdout",
     "output_type": "stream",
     "text": [
      "3704 19492\n",
      "3705 19493\n",
      "3706 19494\n",
      "3707 19495\n"
     ]
    },
    {
     "name": "stderr",
     "output_type": "stream",
     "text": [
      "/home/mimus/anaconda3/envs/tf2/lib/python3.6/site-packages/ipykernel_launcher.py:51: UserWarning: /home/mimus/apiais/data/images/ANPR/training/masks_plate_loc/masks_27_augmented_image_8610_augmented_image_19494.jpg is a low contrast image\n",
      "/home/mimus/anaconda3/envs/tf2/lib/python3.6/site-packages/ipykernel_launcher.py:51: UserWarning: /home/mimus/apiais/data/images/ANPR/training/masks_plate_loc/masks_114_31_augmented_image_8264_augmented_image_19495.jpg is a low contrast image\n"
     ]
    },
    {
     "name": "stdout",
     "output_type": "stream",
     "text": [
      "3708 19496\n",
      "3709 19497\n",
      "3710 19498\n",
      "3711 19499\n",
      "3712 19500\n"
     ]
    },
    {
     "name": "stderr",
     "output_type": "stream",
     "text": [
      "/home/mimus/anaconda3/envs/tf2/lib/python3.6/site-packages/ipykernel_launcher.py:51: UserWarning: /home/mimus/apiais/data/images/ANPR/training/masks_plate_loc/masks_8_35_augmented_image_19498.jpg is a low contrast image\n",
      "/home/mimus/anaconda3/envs/tf2/lib/python3.6/site-packages/ipykernel_launcher.py:51: UserWarning: /home/mimus/apiais/data/images/ANPR/training/masks_plate_loc/masks_15_23_augmented_image_14509_augmented_image_19499.jpg is a low contrast image\n"
     ]
    },
    {
     "name": "stdout",
     "output_type": "stream",
     "text": [
      "3713 19501\n",
      "3714 19502\n"
     ]
    },
    {
     "name": "stderr",
     "output_type": "stream",
     "text": [
      "/home/mimus/anaconda3/envs/tf2/lib/python3.6/site-packages/ipykernel_launcher.py:51: UserWarning: /home/mimus/apiais/data/images/ANPR/training/masks_plate_loc/masks_351_39_augmented_image_19502.jpg is a low contrast image\n"
     ]
    },
    {
     "name": "stdout",
     "output_type": "stream",
     "text": [
      "3715 19503\n",
      "3716 19504\n",
      "3717 19505\n",
      "3718 19506\n",
      "3719 19507\n",
      "3720 19508\n",
      "3721 19509\n",
      "3722 19510\n",
      "3723 19511\n"
     ]
    },
    {
     "name": "stderr",
     "output_type": "stream",
     "text": [
      "/home/mimus/anaconda3/envs/tf2/lib/python3.6/site-packages/ipykernel_launcher.py:51: UserWarning: /home/mimus/apiais/data/images/ANPR/training/masks_plate_loc/masks_85_24_augmented_image_19510.jpg is a low contrast image\n"
     ]
    },
    {
     "name": "stdout",
     "output_type": "stream",
     "text": [
      "3724 19512\n",
      "3725 19513\n"
     ]
    },
    {
     "name": "stderr",
     "output_type": "stream",
     "text": [
      "/home/mimus/anaconda3/envs/tf2/lib/python3.6/site-packages/ipykernel_launcher.py:51: UserWarning: /home/mimus/apiais/data/images/ANPR/training/masks_plate_loc/masks_53_5_augmented_image_19513.jpg is a low contrast image\n",
      "/home/mimus/anaconda3/envs/tf2/lib/python3.6/site-packages/ipykernel_launcher.py:51: UserWarning: /home/mimus/apiais/data/images/ANPR/training/masks_plate_loc/masks_86_42_augmented_image_19514.jpg is a low contrast image\n"
     ]
    },
    {
     "name": "stdout",
     "output_type": "stream",
     "text": [
      "3726 19514\n",
      "3727 19515\n"
     ]
    },
    {
     "name": "stderr",
     "output_type": "stream",
     "text": [
      "/home/mimus/anaconda3/envs/tf2/lib/python3.6/site-packages/ipykernel_launcher.py:51: UserWarning: /home/mimus/apiais/data/images/ANPR/training/masks_plate_loc/masks_128_30_1_augmented_image_13785_augmented_image_19515.jpg is a low contrast image\n"
     ]
    },
    {
     "name": "stdout",
     "output_type": "stream",
     "text": [
      "3728 19516\n",
      "3729 19517\n",
      "3730 19518\n",
      "3731 19519\n",
      "3732 19520\n",
      "3733 19521\n"
     ]
    },
    {
     "name": "stderr",
     "output_type": "stream",
     "text": [
      "/home/mimus/anaconda3/envs/tf2/lib/python3.6/site-packages/ipykernel_launcher.py:51: UserWarning: /home/mimus/apiais/data/images/ANPR/training/masks_plate_loc/masks_95_33_augmented_image_10040_augmented_image_19521.jpg is a low contrast image\n"
     ]
    },
    {
     "name": "stdout",
     "output_type": "stream",
     "text": [
      "3734 19522\n",
      "3735 19523\n"
     ]
    },
    {
     "name": "stderr",
     "output_type": "stream",
     "text": [
      "/home/mimus/anaconda3/envs/tf2/lib/python3.6/site-packages/ipykernel_launcher.py:51: UserWarning: /home/mimus/apiais/data/images/ANPR/training/masks_plate_loc/masks_154_39_augmented_image_19523.jpg is a low contrast image\n"
     ]
    },
    {
     "name": "stdout",
     "output_type": "stream",
     "text": [
      "3736 19524\n",
      "3737 19525\n",
      "3738 19526\n",
      "3739 19527\n",
      "3740 19528\n",
      "3741 19529\n"
     ]
    },
    {
     "name": "stderr",
     "output_type": "stream",
     "text": [
      "/home/mimus/anaconda3/envs/tf2/lib/python3.6/site-packages/ipykernel_launcher.py:51: UserWarning: /home/mimus/apiais/data/images/ANPR/training/masks_plate_loc/masks_49_5_augmented_image_14578_augmented_image_19529.jpg is a low contrast image\n"
     ]
    },
    {
     "name": "stdout",
     "output_type": "stream",
     "text": [
      "3742 19530\n",
      "3743 19531\n"
     ]
    },
    {
     "name": "stderr",
     "output_type": "stream",
     "text": [
      "/home/mimus/anaconda3/envs/tf2/lib/python3.6/site-packages/ipykernel_launcher.py:51: UserWarning: /home/mimus/apiais/data/images/ANPR/training/masks_plate_loc/masks_229_28_augmented_image_19531.jpg is a low contrast image\n"
     ]
    },
    {
     "name": "stdout",
     "output_type": "stream",
     "text": [
      "3744 19532\n",
      "3745 19533\n",
      "3746 19534\n",
      "3747 19535\n",
      "3748 19536\n"
     ]
    },
    {
     "name": "stderr",
     "output_type": "stream",
     "text": [
      "/home/mimus/anaconda3/envs/tf2/lib/python3.6/site-packages/ipykernel_launcher.py:51: UserWarning: /home/mimus/apiais/data/images/ANPR/training/masks_plate_loc/masks_719_32_augmented_image_10857_augmented_image_19536.jpg is a low contrast image\n"
     ]
    },
    {
     "name": "stdout",
     "output_type": "stream",
     "text": [
      "3749 19537\n",
      "3750 19538\n",
      "3751 19539\n",
      "3752 19540\n",
      "3753 19541\n",
      "3754 19542\n",
      "3755 19543\n",
      "3756 19544\n",
      "3757 19545\n",
      "3758 19546\n",
      "3759 19547\n",
      "3760 19548\n",
      "3761 19549\n",
      "3762 19550\n",
      "3763 19551\n",
      "3764 19552\n"
     ]
    },
    {
     "name": "stderr",
     "output_type": "stream",
     "text": [
      "/home/mimus/anaconda3/envs/tf2/lib/python3.6/site-packages/ipykernel_launcher.py:51: UserWarning: /home/mimus/apiais/data/images/ANPR/training/masks_plate_loc/masks_15_9_augmented_image_11227_augmented_image_19550.jpg is a low contrast image\n"
     ]
    },
    {
     "name": "stdout",
     "output_type": "stream",
     "text": [
      "3765 19553\n",
      "3766 19554\n",
      "3767 19555\n"
     ]
    },
    {
     "name": "stderr",
     "output_type": "stream",
     "text": [
      "/home/mimus/anaconda3/envs/tf2/lib/python3.6/site-packages/ipykernel_launcher.py:51: UserWarning: /home/mimus/apiais/data/images/ANPR/training/masks_plate_loc/masks_297_28_augmented_image_8172_augmented_image_19555.jpg is a low contrast image\n",
      "/home/mimus/anaconda3/envs/tf2/lib/python3.6/site-packages/ipykernel_launcher.py:51: UserWarning: /home/mimus/apiais/data/images/ANPR/training/masks_plate_loc/masks_320_33_augmented_image_19556.jpg is a low contrast image\n",
      "/home/mimus/anaconda3/envs/tf2/lib/python3.6/site-packages/ipykernel_launcher.py:51: UserWarning: /home/mimus/apiais/data/images/ANPR/training/masks_plate_loc/masks_21_18_augmented_image_7964_augmented_image_19557.jpg is a low contrast image\n"
     ]
    },
    {
     "name": "stdout",
     "output_type": "stream",
     "text": [
      "3768 19556\n",
      "3769 19557\n",
      "3770 19558\n",
      "3771 19559\n",
      "3772 19560\n",
      "3773 19561\n"
     ]
    },
    {
     "name": "stderr",
     "output_type": "stream",
     "text": [
      "/home/mimus/anaconda3/envs/tf2/lib/python3.6/site-packages/ipykernel_launcher.py:51: UserWarning: /home/mimus/apiais/data/images/ANPR/training/masks_plate_loc/masks_338_29_augmented_image_19561.jpg is a low contrast image\n"
     ]
    },
    {
     "name": "stdout",
     "output_type": "stream",
     "text": [
      "3774 19562\n",
      "3775 19563\n",
      "3776 19564\n",
      "3777 19565\n",
      "3778 19566\n"
     ]
    },
    {
     "name": "stderr",
     "output_type": "stream",
     "text": [
      "/home/mimus/anaconda3/envs/tf2/lib/python3.6/site-packages/ipykernel_launcher.py:51: UserWarning: /home/mimus/apiais/data/images/ANPR/training/masks_plate_loc/masks_250_29_augmented_image_15016_augmented_image_19565.jpg is a low contrast image\n",
      "/home/mimus/anaconda3/envs/tf2/lib/python3.6/site-packages/ipykernel_launcher.py:51: UserWarning: /home/mimus/apiais/data/images/ANPR/training/masks_plate_loc/masks_660_32_augmented_image_19566.jpg is a low contrast image\n"
     ]
    },
    {
     "name": "stdout",
     "output_type": "stream",
     "text": [
      "3779 19567\n",
      "3780 19568\n",
      "3781 19569\n",
      "3782 19570\n",
      "3783 19571\n",
      "3784 19572\n",
      "3785 19573\n",
      "3786 19574\n",
      "3787 19575\n",
      "3788 19576\n",
      "3789 19577\n",
      "3790 19578\n",
      "3791 19579\n",
      "3792 19580\n"
     ]
    },
    {
     "name": "stderr",
     "output_type": "stream",
     "text": [
      "/home/mimus/anaconda3/envs/tf2/lib/python3.6/site-packages/ipykernel_launcher.py:51: UserWarning: /home/mimus/apiais/data/images/ANPR/training/masks_plate_loc/masks_159_42_augmented_image_12069_augmented_image_19579.jpg is a low contrast image\n",
      "/home/mimus/anaconda3/envs/tf2/lib/python3.6/site-packages/ipykernel_launcher.py:51: UserWarning: /home/mimus/apiais/data/images/ANPR/training/masks_plate_loc/masks_241_42_augmented_image_10762_augmented_image_19580.jpg is a low contrast image\n",
      "/home/mimus/anaconda3/envs/tf2/lib/python3.6/site-packages/ipykernel_launcher.py:51: UserWarning: /home/mimus/apiais/data/images/ANPR/training/masks_plate_loc/masks_685_32_augmented_image_19581.jpg is a low contrast image\n"
     ]
    },
    {
     "name": "stdout",
     "output_type": "stream",
     "text": [
      "3793 19581\n",
      "3794 19582\n",
      "3795 19583\n"
     ]
    },
    {
     "name": "stderr",
     "output_type": "stream",
     "text": [
      "/home/mimus/anaconda3/envs/tf2/lib/python3.6/site-packages/ipykernel_launcher.py:51: UserWarning: /home/mimus/apiais/data/images/ANPR/training/masks_plate_loc/masks_40_29_augmented_image_14468_augmented_image_19582.jpg is a low contrast image\n",
      "/home/mimus/anaconda3/envs/tf2/lib/python3.6/site-packages/ipykernel_launcher.py:51: UserWarning: /home/mimus/apiais/data/images/ANPR/training/masks_plate_loc/masks_281_28_augmented_image_15349_augmented_image_19583.jpg is a low contrast image\n"
     ]
    },
    {
     "name": "stdout",
     "output_type": "stream",
     "text": [
      "3796 19584\n",
      "3797 19585\n",
      "3798 19586\n",
      "3799 19587\n",
      "3800 19588\n",
      "3801 19589\n"
     ]
    },
    {
     "name": "stderr",
     "output_type": "stream",
     "text": [
      "/home/mimus/anaconda3/envs/tf2/lib/python3.6/site-packages/ipykernel_launcher.py:51: UserWarning: /home/mimus/apiais/data/images/ANPR/training/masks_plate_loc/masks_235_24_augmented_image_19589.jpg is a low contrast image\n",
      "/home/mimus/anaconda3/envs/tf2/lib/python3.6/site-packages/ipykernel_launcher.py:51: UserWarning: /home/mimus/apiais/data/images/ANPR/training/masks_plate_loc/masks_118_20_augmented_image_12236_augmented_image_19590.jpg is a low contrast image\n"
     ]
    },
    {
     "name": "stdout",
     "output_type": "stream",
     "text": [
      "3802 19590\n",
      "3803 19591\n",
      "3804 19592\n",
      "3805 19593\n",
      "3806 19594\n",
      "3807 19595\n",
      "3808 19596\n",
      "3809 19597\n",
      "3810 19598\n"
     ]
    },
    {
     "name": "stderr",
     "output_type": "stream",
     "text": [
      "/home/mimus/anaconda3/envs/tf2/lib/python3.6/site-packages/ipykernel_launcher.py:51: UserWarning: /home/mimus/apiais/data/images/ANPR/training/masks_plate_loc/masks_270_29_augmented_image_15736_augmented_image_19597.jpg is a low contrast image\n"
     ]
    },
    {
     "name": "stdout",
     "output_type": "stream",
     "text": [
      "3811 19599\n",
      "3812 19600\n"
     ]
    },
    {
     "name": "stderr",
     "output_type": "stream",
     "text": [
      "/home/mimus/anaconda3/envs/tf2/lib/python3.6/site-packages/ipykernel_launcher.py:51: UserWarning: /home/mimus/apiais/data/images/ANPR/training/masks_plate_loc/masks_256_0_augmented_image_15406_augmented_image_19599.jpg is a low contrast image\n"
     ]
    },
    {
     "name": "stdout",
     "output_type": "stream",
     "text": [
      "3813 19601\n",
      "3814 19602\n"
     ]
    },
    {
     "name": "stderr",
     "output_type": "stream",
     "text": [
      "/home/mimus/anaconda3/envs/tf2/lib/python3.6/site-packages/ipykernel_launcher.py:51: UserWarning: /home/mimus/apiais/data/images/ANPR/training/masks_plate_loc/masks_176_39_augmented_image_19602.jpg is a low contrast image\n"
     ]
    },
    {
     "name": "stdout",
     "output_type": "stream",
     "text": [
      "3815 19603\n",
      "3816 19604\n",
      "3817 19605\n",
      "3818 19606\n"
     ]
    },
    {
     "name": "stderr",
     "output_type": "stream",
     "text": [
      "/home/mimus/anaconda3/envs/tf2/lib/python3.6/site-packages/ipykernel_launcher.py:51: UserWarning: /home/mimus/apiais/data/images/ANPR/training/masks_plate_loc/masks_83_32_augmented_image_19605.jpg is a low contrast image\n",
      "/home/mimus/anaconda3/envs/tf2/lib/python3.6/site-packages/ipykernel_launcher.py:51: UserWarning: /home/mimus/apiais/data/images/ANPR/training/masks_plate_loc/masks_270_28_augmented_image_9248_augmented_image_19606.jpg is a low contrast image\n"
     ]
    },
    {
     "name": "stdout",
     "output_type": "stream",
     "text": [
      "3819 19607\n",
      "3820 19608\n"
     ]
    },
    {
     "name": "stderr",
     "output_type": "stream",
     "text": [
      "/home/mimus/anaconda3/envs/tf2/lib/python3.6/site-packages/ipykernel_launcher.py:51: UserWarning: /home/mimus/apiais/data/images/ANPR/training/masks_plate_loc/masks_319_28_augmented_image_19607.jpg is a low contrast image\n",
      "/home/mimus/anaconda3/envs/tf2/lib/python3.6/site-packages/ipykernel_launcher.py:51: UserWarning: /home/mimus/apiais/data/images/ANPR/training/masks_plate_loc/masks_558_34_augmented_image_19608.jpg is a low contrast image\n"
     ]
    },
    {
     "name": "stdout",
     "output_type": "stream",
     "text": [
      "3821 19609\n",
      "3822 19610\n",
      "3823 19611\n",
      "3824 19612\n",
      "3825 19613\n",
      "3826 19614\n"
     ]
    },
    {
     "name": "stderr",
     "output_type": "stream",
     "text": [
      "/home/mimus/anaconda3/envs/tf2/lib/python3.6/site-packages/ipykernel_launcher.py:51: UserWarning: /home/mimus/apiais/data/images/ANPR/training/masks_plate_loc/masks_217_20_augmented_image_19613.jpg is a low contrast image\n",
      "/home/mimus/anaconda3/envs/tf2/lib/python3.6/site-packages/ipykernel_launcher.py:51: UserWarning: /home/mimus/apiais/data/images/ANPR/training/masks_plate_loc/masks_21_29_augmented_image_8287_augmented_image_19615.jpg is a low contrast image\n"
     ]
    },
    {
     "name": "stdout",
     "output_type": "stream",
     "text": [
      "3827 19615\n",
      "3828 19616\n"
     ]
    },
    {
     "name": "stderr",
     "output_type": "stream",
     "text": [
      "/home/mimus/anaconda3/envs/tf2/lib/python3.6/site-packages/ipykernel_launcher.py:51: UserWarning: /home/mimus/apiais/data/images/ANPR/training/masks_plate_loc/masks_574_32_augmented_image_19616.jpg is a low contrast image\n",
      "/home/mimus/anaconda3/envs/tf2/lib/python3.6/site-packages/ipykernel_launcher.py:51: UserWarning: /home/mimus/apiais/data/images/ANPR/training/masks_plate_loc/masks_48_39_augmented_image_19617.jpg is a low contrast image\n"
     ]
    },
    {
     "name": "stdout",
     "output_type": "stream",
     "text": [
      "3829 19617\n",
      "3830 19618\n"
     ]
    },
    {
     "name": "stderr",
     "output_type": "stream",
     "text": [
      "/home/mimus/anaconda3/envs/tf2/lib/python3.6/site-packages/ipykernel_launcher.py:51: UserWarning: /home/mimus/apiais/data/images/ANPR/training/masks_plate_loc/masks_51_4_augmented_image_19618.jpg is a low contrast image\n"
     ]
    },
    {
     "name": "stdout",
     "output_type": "stream",
     "text": [
      "3831 19619\n",
      "3832 19620\n",
      "3833 19621\n"
     ]
    },
    {
     "name": "stderr",
     "output_type": "stream",
     "text": [
      "/home/mimus/anaconda3/envs/tf2/lib/python3.6/site-packages/ipykernel_launcher.py:51: UserWarning: /home/mimus/apiais/data/images/ANPR/training/masks_plate_loc/masks_331_18_augmented_image_19621.jpg is a low contrast image\n",
      "/home/mimus/anaconda3/envs/tf2/lib/python3.6/site-packages/ipykernel_launcher.py:51: UserWarning: /home/mimus/apiais/data/images/ANPR/training/masks_plate_loc/masks_85_0_augmented_image_12717_augmented_image_19622.jpg is a low contrast image\n"
     ]
    },
    {
     "name": "stdout",
     "output_type": "stream",
     "text": [
      "3834 19622\n",
      "3835 19623\n",
      "3836 19624\n",
      "3837 19625\n",
      "3838 19626\n",
      "3839 19627\n",
      "3840 19628\n",
      "3841 19629\n",
      "3842 19630\n"
     ]
    },
    {
     "name": "stderr",
     "output_type": "stream",
     "text": [
      "/home/mimus/anaconda3/envs/tf2/lib/python3.6/site-packages/ipykernel_launcher.py:51: UserWarning: /home/mimus/apiais/data/images/ANPR/training/masks_plate_loc/masks_66_32_augmented_image_19630.jpg is a low contrast image\n"
     ]
    },
    {
     "name": "stdout",
     "output_type": "stream",
     "text": [
      "3843 19631\n",
      "3844 19632\n",
      "3845 19633\n",
      "3846 19634\n"
     ]
    },
    {
     "name": "stderr",
     "output_type": "stream",
     "text": [
      "/home/mimus/anaconda3/envs/tf2/lib/python3.6/site-packages/ipykernel_launcher.py:51: UserWarning: /home/mimus/apiais/data/images/ANPR/training/masks_plate_loc/masks_29_29_augmented_image_19633.jpg is a low contrast image\n",
      "/home/mimus/anaconda3/envs/tf2/lib/python3.6/site-packages/ipykernel_launcher.py:51: UserWarning: /home/mimus/apiais/data/images/ANPR/training/masks_plate_loc/masks_308_28_augmented_image_9529_augmented_image_19634.jpg is a low contrast image\n"
     ]
    },
    {
     "name": "stdout",
     "output_type": "stream",
     "text": [
      "3847 19635\n",
      "3848 19636\n",
      "3849 19637\n",
      "3850 19638\n"
     ]
    },
    {
     "name": "stderr",
     "output_type": "stream",
     "text": [
      "/home/mimus/anaconda3/envs/tf2/lib/python3.6/site-packages/ipykernel_launcher.py:51: UserWarning: /home/mimus/apiais/data/images/ANPR/training/masks_plate_loc/masks_272_38_augmented_image_19637.jpg is a low contrast image\n"
     ]
    },
    {
     "name": "stdout",
     "output_type": "stream",
     "text": [
      "3851 19639\n",
      "3852 19640\n"
     ]
    },
    {
     "name": "stderr",
     "output_type": "stream",
     "text": [
      "/home/mimus/anaconda3/envs/tf2/lib/python3.6/site-packages/ipykernel_launcher.py:51: UserWarning: /home/mimus/apiais/data/images/ANPR/training/masks_plate_loc/masks_313_18_augmented_image_14876_augmented_image_19639.jpg is a low contrast image\n"
     ]
    },
    {
     "name": "stdout",
     "output_type": "stream",
     "text": [
      "3853 19641\n",
      "3854 19642\n",
      "3855 19643\n"
     ]
    },
    {
     "name": "stderr",
     "output_type": "stream",
     "text": [
      "/home/mimus/anaconda3/envs/tf2/lib/python3.6/site-packages/ipykernel_launcher.py:51: UserWarning: /home/mimus/apiais/data/images/ANPR/training/masks_plate_loc/masks_253_28_augmented_image_11454_augmented_image_19642.jpg is a low contrast image\n",
      "/home/mimus/anaconda3/envs/tf2/lib/python3.6/site-packages/ipykernel_launcher.py:51: UserWarning: /home/mimus/apiais/data/images/ANPR/training/masks_plate_loc/masks_73_9_augmented_image_19643.jpg is a low contrast image\n"
     ]
    },
    {
     "name": "stdout",
     "output_type": "stream",
     "text": [
      "3856 19644\n",
      "3857 19645\n"
     ]
    },
    {
     "name": "stderr",
     "output_type": "stream",
     "text": [
      "/home/mimus/anaconda3/envs/tf2/lib/python3.6/site-packages/ipykernel_launcher.py:51: UserWarning: /home/mimus/apiais/data/images/ANPR/training/masks_plate_loc/masks_420_29_augmented_image_19644.jpg is a low contrast image\n",
      "/home/mimus/anaconda3/envs/tf2/lib/python3.6/site-packages/ipykernel_launcher.py:51: UserWarning: /home/mimus/apiais/data/images/ANPR/training/masks_plate_loc/masks_847_32_augmented_image_15158_augmented_image_19645.jpg is a low contrast image\n"
     ]
    },
    {
     "name": "stdout",
     "output_type": "stream",
     "text": [
      "3858 19646\n",
      "3859 19647\n",
      "3860 19648\n",
      "3861 19649\n"
     ]
    },
    {
     "name": "stderr",
     "output_type": "stream",
     "text": [
      "/home/mimus/anaconda3/envs/tf2/lib/python3.6/site-packages/ipykernel_launcher.py:51: UserWarning: /home/mimus/apiais/data/images/ANPR/training/masks_plate_loc/masks_32_33_augmented_image_12561_augmented_image_19648.jpg is a low contrast image\n"
     ]
    },
    {
     "name": "stdout",
     "output_type": "stream",
     "text": [
      "3862 19650\n",
      "3863 19651\n"
     ]
    },
    {
     "name": "stderr",
     "output_type": "stream",
     "text": [
      "/home/mimus/anaconda3/envs/tf2/lib/python3.6/site-packages/ipykernel_launcher.py:51: UserWarning: /home/mimus/apiais/data/images/ANPR/training/masks_plate_loc/masks_112_30_1_augmented_image_19651.jpg is a low contrast image\n"
     ]
    },
    {
     "name": "stdout",
     "output_type": "stream",
     "text": [
      "3864 19652\n",
      "3865 19653\n",
      "3866 19654\n",
      "3867 19655\n"
     ]
    },
    {
     "name": "stderr",
     "output_type": "stream",
     "text": [
      "/home/mimus/anaconda3/envs/tf2/lib/python3.6/site-packages/ipykernel_launcher.py:51: UserWarning: /home/mimus/apiais/data/images/ANPR/training/masks_plate_loc/masks_640_32_augmented_image_8138_augmented_image_19655.jpg is a low contrast image\n",
      "/home/mimus/anaconda3/envs/tf2/lib/python3.6/site-packages/ipykernel_launcher.py:51: UserWarning: /home/mimus/apiais/data/images/ANPR/training/masks_plate_loc/masks_311_34_augmented_image_19656.jpg is a low contrast image\n"
     ]
    },
    {
     "name": "stdout",
     "output_type": "stream",
     "text": [
      "3868 19656\n",
      "3869 19657\n",
      "3870 19658\n",
      "3871 19659\n"
     ]
    },
    {
     "name": "stderr",
     "output_type": "stream",
     "text": [
      "/home/mimus/anaconda3/envs/tf2/lib/python3.6/site-packages/ipykernel_launcher.py:51: UserWarning: /home/mimus/apiais/data/images/ANPR/training/masks_plate_loc/masks_57_31_augmented_image_11740_augmented_image_19659.jpg is a low contrast image\n"
     ]
    },
    {
     "name": "stdout",
     "output_type": "stream",
     "text": [
      "3872 19660\n",
      "3873 19661\n",
      "3874 19662\n"
     ]
    },
    {
     "name": "stderr",
     "output_type": "stream",
     "text": [
      "/home/mimus/anaconda3/envs/tf2/lib/python3.6/site-packages/ipykernel_launcher.py:51: UserWarning: /home/mimus/apiais/data/images/ANPR/training/masks_plate_loc/masks_24_33_augmented_image_15514_augmented_image_19662.jpg is a low contrast image\n"
     ]
    },
    {
     "name": "stdout",
     "output_type": "stream",
     "text": [
      "3875 19663\n",
      "3876 19664\n",
      "3877 19665\n",
      "3878 19666\n",
      "3879 19667\n",
      "3880 19668\n"
     ]
    },
    {
     "name": "stderr",
     "output_type": "stream",
     "text": [
      "/home/mimus/anaconda3/envs/tf2/lib/python3.6/site-packages/ipykernel_launcher.py:51: UserWarning: /home/mimus/apiais/data/images/ANPR/training/masks_plate_loc/masks_174_18_augmented_image_19667.jpg is a low contrast image\n"
     ]
    },
    {
     "name": "stdout",
     "output_type": "stream",
     "text": [
      "3881 19669\n",
      "3882 19670\n",
      "3883 19671\n"
     ]
    },
    {
     "name": "stderr",
     "output_type": "stream",
     "text": [
      "/home/mimus/anaconda3/envs/tf2/lib/python3.6/site-packages/ipykernel_launcher.py:51: UserWarning: /home/mimus/apiais/data/images/ANPR/training/masks_plate_loc/masks_342_28_augmented_image_12311_augmented_image_19671.jpg is a low contrast image\n",
      "/home/mimus/anaconda3/envs/tf2/lib/python3.6/site-packages/ipykernel_launcher.py:51: UserWarning: /home/mimus/apiais/data/images/ANPR/training/masks_plate_loc/masks_139_27_augmented_image_19672.jpg is a low contrast image\n"
     ]
    },
    {
     "name": "stdout",
     "output_type": "stream",
     "text": [
      "3884 19672\n",
      "3885 19673\n",
      "3886 19674\n",
      "3887 19675\n"
     ]
    },
    {
     "name": "stderr",
     "output_type": "stream",
     "text": [
      "/home/mimus/anaconda3/envs/tf2/lib/python3.6/site-packages/ipykernel_launcher.py:51: UserWarning: /home/mimus/apiais/data/images/ANPR/training/masks_plate_loc/masks_132_18_augmented_image_12248_augmented_image_19674.jpg is a low contrast image\n"
     ]
    },
    {
     "name": "stdout",
     "output_type": "stream",
     "text": [
      "3888 19676\n",
      "3889 19677\n",
      "3890 19678\n",
      "3891 19679\n",
      "3892 19680\n"
     ]
    },
    {
     "name": "stderr",
     "output_type": "stream",
     "text": [
      "/home/mimus/anaconda3/envs/tf2/lib/python3.6/site-packages/ipykernel_launcher.py:51: UserWarning: /home/mimus/apiais/data/images/ANPR/training/masks_plate_loc/masks_37_28_augmented_image_19680.jpg is a low contrast image\n",
      "/home/mimus/anaconda3/envs/tf2/lib/python3.6/site-packages/ipykernel_launcher.py:51: UserWarning: /home/mimus/apiais/data/images/ANPR/training/masks_plate_loc/masks_56_30_1_augmented_image_19681.jpg is a low contrast image\n"
     ]
    },
    {
     "name": "stdout",
     "output_type": "stream",
     "text": [
      "3893 19681\n",
      "3894 19682\n"
     ]
    },
    {
     "name": "stderr",
     "output_type": "stream",
     "text": [
      "/home/mimus/anaconda3/envs/tf2/lib/python3.6/site-packages/ipykernel_launcher.py:51: UserWarning: /home/mimus/apiais/data/images/ANPR/training/masks_plate_loc/masks_165_24_augmented_image_15216_augmented_image_19682.jpg is a low contrast image\n"
     ]
    },
    {
     "name": "stdout",
     "output_type": "stream",
     "text": [
      "3895 19683\n",
      "3896 19684\n",
      "3897 19685\n",
      "3898 19686\n",
      "3899 19687\n"
     ]
    },
    {
     "name": "stderr",
     "output_type": "stream",
     "text": [
      "/home/mimus/anaconda3/envs/tf2/lib/python3.6/site-packages/ipykernel_launcher.py:51: UserWarning: /home/mimus/apiais/data/images/ANPR/training/masks_plate_loc/masks_338_18_augmented_image_19686.jpg is a low contrast image\n"
     ]
    },
    {
     "name": "stdout",
     "output_type": "stream",
     "text": [
      "3900 19688\n",
      "3901 19689\n",
      "3902 19690\n",
      "3903 19691\n"
     ]
    },
    {
     "name": "stderr",
     "output_type": "stream",
     "text": [
      "/home/mimus/anaconda3/envs/tf2/lib/python3.6/site-packages/ipykernel_launcher.py:51: UserWarning: /home/mimus/apiais/data/images/ANPR/training/masks_plate_loc/masks_108_20_augmented_image_9710_augmented_image_19690.jpg is a low contrast image\n",
      "/home/mimus/anaconda3/envs/tf2/lib/python3.6/site-packages/ipykernel_launcher.py:51: UserWarning: /home/mimus/apiais/data/images/ANPR/training/masks_plate_loc/masks_169_42_augmented_image_19691.jpg is a low contrast image\n"
     ]
    },
    {
     "name": "stdout",
     "output_type": "stream",
     "text": [
      "3904 19692\n",
      "3905 19693\n"
     ]
    },
    {
     "name": "stderr",
     "output_type": "stream",
     "text": [
      "/home/mimus/anaconda3/envs/tf2/lib/python3.6/site-packages/ipykernel_launcher.py:51: UserWarning: /home/mimus/apiais/data/images/ANPR/training/masks_plate_loc/masks_118_33_augmented_image_15460_augmented_image_19692.jpg is a low contrast image\n"
     ]
    },
    {
     "name": "stdout",
     "output_type": "stream",
     "text": [
      "3906 19694\n",
      "3907 19695\n",
      "3908 19696\n",
      "3909 19697\n"
     ]
    },
    {
     "name": "stderr",
     "output_type": "stream",
     "text": [
      "/home/mimus/anaconda3/envs/tf2/lib/python3.6/site-packages/ipykernel_launcher.py:51: UserWarning: /home/mimus/apiais/data/images/ANPR/training/masks_plate_loc/masks_99_0_augmented_image_19696.jpg is a low contrast image\n"
     ]
    },
    {
     "name": "stdout",
     "output_type": "stream",
     "text": [
      "3910 19698\n",
      "3911 19699\n",
      "3912 19700\n",
      "3913 19701\n",
      "3914 19702\n",
      "3915 19703\n",
      "3916 19704\n",
      "3917 19705\n",
      "3918 19706\n",
      "3919 19707\n",
      "3920 19708\n",
      "3921 19709\n"
     ]
    },
    {
     "name": "stderr",
     "output_type": "stream",
     "text": [
      "/home/mimus/anaconda3/envs/tf2/lib/python3.6/site-packages/ipykernel_launcher.py:51: UserWarning: /home/mimus/apiais/data/images/ANPR/training/masks_plate_loc/masks_104_39_augmented_image_12220_augmented_image_19709.jpg is a low contrast image\n",
      "/home/mimus/anaconda3/envs/tf2/lib/python3.6/site-packages/ipykernel_launcher.py:51: UserWarning: /home/mimus/apiais/data/images/ANPR/training/masks_plate_loc/masks_30_23_augmented_image_19710.jpg is a low contrast image\n"
     ]
    },
    {
     "name": "stdout",
     "output_type": "stream",
     "text": [
      "3922 19710\n",
      "3923 19711\n",
      "3924 19712\n",
      "3925 19713\n"
     ]
    },
    {
     "name": "stderr",
     "output_type": "stream",
     "text": [
      "/home/mimus/anaconda3/envs/tf2/lib/python3.6/site-packages/ipykernel_launcher.py:51: UserWarning: /home/mimus/apiais/data/images/ANPR/training/masks_plate_loc/masks_409_39_augmented_image_12270_augmented_image_19712.jpg is a low contrast image\n"
     ]
    },
    {
     "name": "stdout",
     "output_type": "stream",
     "text": [
      "3926 19714\n",
      "3927 19715\n"
     ]
    },
    {
     "name": "stderr",
     "output_type": "stream",
     "text": [
      "/home/mimus/anaconda3/envs/tf2/lib/python3.6/site-packages/ipykernel_launcher.py:51: UserWarning: /home/mimus/apiais/data/images/ANPR/training/masks_plate_loc/masks_220_29_augmented_image_19714.jpg is a low contrast image\n",
      "/home/mimus/anaconda3/envs/tf2/lib/python3.6/site-packages/ipykernel_launcher.py:51: UserWarning: /home/mimus/apiais/data/images/ANPR/training/masks_plate_loc/masks_45_43_augmented_image_8606_augmented_image_19715.jpg is a low contrast image\n"
     ]
    },
    {
     "name": "stdout",
     "output_type": "stream",
     "text": [
      "3928 19716\n",
      "3929 19717\n",
      "3930 19718\n",
      "3931 19719\n",
      "3932 19720\n",
      "3933 19721\n"
     ]
    },
    {
     "name": "stderr",
     "output_type": "stream",
     "text": [
      "/home/mimus/anaconda3/envs/tf2/lib/python3.6/site-packages/ipykernel_launcher.py:51: UserWarning: /home/mimus/apiais/data/images/ANPR/training/masks_plate_loc/masks_171_32_augmented_image_19720.jpg is a low contrast image\n"
     ]
    },
    {
     "name": "stdout",
     "output_type": "stream",
     "text": [
      "3934 19722\n",
      "3935 19723\n",
      "3936 19724\n",
      "3937 19725\n"
     ]
    },
    {
     "name": "stderr",
     "output_type": "stream",
     "text": [
      "/home/mimus/anaconda3/envs/tf2/lib/python3.6/site-packages/ipykernel_launcher.py:51: UserWarning: /home/mimus/apiais/data/images/ANPR/training/masks_plate_loc/masks_204_33_augmented_image_19724.jpg is a low contrast image\n"
     ]
    },
    {
     "name": "stdout",
     "output_type": "stream",
     "text": [
      "3938 19726\n",
      "3939 19727\n"
     ]
    },
    {
     "name": "stderr",
     "output_type": "stream",
     "text": [
      "/home/mimus/anaconda3/envs/tf2/lib/python3.6/site-packages/ipykernel_launcher.py:51: UserWarning: /home/mimus/apiais/data/images/ANPR/training/masks_plate_loc/masks_87_18_augmented_image_13642_augmented_image_19727.jpg is a low contrast image\n"
     ]
    },
    {
     "name": "stdout",
     "output_type": "stream",
     "text": [
      "3940 19728\n",
      "3941 19729\n",
      "3942 19730\n",
      "3943 19731\n",
      "3944 19732\n",
      "3945 19733\n",
      "3946 19734\n",
      "3947 19735\n"
     ]
    },
    {
     "name": "stderr",
     "output_type": "stream",
     "text": [
      "/home/mimus/anaconda3/envs/tf2/lib/python3.6/site-packages/ipykernel_launcher.py:51: UserWarning: /home/mimus/apiais/data/images/ANPR/training/masks_plate_loc/masks_197_28_augmented_image_19734.jpg is a low contrast image\n"
     ]
    },
    {
     "name": "stdout",
     "output_type": "stream",
     "text": [
      "3948 19736\n",
      "3949 19737\n",
      "3950 19738\n",
      "3951 19739\n",
      "3952 19740\n",
      "3953 19741\n",
      "3954 19742\n",
      "3955 19743\n",
      "3956 19744\n"
     ]
    },
    {
     "name": "stderr",
     "output_type": "stream",
     "text": [
      "/home/mimus/anaconda3/envs/tf2/lib/python3.6/site-packages/ipykernel_launcher.py:51: UserWarning: /home/mimus/apiais/data/images/ANPR/training/masks_plate_loc/masks_20_26_augmented_image_12063_augmented_image_19744.jpg is a low contrast image\n",
      "/home/mimus/anaconda3/envs/tf2/lib/python3.6/site-packages/ipykernel_launcher.py:51: UserWarning: /home/mimus/apiais/data/images/ANPR/training/masks_plate_loc/masks_37_43_augmented_image_19745.jpg is a low contrast image\n"
     ]
    },
    {
     "name": "stdout",
     "output_type": "stream",
     "text": [
      "3957 19745\n",
      "3958 19746\n",
      "3959 19747\n",
      "3960 19748\n"
     ]
    },
    {
     "name": "stderr",
     "output_type": "stream",
     "text": [
      "/home/mimus/anaconda3/envs/tf2/lib/python3.6/site-packages/ipykernel_launcher.py:51: UserWarning: /home/mimus/apiais/data/images/ANPR/training/masks_plate_loc/masks_379_0_augmented_image_19747.jpg is a low contrast image\n",
      "/home/mimus/anaconda3/envs/tf2/lib/python3.6/site-packages/ipykernel_launcher.py:51: UserWarning: /home/mimus/apiais/data/images/ANPR/training/masks_plate_loc/masks_303_33_augmented_image_19748.jpg is a low contrast image\n"
     ]
    },
    {
     "name": "stdout",
     "output_type": "stream",
     "text": [
      "3961 19749\n",
      "3962 19750\n",
      "3963 19751\n",
      "3964 19752\n"
     ]
    },
    {
     "name": "stderr",
     "output_type": "stream",
     "text": [
      "/home/mimus/anaconda3/envs/tf2/lib/python3.6/site-packages/ipykernel_launcher.py:51: UserWarning: /home/mimus/apiais/data/images/ANPR/training/masks_plate_loc/masks_208_39_augmented_image_19752.jpg is a low contrast image\n"
     ]
    },
    {
     "name": "stdout",
     "output_type": "stream",
     "text": [
      "3965 19753\n",
      "3966 19754\n",
      "3967 19755\n",
      "3968 19756\n",
      "3969 19757\n"
     ]
    },
    {
     "name": "stderr",
     "output_type": "stream",
     "text": [
      "/home/mimus/anaconda3/envs/tf2/lib/python3.6/site-packages/ipykernel_launcher.py:51: UserWarning: /home/mimus/apiais/data/images/ANPR/training/masks_plate_loc/masks_450_18_augmented_image_19756.jpg is a low contrast image\n"
     ]
    },
    {
     "name": "stdout",
     "output_type": "stream",
     "text": [
      "3970 19758\n",
      "3971 19759\n"
     ]
    },
    {
     "name": "stderr",
     "output_type": "stream",
     "text": [
      "/home/mimus/anaconda3/envs/tf2/lib/python3.6/site-packages/ipykernel_launcher.py:51: UserWarning: /home/mimus/apiais/data/images/ANPR/training/masks_plate_loc/masks_317_39_augmented_image_19759.jpg is a low contrast image\n"
     ]
    },
    {
     "name": "stdout",
     "output_type": "stream",
     "text": [
      "3972 19760\n",
      "3973 19761\n",
      "3974 19762\n",
      "3975 19763\n",
      "3976 19764\n",
      "3977 19765\n",
      "3978 19766\n",
      "3979 19767\n"
     ]
    },
    {
     "name": "stderr",
     "output_type": "stream",
     "text": [
      "/home/mimus/anaconda3/envs/tf2/lib/python3.6/site-packages/ipykernel_launcher.py:51: UserWarning: /home/mimus/apiais/data/images/ANPR/training/masks_plate_loc/masks_172_25_augmented_image_19766.jpg is a low contrast image\n"
     ]
    },
    {
     "name": "stdout",
     "output_type": "stream",
     "text": [
      "3980 19768\n",
      "3981 19769\n"
     ]
    },
    {
     "name": "stderr",
     "output_type": "stream",
     "text": [
      "/home/mimus/anaconda3/envs/tf2/lib/python3.6/site-packages/ipykernel_launcher.py:51: UserWarning: /home/mimus/apiais/data/images/ANPR/training/masks_plate_loc/masks_183_24_augmented_image_19768.jpg is a low contrast image\n"
     ]
    },
    {
     "name": "stdout",
     "output_type": "stream",
     "text": [
      "3982 19770\n",
      "3983 19771\n",
      "3984 19772\n",
      "3985 19773\n"
     ]
    },
    {
     "name": "stderr",
     "output_type": "stream",
     "text": [
      "/home/mimus/anaconda3/envs/tf2/lib/python3.6/site-packages/ipykernel_launcher.py:51: UserWarning: /home/mimus/apiais/data/images/ANPR/training/masks_plate_loc/masks_142_30_1_augmented_image_8274_augmented_image_19772.jpg is a low contrast image\n",
      "/home/mimus/anaconda3/envs/tf2/lib/python3.6/site-packages/ipykernel_launcher.py:51: UserWarning: /home/mimus/apiais/data/images/ANPR/training/masks_plate_loc/masks_152_4_augmented_image_19773.jpg is a low contrast image\n"
     ]
    },
    {
     "name": "stdout",
     "output_type": "stream",
     "text": [
      "3986 19774\n",
      "3987 19775\n"
     ]
    },
    {
     "name": "stderr",
     "output_type": "stream",
     "text": [
      "/home/mimus/anaconda3/envs/tf2/lib/python3.6/site-packages/ipykernel_launcher.py:51: UserWarning: /home/mimus/apiais/data/images/ANPR/training/masks_plate_loc/masks_93_0_augmented_image_19774.jpg is a low contrast image\n"
     ]
    },
    {
     "name": "stdout",
     "output_type": "stream",
     "text": [
      "3988 19776\n",
      "3989 19777\n"
     ]
    },
    {
     "name": "stderr",
     "output_type": "stream",
     "text": [
      "/home/mimus/anaconda3/envs/tf2/lib/python3.6/site-packages/ipykernel_launcher.py:51: UserWarning: /home/mimus/apiais/data/images/ANPR/training/masks_plate_loc/masks_40_34_augmented_image_15219_augmented_image_19776.jpg is a low contrast image\n",
      "/home/mimus/anaconda3/envs/tf2/lib/python3.6/site-packages/ipykernel_launcher.py:51: UserWarning: /home/mimus/apiais/data/images/ANPR/training/masks_plate_loc/masks_144_27_augmented_image_19777.jpg is a low contrast image\n"
     ]
    },
    {
     "name": "stdout",
     "output_type": "stream",
     "text": [
      "3990 19778\n",
      "3991 19779\n",
      "3992 19780\n"
     ]
    },
    {
     "name": "stderr",
     "output_type": "stream",
     "text": [
      "/home/mimus/anaconda3/envs/tf2/lib/python3.6/site-packages/ipykernel_launcher.py:51: UserWarning: /home/mimus/apiais/data/images/ANPR/training/masks_plate_loc/masks_150_1_3_augmented_image_19779.jpg is a low contrast image\n"
     ]
    },
    {
     "name": "stdout",
     "output_type": "stream",
     "text": [
      "3993 19781\n",
      "3994 19782\n",
      "3995 19783\n",
      "3996 19784\n",
      "3997 19785\n"
     ]
    },
    {
     "name": "stderr",
     "output_type": "stream",
     "text": [
      "/home/mimus/anaconda3/envs/tf2/lib/python3.6/site-packages/ipykernel_launcher.py:51: UserWarning: /home/mimus/apiais/data/images/ANPR/training/masks_plate_loc/masks_318_39_augmented_image_19783.jpg is a low contrast image\n"
     ]
    },
    {
     "name": "stdout",
     "output_type": "stream",
     "text": [
      "3998 19786\n",
      "3999 19787\n"
     ]
    },
    {
     "name": "stderr",
     "output_type": "stream",
     "text": [
      "/home/mimus/anaconda3/envs/tf2/lib/python3.6/site-packages/ipykernel_launcher.py:51: UserWarning: /home/mimus/apiais/data/images/ANPR/training/masks_plate_loc/masks_274_34_augmented_image_19786.jpg is a low contrast image\n",
      "/home/mimus/anaconda3/envs/tf2/lib/python3.6/site-packages/ipykernel_launcher.py:51: UserWarning: /home/mimus/apiais/data/images/ANPR/training/masks_plate_loc/masks_218_39_augmented_image_19787.jpg is a low contrast image\n"
     ]
    },
    {
     "name": "stdout",
     "output_type": "stream",
     "text": [
      "4000 19788\n",
      "4001 19789\n"
     ]
    },
    {
     "name": "stderr",
     "output_type": "stream",
     "text": [
      "/home/mimus/anaconda3/envs/tf2/lib/python3.6/site-packages/ipykernel_launcher.py:51: UserWarning: /home/mimus/apiais/data/images/ANPR/training/masks_plate_loc/masks_169_39_augmented_image_19788.jpg is a low contrast image\n",
      "/home/mimus/anaconda3/envs/tf2/lib/python3.6/site-packages/ipykernel_launcher.py:51: UserWarning: /home/mimus/apiais/data/images/ANPR/training/masks_plate_loc/masks_15_16_augmented_image_10422_augmented_image_19789.jpg is a low contrast image\n"
     ]
    },
    {
     "name": "stdout",
     "output_type": "stream",
     "text": [
      "4002 19790\n",
      "4003 19791\n",
      "4004 19792\n",
      "4005 19793\n"
     ]
    },
    {
     "name": "stderr",
     "output_type": "stream",
     "text": [
      "/home/mimus/anaconda3/envs/tf2/lib/python3.6/site-packages/ipykernel_launcher.py:51: UserWarning: /home/mimus/apiais/data/images/ANPR/training/masks_plate_loc/masks_469_32_augmented_image_19793.jpg is a low contrast image\n"
     ]
    },
    {
     "name": "stdout",
     "output_type": "stream",
     "text": [
      "4006 19794\n",
      "4007 19795\n",
      "4008 19796\n",
      "4009 19797\n"
     ]
    },
    {
     "name": "stderr",
     "output_type": "stream",
     "text": [
      "/home/mimus/anaconda3/envs/tf2/lib/python3.6/site-packages/ipykernel_launcher.py:51: UserWarning: /home/mimus/apiais/data/images/ANPR/training/masks_plate_loc/masks_578_34_augmented_image_8012_augmented_image_19797.jpg is a low contrast image\n"
     ]
    },
    {
     "name": "stdout",
     "output_type": "stream",
     "text": [
      "4010 19798\n",
      "4011 19799\n"
     ]
    },
    {
     "name": "stderr",
     "output_type": "stream",
     "text": [
      "/home/mimus/anaconda3/envs/tf2/lib/python3.6/site-packages/ipykernel_launcher.py:51: UserWarning: /home/mimus/apiais/data/images/ANPR/training/masks_plate_loc/masks_459_39_augmented_image_8949_augmented_image_19799.jpg is a low contrast image\n"
     ]
    },
    {
     "name": "stdout",
     "output_type": "stream",
     "text": [
      "4012 19800\n",
      "4013 19801\n",
      "4014 19802\n",
      "4015 19803\n"
     ]
    },
    {
     "name": "stderr",
     "output_type": "stream",
     "text": [
      "/home/mimus/anaconda3/envs/tf2/lib/python3.6/site-packages/ipykernel_launcher.py:51: UserWarning: /home/mimus/apiais/data/images/ANPR/training/masks_plate_loc/masks_388_32_augmented_image_19802.jpg is a low contrast image\n"
     ]
    },
    {
     "name": "stdout",
     "output_type": "stream",
     "text": [
      "4016 19804\n",
      "4017 19805\n",
      "4018 19806\n"
     ]
    },
    {
     "name": "stderr",
     "output_type": "stream",
     "text": [
      "/home/mimus/anaconda3/envs/tf2/lib/python3.6/site-packages/ipykernel_launcher.py:51: UserWarning: /home/mimus/apiais/data/images/ANPR/training/masks_plate_loc/masks_433_32_augmented_image_19804.jpg is a low contrast image\n",
      "/home/mimus/anaconda3/envs/tf2/lib/python3.6/site-packages/ipykernel_launcher.py:51: UserWarning: /home/mimus/apiais/data/images/ANPR/training/masks_plate_loc/masks_148_29_augmented_image_19806.jpg is a low contrast image\n"
     ]
    },
    {
     "name": "stdout",
     "output_type": "stream",
     "text": [
      "4019 19807\n",
      "4020 19808\n",
      "4021 19809\n",
      "4022 19810\n",
      "4023 19811\n"
     ]
    },
    {
     "name": "stderr",
     "output_type": "stream",
     "text": [
      "/home/mimus/anaconda3/envs/tf2/lib/python3.6/site-packages/ipykernel_launcher.py:51: UserWarning: /home/mimus/apiais/data/images/ANPR/training/masks_plate_loc/masks_499_29_augmented_image_15125_augmented_image_19810.jpg is a low contrast image\n"
     ]
    },
    {
     "name": "stdout",
     "output_type": "stream",
     "text": [
      "4024 19812\n",
      "4025 19813\n",
      "4026 19814\n",
      "4027 19815\n"
     ]
    },
    {
     "name": "stderr",
     "output_type": "stream",
     "text": [
      "/home/mimus/anaconda3/envs/tf2/lib/python3.6/site-packages/ipykernel_launcher.py:51: UserWarning: /home/mimus/apiais/data/images/ANPR/training/masks_plate_loc/masks_525_32_augmented_image_19815.jpg is a low contrast image\n"
     ]
    },
    {
     "name": "stdout",
     "output_type": "stream",
     "text": [
      "4028 19816\n",
      "4029 19817\n"
     ]
    },
    {
     "name": "stderr",
     "output_type": "stream",
     "text": [
      "/home/mimus/anaconda3/envs/tf2/lib/python3.6/site-packages/ipykernel_launcher.py:51: UserWarning: /home/mimus/apiais/data/images/ANPR/training/masks_plate_loc/masks_309_40_augmented_image_19817.jpg is a low contrast image\n"
     ]
    },
    {
     "name": "stdout",
     "output_type": "stream",
     "text": [
      "4030 19818\n",
      "4031 19819\n",
      "4032 19820\n",
      "4033 19821\n"
     ]
    },
    {
     "name": "stderr",
     "output_type": "stream",
     "text": [
      "/home/mimus/anaconda3/envs/tf2/lib/python3.6/site-packages/ipykernel_launcher.py:51: UserWarning: /home/mimus/apiais/data/images/ANPR/training/masks_plate_loc/masks_148_1_3_augmented_image_8074_augmented_image_19821.jpg is a low contrast image\n"
     ]
    },
    {
     "name": "stdout",
     "output_type": "stream",
     "text": [
      "4034 19822\n",
      "4035 19823\n"
     ]
    },
    {
     "name": "stderr",
     "output_type": "stream",
     "text": [
      "/home/mimus/anaconda3/envs/tf2/lib/python3.6/site-packages/ipykernel_launcher.py:51: UserWarning: /home/mimus/apiais/data/images/ANPR/training/masks_plate_loc/masks_16_23_augmented_image_14153_augmented_image_19823.jpg is a low contrast image\n"
     ]
    },
    {
     "name": "stdout",
     "output_type": "stream",
     "text": [
      "4036 19824\n",
      "4037 19825\n"
     ]
    },
    {
     "name": "stderr",
     "output_type": "stream",
     "text": [
      "/home/mimus/anaconda3/envs/tf2/lib/python3.6/site-packages/ipykernel_launcher.py:51: UserWarning: /home/mimus/apiais/data/images/ANPR/training/masks_plate_loc/masks_72_31_augmented_image_19825.jpg is a low contrast image\n"
     ]
    },
    {
     "name": "stdout",
     "output_type": "stream",
     "text": [
      "4038 19826\n",
      "4039 19827\n"
     ]
    },
    {
     "name": "stderr",
     "output_type": "stream",
     "text": [
      "/home/mimus/anaconda3/envs/tf2/lib/python3.6/site-packages/ipykernel_launcher.py:51: UserWarning: /home/mimus/apiais/data/images/ANPR/training/masks_plate_loc/masks_476_29_augmented_image_19827.jpg is a low contrast image\n"
     ]
    },
    {
     "name": "stdout",
     "output_type": "stream",
     "text": [
      "4040 19828\n",
      "4041 19829\n"
     ]
    },
    {
     "name": "stderr",
     "output_type": "stream",
     "text": [
      "/home/mimus/anaconda3/envs/tf2/lib/python3.6/site-packages/ipykernel_launcher.py:51: UserWarning: /home/mimus/apiais/data/images/ANPR/training/masks_plate_loc/masks_59_24_augmented_image_12883_augmented_image_19829.jpg is a low contrast image\n"
     ]
    },
    {
     "name": "stdout",
     "output_type": "stream",
     "text": [
      "4042 19830\n",
      "4043 19831\n",
      "4044 19832\n",
      "4045 19833\n"
     ]
    },
    {
     "name": "stderr",
     "output_type": "stream",
     "text": [
      "/home/mimus/anaconda3/envs/tf2/lib/python3.6/site-packages/ipykernel_launcher.py:51: UserWarning: /home/mimus/apiais/data/images/ANPR/training/masks_plate_loc/masks_97_29_augmented_image_19832.jpg is a low contrast image\n"
     ]
    },
    {
     "name": "stdout",
     "output_type": "stream",
     "text": [
      "4046 19834\n",
      "4047 19835\n"
     ]
    },
    {
     "name": "stderr",
     "output_type": "stream",
     "text": [
      "/home/mimus/anaconda3/envs/tf2/lib/python3.6/site-packages/ipykernel_launcher.py:51: UserWarning: /home/mimus/apiais/data/images/ANPR/training/masks_plate_loc/masks_710_32_augmented_image_15741_augmented_image_19834.jpg is a low contrast image\n"
     ]
    },
    {
     "name": "stdout",
     "output_type": "stream",
     "text": [
      "4048 19836\n",
      "4049 19837\n"
     ]
    },
    {
     "name": "stderr",
     "output_type": "stream",
     "text": [
      "/home/mimus/anaconda3/envs/tf2/lib/python3.6/site-packages/ipykernel_launcher.py:51: UserWarning: /home/mimus/apiais/data/images/ANPR/training/masks_plate_loc/masks_177_18_augmented_image_19836.jpg is a low contrast image\n"
     ]
    },
    {
     "name": "stdout",
     "output_type": "stream",
     "text": [
      "4050 19838\n",
      "4051 19839\n",
      "4052 19840\n",
      "4053 19841\n"
     ]
    },
    {
     "name": "stderr",
     "output_type": "stream",
     "text": [
      "/home/mimus/anaconda3/envs/tf2/lib/python3.6/site-packages/ipykernel_launcher.py:51: UserWarning: /home/mimus/apiais/data/images/ANPR/training/masks_plate_loc/masks_8_23_augmented_image_8220_augmented_image_19840.jpg is a low contrast image\n"
     ]
    },
    {
     "name": "stdout",
     "output_type": "stream",
     "text": [
      "4054 19842\n",
      "4055 19843\n",
      "4056 19844\n"
     ]
    },
    {
     "name": "stderr",
     "output_type": "stream",
     "text": [
      "/home/mimus/anaconda3/envs/tf2/lib/python3.6/site-packages/ipykernel_launcher.py:51: UserWarning: /home/mimus/apiais/data/images/ANPR/training/masks_plate_loc/masks_100_39_augmented_image_19844.jpg is a low contrast image\n"
     ]
    },
    {
     "name": "stdout",
     "output_type": "stream",
     "text": [
      "4057 19845\n",
      "4058 19846\n",
      "4059 19847\n",
      "4060 19848\n"
     ]
    },
    {
     "name": "stderr",
     "output_type": "stream",
     "text": [
      "/home/mimus/anaconda3/envs/tf2/lib/python3.6/site-packages/ipykernel_launcher.py:51: UserWarning: /home/mimus/apiais/data/images/ANPR/training/masks_plate_loc/masks_441_32_augmented_image_19847.jpg is a low contrast image\n"
     ]
    },
    {
     "name": "stdout",
     "output_type": "stream",
     "text": [
      "4061 19849\n",
      "4062 19850\n",
      "4063 19851\n",
      "4064 19852\n",
      "4065 19853\n"
     ]
    },
    {
     "name": "stderr",
     "output_type": "stream",
     "text": [
      "/home/mimus/anaconda3/envs/tf2/lib/python3.6/site-packages/ipykernel_launcher.py:51: UserWarning: /home/mimus/apiais/data/images/ANPR/training/masks_plate_loc/masks_56_16_augmented_image_11429_augmented_image_19852.jpg is a low contrast image\n",
      "/home/mimus/anaconda3/envs/tf2/lib/python3.6/site-packages/ipykernel_launcher.py:51: UserWarning: /home/mimus/apiais/data/images/ANPR/training/masks_plate_loc/masks_734_32_augmented_image_19853.jpg is a low contrast image\n"
     ]
    },
    {
     "name": "stdout",
     "output_type": "stream",
     "text": [
      "4066 19854\n",
      "4067 19855\n"
     ]
    },
    {
     "name": "stderr",
     "output_type": "stream",
     "text": [
      "/home/mimus/anaconda3/envs/tf2/lib/python3.6/site-packages/ipykernel_launcher.py:51: UserWarning: /home/mimus/apiais/data/images/ANPR/training/masks_plate_loc/masks_181_18_augmented_image_11718_augmented_image_19854.jpg is a low contrast image\n"
     ]
    },
    {
     "name": "stdout",
     "output_type": "stream",
     "text": [
      "4068 19856\n",
      "4069 19857\n"
     ]
    },
    {
     "name": "stderr",
     "output_type": "stream",
     "text": [
      "/home/mimus/anaconda3/envs/tf2/lib/python3.6/site-packages/ipykernel_launcher.py:51: UserWarning: /home/mimus/apiais/data/images/ANPR/training/masks_plate_loc/masks_48_21_augmented_image_19856.jpg is a low contrast image\n"
     ]
    },
    {
     "name": "stdout",
     "output_type": "stream",
     "text": [
      "4070 19858\n",
      "4071 19859\n",
      "4072 19860\n",
      "4073 19861\n"
     ]
    },
    {
     "name": "stderr",
     "output_type": "stream",
     "text": [
      "/home/mimus/anaconda3/envs/tf2/lib/python3.6/site-packages/ipykernel_launcher.py:51: UserWarning: /home/mimus/apiais/data/images/ANPR/training/masks_plate_loc/masks_92_18_augmented_image_15135_augmented_image_19861.jpg is a low contrast image\n",
      "/home/mimus/anaconda3/envs/tf2/lib/python3.6/site-packages/ipykernel_launcher.py:51: UserWarning: /home/mimus/apiais/data/images/ANPR/training/masks_plate_loc/masks_181_29_augmented_image_19862.jpg is a low contrast image\n"
     ]
    },
    {
     "name": "stdout",
     "output_type": "stream",
     "text": [
      "4074 19862\n",
      "4075 19863\n",
      "4076 19864\n",
      "4077 19865\n",
      "4078 19866\n",
      "4079 19867\n"
     ]
    },
    {
     "name": "stderr",
     "output_type": "stream",
     "text": [
      "/home/mimus/anaconda3/envs/tf2/lib/python3.6/site-packages/ipykernel_launcher.py:51: UserWarning: /home/mimus/apiais/data/images/ANPR/training/masks_plate_loc/masks_171_16_augmented_image_19867.jpg is a low contrast image\n"
     ]
    },
    {
     "name": "stdout",
     "output_type": "stream",
     "text": [
      "4080 19868\n",
      "4081 19869\n",
      "4082 19870\n"
     ]
    },
    {
     "name": "stderr",
     "output_type": "stream",
     "text": [
      "/home/mimus/anaconda3/envs/tf2/lib/python3.6/site-packages/ipykernel_launcher.py:51: UserWarning: /home/mimus/apiais/data/images/ANPR/training/masks_plate_loc/masks_269_29_augmented_image_19870.jpg is a low contrast image\n"
     ]
    },
    {
     "name": "stdout",
     "output_type": "stream",
     "text": [
      "4083 19871\n",
      "4084 19872\n"
     ]
    },
    {
     "name": "stderr",
     "output_type": "stream",
     "text": [
      "/home/mimus/anaconda3/envs/tf2/lib/python3.6/site-packages/ipykernel_launcher.py:51: UserWarning: /home/mimus/apiais/data/images/ANPR/training/masks_plate_loc/masks_329_29_augmented_image_12937_augmented_image_19872.jpg is a low contrast image\n",
      "/home/mimus/anaconda3/envs/tf2/lib/python3.6/site-packages/ipykernel_launcher.py:51: UserWarning: /home/mimus/apiais/data/images/ANPR/training/masks_plate_loc/masks_14_9_augmented_image_19874.jpg is a low contrast image\n"
     ]
    },
    {
     "name": "stdout",
     "output_type": "stream",
     "text": [
      "4085 19873\n",
      "4086 19874\n",
      "4087 19875\n",
      "4088 19876\n",
      "4089 19877\n",
      "4090 19878\n",
      "4091 19879\n",
      "4092 19880\n",
      "4093 19881\n"
     ]
    },
    {
     "name": "stderr",
     "output_type": "stream",
     "text": [
      "/home/mimus/anaconda3/envs/tf2/lib/python3.6/site-packages/ipykernel_launcher.py:51: UserWarning: /home/mimus/apiais/data/images/ANPR/training/masks_plate_loc/masks_287_40_augmented_image_19881.jpg is a low contrast image\n"
     ]
    },
    {
     "name": "stdout",
     "output_type": "stream",
     "text": [
      "4094 19882\n",
      "4095 19883\n"
     ]
    },
    {
     "name": "stderr",
     "output_type": "stream",
     "text": [
      "/home/mimus/anaconda3/envs/tf2/lib/python3.6/site-packages/ipykernel_launcher.py:51: UserWarning: /home/mimus/apiais/data/images/ANPR/training/masks_plate_loc/masks_137_0_augmented_image_19883.jpg is a low contrast image\n"
     ]
    },
    {
     "name": "stdout",
     "output_type": "stream",
     "text": [
      "4096 19884\n",
      "4097 19885\n"
     ]
    },
    {
     "name": "stderr",
     "output_type": "stream",
     "text": [
      "/home/mimus/anaconda3/envs/tf2/lib/python3.6/site-packages/ipykernel_launcher.py:51: UserWarning: /home/mimus/apiais/data/images/ANPR/training/masks_plate_loc/masks_454_18_augmented_image_8173_augmented_image_19885.jpg is a low contrast image\n"
     ]
    },
    {
     "name": "stdout",
     "output_type": "stream",
     "text": [
      "4098 19886\n",
      "4099 19887\n",
      "4100 19888\n",
      "4101 19889\n"
     ]
    },
    {
     "name": "stderr",
     "output_type": "stream",
     "text": [
      "/home/mimus/anaconda3/envs/tf2/lib/python3.6/site-packages/ipykernel_launcher.py:51: UserWarning: /home/mimus/apiais/data/images/ANPR/training/masks_plate_loc/masks_6_4_augmented_image_11024_augmented_image_19889.jpg is a low contrast image\n",
      "/home/mimus/anaconda3/envs/tf2/lib/python3.6/site-packages/ipykernel_launcher.py:51: UserWarning: /home/mimus/apiais/data/images/ANPR/training/masks_plate_loc/masks_209_16_augmented_image_19890.jpg is a low contrast image\n"
     ]
    },
    {
     "name": "stdout",
     "output_type": "stream",
     "text": [
      "4102 19890\n",
      "4103 19891\n",
      "4104 19892\n",
      "4105 19893\n"
     ]
    },
    {
     "name": "stderr",
     "output_type": "stream",
     "text": [
      "/home/mimus/anaconda3/envs/tf2/lib/python3.6/site-packages/ipykernel_launcher.py:51: UserWarning: /home/mimus/apiais/data/images/ANPR/training/masks_plate_loc/masks_464_39_augmented_image_19892.jpg is a low contrast image\n",
      "/home/mimus/anaconda3/envs/tf2/lib/python3.6/site-packages/ipykernel_launcher.py:51: UserWarning: /home/mimus/apiais/data/images/ANPR/training/masks_plate_loc/masks_24_8_augmented_image_19893.jpg is a low contrast image\n"
     ]
    },
    {
     "name": "stdout",
     "output_type": "stream",
     "text": [
      "4106 19894\n",
      "4107 19895\n",
      "4108 19896\n",
      "4109 19897\n",
      "4110 19898\n",
      "4111 19899\n",
      "4112 19900\n"
     ]
    },
    {
     "name": "stderr",
     "output_type": "stream",
     "text": [
      "/home/mimus/anaconda3/envs/tf2/lib/python3.6/site-packages/ipykernel_launcher.py:51: UserWarning: /home/mimus/apiais/data/images/ANPR/training/masks_plate_loc/masks_222_0_augmented_image_19899.jpg is a low contrast image\n"
     ]
    },
    {
     "name": "stdout",
     "output_type": "stream",
     "text": [
      "4113 19901\n",
      "4114 19902\n",
      "4115 19903\n"
     ]
    },
    {
     "name": "stderr",
     "output_type": "stream",
     "text": [
      "/home/mimus/anaconda3/envs/tf2/lib/python3.6/site-packages/ipykernel_launcher.py:51: UserWarning: /home/mimus/apiais/data/images/ANPR/training/masks_plate_loc/masks_3_6_augmented_image_19902.jpg is a low contrast image\n"
     ]
    },
    {
     "name": "stdout",
     "output_type": "stream",
     "text": [
      "4116 19904\n",
      "4117 19905\n",
      "4118 19906\n",
      "4119 19907\n"
     ]
    },
    {
     "name": "stderr",
     "output_type": "stream",
     "text": [
      "/home/mimus/anaconda3/envs/tf2/lib/python3.6/site-packages/ipykernel_launcher.py:51: UserWarning: /home/mimus/apiais/data/images/ANPR/training/masks_plate_loc/masks_198_39_augmented_image_19906.jpg is a low contrast image\n",
      "/home/mimus/anaconda3/envs/tf2/lib/python3.6/site-packages/ipykernel_launcher.py:51: UserWarning: /home/mimus/apiais/data/images/ANPR/training/masks_plate_loc/masks_322_32_augmented_image_13851_augmented_image_19907.jpg is a low contrast image\n"
     ]
    },
    {
     "name": "stdout",
     "output_type": "stream",
     "text": [
      "4120 19908\n",
      "4121 19909\n",
      "4122 19910\n",
      "4123 19911\n"
     ]
    },
    {
     "name": "stderr",
     "output_type": "stream",
     "text": [
      "/home/mimus/anaconda3/envs/tf2/lib/python3.6/site-packages/ipykernel_launcher.py:51: UserWarning: /home/mimus/apiais/data/images/ANPR/training/masks_plate_loc/masks_362_39_augmented_image_19911.jpg is a low contrast image\n"
     ]
    },
    {
     "name": "stdout",
     "output_type": "stream",
     "text": [
      "4124 19912\n",
      "4125 19913\n",
      "4126 19914\n",
      "4127 19915\n",
      "4128 19916\n",
      "4129 19917\n",
      "4130 19918\n",
      "4131 19919\n",
      "4132 19920\n",
      "4133 19921\n",
      "4134 19922\n",
      "4135 19923\n",
      "4136 19924\n",
      "4137 19925\n",
      "4138 19926\n"
     ]
    },
    {
     "name": "stderr",
     "output_type": "stream",
     "text": [
      "/home/mimus/anaconda3/envs/tf2/lib/python3.6/site-packages/ipykernel_launcher.py:51: UserWarning: /home/mimus/apiais/data/images/ANPR/training/masks_plate_loc/masks_132_42_augmented_image_10244_augmented_image_19925.jpg is a low contrast image\n"
     ]
    },
    {
     "name": "stdout",
     "output_type": "stream",
     "text": [
      "4139 19927\n",
      "4140 19928\n"
     ]
    },
    {
     "name": "stderr",
     "output_type": "stream",
     "text": [
      "/home/mimus/anaconda3/envs/tf2/lib/python3.6/site-packages/ipykernel_launcher.py:51: UserWarning: /home/mimus/apiais/data/images/ANPR/training/masks_plate_loc/masks_61_23_augmented_image_19927.jpg is a low contrast image\n"
     ]
    },
    {
     "name": "stdout",
     "output_type": "stream",
     "text": [
      "4141 19929\n",
      "4142 19930\n"
     ]
    },
    {
     "name": "stderr",
     "output_type": "stream",
     "text": [
      "/home/mimus/anaconda3/envs/tf2/lib/python3.6/site-packages/ipykernel_launcher.py:51: UserWarning: /home/mimus/apiais/data/images/ANPR/training/masks_plate_loc/masks_27_26_augmented_image_8492_augmented_image_19930.jpg is a low contrast image\n"
     ]
    },
    {
     "name": "stdout",
     "output_type": "stream",
     "text": [
      "4143 19931\n",
      "4144 19932\n",
      "4145 19933\n",
      "4146 19934\n"
     ]
    },
    {
     "name": "stderr",
     "output_type": "stream",
     "text": [
      "/home/mimus/anaconda3/envs/tf2/lib/python3.6/site-packages/ipykernel_launcher.py:51: UserWarning: /home/mimus/apiais/data/images/ANPR/training/masks_plate_loc/masks_319_33_augmented_image_9545_augmented_image_19933.jpg is a low contrast image\n"
     ]
    },
    {
     "name": "stdout",
     "output_type": "stream",
     "text": [
      "4147 19935\n",
      "4148 19936\n"
     ]
    },
    {
     "name": "stderr",
     "output_type": "stream",
     "text": [
      "/home/mimus/anaconda3/envs/tf2/lib/python3.6/site-packages/ipykernel_launcher.py:51: UserWarning: /home/mimus/apiais/data/images/ANPR/training/masks_plate_loc/masks_164_28_augmented_image_19936.jpg is a low contrast image\n",
      "/home/mimus/anaconda3/envs/tf2/lib/python3.6/site-packages/ipykernel_launcher.py:51: UserWarning: /home/mimus/apiais/data/images/ANPR/training/masks_plate_loc/masks_82_34_augmented_image_19937.jpg is a low contrast image\n"
     ]
    },
    {
     "name": "stdout",
     "output_type": "stream",
     "text": [
      "4149 19937\n",
      "4150 19938\n",
      "4151 19939\n",
      "4152 19940\n",
      "4153 19941\n"
     ]
    },
    {
     "name": "stderr",
     "output_type": "stream",
     "text": [
      "/home/mimus/anaconda3/envs/tf2/lib/python3.6/site-packages/ipykernel_launcher.py:51: UserWarning: /home/mimus/apiais/data/images/ANPR/training/masks_plate_loc/masks_77_29_augmented_image_19940.jpg is a low contrast image\n"
     ]
    },
    {
     "name": "stdout",
     "output_type": "stream",
     "text": [
      "4154 19942\n",
      "4155 19943\n",
      "4156 19944\n"
     ]
    },
    {
     "name": "stderr",
     "output_type": "stream",
     "text": [
      "/home/mimus/anaconda3/envs/tf2/lib/python3.6/site-packages/ipykernel_launcher.py:51: UserWarning: /home/mimus/apiais/data/images/ANPR/training/masks_plate_loc/masks_19_39_augmented_image_11778_augmented_image_19942.jpg is a low contrast image\n",
      "/home/mimus/anaconda3/envs/tf2/lib/python3.6/site-packages/ipykernel_launcher.py:51: UserWarning: /home/mimus/apiais/data/images/ANPR/training/masks_plate_loc/masks_233_0_augmented_image_11606_augmented_image_19943.jpg is a low contrast image\n"
     ]
    },
    {
     "name": "stdout",
     "output_type": "stream",
     "text": [
      "4157 19945\n",
      "4158 19946\n",
      "4159 19947\n",
      "4160 19948\n",
      "4161 19949\n"
     ]
    },
    {
     "name": "stderr",
     "output_type": "stream",
     "text": [
      "/home/mimus/anaconda3/envs/tf2/lib/python3.6/site-packages/ipykernel_launcher.py:51: UserWarning: /home/mimus/apiais/data/images/ANPR/training/masks_plate_loc/masks_13_38_augmented_image_19949.jpg is a low contrast image\n",
      "/home/mimus/anaconda3/envs/tf2/lib/python3.6/site-packages/ipykernel_launcher.py:51: UserWarning: /home/mimus/apiais/data/images/ANPR/training/masks_plate_loc/masks_84_18_augmented_image_19950.jpg is a low contrast image\n"
     ]
    },
    {
     "name": "stdout",
     "output_type": "stream",
     "text": [
      "4162 19950\n",
      "4163 19951\n",
      "4164 19952\n"
     ]
    },
    {
     "name": "stderr",
     "output_type": "stream",
     "text": [
      "/home/mimus/anaconda3/envs/tf2/lib/python3.6/site-packages/ipykernel_launcher.py:51: UserWarning: /home/mimus/apiais/data/images/ANPR/training/masks_plate_loc/masks_159_29_augmented_image_19952.jpg is a low contrast image\n"
     ]
    },
    {
     "name": "stdout",
     "output_type": "stream",
     "text": [
      "4165 19953\n",
      "4166 19954\n",
      "4167 19955\n",
      "4168 19956\n"
     ]
    },
    {
     "name": "stderr",
     "output_type": "stream",
     "text": [
      "/home/mimus/anaconda3/envs/tf2/lib/python3.6/site-packages/ipykernel_launcher.py:51: UserWarning: /home/mimus/apiais/data/images/ANPR/training/masks_plate_loc/masks_35_7_augmented_image_19956.jpg is a low contrast image\n",
      "/home/mimus/anaconda3/envs/tf2/lib/python3.6/site-packages/ipykernel_launcher.py:51: UserWarning: /home/mimus/apiais/data/images/ANPR/training/masks_plate_loc/masks_723_32_augmented_image_19957.jpg is a low contrast image\n"
     ]
    },
    {
     "name": "stdout",
     "output_type": "stream",
     "text": [
      "4169 19957\n",
      "4170 19958\n",
      "4171 19959\n",
      "4172 19960\n",
      "4173 19961\n"
     ]
    },
    {
     "name": "stderr",
     "output_type": "stream",
     "text": [
      "/home/mimus/anaconda3/envs/tf2/lib/python3.6/site-packages/ipykernel_launcher.py:51: UserWarning: /home/mimus/apiais/data/images/ANPR/training/masks_plate_loc/masks_81_28_augmented_image_19959.jpg is a low contrast image\n"
     ]
    },
    {
     "name": "stdout",
     "output_type": "stream",
     "text": [
      "4174 19962\n",
      "4175 19963\n"
     ]
    },
    {
     "name": "stderr",
     "output_type": "stream",
     "text": [
      "/home/mimus/anaconda3/envs/tf2/lib/python3.6/site-packages/ipykernel_launcher.py:51: UserWarning: /home/mimus/apiais/data/images/ANPR/training/masks_plate_loc/masks_96_28_augmented_image_19963.jpg is a low contrast image\n",
      "/home/mimus/anaconda3/envs/tf2/lib/python3.6/site-packages/ipykernel_launcher.py:51: UserWarning: /home/mimus/apiais/data/images/ANPR/training/masks_plate_loc/masks_21_6_augmented_image_19964.jpg is a low contrast image\n"
     ]
    },
    {
     "name": "stdout",
     "output_type": "stream",
     "text": [
      "4176 19964\n",
      "4177 19965\n",
      "4178 19966\n",
      "4179 19967\n",
      "4180 19968\n",
      "4181 19969\n",
      "4182 19970\n"
     ]
    },
    {
     "name": "stderr",
     "output_type": "stream",
     "text": [
      "/home/mimus/anaconda3/envs/tf2/lib/python3.6/site-packages/ipykernel_launcher.py:51: UserWarning: /home/mimus/apiais/data/images/ANPR/training/masks_plate_loc/masks_272_29_augmented_image_19968.jpg is a low contrast image\n"
     ]
    },
    {
     "name": "stdout",
     "output_type": "stream",
     "text": [
      "4183 19971\n",
      "4184 19972\n"
     ]
    },
    {
     "name": "stderr",
     "output_type": "stream",
     "text": [
      "/home/mimus/anaconda3/envs/tf2/lib/python3.6/site-packages/ipykernel_launcher.py:51: UserWarning: /home/mimus/apiais/data/images/ANPR/training/masks_plate_loc/masks_81_34_augmented_image_19971.jpg is a low contrast image\n"
     ]
    },
    {
     "name": "stdout",
     "output_type": "stream",
     "text": [
      "4185 19973\n",
      "4186 19974\n"
     ]
    },
    {
     "name": "stderr",
     "output_type": "stream",
     "text": [
      "/home/mimus/anaconda3/envs/tf2/lib/python3.6/site-packages/ipykernel_launcher.py:51: UserWarning: /home/mimus/apiais/data/images/ANPR/training/masks_plate_loc/masks_749_32_augmented_image_10705_augmented_image_19973.jpg is a low contrast image\n"
     ]
    },
    {
     "name": "stdout",
     "output_type": "stream",
     "text": [
      "4187 19975\n",
      "4188 19976\n",
      "4189 19977\n"
     ]
    },
    {
     "name": "stderr",
     "output_type": "stream",
     "text": [
      "/home/mimus/anaconda3/envs/tf2/lib/python3.6/site-packages/ipykernel_launcher.py:51: UserWarning: /home/mimus/apiais/data/images/ANPR/training/masks_plate_loc/masks_98_39_augmented_image_19975.jpg is a low contrast image\n",
      "/home/mimus/anaconda3/envs/tf2/lib/python3.6/site-packages/ipykernel_launcher.py:51: UserWarning: /home/mimus/apiais/data/images/ANPR/training/masks_plate_loc/masks_154_25_augmented_image_9357_augmented_image_19977.jpg is a low contrast image\n"
     ]
    },
    {
     "name": "stdout",
     "output_type": "stream",
     "text": [
      "4190 19978\n",
      "4191 19979\n"
     ]
    },
    {
     "name": "stderr",
     "output_type": "stream",
     "text": [
      "/home/mimus/anaconda3/envs/tf2/lib/python3.6/site-packages/ipykernel_launcher.py:51: UserWarning: /home/mimus/apiais/data/images/ANPR/training/masks_plate_loc/masks_54_9_augmented_image_19979.jpg is a low contrast image\n",
      "/home/mimus/anaconda3/envs/tf2/lib/python3.6/site-packages/ipykernel_launcher.py:51: UserWarning: /home/mimus/apiais/data/images/ANPR/training/masks_plate_loc/masks_119_39_augmented_image_8185_augmented_image_19981.jpg is a low contrast image\n"
     ]
    },
    {
     "name": "stdout",
     "output_type": "stream",
     "text": [
      "4192 19980\n",
      "4193 19981\n",
      "4194 19982\n"
     ]
    },
    {
     "name": "stderr",
     "output_type": "stream",
     "text": [
      "/home/mimus/anaconda3/envs/tf2/lib/python3.6/site-packages/ipykernel_launcher.py:51: UserWarning: /home/mimus/apiais/data/images/ANPR/training/masks_plate_loc/masks_70_4_augmented_image_19982.jpg is a low contrast image\n",
      "/home/mimus/anaconda3/envs/tf2/lib/python3.6/site-packages/ipykernel_launcher.py:51: UserWarning: /home/mimus/apiais/data/images/ANPR/training/masks_plate_loc/masks_133_41_augmented_image_19983.jpg is a low contrast image\n"
     ]
    },
    {
     "name": "stdout",
     "output_type": "stream",
     "text": [
      "4195 19983\n",
      "4196 19984\n",
      "4197 19985\n"
     ]
    },
    {
     "name": "stderr",
     "output_type": "stream",
     "text": [
      "/home/mimus/anaconda3/envs/tf2/lib/python3.6/site-packages/ipykernel_launcher.py:51: UserWarning: /home/mimus/apiais/data/images/ANPR/training/masks_plate_loc/masks_349_32_augmented_image_12344_augmented_image_19985.jpg is a low contrast image\n"
     ]
    },
    {
     "name": "stdout",
     "output_type": "stream",
     "text": [
      "4198 19986\n",
      "4199 19987\n"
     ]
    },
    {
     "name": "stderr",
     "output_type": "stream",
     "text": [
      "/home/mimus/anaconda3/envs/tf2/lib/python3.6/site-packages/ipykernel_launcher.py:51: UserWarning: /home/mimus/apiais/data/images/ANPR/training/masks_plate_loc/masks_395_36_augmented_image_19987.jpg is a low contrast image\n"
     ]
    },
    {
     "name": "stdout",
     "output_type": "stream",
     "text": [
      "4200 19988\n",
      "4201 19989\n"
     ]
    },
    {
     "name": "stderr",
     "output_type": "stream",
     "text": [
      "/home/mimus/anaconda3/envs/tf2/lib/python3.6/site-packages/ipykernel_launcher.py:51: UserWarning: /home/mimus/apiais/data/images/ANPR/training/masks_plate_loc/masks_195_16_augmented_image_19989.jpg is a low contrast image\n",
      "/home/mimus/anaconda3/envs/tf2/lib/python3.6/site-packages/ipykernel_launcher.py:51: UserWarning: /home/mimus/apiais/data/images/ANPR/training/masks_plate_loc/masks_162_39_augmented_image_19991.jpg is a low contrast image\n"
     ]
    },
    {
     "name": "stdout",
     "output_type": "stream",
     "text": [
      "4202 19990\n",
      "4203 19991\n",
      "4204 19992\n"
     ]
    },
    {
     "name": "stderr",
     "output_type": "stream",
     "text": [
      "/home/mimus/anaconda3/envs/tf2/lib/python3.6/site-packages/ipykernel_launcher.py:51: UserWarning: /home/mimus/apiais/data/images/ANPR/training/masks_plate_loc/masks_224_42_augmented_image_19992.jpg is a low contrast image\n"
     ]
    },
    {
     "name": "stdout",
     "output_type": "stream",
     "text": [
      "4205 19993\n",
      "4206 19994\n",
      "4207 19995\n",
      "4208 19996\n",
      "4209 19997\n"
     ]
    },
    {
     "name": "stderr",
     "output_type": "stream",
     "text": [
      "/home/mimus/anaconda3/envs/tf2/lib/python3.6/site-packages/ipykernel_launcher.py:51: UserWarning: /home/mimus/apiais/data/images/ANPR/training/masks_plate_loc/masks_242_28_augmented_image_12218_augmented_image_19996.jpg is a low contrast image\n",
      "/home/mimus/anaconda3/envs/tf2/lib/python3.6/site-packages/ipykernel_launcher.py:51: UserWarning: /home/mimus/apiais/data/images/ANPR/training/masks_plate_loc/masks_305_32_augmented_image_19997.jpg is a low contrast image\n"
     ]
    },
    {
     "name": "stdout",
     "output_type": "stream",
     "text": [
      "4210 19998\n",
      "4211 19999\n"
     ]
    },
    {
     "name": "stderr",
     "output_type": "stream",
     "text": [
      "/home/mimus/anaconda3/envs/tf2/lib/python3.6/site-packages/ipykernel_launcher.py:51: UserWarning: /home/mimus/apiais/data/images/ANPR/training/masks_plate_loc/masks_230_28_augmented_image_13454_augmented_image_19998.jpg is a low contrast image\n"
     ]
    },
    {
     "name": "stdout",
     "output_type": "stream",
     "text": [
      "4212 20000\n",
      "4213 20001\n"
     ]
    }
   ],
   "source": [
    "def random_rotation(image_array: ndarray, image_array2: ndarray):\n",
    "    # pick a random degree of rotation between 25% on the left and 25% on the right\n",
    "    random_degree = random.uniform(-10, 10)\n",
    "    return sk.transform.rotate(image_array, random_degree), sk.transform.rotate(image_array2, random_degree)\n",
    "\n",
    "def random_noise(image_array: ndarray, image_array2: ndarray):\n",
    "    # add random noise to the image\n",
    "    return sk.util.random_noise(image_array), image_array2\n",
    "\n",
    "# dictionary of the transformations we defined earlier\n",
    "available_transformations = {\n",
    "    'rotate': random_rotation,\n",
    "    'noise': random_noise\n",
    "}\n",
    "\n",
    "original_img = train_file_names\n",
    "mask_img = train_file_names2\n",
    "num_files_desired = 20000\n",
    "\n",
    "final_val = len(original_img)\n",
    "\n",
    "# find all files paths from the folder\n",
    "#print(\"control 1\")\n",
    "num_generated_files = len(original_img)\n",
    "counter = 0\n",
    "while num_generated_files <= num_files_desired:\n",
    "\n",
    "    # random image from the folder\n",
    "    image_path = original_img[counter]\n",
    "    image_path2 = mask_img[counter]\n",
    "    # read image as an two dimensional array of pixels\n",
    "    image_to_transform = sk.io.imread(image_path)\n",
    "    image_to_transform2 = sk.io.imread(image_path2)\n",
    "    # random num of transformation to apply\n",
    "    num_transformations_to_apply = random.randint(1, len(available_transformations))\n",
    "    num_transformations = 0\n",
    "    transformed_image = None\n",
    "    while num_transformations <= num_transformations_to_apply:\n",
    "       # print(num_transformations,num_transformations_to_apply)\n",
    "        # random transformation to apply for a single image\n",
    "        key = random.choice(list(available_transformations))\n",
    "        transformed_image, transformed_image2 = available_transformations[key](image_to_transform, image_to_transform2)\n",
    "        #aqui deberiamso poner la misma lista de archivos pero con mask\n",
    "        num_transformations+= 1\n",
    "    new_file_path = '%s_augmented_image_%s.jpg' % (image_path[:-4], num_generated_files)    \n",
    "    new_file_path2 = '%s_augmented_image_%s.jpg' % (image_path2[:-4], num_generated_files)    \n",
    "\n",
    "    # write image to the disk\n",
    "\n",
    "    io.imsave(new_file_path, img_as_ubyte(transformed_image))\n",
    "    io.imsave(new_file_path2, img_as_ubyte(transformed_image2))\n",
    "    num_generated_files += 1\n",
    "    counter += 1\n",
    "    print(counter, num_generated_files)\n"
   ]
  },
  {
   "cell_type": "code",
   "execution_count": null,
   "metadata": {},
   "outputs": [],
   "source": []
  },
  {
   "cell_type": "code",
   "execution_count": null,
   "metadata": {},
   "outputs": [],
   "source": []
  },
  {
   "cell_type": "code",
   "execution_count": null,
   "metadata": {},
   "outputs": [],
   "source": []
  }
 ],
 "metadata": {
  "kernelspec": {
   "display_name": "Python 3",
   "language": "python",
   "name": "python3"
  },
  "language_info": {
   "codemirror_mode": {
    "name": "ipython",
    "version": 3
   },
   "file_extension": ".py",
   "mimetype": "text/x-python",
   "name": "python",
   "nbconvert_exporter": "python",
   "pygments_lexer": "ipython3",
   "version": "3.6.12"
  }
 },
 "nbformat": 4,
 "nbformat_minor": 4
}
