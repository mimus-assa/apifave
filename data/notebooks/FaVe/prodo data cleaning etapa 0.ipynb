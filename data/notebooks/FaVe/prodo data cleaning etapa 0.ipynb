{
 "cells": [
  {
   "cell_type": "code",
   "execution_count": 1,
   "metadata": {},
   "outputs": [],
   "source": [
    "import numpy as np\n",
    "import pandas as pd"
   ]
  },
  {
   "cell_type": "code",
   "execution_count": 9,
   "metadata": {},
   "outputs": [
    {
     "name": "stdout",
     "output_type": "stream",
     "text": [
      "\u001b[31mERROR: Could not find a version that satisfies the requirement OpenSSL (from versions: none)\u001b[0m\u001b[31m\n",
      "\u001b[0m\u001b[31mERROR: No matching distribution found for OpenSSL\u001b[0m\u001b[31m\n",
      "\u001b[0m"
     ]
    }
   ],
   "source": [
    "!pip install OpenSSL"
   ]
  },
  {
   "cell_type": "code",
   "execution_count": 2,
   "metadata": {},
   "outputs": [],
   "source": [
    "for i in range(1,31):\n",
    "    exec('reporte_%d = pd.read_excel(\"/home/workstation/Desktop/fv/data/tables/table1/Reporte Detenidos CER %d.xlsx\", encoding=\"latin1\" )'%(i,i))   \n",
    "reportes1 = [reporte_1,reporte_2,reporte_3,reporte_4,reporte_5,reporte_6,reporte_7,reporte_8,reporte_9,reporte_10,reporte_11,reporte_12,reporte_13,reporte_14,reporte_15,reporte_16,reporte_17,reporte_18,reporte_19,reporte_20,reporte_21,reporte_22,reporte_23,reporte_24,reporte_25,reporte_26,reporte_27,reporte_28,reporte_29,reporte_30]\n",
    "for i in range(1,7):\n",
    "    exec('reporte2_%d = pd.read_excel(\"/home/workstation/Desktop/fv/data/tables/table2/detenidos%d.xlsx\", encoding=\"latin1\" )'%(i,i))\n",
    "reportes2 = [reporte2_1,reporte2_2,reporte2_3,reporte2_4,reporte2_5,reporte2_6]"
   ]
  },
  {
   "cell_type": "code",
   "execution_count": 3,
   "metadata": {},
   "outputs": [
    {
     "name": "stdout",
     "output_type": "stream",
     "text": [
      "        folio                                nombre  \\\n",
      "1         131         JUAN DOMINGO GONZALEZ DELGADO   \n",
      "2         132         FRANCISCO JAVIER VELA RAMIREZ   \n",
      "3         133              JUAN CARLOS PEREZ MEDINA   \n",
      "4         134               ARMANDO SALINAS SALINAS   \n",
      "5         135         JOSE FELIX ZAMBRANO AMEZQUITA   \n",
      "...       ...                                   ...   \n",
      "9697  1223258                    IVAN  RIVERA SILVA   \n",
      "9698  1223259           EDUARDO PLASCENCIA MARTINEZ   \n",
      "9699  1223260  FRANCISCO JAVIER PLASCENCIA MARTINEZ   \n",
      "9700  1223261        JUAN ALBERTO MARTINEZ ARELLANO   \n",
      "9701  1223262        JOSE DE JESUS SERRANO GONZALEZ   \n",
      "\n",
      "                              foto1  fecha_hora_registro  \n",
      "1                           131.jpg  2008-08-07 15:42:25  \n",
      "2                           132.jpg  2008-08-07 15:50:42  \n",
      "3                           133.jpg  2008-08-07 16:37:24  \n",
      "4                           134.jpg  2008-08-07 17:18:12  \n",
      "5                           135.jpg  2008-08-07 17:55:05  \n",
      "...                             ...                  ...  \n",
      "9697   20200330103123_239288573.jpg  2020-03-30 10:32:10  \n",
      "9698  20200330103726_1160992585.jpg  2020-03-30 10:38:25  \n",
      "9699   20200330103837_999151106.jpg  2020-03-30 10:39:44  \n",
      "9700    20200330104038_29275767.jpg  2020-03-30 10:41:52  \n",
      "9701   20200330104145_640780023.jpg  2020-03-30 10:45:35  \n",
      "\n",
      "[1169701 rows x 4 columns]\n"
     ]
    }
   ],
   "source": [
    "df1 = pd.concat(reportes1)\n",
    "\n",
    "df1 = df1.replace(np.nan, ' ', regex=True)\n",
    "\n",
    "df1 = df1.astype({\"nombre\":'str', \"app\":'str', \"apm\":'str', \"foto_barandilla\":\"str\"}) \n",
    "\n",
    "df1['Full_name'] = [' '.join([y for y in x if pd.notna(y)])  for x in zip(df1['nombre'], df1['app'], df1['apm'])]\n",
    "\n",
    "df1 = df1.iloc[1:]\n",
    "\n",
    "df1.rename(columns={\"foto_barandilla\": \"foto1\"}, inplace=True)\n",
    "\n",
    "df1 = df1[[\"folio\", \"Full_name\", \"foto1\", \"fecha_hora_registro\" ]]\n",
    "\n",
    "df1.rename(columns={\"Full_name\": \"nombre\"}, inplace=True)\n",
    "df1.set_index('folio')\n",
    "print(df1)"
   ]
  },
  {
   "cell_type": "code",
   "execution_count": 4,
   "metadata": {},
   "outputs": [
    {
     "name": "stdout",
     "output_type": "stream",
     "text": [
      "(1136496, 5)\n",
      "(1136496, 4)\n",
      "(1136496, 4)\n",
      "(1136496, 4)\n",
      "(1136496, 4)\n",
      "          folio                            foto2       sexo\n",
      "0           131                          131.jpg  MASCULINO\n",
      "1           132                          132.jpg  MASCULINO\n",
      "2           133                          133.jpg  MASCULINO\n",
      "3           134                          134.jpg  MASCULINO\n",
      "4           135                          135.jpg  MASCULINO\n",
      "...         ...                              ...        ...\n",
      "136491  1150054  tmp10.90.4.1720190618110449.jpg  MASCULINO\n",
      "136492  1150055  tmp10.90.4.1720190618111110.jpg  MASCULINO\n",
      "136493  1150056  tmp10.90.9.2420190618112251.jpg  MASCULINO\n",
      "136494  1150057  tmp10.90.4.1720190618112519.jpg  MASCULINO\n",
      "136495  1150058    20190618112531_1247949847.jpg  MASCULINO\n",
      "\n",
      "[1136496 rows x 3 columns]\n"
     ]
    }
   ],
   "source": [
    "df2 = pd.concat(reportes2)\n",
    "print(df2.shape)\n",
    "df2 = df2[[\"folio\",\"Nombre\", \"foto\", \"sexo\"]]\n",
    "print(df2.shape)\n",
    "df2 = df2.replace(np.nan, ' ', regex=True)\n",
    "print(df2.shape)\n",
    "df2.rename(columns={\"Nombre\": \"nombre\"}, inplace=True)\n",
    "print(df2.shape)\n",
    "df2.rename(columns={\"foto\": \"foto2\"}, inplace=True)\n",
    "print(df2.shape)\n",
    "df2 = df2[[\"folio\", \"foto2\", \"sexo\"]]\n",
    "df2.set_index('folio')\n",
    "print(df2)"
   ]
  },
  {
   "cell_type": "code",
   "execution_count": 5,
   "metadata": {},
   "outputs": [
    {
     "name": "stdout",
     "output_type": "stream",
     "text": [
      "           folio                                nombre  \\\n",
      "0            131         JUAN DOMINGO GONZALEZ DELGADO   \n",
      "1            132         FRANCISCO JAVIER VELA RAMIREZ   \n",
      "2            133              JUAN CARLOS PEREZ MEDINA   \n",
      "3            134               ARMANDO SALINAS SALINAS   \n",
      "4            135         JOSE FELIX ZAMBRANO AMEZQUITA   \n",
      "...          ...                                   ...   \n",
      "1169696  1223258                    IVAN  RIVERA SILVA   \n",
      "1169697  1223259           EDUARDO PLASCENCIA MARTINEZ   \n",
      "1169698  1223260  FRANCISCO JAVIER PLASCENCIA MARTINEZ   \n",
      "1169699  1223261        JUAN ALBERTO MARTINEZ ARELLANO   \n",
      "1169700  1223262        JOSE DE JESUS SERRANO GONZALEZ   \n",
      "\n",
      "                                 foto1    foto2       sexo  \\\n",
      "0                              131.jpg  131.jpg  MASCULINO   \n",
      "1                              132.jpg  132.jpg  MASCULINO   \n",
      "2                              133.jpg  133.jpg  MASCULINO   \n",
      "3                              134.jpg  134.jpg  MASCULINO   \n",
      "4                              135.jpg  135.jpg  MASCULINO   \n",
      "...                                ...      ...        ...   \n",
      "1169696   20200330103123_239288573.jpg      NaN        NaN   \n",
      "1169697  20200330103726_1160992585.jpg      NaN        NaN   \n",
      "1169698   20200330103837_999151106.jpg      NaN        NaN   \n",
      "1169699    20200330104038_29275767.jpg      NaN        NaN   \n",
      "1169700   20200330104145_640780023.jpg      NaN        NaN   \n",
      "\n",
      "         fecha_hora_registro  \n",
      "0        2008-08-07 15:42:25  \n",
      "1        2008-08-07 15:50:42  \n",
      "2        2008-08-07 16:37:24  \n",
      "3        2008-08-07 17:18:12  \n",
      "4        2008-08-07 17:55:05  \n",
      "...                      ...  \n",
      "1169696  2020-03-30 10:32:10  \n",
      "1169697  2020-03-30 10:38:25  \n",
      "1169698  2020-03-30 10:39:44  \n",
      "1169699  2020-03-30 10:41:52  \n",
      "1169700  2020-03-30 10:45:35  \n",
      "\n",
      "[1169701 rows x 6 columns]\n"
     ]
    }
   ],
   "source": [
    "result = df2.merge(df1, on=\"folio\")\n",
    "result = df1.merge(df2, how='left', left_on='folio', right_on='folio')\n",
    "result = result[[\"folio\",\"nombre\", \"foto1\", \"foto2\", \"sexo\",\"fecha_hora_registro\"]]\n",
    "print(result)"
   ]
  },
  {
   "cell_type": "code",
   "execution_count": 6,
   "metadata": {},
   "outputs": [],
   "source": [
    "result.to_csv(r\"/home/workstation/Desktop/fv/data/DB.csv\", index=False)"
   ]
  },
  {
   "cell_type": "code",
   "execution_count": null,
   "metadata": {},
   "outputs": [],
   "source": []
  }
 ],
 "metadata": {
  "kernelspec": {
   "display_name": "Python 3",
   "language": "python",
   "name": "python3"
  },
  "language_info": {
   "codemirror_mode": {
    "name": "ipython",
    "version": 3
   },
   "file_extension": ".py",
   "mimetype": "text/x-python",
   "name": "python",
   "nbconvert_exporter": "python",
   "pygments_lexer": "ipython3",
   "version": "3.10.12"
  }
 },
 "nbformat": 4,
 "nbformat_minor": 4
}
