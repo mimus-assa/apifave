{
 "cells": [
  {
   "cell_type": "markdown",
   "metadata": {},
   "source": [
    "este programa tiene la intencion de limpiar la base de datos del c4, la forma de limpiar se hara:\n",
    "    eliminando caractereres especiales en los nombres\n",
    "    reduciendo nombres culla similitud sea mayor al 90% dentro del top\n",
    "    se entrena un modelo para predecir a los 1000 mas buscados y despues buscar a los 1000 mas buscados en el resto de la data\n",
    "    se ubican todos los que no poseen foto//falta\n",
    "    se ubican todos los Nan//falta\n",
    "    "
   ]
  },
  {
   "cell_type": "code",
   "execution_count": 1,
   "metadata": {},
   "outputs": [],
   "source": [
    "#importar librerias\n",
    "import numpy as np\n",
    "import pandas as pd\n",
    "import os\n",
    "from os import listdir\n",
    "from os.path import isfile, join\n",
    "from fuzzywuzzy import fuzz\n",
    "from IPython.display import clear_output\n",
    "import ipywidgets as widgets\n",
    "from IPython.display import display\n",
    "\n",
    "\n",
    "import multiprocessing as mp\n",
    "from pathos.multiprocessing import ProcessingPool as Pool\n",
    "\n"
   ]
  },
  {
   "cell_type": "code",
   "execution_count": 2,
   "metadata": {},
   "outputs": [],
   "source": [
    "#setear carpetas\n",
    "DATA1 = \"/home/workstation/Desktop/fv/data/pics/pic1/\"\n",
    "DATA2 = \"/home/workstation/Desktop/fv/data/pics/pic2/\"\n",
    "TOP_DATA = \"/home/workstation/Desktop/fv/topwanted/\"\n",
    "ALL_DATA = \"/home/workstation/Desktop/fv/allwanted/\"\n",
    "LOWCOUNT = \"/home/workstation/Desktop/fv/lowcount/\"\n",
    "FACES = '/home/workstation/Desktop/fv/faces/'\n",
    "FIT_DATA =\"/home/workstation/Desktop/fv/fit/\"\n",
    "val_dir = \"/home/workstation/Desktop/fv/fit/val/\"\n",
    "train_dir = \"/home/workstation/Desktop/fv/fit/train/\"\n",
    "test_dir = \"/home/workstation/Desktop/fv/fit/test/\"\n",
    "\n",
    "carpetas = [ DATA1, DATA2, TOP_DATA, ALL_DATA, LOWCOUNT, FACES, FIT_DATA,val_dir ,train_dir ,test_dir]\n",
    "\n",
    "for carpeta in carpetas:\n",
    "    if not os.path.exists(carpeta):\n",
    "        os.mkdir(carpeta)\n",
    "        \n",
    "predict = '/home/workstation/Desktop/fv/perdictions/preds/'\n",
    "crops = '/home/workstation/Desktop/fv/predictions/crops/'"
   ]
  },
  {
   "cell_type": "code",
   "execution_count": 3,
   "metadata": {},
   "outputs": [
    {
     "name": "stderr",
     "output_type": "stream",
     "text": [
      "/home/workstation/.local/lib/python3.6/site-packages/numpy/lib/arraysetops.py:569: FutureWarning: elementwise comparison failed; returning scalar instead, but in the future will perform elementwise comparison\n",
      "  mask |= (ar1 == a)\n"
     ]
    },
    {
     "name": "stdout",
     "output_type": "stream",
     "text": [
      "numero de nombres diferentes: 376885\n"
     ]
    }
   ],
   "source": [
    "#importamos DB\n",
    "df_faces = pd.read_csv(\"/home/workstation/Desktop/fv/data/DB.csv\",encoding=\"utf-8\", index_col=0)\n",
    "\n",
    "##creamos una lista de nombres\n",
    "df_faces_nombre = df_faces.groupby([\"nombre\"])\n",
    "max_names1 = len(df_faces_nombre)\n",
    "print('numero de nombres diferentes:', max_names1)"
   ]
  },
  {
   "cell_type": "code",
   "execution_count": 4,
   "metadata": {},
   "outputs": [
    {
     "name": "stdout",
     "output_type": "stream",
     "text": [
      "153669\n"
     ]
    },
    {
     "data": {
      "application/vnd.jupyter.widget-view+json": {
       "model_id": "8490d8c8f8214923ab044e87647c8426",
       "version_major": 2,
       "version_minor": 0
      },
      "text/plain": [
       "IntProgress(value=0, max=153669)"
      ]
     },
     "metadata": {},
     "output_type": "display_data"
    },
    {
     "name": "stdout",
     "output_type": "stream",
     "text": [
      "70 nombres con \"/\" + 70 nombres con \",\" + =  153719\n"
     ]
    }
   ],
   "source": [
    "\n",
    "from IPython.display import display\n",
    "import ipywidgets as widgets\n",
    "\n",
    "\n",
    "final_val = len(df_faces[df_faces['nombre'].str.contains(\"/\")==True].index)+len(df_faces[df_faces['nombre'].str.contains(\",\")==True].index) + len(df_faces[df_faces['nombre'].str.contains(\"  \")==True].index) \n",
    "print(final_val)\n",
    "progress = widgets.IntProgress(value=0, min=0, max=final_val)\n",
    "display(progress)\n",
    "\n",
    "k = 0\n",
    "h = 0\n",
    "l = 0\n",
    "\n",
    "for index in df_faces[df_faces['nombre'].str.contains(\"/\")==True].index:   \n",
    "    df_faces.loc[index,'nombre'] = df_faces.loc[index,'nombre'].replace(\"/\", \" \")\n",
    "    #salvar todos los que vamos modificando\n",
    "    h +=1\n",
    "    progress.value +=1\n",
    "for index in df_faces[df_faces['nombre'].str.contains(\",\")==True].index:\n",
    "    df_faces.loc[index,'nombre'] = df_faces.loc[index,'nombre'].replace(\",\", \" \")\n",
    "    progress.value +=1\n",
    "    k +=1\n",
    "for index in df_faces[df_faces['nombre'].str.contains(\"  \")==True].index:   \n",
    "    df_faces.loc[index,'nombre'] = df_faces.loc[index,'nombre'].replace(\"  \", \" \")\n",
    "    l +=1\n",
    "    progress.value +=1\n",
    "Num_SpeciaChars = k+h+l\n",
    "print(k, 'nombres con \"/\" +' , h, 'nombres con \",\" +',  '= ' , Num_SpeciaChars)\n"
   ]
  },
  {
   "cell_type": "code",
   "execution_count": 5,
   "metadata": {},
   "outputs": [
    {
     "name": "stdout",
     "output_type": "stream",
     "text": [
      "numero de nombres diferentes: 358903\n",
      "se ha reducido en total: 17982 nombres\n",
      "en este paso se redujeron: 17982\n"
     ]
    }
   ],
   "source": [
    "#creamos una lista de nombres\n",
    "df_faces_nombre = df_faces.groupby([\"nombre\"])\n",
    "max_names2 = len(df_faces_nombre)\n",
    "print('numero de nombres diferentes:', max_names2)\n",
    "reducto = max_names1-max_names2\n",
    "print(\"se ha reducido en total:\", reducto, \"nombres\")\n",
    "print(\"en este paso se redujeron:\", reducto)"
   ]
  },
  {
   "cell_type": "code",
   "execution_count": 8,
   "metadata": {},
   "outputs": [],
   "source": [
    "#creamos una lista con los mil nombres mas comunes\n",
    "df_faces_nombre = df_faces.groupby([\"nombre\"])\n",
    "top_names = df_faces_nombre.count().sort_values(by=['foto1'], ascending=False).iloc[0:1300][\"foto1\"].index\n",
    "#print(top_names)\n",
    "data = pd.DataFrame(top_names)\n"
   ]
  },
  {
   "cell_type": "code",
   "execution_count": 9,
   "metadata": {},
   "outputs": [],
   "source": [
    "from functools import partial\n",
    "from fuzzywuzzy import fuzz\n",
    "import multiprocessing as mp\n",
    "import numpy as np\n",
    "\n",
    "def fuzz_analisis0_partial(top_names, partial_top_names): \n",
    "    duplicates = [] \n",
    "    for name in top_names[\"nombre\"]:\n",
    "        for name2 in partial_top_names[\"nombre\"]: \n",
    "            ratio = fuzz.ratio(name, name2)\n",
    "            if ratio>95 and ratio<100: \n",
    "                duplicates.append((name, name2)) \n",
    "    return duplicates \n",
    "\n",
    "cores = mp.cpu_count() \n",
    "df_split = np.array_split(data, cores, axis=0) \n",
    "\n",
    "pool = mp.Pool(cores) \n",
    "for duplicates in pool.map(partial(fuzz_analisis0_partial, data), df_split): \n",
    "    for name, name2 in duplicates: \n",
    "        data[data[\"nombre\"] == name2] = name\n",
    "pool.close() \n",
    "pool.join()"
   ]
  },
  {
   "cell_type": "code",
   "execution_count": 10,
   "metadata": {},
   "outputs": [
    {
     "name": "stdout",
     "output_type": "stream",
     "text": [
      "1300\n",
      "1243\n",
      "                                   nombre\n",
      "0                    VICTOR MORENO MORENO\n",
      "1              SERGIO HERNANDEZ GUTIERREZ\n",
      "2            FRANCISCO JAVIER MUÑOZ LOPEZ\n",
      "3                     DANIEL OLVERA MUÑOZ\n",
      "4               CESAR OMAR DELGADO SILVA \n",
      "...                                   ...\n",
      "1295                          JUAN X LUGO\n",
      "1296         LUIS ANGEL MARQUEZ RODRIGUEZ\n",
      "1297                MANUEL RAMIREZ FLORES\n",
      "1298  DAVID JEFFERSON GUTIERREZ HERNANDEZ\n",
      "1299          DIMAS FABIAN MONJARAZ GOMEZ\n",
      "\n",
      "[1243 rows x 1 columns]\n"
     ]
    }
   ],
   "source": [
    "print(len(data))\n",
    "data = data.drop_duplicates()\n",
    "print(len(data))\n",
    "print(data)"
   ]
  },
  {
   "cell_type": "code",
   "execution_count": 11,
   "metadata": {},
   "outputs": [],
   "source": [
    "def length_ratio(s1, s2):\n",
    "    s1_len = len(s1)\n",
    "    s2_len = len(s2)\n",
    "    distance = s1_len - s2_len if s1_len > s2_len else s2_len - s1_len\n",
    "    lensum = s1_len + s2_len\n",
    "    return 100 - 100 * distance / lensum\n",
    "\n",
    "def fuzz_analisis_partial(top_names, partial_top_names): \n",
    "    duplicates = [] \n",
    "    for name in data[\"nombre\"]:\n",
    "        for name2 in partial_top_names[\"nombre\"]:   \n",
    "            if length_ratio(name, name2) < 90:\n",
    "                continue\n",
    "            ratio = fuzz.ratio(name, name2)\n",
    "            if ratio>95 and ratio<100: \n",
    "                duplicates.append((name, name2)) \n",
    "    return duplicates \n",
    "\n",
    "cores = mp.cpu_count() \n",
    "df_split = np.array_split(df_faces, cores, axis=0) \n",
    "\n",
    "pool = mp.Pool(cores) \n",
    "for duplicates in pool.map(partial(fuzz_analisis_partial, df_faces), df_split): \n",
    "    for name, name2 in duplicates: \n",
    "        df_faces[\"nombre\"] = df_faces[\"nombre\"].replace(name2, name) \n",
    "        \n",
    "\n",
    "pool.close() \n",
    "pool.join()"
   ]
  },
  {
   "cell_type": "code",
   "execution_count": 12,
   "metadata": {},
   "outputs": [
    {
     "name": "stdout",
     "output_type": "stream",
     "text": [
      "numero de nombres diferentes: 357752\n",
      "la base de datos se ha reducido en: 19133 nombres\n",
      "en este paso se redujo: 1151\n"
     ]
    }
   ],
   "source": [
    "\n",
    "df_faces_nombre = df_faces.groupby([\"nombre\"])\n",
    "max_names3 = len(df_faces_nombre)\n",
    "print('numero de nombres diferentes:', max_names3)\n",
    "print('la base de datos se ha reducido en:', max_names1-max_names3, \"nombres\")\n",
    "print('en este paso se redujo:', max_names1-max_names3-reducto)\n",
    "#nota verificar que las personas en name2 y name son las mismas, con ayuda del outfuzz y el allwanted\n"
   ]
  },
  {
   "cell_type": "code",
   "execution_count": 13,
   "metadata": {},
   "outputs": [],
   "source": [
    "#exportamos la base de datos\n",
    "export_csv = df_faces.to_csv(r'/home/workstation/Desktop/fv/data/DB_cleaned.csv',encoding=\"utf-8\", header=True)"
   ]
  },
  {
   "cell_type": "code",
   "execution_count": 15,
   "metadata": {},
   "outputs": [
    {
     "data": {
      "text/plain": [
       "Index(['VICTOR MORENO MORENO', 'FRANCISCO JAVIER MUÑOZ LOPEZ',\n",
       "       'SERGIO HERNANDEZ GUTIERREZ', 'CESAR OMAR DELGADO SILVA ',\n",
       "       'JOSE GUADALUPE NEGRETE CAMACHO', 'JUAN NICOLAS FLORES MORALES',\n",
       "       'DANIEL OLVERA MUÑOZ', 'IVAN ERNESTO SANCHEZ URROZ',\n",
       "       'JUAN RAYMUNDO MORALES MARTINEZ', 'JOSE GUADALUPE GONZALEZ MENDEZ',\n",
       "       ...\n",
       "       'LUIS GERARDO MARQUEZ BARCO', 'JESUS CASTAÑEDA FALCON',\n",
       "       'MARTIN PEREIRA REYES', 'JOSE DE JESUS PIÑA BERNAL',\n",
       "       'JESUS ALBERTO RODRIGUEZ MARTINEZ', 'HECTOR EMMANUEL CORDOVA CAMARILLO',\n",
       "       'JUAN DIEGO X GUTIERREZ', 'JOSE DE JESUS QUIROZ ANGUIANO',\n",
       "       'JUAN RAFAEL MARTINEZ PEREZ', 'MARTIN SERRANO ORNELAS'],\n",
       "      dtype='object', name='nombre', length=1300)"
      ]
     },
     "execution_count": 15,
     "metadata": {},
     "output_type": "execute_result"
    }
   ],
   "source": [
    "df_faces_nombre = df_faces.groupby([\"nombre\"])\n",
    "top_names = df_faces_nombre.count().sort_values(by=['foto1'], ascending=False).iloc[0:1300][\"foto1\"].index\n",
    "top_names"
   ]
  },
  {
   "cell_type": "code",
   "execution_count": null,
   "metadata": {},
   "outputs": [],
   "source": []
  }
 ],
 "metadata": {
  "kernelspec": {
   "display_name": "Python 3",
   "language": "python",
   "name": "python3"
  },
  "language_info": {
   "codemirror_mode": {
    "name": "ipython",
    "version": 3
   },
   "file_extension": ".py",
   "mimetype": "text/x-python",
   "name": "python",
   "nbconvert_exporter": "python",
   "pygments_lexer": "ipython3",
   "version": "3.6.12"
  }
 },
 "nbformat": 4,
 "nbformat_minor": 4
}
