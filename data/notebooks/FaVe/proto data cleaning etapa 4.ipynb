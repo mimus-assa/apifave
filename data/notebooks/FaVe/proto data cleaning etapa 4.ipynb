{
 "cells": [
  {
   "cell_type": "code",
   "execution_count": 1,
   "metadata": {},
   "outputs": [
    {
     "name": "stderr",
     "output_type": "stream",
     "text": [
      "Using TensorFlow backend.\n",
      "/home/workstation/anaconda3/envs/tf-gpu/lib/python3.6/site-packages/tensorflow/python/framework/dtypes.py:516: FutureWarning: Passing (type, 1) or '1type' as a synonym of type is deprecated; in a future version of numpy, it will be understood as (type, (1,)) / '(1,)type'.\n",
      "  _np_qint8 = np.dtype([(\"qint8\", np.int8, 1)])\n",
      "/home/workstation/anaconda3/envs/tf-gpu/lib/python3.6/site-packages/tensorflow/python/framework/dtypes.py:517: FutureWarning: Passing (type, 1) or '1type' as a synonym of type is deprecated; in a future version of numpy, it will be understood as (type, (1,)) / '(1,)type'.\n",
      "  _np_quint8 = np.dtype([(\"quint8\", np.uint8, 1)])\n",
      "/home/workstation/anaconda3/envs/tf-gpu/lib/python3.6/site-packages/tensorflow/python/framework/dtypes.py:518: FutureWarning: Passing (type, 1) or '1type' as a synonym of type is deprecated; in a future version of numpy, it will be understood as (type, (1,)) / '(1,)type'.\n",
      "  _np_qint16 = np.dtype([(\"qint16\", np.int16, 1)])\n",
      "/home/workstation/anaconda3/envs/tf-gpu/lib/python3.6/site-packages/tensorflow/python/framework/dtypes.py:519: FutureWarning: Passing (type, 1) or '1type' as a synonym of type is deprecated; in a future version of numpy, it will be understood as (type, (1,)) / '(1,)type'.\n",
      "  _np_quint16 = np.dtype([(\"quint16\", np.uint16, 1)])\n",
      "/home/workstation/anaconda3/envs/tf-gpu/lib/python3.6/site-packages/tensorflow/python/framework/dtypes.py:520: FutureWarning: Passing (type, 1) or '1type' as a synonym of type is deprecated; in a future version of numpy, it will be understood as (type, (1,)) / '(1,)type'.\n",
      "  _np_qint32 = np.dtype([(\"qint32\", np.int32, 1)])\n",
      "/home/workstation/anaconda3/envs/tf-gpu/lib/python3.6/site-packages/tensorflow/python/framework/dtypes.py:525: FutureWarning: Passing (type, 1) or '1type' as a synonym of type is deprecated; in a future version of numpy, it will be understood as (type, (1,)) / '(1,)type'.\n",
      "  np_resource = np.dtype([(\"resource\", np.ubyte, 1)])\n",
      "/home/workstation/anaconda3/envs/tf-gpu/lib/python3.6/site-packages/tensorboard/compat/tensorflow_stub/dtypes.py:541: FutureWarning: Passing (type, 1) or '1type' as a synonym of type is deprecated; in a future version of numpy, it will be understood as (type, (1,)) / '(1,)type'.\n",
      "  _np_qint8 = np.dtype([(\"qint8\", np.int8, 1)])\n",
      "/home/workstation/anaconda3/envs/tf-gpu/lib/python3.6/site-packages/tensorboard/compat/tensorflow_stub/dtypes.py:542: FutureWarning: Passing (type, 1) or '1type' as a synonym of type is deprecated; in a future version of numpy, it will be understood as (type, (1,)) / '(1,)type'.\n",
      "  _np_quint8 = np.dtype([(\"quint8\", np.uint8, 1)])\n",
      "/home/workstation/anaconda3/envs/tf-gpu/lib/python3.6/site-packages/tensorboard/compat/tensorflow_stub/dtypes.py:543: FutureWarning: Passing (type, 1) or '1type' as a synonym of type is deprecated; in a future version of numpy, it will be understood as (type, (1,)) / '(1,)type'.\n",
      "  _np_qint16 = np.dtype([(\"qint16\", np.int16, 1)])\n",
      "/home/workstation/anaconda3/envs/tf-gpu/lib/python3.6/site-packages/tensorboard/compat/tensorflow_stub/dtypes.py:544: FutureWarning: Passing (type, 1) or '1type' as a synonym of type is deprecated; in a future version of numpy, it will be understood as (type, (1,)) / '(1,)type'.\n",
      "  _np_quint16 = np.dtype([(\"quint16\", np.uint16, 1)])\n",
      "/home/workstation/anaconda3/envs/tf-gpu/lib/python3.6/site-packages/tensorboard/compat/tensorflow_stub/dtypes.py:545: FutureWarning: Passing (type, 1) or '1type' as a synonym of type is deprecated; in a future version of numpy, it will be understood as (type, (1,)) / '(1,)type'.\n",
      "  _np_qint32 = np.dtype([(\"qint32\", np.int32, 1)])\n",
      "/home/workstation/anaconda3/envs/tf-gpu/lib/python3.6/site-packages/tensorboard/compat/tensorflow_stub/dtypes.py:550: FutureWarning: Passing (type, 1) or '1type' as a synonym of type is deprecated; in a future version of numpy, it will be understood as (type, (1,)) / '(1,)type'.\n",
      "  np_resource = np.dtype([(\"resource\", np.ubyte, 1)])\n"
     ]
    }
   ],
   "source": [
    "import keras.backend as K\n",
    "from keras import layers\n",
    "from keras import models\n",
    "from keras import optimizers\n",
    "from keras.preprocessing.image import ImageDataGenerator\n",
    "from keras import regularizers\n",
    "import tensorflow as tf\n",
    "from tensorflow.compat.v1 import ConfigProto\n",
    "from tensorflow.compat.v1 import InteractiveSession\n",
    "from keras_vggface.vggface import VGGFace\n",
    "from tensorflow.keras.callbacks import Callback\n",
    "import matplotlib.pyplot as plt\n",
    "from keras import regularizers\n",
    "import os"
   ]
  },
  {
   "cell_type": "code",
   "execution_count": 2,
   "metadata": {},
   "outputs": [],
   "source": [
    "#setear carpetas\n",
    "DATA1 = \"/home/workstation/Desktop/fv/data/pics/pic1/\"\n",
    "DATA2 = \"/home/workstation/Desktop/fv/data/pics/pic2/\"\n",
    "TOP_DATA = \"/home/workstation/Desktop/fv/topwanted/\"\n",
    "ALL_DATA = \"/home/workstation/Desktop/fv/allwanted/\"\n",
    "LOWCOUNT = \"/home/workstation/Desktop/fv/lowcount/\"\n",
    "FACES = '/home/workstation/Desktop/fv/faces/'\n",
    "FIT_DATA =\"/home/workstation/Desktop/fv/fit/\"\n",
    "val_dir = \"/home/workstation/Desktop/fv/fit/val/\"\n",
    "train_dir = \"/home/workstation/Desktop/fv/fit/train/\"\n",
    "test_dir = \"/home/workstation/Desktop/fv/fit/test/\"\n",
    "\n",
    "carpetas = [ DATA1, DATA2, TOP_DATA, ALL_DATA, LOWCOUNT, FACES, FIT_DATA,val_dir ,train_dir ,test_dir]\n",
    "\n",
    "for carpeta in carpetas:\n",
    "    if not os.path.exists(carpeta):\n",
    "        os.mkdir(carpeta)\n",
    "        \n",
    "predict = '/home/workstation/Desktop/fv/perdictions/preds/'\n",
    "crops = '/home/workstation/Desktop/fv/predictions/crops/'"
   ]
  },
  {
   "cell_type": "code",
   "execution_count": 3,
   "metadata": {},
   "outputs": [],
   "source": [
    "#dtype='float16'\n",
    "#K.set_floatx(dtype)\n",
    "#default is 1e-7 which is too small for float16.  Without adjusting the epsilon, we will get NaN predictions because of divide by zero problems\n",
    "#K.set_epsilon(1e-4) \n",
    "\n",
    "config = ConfigProto()\n",
    "config.gpu_options.allow_growth = True\n",
    "session = InteractiveSession(config=config)\n",
    "\n"
   ]
  },
  {
   "cell_type": "code",
   "execution_count": 4,
   "metadata": {},
   "outputs": [
    {
     "name": "stdout",
     "output_type": "stream",
     "text": [
      "WARNING:tensorflow:From /home/workstation/.local/lib/python3.6/site-packages/keras/backend/tensorflow_backend.py:4070: The name tf.nn.max_pool is deprecated. Please use tf.nn.max_pool2d instead.\n",
      "\n"
     ]
    }
   ],
   "source": [
    "# create a vggface2 model\n",
    "conv_base = VGGFace(model='vgg16', include_top=False, input_shape=(130,130,3))"
   ]
  },
  {
   "cell_type": "code",
   "execution_count": 5,
   "metadata": {},
   "outputs": [],
   "source": [
    "#arquitectura\n",
    "model = models.Sequential()\n",
    "model.add(conv_base)\n",
    "model.add(layers.Flatten())\n",
    "model.add(layers.Dense(2048, activation='relu'))\n",
    "model.add(layers.Dense(1000, activation='softmax'))\n",
    "\n",
    "conv_base.trainable = True\n",
    "set_trainable = False\n",
    "for layer in conv_base.layers:\n",
    "    if layer.name == 'block5_conv3' or layer.name == 'block5_conv1' or layer.name == 'block5_conv2':\n",
    "        set_trainable = True\n",
    "    if set_trainable:\n",
    "        layer.trainable = True\n",
    "    else:layer.trainable = False"
   ]
  },
  {
   "cell_type": "code",
   "execution_count": 6,
   "metadata": {},
   "outputs": [
    {
     "name": "stdout",
     "output_type": "stream",
     "text": [
      "Found 1001000 images belonging to 1000 classes.\n",
      "Found 15017 images belonging to 1000 classes.\n",
      "Found 11192 images belonging to 1000 classes.\n"
     ]
    }
   ],
   "source": [
    "#data gen y vectorizacion\n",
    "\n",
    "train_datagen = ImageDataGenerator(rescale=1./255)\n",
    "val_datagen = ImageDataGenerator(rescale=1./255)\n",
    "test_datagen = ImageDataGenerator(rescale=1./255)\n",
    "train_generator = train_datagen.flow_from_directory(train_dir, target_size=(130, 130), batch_size=80,class_mode='categorical')\n",
    "validation_generator = test_datagen.flow_from_directory(val_dir, target_size=(130, 130), batch_size=20, class_mode='categorical')\n",
    "test_generator = test_datagen.flow_from_directory(test_dir, target_size=(130, 130), batch_size=20, class_mode='categorical')\n",
    "labels = (test_generator.class_indices)"
   ]
  },
  {
   "cell_type": "code",
   "execution_count": 7,
   "metadata": {},
   "outputs": [],
   "source": [
    "import simplejson as json\n",
    "json = json.dumps(labels)#falta poner la carpeta correcta\n",
    "f = open(\"dict1000.json\",\"w\")\n",
    "f.write(json)\n",
    "f.close()"
   ]
  },
  {
   "cell_type": "code",
   "execution_count": 8,
   "metadata": {},
   "outputs": [],
   "source": [
    "class EarlyStoppingByValAcc(Callback):\n",
    "    def __init__(self, monitor='val_acc', value=0.98, verbose=1):\n",
    "        super(Callback, self).__init__()\n",
    "        self.monitor = monitor\n",
    "        self.value = value\n",
    "        self.verbose = verbose\n",
    "\n",
    "    def on_epoch_end(self, epoch, logs={}):\n",
    "        current = logs.get(self.monitor)\n",
    "        if current is None:\n",
    "            warnings.warn(\"Early stopping requires %s available!\" % self.monitor, RuntimeWarning)\n",
    "\n",
    "        if current > self.value:\n",
    "            if self.verbose > 0:\n",
    "                print(\"Epoch %05d: early stopping THR\" % epoch)\n",
    "            self.model.stop_training = True"
   ]
  },
  {
   "cell_type": "code",
   "execution_count": 9,
   "metadata": {},
   "outputs": [
    {
     "name": "stdout",
     "output_type": "stream",
     "text": [
      "WARNING:tensorflow:From /home/workstation/.local/lib/python3.6/site-packages/keras/backend/tensorflow_backend.py:422: The name tf.global_variables is deprecated. Please use tf.compat.v1.global_variables instead.\n",
      "\n",
      "Epoch 1/100\n",
      "300/300 [==============================] - 69s 229ms/step - loss: 6.1702 - acc: 0.0841 - val_loss: 4.3586 - val_acc: 0.2950\n",
      "Epoch 2/100\n",
      "300/300 [==============================] - 64s 214ms/step - loss: 3.9220 - acc: 0.3616 - val_loss: 2.7432 - val_acc: 0.5462\n",
      "Epoch 3/100\n",
      "300/300 [==============================] - 64s 214ms/step - loss: 2.8986 - acc: 0.5013 - val_loss: 2.9602 - val_acc: 0.6675\n",
      "Epoch 4/100\n",
      "300/300 [==============================] - 64s 213ms/step - loss: 2.4506 - acc: 0.5705 - val_loss: 0.6366 - val_acc: 0.7188\n",
      "Epoch 5/100\n",
      "300/300 [==============================] - 64s 214ms/step - loss: 2.1928 - acc: 0.6113 - val_loss: 1.7509 - val_acc: 0.7525\n",
      "Epoch 6/100\n",
      "300/300 [==============================] - 65s 215ms/step - loss: 2.0298 - acc: 0.6376 - val_loss: 1.7407 - val_acc: 0.7800\n",
      "Epoch 7/100\n",
      "300/300 [==============================] - 64s 213ms/step - loss: 1.9147 - acc: 0.6589 - val_loss: 1.0472 - val_acc: 0.7750\n",
      "Epoch 8/100\n",
      "300/300 [==============================] - 65s 216ms/step - loss: 1.7960 - acc: 0.6805 - val_loss: 0.7980 - val_acc: 0.7900\n",
      "Epoch 9/100\n",
      "300/300 [==============================] - 64s 214ms/step - loss: 1.7719 - acc: 0.6816 - val_loss: 0.7070 - val_acc: 0.8213\n",
      "Epoch 10/100\n",
      "300/300 [==============================] - 65s 216ms/step - loss: 1.6732 - acc: 0.6977 - val_loss: 0.7117 - val_acc: 0.8087\n",
      "Epoch 11/100\n",
      "300/300 [==============================] - 65s 215ms/step - loss: 1.6189 - acc: 0.7097 - val_loss: 3.0160 - val_acc: 0.8125\n",
      "Epoch 12/100\n",
      "300/300 [==============================] - 64s 214ms/step - loss: 1.5464 - acc: 0.7183 - val_loss: 0.9312 - val_acc: 0.7937\n",
      "Epoch 13/100\n",
      "300/300 [==============================] - 64s 213ms/step - loss: 1.4893 - acc: 0.7266 - val_loss: 1.3058 - val_acc: 0.8200\n",
      "Epoch 14/100\n",
      "300/300 [==============================] - 64s 213ms/step - loss: 1.4471 - acc: 0.7343 - val_loss: 1.5534 - val_acc: 0.7937\n",
      "Epoch 15/100\n",
      "300/300 [==============================] - 64s 214ms/step - loss: 1.4167 - acc: 0.7427 - val_loss: 1.2374 - val_acc: 0.8288\n",
      "Epoch 16/100\n",
      "300/300 [==============================] - 64s 214ms/step - loss: 1.3698 - acc: 0.7484 - val_loss: 0.5990 - val_acc: 0.8338\n",
      "Epoch 17/100\n",
      "300/300 [==============================] - 65s 217ms/step - loss: 1.3608 - acc: 0.7476 - val_loss: 1.3819 - val_acc: 0.8475\n",
      "Epoch 18/100\n",
      "300/300 [==============================] - 64s 214ms/step - loss: 1.3169 - acc: 0.7580 - val_loss: 0.6203 - val_acc: 0.8363\n",
      "Epoch 19/100\n",
      "300/300 [==============================] - 66s 221ms/step - loss: 1.2948 - acc: 0.7605 - val_loss: 0.6186 - val_acc: 0.8206\n",
      "Epoch 20/100\n",
      "300/300 [==============================] - 65s 217ms/step - loss: 1.2516 - acc: 0.7674 - val_loss: 0.6421 - val_acc: 0.8575\n",
      "Epoch 21/100\n",
      "300/300 [==============================] - 65s 215ms/step - loss: 1.2411 - acc: 0.7700 - val_loss: 0.8528 - val_acc: 0.8375\n",
      "Epoch 22/100\n",
      "300/300 [==============================] - 65s 217ms/step - loss: 1.2007 - acc: 0.7770 - val_loss: 1.0604 - val_acc: 0.8125\n",
      "Epoch 23/100\n",
      "300/300 [==============================] - 65s 218ms/step - loss: 1.1898 - acc: 0.7789 - val_loss: 0.8468 - val_acc: 0.8250\n",
      "Epoch 24/100\n",
      "300/300 [==============================] - 65s 217ms/step - loss: 1.1546 - acc: 0.7822 - val_loss: 0.5251 - val_acc: 0.8450\n",
      "Epoch 25/100\n",
      "300/300 [==============================] - 65s 216ms/step - loss: 1.1767 - acc: 0.7803 - val_loss: 1.0545 - val_acc: 0.8213\n",
      "Epoch 26/100\n",
      "300/300 [==============================] - 65s 217ms/step - loss: 1.1665 - acc: 0.7854 - val_loss: 1.5309 - val_acc: 0.8200\n",
      "Epoch 27/100\n",
      "300/300 [==============================] - 65s 218ms/step - loss: 1.0974 - acc: 0.7969 - val_loss: 1.2251 - val_acc: 0.8425\n",
      "Epoch 28/100\n",
      "300/300 [==============================] - 65s 217ms/step - loss: 1.0943 - acc: 0.7937 - val_loss: 1.1080 - val_acc: 0.8300\n",
      "Epoch 29/100\n",
      "300/300 [==============================] - 65s 218ms/step - loss: 1.0744 - acc: 0.8006 - val_loss: 1.4539 - val_acc: 0.8687\n",
      "Epoch 30/100\n",
      "300/300 [==============================] - 65s 216ms/step - loss: 1.0816 - acc: 0.7996 - val_loss: 1.6414 - val_acc: 0.8462\n",
      "Epoch 31/100\n",
      "300/300 [==============================] - 64s 215ms/step - loss: 1.0376 - acc: 0.8040 - val_loss: 3.2969 - val_acc: 0.8350\n",
      "Epoch 32/100\n",
      "300/300 [==============================] - 64s 214ms/step - loss: 1.0472 - acc: 0.8073 - val_loss: 1.3563 - val_acc: 0.8562\n",
      "Epoch 33/100\n",
      "300/300 [==============================] - 65s 215ms/step - loss: 1.0170 - acc: 0.8059 - val_loss: 0.7789 - val_acc: 0.8200\n",
      "Epoch 34/100\n",
      "300/300 [==============================] - 64s 215ms/step - loss: 1.0092 - acc: 0.8126 - val_loss: 0.4559 - val_acc: 0.8438\n",
      "Epoch 35/100\n",
      "300/300 [==============================] - 64s 214ms/step - loss: 0.9909 - acc: 0.8104 - val_loss: 2.2575 - val_acc: 0.8213\n",
      "Epoch 36/100\n",
      "300/300 [==============================] - 64s 213ms/step - loss: 0.9942 - acc: 0.8164 - val_loss: 0.5300 - val_acc: 0.8500\n",
      "Epoch 37/100\n",
      "300/300 [==============================] - 64s 214ms/step - loss: 0.9836 - acc: 0.8171 - val_loss: 1.2502 - val_acc: 0.8338\n",
      "Epoch 38/100\n",
      "300/300 [==============================] - 66s 220ms/step - loss: 0.9684 - acc: 0.8210 - val_loss: 2.5695 - val_acc: 0.8683\n",
      "Epoch 39/100\n",
      "300/300 [==============================] - 64s 215ms/step - loss: 0.9499 - acc: 0.8219 - val_loss: 0.2829 - val_acc: 0.8475\n",
      "Epoch 40/100\n",
      "300/300 [==============================] - 65s 216ms/step - loss: 0.9537 - acc: 0.8192 - val_loss: 1.6186 - val_acc: 0.8400\n",
      "Epoch 41/100\n",
      "300/300 [==============================] - 65s 217ms/step - loss: 0.9006 - acc: 0.8275 - val_loss: 0.6241 - val_acc: 0.8400\n",
      "Epoch 42/100\n",
      "300/300 [==============================] - 64s 215ms/step - loss: 0.8773 - acc: 0.8345 - val_loss: 0.6374 - val_acc: 0.8525\n",
      "Epoch 43/100\n",
      "300/300 [==============================] - 64s 213ms/step - loss: 0.8066 - acc: 0.8469 - val_loss: 1.5131 - val_acc: 0.8213\n",
      "Epoch 44/100\n",
      "300/300 [==============================] - 64s 214ms/step - loss: 0.7838 - acc: 0.8480 - val_loss: 3.1510 - val_acc: 0.8313\n",
      "Epoch 45/100\n",
      "300/300 [==============================] - 64s 214ms/step - loss: 0.7691 - acc: 0.8511 - val_loss: 0.9296 - val_acc: 0.8400\n",
      "Epoch 46/100\n",
      "300/300 [==============================] - 64s 214ms/step - loss: 0.7498 - acc: 0.8562 - val_loss: 1.8018 - val_acc: 0.8450\n",
      "Epoch 47/100\n",
      "300/300 [==============================] - 65s 216ms/step - loss: 0.7676 - acc: 0.8522 - val_loss: 0.3661 - val_acc: 0.8587\n",
      "Epoch 48/100\n",
      "300/300 [==============================] - 65s 217ms/step - loss: 0.7650 - acc: 0.8527 - val_loss: 0.6987 - val_acc: 0.8338\n",
      "Epoch 49/100\n",
      "300/300 [==============================] - 65s 218ms/step - loss: 0.7537 - acc: 0.8535 - val_loss: 1.2857 - val_acc: 0.8288\n",
      "Epoch 50/100\n",
      "300/300 [==============================] - 65s 218ms/step - loss: 0.7573 - acc: 0.8519 - val_loss: 3.0690 - val_acc: 0.8438\n",
      "Epoch 51/100\n",
      "300/300 [==============================] - 65s 216ms/step - loss: 0.7423 - acc: 0.8546 - val_loss: 3.2745 - val_acc: 0.8512\n",
      "Epoch 52/100\n",
      "300/300 [==============================] - 66s 219ms/step - loss: 0.7339 - acc: 0.8575 - val_loss: 1.2609 - val_acc: 0.8338\n",
      "Epoch 53/100\n",
      "300/300 [==============================] - 65s 217ms/step - loss: 0.7415 - acc: 0.8588 - val_loss: 1.4980 - val_acc: 0.8425\n",
      "Epoch 54/100\n",
      "300/300 [==============================] - 65s 217ms/step - loss: 0.7100 - acc: 0.8623 - val_loss: 0.8910 - val_acc: 0.8625\n",
      "Epoch 55/100\n",
      "300/300 [==============================] - 65s 218ms/step - loss: 0.7335 - acc: 0.8567 - val_loss: 0.7843 - val_acc: 0.8512\n",
      "Epoch 56/100\n",
      "300/300 [==============================] - 65s 218ms/step - loss: 0.7318 - acc: 0.8595 - val_loss: 1.1732 - val_acc: 0.8125\n",
      "Epoch 57/100\n",
      "300/300 [==============================] - 65s 218ms/step - loss: 0.7317 - acc: 0.8607 - val_loss: 3.0072 - val_acc: 0.8344\n",
      "Epoch 58/100\n",
      "300/300 [==============================] - 65s 217ms/step - loss: 0.7169 - acc: 0.8606 - val_loss: 1.7651 - val_acc: 0.8475\n",
      "Epoch 59/100\n",
      "300/300 [==============================] - 65s 217ms/step - loss: 0.7055 - acc: 0.8654 - val_loss: 0.2096 - val_acc: 0.8475\n",
      "Epoch 60/100\n",
      "300/300 [==============================] - 64s 212ms/step - loss: 0.7099 - acc: 0.8620 - val_loss: 1.9666 - val_acc: 0.8250\n",
      "Epoch 61/100\n",
      "300/300 [==============================] - 63s 212ms/step - loss: 0.6935 - acc: 0.8666 - val_loss: 1.6403 - val_acc: 0.8612\n",
      "Epoch 62/100\n",
      "300/300 [==============================] - 63s 212ms/step - loss: 0.6926 - acc: 0.8665 - val_loss: 1.8114 - val_acc: 0.8300\n",
      "Epoch 63/100\n",
      "300/300 [==============================] - 65s 217ms/step - loss: 0.6767 - acc: 0.8685 - val_loss: 0.3798 - val_acc: 0.8562\n",
      "Epoch 64/100\n",
      "300/300 [==============================] - 65s 216ms/step - loss: 0.6962 - acc: 0.8648 - val_loss: 0.5310 - val_acc: 0.8462\n",
      "Epoch 65/100\n",
      "300/300 [==============================] - 64s 214ms/step - loss: 0.6823 - acc: 0.8691 - val_loss: 2.9554 - val_acc: 0.8438\n",
      "Epoch 66/100\n",
      "300/300 [==============================] - 65s 215ms/step - loss: 0.6840 - acc: 0.8695 - val_loss: 2.9433 - val_acc: 0.8313\n",
      "Epoch 67/100\n",
      "300/300 [==============================] - 65s 215ms/step - loss: 0.6825 - acc: 0.8692 - val_loss: 0.3704 - val_acc: 0.8500\n",
      "Epoch 68/100\n",
      "300/300 [==============================] - 64s 214ms/step - loss: 0.6666 - acc: 0.8717 - val_loss: 0.9680 - val_acc: 0.8163\n",
      "Epoch 69/100\n",
      "300/300 [==============================] - 64s 215ms/step - loss: 0.6575 - acc: 0.8742 - val_loss: 1.1218 - val_acc: 0.8462\n",
      "Epoch 70/100\n",
      "300/300 [==============================] - 65s 216ms/step - loss: 0.6682 - acc: 0.8721 - val_loss: 0.4444 - val_acc: 0.8413\n",
      "Epoch 71/100\n",
      "300/300 [==============================] - 65s 216ms/step - loss: 0.6637 - acc: 0.8701 - val_loss: 2.4359 - val_acc: 0.8537\n",
      "Epoch 72/100\n",
      "300/300 [==============================] - 64s 214ms/step - loss: 0.6402 - acc: 0.8767 - val_loss: 0.4256 - val_acc: 0.8462\n",
      "Epoch 73/100\n",
      "300/300 [==============================] - 64s 213ms/step - loss: 0.6375 - acc: 0.8767 - val_loss: 0.2812 - val_acc: 0.8562\n",
      "Epoch 74/100\n",
      "300/300 [==============================] - 65s 215ms/step - loss: 0.6488 - acc: 0.8763 - val_loss: 1.6069 - val_acc: 0.8537\n",
      "Epoch 75/100\n",
      "300/300 [==============================] - 65s 216ms/step - loss: 0.6373 - acc: 0.8788 - val_loss: 2.8303 - val_acc: 0.8425\n",
      "Epoch 76/100\n",
      "300/300 [==============================] - 65s 215ms/step - loss: 0.6341 - acc: 0.8767 - val_loss: 0.7966 - val_acc: 0.8469\n",
      "Epoch 77/100\n",
      "300/300 [==============================] - 65s 216ms/step - loss: 0.6207 - acc: 0.8762 - val_loss: 2.5513 - val_acc: 0.8487\n",
      "Epoch 78/100\n",
      "300/300 [==============================] - 65s 215ms/step - loss: 0.6608 - acc: 0.8746 - val_loss: 9.3150 - val_acc: 0.8500\n",
      "Epoch 79/100\n",
      "300/300 [==============================] - 65s 216ms/step - loss: 0.6277 - acc: 0.8804 - val_loss: 0.3854 - val_acc: 0.8363\n",
      "Epoch 80/100\n",
      "300/300 [==============================] - 65s 217ms/step - loss: 0.6265 - acc: 0.8812 - val_loss: 1.7482 - val_acc: 0.8400\n",
      "Epoch 81/100\n",
      "300/300 [==============================] - 65s 215ms/step - loss: 0.6246 - acc: 0.8798 - val_loss: 0.4219 - val_acc: 0.8400\n",
      "Epoch 82/100\n",
      "300/300 [==============================] - 65s 216ms/step - loss: 0.6020 - acc: 0.8823 - val_loss: 0.0088 - val_acc: 0.8500\n",
      "Epoch 83/100\n",
      "300/300 [==============================] - 65s 217ms/step - loss: 0.6058 - acc: 0.8809 - val_loss: 0.2942 - val_acc: 0.8587\n",
      "Epoch 84/100\n",
      "300/300 [==============================] - 64s 215ms/step - loss: 0.5419 - acc: 0.8906 - val_loss: 6.5791 - val_acc: 0.8400\n",
      "Epoch 85/100\n",
      "300/300 [==============================] - 64s 213ms/step - loss: 0.4821 - acc: 0.9026 - val_loss: 2.1427 - val_acc: 0.8388\n",
      "Epoch 86/100\n",
      "300/300 [==============================] - 64s 214ms/step - loss: 0.4833 - acc: 0.9043 - val_loss: 1.4126 - val_acc: 0.8388\n",
      "Epoch 87/100\n",
      "300/300 [==============================] - 64s 215ms/step - loss: 0.4699 - acc: 0.9034 - val_loss: 1.0844 - val_acc: 0.8263\n",
      "Epoch 88/100\n",
      "300/300 [==============================] - 64s 214ms/step - loss: 0.4751 - acc: 0.9045 - val_loss: 4.8961 - val_acc: 0.8400\n",
      "Epoch 89/100\n",
      "300/300 [==============================] - 64s 215ms/step - loss: 0.4914 - acc: 0.9013 - val_loss: 4.6363 - val_acc: 0.8475\n",
      "Epoch 90/100\n",
      "300/300 [==============================] - 64s 215ms/step - loss: 0.4930 - acc: 0.8982 - val_loss: 1.3111 - val_acc: 0.8375\n",
      "Epoch 91/100\n",
      "300/300 [==============================] - 65s 217ms/step - loss: 0.4841 - acc: 0.9032 - val_loss: 1.6882 - val_acc: 0.8462\n",
      "Epoch 92/100\n",
      "300/300 [==============================] - 64s 214ms/step - loss: 0.4740 - acc: 0.9043 - val_loss: 1.6752 - val_acc: 0.8462\n",
      "Epoch 93/100\n",
      "300/300 [==============================] - 65s 217ms/step - loss: 0.4856 - acc: 0.9018 - val_loss: 0.8702 - val_acc: 0.8500\n",
      "Epoch 94/100\n",
      "300/300 [==============================] - 64s 214ms/step - loss: 0.4766 - acc: 0.9060 - val_loss: 4.8669 - val_acc: 0.8407\n",
      "Epoch 95/100\n",
      "300/300 [==============================] - 64s 213ms/step - loss: 0.4807 - acc: 0.9031 - val_loss: 2.2001 - val_acc: 0.8475\n",
      "Epoch 96/100\n",
      "300/300 [==============================] - 64s 213ms/step - loss: 0.4909 - acc: 0.9040 - val_loss: 3.3727 - val_acc: 0.8375\n",
      "Epoch 97/100\n",
      "300/300 [==============================] - 65s 217ms/step - loss: 0.4829 - acc: 0.9040 - val_loss: 0.8398 - val_acc: 0.8537\n",
      "Epoch 98/100\n",
      "300/300 [==============================] - 64s 214ms/step - loss: 0.4959 - acc: 0.9020 - val_loss: 2.8723 - val_acc: 0.8313\n",
      "Epoch 99/100\n",
      "300/300 [==============================] - 64s 213ms/step - loss: 0.4614 - acc: 0.9070 - val_loss: 4.3424 - val_acc: 0.8213\n",
      "Epoch 100/100\n",
      "300/300 [==============================] - 65s 215ms/step - loss: 0.4927 - acc: 0.9013 - val_loss: 2.3749 - val_acc: 0.8325\n"
     ]
    }
   ],
   "source": [
    "model.compile(loss='categorical_crossentropy',\n",
    "optimizer=optimizers.RMSprop(lr=1e-4 ),\n",
    "metrics=['acc'])\n",
    "\n",
    "callbacks = [\n",
    "             EarlyStoppingByValAcc(monitor='val_acc', value=0.95, verbose=1),\n",
    "            ]\n",
    "\n",
    "history = model.fit_generator(train_generator, steps_per_epoch=300, epochs=100, validation_data=validation_generator, validation_steps=40, callbacks=callbacks)"
   ]
  },
  {
   "cell_type": "code",
   "execution_count": null,
   "metadata": {},
   "outputs": [],
   "source": [
    "#primer entrenamiento con optimizador peqieño\n",
    "model.compile(loss='categorical_crossentropy',\n",
    "optimizer=optimizers.RMSprop(lr=3e-4 ),\n",
    "metrics=['acc'])\n",
    "\n",
    "callbacks = [\n",
    "             EarlyStoppingByValAcc(monitor='val_acc', value=0.9507, verbose=1),\n",
    "            ]\n",
    "\n",
    "history = model.fit_generator(train_generator, steps_per_epoch=200, epochs=200, validation_data=validation_generator, validation_steps=40, callbacks=callbacks)"
   ]
  },
  {
   "cell_type": "code",
   "execution_count": 10,
   "metadata": {},
   "outputs": [
    {
     "data": {
      "image/png": "[encoded data removed]",
      "text/plain": [
       "<Figure size 432x288 with 1 Axes>"
      ]
     },
     "metadata": {
      "needs_background": "light"
     },
     "output_type": "display_data"
    },
    {
     "data": {
      "image/png": "[encoded data removed]",
      "text/plain": [
       "<Figure size 432x288 with 1 Axes>"
      ]
     },
     "metadata": {
      "needs_background": "light"
     },
     "output_type": "display_data"
    }
   ],
   "source": [
    "#graficas de acc y loss, en training y validation\n",
    "\n",
    "acc = history.history['acc']\n",
    "val_acc = history.history['val_acc']\n",
    "loss = history.history['loss']\n",
    "val_loss = history.history['val_loss']\n",
    "epochs = range(1, len(acc) + 1)\n",
    "plt.plot(epochs, acc, 'bo', label='Training acc')\n",
    "plt.plot(epochs, val_acc, 'b', label='Validation acc')\n",
    "plt.title('Training and validation accuracy')\n",
    "plt.legend()\n",
    "plt.figure()\n",
    "plt.plot(epochs, loss, 'bo', label='Training loss')\n",
    "plt.plot(epochs, val_loss, 'b', label='Validation loss')\n",
    "plt.title('Training and validation loss')\n",
    "plt.legend()\n",
    "plt.show()"
   ]
  },
  {
   "cell_type": "code",
   "execution_count": 17,
   "metadata": {},
   "outputs": [
    {
     "name": "stdout",
     "output_type": "stream",
     "text": [
      "[0.382080078125, 0.97900390625]\n"
     ]
    }
   ],
   "source": [
    "#testeando el performance\n",
    "results = model.evaluate_generator(test_generator, 1000)\n",
    "print(results)"
   ]
  },
  {
   "cell_type": "code",
   "execution_count": 11,
   "metadata": {},
   "outputs": [],
   "source": [
    "#salvando el modelo\n",
    "model.save('Top500_t9790.h5')"
   ]
  },
  {
   "cell_type": "code",
   "execution_count": null,
   "metadata": {},
   "outputs": [],
   "source": []
  }
 ],
 "metadata": {
  "kernelspec": {
   "display_name": "Python 3",
   "language": "python",
   "name": "python3"
  },
  "language_info": {
   "codemirror_mode": {
    "name": "ipython",
    "version": 3
   },
   "file_extension": ".py",
   "mimetype": "text/x-python",
   "name": "python",
   "nbconvert_exporter": "python",
   "pygments_lexer": "ipython3",
   "version": "3.6.10"
  }
 },
 "nbformat": 4,
 "nbformat_minor": 4
}
