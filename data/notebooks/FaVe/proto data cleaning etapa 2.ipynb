{
 "cells": [
  {
   "cell_type": "code",
   "execution_count": 1,
   "metadata": {},
   "outputs": [
    {
     "name": "stderr",
     "output_type": "stream",
     "text": [
      "/home/workstation/anaconda3/envs/tf-gpu/lib/python3.6/site-packages/tensorflow/python/framework/dtypes.py:516: FutureWarning: Passing (type, 1) or '1type' as a synonym of type is deprecated; in a future version of numpy, it will be understood as (type, (1,)) / '(1,)type'.\n",
      "  _np_qint8 = np.dtype([(\"qint8\", np.int8, 1)])\n",
      "/home/workstation/anaconda3/envs/tf-gpu/lib/python3.6/site-packages/tensorflow/python/framework/dtypes.py:517: FutureWarning: Passing (type, 1) or '1type' as a synonym of type is deprecated; in a future version of numpy, it will be understood as (type, (1,)) / '(1,)type'.\n",
      "  _np_quint8 = np.dtype([(\"quint8\", np.uint8, 1)])\n",
      "/home/workstation/anaconda3/envs/tf-gpu/lib/python3.6/site-packages/tensorflow/python/framework/dtypes.py:518: FutureWarning: Passing (type, 1) or '1type' as a synonym of type is deprecated; in a future version of numpy, it will be understood as (type, (1,)) / '(1,)type'.\n",
      "  _np_qint16 = np.dtype([(\"qint16\", np.int16, 1)])\n",
      "/home/workstation/anaconda3/envs/tf-gpu/lib/python3.6/site-packages/tensorflow/python/framework/dtypes.py:519: FutureWarning: Passing (type, 1) or '1type' as a synonym of type is deprecated; in a future version of numpy, it will be understood as (type, (1,)) / '(1,)type'.\n",
      "  _np_quint16 = np.dtype([(\"quint16\", np.uint16, 1)])\n",
      "/home/workstation/anaconda3/envs/tf-gpu/lib/python3.6/site-packages/tensorflow/python/framework/dtypes.py:520: FutureWarning: Passing (type, 1) or '1type' as a synonym of type is deprecated; in a future version of numpy, it will be understood as (type, (1,)) / '(1,)type'.\n",
      "  _np_qint32 = np.dtype([(\"qint32\", np.int32, 1)])\n",
      "/home/workstation/anaconda3/envs/tf-gpu/lib/python3.6/site-packages/tensorflow/python/framework/dtypes.py:525: FutureWarning: Passing (type, 1) or '1type' as a synonym of type is deprecated; in a future version of numpy, it will be understood as (type, (1,)) / '(1,)type'.\n",
      "  np_resource = np.dtype([(\"resource\", np.ubyte, 1)])\n",
      "/home/workstation/anaconda3/envs/tf-gpu/lib/python3.6/site-packages/tensorboard/compat/tensorflow_stub/dtypes.py:541: FutureWarning: Passing (type, 1) or '1type' as a synonym of type is deprecated; in a future version of numpy, it will be understood as (type, (1,)) / '(1,)type'.\n",
      "  _np_qint8 = np.dtype([(\"qint8\", np.int8, 1)])\n",
      "/home/workstation/anaconda3/envs/tf-gpu/lib/python3.6/site-packages/tensorboard/compat/tensorflow_stub/dtypes.py:542: FutureWarning: Passing (type, 1) or '1type' as a synonym of type is deprecated; in a future version of numpy, it will be understood as (type, (1,)) / '(1,)type'.\n",
      "  _np_quint8 = np.dtype([(\"quint8\", np.uint8, 1)])\n",
      "/home/workstation/anaconda3/envs/tf-gpu/lib/python3.6/site-packages/tensorboard/compat/tensorflow_stub/dtypes.py:543: FutureWarning: Passing (type, 1) or '1type' as a synonym of type is deprecated; in a future version of numpy, it will be understood as (type, (1,)) / '(1,)type'.\n",
      "  _np_qint16 = np.dtype([(\"qint16\", np.int16, 1)])\n",
      "/home/workstation/anaconda3/envs/tf-gpu/lib/python3.6/site-packages/tensorboard/compat/tensorflow_stub/dtypes.py:544: FutureWarning: Passing (type, 1) or '1type' as a synonym of type is deprecated; in a future version of numpy, it will be understood as (type, (1,)) / '(1,)type'.\n",
      "  _np_quint16 = np.dtype([(\"quint16\", np.uint16, 1)])\n",
      "/home/workstation/anaconda3/envs/tf-gpu/lib/python3.6/site-packages/tensorboard/compat/tensorflow_stub/dtypes.py:545: FutureWarning: Passing (type, 1) or '1type' as a synonym of type is deprecated; in a future version of numpy, it will be understood as (type, (1,)) / '(1,)type'.\n",
      "  _np_qint32 = np.dtype([(\"qint32\", np.int32, 1)])\n",
      "/home/workstation/anaconda3/envs/tf-gpu/lib/python3.6/site-packages/tensorboard/compat/tensorflow_stub/dtypes.py:550: FutureWarning: Passing (type, 1) or '1type' as a synonym of type is deprecated; in a future version of numpy, it will be understood as (type, (1,)) / '(1,)type'.\n",
      "  np_resource = np.dtype([(\"resource\", np.ubyte, 1)])\n",
      "Using TensorFlow backend.\n"
     ]
    }
   ],
   "source": [
    "#importar librerias\n",
    "\n",
    "import numpy as np\n",
    "import pandas as pd\n",
    "from shutil import copyfile\n",
    "from tensorflow.compat.v1 import ConfigProto, InteractiveSession\n",
    "import split_folders\n",
    "from PIL import ImageFile, Image\n",
    "import matplotlib.pyplot as plt\n",
    "from matplotlib import pyplot\n",
    "from matplotlib.pyplot import figure\n",
    "import matplotlib.image as mpimg\n",
    "from matplotlib.patches import Circle, Rectangle\n",
    "import os\n",
    "from os.path import isfile, join\n",
    "from os import listdir\n",
    "from cv2 import imread, imwrite, imshow, waitKey, destroyAllWindows, CascadeClassifier, rectangle, cvtColor, COLOR_RGB2BGR\n",
    "from numpy import asarray\n",
    "from mtcnn.mtcnn import MTCNN\n",
    "from fuzzywuzzy import fuzz\n",
    "from IPython.display import clear_output\n",
    "import sys\n",
    "import ipywidgets as widgets\n",
    "from IPython.display import display\n",
    "import random\n",
    "from scipy import ndarray\n",
    "# image processing library\n",
    "import skimage as sk\n",
    "from skimage import transform, util, io, img_as_uint\n",
    "\n",
    "config = ConfigProto()\n",
    "config.gpu_options.allow_growth = True\n",
    "session = InteractiveSession(config=config)"
   ]
  },
  {
   "cell_type": "code",
   "execution_count": 2,
   "metadata": {},
   "outputs": [],
   "source": [
    "#setear carpetas\n",
    "DATA1 = \"/home/workstation/Desktop/fv/data/pics/pic1/\"\n",
    "DATA2 = \"/home/workstation/Desktop/fv/data/pics/pic2/\"\n",
    "#TOP_DATA = \"/home/workstation/Desktop/fv/topwanted/\"\n",
    "ALL_DATA = \"/home/workstation/Desktop/fv/allwanted/\"\n",
    "LOWCOUNT = \"/home/workstation/Desktop/fv/lowcount/\"\n",
    "FACES = '/home/workstation/Desktop/fv/faces/'\n",
    "FIT_DATA =\"/home/workstation/Desktop/fv/fit/\"\n",
    "val_dir = \"/home/workstation/Desktop/fv/fit/val/\"\n",
    "train_dir = \"/home/workstation/Desktop/fv/fit/train/\"\n",
    "test_dir = \"/home/workstation/Desktop/fv/fit/test/\"\n",
    "TOP_DATA = \"/home/workstation/Desktop/fv/spread/\"\n",
    "carpetas = [ DATA1, DATA2, TOP_DATA, ALL_DATA, LOWCOUNT, FACES, FIT_DATA,val_dir ,train_dir ,test_dir]\n",
    "\n",
    "for carpeta in carpetas:\n",
    "    if not os.path.exists(carpeta):\n",
    "        os.mkdir(carpeta)\n",
    "        \n",
    "predict = '/home/workstation/Desktop/fv/perdictions/preds/'\n",
    "crops = '/home/workstation/Desktop/fv/predictions/crops/'"
   ]
  },
  {
   "cell_type": "code",
   "execution_count": 3,
   "metadata": {},
   "outputs": [
    {
     "name": "stderr",
     "output_type": "stream",
     "text": [
      "/home/workstation/.local/lib/python3.6/site-packages/numpy/lib/arraysetops.py:569: FutureWarning: elementwise comparison failed; returning scalar instead, but in the future will perform elementwise comparison\n",
      "  mask |= (ar1 == a)\n"
     ]
    },
    {
     "name": "stdout",
     "output_type": "stream",
     "text": [
      "204229\n"
     ]
    }
   ],
   "source": [
    "#creamos una lista de nombres\n",
    "df_faces = pd.read_csv(\"/home/workstation/Desktop/fv/data/DB_cleaned.csv\",encoding=\"utf-8\", index_col=0)\n",
    "df_faces = pd.DataFrame(df_faces)\n",
    "mask = (df_faces['fecha_hora_registro'] > '2015-01-01 01:39:44') & (df_faces['fecha_hora_registro'] <= '2020-03-30 10:39:44')\n",
    "df_faces = df_faces.loc[mask]\n",
    "df_faces_nombre = df_faces.groupby([\"nombre\"])\n",
    "max_names2 = len(df_faces_nombre)\n",
    "print(max_names2)"
   ]
  },
  {
   "cell_type": "code",
   "execution_count": 4,
   "metadata": {},
   "outputs": [
    {
     "data": {
      "text/plain": [
       "Index(['CESAR OMAR DELGADO SILVA ', 'JOSE GUADALUPE NEGRETE CAMACHO',\n",
       "       'ROGELIO MORENO LOPEZ', 'JOSE GUADALUPE GONZALEZ MENDEZ',\n",
       "       'FRANCISCO JAVIER MUÑOZ LOPEZ', 'ROBERTO CARLOS ROMERO NEGRETE',\n",
       "       'JOSE RICARDO  ALVARADO FLORES ', 'ULISES MIGUEL MANRIQUEZ TORRES',\n",
       "       'DANIEL OLVERA MUÑOZ', 'JUAN ANTONIO JUAREZ MADRIGAL',\n",
       "       ...\n",
       "       'LUIS ALEJANDRO REYES BARRIENTOS', 'JOSUE ALFREDO GONZALEZ RODRIGUEZ',\n",
       "       'FRANCISCO JAVIER X ALVIZO', 'JARED SEBASTIAN LEDEZMA TORRES',\n",
       "       'MIGUEL ALEJANDRO CABELLO SANCHEZ', 'ROQUE RUBIO HERNANDEZ',\n",
       "       'JESUS MAURICIO VARGAS CRUZ', 'CHRISTIAN ISAAC RIVERA ESCAREÑO',\n",
       "       'JOSE ESTEBAN CARMONA ALVAREZ', 'JESUS CONTRERAS PUGA'],\n",
       "      dtype='object', name='nombre', length=20000)"
      ]
     },
     "execution_count": 4,
     "metadata": {},
     "output_type": "execute_result"
    }
   ],
   "source": [
    "top_names = df_faces_nombre.count().sort_values(by=['foto1'], ascending=False).iloc[0:20000][\"foto1\"].index\n",
    "all_names = df_faces_nombre.count().sort_values(by=['foto1'], ascending=False).iloc[0:max_names2][\"foto1\"].index\n",
    "top_names"
   ]
  },
  {
   "cell_type": "code",
   "execution_count": 5,
   "metadata": {},
   "outputs": [],
   "source": [
    "df_faces = pd.read_csv(\"/home/workstation/Desktop/fv/data/DB_cleaned.csv\",encoding=\"utf-8\", index_col=0)\n",
    "df_faces = pd.DataFrame(df_faces)\n",
    "df_faces_nombre = df_faces.groupby([\"nombre\"])\n",
    "max_names2 = len(df_faces_nombre)\n"
   ]
  },
  {
   "cell_type": "code",
   "execution_count": 6,
   "metadata": {},
   "outputs": [
    {
     "data": {
      "application/vnd.jupyter.widget-view+json": {
       "model_id": "1ce479c65a014dfcbd68329ecc78893b",
       "version_major": 2,
       "version_minor": 0
      },
      "text/plain": [
       "IntProgress(value=0, max=20000)"
      ]
     },
     "metadata": {},
     "output_type": "display_data"
    }
   ],
   "source": [
    "#crear carpeta por persona y copiar fotos de cada persona\n",
    "\n",
    "final_val = len(top_names)\n",
    "progress = widgets.IntProgress(value=0, min=0, max=final_val)\n",
    "display(progress)\n",
    "for name in top_names:\n",
    "    fotos1 = df_faces_nombre.get_group(name)[\"foto1\"]\n",
    "    fotos1 = pd.Series.to_frame(fotos1)\n",
    "    fotos2 =  df_faces_nombre.get_group(name)[\"foto2\"]\n",
    "    fotos2 = pd.Series.to_frame(fotos2)\n",
    "    progress.value +=1\n",
    "    try:\n",
    "        os.mkdir(TOP_DATA + name)   \n",
    "        for foto in fotos1['foto1']:\n",
    "            if type(foto) == str and os.path.exists(DATA1+foto):\n",
    "            \n",
    "                try:\n",
    "                    copyfile(DATA1+foto, TOP_DATA + name + '/' + foto)\n",
    "                except:\n",
    "                    print(foto)\n",
    "        for foto in fotos2['foto2']:\n",
    "            if type(foto) == str and os.path.exists(DATA2+foto):\n",
    "                try:\n",
    "                    copyfile(DATA2+foto, TOP_DATA + name + '/' + foto)\n",
    "                except:\n",
    "                    print(foto)\n",
    "    except:\n",
    "        pass\n",
    "#aqui ponemos otra barra de progreso"
   ]
  },
  {
   "cell_type": "code",
   "execution_count": 7,
   "metadata": {},
   "outputs": [
    {
     "data": {
      "application/vnd.jupyter.widget-view+json": {
       "model_id": "d7040ca6a7254edaa348f741d75422ed",
       "version_major": 2,
       "version_minor": 0
      },
      "text/plain": [
       "IntProgress(value=0, max=95159)"
      ]
     },
     "metadata": {},
     "output_type": "display_data"
    },
    {
     "data": {
      "text/plain": [
       "0"
      ]
     },
     "metadata": {},
     "output_type": "display_data"
    }
   ],
   "source": [
    "#crear carpeta por persona y copiar fotos de cada persona/// se nececita esto??\n",
    "final_val = len(all_names)\n",
    "progress = widgets.IntProgress(value=0, min=0, max=final_val)\n",
    "display(progress, progress.value)\n",
    "for name in all_names:\n",
    "    progress.value +=1\n",
    "    fotos1 = df_faces_nombre.get_group(name)[\"foto1\"]\n",
    "    fotos1 = pd.Series.to_frame(fotos1)\n",
    "    fotos2 =  df_faces_nombre.get_group(name)[\"foto2\"]\n",
    "    fotos2 = pd.Series.to_frame(fotos2)\n",
    "    try:\n",
    "        os.mkdir(ALL_DATA + name)   \n",
    "        for foto in fotos1['foto1']:\n",
    "            if type(foto) == str and os.path.exists(DATA1+foto):\n",
    "            \n",
    "                try:\n",
    "                    copyfile(DATA1+foto, ALL_DATA + name + '/' + foto)\n",
    "                except:\n",
    "                    print(foto)\n",
    "        for foto in fotos2['foto2']:\n",
    "            if type(foto) == str and os.path.exists(DATA2+foto):\n",
    "                try:\n",
    "                    copyfile(DATA2+foto, ALL_DATA + name + '/' + foto)\n",
    "                except:\n",
    "                    print(foto)\n",
    "    except:\n",
    "        pass\n",
    "    #creo que se puede hacer mas rapido quitando los dos for y dejando solo 1"
   ]
  },
  {
   "cell_type": "code",
   "execution_count": null,
   "metadata": {},
   "outputs": [],
   "source": []
  }
 ],
 "metadata": {
  "kernelspec": {
   "display_name": "Python 3",
   "language": "python",
   "name": "python3"
  },
  "language_info": {
   "codemirror_mode": {
    "name": "ipython",
    "version": 3
   },
   "file_extension": ".py",
   "mimetype": "text/x-python",
   "name": "python",
   "nbconvert_exporter": "python",
   "pygments_lexer": "ipython3",
   "version": "3.6.12"
  }
 },
 "nbformat": 4,
 "nbformat_minor": 4
}
